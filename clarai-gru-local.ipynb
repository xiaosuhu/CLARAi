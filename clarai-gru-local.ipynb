{
 "cells": [
  {
   "cell_type": "code",
   "execution_count": 1,
   "id": "51b71428",
   "metadata": {
    "execution": {
     "iopub.execute_input": "2024-09-25T16:12:30.294275Z",
     "iopub.status.busy": "2024-09-25T16:12:30.293103Z",
     "iopub.status.idle": "2024-09-25T16:12:35.967249Z",
     "shell.execute_reply": "2024-09-25T16:12:35.966367Z"
    },
    "papermill": {
     "duration": 5.684351,
     "end_time": "2024-09-25T16:12:35.969680",
     "exception": false,
     "start_time": "2024-09-25T16:12:30.285329",
     "status": "completed"
    },
    "tags": []
   },
   "outputs": [],
   "source": [
    "\n",
    "from sklearn.model_selection import train_test_split\n",
    "from sklearn.preprocessing import StandardScaler\n",
    "from sklearn.utils.class_weight import compute_class_weight\n",
    "from sklearn.metrics import confusion_matrix\n",
    "from sklearn.metrics import roc_curve, auc\n",
    "\n",
    "import torch\n",
    "import torch.nn as nn\n",
    "import torch.optim as optim\n",
    "import pandas as pd\n",
    "import numpy as np\n",
    "import matplotlib.pyplot as plt\n",
    "import seaborn as sns\n",
    "\n",
    "import glob"
   ]
  },
  {
   "cell_type": "code",
   "execution_count": 2,
   "id": "3583e53a",
   "metadata": {
    "execution": {
     "iopub.execute_input": "2024-09-25T16:12:35.982795Z",
     "iopub.status.busy": "2024-09-25T16:12:35.982044Z",
     "iopub.status.idle": "2024-09-25T16:12:36.070214Z",
     "shell.execute_reply": "2024-09-25T16:12:36.069104Z"
    },
    "papermill": {
     "duration": 0.097378,
     "end_time": "2024-09-25T16:12:36.073070",
     "exception": false,
     "start_time": "2024-09-25T16:12:35.975692",
     "status": "completed"
    },
    "tags": []
   },
   "outputs": [
    {
     "name": "stdout",
     "output_type": "stream",
     "text": [
      "cuda\n"
     ]
    }
   ],
   "source": [
    "# device = torch.device(\"mps\")\n",
    "device = torch.device(\"cuda\" if torch.cuda.is_available() else \"cpu\")\n",
    "print(device)"
   ]
  },
  {
   "cell_type": "code",
   "execution_count": 3,
   "id": "7fee0e5b",
   "metadata": {
    "execution": {
     "iopub.execute_input": "2024-09-25T16:12:36.086774Z",
     "iopub.status.busy": "2024-09-25T16:12:36.086332Z",
     "iopub.status.idle": "2024-09-25T16:12:36.094881Z",
     "shell.execute_reply": "2024-09-25T16:12:36.093846Z"
    },
    "papermill": {
     "duration": 0.018087,
     "end_time": "2024-09-25T16:12:36.097314",
     "exception": false,
     "start_time": "2024-09-25T16:12:36.079227",
     "status": "completed"
    },
    "tags": []
   },
   "outputs": [
    {
     "data": {
      "text/plain": [
       "'# Step 1: Get a list of all CSV file paths in the directory\\ndata_path = glob.glob(\"D:\\\\PythonProjs\\\\CLARAi\\\\Data\\\\*.csv\")  # Modify with your directory path\\nlabel_path = glob.glob(\"D:\\\\PythonProjs\\\\CLARAi\\\\Label\\\\*.csv\")\\n\\n# Step 2: Read each CSV file and store in a list of DataFrames\\ndatadfs = [pd.read_csv(file) for file in data_path]\\nlabeldfs = [pd.read_csv(file) for file in label_path]\\n\\n# Step 3: Concatenate all DataFrames into one\\nfinal_data_df = pd.concat(datadfs, ignore_index=True)\\nfinal_label_df = pd.concat(labeldfs, ignore_index=True)'"
      ]
     },
     "execution_count": 3,
     "metadata": {},
     "output_type": "execute_result"
    }
   ],
   "source": [
    "\"\"\"# Step 1: Get a list of all CSV file paths in the directory\n",
    "data_path = glob.glob(\"D:\\PythonProjs\\CLARAi\\Data\\*.csv\")  # Modify with your directory path\n",
    "label_path = glob.glob(\"D:\\PythonProjs\\CLARAi\\Label\\*.csv\")\n",
    "\n",
    "# Step 2: Read each CSV file and store in a list of DataFrames\n",
    "datadfs = [pd.read_csv(file) for file in data_path]\n",
    "labeldfs = [pd.read_csv(file) for file in label_path]\n",
    "\n",
    "# Step 3: Concatenate all DataFrames into one\n",
    "final_data_df = pd.concat(datadfs, ignore_index=True)\n",
    "final_label_df = pd.concat(labeldfs, ignore_index=True)\"\"\""
   ]
  },
  {
   "cell_type": "code",
   "execution_count": 4,
   "id": "fa1c0937",
   "metadata": {
    "execution": {
     "iopub.execute_input": "2024-09-25T16:12:36.110155Z",
     "iopub.status.busy": "2024-09-25T16:12:36.109784Z",
     "iopub.status.idle": "2024-09-25T16:12:36.119926Z",
     "shell.execute_reply": "2024-09-25T16:12:36.119079Z"
    },
    "papermill": {
     "duration": 0.019239,
     "end_time": "2024-09-25T16:12:36.122208",
     "exception": false,
     "start_time": "2024-09-25T16:12:36.102969",
     "status": "completed"
    },
    "tags": []
   },
   "outputs": [],
   "source": [
    "def data_gen(data_path, label_path):\n",
    "    final_data_df = pd.read_csv(data_path)\n",
    "    final_label_df = pd.read_csv(label_path)\n",
    "\n",
    "    train_labels_flat = final_label_df.values.flatten()\n",
    "    \n",
    "    # Compute class weights (inverse of class frequencies)\n",
    "    class_weights = compute_class_weight(class_weight='balanced', classes=np.unique(train_labels_flat), y=train_labels_flat)\n",
    "    class_weights = torch.tensor(class_weights, dtype=torch.float32)\n",
    "\n",
    "    # Parameters\n",
    "    sequence_length = 256  # Length of each subsequence\n",
    "    num_subsequences = 100  # Number of subsequences to extract\n",
    "\n",
    "    # Get possible starting indices, ensuring there's enough space for a full subsequence\n",
    "    possible_starts = np.arange(0, len(final_data_df) - sequence_length + 1)\n",
    "    np.random.shuffle(possible_starts)\n",
    "\n",
    "    # Select the first `num_subsequences` starting indices\n",
    "    selected_starts = possible_starts[:num_subsequences]\n",
    "\n",
    "    # Create a list to hold the subsequences\n",
    "    subsequences = [final_data_df.iloc[start:start + sequence_length].values for start in selected_starts]\n",
    "    sublabels = [final_label_df.iloc[start:start + sequence_length].values for start in selected_starts]\n",
    "\n",
    "    # Convert subsequences list to a NumPy array\n",
    "    subsequences_array = np.array(subsequences)\n",
    "    sublabels_array = np.array(sublabels)\n",
    "\n",
    "    # subsequences_array will have shape (num_subsequences, sequence_length, num_channels)\n",
    "    # print(subsequences_array.shape)  # Should print (100, 100, 36)\n",
    "    # print(sublabels_array.shape)\n",
    "\n",
    "    return torch.from_numpy(subsequences_array), torch.from_numpy(sublabels_array), class_weights\n"
   ]
  },
  {
   "cell_type": "code",
   "execution_count": 5,
   "id": "91a4560f",
   "metadata": {
    "execution": {
     "iopub.execute_input": "2024-09-25T16:12:36.135204Z",
     "iopub.status.busy": "2024-09-25T16:12:36.134405Z",
     "iopub.status.idle": "2024-09-25T16:12:36.143236Z",
     "shell.execute_reply": "2024-09-25T16:12:36.142231Z"
    },
    "papermill": {
     "duration": 0.017615,
     "end_time": "2024-09-25T16:12:36.145333",
     "exception": false,
     "start_time": "2024-09-25T16:12:36.127718",
     "status": "completed"
    },
    "tags": []
   },
   "outputs": [],
   "source": [
    "\n",
    "# Sample time series data with shape (batch_size, sequence_length, num_features)\n",
    "# neuroimaging_data: Time series data from multiple neuroimaging channels\n",
    "# labels: Binary labels (0 = no pain, 1 = pain) for each time step\n",
    "# Assume neuroimaging_data is a numpy array of shape (num_samples, sequence_length, num_channels)\n",
    "# labels is a numpy array of shape (num_samples, sequence_length)\n",
    "\n",
    "class GRUClassifier(nn.Module):\n",
    "    def __init__(self, input_size, hidden_size, output_size, num_layers=1):\n",
    "        super(GRUClassifier, self).__init__()\n",
    "        self.hidden_size = hidden_size\n",
    "        self.num_layers = num_layers\n",
    "        self.gru = nn.GRU(input_size, hidden_size, num_layers, batch_first=True)\n",
    "        self.fc = nn.Linear(hidden_size, output_size)\n",
    "        self.batch_norm = nn.BatchNorm1d(hidden_size)  # Correct Batch Normalization\n",
    "        self.sigmoid = nn.Sigmoid()\n",
    "\n",
    "    def forward(self, x):\n",
    "        h0 = torch.zeros(self.num_layers, x.size(0), self.hidden_size).to(x.device)\n",
    "        \n",
    "        # GRU forward pass\n",
    "        out, _ = self.gru(x, h0)\n",
    "        \n",
    "        # Apply batch normalization\n",
    "        # Permute to (batch_size, hidden_size, sequence_length) for batch norm\n",
    "        out = out.permute(0, 2, 1)\n",
    "        out = self.batch_norm(out)\n",
    "        \n",
    "        # Permute back to (batch_size, sequence_length, hidden_size)\n",
    "        out = out.permute(0, 2, 1)\n",
    "        \n",
    "        # Apply the linear layer to each time step\n",
    "        out = self.fc(out)\n",
    "        \n",
    "        return self.sigmoid(out)\n"
   ]
  },
  {
   "cell_type": "code",
   "execution_count": 10,
   "id": "18c9a2b9",
   "metadata": {
    "execution": {
     "iopub.execute_input": "2024-09-25T16:12:36.158266Z",
     "iopub.status.busy": "2024-09-25T16:12:36.157856Z",
     "iopub.status.idle": "2024-09-25T16:12:36.175484Z",
     "shell.execute_reply": "2024-09-25T16:12:36.174676Z"
    },
    "papermill": {
     "duration": 0.026853,
     "end_time": "2024-09-25T16:12:36.177826",
     "exception": false,
     "start_time": "2024-09-25T16:12:36.150973",
     "status": "completed"
    },
    "tags": []
   },
   "outputs": [],
   "source": [
    "data_path = glob.glob(\"D:\\PythonProjs\\CLARAi\\Data_norm\\*.csv\")  # Modify with your directory path\n",
    "label_path = glob.glob(\"D:\\PythonProjs\\CLARAi\\Label\\*.csv\")\n",
    "\n",
    "# data_path = glob.glob(\"/home/frank/Documents/CLARAi/Data/*.csv\")  # Modify with your directory path\n",
    "# label_path = glob.glob(\"/home/frank/Documents/CLARAi/Label/*.csv\")\n",
    "\n",
    "# data_path = glob.glob(\"/Users/xiaosuhu/Documents/Python/CLARAi/Data/*.csv\")  # Modify with your directory path\n",
    "# label_path = glob.glob(\"/Users/xiaosuhu/Documents/Python/CLARAi/Data/*.csv\")\n",
    "\n",
    "# data_path = glob.glob(\"/kaggle/input/clarai/CLARAi/Data_norm/*.csv\")  # Modify with your directory path\n",
    "# label_path = glob.glob(\"/kaggle/input/clarai/CLARAi/Label/*.csv\")\n",
    "\n",
    "# Sort the lists\n",
    "data_path = sorted(data_path)\n",
    "label_path = sorted(label_path)\n"
   ]
  },
  {
   "cell_type": "code",
   "execution_count": 11,
   "id": "2a3cceec",
   "metadata": {
    "execution": {
     "iopub.execute_input": "2024-09-25T16:12:36.190661Z",
     "iopub.status.busy": "2024-09-25T16:12:36.190294Z",
     "iopub.status.idle": "2024-09-25T16:12:36.208331Z",
     "shell.execute_reply": "2024-09-25T16:12:36.207501Z"
    },
    "papermill": {
     "duration": 0.026887,
     "end_time": "2024-09-25T16:12:36.210480",
     "exception": false,
     "start_time": "2024-09-25T16:12:36.183593",
     "status": "completed"
    },
    "tags": []
   },
   "outputs": [],
   "source": [
    "\n",
    "# data_path = \"D:\\PythonProjs\\CLARAi\\Data\\data1.csv\"\n",
    "# label_path = \"D:\\PythonProjs\\CLARAi\\Label\\label1.csv\"\n",
    "neuroimaging_data = torch.empty(0,256,36)\n",
    "labels = torch.empty(0,256,1)\n",
    "class_weights = torch.Tensor([0., 0.])"
   ]
  },
  {
   "cell_type": "code",
   "execution_count": 12,
   "id": "2a8bf2d0",
   "metadata": {
    "execution": {
     "iopub.execute_input": "2024-09-25T16:12:36.223373Z",
     "iopub.status.busy": "2024-09-25T16:12:36.222469Z",
     "iopub.status.idle": "2024-09-25T16:12:37.252997Z",
     "shell.execute_reply": "2024-09-25T16:12:37.251810Z"
    },
    "papermill": {
     "duration": 1.039757,
     "end_time": "2024-09-25T16:12:37.255952",
     "exception": false,
     "start_time": "2024-09-25T16:12:36.216195",
     "status": "completed"
    },
    "tags": []
   },
   "outputs": [
    {
     "name": "stdout",
     "output_type": "stream",
     "text": [
      "datapath: D:\\PythonProjs\\CLARAi\\Data_norm\\data1.csv\n",
      "labelpath: D:\\PythonProjs\\CLARAi\\Label\\label1.csv\n",
      "Data shape: torch.Size([100, 256, 36]), Label shape: torch.Size([100, 256, 1]), Weight shape: torch.Size([2])\n",
      "datapath: D:\\PythonProjs\\CLARAi\\Data_norm\\data10.csv\n",
      "labelpath: D:\\PythonProjs\\CLARAi\\Label\\label10.csv\n",
      "Data shape: torch.Size([100, 256, 36]), Label shape: torch.Size([100, 256, 1]), Weight shape: torch.Size([2])\n",
      "datapath: D:\\PythonProjs\\CLARAi\\Data_norm\\data11.csv\n",
      "labelpath: D:\\PythonProjs\\CLARAi\\Label\\label11.csv\n",
      "Data shape: torch.Size([100, 256, 36]), Label shape: torch.Size([100, 256, 1]), Weight shape: torch.Size([2])\n",
      "datapath: D:\\PythonProjs\\CLARAi\\Data_norm\\data12.csv\n",
      "labelpath: D:\\PythonProjs\\CLARAi\\Label\\label12.csv\n",
      "Data shape: torch.Size([100, 256, 36]), Label shape: torch.Size([100, 256, 1]), Weight shape: torch.Size([2])\n",
      "datapath: D:\\PythonProjs\\CLARAi\\Data_norm\\data13.csv\n",
      "labelpath: D:\\PythonProjs\\CLARAi\\Label\\label13.csv\n",
      "Data shape: torch.Size([100, 256, 36]), Label shape: torch.Size([100, 256, 1]), Weight shape: torch.Size([2])\n",
      "datapath: D:\\PythonProjs\\CLARAi\\Data_norm\\data16.csv\n",
      "labelpath: D:\\PythonProjs\\CLARAi\\Label\\label16.csv\n",
      "Data shape: torch.Size([100, 256, 36]), Label shape: torch.Size([100, 256, 1]), Weight shape: torch.Size([2])\n",
      "datapath: D:\\PythonProjs\\CLARAi\\Data_norm\\data17.csv\n",
      "labelpath: D:\\PythonProjs\\CLARAi\\Label\\label17.csv\n",
      "Data shape: torch.Size([100, 256, 36]), Label shape: torch.Size([100, 256, 1]), Weight shape: torch.Size([2])\n",
      "datapath: D:\\PythonProjs\\CLARAi\\Data_norm\\data18.csv\n",
      "labelpath: D:\\PythonProjs\\CLARAi\\Label\\label18.csv\n",
      "Data shape: torch.Size([100, 256, 36]), Label shape: torch.Size([100, 256, 1]), Weight shape: torch.Size([2])\n",
      "datapath: D:\\PythonProjs\\CLARAi\\Data_norm\\data3.csv\n",
      "labelpath: D:\\PythonProjs\\CLARAi\\Label\\label3.csv\n",
      "Data shape: torch.Size([100, 256, 36]), Label shape: torch.Size([100, 256, 1]), Weight shape: torch.Size([2])\n",
      "datapath: D:\\PythonProjs\\CLARAi\\Data_norm\\data4.csv\n",
      "labelpath: D:\\PythonProjs\\CLARAi\\Label\\label4.csv\n",
      "Data shape: torch.Size([100, 256, 36]), Label shape: torch.Size([100, 256, 1]), Weight shape: torch.Size([2])\n",
      "datapath: D:\\PythonProjs\\CLARAi\\Data_norm\\data5.csv\n",
      "labelpath: D:\\PythonProjs\\CLARAi\\Label\\label5.csv\n",
      "Data shape: torch.Size([100, 256, 36]), Label shape: torch.Size([100, 256, 1]), Weight shape: torch.Size([2])\n",
      "datapath: D:\\PythonProjs\\CLARAi\\Data_norm\\data6.csv\n",
      "labelpath: D:\\PythonProjs\\CLARAi\\Label\\label6.csv\n",
      "Data shape: torch.Size([100, 256, 36]), Label shape: torch.Size([100, 256, 1]), Weight shape: torch.Size([2])\n",
      "datapath: D:\\PythonProjs\\CLARAi\\Data_norm\\data7.csv\n",
      "labelpath: D:\\PythonProjs\\CLARAi\\Label\\label7.csv\n",
      "Data shape: torch.Size([100, 256, 36]), Label shape: torch.Size([100, 256, 1]), Weight shape: torch.Size([2])\n",
      "datapath: D:\\PythonProjs\\CLARAi\\Data_norm\\data8.csv\n",
      "labelpath: D:\\PythonProjs\\CLARAi\\Label\\label8.csv\n",
      "Data shape: torch.Size([100, 256, 36]), Label shape: torch.Size([100, 256, 1]), Weight shape: torch.Size([2])\n",
      "datapath: D:\\PythonProjs\\CLARAi\\Data_norm\\data9.csv\n",
      "labelpath: D:\\PythonProjs\\CLARAi\\Label\\label9.csv\n",
      "Data shape: torch.Size([100, 256, 36]), Label shape: torch.Size([100, 256, 1]), Weight shape: torch.Size([2])\n"
     ]
    }
   ],
   "source": [
    "\n",
    "for datapath, labelpath in zip(data_path, label_path):\n",
    "    print(f'datapath: {datapath}')\n",
    "    print(f'labelpath: {labelpath}')    \n",
    "    data, label, weight = data_gen(datapath, labelpath)\n",
    "    print(f'Data shape: {data.shape}, Label shape: {label.shape}, Weight shape: {weight.shape}')\n",
    "    neuroimaging_data= torch.cat([neuroimaging_data, data])\n",
    "    labels = torch.cat([labels, label])\n",
    "    class_weights += weight\n",
    "\n",
    "normalized_weights = class_weights / class_weights.sum()\n"
   ]
  },
  {
   "cell_type": "code",
   "execution_count": 14,
   "id": "165ed11f",
   "metadata": {
    "execution": {
     "iopub.execute_input": "2024-09-25T16:12:37.270793Z",
     "iopub.status.busy": "2024-09-25T16:12:37.270408Z",
     "iopub.status.idle": "2024-09-25T16:12:37.277101Z",
     "shell.execute_reply": "2024-09-25T16:12:37.275997Z"
    },
    "papermill": {
     "duration": 0.016784,
     "end_time": "2024-09-25T16:12:37.279461",
     "exception": false,
     "start_time": "2024-09-25T16:12:37.262677",
     "status": "completed"
    },
    "tags": []
   },
   "outputs": [
    {
     "data": {
      "text/plain": [
       "(torch.Size([1500, 256, 36]), torch.Size([1500, 256, 1]))"
      ]
     },
     "execution_count": 14,
     "metadata": {},
     "output_type": "execute_result"
    }
   ],
   "source": [
    "neuroimaging_data.shape, labels.shape"
   ]
  },
  {
   "cell_type": "code",
   "execution_count": 17,
   "id": "d002f262",
   "metadata": {},
   "outputs": [
    {
     "name": "stdout",
     "output_type": "stream",
     "text": [
      "Number of 0s: 294293Number of 1s: 89707 Ratio is 0.23361197916666668\n"
     ]
    }
   ],
   "source": [
    "# Count the number of 1s\n",
    "num_zeros = torch.sum(labels == 0).item()\n",
    "num_ones = torch.sum(labels == 1).item()\n",
    "\n",
    "print(f\"Number of 0s: {num_zeros}Number of 1s: {num_ones} Ratio is {num_ones/(num_ones + num_zeros)}\")"
   ]
  },
  {
   "cell_type": "code",
   "execution_count": 10,
   "id": "30c5e229",
   "metadata": {
    "execution": {
     "iopub.execute_input": "2024-09-25T16:12:37.294269Z",
     "iopub.status.busy": "2024-09-25T16:12:37.293921Z",
     "iopub.status.idle": "2024-09-25T16:12:39.159206Z",
     "shell.execute_reply": "2024-09-25T16:12:39.158274Z"
    },
    "papermill": {
     "duration": 1.875628,
     "end_time": "2024-09-25T16:12:39.161841",
     "exception": false,
     "start_time": "2024-09-25T16:12:37.286213",
     "status": "completed"
    },
    "tags": []
   },
   "outputs": [
    {
     "name": "stderr",
     "output_type": "stream",
     "text": [
      "/tmp/ipykernel_24/3659394152.py:17: UserWarning: To copy construct from a tensor, it is recommended to use sourceTensor.clone().detach() or sourceTensor.clone().detach().requires_grad_(True), rather than torch.tensor(sourceTensor).\n",
      "  train_labels, test_labels = torch.tensor(train_labels, dtype=torch.float32).to(device), torch.tensor(test_labels, dtype=torch.float32).to(device)\n"
     ]
    }
   ],
   "source": [
    "# Hyperparameters\n",
    "input_size = neuroimaging_data.shape[2]  # Number of features (channels)\n",
    "hidden_size = 256  # Hidden state size of the GRU\n",
    "output_size = 1  # Binary classification\n",
    "num_layers = 4  # Number of GRU layers\n",
    "learning_rate = 0.001\n",
    "num_epochs = 50\n",
    "batch_size = 64\n",
    "\n",
    "# Preprocessing (e.g., normalization)\n",
    "scaler = StandardScaler()\n",
    "neuroimaging_data = scaler.fit_transform(neuroimaging_data.reshape(-1, input_size)).reshape(neuroimaging_data.shape)\n",
    "\n",
    "# Convert numpy arrays to PyTorch tensors\n",
    "train_data, test_data, train_labels, test_labels = train_test_split(neuroimaging_data, labels, test_size=0.2, random_state=42)\n",
    "train_data, test_data = torch.tensor(train_data, dtype=torch.float32).to(device), torch.tensor(test_data, dtype=torch.float32).to(device)\n",
    "train_labels, test_labels = torch.tensor(train_labels, dtype=torch.float32).to(device), torch.tensor(test_labels, dtype=torch.float32).to(device)\n",
    "\n",
    "\n",
    "# Create GRU model\n",
    "model = GRUClassifier(input_size, hidden_size, output_size, num_layers).to(device)\n",
    "\n",
    "# Loss and optimizer\n",
    "# criterion = nn.BCELoss()  # Binary Cross Entropy Loss for binary classification\n",
    "\n",
    "\n",
    "# Convert the class weights to a tensor and move to the appropriate device\n",
    "class_weights = class_weights.to(device)\n",
    "\n",
    "# Use BCEWithLogitsLoss, which combines sigmoid activation and binary cross-entropy loss\n",
    "criterion = nn.BCEWithLogitsLoss(pos_weight=normalized_weights[0])  # pos_weight applies only to class 1\n",
    "\n",
    "# optimizer = optim.Adam(model.parameters(), lr=learning_rate)\n",
    "optimizer = optim.Adam(model.parameters(), lr=learning_rate, weight_decay=1e-5)\n",
    "scheduler = torch.optim.lr_scheduler.ReduceLROnPlateau(optimizer, mode='min', factor=0.1, patience=20)"
   ]
  },
  {
   "cell_type": "code",
   "execution_count": 11,
   "id": "ee00ab4d",
   "metadata": {
    "execution": {
     "iopub.execute_input": "2024-09-25T16:12:39.177635Z",
     "iopub.status.busy": "2024-09-25T16:12:39.177030Z",
     "iopub.status.idle": "2024-09-25T16:30:02.266359Z",
     "shell.execute_reply": "2024-09-25T16:30:02.264942Z"
    },
    "papermill": {
     "duration": 1043.100567,
     "end_time": "2024-09-25T16:30:02.269363",
     "exception": false,
     "start_time": "2024-09-25T16:12:39.168796",
     "status": "completed"
    },
    "tags": []
   },
   "outputs": [
    {
     "name": "stdout",
     "output_type": "stream",
     "text": [
      "Epoch [5/1000], Loss: 0.5674\n",
      "Epoch [10/1000], Loss: 0.5673\n",
      "Epoch [15/1000], Loss: 0.5673\n",
      "Epoch [20/1000], Loss: 0.5673\n",
      "Epoch [25/1000], Loss: 0.5673\n",
      "Epoch [30/1000], Loss: 0.5673\n",
      "Epoch [35/1000], Loss: 0.5673\n",
      "Epoch [40/1000], Loss: 0.5673\n",
      "Epoch [45/1000], Loss: 0.5673\n",
      "Epoch [50/1000], Loss: 0.5673\n",
      "Epoch [55/1000], Loss: 0.5673\n",
      "Epoch [60/1000], Loss: 0.5673\n",
      "Epoch [65/1000], Loss: 0.5673\n",
      "Epoch [70/1000], Loss: 0.5673\n",
      "Epoch [75/1000], Loss: 0.5673\n",
      "Epoch [80/1000], Loss: 0.5673\n",
      "Epoch [85/1000], Loss: 0.5673\n",
      "Epoch [90/1000], Loss: 0.5673\n",
      "Epoch [95/1000], Loss: 0.5673\n",
      "Epoch [100/1000], Loss: 0.5673\n",
      "Epoch [105/1000], Loss: 0.5673\n",
      "Epoch [110/1000], Loss: 0.5673\n",
      "Epoch [115/1000], Loss: 0.5673\n",
      "Epoch [120/1000], Loss: 0.5673\n",
      "Epoch [125/1000], Loss: 0.5673\n",
      "Epoch [130/1000], Loss: 0.5673\n",
      "Epoch [135/1000], Loss: 0.5673\n",
      "Epoch [140/1000], Loss: 0.5673\n",
      "Epoch [145/1000], Loss: 0.5673\n",
      "Epoch [150/1000], Loss: 0.5673\n",
      "Epoch [155/1000], Loss: 0.5673\n",
      "Epoch [160/1000], Loss: 0.5673\n",
      "Epoch [165/1000], Loss: 0.5673\n",
      "Epoch [170/1000], Loss: 0.5673\n",
      "Epoch [175/1000], Loss: 0.5673\n",
      "Epoch [180/1000], Loss: 0.5673\n",
      "Epoch [185/1000], Loss: 0.5673\n",
      "Epoch [190/1000], Loss: 0.5673\n",
      "Epoch [195/1000], Loss: 0.5673\n",
      "Epoch [200/1000], Loss: 0.5673\n",
      "Epoch [205/1000], Loss: 0.5673\n",
      "Epoch [210/1000], Loss: 0.5673\n",
      "Epoch [215/1000], Loss: 0.5673\n",
      "Epoch [220/1000], Loss: 0.5673\n",
      "Epoch [225/1000], Loss: 0.5673\n",
      "Epoch [230/1000], Loss: 0.5673\n",
      "Epoch [235/1000], Loss: 0.5673\n",
      "Epoch [240/1000], Loss: 0.5673\n",
      "Epoch [245/1000], Loss: 0.5673\n",
      "Epoch [250/1000], Loss: 0.5673\n",
      "Epoch [255/1000], Loss: 0.5673\n",
      "Epoch [260/1000], Loss: 0.5673\n",
      "Epoch [265/1000], Loss: 0.5673\n",
      "Epoch [270/1000], Loss: 0.5673\n",
      "Epoch [275/1000], Loss: 0.5673\n",
      "Epoch [280/1000], Loss: 0.5673\n",
      "Epoch [285/1000], Loss: 0.5673\n",
      "Epoch [290/1000], Loss: 0.5673\n",
      "Epoch [295/1000], Loss: 0.5673\n",
      "Epoch [300/1000], Loss: 0.5673\n",
      "Epoch [305/1000], Loss: 0.5673\n",
      "Epoch [310/1000], Loss: 0.5673\n",
      "Epoch [315/1000], Loss: 0.5673\n",
      "Epoch [320/1000], Loss: 0.5673\n",
      "Epoch [325/1000], Loss: 0.5673\n",
      "Epoch [330/1000], Loss: 0.5673\n",
      "Epoch [335/1000], Loss: 0.5673\n",
      "Epoch [340/1000], Loss: 0.5673\n",
      "Epoch [345/1000], Loss: 0.5673\n",
      "Epoch [350/1000], Loss: 0.5673\n",
      "Epoch [355/1000], Loss: 0.5673\n",
      "Epoch [360/1000], Loss: 0.5673\n",
      "Epoch [365/1000], Loss: 0.5673\n",
      "Epoch [370/1000], Loss: 0.5673\n",
      "Epoch [375/1000], Loss: 0.5673\n",
      "Epoch [380/1000], Loss: 0.5673\n",
      "Epoch [385/1000], Loss: 0.5673\n",
      "Epoch [390/1000], Loss: 0.5673\n",
      "Epoch [395/1000], Loss: 0.5673\n",
      "Epoch [400/1000], Loss: 0.5673\n",
      "Epoch [405/1000], Loss: 0.5673\n",
      "Epoch [410/1000], Loss: 0.5673\n",
      "Epoch [415/1000], Loss: 0.5673\n",
      "Epoch [420/1000], Loss: 0.5673\n",
      "Epoch [425/1000], Loss: 0.5673\n",
      "Epoch [430/1000], Loss: 0.5673\n",
      "Epoch [435/1000], Loss: 0.5673\n",
      "Epoch [440/1000], Loss: 0.5673\n",
      "Epoch [445/1000], Loss: 0.5673\n",
      "Epoch [450/1000], Loss: 0.5673\n",
      "Epoch [455/1000], Loss: 0.5673\n",
      "Epoch [460/1000], Loss: 0.5673\n",
      "Epoch [465/1000], Loss: 0.5673\n",
      "Epoch [470/1000], Loss: 0.5673\n",
      "Epoch [475/1000], Loss: 0.5673\n",
      "Epoch [480/1000], Loss: 0.5673\n",
      "Epoch [485/1000], Loss: 0.5673\n",
      "Epoch [490/1000], Loss: 0.5673\n",
      "Epoch [495/1000], Loss: 0.5673\n",
      "Epoch [500/1000], Loss: 0.5673\n",
      "Epoch [505/1000], Loss: 0.5673\n",
      "Epoch [510/1000], Loss: 0.5673\n",
      "Epoch [515/1000], Loss: 0.5673\n",
      "Epoch [520/1000], Loss: 0.5673\n",
      "Epoch [525/1000], Loss: 0.5673\n",
      "Epoch [530/1000], Loss: 0.5673\n",
      "Epoch [535/1000], Loss: 0.5673\n",
      "Epoch [540/1000], Loss: 0.5673\n",
      "Epoch [545/1000], Loss: 0.5673\n",
      "Epoch [550/1000], Loss: 0.5673\n",
      "Epoch [555/1000], Loss: 0.5673\n",
      "Epoch [560/1000], Loss: 0.5673\n",
      "Epoch [565/1000], Loss: 0.5673\n",
      "Epoch [570/1000], Loss: 0.5673\n",
      "Epoch [575/1000], Loss: 0.5673\n",
      "Epoch [580/1000], Loss: 0.5673\n",
      "Epoch [585/1000], Loss: 0.5673\n",
      "Epoch [590/1000], Loss: 0.5673\n",
      "Epoch [595/1000], Loss: 0.5673\n",
      "Epoch [600/1000], Loss: 0.5673\n",
      "Epoch [605/1000], Loss: 0.5673\n",
      "Epoch [610/1000], Loss: 0.5673\n",
      "Epoch [615/1000], Loss: 0.5673\n",
      "Epoch [620/1000], Loss: 0.5673\n",
      "Epoch [625/1000], Loss: 0.5673\n",
      "Epoch [630/1000], Loss: 0.5673\n",
      "Epoch [635/1000], Loss: 0.5673\n",
      "Epoch [640/1000], Loss: 0.5673\n",
      "Epoch [645/1000], Loss: 0.5673\n",
      "Epoch [650/1000], Loss: 0.5673\n",
      "Epoch [655/1000], Loss: 0.5673\n",
      "Epoch [660/1000], Loss: 0.5673\n",
      "Epoch [665/1000], Loss: 0.5673\n",
      "Epoch [670/1000], Loss: 0.5673\n",
      "Epoch [675/1000], Loss: 0.5673\n",
      "Epoch [680/1000], Loss: 0.5673\n",
      "Epoch [685/1000], Loss: 0.5673\n",
      "Epoch [690/1000], Loss: 0.5673\n",
      "Epoch [695/1000], Loss: 0.5673\n",
      "Epoch [700/1000], Loss: 0.5673\n",
      "Epoch [705/1000], Loss: 0.5673\n",
      "Epoch [710/1000], Loss: 0.5673\n",
      "Epoch [715/1000], Loss: 0.5673\n",
      "Epoch [720/1000], Loss: 0.5673\n",
      "Epoch [725/1000], Loss: 0.5673\n",
      "Epoch [730/1000], Loss: 0.5673\n",
      "Epoch [735/1000], Loss: 0.5673\n",
      "Epoch [740/1000], Loss: 0.5673\n",
      "Epoch [745/1000], Loss: 0.5673\n",
      "Epoch [750/1000], Loss: 0.5673\n",
      "Epoch [755/1000], Loss: 0.5673\n",
      "Epoch [760/1000], Loss: 0.5673\n",
      "Epoch [765/1000], Loss: 0.5673\n",
      "Epoch [770/1000], Loss: 0.5673\n",
      "Epoch [775/1000], Loss: 0.5673\n",
      "Epoch [780/1000], Loss: 0.5673\n",
      "Epoch [785/1000], Loss: 0.5673\n",
      "Epoch [790/1000], Loss: 0.5673\n",
      "Epoch [795/1000], Loss: 0.5673\n",
      "Epoch [800/1000], Loss: 0.5673\n",
      "Epoch [805/1000], Loss: 0.5673\n",
      "Epoch [810/1000], Loss: 0.5673\n",
      "Epoch [815/1000], Loss: 0.5673\n",
      "Epoch [820/1000], Loss: 0.5673\n",
      "Epoch [825/1000], Loss: 0.5673\n",
      "Epoch [830/1000], Loss: 0.5673\n",
      "Epoch [835/1000], Loss: 0.5673\n",
      "Epoch [840/1000], Loss: 0.5673\n",
      "Epoch [845/1000], Loss: 0.5673\n",
      "Epoch [850/1000], Loss: 0.5673\n",
      "Epoch [855/1000], Loss: 0.5673\n",
      "Epoch [860/1000], Loss: 0.5673\n",
      "Epoch [865/1000], Loss: 0.5673\n",
      "Epoch [870/1000], Loss: 0.5673\n",
      "Epoch [875/1000], Loss: 0.5673\n",
      "Epoch [880/1000], Loss: 0.5673\n",
      "Epoch [885/1000], Loss: 0.5673\n",
      "Epoch [890/1000], Loss: 0.5673\n",
      "Epoch [895/1000], Loss: 0.5673\n",
      "Epoch [900/1000], Loss: 0.5673\n",
      "Epoch [905/1000], Loss: 0.5673\n",
      "Epoch [910/1000], Loss: 0.5673\n",
      "Epoch [915/1000], Loss: 0.5673\n",
      "Epoch [920/1000], Loss: 0.5673\n",
      "Epoch [925/1000], Loss: 0.5673\n",
      "Epoch [930/1000], Loss: 0.5673\n",
      "Epoch [935/1000], Loss: 0.5673\n",
      "Epoch [940/1000], Loss: 0.5673\n",
      "Epoch [945/1000], Loss: 0.5673\n",
      "Epoch [950/1000], Loss: 0.5673\n",
      "Epoch [955/1000], Loss: 0.5673\n",
      "Epoch [960/1000], Loss: 0.5673\n",
      "Epoch [965/1000], Loss: 0.5673\n",
      "Epoch [970/1000], Loss: 0.5673\n",
      "Epoch [975/1000], Loss: 0.5673\n",
      "Epoch [980/1000], Loss: 0.5673\n",
      "Epoch [985/1000], Loss: 0.5673\n",
      "Epoch [990/1000], Loss: 0.5673\n",
      "Epoch [995/1000], Loss: 0.5673\n",
      "Epoch [1000/1000], Loss: 0.5673\n"
     ]
    }
   ],
   "source": [
    "# Training loop\n",
    "for epoch in range(num_epochs):\n",
    "    model.train()\n",
    "    optimizer.zero_grad()\n",
    "    \n",
    "    # Forward pass\n",
    "    outputs = model(train_data)\n",
    "    loss = criterion(outputs, train_labels)\n",
    "    \n",
    "    # Backward pass and optimization\n",
    "    loss.backward()\n",
    "    \n",
    "    # Clip gradients to prevent exploding gradients\n",
    "    torch.nn.utils.clip_grad_norm_(model.parameters(), max_norm=1.0)\n",
    "    \n",
    "    optimizer.step()\n",
    "    \n",
    "    # Update learning rate if loss plateaus\n",
    "    scheduler.step(loss)\n",
    "\n",
    "    if (epoch+1) % 5 == 0:\n",
    "        print(f'Epoch [{epoch+1}/{num_epochs}], Loss: {loss.item():.4f}')\n"
   ]
  },
  {
   "cell_type": "code",
   "execution_count": 12,
   "id": "1d0d0eb0",
   "metadata": {
    "execution": {
     "iopub.execute_input": "2024-09-25T16:30:02.320340Z",
     "iopub.status.busy": "2024-09-25T16:30:02.319976Z",
     "iopub.status.idle": "2024-09-25T16:30:02.834069Z",
     "shell.execute_reply": "2024-09-25T16:30:02.832953Z"
    },
    "papermill": {
     "duration": 0.541544,
     "end_time": "2024-09-25T16:30:02.836321",
     "exception": false,
     "start_time": "2024-09-25T16:30:02.294777",
     "status": "completed"
    },
    "tags": []
   },
   "outputs": [
    {
     "name": "stdout",
     "output_type": "stream",
     "text": [
      "Accuracy: 76.44%\n",
      "Confusion Matrix:\n",
      "[[58705     0]\n",
      " [18095     0]]\n"
     ]
    },
    {
     "data": {
      "image/png": "[encoded data removed]",
      "text/plain": [
       "<Figure size 600x400 with 2 Axes>"
      ]
     },
     "metadata": {},
     "output_type": "display_data"
    }
   ],
   "source": [
    "\n",
    "model.eval()\n",
    "with torch.no_grad():\n",
    "    test_outputs = model(test_data)\n",
    "    predicted = (test_outputs > 0.5).float()  # Threshold at 0.5 for binary classification\n",
    "    \n",
    "    # Calculate accuracy\n",
    "    accuracy = (predicted == test_labels).float().mean()\n",
    "    print(f'Accuracy: {accuracy.item() * 100:.2f}%')\n",
    "\n",
    "    # Flatten the predicted and test labels for confusion matrix calculation\n",
    "    predicted_flat = predicted.cpu().numpy().flatten()\n",
    "    test_labels_flat = test_labels.cpu().numpy().flatten()\n",
    "\n",
    "    # Generate the confusion matrix\n",
    "    cm = confusion_matrix(test_labels_flat, predicted_flat)\n",
    "    print(f'Confusion Matrix:\\n{cm}')\n",
    "\n",
    "    # Optional: plot the confusion matrix for visualization\n",
    "    plt.figure(figsize=(6,4))\n",
    "    sns.heatmap(cm, annot=True, fmt=\"d\", cmap=\"Blues\", xticklabels=['No Pain', 'Pain'], yticklabels=['No Pain', 'Pain'])\n",
    "    plt.ylabel('True Label')\n",
    "    plt.xlabel('Predicted Label')\n",
    "    plt.title('Confusion Matrix')\n",
    "    plt.show()\n"
   ]
  },
  {
   "cell_type": "code",
   "execution_count": 13,
   "id": "661ac94c",
   "metadata": {
    "execution": {
     "iopub.execute_input": "2024-09-25T16:30:02.885019Z",
     "iopub.status.busy": "2024-09-25T16:30:02.884606Z",
     "iopub.status.idle": "2024-09-25T16:30:02.893784Z",
     "shell.execute_reply": "2024-09-25T16:30:02.892730Z"
    },
    "papermill": {
     "duration": 0.036108,
     "end_time": "2024-09-25T16:30:02.895996",
     "exception": false,
     "start_time": "2024-09-25T16:30:02.859888",
     "status": "completed"
    },
    "tags": []
   },
   "outputs": [],
   "source": [
    "def plot_roc_auc(model, test_data, test_labels):\n",
    "    model.eval()\n",
    "    with torch.no_grad():\n",
    "        # Get the raw logits (before applying sigmoid)\n",
    "        test_outputs = model(test_data)\n",
    "        \n",
    "        # Convert test_labels and test_outputs to NumPy arrays for sklearn\n",
    "        test_labels_flat = test_labels.cpu().numpy().flatten()\n",
    "        test_outputs_flat = test_outputs.cpu().numpy().flatten()\n",
    "\n",
    "        # Calculate the false positive rate, true positive rate, and thresholds for the ROC curve\n",
    "        fpr, tpr, thresholds = roc_curve(test_labels_flat, test_outputs_flat)\n",
    "        \n",
    "        # Calculate the AUC score\n",
    "        roc_auc = auc(fpr, tpr)\n",
    "        \n",
    "        # Plot ROC curve\n",
    "        plt.figure(figsize=(8,6))\n",
    "        plt.plot(fpr, tpr, color='blue', label=f'ROC Curve (AUC = {roc_auc:.2f})')\n",
    "        plt.plot([0, 1], [0, 1], color='grey', linestyle='--')  # Random classifier line\n",
    "        plt.xlim([0.0, 1.0])\n",
    "        plt.ylim([0.0, 1.05])\n",
    "        plt.xlabel('False Positive Rate (FPR)')\n",
    "        plt.ylabel('True Positive Rate (TPR)')\n",
    "        plt.title('Receiver Operating Characteristic (ROC)')\n",
    "        plt.legend(loc='lower right')\n",
    "        plt.show()\n",
    "\n",
    "    return roc_auc"
   ]
  },
  {
   "cell_type": "code",
   "execution_count": 14,
   "id": "c2497188",
   "metadata": {
    "execution": {
     "iopub.execute_input": "2024-09-25T16:30:02.946165Z",
     "iopub.status.busy": "2024-09-25T16:30:02.945319Z",
     "iopub.status.idle": "2024-09-25T16:30:03.349917Z",
     "shell.execute_reply": "2024-09-25T16:30:03.348824Z"
    },
    "papermill": {
     "duration": 0.431371,
     "end_time": "2024-09-25T16:30:03.352122",
     "exception": false,
     "start_time": "2024-09-25T16:30:02.920751",
     "status": "completed"
    },
    "tags": []
   },
   "outputs": [
    {
     "data": {
      "image/png": "[encoded data removed]",
      "text/plain": [
       "<Figure size 800x600 with 1 Axes>"
      ]
     },
     "metadata": {},
     "output_type": "display_data"
    },
    {
     "data": {
      "text/plain": [
       "0.5125676179474562"
      ]
     },
     "execution_count": 14,
     "metadata": {},
     "output_type": "execute_result"
    }
   ],
   "source": [
    "plot_roc_auc(model, test_data, test_labels)"
   ]
  },
  {
   "cell_type": "code",
   "execution_count": null,
   "id": "190db69a",
   "metadata": {
    "papermill": {
     "duration": 0.024513,
     "end_time": "2024-09-25T16:30:03.402486",
     "exception": false,
     "start_time": "2024-09-25T16:30:03.377973",
     "status": "completed"
    },
    "tags": []
   },
   "outputs": [],
   "source": []
  }
 ],
 "metadata": {
  "kaggle": {
   "accelerator": "nvidiaTeslaT4",
   "dataSources": [
    {
     "datasetId": 5754676,
     "sourceId": 9480039,
     "sourceType": "datasetVersion"
    }
   ],
   "dockerImageVersionId": 30762,
   "isGpuEnabled": true,
   "isInternetEnabled": true,
   "language": "python",
   "sourceType": "notebook"
  },
  "kernelspec": {
   "display_name": "Python 3",
   "language": "python",
   "name": "python3"
  },
  "language_info": {
   "codemirror_mode": {
    "name": "ipython",
    "version": 3
   },
   "file_extension": ".py",
   "mimetype": "text/x-python",
   "name": "python",
   "nbconvert_exporter": "python",
   "pygments_lexer": "ipython3",
   "version": "3.10.14"
  },
  "papermill": {
   "default_parameters": {},
   "duration": 1057.735694,
   "end_time": "2024-09-25T16:30:05.051750",
   "environment_variables": {},
   "exception": null,
   "input_path": "__notebook__.ipynb",
   "output_path": "__notebook__.ipynb",
   "parameters": {},
   "start_time": "2024-09-25T16:12:27.316056",
   "version": "2.6.0"
  }
 },
 "nbformat": 4,
 "nbformat_minor": 5
}
