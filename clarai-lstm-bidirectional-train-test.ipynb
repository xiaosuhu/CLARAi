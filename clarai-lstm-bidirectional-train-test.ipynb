{
 "cells": [
  {
   "cell_type": "code",
   "execution_count": 1,
   "id": "9a44e162",
   "metadata": {
    "execution": {
     "iopub.execute_input": "2024-10-09T18:22:51.526218Z",
     "iopub.status.busy": "2024-10-09T18:22:51.525872Z",
     "iopub.status.idle": "2024-10-09T18:22:56.851667Z",
     "shell.execute_reply": "2024-10-09T18:22:56.850712Z"
    },
    "papermill": {
     "duration": 5.335824,
     "end_time": "2024-10-09T18:22:56.854000",
     "exception": false,
     "start_time": "2024-10-09T18:22:51.518176",
     "status": "completed"
    },
    "tags": []
   },
   "outputs": [],
   "source": [
    "from sklearn.model_selection import train_test_split\n",
    "from sklearn.preprocessing import StandardScaler\n",
    "from sklearn.utils.class_weight import compute_class_weight\n",
    "from sklearn.metrics import confusion_matrix, classification_report, roc_curve, auc\n",
    "from torch.utils.data import DataLoader, TensorDataset\n",
    "\n",
    "import torch\n",
    "import torch.nn as nn\n",
    "import torch.optim as optim\n",
    "import pandas as pd\n",
    "import numpy as np\n",
    "import matplotlib.pyplot as plt\n",
    "import seaborn as sns\n",
    "\n",
    "import glob"
   ]
  },
  {
   "cell_type": "code",
   "execution_count": 2,
   "id": "a49339f9",
   "metadata": {
    "execution": {
     "iopub.execute_input": "2024-10-09T18:22:56.868343Z",
     "iopub.status.busy": "2024-10-09T18:22:56.867937Z",
     "iopub.status.idle": "2024-10-09T18:22:56.971358Z",
     "shell.execute_reply": "2024-10-09T18:22:56.970171Z"
    },
    "papermill": {
     "duration": 0.113692,
     "end_time": "2024-10-09T18:22:56.974408",
     "exception": false,
     "start_time": "2024-10-09T18:22:56.860716",
     "status": "completed"
    },
    "tags": []
   },
   "outputs": [
    {
     "name": "stdout",
     "output_type": "stream",
     "text": [
      "cuda\n"
     ]
    }
   ],
   "source": [
    "# device = torch.device(\"mps\")\n",
    "device = torch.device(\"cuda\" if torch.cuda.is_available() else \"cpu\")\n",
    "print(device)"
   ]
  },
  {
   "cell_type": "code",
   "execution_count": 3,
   "id": "fe1ad584",
   "metadata": {
    "execution": {
     "iopub.execute_input": "2024-10-09T18:22:56.996186Z",
     "iopub.status.busy": "2024-10-09T18:22:56.995268Z",
     "iopub.status.idle": "2024-10-09T18:22:57.005479Z",
     "shell.execute_reply": "2024-10-09T18:22:57.004282Z"
    },
    "papermill": {
     "duration": 0.02292,
     "end_time": "2024-10-09T18:22:57.007783",
     "exception": false,
     "start_time": "2024-10-09T18:22:56.984863",
     "status": "completed"
    },
    "tags": []
   },
   "outputs": [
    {
     "data": {
      "text/plain": [
       "'# Step 1: Get a list of all CSV file paths in the directory\\ndata_path = glob.glob(\"D:\\\\PythonProjs\\\\CLARAi\\\\Data\\\\*.csv\")  # Modify with your directory path\\nlabel_path = glob.glob(\"D:\\\\PythonProjs\\\\CLARAi\\\\Label\\\\*.csv\")\\n\\n# Step 2: Read each CSV file and store in a list of DataFrames\\ndatadfs = [pd.read_csv(file) for file in data_path]\\nlabeldfs = [pd.read_csv(file) for file in label_path]\\n\\n# Step 3: Concatenate all DataFrames into one\\nfinal_data_df = pd.concat(datadfs, ignore_index=True)\\nfinal_label_df = pd.concat(labeldfs, ignore_index=True)'"
      ]
     },
     "execution_count": 3,
     "metadata": {},
     "output_type": "execute_result"
    }
   ],
   "source": [
    "\"\"\"# Step 1: Get a list of all CSV file paths in the directory\n",
    "data_path = glob.glob(\"D:\\PythonProjs\\CLARAi\\Data\\*.csv\")  # Modify with your directory path\n",
    "label_path = glob.glob(\"D:\\PythonProjs\\CLARAi\\Label\\*.csv\")\n",
    "\n",
    "# Step 2: Read each CSV file and store in a list of DataFrames\n",
    "datadfs = [pd.read_csv(file) for file in data_path]\n",
    "labeldfs = [pd.read_csv(file) for file in label_path]\n",
    "\n",
    "# Step 3: Concatenate all DataFrames into one\n",
    "final_data_df = pd.concat(datadfs, ignore_index=True)\n",
    "final_label_df = pd.concat(labeldfs, ignore_index=True)\"\"\""
   ]
  },
  {
   "cell_type": "code",
   "execution_count": 4,
   "id": "2adb455e",
   "metadata": {
    "execution": {
     "iopub.execute_input": "2024-10-09T18:22:57.028776Z",
     "iopub.status.busy": "2024-10-09T18:22:57.028312Z",
     "iopub.status.idle": "2024-10-09T18:22:57.035015Z",
     "shell.execute_reply": "2024-10-09T18:22:57.033916Z"
    },
    "papermill": {
     "duration": 0.020778,
     "end_time": "2024-10-09T18:22:57.037274",
     "exception": false,
     "start_time": "2024-10-09T18:22:57.016496",
     "status": "completed"
    },
    "tags": []
   },
   "outputs": [],
   "source": [
    "class CONFIG:\n",
    "    seq_len = 512\n",
    "    num_seq = 500\n",
    "    data_ch = 36\n",
    "    hidden_size = 16  # Hidden state size of the GRU\n",
    "    output_size = 1  # Binary classification\n",
    "    num_layers = 6  # Number of GRU layers\n",
    "    learning_rate = 0.001\n",
    "    num_epochs = 300\n",
    "    batch_size = 8"
   ]
  },
  {
   "cell_type": "code",
   "execution_count": 5,
   "id": "bd6c3405",
   "metadata": {
    "execution": {
     "iopub.execute_input": "2024-10-09T18:22:57.054745Z",
     "iopub.status.busy": "2024-10-09T18:22:57.054063Z",
     "iopub.status.idle": "2024-10-09T18:22:57.066292Z",
     "shell.execute_reply": "2024-10-09T18:22:57.065163Z"
    },
    "papermill": {
     "duration": 0.022849,
     "end_time": "2024-10-09T18:22:57.068495",
     "exception": false,
     "start_time": "2024-10-09T18:22:57.045646",
     "status": "completed"
    },
    "tags": []
   },
   "outputs": [],
   "source": [
    "def data_gen(data_path, label_path):\n",
    "    final_data_df = pd.read_csv(data_path)\n",
    "    final_label_df = pd.read_csv(label_path)\n",
    "\n",
    "    train_labels_flat = final_label_df.values.flatten()\n",
    "    \n",
    "    # Compute class weights (inverse of class frequencies)\n",
    "    class_weights = compute_class_weight(class_weight='balanced', classes=np.unique(train_labels_flat), y=train_labels_flat)\n",
    "    class_weights = torch.tensor(class_weights, dtype=torch.float32)\n",
    "\n",
    "    # Parameters\n",
    "    sequence_length = CONFIG.seq_len  # Length of each subsequence\n",
    "    num_subsequences = CONFIG.num_seq  # Number of subsequences to extract\n",
    "\n",
    "    # Get possible starting indices, ensuring there's enough space for a full subsequence\n",
    "    possible_starts = np.arange(0, len(final_data_df) - sequence_length + 1)\n",
    "    np.random.shuffle(possible_starts)\n",
    "\n",
    "    # Select the first `num_subsequences` starting indices\n",
    "    selected_starts = possible_starts[:num_subsequences]\n",
    "\n",
    "    # Create a list to hold the subsequences\n",
    "    subsequences = [final_data_df.iloc[start:start + sequence_length].values for start in selected_starts]\n",
    "    sublabels = [final_label_df.iloc[start:start + sequence_length].values for start in selected_starts]\n",
    "\n",
    "    # Convert subsequences list to a NumPy array\n",
    "    subsequences_array = np.array(subsequences)\n",
    "    sublabels_array = np.array(sublabels)\n",
    "\n",
    "    # subsequences_array will have shape (num_subsequences, sequence_length, num_channels)\n",
    "    # print(subsequences_array.shape)  # Should print (100, 100, 36)\n",
    "    # print(sublabels_array.shape)\n",
    "\n",
    "    return torch.from_numpy(subsequences_array), torch.from_numpy(sublabels_array), class_weights\n"
   ]
  },
  {
   "cell_type": "code",
   "execution_count": 6,
   "id": "7f2b3799",
   "metadata": {
    "execution": {
     "iopub.execute_input": "2024-10-09T18:22:57.083789Z",
     "iopub.status.busy": "2024-10-09T18:22:57.083170Z",
     "iopub.status.idle": "2024-10-09T18:22:57.095494Z",
     "shell.execute_reply": "2024-10-09T18:22:57.094513Z"
    },
    "papermill": {
     "duration": 0.021917,
     "end_time": "2024-10-09T18:22:57.097497",
     "exception": false,
     "start_time": "2024-10-09T18:22:57.075580",
     "status": "completed"
    },
    "tags": []
   },
   "outputs": [],
   "source": [
    "\n",
    "# Sample time series data with shape (batch_size, sequence_length, num_features)\n",
    "# neuroimaging_data: Time series data from multiple neuroimaging channels\n",
    "# labels: Binary labels (0 = no pain, 1 = pain) for each time step\n",
    "# Assume neuroimaging_data is a numpy array of shape (num_samples, sequence_length, num_channels)\n",
    "# labels is a numpy array of shape (num_samples, sequence_length)\n",
    "\n",
    "class BidirectionalLSTMClassifier(nn.Module):\n",
    "    def __init__(self, input_size, hidden_size, output_size, num_layers=1):\n",
    "        super(BidirectionalLSTMClassifier, self).__init__()\n",
    "        self.hidden_size = hidden_size\n",
    "        self.num_layers = num_layers\n",
    "        self.lstm = nn.LSTM(input_size, hidden_size, num_layers, batch_first=True, bidirectional=True)\n",
    "        \n",
    "        # Adjust the fully connected layer to account for doubled hidden size (forward + backward)\n",
    "        self.fc = nn.Linear(hidden_size * 2, output_size)\n",
    "        self.batch_norm = nn.BatchNorm1d(hidden_size * 2)  # Adjust Batch Normalization for bidirectional\n",
    "        self.sigmoid = nn.Sigmoid()\n",
    "\n",
    "    def forward(self, x):\n",
    "        # Initialize hidden state and cell state with zeros for both directions\n",
    "        h0 = torch.zeros(self.num_layers * 2, x.size(0), self.hidden_size).to(x.device)  # *2 for bidirectional\n",
    "        c0 = torch.zeros(self.num_layers * 2, x.size(0), self.hidden_size).to(x.device)\n",
    "\n",
    "        # LSTM forward pass\n",
    "        out, _ = self.lstm(x, (h0, c0))\n",
    "        \n",
    "        # Apply batch normalization\n",
    "        # Permute to (batch_size, hidden_size*2, sequence_length) for batch norm\n",
    "        out = out.permute(0, 2, 1)\n",
    "        out = self.batch_norm(out)\n",
    "        \n",
    "        # Permute back to (batch_size, sequence_length, hidden_size*2)\n",
    "        out = out.permute(0, 2, 1)\n",
    "        \n",
    "        # Apply the linear layer to each time step\n",
    "        out = self.fc(out)\n",
    "        \n",
    "        return self.sigmoid(out)\n"
   ]
  },
  {
   "cell_type": "code",
   "execution_count": 7,
   "id": "652826f5",
   "metadata": {
    "execution": {
     "iopub.execute_input": "2024-10-09T18:22:57.111892Z",
     "iopub.status.busy": "2024-10-09T18:22:57.111170Z",
     "iopub.status.idle": "2024-10-09T18:22:57.150754Z",
     "shell.execute_reply": "2024-10-09T18:22:57.149928Z"
    },
    "papermill": {
     "duration": 0.048987,
     "end_time": "2024-10-09T18:22:57.152781",
     "exception": false,
     "start_time": "2024-10-09T18:22:57.103794",
     "status": "completed"
    },
    "tags": []
   },
   "outputs": [],
   "source": [
    "# data_path = glob.glob(\"D:\\PythonProjs\\CLARAi\\Data_train\\*.csv\")  # Modify with your directory path\n",
    "# label_path = glob.glob(\"D:\\PythonProjs\\CLARAi\\Label_train\\*.csv\")\n",
    "\n",
    "# data_path = glob.glob(\"/home/frank/Documents/CLARAi/Data/*.csv\")  # Modify with your directory path\n",
    "# label_path = glob.glob(\"/home/frank/Documents/CLARAi/Label/*.csv\")\n",
    "\n",
    "# data_path = glob.glob(\"/Users/xiaosuhu/Documents/Python/CLARAi/Data/*.csv\")  # Modify with your directory path\n",
    "# label_path = glob.glob(\"/Users/xiaosuhu/Documents/Python/CLARAi/Data/*.csv\")\n",
    "\n",
    "data_path = glob.glob(\"/kaggle/input/CLARAi/Data_train/*.csv\")  # Modify with your directory path\n",
    "label_path = glob.glob(\"/kaggle/input/CLARAi/Label_train/*.csv\")\n",
    "\n",
    "# Sort the lists\n",
    "data_path = sorted(data_path)\n",
    "label_path = sorted(label_path)\n"
   ]
  },
  {
   "cell_type": "code",
   "execution_count": 8,
   "id": "a7bc5ae2",
   "metadata": {
    "execution": {
     "iopub.execute_input": "2024-10-09T18:22:57.167700Z",
     "iopub.status.busy": "2024-10-09T18:22:57.167073Z",
     "iopub.status.idle": "2024-10-09T18:22:57.173766Z",
     "shell.execute_reply": "2024-10-09T18:22:57.172706Z"
    },
    "papermill": {
     "duration": 0.016174,
     "end_time": "2024-10-09T18:22:57.175718",
     "exception": false,
     "start_time": "2024-10-09T18:22:57.159544",
     "status": "completed"
    },
    "tags": []
   },
   "outputs": [
    {
     "data": {
      "text/plain": [
       "['/kaggle/input/CLARAi/Data_train/data1.csv',\n",
       " '/kaggle/input/CLARAi/Data_train/data10.csv',\n",
       " '/kaggle/input/CLARAi/Data_train/data11.csv',\n",
       " '/kaggle/input/CLARAi/Data_train/data12.csv',\n",
       " '/kaggle/input/CLARAi/Data_train/data13.csv',\n",
       " '/kaggle/input/CLARAi/Data_train/data16.csv',\n",
       " '/kaggle/input/CLARAi/Data_train/data17.csv',\n",
       " '/kaggle/input/CLARAi/Data_train/data3.csv',\n",
       " '/kaggle/input/CLARAi/Data_train/data4.csv',\n",
       " '/kaggle/input/CLARAi/Data_train/data5.csv',\n",
       " '/kaggle/input/CLARAi/Data_train/data6.csv',\n",
       " '/kaggle/input/CLARAi/Data_train/data7.csv',\n",
       " '/kaggle/input/CLARAi/Data_train/data8.csv',\n",
       " '/kaggle/input/CLARAi/Data_train/data9.csv']"
      ]
     },
     "execution_count": 8,
     "metadata": {},
     "output_type": "execute_result"
    }
   ],
   "source": [
    "data_path"
   ]
  },
  {
   "cell_type": "code",
   "execution_count": 9,
   "id": "04bc8de0",
   "metadata": {
    "execution": {
     "iopub.execute_input": "2024-10-09T18:22:57.190350Z",
     "iopub.status.busy": "2024-10-09T18:22:57.190075Z",
     "iopub.status.idle": "2024-10-09T18:22:57.206222Z",
     "shell.execute_reply": "2024-10-09T18:22:57.205446Z"
    },
    "papermill": {
     "duration": 0.025558,
     "end_time": "2024-10-09T18:22:57.208106",
     "exception": false,
     "start_time": "2024-10-09T18:22:57.182548",
     "status": "completed"
    },
    "tags": []
   },
   "outputs": [],
   "source": [
    "\n",
    "# data_path = \"D:\\PythonProjs\\CLARAi\\Data\\data1.csv\"\n",
    "# label_path = \"D:\\PythonProjs\\CLARAi\\Label\\label1.csv\"\n",
    "neuroimaging_data = torch.empty(0,CONFIG.seq_len,CONFIG.data_ch)\n",
    "labels = torch.empty(0,CONFIG.seq_len,1)\n",
    "class_weights = torch.Tensor([0., 0.])"
   ]
  },
  {
   "cell_type": "code",
   "execution_count": 10,
   "id": "ec69bf54",
   "metadata": {
    "execution": {
     "iopub.execute_input": "2024-10-09T18:22:57.222784Z",
     "iopub.status.busy": "2024-10-09T18:22:57.222040Z",
     "iopub.status.idle": "2024-10-09T18:23:01.183462Z",
     "shell.execute_reply": "2024-10-09T18:23:01.182609Z"
    },
    "papermill": {
     "duration": 3.971332,
     "end_time": "2024-10-09T18:23:01.185797",
     "exception": false,
     "start_time": "2024-10-09T18:22:57.214465",
     "status": "completed"
    },
    "tags": []
   },
   "outputs": [
    {
     "name": "stdout",
     "output_type": "stream",
     "text": [
      "datapath: /kaggle/input/CLARAi/Data_train/data1.csv\n",
      "labelpath: /kaggle/input/CLARAi/Label_train/label1.csv\n",
      "Data shape: torch.Size([500, 512, 36]), Label shape: torch.Size([500, 512, 1]), Weight shape: torch.Size([2])\n",
      "datapath: /kaggle/input/CLARAi/Data_train/data10.csv\n",
      "labelpath: /kaggle/input/CLARAi/Label_train/label10.csv\n",
      "Data shape: torch.Size([500, 512, 36]), Label shape: torch.Size([500, 512, 1]), Weight shape: torch.Size([2])\n",
      "datapath: /kaggle/input/CLARAi/Data_train/data11.csv\n",
      "labelpath: /kaggle/input/CLARAi/Label_train/label11.csv\n",
      "Data shape: torch.Size([351, 512, 36]), Label shape: torch.Size([351, 512, 1]), Weight shape: torch.Size([2])\n",
      "datapath: /kaggle/input/CLARAi/Data_train/data12.csv\n",
      "labelpath: /kaggle/input/CLARAi/Label_train/label12.csv\n",
      "Data shape: torch.Size([239, 512, 36]), Label shape: torch.Size([239, 512, 1]), Weight shape: torch.Size([2])\n",
      "datapath: /kaggle/input/CLARAi/Data_train/data13.csv\n",
      "labelpath: /kaggle/input/CLARAi/Label_train/label13.csv\n",
      "Data shape: torch.Size([310, 512, 36]), Label shape: torch.Size([310, 512, 1]), Weight shape: torch.Size([2])\n",
      "datapath: /kaggle/input/CLARAi/Data_train/data16.csv\n",
      "labelpath: /kaggle/input/CLARAi/Label_train/label16.csv\n",
      "Data shape: torch.Size([500, 512, 36]), Label shape: torch.Size([500, 512, 1]), Weight shape: torch.Size([2])\n",
      "datapath: /kaggle/input/CLARAi/Data_train/data17.csv\n",
      "labelpath: /kaggle/input/CLARAi/Label_train/label17.csv\n",
      "Data shape: torch.Size([500, 512, 36]), Label shape: torch.Size([500, 512, 1]), Weight shape: torch.Size([2])\n",
      "datapath: /kaggle/input/CLARAi/Data_train/data3.csv\n",
      "labelpath: /kaggle/input/CLARAi/Label_train/label3.csv\n",
      "Data shape: torch.Size([500, 512, 36]), Label shape: torch.Size([500, 512, 1]), Weight shape: torch.Size([2])\n",
      "datapath: /kaggle/input/CLARAi/Data_train/data4.csv\n",
      "labelpath: /kaggle/input/CLARAi/Label_train/label4.csv\n",
      "Data shape: torch.Size([500, 512, 36]), Label shape: torch.Size([500, 512, 1]), Weight shape: torch.Size([2])\n",
      "datapath: /kaggle/input/CLARAi/Data_train/data5.csv\n",
      "labelpath: /kaggle/input/CLARAi/Label_train/label5.csv\n",
      "Data shape: torch.Size([500, 512, 36]), Label shape: torch.Size([500, 512, 1]), Weight shape: torch.Size([2])\n",
      "datapath: /kaggle/input/CLARAi/Data_train/data6.csv\n",
      "labelpath: /kaggle/input/CLARAi/Label_train/label6.csv\n",
      "Data shape: torch.Size([500, 512, 36]), Label shape: torch.Size([500, 512, 1]), Weight shape: torch.Size([2])\n",
      "datapath: /kaggle/input/CLARAi/Data_train/data7.csv\n",
      "labelpath: /kaggle/input/CLARAi/Label_train/label7.csv\n",
      "Data shape: torch.Size([500, 512, 36]), Label shape: torch.Size([500, 512, 1]), Weight shape: torch.Size([2])\n",
      "datapath: /kaggle/input/CLARAi/Data_train/data8.csv\n",
      "labelpath: /kaggle/input/CLARAi/Label_train/label8.csv\n",
      "Data shape: torch.Size([500, 512, 36]), Label shape: torch.Size([500, 512, 1]), Weight shape: torch.Size([2])\n",
      "datapath: /kaggle/input/CLARAi/Data_train/data9.csv\n",
      "labelpath: /kaggle/input/CLARAi/Label_train/label9.csv\n",
      "Data shape: torch.Size([500, 512, 36]), Label shape: torch.Size([500, 512, 1]), Weight shape: torch.Size([2])\n"
     ]
    }
   ],
   "source": [
    "\n",
    "for datapath, labelpath in zip(data_path, label_path):\n",
    "    print(f'datapath: {datapath}')\n",
    "    print(f'labelpath: {labelpath}')    \n",
    "    data, label, weight = data_gen(datapath, labelpath)\n",
    "    print(f'Data shape: {data.shape}, Label shape: {label.shape}, Weight shape: {weight.shape}')\n",
    "    neuroimaging_data= torch.cat([neuroimaging_data, data])\n",
    "    labels = torch.cat([labels, label])\n",
    "    class_weights += weight\n",
    "\n",
    "normalized_weights = class_weights / class_weights.sum()\n"
   ]
  },
  {
   "cell_type": "code",
   "execution_count": 11,
   "id": "c78419ae",
   "metadata": {
    "execution": {
     "iopub.execute_input": "2024-10-09T18:23:01.203118Z",
     "iopub.status.busy": "2024-10-09T18:23:01.202365Z",
     "iopub.status.idle": "2024-10-09T18:23:01.208633Z",
     "shell.execute_reply": "2024-10-09T18:23:01.207787Z"
    },
    "papermill": {
     "duration": 0.016586,
     "end_time": "2024-10-09T18:23:01.210485",
     "exception": false,
     "start_time": "2024-10-09T18:23:01.193899",
     "status": "completed"
    },
    "tags": []
   },
   "outputs": [
    {
     "data": {
      "text/plain": [
       "(torch.Size([6400, 512, 36]), torch.Size([6400, 512, 1]))"
      ]
     },
     "execution_count": 11,
     "metadata": {},
     "output_type": "execute_result"
    }
   ],
   "source": [
    "neuroimaging_data.shape, labels.shape"
   ]
  },
  {
   "cell_type": "code",
   "execution_count": 12,
   "id": "de63528a",
   "metadata": {
    "execution": {
     "iopub.execute_input": "2024-10-09T18:23:01.226937Z",
     "iopub.status.busy": "2024-10-09T18:23:01.226597Z",
     "iopub.status.idle": "2024-10-09T18:23:01.270175Z",
     "shell.execute_reply": "2024-10-09T18:23:01.264600Z"
    },
    "papermill": {
     "duration": 0.054642,
     "end_time": "2024-10-09T18:23:01.272757",
     "exception": false,
     "start_time": "2024-10-09T18:23:01.218115",
     "status": "completed"
    },
    "tags": []
   },
   "outputs": [
    {
     "name": "stdout",
     "output_type": "stream",
     "text": [
      "Number of 0s: 2537951Number of 1s: 738849 Ratio is 0.22547882080078124\n"
     ]
    }
   ],
   "source": [
    "# Count the number of 1s\n",
    "num_zeros = torch.sum(labels == 0).item()\n",
    "num_ones = torch.sum(labels == 1).item()\n",
    "\n",
    "print(f\"Number of 0s: {num_zeros}Number of 1s: {num_ones} Ratio is {num_ones/(num_ones + num_zeros)}\")"
   ]
  },
  {
   "cell_type": "code",
   "execution_count": 13,
   "id": "71ac4696",
   "metadata": {
    "execution": {
     "iopub.execute_input": "2024-10-09T18:23:01.290042Z",
     "iopub.status.busy": "2024-10-09T18:23:01.289703Z",
     "iopub.status.idle": "2024-10-09T18:23:03.505325Z",
     "shell.execute_reply": "2024-10-09T18:23:03.504545Z"
    },
    "papermill": {
     "duration": 2.226929,
     "end_time": "2024-10-09T18:23:03.507627",
     "exception": false,
     "start_time": "2024-10-09T18:23:01.280698",
     "status": "completed"
    },
    "tags": []
   },
   "outputs": [
    {
     "name": "stderr",
     "output_type": "stream",
     "text": [
      "/tmp/ipykernel_23/3072856817.py:16: UserWarning: To copy construct from a tensor, it is recommended to use sourceTensor.clone().detach() or sourceTensor.clone().detach().requires_grad_(True), rather than torch.tensor(sourceTensor).\n",
      "  train_data, test_data = torch.tensor(train_data, dtype=torch.float32).to(device), torch.tensor(test_data, dtype=torch.float32).to(device)\n",
      "/tmp/ipykernel_23/3072856817.py:17: UserWarning: To copy construct from a tensor, it is recommended to use sourceTensor.clone().detach() or sourceTensor.clone().detach().requires_grad_(True), rather than torch.tensor(sourceTensor).\n",
      "  train_labels, test_labels = torch.tensor(train_labels, dtype=torch.float32).to(device), torch.tensor(test_labels, dtype=torch.float32).to(device)\n"
     ]
    }
   ],
   "source": [
    "# Hyperparameters\n",
    "input_size = CONFIG.data_ch  # Number of features (channels)\n",
    "hidden_size = CONFIG.hidden_size  # Hidden state size of the GRU\n",
    "output_size = CONFIG.output_size  # Binary classification\n",
    "num_layers = CONFIG.num_layers  # Number of GRU layers\n",
    "learning_rate = CONFIG.learning_rate\n",
    "num_epochs = CONFIG.num_epochs\n",
    "batch_size = CONFIG.batch_size\n",
    "\n",
    "# Preprocessing (e.g., normalization)\n",
    "# scaler = StandardScaler()\n",
    "# neuroimaging_data = scaler.fit_transform(neuroimaging_data.reshape(-1, input_size)).reshape(neuroimaging_data.shape)\n",
    "\n",
    "# Convert numpy arrays to PyTorch tensors\n",
    "train_data, test_data, train_labels, test_labels = train_test_split(neuroimaging_data, labels, test_size=0.2, random_state=42)\n",
    "train_data, test_data = torch.tensor(train_data, dtype=torch.float32).to(device), torch.tensor(test_data, dtype=torch.float32).to(device)\n",
    "train_labels, test_labels = torch.tensor(train_labels, dtype=torch.float32).to(device), torch.tensor(test_labels, dtype=torch.float32).to(device)\n",
    "\n",
    "# Create GRU model\n",
    "model = BidirectionalLSTMClassifier(input_size, hidden_size, output_size, num_layers)\n",
    "model = torch.nn.DataParallel(model)\n",
    "model.to(device)\n",
    "\n",
    "# Loss and optimizer\n",
    "# criterion = nn.BCELoss()  # Binary Cross Entropy Loss for binary classification\n",
    "\n",
    "\n",
    "# Convert the class weights to a tensor and move to the appropriate device\n",
    "class_weights = class_weights.to(device)\n",
    "\n",
    "# Use BCEWithLogitsLoss, which combines sigmoid activation and binary cross-entropy loss\n",
    "criterion = nn.BCEWithLogitsLoss(pos_weight=normalized_weights[0])  # pos_weight applies only to class 1\n",
    "\n",
    "# optimizer = optim.Adam(model.parameters(), lr=learning_rate)\n",
    "optimizer = optim.Adam(model.parameters(), lr=learning_rate, weight_decay=1e-5)\n",
    "scheduler = torch.optim.lr_scheduler.ReduceLROnPlateau(optimizer, mode='min', factor=0.1, patience=20)"
   ]
  },
  {
   "cell_type": "code",
   "execution_count": 14,
   "id": "03f8dcac",
   "metadata": {
    "execution": {
     "iopub.execute_input": "2024-10-09T18:23:03.525097Z",
     "iopub.status.busy": "2024-10-09T18:23:03.524658Z",
     "iopub.status.idle": "2024-10-09T18:25:23.382756Z",
     "shell.execute_reply": "2024-10-09T18:25:23.381948Z"
    },
    "papermill": {
     "duration": 139.869376,
     "end_time": "2024-10-09T18:25:23.385115",
     "exception": false,
     "start_time": "2024-10-09T18:23:03.515739",
     "status": "completed"
    },
    "tags": []
   },
   "outputs": [
    {
     "name": "stderr",
     "output_type": "stream",
     "text": [
      "/opt/conda/lib/python3.10/site-packages/torch/nn/parallel/parallel_apply.py:79: FutureWarning: `torch.cuda.amp.autocast(args...)` is deprecated. Please use `torch.amp.autocast('cuda', args...)` instead.\n",
      "  with torch.cuda.device(device), torch.cuda.stream(stream), autocast(enabled=autocast_enabled):\n"
     ]
    },
    {
     "name": "stdout",
     "output_type": "stream",
     "text": [
      "Epoch [5/300], Train Loss: 0.7842, Val Loss: 0.7799\n",
      "Epoch [10/300], Train Loss: 0.7684, Val Loss: 0.7695\n",
      "Epoch [15/300], Train Loss: 0.7433, Val Loss: 0.7569\n",
      "Epoch [20/300], Train Loss: 0.7207, Val Loss: 0.7389\n",
      "Epoch [25/300], Train Loss: 0.7035, Val Loss: 0.7140\n",
      "Epoch [30/300], Train Loss: 0.6919, Val Loss: 0.6908\n",
      "Epoch [35/300], Train Loss: 0.6838, Val Loss: 0.6770\n",
      "Epoch [40/300], Train Loss: 0.6764, Val Loss: 0.6738\n",
      "Epoch [45/300], Train Loss: 0.6691, Val Loss: 0.6856\n",
      "Epoch [50/300], Train Loss: 0.6623, Val Loss: 0.7041\n",
      "Epoch [55/300], Train Loss: 0.6557, Val Loss: 0.7091\n",
      "Epoch [60/300], Train Loss: 0.6494, Val Loss: 0.7231\n",
      "Epoch [65/300], Train Loss: 0.6476, Val Loss: 0.6971\n",
      "Epoch [70/300], Train Loss: 0.6469, Val Loss: 0.6817\n",
      "Epoch [75/300], Train Loss: 0.6462, Val Loss: 0.6727\n",
      "Epoch [80/300], Train Loss: 0.6455, Val Loss: 0.6671\n",
      "Epoch [85/300], Train Loss: 0.6448, Val Loss: 0.6633\n",
      "Epoch [90/300], Train Loss: 0.6441, Val Loss: 0.6606\n",
      "Epoch [95/300], Train Loss: 0.6434, Val Loss: 0.6584\n",
      "Epoch [100/300], Train Loss: 0.6427, Val Loss: 0.6566\n",
      "Epoch [105/300], Train Loss: 0.6420, Val Loss: 0.6550\n",
      "Epoch [110/300], Train Loss: 0.6413, Val Loss: 0.6536\n",
      "Epoch [115/300], Train Loss: 0.6406, Val Loss: 0.6524\n",
      "Epoch [120/300], Train Loss: 0.6399, Val Loss: 0.6516\n",
      "Epoch [125/300], Train Loss: 0.6392, Val Loss: 0.6510\n",
      "Epoch [130/300], Train Loss: 0.6385, Val Loss: 0.6504\n",
      "Epoch [135/300], Train Loss: 0.6377, Val Loss: 0.6500\n",
      "Epoch [140/300], Train Loss: 0.6370, Val Loss: 0.6497\n",
      "Epoch [145/300], Train Loss: 0.6362, Val Loss: 0.6493\n",
      "Epoch [150/300], Train Loss: 0.6355, Val Loss: 0.6488\n",
      "Epoch [155/300], Train Loss: 0.6347, Val Loss: 0.6482\n",
      "Epoch [160/300], Train Loss: 0.6339, Val Loss: 0.6477\n",
      "Epoch [165/300], Train Loss: 0.6332, Val Loss: 0.6471\n",
      "Epoch [170/300], Train Loss: 0.6324, Val Loss: 0.6465\n",
      "Epoch [175/300], Train Loss: 0.6316, Val Loss: 0.6460\n",
      "Epoch [180/300], Train Loss: 0.6308, Val Loss: 0.6454\n",
      "Epoch [185/300], Train Loss: 0.6300, Val Loss: 0.6447\n",
      "Epoch [190/300], Train Loss: 0.6292, Val Loss: 0.6440\n",
      "Epoch [195/300], Train Loss: 0.6284, Val Loss: 0.6430\n",
      "Epoch [200/300], Train Loss: 0.6276, Val Loss: 0.6417\n",
      "Epoch [205/300], Train Loss: 0.6267, Val Loss: 0.6402\n",
      "Epoch [210/300], Train Loss: 0.6259, Val Loss: 0.6388\n",
      "Epoch [215/300], Train Loss: 0.6252, Val Loss: 0.6373\n",
      "Epoch [220/300], Train Loss: 0.6244, Val Loss: 0.6354\n",
      "Epoch [225/300], Train Loss: 0.6236, Val Loss: 0.6333\n",
      "Epoch [230/300], Train Loss: 0.6229, Val Loss: 0.6315\n",
      "Epoch [235/300], Train Loss: 0.6222, Val Loss: 0.6298\n",
      "Epoch [240/300], Train Loss: 0.6215, Val Loss: 0.6283\n",
      "Epoch [245/300], Train Loss: 0.6208, Val Loss: 0.6268\n",
      "Epoch [250/300], Train Loss: 0.6201, Val Loss: 0.6254\n",
      "Epoch [255/300], Train Loss: 0.6194, Val Loss: 0.6243\n",
      "Epoch [260/300], Train Loss: 0.6188, Val Loss: 0.6231\n",
      "Epoch [265/300], Train Loss: 0.6181, Val Loss: 0.6221\n",
      "Epoch [270/300], Train Loss: 0.6175, Val Loss: 0.6211\n",
      "Epoch [275/300], Train Loss: 0.6169, Val Loss: 0.6202\n",
      "Epoch [280/300], Train Loss: 0.6163, Val Loss: 0.6194\n",
      "Epoch [285/300], Train Loss: 0.6157, Val Loss: 0.6186\n",
      "Epoch [290/300], Train Loss: 0.6152, Val Loss: 0.6178\n",
      "Epoch [295/300], Train Loss: 0.6146, Val Loss: 0.6171\n",
      "Epoch [300/300], Train Loss: 0.6141, Val Loss: 0.6165\n"
     ]
    }
   ],
   "source": [
    "# Training loop\n",
    "for epoch in range(num_epochs):\n",
    "    model.train()  # Set model to training mode\n",
    "    optimizer.zero_grad()\n",
    "    \n",
    "    # Forward pass (training)\n",
    "    outputs = model(train_data)\n",
    "    loss = criterion(outputs, train_labels)\n",
    "    \n",
    "    # Backward pass and optimization\n",
    "    loss.backward()\n",
    "    \n",
    "    # Clip gradients to prevent exploding gradients\n",
    "    torch.nn.utils.clip_grad_norm_(model.parameters(), max_norm=1.0)\n",
    "    \n",
    "    optimizer.step()\n",
    "\n",
    "    # Validation phase (no gradient calculations)\n",
    "    model.eval()  # Set model to evaluation mode\n",
    "    with torch.no_grad():  # Disable gradient calculation for validation\n",
    "        val_outputs = model(test_data)\n",
    "        val_loss = criterion(val_outputs, test_labels)\n",
    "\n",
    "    # Update learning rate if validation loss plateaus\n",
    "    scheduler.step(val_loss)\n",
    "\n",
    "    # Print loss every 5 epochs\n",
    "    if (epoch + 1) % 5 == 0:\n",
    "        print(f'Epoch [{epoch+1}/{num_epochs}], Train Loss: {loss.item():.4f}, Val Loss: {val_loss.item():.4f}')\n"
   ]
  },
  {
   "cell_type": "code",
   "execution_count": 15,
   "id": "62f97511",
   "metadata": {
    "execution": {
     "iopub.execute_input": "2024-10-09T18:25:23.417836Z",
     "iopub.status.busy": "2024-10-09T18:25:23.417250Z",
     "iopub.status.idle": "2024-10-09T18:25:23.427403Z",
     "shell.execute_reply": "2024-10-09T18:25:23.426656Z"
    },
    "papermill": {
     "duration": 0.028819,
     "end_time": "2024-10-09T18:25:23.429298",
     "exception": false,
     "start_time": "2024-10-09T18:25:23.400479",
     "status": "completed"
    },
    "tags": []
   },
   "outputs": [],
   "source": [
    "# After the training loop\n",
    "# torch.save(model.state_dict(), 'D:\\PythonProjs\\CLARAi\\Trained_model_weights\\lstm_bidi_model_state_dict_data_300_ep_200.pth')\n",
    "torch.save(model.state_dict(), '/kaggle/working/lstm_bidi_model_state_dict_data_300_ep_200.pth')\n",
    "# print(\"Model state_dict saved to 'lstm_unidi_model_state_dict.pth'\")"
   ]
  },
  {
   "cell_type": "code",
   "execution_count": 16,
   "id": "5d683ed1",
   "metadata": {
    "execution": {
     "iopub.execute_input": "2024-10-09T18:25:23.460813Z",
     "iopub.status.busy": "2024-10-09T18:25:23.460260Z",
     "iopub.status.idle": "2024-10-09T18:25:24.524847Z",
     "shell.execute_reply": "2024-10-09T18:25:24.523931Z"
    },
    "papermill": {
     "duration": 1.082751,
     "end_time": "2024-10-09T18:25:24.526908",
     "exception": false,
     "start_time": "2024-10-09T18:25:23.444157",
     "status": "completed"
    },
    "tags": []
   },
   "outputs": [
    {
     "name": "stdout",
     "output_type": "stream",
     "text": [
      "Accuracy: 86.74%\n",
      "Confusion Matrix:\n",
      "[[461401  44509]\n",
      " [ 42413 107037]]\n"
     ]
    },
    {
     "data": {
      "image/png": "[encoded data removed]",
      "text/plain": [
       "<Figure size 600x400 with 2 Axes>"
      ]
     },
     "metadata": {},
     "output_type": "display_data"
    }
   ],
   "source": [
    "\n",
    "model.eval()\n",
    "with torch.no_grad():\n",
    "    test_outputs = model(test_data)\n",
    "    predicted = (test_outputs > 0.5).float()  # Threshold at 0.5 for binary classification\n",
    "    \n",
    "    # Calculate accuracy\n",
    "    accuracy = (predicted == test_labels).float().mean()\n",
    "    print(f'Accuracy: {accuracy.item() * 100:.2f}%')\n",
    "\n",
    "    # Flatten the predicted and test labels for confusion matrix calculation\n",
    "    predicted_flat = predicted.cpu().numpy().flatten()\n",
    "    test_labels_flat = test_labels.cpu().numpy().flatten()\n",
    "\n",
    "    # Generate the confusion matrix\n",
    "    cm = confusion_matrix(test_labels_flat, predicted_flat)\n",
    "    print(f'Confusion Matrix:\\n{cm}')\n",
    "\n",
    "    # Optional: plot the confusion matrix for visualization\n",
    "    plt.figure(figsize=(6,4))\n",
    "    sns.heatmap(cm, annot=True, fmt=\"d\", cmap=\"Blues\", xticklabels=['No Pain', 'Pain'], yticklabels=['No Pain', 'Pain'])\n",
    "    plt.ylabel('True Label')\n",
    "    plt.xlabel('Predicted Label')\n",
    "    plt.title('Confusion Matrix')\n",
    "    plt.show()\n"
   ]
  },
  {
   "cell_type": "code",
   "execution_count": 17,
   "id": "8dd5a64c",
   "metadata": {
    "execution": {
     "iopub.execute_input": "2024-10-09T18:25:24.555089Z",
     "iopub.status.busy": "2024-10-09T18:25:24.554542Z",
     "iopub.status.idle": "2024-10-09T18:25:24.562782Z",
     "shell.execute_reply": "2024-10-09T18:25:24.562015Z"
    },
    "papermill": {
     "duration": 0.024305,
     "end_time": "2024-10-09T18:25:24.564704",
     "exception": false,
     "start_time": "2024-10-09T18:25:24.540399",
     "status": "completed"
    },
    "tags": []
   },
   "outputs": [],
   "source": [
    "def plot_roc_auc(model, test_data, test_labels):\n",
    "    model.eval()\n",
    "    with torch.no_grad():\n",
    "        # Get the raw logits (before applying sigmoid)\n",
    "        test_outputs = model(test_data)\n",
    "        \n",
    "        # Convert test_labels and test_outputs to NumPy arrays for sklearn\n",
    "        test_labels_flat = test_labels.cpu().numpy().flatten()\n",
    "        test_outputs_flat = test_outputs.cpu().numpy().flatten()\n",
    "\n",
    "        # Calculate the false positive rate, true positive rate, and thresholds for the ROC curve\n",
    "        fpr, tpr, thresholds = roc_curve(test_labels_flat, test_outputs_flat)\n",
    "        \n",
    "        # Calculate the AUC score\n",
    "        roc_auc = auc(fpr, tpr)\n",
    "        \n",
    "        # Plot ROC curve\n",
    "        plt.figure(figsize=(8,6))\n",
    "        plt.plot(fpr, tpr, color='blue', label=f'ROC Curve (AUC = {roc_auc:.2f})')\n",
    "        plt.plot([0, 1], [0, 1], color='grey', linestyle='--')  # Random classifier line\n",
    "        plt.xlim([0.0, 1.0])\n",
    "        plt.ylim([0.0, 1.05])\n",
    "        plt.xlabel('False Positive Rate (FPR)')\n",
    "        plt.ylabel('True Positive Rate (TPR)')\n",
    "        plt.title('Receiver Operating Characteristic (ROC)')\n",
    "        plt.legend(loc='lower right')\n",
    "        plt.show()\n",
    "\n",
    "    return roc_auc"
   ]
  },
  {
   "cell_type": "code",
   "execution_count": 18,
   "id": "d7b78ccc",
   "metadata": {
    "execution": {
     "iopub.execute_input": "2024-10-09T18:25:24.591846Z",
     "iopub.status.busy": "2024-10-09T18:25:24.591532Z",
     "iopub.status.idle": "2024-10-09T18:25:25.008959Z",
     "shell.execute_reply": "2024-10-09T18:25:25.008082Z"
    },
    "papermill": {
     "duration": 0.433787,
     "end_time": "2024-10-09T18:25:25.011430",
     "exception": false,
     "start_time": "2024-10-09T18:25:24.577643",
     "status": "completed"
    },
    "tags": []
   },
   "outputs": [
    {
     "name": "stderr",
     "output_type": "stream",
     "text": [
      "/opt/conda/lib/python3.10/site-packages/torch/nn/parallel/parallel_apply.py:79: FutureWarning: `torch.cuda.amp.autocast(args...)` is deprecated. Please use `torch.amp.autocast('cuda', args...)` instead.\n",
      "  with torch.cuda.device(device), torch.cuda.stream(stream), autocast(enabled=autocast_enabled):\n"
     ]
    },
    {
     "data": {
      "image/png": "[encoded data removed]",
      "text/plain": [
       "<Figure size 800x600 with 1 Axes>"
      ]
     },
     "metadata": {},
     "output_type": "display_data"
    },
    {
     "data": {
      "text/plain": [
       "0.8651465691716617"
      ]
     },
     "execution_count": 18,
     "metadata": {},
     "output_type": "execute_result"
    }
   ],
   "source": [
    "plot_roc_auc(model, test_data, test_labels)"
   ]
  },
  {
   "cell_type": "code",
   "execution_count": 19,
   "id": "e3106933",
   "metadata": {
    "execution": {
     "iopub.execute_input": "2024-10-09T18:25:25.041020Z",
     "iopub.status.busy": "2024-10-09T18:25:25.040658Z",
     "iopub.status.idle": "2024-10-09T18:25:25.078915Z",
     "shell.execute_reply": "2024-10-09T18:25:25.078128Z"
    },
    "papermill": {
     "duration": 0.055319,
     "end_time": "2024-10-09T18:25:25.080841",
     "exception": false,
     "start_time": "2024-10-09T18:25:25.025522",
     "status": "completed"
    },
    "tags": []
   },
   "outputs": [],
   "source": [
    "# Test data evaluation\n",
    "\n",
    "# data_test = pd.read_csv('D:\\PythonProjs\\CLARAi\\Data_test\\data18.csv')\n",
    "# label_test = pd.read_csv('D:\\PythonProjs\\CLARAi\\Label_test\\label18.csv')\n",
    "\n",
    "data_test = pd.read_csv('/kaggle/input/CLARAi/Data_test/data18.csv')\n",
    "label_test = pd.read_csv('/kaggle/input/CLARAi/Label_test/label18.csv')\n",
    "\n",
    "data_test= data_test.to_numpy()\n",
    "label_test = label_test.to_numpy()\n",
    "\n",
    "sequence_length = CONFIG.seq_len\n",
    "input_size = CONFIG.data_ch\n",
    "\n",
    "\n",
    "# Calculate the number of complete sequences\n",
    "num_sequences = data_test.shape[0] // sequence_length  # 5 sequences\n",
    "\n",
    "# Truncate the data to have only complete sequences\n",
    "truncated_data = data_test[:num_sequences * sequence_length]  # Shape: (1280, 36)\n",
    "\n",
    "# Reshape to (num_sequences, sequence_length, input_size)\n",
    "test_sequences = truncated_data.reshape(num_sequences, sequence_length, input_size)  # Shape: (5, 256, 36)\n",
    "\n",
    "# Convert to PyTorch tensor\n",
    "test_sequences = torch.tensor(test_sequences, dtype=torch.float32)\n"
   ]
  },
  {
   "cell_type": "code",
   "execution_count": 20,
   "id": "80a4ee24",
   "metadata": {
    "execution": {
     "iopub.execute_input": "2024-10-09T18:25:25.110827Z",
     "iopub.status.busy": "2024-10-09T18:25:25.110192Z",
     "iopub.status.idle": "2024-10-09T18:25:25.135477Z",
     "shell.execute_reply": "2024-10-09T18:25:25.134283Z"
    },
    "papermill": {
     "duration": 0.042242,
     "end_time": "2024-10-09T18:25:25.137397",
     "exception": false,
     "start_time": "2024-10-09T18:25:25.095155",
     "status": "completed"
    },
    "tags": []
   },
   "outputs": [
    {
     "name": "stderr",
     "output_type": "stream",
     "text": [
      "/opt/conda/lib/python3.10/site-packages/torch/nn/parallel/parallel_apply.py:79: FutureWarning: `torch.cuda.amp.autocast(args...)` is deprecated. Please use `torch.amp.autocast('cuda', args...)` instead.\n",
      "  with torch.cuda.device(device), torch.cuda.stream(stream), autocast(enabled=autocast_enabled):\n"
     ]
    }
   ],
   "source": [
    "\n",
    "# Create DataLoader\n",
    "test_dataset = TensorDataset(test_sequences)\n",
    "test_loader = DataLoader(test_dataset, batch_size=2, shuffle=False)  # Adjust batch_size as needed\n",
    "\n",
    "# Perform inference\n",
    "all_outputs = []\n",
    "with torch.no_grad():\n",
    "    for batch in test_loader:\n",
    "        inputs = batch[0].to(device)  # (batch_size, 256, 36)\n",
    "        outputs = model(inputs)       # (batch_size, 256, 1)\n",
    "        all_outputs.append(outputs.cpu().numpy())\n",
    "\n",
    "# Concatenate all outputs\n",
    "all_outputs = np.concatenate(all_outputs, axis=0)  # Shape: (6, 256, 1)\n",
    "\n",
    "# Apply threshold to get binary predictions\n",
    "predictions = (all_outputs >= 0.5).astype(int)  # Shape: (6, 256, 1)\n",
    "predictions = predictions.squeeze(-1)           # Shape: (6, 256)\n",
    "# Flatten the predictions\n",
    "flattened_predictions = predictions.flatten()  # Shape: (1536,)\n",
    "\n",
    "true_label = label_test[:num_sequences * sequence_length].squeeze(-1)"
   ]
  },
  {
   "cell_type": "code",
   "execution_count": 21,
   "id": "a06bd15b",
   "metadata": {
    "execution": {
     "iopub.execute_input": "2024-10-09T18:25:25.168274Z",
     "iopub.status.busy": "2024-10-09T18:25:25.167527Z",
     "iopub.status.idle": "2024-10-09T18:25:25.460484Z",
     "shell.execute_reply": "2024-10-09T18:25:25.459618Z"
    },
    "papermill": {
     "duration": 0.310427,
     "end_time": "2024-10-09T18:25:25.462453",
     "exception": false,
     "start_time": "2024-10-09T18:25:25.152026",
     "status": "completed"
    },
    "tags": []
   },
   "outputs": [
    {
     "name": "stdout",
     "output_type": "stream",
     "text": [
      "Confusion Matrix:\n",
      "[[801  12]\n",
      " [197  14]]\n",
      "\n",
      "Classification Report:\n",
      "              precision    recall  f1-score   support\n",
      "\n",
      "           0       0.80      0.99      0.88       813\n",
      "           1       0.54      0.07      0.12       211\n",
      "\n",
      "    accuracy                           0.80      1024\n",
      "   macro avg       0.67      0.53      0.50      1024\n",
      "weighted avg       0.75      0.80      0.73      1024\n",
      "\n"
     ]
    },
    {
     "data": {
      "image/png": "[encoded data removed]",
      "text/plain": [
       "<Figure size 600x500 with 2 Axes>"
      ]
     },
     "metadata": {},
     "output_type": "display_data"
    }
   ],
   "source": [
    "cm = confusion_matrix(true_label, flattened_predictions)\n",
    "print(\"Confusion Matrix:\")\n",
    "print(cm)\n",
    "\n",
    "# Optional: Detailed classification report\n",
    "print(\"\\nClassification Report:\")\n",
    "print(classification_report(true_label, flattened_predictions))\n",
    "\n",
    "# Optional: Visualize the confusion matrix\n",
    "labels = ['Negative', 'Positive']\n",
    "cm_df = pd.DataFrame(cm, index=labels, columns=labels)\n",
    "\n",
    "plt.figure(figsize=(6,5))\n",
    "sns.heatmap(cm_df, annot=True, fmt='d', cmap='Blues')\n",
    "plt.ylabel('Actual')\n",
    "plt.xlabel('Predicted')\n",
    "plt.title('Confusion Matrix')\n",
    "plt.show()"
   ]
  }
 ],
 "metadata": {
  "kaggle": {
   "accelerator": "nvidiaTeslaT4",
   "dataSources": [
    {
     "datasetId": 5754676,
     "sourceId": 9588403,
     "sourceType": "datasetVersion"
    }
   ],
   "dockerImageVersionId": 30776,
   "isGpuEnabled": true,
   "isInternetEnabled": true,
   "language": "python",
   "sourceType": "notebook"
  },
  "kernelspec": {
   "display_name": "Python 3",
   "language": "python",
   "name": "python3"
  },
  "language_info": {
   "codemirror_mode": {
    "name": "ipython",
    "version": 3
   },
   "file_extension": ".py",
   "mimetype": "text/x-python",
   "name": "python",
   "nbconvert_exporter": "python",
   "pygments_lexer": "ipython3",
   "version": "3.10.14"
  },
  "papermill": {
   "default_parameters": {},
   "duration": 158.043754,
   "end_time": "2024-10-09T18:25:26.999727",
   "environment_variables": {},
   "exception": null,
   "input_path": "__notebook__.ipynb",
   "output_path": "__notebook__.ipynb",
   "parameters": {},
   "start_time": "2024-10-09T18:22:48.955973",
   "version": "2.6.0"
  }
 },
 "nbformat": 4,
 "nbformat_minor": 5
}
