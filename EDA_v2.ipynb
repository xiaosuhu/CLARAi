{
 "cells": [
  {
   "cell_type": "code",
   "execution_count": null,
   "metadata": {},
   "outputs": [],
   "source": [
    "import pandas as pd\n",
    "import os\n",
    "from sklearn.preprocessing import MinMaxScaler"
   ]
  },
  {
   "cell_type": "code",
   "execution_count": null,
   "metadata": {},
   "outputs": [],
   "source": [
    "# Define the folder where your CSV files are located\n",
    "folder_path = 'D:\\PythonProjs\\CLARAi\\Data'\n",
    "output_dir = 'D:\\PythonProjs\\CLARAi\\Data_norm'\n",
    "\n",
    "# List all the CSV files in the folder\n",
    "csv_files = [file for file in os.listdir(folder_path) if file.endswith('.csv')]\n",
    "\n",
    "# Function to normalize a DataFrame\n",
    "def normalize_dataframe(df):\n",
    "    scaler = MinMaxScaler()\n",
    "    numeric_columns = df.select_dtypes(include=['float64', 'int64']).columns  # Select numeric columns\n",
    "    df[numeric_columns] = scaler.fit_transform(df[numeric_columns])  # Normalize the numeric columns\n",
    "    return df"
   ]
  },
  {
   "cell_type": "code",
   "execution_count": null,
   "metadata": {},
   "outputs": [],
   "source": [
    "\n",
    "# Loop through each CSV file, load, normalize, and save back to CSV\n",
    "for file in csv_files:\n",
    "    # Load CSV file into a DataFrame\n",
    "    df = pd.read_csv(os.path.join(folder_path, file))\n",
    "    \n",
    "    # Normalize the DataFrame\n",
    "    normalized_df = normalize_dataframe(df)\n",
    "    \n",
    "    # Save the normalized DataFrame back to CSV\n",
    "    normalized_df.to_csv(os.path.join(output_dir, file), index=False)"
   ]
  }
 ],
 "metadata": {
  "kernelspec": {
   "display_name": "torchwin",
   "language": "python",
   "name": "python3"
  },
  "language_info": {
   "name": "python",
   "version": "3.10.14"
  }
 },
 "nbformat": 4,
 "nbformat_minor": 2
}
