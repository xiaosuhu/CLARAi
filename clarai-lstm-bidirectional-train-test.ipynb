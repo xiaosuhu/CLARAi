{
 "cells": [
  {
   "cell_type": "code",
   "execution_count": 1,
   "id": "760cf49c",
   "metadata": {
    "execution": {
     "iopub.execute_input": "2024-10-03T14:48:57.649970Z",
     "iopub.status.busy": "2024-10-03T14:48:57.649624Z",
     "iopub.status.idle": "2024-10-03T14:49:03.080317Z",
     "shell.execute_reply": "2024-10-03T14:49:03.079370Z"
    },
    "papermill": {
     "duration": 5.44105,
     "end_time": "2024-10-03T14:49:03.082589",
     "exception": false,
     "start_time": "2024-10-03T14:48:57.641539",
     "status": "completed"
    },
    "tags": []
   },
   "outputs": [],
   "source": [
    "from sklearn.model_selection import train_test_split\n",
    "from sklearn.preprocessing import StandardScaler\n",
    "from sklearn.utils.class_weight import compute_class_weight\n",
    "from sklearn.metrics import confusion_matrix, classification_report, roc_curve, auc\n",
    "from torch.utils.data import DataLoader, TensorDataset\n",
    "\n",
    "import torch\n",
    "import torch.nn as nn\n",
    "import torch.optim as optim\n",
    "import pandas as pd\n",
    "import numpy as np\n",
    "import matplotlib.pyplot as plt\n",
    "import seaborn as sns\n",
    "\n",
    "import glob"
   ]
  },
  {
   "cell_type": "code",
   "execution_count": 2,
   "id": "513f4a77",
   "metadata": {
    "execution": {
     "iopub.execute_input": "2024-10-03T14:49:03.097251Z",
     "iopub.status.busy": "2024-10-03T14:49:03.096808Z",
     "iopub.status.idle": "2024-10-03T14:49:03.173482Z",
     "shell.execute_reply": "2024-10-03T14:49:03.172579Z"
    },
    "papermill": {
     "duration": 0.08654,
     "end_time": "2024-10-03T14:49:03.175742",
     "exception": false,
     "start_time": "2024-10-03T14:49:03.089202",
     "status": "completed"
    },
    "tags": []
   },
   "outputs": [
    {
     "name": "stdout",
     "output_type": "stream",
     "text": [
      "cuda\n"
     ]
    }
   ],
   "source": [
    "# device = torch.device(\"mps\")\n",
    "device = torch.device(\"cuda\" if torch.cuda.is_available() else \"cpu\")\n",
    "print(device)"
   ]
  },
  {
   "cell_type": "code",
   "execution_count": 3,
   "id": "977d3b54",
   "metadata": {
    "execution": {
     "iopub.execute_input": "2024-10-03T14:49:03.189867Z",
     "iopub.status.busy": "2024-10-03T14:49:03.189255Z",
     "iopub.status.idle": "2024-10-03T14:49:03.196195Z",
     "shell.execute_reply": "2024-10-03T14:49:03.195362Z"
    },
    "papermill": {
     "duration": 0.016343,
     "end_time": "2024-10-03T14:49:03.198596",
     "exception": false,
     "start_time": "2024-10-03T14:49:03.182253",
     "status": "completed"
    },
    "tags": []
   },
   "outputs": [
    {
     "data": {
      "text/plain": [
       "'# Step 1: Get a list of all CSV file paths in the directory\\ndata_path = glob.glob(\"D:\\\\PythonProjs\\\\CLARAi\\\\Data\\\\*.csv\")  # Modify with your directory path\\nlabel_path = glob.glob(\"D:\\\\PythonProjs\\\\CLARAi\\\\Label\\\\*.csv\")\\n\\n# Step 2: Read each CSV file and store in a list of DataFrames\\ndatadfs = [pd.read_csv(file) for file in data_path]\\nlabeldfs = [pd.read_csv(file) for file in label_path]\\n\\n# Step 3: Concatenate all DataFrames into one\\nfinal_data_df = pd.concat(datadfs, ignore_index=True)\\nfinal_label_df = pd.concat(labeldfs, ignore_index=True)'"
      ]
     },
     "execution_count": 3,
     "metadata": {},
     "output_type": "execute_result"
    }
   ],
   "source": [
    "\"\"\"# Step 1: Get a list of all CSV file paths in the directory\n",
    "data_path = glob.glob(\"D:\\PythonProjs\\CLARAi\\Data\\*.csv\")  # Modify with your directory path\n",
    "label_path = glob.glob(\"D:\\PythonProjs\\CLARAi\\Label\\*.csv\")\n",
    "\n",
    "# Step 2: Read each CSV file and store in a list of DataFrames\n",
    "datadfs = [pd.read_csv(file) for file in data_path]\n",
    "labeldfs = [pd.read_csv(file) for file in label_path]\n",
    "\n",
    "# Step 3: Concatenate all DataFrames into one\n",
    "final_data_df = pd.concat(datadfs, ignore_index=True)\n",
    "final_label_df = pd.concat(labeldfs, ignore_index=True)\"\"\""
   ]
  },
  {
   "cell_type": "code",
   "execution_count": 4,
   "id": "9404c0b4",
   "metadata": {
    "execution": {
     "iopub.execute_input": "2024-10-03T14:49:03.213861Z",
     "iopub.status.busy": "2024-10-03T14:49:03.213198Z",
     "iopub.status.idle": "2024-10-03T14:49:03.217679Z",
     "shell.execute_reply": "2024-10-03T14:49:03.216885Z"
    },
    "papermill": {
     "duration": 0.014513,
     "end_time": "2024-10-03T14:49:03.219509",
     "exception": false,
     "start_time": "2024-10-03T14:49:03.204996",
     "status": "completed"
    },
    "tags": []
   },
   "outputs": [],
   "source": [
    "class CONFIG:\n",
    "    seq_len = 128\n",
    "    num_seq = 500\n",
    "    data_ch = 36\n",
    "    hidden_size = 32  # Hidden state size of the GRU\n",
    "    output_size = 1  # Binary classification\n",
    "    num_layers = 6  # Number of GRU layers\n",
    "    learning_rate = 0.001\n",
    "    num_epochs = 250\n",
    "    batch_size = 8"
   ]
  },
  {
   "cell_type": "code",
   "execution_count": 5,
   "id": "508d947e",
   "metadata": {
    "execution": {
     "iopub.execute_input": "2024-10-03T14:49:03.233514Z",
     "iopub.status.busy": "2024-10-03T14:49:03.233001Z",
     "iopub.status.idle": "2024-10-03T14:49:03.240882Z",
     "shell.execute_reply": "2024-10-03T14:49:03.240072Z"
    },
    "papermill": {
     "duration": 0.016839,
     "end_time": "2024-10-03T14:49:03.242675",
     "exception": false,
     "start_time": "2024-10-03T14:49:03.225836",
     "status": "completed"
    },
    "tags": []
   },
   "outputs": [],
   "source": [
    "def data_gen(data_path, label_path):\n",
    "    final_data_df = pd.read_csv(data_path)\n",
    "    final_label_df = pd.read_csv(label_path)\n",
    "\n",
    "    train_labels_flat = final_label_df.values.flatten()\n",
    "    \n",
    "    # Compute class weights (inverse of class frequencies)\n",
    "    class_weights = compute_class_weight(class_weight='balanced', classes=np.unique(train_labels_flat), y=train_labels_flat)\n",
    "    class_weights = torch.tensor(class_weights, dtype=torch.float32)\n",
    "\n",
    "    # Parameters\n",
    "    sequence_length = CONFIG.seq_len  # Length of each subsequence\n",
    "    num_subsequences = CONFIG.num_seq  # Number of subsequences to extract\n",
    "\n",
    "    # Get possible starting indices, ensuring there's enough space for a full subsequence\n",
    "    possible_starts = np.arange(0, len(final_data_df) - sequence_length + 1)\n",
    "    np.random.shuffle(possible_starts)\n",
    "\n",
    "    # Select the first `num_subsequences` starting indices\n",
    "    selected_starts = possible_starts[:num_subsequences]\n",
    "\n",
    "    # Create a list to hold the subsequences\n",
    "    subsequences = [final_data_df.iloc[start:start + sequence_length].values for start in selected_starts]\n",
    "    sublabels = [final_label_df.iloc[start:start + sequence_length].values for start in selected_starts]\n",
    "\n",
    "    # Convert subsequences list to a NumPy array\n",
    "    subsequences_array = np.array(subsequences)\n",
    "    sublabels_array = np.array(sublabels)\n",
    "\n",
    "    # subsequences_array will have shape (num_subsequences, sequence_length, num_channels)\n",
    "    # print(subsequences_array.shape)  # Should print (100, 100, 36)\n",
    "    # print(sublabels_array.shape)\n",
    "\n",
    "    return torch.from_numpy(subsequences_array), torch.from_numpy(sublabels_array), class_weights\n"
   ]
  },
  {
   "cell_type": "code",
   "execution_count": 6,
   "id": "ab119e9f",
   "metadata": {
    "execution": {
     "iopub.execute_input": "2024-10-03T14:49:03.256565Z",
     "iopub.status.busy": "2024-10-03T14:49:03.256097Z",
     "iopub.status.idle": "2024-10-03T14:49:03.265069Z",
     "shell.execute_reply": "2024-10-03T14:49:03.264274Z"
    },
    "papermill": {
     "duration": 0.017988,
     "end_time": "2024-10-03T14:49:03.267003",
     "exception": false,
     "start_time": "2024-10-03T14:49:03.249015",
     "status": "completed"
    },
    "tags": []
   },
   "outputs": [],
   "source": [
    "\n",
    "# Sample time series data with shape (batch_size, sequence_length, num_features)\n",
    "# neuroimaging_data: Time series data from multiple neuroimaging channels\n",
    "# labels: Binary labels (0 = no pain, 1 = pain) for each time step\n",
    "# Assume neuroimaging_data is a numpy array of shape (num_samples, sequence_length, num_channels)\n",
    "# labels is a numpy array of shape (num_samples, sequence_length)\n",
    "\n",
    "class BidirectionalLSTMClassifier(nn.Module):\n",
    "    def __init__(self, input_size, hidden_size, output_size, num_layers=1):\n",
    "        super(BidirectionalLSTMClassifier, self).__init__()\n",
    "        self.hidden_size = hidden_size\n",
    "        self.num_layers = num_layers\n",
    "        self.lstm = nn.LSTM(input_size, hidden_size, num_layers, batch_first=True, bidirectional=True)\n",
    "        \n",
    "        # Adjust the fully connected layer to account for doubled hidden size (forward + backward)\n",
    "        self.fc = nn.Linear(hidden_size * 2, output_size)\n",
    "        self.batch_norm = nn.BatchNorm1d(hidden_size * 2)  # Adjust Batch Normalization for bidirectional\n",
    "        self.sigmoid = nn.Sigmoid()\n",
    "\n",
    "    def forward(self, x):\n",
    "        # Initialize hidden state and cell state with zeros for both directions\n",
    "        h0 = torch.zeros(self.num_layers * 2, x.size(0), self.hidden_size).to(x.device)  # *2 for bidirectional\n",
    "        c0 = torch.zeros(self.num_layers * 2, x.size(0), self.hidden_size).to(x.device)\n",
    "\n",
    "        # LSTM forward pass\n",
    "        out, _ = self.lstm(x, (h0, c0))\n",
    "        \n",
    "        # Apply batch normalization\n",
    "        # Permute to (batch_size, hidden_size*2, sequence_length) for batch norm\n",
    "        out = out.permute(0, 2, 1)\n",
    "        out = self.batch_norm(out)\n",
    "        \n",
    "        # Permute back to (batch_size, sequence_length, hidden_size*2)\n",
    "        out = out.permute(0, 2, 1)\n",
    "        \n",
    "        # Apply the linear layer to each time step\n",
    "        out = self.fc(out)\n",
    "        \n",
    "        return self.sigmoid(out)\n"
   ]
  },
  {
   "cell_type": "code",
   "execution_count": 7,
   "id": "8bf884f6",
   "metadata": {
    "execution": {
     "iopub.execute_input": "2024-10-03T14:49:03.280807Z",
     "iopub.status.busy": "2024-10-03T14:49:03.280278Z",
     "iopub.status.idle": "2024-10-03T14:49:03.299176Z",
     "shell.execute_reply": "2024-10-03T14:49:03.298527Z"
    },
    "papermill": {
     "duration": 0.02777,
     "end_time": "2024-10-03T14:49:03.301024",
     "exception": false,
     "start_time": "2024-10-03T14:49:03.273254",
     "status": "completed"
    },
    "tags": []
   },
   "outputs": [],
   "source": [
    "# data_path = glob.glob(\"D:\\PythonProjs\\CLARAi\\Data_train\\*.csv\")  # Modify with your directory path\n",
    "# label_path = glob.glob(\"D:\\PythonProjs\\CLARAi\\Label_train\\*.csv\")\n",
    "\n",
    "# data_path = glob.glob(\"/home/frank/Documents/CLARAi/Data/*.csv\")  # Modify with your directory path\n",
    "# label_path = glob.glob(\"/home/frank/Documents/CLARAi/Label/*.csv\")\n",
    "\n",
    "# data_path = glob.glob(\"/Users/xiaosuhu/Documents/Python/CLARAi/Data/*.csv\")  # Modify with your directory path\n",
    "# label_path = glob.glob(\"/Users/xiaosuhu/Documents/Python/CLARAi/Data/*.csv\")\n",
    "\n",
    "data_path = glob.glob(\"/kaggle/input/CLARAi/Data_train/*.csv\")  # Modify with your directory path\n",
    "label_path = glob.glob(\"/kaggle/input/CLARAi/Label_train/*.csv\")\n",
    "\n",
    "# Sort the lists\n",
    "data_path = sorted(data_path)\n",
    "label_path = sorted(label_path)\n"
   ]
  },
  {
   "cell_type": "code",
   "execution_count": 8,
   "id": "f5a6a90c",
   "metadata": {
    "execution": {
     "iopub.execute_input": "2024-10-03T14:49:03.314940Z",
     "iopub.status.busy": "2024-10-03T14:49:03.314277Z",
     "iopub.status.idle": "2024-10-03T14:49:03.319758Z",
     "shell.execute_reply": "2024-10-03T14:49:03.318958Z"
    },
    "papermill": {
     "duration": 0.01431,
     "end_time": "2024-10-03T14:49:03.321602",
     "exception": false,
     "start_time": "2024-10-03T14:49:03.307292",
     "status": "completed"
    },
    "tags": []
   },
   "outputs": [
    {
     "data": {
      "text/plain": [
       "['/kaggle/input/CLARAi/Data_train/data1.csv',\n",
       " '/kaggle/input/CLARAi/Data_train/data10.csv',\n",
       " '/kaggle/input/CLARAi/Data_train/data11.csv',\n",
       " '/kaggle/input/CLARAi/Data_train/data12.csv',\n",
       " '/kaggle/input/CLARAi/Data_train/data13.csv',\n",
       " '/kaggle/input/CLARAi/Data_train/data16.csv',\n",
       " '/kaggle/input/CLARAi/Data_train/data17.csv',\n",
       " '/kaggle/input/CLARAi/Data_train/data3.csv',\n",
       " '/kaggle/input/CLARAi/Data_train/data4.csv',\n",
       " '/kaggle/input/CLARAi/Data_train/data5.csv',\n",
       " '/kaggle/input/CLARAi/Data_train/data6.csv',\n",
       " '/kaggle/input/CLARAi/Data_train/data7.csv',\n",
       " '/kaggle/input/CLARAi/Data_train/data8.csv',\n",
       " '/kaggle/input/CLARAi/Data_train/data9.csv']"
      ]
     },
     "execution_count": 8,
     "metadata": {},
     "output_type": "execute_result"
    }
   ],
   "source": [
    "data_path"
   ]
  },
  {
   "cell_type": "code",
   "execution_count": 9,
   "id": "caa3f4fe",
   "metadata": {
    "execution": {
     "iopub.execute_input": "2024-10-03T14:49:03.336206Z",
     "iopub.status.busy": "2024-10-03T14:49:03.335797Z",
     "iopub.status.idle": "2024-10-03T14:49:03.352132Z",
     "shell.execute_reply": "2024-10-03T14:49:03.351331Z"
    },
    "papermill": {
     "duration": 0.025831,
     "end_time": "2024-10-03T14:49:03.354077",
     "exception": false,
     "start_time": "2024-10-03T14:49:03.328246",
     "status": "completed"
    },
    "tags": []
   },
   "outputs": [],
   "source": [
    "\n",
    "# data_path = \"D:\\PythonProjs\\CLARAi\\Data\\data1.csv\"\n",
    "# label_path = \"D:\\PythonProjs\\CLARAi\\Label\\label1.csv\"\n",
    "neuroimaging_data = torch.empty(0,CONFIG.seq_len,CONFIG.data_ch)\n",
    "labels = torch.empty(0,CONFIG.seq_len,1)\n",
    "class_weights = torch.Tensor([0., 0.])"
   ]
  },
  {
   "cell_type": "code",
   "execution_count": 10,
   "id": "4b08255a",
   "metadata": {
    "execution": {
     "iopub.execute_input": "2024-10-03T14:49:03.367812Z",
     "iopub.status.busy": "2024-10-03T14:49:03.367514Z",
     "iopub.status.idle": "2024-10-03T14:49:05.061903Z",
     "shell.execute_reply": "2024-10-03T14:49:05.060656Z"
    },
    "papermill": {
     "duration": 1.703698,
     "end_time": "2024-10-03T14:49:05.064105",
     "exception": false,
     "start_time": "2024-10-03T14:49:03.360407",
     "status": "completed"
    },
    "tags": []
   },
   "outputs": [
    {
     "name": "stdout",
     "output_type": "stream",
     "text": [
      "datapath: /kaggle/input/CLARAi/Data_train/data1.csv\n",
      "labelpath: /kaggle/input/CLARAi/Label_train/label1.csv\n",
      "Data shape: torch.Size([500, 128, 36]), Label shape: torch.Size([500, 128, 1]), Weight shape: torch.Size([2])\n",
      "datapath: /kaggle/input/CLARAi/Data_train/data10.csv\n",
      "labelpath: /kaggle/input/CLARAi/Label_train/label10.csv\n",
      "Data shape: torch.Size([500, 128, 36]), Label shape: torch.Size([500, 128, 1]), Weight shape: torch.Size([2])\n",
      "datapath: /kaggle/input/CLARAi/Data_train/data11.csv\n",
      "labelpath: /kaggle/input/CLARAi/Label_train/label11.csv\n",
      "Data shape: torch.Size([500, 128, 36]), Label shape: torch.Size([500, 128, 1]), Weight shape: torch.Size([2])\n",
      "datapath: /kaggle/input/CLARAi/Data_train/data12.csv\n",
      "labelpath: /kaggle/input/CLARAi/Label_train/label12.csv\n",
      "Data shape: torch.Size([500, 128, 36]), Label shape: torch.Size([500, 128, 1]), Weight shape: torch.Size([2])\n",
      "datapath: /kaggle/input/CLARAi/Data_train/data13.csv\n",
      "labelpath: /kaggle/input/CLARAi/Label_train/label13.csv\n",
      "Data shape: torch.Size([500, 128, 36]), Label shape: torch.Size([500, 128, 1]), Weight shape: torch.Size([2])\n",
      "datapath: /kaggle/input/CLARAi/Data_train/data16.csv\n",
      "labelpath: /kaggle/input/CLARAi/Label_train/label16.csv\n",
      "Data shape: torch.Size([500, 128, 36]), Label shape: torch.Size([500, 128, 1]), Weight shape: torch.Size([2])\n",
      "datapath: /kaggle/input/CLARAi/Data_train/data17.csv\n",
      "labelpath: /kaggle/input/CLARAi/Label_train/label17.csv\n",
      "Data shape: torch.Size([500, 128, 36]), Label shape: torch.Size([500, 128, 1]), Weight shape: torch.Size([2])\n",
      "datapath: /kaggle/input/CLARAi/Data_train/data3.csv\n",
      "labelpath: /kaggle/input/CLARAi/Label_train/label3.csv\n",
      "Data shape: torch.Size([500, 128, 36]), Label shape: torch.Size([500, 128, 1]), Weight shape: torch.Size([2])\n",
      "datapath: /kaggle/input/CLARAi/Data_train/data4.csv\n",
      "labelpath: /kaggle/input/CLARAi/Label_train/label4.csv\n",
      "Data shape: torch.Size([500, 128, 36]), Label shape: torch.Size([500, 128, 1]), Weight shape: torch.Size([2])\n",
      "datapath: /kaggle/input/CLARAi/Data_train/data5.csv\n",
      "labelpath: /kaggle/input/CLARAi/Label_train/label5.csv\n",
      "Data shape: torch.Size([500, 128, 36]), Label shape: torch.Size([500, 128, 1]), Weight shape: torch.Size([2])\n",
      "datapath: /kaggle/input/CLARAi/Data_train/data6.csv\n",
      "labelpath: /kaggle/input/CLARAi/Label_train/label6.csv\n",
      "Data shape: torch.Size([500, 128, 36]), Label shape: torch.Size([500, 128, 1]), Weight shape: torch.Size([2])\n",
      "datapath: /kaggle/input/CLARAi/Data_train/data7.csv\n",
      "labelpath: /kaggle/input/CLARAi/Label_train/label7.csv\n",
      "Data shape: torch.Size([500, 128, 36]), Label shape: torch.Size([500, 128, 1]), Weight shape: torch.Size([2])\n",
      "datapath: /kaggle/input/CLARAi/Data_train/data8.csv\n",
      "labelpath: /kaggle/input/CLARAi/Label_train/label8.csv\n",
      "Data shape: torch.Size([500, 128, 36]), Label shape: torch.Size([500, 128, 1]), Weight shape: torch.Size([2])\n",
      "datapath: /kaggle/input/CLARAi/Data_train/data9.csv\n",
      "labelpath: /kaggle/input/CLARAi/Label_train/label9.csv\n",
      "Data shape: torch.Size([500, 128, 36]), Label shape: torch.Size([500, 128, 1]), Weight shape: torch.Size([2])\n"
     ]
    }
   ],
   "source": [
    "\n",
    "for datapath, labelpath in zip(data_path, label_path):\n",
    "    print(f'datapath: {datapath}')\n",
    "    print(f'labelpath: {labelpath}')    \n",
    "    data, label, weight = data_gen(datapath, labelpath)\n",
    "    print(f'Data shape: {data.shape}, Label shape: {label.shape}, Weight shape: {weight.shape}')\n",
    "    neuroimaging_data= torch.cat([neuroimaging_data, data])\n",
    "    labels = torch.cat([labels, label])\n",
    "    class_weights += weight\n",
    "\n",
    "normalized_weights = class_weights / class_weights.sum()\n"
   ]
  },
  {
   "cell_type": "code",
   "execution_count": 11,
   "id": "fefbb287",
   "metadata": {
    "execution": {
     "iopub.execute_input": "2024-10-03T14:49:05.081615Z",
     "iopub.status.busy": "2024-10-03T14:49:05.080910Z",
     "iopub.status.idle": "2024-10-03T14:49:05.087602Z",
     "shell.execute_reply": "2024-10-03T14:49:05.086761Z"
    },
    "papermill": {
     "duration": 0.017332,
     "end_time": "2024-10-03T14:49:05.089613",
     "exception": false,
     "start_time": "2024-10-03T14:49:05.072281",
     "status": "completed"
    },
    "tags": []
   },
   "outputs": [
    {
     "data": {
      "text/plain": [
       "(torch.Size([7000, 128, 36]), torch.Size([7000, 128, 1]))"
      ]
     },
     "execution_count": 11,
     "metadata": {},
     "output_type": "execute_result"
    }
   ],
   "source": [
    "neuroimaging_data.shape, labels.shape"
   ]
  },
  {
   "cell_type": "code",
   "execution_count": 12,
   "id": "e66a2b2d",
   "metadata": {
    "execution": {
     "iopub.execute_input": "2024-10-03T14:49:05.108370Z",
     "iopub.status.busy": "2024-10-03T14:49:05.107858Z",
     "iopub.status.idle": "2024-10-03T14:49:05.124279Z",
     "shell.execute_reply": "2024-10-03T14:49:05.123338Z"
    },
    "papermill": {
     "duration": 0.027398,
     "end_time": "2024-10-03T14:49:05.126323",
     "exception": false,
     "start_time": "2024-10-03T14:49:05.098925",
     "status": "completed"
    },
    "tags": []
   },
   "outputs": [
    {
     "name": "stdout",
     "output_type": "stream",
     "text": [
      "Number of 0s: 685607Number of 1s: 210393 Ratio is 0.23481361607142856\n"
     ]
    }
   ],
   "source": [
    "# Count the number of 1s\n",
    "num_zeros = torch.sum(labels == 0).item()\n",
    "num_ones = torch.sum(labels == 1).item()\n",
    "\n",
    "print(f\"Number of 0s: {num_zeros}Number of 1s: {num_ones} Ratio is {num_ones/(num_ones + num_zeros)}\")"
   ]
  },
  {
   "cell_type": "code",
   "execution_count": 13,
   "id": "0df14673",
   "metadata": {
    "execution": {
     "iopub.execute_input": "2024-10-03T14:49:05.145565Z",
     "iopub.status.busy": "2024-10-03T14:49:05.145277Z",
     "iopub.status.idle": "2024-10-03T14:49:06.884667Z",
     "shell.execute_reply": "2024-10-03T14:49:06.883709Z"
    },
    "papermill": {
     "duration": 1.751449,
     "end_time": "2024-10-03T14:49:06.887098",
     "exception": false,
     "start_time": "2024-10-03T14:49:05.135649",
     "status": "completed"
    },
    "tags": []
   },
   "outputs": [
    {
     "name": "stderr",
     "output_type": "stream",
     "text": [
      "/tmp/ipykernel_24/3072856817.py:16: UserWarning: To copy construct from a tensor, it is recommended to use sourceTensor.clone().detach() or sourceTensor.clone().detach().requires_grad_(True), rather than torch.tensor(sourceTensor).\n",
      "  train_data, test_data = torch.tensor(train_data, dtype=torch.float32).to(device), torch.tensor(test_data, dtype=torch.float32).to(device)\n",
      "/tmp/ipykernel_24/3072856817.py:17: UserWarning: To copy construct from a tensor, it is recommended to use sourceTensor.clone().detach() or sourceTensor.clone().detach().requires_grad_(True), rather than torch.tensor(sourceTensor).\n",
      "  train_labels, test_labels = torch.tensor(train_labels, dtype=torch.float32).to(device), torch.tensor(test_labels, dtype=torch.float32).to(device)\n"
     ]
    }
   ],
   "source": [
    "# Hyperparameters\n",
    "input_size = CONFIG.data_ch  # Number of features (channels)\n",
    "hidden_size = CONFIG.hidden_size  # Hidden state size of the GRU\n",
    "output_size = CONFIG.output_size  # Binary classification\n",
    "num_layers = CONFIG.num_layers  # Number of GRU layers\n",
    "learning_rate = CONFIG.learning_rate\n",
    "num_epochs = CONFIG.num_epochs\n",
    "batch_size = CONFIG.batch_size\n",
    "\n",
    "# Preprocessing (e.g., normalization)\n",
    "# scaler = StandardScaler()\n",
    "# neuroimaging_data = scaler.fit_transform(neuroimaging_data.reshape(-1, input_size)).reshape(neuroimaging_data.shape)\n",
    "\n",
    "# Convert numpy arrays to PyTorch tensors\n",
    "train_data, test_data, train_labels, test_labels = train_test_split(neuroimaging_data, labels, test_size=0.2, random_state=42)\n",
    "train_data, test_data = torch.tensor(train_data, dtype=torch.float32).to(device), torch.tensor(test_data, dtype=torch.float32).to(device)\n",
    "train_labels, test_labels = torch.tensor(train_labels, dtype=torch.float32).to(device), torch.tensor(test_labels, dtype=torch.float32).to(device)\n",
    "\n",
    "# Create GRU model\n",
    "model = BidirectionalLSTMClassifier(input_size, hidden_size, output_size, num_layers)\n",
    "model = torch.nn.DataParallel(model)\n",
    "model.to(device)\n",
    "\n",
    "# Loss and optimizer\n",
    "# criterion = nn.BCELoss()  # Binary Cross Entropy Loss for binary classification\n",
    "\n",
    "\n",
    "# Convert the class weights to a tensor and move to the appropriate device\n",
    "class_weights = class_weights.to(device)\n",
    "\n",
    "# Use BCEWithLogitsLoss, which combines sigmoid activation and binary cross-entropy loss\n",
    "criterion = nn.BCEWithLogitsLoss(pos_weight=normalized_weights[0])  # pos_weight applies only to class 1\n",
    "\n",
    "# optimizer = optim.Adam(model.parameters(), lr=learning_rate)\n",
    "optimizer = optim.Adam(model.parameters(), lr=learning_rate, weight_decay=1e-5)\n",
    "scheduler = torch.optim.lr_scheduler.ReduceLROnPlateau(optimizer, mode='min', factor=0.1, patience=20)"
   ]
  },
  {
   "cell_type": "code",
   "execution_count": 14,
   "id": "df1c5127",
   "metadata": {
    "execution": {
     "iopub.execute_input": "2024-10-03T14:49:06.905661Z",
     "iopub.status.busy": "2024-10-03T14:49:06.904926Z",
     "iopub.status.idle": "2024-10-03T14:50:02.453593Z",
     "shell.execute_reply": "2024-10-03T14:50:02.452452Z"
    },
    "papermill": {
     "duration": 55.56013,
     "end_time": "2024-10-03T14:50:02.455774",
     "exception": false,
     "start_time": "2024-10-03T14:49:06.895644",
     "status": "completed"
    },
    "tags": []
   },
   "outputs": [
    {
     "name": "stderr",
     "output_type": "stream",
     "text": [
      "/opt/conda/lib/python3.10/site-packages/torch/nn/parallel/parallel_apply.py:79: FutureWarning: `torch.cuda.amp.autocast(args...)` is deprecated. Please use `torch.amp.autocast('cuda', args...)` instead.\n",
      "  with torch.cuda.device(device), torch.cuda.stream(stream), autocast(enabled=autocast_enabled):\n"
     ]
    },
    {
     "name": "stdout",
     "output_type": "stream",
     "text": [
      "Epoch [5/250], Train Loss: 0.7520, Val Loss: 0.7650\n",
      "Epoch [10/250], Train Loss: 0.6982, Val Loss: 0.7626\n",
      "Epoch [15/250], Train Loss: 0.6671, Val Loss: 0.7691\n",
      "Epoch [20/250], Train Loss: 0.6531, Val Loss: 0.7646\n",
      "Epoch [25/250], Train Loss: 0.6422, Val Loss: 0.7518\n",
      "Epoch [30/250], Train Loss: 0.6338, Val Loss: 0.7326\n",
      "Epoch [35/250], Train Loss: 0.6262, Val Loss: 0.6952\n",
      "Epoch [40/250], Train Loss: 0.6194, Val Loss: 0.6578\n",
      "Epoch [45/250], Train Loss: 0.6134, Val Loss: 0.6307\n",
      "Epoch [50/250], Train Loss: 0.6072, Val Loss: 0.6121\n",
      "Epoch [55/250], Train Loss: 0.6022, Val Loss: 0.6045\n",
      "Epoch [60/250], Train Loss: 0.5982, Val Loss: 0.5998\n",
      "Epoch [65/250], Train Loss: 0.5951, Val Loss: 0.5968\n",
      "Epoch [70/250], Train Loss: 0.5895, Val Loss: 0.5932\n",
      "Epoch [75/250], Train Loss: 0.5879, Val Loss: 0.5917\n",
      "Epoch [80/250], Train Loss: 0.5868, Val Loss: 0.5906\n",
      "Epoch [85/250], Train Loss: 0.5856, Val Loss: 0.5899\n",
      "Epoch [90/250], Train Loss: 0.5849, Val Loss: 0.5891\n",
      "Epoch [95/250], Train Loss: 0.5844, Val Loss: 0.5884\n",
      "Epoch [100/250], Train Loss: 0.5840, Val Loss: 0.5879\n",
      "Epoch [105/250], Train Loss: 0.5836, Val Loss: 0.5874\n",
      "Epoch [110/250], Train Loss: 0.5833, Val Loss: 0.5869\n",
      "Epoch [115/250], Train Loss: 0.5830, Val Loss: 0.5865\n",
      "Epoch [120/250], Train Loss: 0.5827, Val Loss: 0.5862\n",
      "Epoch [125/250], Train Loss: 0.5825, Val Loss: 0.5859\n",
      "Epoch [130/250], Train Loss: 0.5823, Val Loss: 0.5857\n",
      "Epoch [135/250], Train Loss: 0.5821, Val Loss: 0.5855\n",
      "Epoch [140/250], Train Loss: 0.5821, Val Loss: 0.5856\n",
      "Epoch [145/250], Train Loss: 0.5819, Val Loss: 0.5854\n",
      "Epoch [150/250], Train Loss: 0.5820, Val Loss: 0.5853\n",
      "Epoch [155/250], Train Loss: 0.5818, Val Loss: 0.5852\n",
      "Epoch [160/250], Train Loss: 0.5816, Val Loss: 0.5850\n",
      "Epoch [165/250], Train Loss: 0.5815, Val Loss: 0.5848\n",
      "Epoch [170/250], Train Loss: 0.5814, Val Loss: 0.5847\n",
      "Epoch [175/250], Train Loss: 0.5813, Val Loss: 0.5848\n",
      "Epoch [180/250], Train Loss: 0.5812, Val Loss: 0.5847\n",
      "Epoch [185/250], Train Loss: 0.5812, Val Loss: 0.5846\n",
      "Epoch [190/250], Train Loss: 0.5811, Val Loss: 0.5846\n",
      "Epoch [195/250], Train Loss: 0.5810, Val Loss: 0.5845\n",
      "Epoch [200/250], Train Loss: 0.5810, Val Loss: 0.5844\n",
      "Epoch [205/250], Train Loss: 0.5812, Val Loss: 0.5847\n",
      "Epoch [210/250], Train Loss: 0.5820, Val Loss: 0.5852\n",
      "Epoch [215/250], Train Loss: 0.5816, Val Loss: 0.5850\n",
      "Epoch [220/250], Train Loss: 0.5814, Val Loss: 0.5846\n",
      "Epoch [225/250], Train Loss: 0.5813, Val Loss: 0.5845\n",
      "Epoch [230/250], Train Loss: 0.5811, Val Loss: 0.5845\n",
      "Epoch [235/250], Train Loss: 0.5810, Val Loss: 0.5844\n",
      "Epoch [240/250], Train Loss: 0.5810, Val Loss: 0.5844\n",
      "Epoch [245/250], Train Loss: 0.5810, Val Loss: 0.5844\n",
      "Epoch [250/250], Train Loss: 0.5810, Val Loss: 0.5844\n"
     ]
    }
   ],
   "source": [
    "# Training loop\n",
    "for epoch in range(num_epochs):\n",
    "    model.train()  # Set model to training mode\n",
    "    optimizer.zero_grad()\n",
    "    \n",
    "    # Forward pass (training)\n",
    "    outputs = model(train_data)\n",
    "    loss = criterion(outputs, train_labels)\n",
    "    \n",
    "    # Backward pass and optimization\n",
    "    loss.backward()\n",
    "    \n",
    "    # Clip gradients to prevent exploding gradients\n",
    "    torch.nn.utils.clip_grad_norm_(model.parameters(), max_norm=1.0)\n",
    "    \n",
    "    optimizer.step()\n",
    "\n",
    "    # Validation phase (no gradient calculations)\n",
    "    model.eval()  # Set model to evaluation mode\n",
    "    with torch.no_grad():  # Disable gradient calculation for validation\n",
    "        val_outputs = model(test_data)\n",
    "        val_loss = criterion(val_outputs, test_labels)\n",
    "\n",
    "    # Update learning rate if validation loss plateaus\n",
    "    scheduler.step(val_loss)\n",
    "\n",
    "    # Print loss every 5 epochs\n",
    "    if (epoch + 1) % 5 == 0:\n",
    "        print(f'Epoch [{epoch+1}/{num_epochs}], Train Loss: {loss.item():.4f}, Val Loss: {val_loss.item():.4f}')\n"
   ]
  },
  {
   "cell_type": "code",
   "execution_count": 15,
   "id": "50514c14",
   "metadata": {
    "execution": {
     "iopub.execute_input": "2024-10-03T14:50:02.486747Z",
     "iopub.status.busy": "2024-10-03T14:50:02.486414Z",
     "iopub.status.idle": "2024-10-03T14:50:02.497781Z",
     "shell.execute_reply": "2024-10-03T14:50:02.496991Z"
    },
    "papermill": {
     "duration": 0.029418,
     "end_time": "2024-10-03T14:50:02.499970",
     "exception": false,
     "start_time": "2024-10-03T14:50:02.470552",
     "status": "completed"
    },
    "tags": []
   },
   "outputs": [],
   "source": [
    "# After the training loop\n",
    "# torch.save(model.state_dict(), 'D:\\PythonProjs\\CLARAi\\Trained_model_weights\\lstm_bidi_model_state_dict_data_300_ep_200.pth')\n",
    "torch.save(model.state_dict(), '/kaggle/working/lstm_bidi_model_state_dict_data_300_ep_200.pth')\n",
    "# print(\"Model state_dict saved to 'lstm_unidi_model_state_dict.pth'\")"
   ]
  },
  {
   "cell_type": "code",
   "execution_count": 16,
   "id": "42275e5c",
   "metadata": {
    "execution": {
     "iopub.execute_input": "2024-10-03T14:50:02.532509Z",
     "iopub.status.busy": "2024-10-03T14:50:02.531871Z",
     "iopub.status.idle": "2024-10-03T14:50:03.096005Z",
     "shell.execute_reply": "2024-10-03T14:50:03.095082Z"
    },
    "papermill": {
     "duration": 0.583412,
     "end_time": "2024-10-03T14:50:03.098085",
     "exception": false,
     "start_time": "2024-10-03T14:50:02.514673",
     "status": "completed"
    },
    "tags": []
   },
   "outputs": [
    {
     "name": "stdout",
     "output_type": "stream",
     "text": [
      "Accuracy: 90.61%\n",
      "Confusion Matrix:\n",
      "[[126954   9993]\n",
      " [  6838  35415]]\n"
     ]
    },
    {
     "data": {
      "image/png": "[encoded data removed]",
      "text/plain": [
       "<Figure size 600x400 with 2 Axes>"
      ]
     },
     "metadata": {},
     "output_type": "display_data"
    }
   ],
   "source": [
    "\n",
    "model.eval()\n",
    "with torch.no_grad():\n",
    "    test_outputs = model(test_data)\n",
    "    predicted = (test_outputs > 0.5).float()  # Threshold at 0.5 for binary classification\n",
    "    \n",
    "    # Calculate accuracy\n",
    "    accuracy = (predicted == test_labels).float().mean()\n",
    "    print(f'Accuracy: {accuracy.item() * 100:.2f}%')\n",
    "\n",
    "    # Flatten the predicted and test labels for confusion matrix calculation\n",
    "    predicted_flat = predicted.cpu().numpy().flatten()\n",
    "    test_labels_flat = test_labels.cpu().numpy().flatten()\n",
    "\n",
    "    # Generate the confusion matrix\n",
    "    cm = confusion_matrix(test_labels_flat, predicted_flat)\n",
    "    print(f'Confusion Matrix:\\n{cm}')\n",
    "\n",
    "    # Optional: plot the confusion matrix for visualization\n",
    "    plt.figure(figsize=(6,4))\n",
    "    sns.heatmap(cm, annot=True, fmt=\"d\", cmap=\"Blues\", xticklabels=['No Pain', 'Pain'], yticklabels=['No Pain', 'Pain'])\n",
    "    plt.ylabel('True Label')\n",
    "    plt.xlabel('Predicted Label')\n",
    "    plt.title('Confusion Matrix')\n",
    "    plt.show()\n"
   ]
  },
  {
   "cell_type": "code",
   "execution_count": 17,
   "id": "16f80d6f",
   "metadata": {
    "execution": {
     "iopub.execute_input": "2024-10-03T14:50:03.125241Z",
     "iopub.status.busy": "2024-10-03T14:50:03.124931Z",
     "iopub.status.idle": "2024-10-03T14:50:03.133177Z",
     "shell.execute_reply": "2024-10-03T14:50:03.132384Z"
    },
    "papermill": {
     "duration": 0.023947,
     "end_time": "2024-10-03T14:50:03.135087",
     "exception": false,
     "start_time": "2024-10-03T14:50:03.111140",
     "status": "completed"
    },
    "tags": []
   },
   "outputs": [],
   "source": [
    "def plot_roc_auc(model, test_data, test_labels):\n",
    "    model.eval()\n",
    "    with torch.no_grad():\n",
    "        # Get the raw logits (before applying sigmoid)\n",
    "        test_outputs = model(test_data)\n",
    "        \n",
    "        # Convert test_labels and test_outputs to NumPy arrays for sklearn\n",
    "        test_labels_flat = test_labels.cpu().numpy().flatten()\n",
    "        test_outputs_flat = test_outputs.cpu().numpy().flatten()\n",
    "\n",
    "        # Calculate the false positive rate, true positive rate, and thresholds for the ROC curve\n",
    "        fpr, tpr, thresholds = roc_curve(test_labels_flat, test_outputs_flat)\n",
    "        \n",
    "        # Calculate the AUC score\n",
    "        roc_auc = auc(fpr, tpr)\n",
    "        \n",
    "        # Plot ROC curve\n",
    "        plt.figure(figsize=(8,6))\n",
    "        plt.plot(fpr, tpr, color='blue', label=f'ROC Curve (AUC = {roc_auc:.2f})')\n",
    "        plt.plot([0, 1], [0, 1], color='grey', linestyle='--')  # Random classifier line\n",
    "        plt.xlim([0.0, 1.0])\n",
    "        plt.ylim([0.0, 1.05])\n",
    "        plt.xlabel('False Positive Rate (FPR)')\n",
    "        plt.ylabel('True Positive Rate (TPR)')\n",
    "        plt.title('Receiver Operating Characteristic (ROC)')\n",
    "        plt.legend(loc='lower right')\n",
    "        plt.show()\n",
    "\n",
    "    return roc_auc"
   ]
  },
  {
   "cell_type": "code",
   "execution_count": 18,
   "id": "b18987cf",
   "metadata": {
    "execution": {
     "iopub.execute_input": "2024-10-03T14:50:03.160907Z",
     "iopub.status.busy": "2024-10-03T14:50:03.160573Z",
     "iopub.status.idle": "2024-10-03T14:50:03.484358Z",
     "shell.execute_reply": "2024-10-03T14:50:03.483526Z"
    },
    "papermill": {
     "duration": 0.338886,
     "end_time": "2024-10-03T14:50:03.486353",
     "exception": false,
     "start_time": "2024-10-03T14:50:03.147467",
     "status": "completed"
    },
    "tags": []
   },
   "outputs": [
    {
     "name": "stderr",
     "output_type": "stream",
     "text": [
      "/opt/conda/lib/python3.10/site-packages/torch/nn/parallel/parallel_apply.py:79: FutureWarning: `torch.cuda.amp.autocast(args...)` is deprecated. Please use `torch.amp.autocast('cuda', args...)` instead.\n",
      "  with torch.cuda.device(device), torch.cuda.stream(stream), autocast(enabled=autocast_enabled):\n"
     ]
    },
    {
     "data": {
      "image/png": "[encoded data removed]",
      "text/plain": [
       "<Figure size 800x600 with 1 Axes>"
      ]
     },
     "metadata": {},
     "output_type": "display_data"
    },
    {
     "data": {
      "text/plain": [
       "0.9137263761118852"
      ]
     },
     "execution_count": 18,
     "metadata": {},
     "output_type": "execute_result"
    }
   ],
   "source": [
    "plot_roc_auc(model, test_data, test_labels)"
   ]
  },
  {
   "cell_type": "code",
   "execution_count": 19,
   "id": "849dca47",
   "metadata": {
    "execution": {
     "iopub.execute_input": "2024-10-03T14:50:03.514278Z",
     "iopub.status.busy": "2024-10-03T14:50:03.514001Z",
     "iopub.status.idle": "2024-10-03T14:50:03.554084Z",
     "shell.execute_reply": "2024-10-03T14:50:03.553144Z"
    },
    "papermill": {
     "duration": 0.056384,
     "end_time": "2024-10-03T14:50:03.556053",
     "exception": false,
     "start_time": "2024-10-03T14:50:03.499669",
     "status": "completed"
    },
    "tags": []
   },
   "outputs": [],
   "source": [
    "# Test data evaluation\n",
    "\n",
    "# data_test = pd.read_csv('D:\\PythonProjs\\CLARAi\\Data_test\\data18.csv')\n",
    "# label_test = pd.read_csv('D:\\PythonProjs\\CLARAi\\Label_test\\label18.csv')\n",
    "\n",
    "data_test = pd.read_csv('/kaggle/input/CLARAi/Data_test/data18.csv')\n",
    "label_test = pd.read_csv('/kaggle/input/CLARAi/Label_test/label18.csv')\n",
    "\n",
    "data_test= data_test.to_numpy()\n",
    "label_test = label_test.to_numpy()\n",
    "\n",
    "sequence_length = CONFIG.seq_len\n",
    "input_size = CONFIG.data_ch\n",
    "\n",
    "\n",
    "# Calculate the number of complete sequences\n",
    "num_sequences = data_test.shape[0] // sequence_length  # 5 sequences\n",
    "\n",
    "# Truncate the data to have only complete sequences\n",
    "truncated_data = data_test[:num_sequences * sequence_length]  # Shape: (1280, 36)\n",
    "\n",
    "# Reshape to (num_sequences, sequence_length, input_size)\n",
    "test_sequences = truncated_data.reshape(num_sequences, sequence_length, input_size)  # Shape: (5, 256, 36)\n",
    "\n",
    "# Convert to PyTorch tensor\n",
    "test_sequences = torch.tensor(test_sequences, dtype=torch.float32)\n"
   ]
  },
  {
   "cell_type": "code",
   "execution_count": 20,
   "id": "fb1e1ef2",
   "metadata": {
    "execution": {
     "iopub.execute_input": "2024-10-03T14:50:03.583837Z",
     "iopub.status.busy": "2024-10-03T14:50:03.583521Z",
     "iopub.status.idle": "2024-10-03T14:50:03.682282Z",
     "shell.execute_reply": "2024-10-03T14:50:03.681291Z"
    },
    "papermill": {
     "duration": 0.115207,
     "end_time": "2024-10-03T14:50:03.684703",
     "exception": false,
     "start_time": "2024-10-03T14:50:03.569496",
     "status": "completed"
    },
    "tags": []
   },
   "outputs": [
    {
     "name": "stderr",
     "output_type": "stream",
     "text": [
      "/opt/conda/lib/python3.10/site-packages/torch/nn/parallel/parallel_apply.py:79: FutureWarning: `torch.cuda.amp.autocast(args...)` is deprecated. Please use `torch.amp.autocast('cuda', args...)` instead.\n",
      "  with torch.cuda.device(device), torch.cuda.stream(stream), autocast(enabled=autocast_enabled):\n"
     ]
    }
   ],
   "source": [
    "\n",
    "# Create DataLoader\n",
    "test_dataset = TensorDataset(test_sequences)\n",
    "test_loader = DataLoader(test_dataset, batch_size=2, shuffle=False)  # Adjust batch_size as needed\n",
    "\n",
    "# Perform inference\n",
    "all_outputs = []\n",
    "with torch.no_grad():\n",
    "    for batch in test_loader:\n",
    "        inputs = batch[0].to(device)  # (batch_size, 256, 36)\n",
    "        outputs = model(inputs)       # (batch_size, 256, 1)\n",
    "        all_outputs.append(outputs.cpu().numpy())\n",
    "\n",
    "# Concatenate all outputs\n",
    "all_outputs = np.concatenate(all_outputs, axis=0)  # Shape: (6, 256, 1)\n",
    "\n",
    "# Apply threshold to get binary predictions\n",
    "predictions = (all_outputs >= 0.5).astype(int)  # Shape: (6, 256, 1)\n",
    "predictions = predictions.squeeze(-1)           # Shape: (6, 256)\n",
    "# Flatten the predictions\n",
    "flattened_predictions = predictions.flatten()  # Shape: (1536,)\n",
    "\n",
    "true_label = label_test[:num_sequences * sequence_length].squeeze(-1)"
   ]
  },
  {
   "cell_type": "code",
   "execution_count": 21,
   "id": "943ea9a8",
   "metadata": {
    "execution": {
     "iopub.execute_input": "2024-10-03T14:50:03.717939Z",
     "iopub.status.busy": "2024-10-03T14:50:03.717556Z",
     "iopub.status.idle": "2024-10-03T14:50:04.011058Z",
     "shell.execute_reply": "2024-10-03T14:50:04.010171Z"
    },
    "papermill": {
     "duration": 0.311025,
     "end_time": "2024-10-03T14:50:04.013050",
     "exception": false,
     "start_time": "2024-10-03T14:50:03.702025",
     "status": "completed"
    },
    "tags": []
   },
   "outputs": [
    {
     "name": "stdout",
     "output_type": "stream",
     "text": [
      "Confusion Matrix:\n",
      "[[853  56]\n",
      " [237   6]]\n",
      "\n",
      "Classification Report:\n",
      "              precision    recall  f1-score   support\n",
      "\n",
      "           0       0.78      0.94      0.85       909\n",
      "           1       0.10      0.02      0.04       243\n",
      "\n",
      "    accuracy                           0.75      1152\n",
      "   macro avg       0.44      0.48      0.45      1152\n",
      "weighted avg       0.64      0.75      0.68      1152\n",
      "\n"
     ]
    },
    {
     "data": {
      "image/png": "[encoded data removed]",
      "text/plain": [
       "<Figure size 600x500 with 2 Axes>"
      ]
     },
     "metadata": {},
     "output_type": "display_data"
    }
   ],
   "source": [
    "cm = confusion_matrix(true_label, flattened_predictions)\n",
    "print(\"Confusion Matrix:\")\n",
    "print(cm)\n",
    "\n",
    "# Optional: Detailed classification report\n",
    "print(\"\\nClassification Report:\")\n",
    "print(classification_report(true_label, flattened_predictions))\n",
    "\n",
    "# Optional: Visualize the confusion matrix\n",
    "labels = ['Negative', 'Positive']\n",
    "cm_df = pd.DataFrame(cm, index=labels, columns=labels)\n",
    "\n",
    "plt.figure(figsize=(6,5))\n",
    "sns.heatmap(cm_df, annot=True, fmt='d', cmap='Blues')\n",
    "plt.ylabel('Actual')\n",
    "plt.xlabel('Predicted')\n",
    "plt.title('Confusion Matrix')\n",
    "plt.show()"
   ]
  }
 ],
 "metadata": {
  "kaggle": {
   "accelerator": "nvidiaTeslaT4",
   "dataSources": [
    {
     "datasetId": 5754676,
     "sourceId": 9534427,
     "sourceType": "datasetVersion"
    }
   ],
   "dockerImageVersionId": 30776,
   "isGpuEnabled": true,
   "isInternetEnabled": true,
   "language": "python",
   "sourceType": "notebook"
  },
  "kernelspec": {
   "display_name": "Python 3",
   "language": "python",
   "name": "python3"
  },
  "language_info": {
   "codemirror_mode": {
    "name": "ipython",
    "version": 3
   },
   "file_extension": ".py",
   "mimetype": "text/x-python",
   "name": "python",
   "nbconvert_exporter": "python",
   "pygments_lexer": "ipython3",
   "version": "3.10.14"
  },
  "papermill": {
   "default_parameters": {},
   "duration": 70.515623,
   "end_time": "2024-10-03T14:50:05.549336",
   "environment_variables": {},
   "exception": null,
   "input_path": "__notebook__.ipynb",
   "output_path": "__notebook__.ipynb",
   "parameters": {},
   "start_time": "2024-10-03T14:48:55.033713",
   "version": "2.6.0"
  }
 },
 "nbformat": 4,
 "nbformat_minor": 5
}
