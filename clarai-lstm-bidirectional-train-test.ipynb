{
 "cells": [
  {
   "cell_type": "code",
   "execution_count": 1,
   "id": "cc2f5215",
   "metadata": {
    "execution": {
     "iopub.execute_input": "2024-10-03T14:12:56.689656Z",
     "iopub.status.busy": "2024-10-03T14:12:56.689321Z",
     "iopub.status.idle": "2024-10-03T14:13:06.074876Z",
     "shell.execute_reply": "2024-10-03T14:13:06.074085Z"
    },
    "papermill": {
     "duration": 9.395637,
     "end_time": "2024-10-03T14:13:06.077051",
     "exception": false,
     "start_time": "2024-10-03T14:12:56.681414",
     "status": "completed"
    },
    "tags": []
   },
   "outputs": [],
   "source": [
    "from sklearn.model_selection import train_test_split\n",
    "from sklearn.preprocessing import StandardScaler\n",
    "from sklearn.utils.class_weight import compute_class_weight\n",
    "from sklearn.metrics import confusion_matrix, classification_report, roc_curve, auc\n",
    "from torch.utils.data import DataLoader, TensorDataset\n",
    "\n",
    "import torch\n",
    "import torch.nn as nn\n",
    "import torch.optim as optim\n",
    "import pandas as pd\n",
    "import numpy as np\n",
    "import matplotlib.pyplot as plt\n",
    "import seaborn as sns\n",
    "\n",
    "import glob"
   ]
  },
  {
   "cell_type": "code",
   "execution_count": 2,
   "id": "c6413064",
   "metadata": {
    "execution": {
     "iopub.execute_input": "2024-10-03T14:13:06.090766Z",
     "iopub.status.busy": "2024-10-03T14:13:06.090353Z",
     "iopub.status.idle": "2024-10-03T14:13:06.181084Z",
     "shell.execute_reply": "2024-10-03T14:13:06.180151Z"
    },
    "papermill": {
     "duration": 0.100326,
     "end_time": "2024-10-03T14:13:06.183790",
     "exception": false,
     "start_time": "2024-10-03T14:13:06.083464",
     "status": "completed"
    },
    "tags": []
   },
   "outputs": [
    {
     "name": "stdout",
     "output_type": "stream",
     "text": [
      "cuda\n"
     ]
    }
   ],
   "source": [
    "# device = torch.device(\"mps\")\n",
    "device = torch.device(\"cuda\" if torch.cuda.is_available() else \"cpu\")\n",
    "print(device)"
   ]
  },
  {
   "cell_type": "code",
   "execution_count": 3,
   "id": "41b4dc47",
   "metadata": {
    "execution": {
     "iopub.execute_input": "2024-10-03T14:13:06.198096Z",
     "iopub.status.busy": "2024-10-03T14:13:06.197789Z",
     "iopub.status.idle": "2024-10-03T14:13:06.205172Z",
     "shell.execute_reply": "2024-10-03T14:13:06.204240Z"
    },
    "papermill": {
     "duration": 0.016767,
     "end_time": "2024-10-03T14:13:06.207151",
     "exception": false,
     "start_time": "2024-10-03T14:13:06.190384",
     "status": "completed"
    },
    "tags": []
   },
   "outputs": [
    {
     "data": {
      "text/plain": [
       "'# Step 1: Get a list of all CSV file paths in the directory\\ndata_path = glob.glob(\"D:\\\\PythonProjs\\\\CLARAi\\\\Data\\\\*.csv\")  # Modify with your directory path\\nlabel_path = glob.glob(\"D:\\\\PythonProjs\\\\CLARAi\\\\Label\\\\*.csv\")\\n\\n# Step 2: Read each CSV file and store in a list of DataFrames\\ndatadfs = [pd.read_csv(file) for file in data_path]\\nlabeldfs = [pd.read_csv(file) for file in label_path]\\n\\n# Step 3: Concatenate all DataFrames into one\\nfinal_data_df = pd.concat(datadfs, ignore_index=True)\\nfinal_label_df = pd.concat(labeldfs, ignore_index=True)'"
      ]
     },
     "execution_count": 3,
     "metadata": {},
     "output_type": "execute_result"
    }
   ],
   "source": [
    "\"\"\"# Step 1: Get a list of all CSV file paths in the directory\n",
    "data_path = glob.glob(\"D:\\PythonProjs\\CLARAi\\Data\\*.csv\")  # Modify with your directory path\n",
    "label_path = glob.glob(\"D:\\PythonProjs\\CLARAi\\Label\\*.csv\")\n",
    "\n",
    "# Step 2: Read each CSV file and store in a list of DataFrames\n",
    "datadfs = [pd.read_csv(file) for file in data_path]\n",
    "labeldfs = [pd.read_csv(file) for file in label_path]\n",
    "\n",
    "# Step 3: Concatenate all DataFrames into one\n",
    "final_data_df = pd.concat(datadfs, ignore_index=True)\n",
    "final_label_df = pd.concat(labeldfs, ignore_index=True)\"\"\""
   ]
  },
  {
   "cell_type": "code",
   "execution_count": 4,
   "id": "964668c3",
   "metadata": {
    "execution": {
     "iopub.execute_input": "2024-10-03T14:13:06.220628Z",
     "iopub.status.busy": "2024-10-03T14:13:06.220325Z",
     "iopub.status.idle": "2024-10-03T14:13:06.228706Z",
     "shell.execute_reply": "2024-10-03T14:13:06.227844Z"
    },
    "papermill": {
     "duration": 0.017291,
     "end_time": "2024-10-03T14:13:06.230609",
     "exception": false,
     "start_time": "2024-10-03T14:13:06.213318",
     "status": "completed"
    },
    "tags": []
   },
   "outputs": [],
   "source": [
    "def data_gen(data_path, label_path):\n",
    "    final_data_df = pd.read_csv(data_path)\n",
    "    final_label_df = pd.read_csv(label_path)\n",
    "\n",
    "    train_labels_flat = final_label_df.values.flatten()\n",
    "    \n",
    "    # Compute class weights (inverse of class frequencies)\n",
    "    class_weights = compute_class_weight(class_weight='balanced', classes=np.unique(train_labels_flat), y=train_labels_flat)\n",
    "    class_weights = torch.tensor(class_weights, dtype=torch.float32)\n",
    "\n",
    "    # Parameters\n",
    "    sequence_length = 256  # Length of each subsequence\n",
    "    num_subsequences = 500  # Number of subsequences to extract\n",
    "\n",
    "    # Get possible starting indices, ensuring there's enough space for a full subsequence\n",
    "    possible_starts = np.arange(0, len(final_data_df) - sequence_length + 1)\n",
    "    np.random.shuffle(possible_starts)\n",
    "\n",
    "    # Select the first `num_subsequences` starting indices\n",
    "    selected_starts = possible_starts[:num_subsequences]\n",
    "\n",
    "    # Create a list to hold the subsequences\n",
    "    subsequences = [final_data_df.iloc[start:start + sequence_length].values for start in selected_starts]\n",
    "    sublabels = [final_label_df.iloc[start:start + sequence_length].values for start in selected_starts]\n",
    "\n",
    "    # Convert subsequences list to a NumPy array\n",
    "    subsequences_array = np.array(subsequences)\n",
    "    sublabels_array = np.array(sublabels)\n",
    "\n",
    "    # subsequences_array will have shape (num_subsequences, sequence_length, num_channels)\n",
    "    # print(subsequences_array.shape)  # Should print (100, 100, 36)\n",
    "    # print(sublabels_array.shape)\n",
    "\n",
    "    return torch.from_numpy(subsequences_array), torch.from_numpy(sublabels_array), class_weights\n"
   ]
  },
  {
   "cell_type": "code",
   "execution_count": 5,
   "id": "d444b228",
   "metadata": {
    "execution": {
     "iopub.execute_input": "2024-10-03T14:13:06.247832Z",
     "iopub.status.busy": "2024-10-03T14:13:06.247449Z",
     "iopub.status.idle": "2024-10-03T14:13:06.260947Z",
     "shell.execute_reply": "2024-10-03T14:13:06.260057Z"
    },
    "papermill": {
     "duration": 0.026428,
     "end_time": "2024-10-03T14:13:06.263188",
     "exception": false,
     "start_time": "2024-10-03T14:13:06.236760",
     "status": "completed"
    },
    "tags": []
   },
   "outputs": [],
   "source": [
    "\n",
    "# Sample time series data with shape (batch_size, sequence_length, num_features)\n",
    "# neuroimaging_data: Time series data from multiple neuroimaging channels\n",
    "# labels: Binary labels (0 = no pain, 1 = pain) for each time step\n",
    "# Assume neuroimaging_data is a numpy array of shape (num_samples, sequence_length, num_channels)\n",
    "# labels is a numpy array of shape (num_samples, sequence_length)\n",
    "\n",
    "class BidirectionalLSTMClassifier(nn.Module):\n",
    "    def __init__(self, input_size, hidden_size, output_size, num_layers=1):\n",
    "        super(BidirectionalLSTMClassifier, self).__init__()\n",
    "        self.hidden_size = hidden_size\n",
    "        self.num_layers = num_layers\n",
    "        self.lstm = nn.LSTM(input_size, hidden_size, num_layers, batch_first=True, bidirectional=True)\n",
    "        \n",
    "        # Adjust the fully connected layer to account for doubled hidden size (forward + backward)\n",
    "        self.fc = nn.Linear(hidden_size * 2, output_size)\n",
    "        self.batch_norm = nn.BatchNorm1d(hidden_size * 2)  # Adjust Batch Normalization for bidirectional\n",
    "        self.sigmoid = nn.Sigmoid()\n",
    "\n",
    "    def forward(self, x):\n",
    "        # Initialize hidden state and cell state with zeros for both directions\n",
    "        h0 = torch.zeros(self.num_layers * 2, x.size(0), self.hidden_size).to(x.device)  # *2 for bidirectional\n",
    "        c0 = torch.zeros(self.num_layers * 2, x.size(0), self.hidden_size).to(x.device)\n",
    "\n",
    "        # LSTM forward pass\n",
    "        out, _ = self.lstm(x, (h0, c0))\n",
    "        \n",
    "        # Apply batch normalization\n",
    "        # Permute to (batch_size, hidden_size*2, sequence_length) for batch norm\n",
    "        out = out.permute(0, 2, 1)\n",
    "        out = self.batch_norm(out)\n",
    "        \n",
    "        # Permute back to (batch_size, sequence_length, hidden_size*2)\n",
    "        out = out.permute(0, 2, 1)\n",
    "        \n",
    "        # Apply the linear layer to each time step\n",
    "        out = self.fc(out)\n",
    "        \n",
    "        return self.sigmoid(out)\n"
   ]
  },
  {
   "cell_type": "code",
   "execution_count": 6,
   "id": "23768222",
   "metadata": {
    "execution": {
     "iopub.execute_input": "2024-10-03T14:13:06.280147Z",
     "iopub.status.busy": "2024-10-03T14:13:06.279415Z",
     "iopub.status.idle": "2024-10-03T14:13:06.311313Z",
     "shell.execute_reply": "2024-10-03T14:13:06.310317Z"
    },
    "papermill": {
     "duration": 0.044267,
     "end_time": "2024-10-03T14:13:06.314228",
     "exception": false,
     "start_time": "2024-10-03T14:13:06.269961",
     "status": "completed"
    },
    "tags": []
   },
   "outputs": [],
   "source": [
    "# data_path = glob.glob(\"D:\\PythonProjs\\CLARAi\\Data_train\\*.csv\")  # Modify with your directory path\n",
    "# label_path = glob.glob(\"D:\\PythonProjs\\CLARAi\\Label_train\\*.csv\")\n",
    "\n",
    "# data_path = glob.glob(\"/home/frank/Documents/CLARAi/Data/*.csv\")  # Modify with your directory path\n",
    "# label_path = glob.glob(\"/home/frank/Documents/CLARAi/Label/*.csv\")\n",
    "\n",
    "# data_path = glob.glob(\"/Users/xiaosuhu/Documents/Python/CLARAi/Data/*.csv\")  # Modify with your directory path\n",
    "# label_path = glob.glob(\"/Users/xiaosuhu/Documents/Python/CLARAi/Data/*.csv\")\n",
    "\n",
    "data_path = glob.glob(\"/kaggle/input/CLARAi/Data_train/*.csv\")  # Modify with your directory path\n",
    "label_path = glob.glob(\"/kaggle/input/CLARAi/Label_train/*.csv\")\n",
    "\n",
    "# Sort the lists\n",
    "data_path = sorted(data_path)\n",
    "label_path = sorted(label_path)\n"
   ]
  },
  {
   "cell_type": "code",
   "execution_count": 7,
   "id": "05fcb8d6",
   "metadata": {
    "execution": {
     "iopub.execute_input": "2024-10-03T14:13:06.327761Z",
     "iopub.status.busy": "2024-10-03T14:13:06.327482Z",
     "iopub.status.idle": "2024-10-03T14:13:06.333153Z",
     "shell.execute_reply": "2024-10-03T14:13:06.332283Z"
    },
    "papermill": {
     "duration": 0.014444,
     "end_time": "2024-10-03T14:13:06.335039",
     "exception": false,
     "start_time": "2024-10-03T14:13:06.320595",
     "status": "completed"
    },
    "tags": []
   },
   "outputs": [
    {
     "data": {
      "text/plain": [
       "['/kaggle/input/CLARAi/Data_train/data1.csv',\n",
       " '/kaggle/input/CLARAi/Data_train/data10.csv',\n",
       " '/kaggle/input/CLARAi/Data_train/data11.csv',\n",
       " '/kaggle/input/CLARAi/Data_train/data12.csv',\n",
       " '/kaggle/input/CLARAi/Data_train/data13.csv',\n",
       " '/kaggle/input/CLARAi/Data_train/data16.csv',\n",
       " '/kaggle/input/CLARAi/Data_train/data17.csv',\n",
       " '/kaggle/input/CLARAi/Data_train/data3.csv',\n",
       " '/kaggle/input/CLARAi/Data_train/data4.csv',\n",
       " '/kaggle/input/CLARAi/Data_train/data5.csv',\n",
       " '/kaggle/input/CLARAi/Data_train/data6.csv',\n",
       " '/kaggle/input/CLARAi/Data_train/data7.csv',\n",
       " '/kaggle/input/CLARAi/Data_train/data8.csv',\n",
       " '/kaggle/input/CLARAi/Data_train/data9.csv']"
      ]
     },
     "execution_count": 7,
     "metadata": {},
     "output_type": "execute_result"
    }
   ],
   "source": [
    "data_path"
   ]
  },
  {
   "cell_type": "code",
   "execution_count": 8,
   "id": "d862916d",
   "metadata": {
    "execution": {
     "iopub.execute_input": "2024-10-03T14:13:06.348844Z",
     "iopub.status.busy": "2024-10-03T14:13:06.348228Z",
     "iopub.status.idle": "2024-10-03T14:13:06.377423Z",
     "shell.execute_reply": "2024-10-03T14:13:06.376563Z"
    },
    "papermill": {
     "duration": 0.038185,
     "end_time": "2024-10-03T14:13:06.379419",
     "exception": false,
     "start_time": "2024-10-03T14:13:06.341234",
     "status": "completed"
    },
    "tags": []
   },
   "outputs": [],
   "source": [
    "\n",
    "# data_path = \"D:\\PythonProjs\\CLARAi\\Data\\data1.csv\"\n",
    "# label_path = \"D:\\PythonProjs\\CLARAi\\Label\\label1.csv\"\n",
    "neuroimaging_data = torch.empty(0,256,36)\n",
    "labels = torch.empty(0,256,1)\n",
    "class_weights = torch.Tensor([0., 0.])"
   ]
  },
  {
   "cell_type": "code",
   "execution_count": 9,
   "id": "b1c0e5d5",
   "metadata": {
    "execution": {
     "iopub.execute_input": "2024-10-03T14:13:06.393068Z",
     "iopub.status.busy": "2024-10-03T14:13:06.392575Z",
     "iopub.status.idle": "2024-10-03T14:13:09.204539Z",
     "shell.execute_reply": "2024-10-03T14:13:09.203694Z"
    },
    "papermill": {
     "duration": 2.821373,
     "end_time": "2024-10-03T14:13:09.206954",
     "exception": false,
     "start_time": "2024-10-03T14:13:06.385581",
     "status": "completed"
    },
    "tags": []
   },
   "outputs": [
    {
     "name": "stdout",
     "output_type": "stream",
     "text": [
      "datapath: /kaggle/input/CLARAi/Data_train/data1.csv\n",
      "labelpath: /kaggle/input/CLARAi/Label_train/label1.csv\n",
      "Data shape: torch.Size([500, 256, 36]), Label shape: torch.Size([500, 256, 1]), Weight shape: torch.Size([2])\n",
      "datapath: /kaggle/input/CLARAi/Data_train/data10.csv\n",
      "labelpath: /kaggle/input/CLARAi/Label_train/label10.csv\n",
      "Data shape: torch.Size([500, 256, 36]), Label shape: torch.Size([500, 256, 1]), Weight shape: torch.Size([2])\n",
      "datapath: /kaggle/input/CLARAi/Data_train/data11.csv\n",
      "labelpath: /kaggle/input/CLARAi/Label_train/label11.csv\n",
      "Data shape: torch.Size([500, 256, 36]), Label shape: torch.Size([500, 256, 1]), Weight shape: torch.Size([2])\n",
      "datapath: /kaggle/input/CLARAi/Data_train/data12.csv\n",
      "labelpath: /kaggle/input/CLARAi/Label_train/label12.csv\n",
      "Data shape: torch.Size([495, 256, 36]), Label shape: torch.Size([495, 256, 1]), Weight shape: torch.Size([2])\n",
      "datapath: /kaggle/input/CLARAi/Data_train/data13.csv\n",
      "labelpath: /kaggle/input/CLARAi/Label_train/label13.csv\n",
      "Data shape: torch.Size([500, 256, 36]), Label shape: torch.Size([500, 256, 1]), Weight shape: torch.Size([2])\n",
      "datapath: /kaggle/input/CLARAi/Data_train/data16.csv\n",
      "labelpath: /kaggle/input/CLARAi/Label_train/label16.csv\n",
      "Data shape: torch.Size([500, 256, 36]), Label shape: torch.Size([500, 256, 1]), Weight shape: torch.Size([2])\n",
      "datapath: /kaggle/input/CLARAi/Data_train/data17.csv\n",
      "labelpath: /kaggle/input/CLARAi/Label_train/label17.csv\n",
      "Data shape: torch.Size([500, 256, 36]), Label shape: torch.Size([500, 256, 1]), Weight shape: torch.Size([2])\n",
      "datapath: /kaggle/input/CLARAi/Data_train/data3.csv\n",
      "labelpath: /kaggle/input/CLARAi/Label_train/label3.csv\n",
      "Data shape: torch.Size([500, 256, 36]), Label shape: torch.Size([500, 256, 1]), Weight shape: torch.Size([2])\n",
      "datapath: /kaggle/input/CLARAi/Data_train/data4.csv\n",
      "labelpath: /kaggle/input/CLARAi/Label_train/label4.csv\n",
      "Data shape: torch.Size([500, 256, 36]), Label shape: torch.Size([500, 256, 1]), Weight shape: torch.Size([2])\n",
      "datapath: /kaggle/input/CLARAi/Data_train/data5.csv\n",
      "labelpath: /kaggle/input/CLARAi/Label_train/label5.csv\n",
      "Data shape: torch.Size([500, 256, 36]), Label shape: torch.Size([500, 256, 1]), Weight shape: torch.Size([2])\n",
      "datapath: /kaggle/input/CLARAi/Data_train/data6.csv\n",
      "labelpath: /kaggle/input/CLARAi/Label_train/label6.csv\n",
      "Data shape: torch.Size([500, 256, 36]), Label shape: torch.Size([500, 256, 1]), Weight shape: torch.Size([2])\n",
      "datapath: /kaggle/input/CLARAi/Data_train/data7.csv\n",
      "labelpath: /kaggle/input/CLARAi/Label_train/label7.csv\n",
      "Data shape: torch.Size([500, 256, 36]), Label shape: torch.Size([500, 256, 1]), Weight shape: torch.Size([2])\n",
      "datapath: /kaggle/input/CLARAi/Data_train/data8.csv\n",
      "labelpath: /kaggle/input/CLARAi/Label_train/label8.csv\n",
      "Data shape: torch.Size([500, 256, 36]), Label shape: torch.Size([500, 256, 1]), Weight shape: torch.Size([2])\n",
      "datapath: /kaggle/input/CLARAi/Data_train/data9.csv\n",
      "labelpath: /kaggle/input/CLARAi/Label_train/label9.csv\n",
      "Data shape: torch.Size([500, 256, 36]), Label shape: torch.Size([500, 256, 1]), Weight shape: torch.Size([2])\n"
     ]
    }
   ],
   "source": [
    "\n",
    "for datapath, labelpath in zip(data_path, label_path):\n",
    "    print(f'datapath: {datapath}')\n",
    "    print(f'labelpath: {labelpath}')    \n",
    "    data, label, weight = data_gen(datapath, labelpath)\n",
    "    print(f'Data shape: {data.shape}, Label shape: {label.shape}, Weight shape: {weight.shape}')\n",
    "    neuroimaging_data= torch.cat([neuroimaging_data, data])\n",
    "    labels = torch.cat([labels, label])\n",
    "    class_weights += weight\n",
    "\n",
    "normalized_weights = class_weights / class_weights.sum()\n"
   ]
  },
  {
   "cell_type": "code",
   "execution_count": 10,
   "id": "27bdac6c",
   "metadata": {
    "execution": {
     "iopub.execute_input": "2024-10-03T14:13:09.222671Z",
     "iopub.status.busy": "2024-10-03T14:13:09.222361Z",
     "iopub.status.idle": "2024-10-03T14:13:09.228183Z",
     "shell.execute_reply": "2024-10-03T14:13:09.227286Z"
    },
    "papermill": {
     "duration": 0.015917,
     "end_time": "2024-10-03T14:13:09.230333",
     "exception": false,
     "start_time": "2024-10-03T14:13:09.214416",
     "status": "completed"
    },
    "tags": []
   },
   "outputs": [
    {
     "data": {
      "text/plain": [
       "(torch.Size([6995, 256, 36]), torch.Size([6995, 256, 1]))"
      ]
     },
     "execution_count": 10,
     "metadata": {},
     "output_type": "execute_result"
    }
   ],
   "source": [
    "neuroimaging_data.shape, labels.shape"
   ]
  },
  {
   "cell_type": "code",
   "execution_count": 11,
   "id": "16fccecc",
   "metadata": {
    "execution": {
     "iopub.execute_input": "2024-10-03T14:13:09.248476Z",
     "iopub.status.busy": "2024-10-03T14:13:09.247957Z",
     "iopub.status.idle": "2024-10-03T14:13:09.288702Z",
     "shell.execute_reply": "2024-10-03T14:13:09.287467Z"
    },
    "papermill": {
     "duration": 0.051869,
     "end_time": "2024-10-03T14:13:09.290942",
     "exception": false,
     "start_time": "2024-10-03T14:13:09.239073",
     "status": "completed"
    },
    "tags": []
   },
   "outputs": [
    {
     "name": "stdout",
     "output_type": "stream",
     "text": [
      "Number of 0s: 1369839Number of 1s: 420881 Ratio is 0.23503451125804145\n"
     ]
    }
   ],
   "source": [
    "# Count the number of 1s\n",
    "num_zeros = torch.sum(labels == 0).item()\n",
    "num_ones = torch.sum(labels == 1).item()\n",
    "\n",
    "print(f\"Number of 0s: {num_zeros}Number of 1s: {num_ones} Ratio is {num_ones/(num_ones + num_zeros)}\")"
   ]
  },
  {
   "cell_type": "code",
   "execution_count": 12,
   "id": "711e07ad",
   "metadata": {
    "execution": {
     "iopub.execute_input": "2024-10-03T14:13:09.310033Z",
     "iopub.status.busy": "2024-10-03T14:13:09.309733Z",
     "iopub.status.idle": "2024-10-03T14:13:12.051976Z",
     "shell.execute_reply": "2024-10-03T14:13:12.051114Z"
    },
    "papermill": {
     "duration": 2.754388,
     "end_time": "2024-10-03T14:13:12.054433",
     "exception": false,
     "start_time": "2024-10-03T14:13:09.300045",
     "status": "completed"
    },
    "tags": []
   },
   "outputs": [
    {
     "name": "stderr",
     "output_type": "stream",
     "text": [
      "/tmp/ipykernel_23/808979080.py:16: UserWarning: To copy construct from a tensor, it is recommended to use sourceTensor.clone().detach() or sourceTensor.clone().detach().requires_grad_(True), rather than torch.tensor(sourceTensor).\n",
      "  train_data, test_data = torch.tensor(train_data, dtype=torch.float32).to(device), torch.tensor(test_data, dtype=torch.float32).to(device)\n",
      "/tmp/ipykernel_23/808979080.py:17: UserWarning: To copy construct from a tensor, it is recommended to use sourceTensor.clone().detach() or sourceTensor.clone().detach().requires_grad_(True), rather than torch.tensor(sourceTensor).\n",
      "  train_labels, test_labels = torch.tensor(train_labels, dtype=torch.float32).to(device), torch.tensor(test_labels, dtype=torch.float32).to(device)\n"
     ]
    }
   ],
   "source": [
    "# Hyperparameters\n",
    "input_size = neuroimaging_data.shape[2]  # Number of features (channels)\n",
    "hidden_size = 32  # Hidden state size of the GRU\n",
    "output_size = 1  # Binary classification\n",
    "num_layers = 6  # Number of GRU layers\n",
    "learning_rate = 0.001\n",
    "num_epochs = 400\n",
    "batch_size = 8\n",
    "\n",
    "# Preprocessing (e.g., normalization)\n",
    "# scaler = StandardScaler()\n",
    "# neuroimaging_data = scaler.fit_transform(neuroimaging_data.reshape(-1, input_size)).reshape(neuroimaging_data.shape)\n",
    "\n",
    "# Convert numpy arrays to PyTorch tensors\n",
    "train_data, test_data, train_labels, test_labels = train_test_split(neuroimaging_data, labels, test_size=0.2, random_state=42)\n",
    "train_data, test_data = torch.tensor(train_data, dtype=torch.float32).to(device), torch.tensor(test_data, dtype=torch.float32).to(device)\n",
    "train_labels, test_labels = torch.tensor(train_labels, dtype=torch.float32).to(device), torch.tensor(test_labels, dtype=torch.float32).to(device)\n",
    "\n",
    "\n",
    "# Create GRU model\n",
    "model = BidirectionalLSTMClassifier(input_size, hidden_size, output_size, num_layers)\n",
    "model = torch.nn.DataParallel(model)\n",
    "model.to(device)\n",
    "\n",
    "# Loss and optimizer\n",
    "# criterion = nn.BCELoss()  # Binary Cross Entropy Loss for binary classification\n",
    "\n",
    "\n",
    "# Convert the class weights to a tensor and move to the appropriate device\n",
    "class_weights = class_weights.to(device)\n",
    "\n",
    "# Use BCEWithLogitsLoss, which combines sigmoid activation and binary cross-entropy loss\n",
    "criterion = nn.BCEWithLogitsLoss(pos_weight=normalized_weights[0])  # pos_weight applies only to class 1\n",
    "\n",
    "# optimizer = optim.Adam(model.parameters(), lr=learning_rate)\n",
    "optimizer = optim.Adam(model.parameters(), lr=learning_rate, weight_decay=1e-5)\n",
    "scheduler = torch.optim.lr_scheduler.ReduceLROnPlateau(optimizer, mode='min', factor=0.1, patience=20)"
   ]
  },
  {
   "cell_type": "code",
   "execution_count": 13,
   "id": "218c66ce",
   "metadata": {
    "execution": {
     "iopub.execute_input": "2024-10-03T14:13:12.073104Z",
     "iopub.status.busy": "2024-10-03T14:13:12.072592Z",
     "iopub.status.idle": "2024-10-03T14:16:29.958079Z",
     "shell.execute_reply": "2024-10-03T14:16:29.957061Z"
    },
    "papermill": {
     "duration": 197.897676,
     "end_time": "2024-10-03T14:16:29.960758",
     "exception": false,
     "start_time": "2024-10-03T14:13:12.063082",
     "status": "completed"
    },
    "tags": []
   },
   "outputs": [
    {
     "name": "stderr",
     "output_type": "stream",
     "text": [
      "/opt/conda/lib/python3.10/site-packages/torch/nn/parallel/parallel_apply.py:79: FutureWarning: `torch.cuda.amp.autocast(args...)` is deprecated. Please use `torch.amp.autocast('cuda', args...)` instead.\n",
      "  with torch.cuda.device(device), torch.cuda.stream(stream), autocast(enabled=autocast_enabled):\n"
     ]
    },
    {
     "name": "stdout",
     "output_type": "stream",
     "text": [
      "Epoch [5/400], Train Loss: 0.7449, Val Loss: 0.7540\n",
      "Epoch [10/400], Train Loss: 0.6922, Val Loss: 0.7404\n",
      "Epoch [15/400], Train Loss: 0.6690, Val Loss: 0.7315\n",
      "Epoch [20/400], Train Loss: 0.6582, Val Loss: 0.7351\n",
      "Epoch [25/400], Train Loss: 0.6484, Val Loss: 0.7550\n",
      "Epoch [30/400], Train Loss: 0.6393, Val Loss: 0.7733\n",
      "Epoch [35/400], Train Loss: 0.6323, Val Loss: 0.7528\n",
      "Epoch [40/400], Train Loss: 0.6285, Val Loss: 0.7111\n",
      "Epoch [45/400], Train Loss: 0.6277, Val Loss: 0.6754\n",
      "Epoch [50/400], Train Loss: 0.6270, Val Loss: 0.6549\n",
      "Epoch [55/400], Train Loss: 0.6263, Val Loss: 0.6430\n",
      "Epoch [60/400], Train Loss: 0.6256, Val Loss: 0.6359\n",
      "Epoch [65/400], Train Loss: 0.6249, Val Loss: 0.6312\n",
      "Epoch [70/400], Train Loss: 0.6242, Val Loss: 0.6282\n",
      "Epoch [75/400], Train Loss: 0.6235, Val Loss: 0.6261\n",
      "Epoch [80/400], Train Loss: 0.6228, Val Loss: 0.6247\n",
      "Epoch [85/400], Train Loss: 0.6222, Val Loss: 0.6234\n",
      "Epoch [90/400], Train Loss: 0.6215, Val Loss: 0.6224\n",
      "Epoch [95/400], Train Loss: 0.6209, Val Loss: 0.6216\n",
      "Epoch [100/400], Train Loss: 0.6202, Val Loss: 0.6208\n",
      "Epoch [105/400], Train Loss: 0.6195, Val Loss: 0.6200\n",
      "Epoch [110/400], Train Loss: 0.6189, Val Loss: 0.6193\n",
      "Epoch [115/400], Train Loss: 0.6182, Val Loss: 0.6186\n",
      "Epoch [120/400], Train Loss: 0.6175, Val Loss: 0.6179\n",
      "Epoch [125/400], Train Loss: 0.6168, Val Loss: 0.6172\n",
      "Epoch [130/400], Train Loss: 0.6161, Val Loss: 0.6165\n",
      "Epoch [135/400], Train Loss: 0.6153, Val Loss: 0.6157\n",
      "Epoch [140/400], Train Loss: 0.6146, Val Loss: 0.6149\n",
      "Epoch [145/400], Train Loss: 0.6138, Val Loss: 0.6142\n",
      "Epoch [150/400], Train Loss: 0.6130, Val Loss: 0.6134\n",
      "Epoch [155/400], Train Loss: 0.6123, Val Loss: 0.6129\n",
      "Epoch [160/400], Train Loss: 0.6115, Val Loss: 0.6123\n",
      "Epoch [165/400], Train Loss: 0.6108, Val Loss: 0.6116\n",
      "Epoch [170/400], Train Loss: 0.6101, Val Loss: 0.6109\n",
      "Epoch [175/400], Train Loss: 0.6093, Val Loss: 0.6102\n",
      "Epoch [180/400], Train Loss: 0.6086, Val Loss: 0.6094\n",
      "Epoch [185/400], Train Loss: 0.6075, Val Loss: 0.6080\n",
      "Epoch [190/400], Train Loss: 0.6063, Val Loss: 0.6069\n",
      "Epoch [195/400], Train Loss: 0.6053, Val Loss: 0.6061\n",
      "Epoch [200/400], Train Loss: 0.6045, Val Loss: 0.6056\n",
      "Epoch [205/400], Train Loss: 0.6038, Val Loss: 0.6053\n",
      "Epoch [210/400], Train Loss: 0.6033, Val Loss: 0.6048\n",
      "Epoch [215/400], Train Loss: 0.6027, Val Loss: 0.6043\n",
      "Epoch [220/400], Train Loss: 0.6022, Val Loss: 0.6039\n",
      "Epoch [225/400], Train Loss: 0.6017, Val Loss: 0.6035\n",
      "Epoch [230/400], Train Loss: 0.6013, Val Loss: 0.6032\n",
      "Epoch [235/400], Train Loss: 0.6009, Val Loss: 0.6028\n",
      "Epoch [240/400], Train Loss: 0.6006, Val Loss: 0.6025\n",
      "Epoch [245/400], Train Loss: 0.6003, Val Loss: 0.6022\n",
      "Epoch [250/400], Train Loss: 0.6000, Val Loss: 0.6020\n",
      "Epoch [255/400], Train Loss: 0.5997, Val Loss: 0.6017\n",
      "Epoch [260/400], Train Loss: 0.5994, Val Loss: 0.6015\n",
      "Epoch [265/400], Train Loss: 0.5992, Val Loss: 0.6012\n",
      "Epoch [270/400], Train Loss: 0.5990, Val Loss: 0.6010\n",
      "Epoch [275/400], Train Loss: 0.5987, Val Loss: 0.6008\n",
      "Epoch [280/400], Train Loss: 0.5985, Val Loss: 0.6005\n",
      "Epoch [285/400], Train Loss: 0.5982, Val Loss: 0.6003\n",
      "Epoch [290/400], Train Loss: 0.5980, Val Loss: 0.6001\n",
      "Epoch [295/400], Train Loss: 0.5978, Val Loss: 0.5999\n",
      "Epoch [300/400], Train Loss: 0.5977, Val Loss: 0.5997\n",
      "Epoch [305/400], Train Loss: 0.5975, Val Loss: 0.5996\n",
      "Epoch [310/400], Train Loss: 0.5974, Val Loss: 0.5995\n",
      "Epoch [315/400], Train Loss: 0.5972, Val Loss: 0.5993\n",
      "Epoch [320/400], Train Loss: 0.5971, Val Loss: 0.5992\n",
      "Epoch [325/400], Train Loss: 0.5969, Val Loss: 0.5990\n",
      "Epoch [330/400], Train Loss: 0.5968, Val Loss: 0.5989\n",
      "Epoch [335/400], Train Loss: 0.5967, Val Loss: 0.5988\n",
      "Epoch [340/400], Train Loss: 0.5965, Val Loss: 0.5987\n",
      "Epoch [345/400], Train Loss: 0.5964, Val Loss: 0.5985\n",
      "Epoch [350/400], Train Loss: 0.5963, Val Loss: 0.5984\n",
      "Epoch [355/400], Train Loss: 0.5962, Val Loss: 0.5983\n",
      "Epoch [360/400], Train Loss: 0.5956, Val Loss: 0.5973\n",
      "Epoch [365/400], Train Loss: 0.5936, Val Loss: 0.5965\n",
      "Epoch [370/400], Train Loss: 0.5936, Val Loss: 0.5966\n",
      "Epoch [375/400], Train Loss: 0.5935, Val Loss: 0.5966\n",
      "Epoch [380/400], Train Loss: 0.5933, Val Loss: 0.5965\n",
      "Epoch [385/400], Train Loss: 0.5931, Val Loss: 0.5964\n",
      "Epoch [390/400], Train Loss: 0.5931, Val Loss: 0.5963\n",
      "Epoch [395/400], Train Loss: 0.5931, Val Loss: 0.5963\n",
      "Epoch [400/400], Train Loss: 0.5930, Val Loss: 0.5963\n"
     ]
    }
   ],
   "source": [
    "# Training loop\n",
    "for epoch in range(num_epochs):\n",
    "    model.train()  # Set model to training mode\n",
    "    optimizer.zero_grad()\n",
    "    \n",
    "    # Forward pass (training)\n",
    "    outputs = model(train_data)\n",
    "    loss = criterion(outputs, train_labels)\n",
    "    \n",
    "    # Backward pass and optimization\n",
    "    loss.backward()\n",
    "    \n",
    "    # Clip gradients to prevent exploding gradients\n",
    "    torch.nn.utils.clip_grad_norm_(model.parameters(), max_norm=1.0)\n",
    "    \n",
    "    optimizer.step()\n",
    "\n",
    "    # Validation phase (no gradient calculations)\n",
    "    model.eval()  # Set model to evaluation mode\n",
    "    with torch.no_grad():  # Disable gradient calculation for validation\n",
    "        val_outputs = model(test_data)\n",
    "        val_loss = criterion(val_outputs, test_labels)\n",
    "\n",
    "    # Update learning rate if validation loss plateaus\n",
    "    scheduler.step(val_loss)\n",
    "\n",
    "    # Print loss every 5 epochs\n",
    "    if (epoch + 1) % 5 == 0:\n",
    "        print(f'Epoch [{epoch+1}/{num_epochs}], Train Loss: {loss.item():.4f}, Val Loss: {val_loss.item():.4f}')\n"
   ]
  },
  {
   "cell_type": "code",
   "execution_count": 14,
   "id": "69451ee8",
   "metadata": {
    "execution": {
     "iopub.execute_input": "2024-10-03T14:16:29.995865Z",
     "iopub.status.busy": "2024-10-03T14:16:29.995505Z",
     "iopub.status.idle": "2024-10-03T14:16:30.008004Z",
     "shell.execute_reply": "2024-10-03T14:16:30.007175Z"
    },
    "papermill": {
     "duration": 0.032199,
     "end_time": "2024-10-03T14:16:30.010045",
     "exception": false,
     "start_time": "2024-10-03T14:16:29.977846",
     "status": "completed"
    },
    "tags": []
   },
   "outputs": [],
   "source": [
    "# After the training loop\n",
    "# torch.save(model.state_dict(), 'D:\\PythonProjs\\CLARAi\\Trained_model_weights\\lstm_bidi_model_state_dict_data_300_ep_200.pth')\n",
    "torch.save(model.state_dict(), '/kaggle/working/lstm_bidi_model_state_dict_data_300_ep_200.pth')\n",
    "# print(\"Model state_dict saved to 'lstm_unidi_model_state_dict.pth'\")"
   ]
  },
  {
   "cell_type": "code",
   "execution_count": 15,
   "id": "a1b33082",
   "metadata": {
    "execution": {
     "iopub.execute_input": "2024-10-03T14:16:30.045382Z",
     "iopub.status.busy": "2024-10-03T14:16:30.045075Z",
     "iopub.status.idle": "2024-10-03T14:16:30.815009Z",
     "shell.execute_reply": "2024-10-03T14:16:30.814087Z"
    },
    "papermill": {
     "duration": 0.789396,
     "end_time": "2024-10-03T14:16:30.816875",
     "exception": false,
     "start_time": "2024-10-03T14:16:30.027479",
     "status": "completed"
    },
    "tags": []
   },
   "outputs": [
    {
     "name": "stdout",
     "output_type": "stream",
     "text": [
      "Accuracy: 90.76%\n",
      "Confusion Matrix:\n",
      "[[248915  25314]\n",
      " [  7786  76129]]\n"
     ]
    },
    {
     "data": {
      "image/png": "[encoded data removed]",
      "text/plain": [
       "<Figure size 600x400 with 2 Axes>"
      ]
     },
     "metadata": {},
     "output_type": "display_data"
    }
   ],
   "source": [
    "\n",
    "model.eval()\n",
    "with torch.no_grad():\n",
    "    test_outputs = model(test_data)\n",
    "    predicted = (test_outputs > 0.5).float()  # Threshold at 0.5 for binary classification\n",
    "    \n",
    "    # Calculate accuracy\n",
    "    accuracy = (predicted == test_labels).float().mean()\n",
    "    print(f'Accuracy: {accuracy.item() * 100:.2f}%')\n",
    "\n",
    "    # Flatten the predicted and test labels for confusion matrix calculation\n",
    "    predicted_flat = predicted.cpu().numpy().flatten()\n",
    "    test_labels_flat = test_labels.cpu().numpy().flatten()\n",
    "\n",
    "    # Generate the confusion matrix\n",
    "    cm = confusion_matrix(test_labels_flat, predicted_flat)\n",
    "    print(f'Confusion Matrix:\\n{cm}')\n",
    "\n",
    "    # Optional: plot the confusion matrix for visualization\n",
    "    plt.figure(figsize=(6,4))\n",
    "    sns.heatmap(cm, annot=True, fmt=\"d\", cmap=\"Blues\", xticklabels=['No Pain', 'Pain'], yticklabels=['No Pain', 'Pain'])\n",
    "    plt.ylabel('True Label')\n",
    "    plt.xlabel('Predicted Label')\n",
    "    plt.title('Confusion Matrix')\n",
    "    plt.show()\n"
   ]
  },
  {
   "cell_type": "code",
   "execution_count": 16,
   "id": "d92ba24a",
   "metadata": {
    "execution": {
     "iopub.execute_input": "2024-10-03T14:16:30.848389Z",
     "iopub.status.busy": "2024-10-03T14:16:30.847792Z",
     "iopub.status.idle": "2024-10-03T14:16:30.857068Z",
     "shell.execute_reply": "2024-10-03T14:16:30.856150Z"
    },
    "papermill": {
     "duration": 0.027334,
     "end_time": "2024-10-03T14:16:30.859014",
     "exception": false,
     "start_time": "2024-10-03T14:16:30.831680",
     "status": "completed"
    },
    "tags": []
   },
   "outputs": [],
   "source": [
    "def plot_roc_auc(model, test_data, test_labels):\n",
    "    model.eval()\n",
    "    with torch.no_grad():\n",
    "        # Get the raw logits (before applying sigmoid)\n",
    "        test_outputs = model(test_data)\n",
    "        \n",
    "        # Convert test_labels and test_outputs to NumPy arrays for sklearn\n",
    "        test_labels_flat = test_labels.cpu().numpy().flatten()\n",
    "        test_outputs_flat = test_outputs.cpu().numpy().flatten()\n",
    "\n",
    "        # Calculate the false positive rate, true positive rate, and thresholds for the ROC curve\n",
    "        fpr, tpr, thresholds = roc_curve(test_labels_flat, test_outputs_flat)\n",
    "        \n",
    "        # Calculate the AUC score\n",
    "        roc_auc = auc(fpr, tpr)\n",
    "        \n",
    "        # Plot ROC curve\n",
    "        plt.figure(figsize=(8,6))\n",
    "        plt.plot(fpr, tpr, color='blue', label=f'ROC Curve (AUC = {roc_auc:.2f})')\n",
    "        plt.plot([0, 1], [0, 1], color='grey', linestyle='--')  # Random classifier line\n",
    "        plt.xlim([0.0, 1.0])\n",
    "        plt.ylim([0.0, 1.05])\n",
    "        plt.xlabel('False Positive Rate (FPR)')\n",
    "        plt.ylabel('True Positive Rate (TPR)')\n",
    "        plt.title('Receiver Operating Characteristic (ROC)')\n",
    "        plt.legend(loc='lower right')\n",
    "        plt.show()\n",
    "\n",
    "    return roc_auc"
   ]
  },
  {
   "cell_type": "code",
   "execution_count": 17,
   "id": "af178b15",
   "metadata": {
    "execution": {
     "iopub.execute_input": "2024-10-03T14:16:30.889111Z",
     "iopub.status.busy": "2024-10-03T14:16:30.888823Z",
     "iopub.status.idle": "2024-10-03T14:16:31.255874Z",
     "shell.execute_reply": "2024-10-03T14:16:31.254965Z"
    },
    "papermill": {
     "duration": 0.384695,
     "end_time": "2024-10-03T14:16:31.258103",
     "exception": false,
     "start_time": "2024-10-03T14:16:30.873408",
     "status": "completed"
    },
    "tags": []
   },
   "outputs": [
    {
     "name": "stderr",
     "output_type": "stream",
     "text": [
      "/opt/conda/lib/python3.10/site-packages/torch/nn/parallel/parallel_apply.py:79: FutureWarning: `torch.cuda.amp.autocast(args...)` is deprecated. Please use `torch.amp.autocast('cuda', args...)` instead.\n",
      "  with torch.cuda.device(device), torch.cuda.stream(stream), autocast(enabled=autocast_enabled):\n"
     ]
    },
    {
     "data": {
      "image/png": "[encoded data removed]",
      "text/plain": [
       "<Figure size 800x600 with 1 Axes>"
      ]
     },
     "metadata": {},
     "output_type": "display_data"
    },
    {
     "data": {
      "text/plain": [
       "0.9270784417833184"
      ]
     },
     "execution_count": 17,
     "metadata": {},
     "output_type": "execute_result"
    }
   ],
   "source": [
    "plot_roc_auc(model, test_data, test_labels)"
   ]
  },
  {
   "cell_type": "code",
   "execution_count": 18,
   "id": "02e60b7e",
   "metadata": {
    "execution": {
     "iopub.execute_input": "2024-10-03T14:16:31.289748Z",
     "iopub.status.busy": "2024-10-03T14:16:31.289026Z",
     "iopub.status.idle": "2024-10-03T14:16:31.362751Z",
     "shell.execute_reply": "2024-10-03T14:16:31.361715Z"
    },
    "papermill": {
     "duration": 0.091663,
     "end_time": "2024-10-03T14:16:31.364933",
     "exception": false,
     "start_time": "2024-10-03T14:16:31.273270",
     "status": "completed"
    },
    "tags": []
   },
   "outputs": [],
   "source": [
    "# Test data evaluation\n",
    "\n",
    "# data_test = pd.read_csv('D:\\PythonProjs\\CLARAi\\Data_test\\data18.csv')\n",
    "# label_test = pd.read_csv('D:\\PythonProjs\\CLARAi\\Label_test\\label18.csv')\n",
    "\n",
    "data_test = pd.read_csv('/kaggle/input/CLARAi/Data_test/data18.csv')\n",
    "label_test = pd.read_csv('/kaggle/input/CLARAi/Label_test/label18.csv')\n",
    "\n",
    "data_test= data_test.to_numpy()\n",
    "label_test = label_test.to_numpy()\n",
    "\n",
    "sequence_length = 256\n",
    "input_size = 36\n",
    "\n",
    "\n",
    "# Calculate the number of complete sequences\n",
    "num_sequences = data_test.shape[0] // sequence_length  # 5 sequences\n",
    "\n",
    "# Truncate the data to have only complete sequences\n",
    "truncated_data = data_test[:num_sequences * sequence_length]  # Shape: (1280, 36)\n",
    "\n",
    "# Reshape to (num_sequences, sequence_length, input_size)\n",
    "test_sequences = truncated_data.reshape(num_sequences, sequence_length, input_size)  # Shape: (5, 256, 36)\n",
    "\n",
    "# Convert to PyTorch tensor\n",
    "test_sequences = torch.tensor(test_sequences, dtype=torch.float32)\n"
   ]
  },
  {
   "cell_type": "code",
   "execution_count": 19,
   "id": "c17ce4a1",
   "metadata": {
    "execution": {
     "iopub.execute_input": "2024-10-03T14:16:31.398039Z",
     "iopub.status.busy": "2024-10-03T14:16:31.397734Z",
     "iopub.status.idle": "2024-10-03T14:16:31.433298Z",
     "shell.execute_reply": "2024-10-03T14:16:31.432297Z"
    },
    "papermill": {
     "duration": 0.054903,
     "end_time": "2024-10-03T14:16:31.435499",
     "exception": false,
     "start_time": "2024-10-03T14:16:31.380596",
     "status": "completed"
    },
    "tags": []
   },
   "outputs": [
    {
     "name": "stderr",
     "output_type": "stream",
     "text": [
      "/opt/conda/lib/python3.10/site-packages/torch/nn/parallel/parallel_apply.py:79: FutureWarning: `torch.cuda.amp.autocast(args...)` is deprecated. Please use `torch.amp.autocast('cuda', args...)` instead.\n",
      "  with torch.cuda.device(device), torch.cuda.stream(stream), autocast(enabled=autocast_enabled):\n"
     ]
    }
   ],
   "source": [
    "\n",
    "# Create DataLoader\n",
    "test_dataset = TensorDataset(test_sequences)\n",
    "test_loader = DataLoader(test_dataset, batch_size=2, shuffle=False)  # Adjust batch_size as needed\n",
    "\n",
    "# Perform inference\n",
    "all_outputs = []\n",
    "with torch.no_grad():\n",
    "    for batch in test_loader:\n",
    "        inputs = batch[0].to(device)  # (batch_size, 256, 36)\n",
    "        outputs = model(inputs)       # (batch_size, 256, 1)\n",
    "        all_outputs.append(outputs.cpu().numpy())\n",
    "\n",
    "# Concatenate all outputs\n",
    "all_outputs = np.concatenate(all_outputs, axis=0)  # Shape: (6, 256, 1)\n",
    "\n",
    "# Apply threshold to get binary predictions\n",
    "predictions = (all_outputs >= 0.5).astype(int)  # Shape: (6, 256, 1)\n",
    "predictions = predictions.squeeze(-1)           # Shape: (6, 256)\n",
    "# Flatten the predictions\n",
    "flattened_predictions = predictions.flatten()  # Shape: (1536,)\n",
    "\n",
    "true_label = label_test[:num_sequences * sequence_length].squeeze(-1)"
   ]
  },
  {
   "cell_type": "code",
   "execution_count": 20,
   "id": "019c6b96",
   "metadata": {
    "execution": {
     "iopub.execute_input": "2024-10-03T14:16:31.469404Z",
     "iopub.status.busy": "2024-10-03T14:16:31.468855Z",
     "iopub.status.idle": "2024-10-03T14:16:31.758329Z",
     "shell.execute_reply": "2024-10-03T14:16:31.757454Z"
    },
    "papermill": {
     "duration": 0.308105,
     "end_time": "2024-10-03T14:16:31.760367",
     "exception": false,
     "start_time": "2024-10-03T14:16:31.452262",
     "status": "completed"
    },
    "tags": []
   },
   "outputs": [
    {
     "name": "stdout",
     "output_type": "stream",
     "text": [
      "Confusion Matrix:\n",
      "[[680 133]\n",
      " [184  27]]\n",
      "\n",
      "Classification Report:\n",
      "              precision    recall  f1-score   support\n",
      "\n",
      "           0       0.79      0.84      0.81       813\n",
      "           1       0.17      0.13      0.15       211\n",
      "\n",
      "    accuracy                           0.69      1024\n",
      "   macro avg       0.48      0.48      0.48      1024\n",
      "weighted avg       0.66      0.69      0.67      1024\n",
      "\n"
     ]
    },
    {
     "data": {
      "image/png": "[encoded data removed]",
      "text/plain": [
       "<Figure size 600x500 with 2 Axes>"
      ]
     },
     "metadata": {},
     "output_type": "display_data"
    }
   ],
   "source": [
    "cm = confusion_matrix(true_label, flattened_predictions)\n",
    "print(\"Confusion Matrix:\")\n",
    "print(cm)\n",
    "\n",
    "# Optional: Detailed classification report\n",
    "print(\"\\nClassification Report:\")\n",
    "print(classification_report(true_label, flattened_predictions))\n",
    "\n",
    "# Optional: Visualize the confusion matrix\n",
    "labels = ['Negative', 'Positive']\n",
    "cm_df = pd.DataFrame(cm, index=labels, columns=labels)\n",
    "\n",
    "plt.figure(figsize=(6,5))\n",
    "sns.heatmap(cm_df, annot=True, fmt='d', cmap='Blues')\n",
    "plt.ylabel('Actual')\n",
    "plt.xlabel('Predicted')\n",
    "plt.title('Confusion Matrix')\n",
    "plt.show()"
   ]
  }
 ],
 "metadata": {
  "kaggle": {
   "accelerator": "nvidiaTeslaT4",
   "dataSources": [
    {
     "datasetId": 5754676,
     "sourceId": 9534427,
     "sourceType": "datasetVersion"
    }
   ],
   "dockerImageVersionId": 30776,
   "isGpuEnabled": true,
   "isInternetEnabled": true,
   "language": "python",
   "sourceType": "notebook"
  },
  "kernelspec": {
   "display_name": "Python 3",
   "language": "python",
   "name": "python3"
  },
  "language_info": {
   "codemirror_mode": {
    "name": "ipython",
    "version": 3
   },
   "file_extension": ".py",
   "mimetype": "text/x-python",
   "name": "python",
   "nbconvert_exporter": "python",
   "pygments_lexer": "ipython3",
   "version": "3.10.14"
  },
  "papermill": {
   "default_parameters": {},
   "duration": 221.318947,
   "end_time": "2024-10-03T14:16:34.118078",
   "environment_variables": {},
   "exception": null,
   "input_path": "__notebook__.ipynb",
   "output_path": "__notebook__.ipynb",
   "parameters": {},
   "start_time": "2024-10-03T14:12:52.799131",
   "version": "2.6.0"
  }
 },
 "nbformat": 4,
 "nbformat_minor": 5
}
