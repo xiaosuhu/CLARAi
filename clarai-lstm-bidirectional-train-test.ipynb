{
 "cells": [
  {
   "cell_type": "code",
   "execution_count": 1,
   "id": "e1b64dbf",
   "metadata": {
    "execution": {
     "iopub.execute_input": "2024-10-03T14:41:07.397955Z",
     "iopub.status.busy": "2024-10-03T14:41:07.397622Z",
     "iopub.status.idle": "2024-10-03T14:41:12.683091Z",
     "shell.execute_reply": "2024-10-03T14:41:12.682321Z"
    },
    "papermill": {
     "duration": 5.295392,
     "end_time": "2024-10-03T14:41:12.685282",
     "exception": false,
     "start_time": "2024-10-03T14:41:07.389890",
     "status": "completed"
    },
    "tags": []
   },
   "outputs": [],
   "source": [
    "from sklearn.model_selection import train_test_split\n",
    "from sklearn.preprocessing import StandardScaler\n",
    "from sklearn.utils.class_weight import compute_class_weight\n",
    "from sklearn.metrics import confusion_matrix, classification_report, roc_curve, auc\n",
    "from torch.utils.data import DataLoader, TensorDataset\n",
    "\n",
    "import torch\n",
    "import torch.nn as nn\n",
    "import torch.optim as optim\n",
    "import pandas as pd\n",
    "import numpy as np\n",
    "import matplotlib.pyplot as plt\n",
    "import seaborn as sns\n",
    "\n",
    "import glob"
   ]
  },
  {
   "cell_type": "code",
   "execution_count": 2,
   "id": "8f93f80a",
   "metadata": {
    "execution": {
     "iopub.execute_input": "2024-10-03T14:41:12.699434Z",
     "iopub.status.busy": "2024-10-03T14:41:12.699038Z",
     "iopub.status.idle": "2024-10-03T14:41:12.778315Z",
     "shell.execute_reply": "2024-10-03T14:41:12.777429Z"
    },
    "papermill": {
     "duration": 0.088495,
     "end_time": "2024-10-03T14:41:12.780330",
     "exception": false,
     "start_time": "2024-10-03T14:41:12.691835",
     "status": "completed"
    },
    "tags": []
   },
   "outputs": [
    {
     "name": "stdout",
     "output_type": "stream",
     "text": [
      "cuda\n"
     ]
    }
   ],
   "source": [
    "# device = torch.device(\"mps\")\n",
    "device = torch.device(\"cuda\" if torch.cuda.is_available() else \"cpu\")\n",
    "print(device)"
   ]
  },
  {
   "cell_type": "code",
   "execution_count": 3,
   "id": "91917c84",
   "metadata": {
    "execution": {
     "iopub.execute_input": "2024-10-03T14:41:12.794168Z",
     "iopub.status.busy": "2024-10-03T14:41:12.793856Z",
     "iopub.status.idle": "2024-10-03T14:41:12.800662Z",
     "shell.execute_reply": "2024-10-03T14:41:12.799859Z"
    },
    "papermill": {
     "duration": 0.015729,
     "end_time": "2024-10-03T14:41:12.802702",
     "exception": false,
     "start_time": "2024-10-03T14:41:12.786973",
     "status": "completed"
    },
    "tags": []
   },
   "outputs": [
    {
     "data": {
      "text/plain": [
       "'# Step 1: Get a list of all CSV file paths in the directory\\ndata_path = glob.glob(\"D:\\\\PythonProjs\\\\CLARAi\\\\Data\\\\*.csv\")  # Modify with your directory path\\nlabel_path = glob.glob(\"D:\\\\PythonProjs\\\\CLARAi\\\\Label\\\\*.csv\")\\n\\n# Step 2: Read each CSV file and store in a list of DataFrames\\ndatadfs = [pd.read_csv(file) for file in data_path]\\nlabeldfs = [pd.read_csv(file) for file in label_path]\\n\\n# Step 3: Concatenate all DataFrames into one\\nfinal_data_df = pd.concat(datadfs, ignore_index=True)\\nfinal_label_df = pd.concat(labeldfs, ignore_index=True)'"
      ]
     },
     "execution_count": 3,
     "metadata": {},
     "output_type": "execute_result"
    }
   ],
   "source": [
    "\"\"\"# Step 1: Get a list of all CSV file paths in the directory\n",
    "data_path = glob.glob(\"D:\\PythonProjs\\CLARAi\\Data\\*.csv\")  # Modify with your directory path\n",
    "label_path = glob.glob(\"D:\\PythonProjs\\CLARAi\\Label\\*.csv\")\n",
    "\n",
    "# Step 2: Read each CSV file and store in a list of DataFrames\n",
    "datadfs = [pd.read_csv(file) for file in data_path]\n",
    "labeldfs = [pd.read_csv(file) for file in label_path]\n",
    "\n",
    "# Step 3: Concatenate all DataFrames into one\n",
    "final_data_df = pd.concat(datadfs, ignore_index=True)\n",
    "final_label_df = pd.concat(labeldfs, ignore_index=True)\"\"\""
   ]
  },
  {
   "cell_type": "code",
   "execution_count": 4,
   "id": "3d081797",
   "metadata": {
    "execution": {
     "iopub.execute_input": "2024-10-03T14:41:12.817597Z",
     "iopub.status.busy": "2024-10-03T14:41:12.817315Z",
     "iopub.status.idle": "2024-10-03T14:41:12.821878Z",
     "shell.execute_reply": "2024-10-03T14:41:12.821055Z"
    },
    "papermill": {
     "duration": 0.014505,
     "end_time": "2024-10-03T14:41:12.823817",
     "exception": false,
     "start_time": "2024-10-03T14:41:12.809312",
     "status": "completed"
    },
    "tags": []
   },
   "outputs": [],
   "source": [
    "class CONFIG:\n",
    "    seq_len = 128\n",
    "    num_seq = 500\n",
    "    data_ch = 36\n",
    "    hidden_size = 32  # Hidden state size of the GRU\n",
    "    output_size = 1  # Binary classification\n",
    "    num_layers = 6  # Number of GRU layers\n",
    "    learning_rate = 0.001\n",
    "    num_epochs = 400\n",
    "    batch_size = 8"
   ]
  },
  {
   "cell_type": "code",
   "execution_count": 5,
   "id": "ad29adef",
   "metadata": {
    "execution": {
     "iopub.execute_input": "2024-10-03T14:41:12.838599Z",
     "iopub.status.busy": "2024-10-03T14:41:12.838082Z",
     "iopub.status.idle": "2024-10-03T14:41:12.845938Z",
     "shell.execute_reply": "2024-10-03T14:41:12.845128Z"
    },
    "papermill": {
     "duration": 0.017404,
     "end_time": "2024-10-03T14:41:12.847820",
     "exception": false,
     "start_time": "2024-10-03T14:41:12.830416",
     "status": "completed"
    },
    "tags": []
   },
   "outputs": [],
   "source": [
    "def data_gen(data_path, label_path):\n",
    "    final_data_df = pd.read_csv(data_path)\n",
    "    final_label_df = pd.read_csv(label_path)\n",
    "\n",
    "    train_labels_flat = final_label_df.values.flatten()\n",
    "    \n",
    "    # Compute class weights (inverse of class frequencies)\n",
    "    class_weights = compute_class_weight(class_weight='balanced', classes=np.unique(train_labels_flat), y=train_labels_flat)\n",
    "    class_weights = torch.tensor(class_weights, dtype=torch.float32)\n",
    "\n",
    "    # Parameters\n",
    "    sequence_length = CONFIG.seq_len  # Length of each subsequence\n",
    "    num_subsequences = CONFIG.num_seq  # Number of subsequences to extract\n",
    "\n",
    "    # Get possible starting indices, ensuring there's enough space for a full subsequence\n",
    "    possible_starts = np.arange(0, len(final_data_df) - sequence_length + 1)\n",
    "    np.random.shuffle(possible_starts)\n",
    "\n",
    "    # Select the first `num_subsequences` starting indices\n",
    "    selected_starts = possible_starts[:num_subsequences]\n",
    "\n",
    "    # Create a list to hold the subsequences\n",
    "    subsequences = [final_data_df.iloc[start:start + sequence_length].values for start in selected_starts]\n",
    "    sublabels = [final_label_df.iloc[start:start + sequence_length].values for start in selected_starts]\n",
    "\n",
    "    # Convert subsequences list to a NumPy array\n",
    "    subsequences_array = np.array(subsequences)\n",
    "    sublabels_array = np.array(sublabels)\n",
    "\n",
    "    # subsequences_array will have shape (num_subsequences, sequence_length, num_channels)\n",
    "    # print(subsequences_array.shape)  # Should print (100, 100, 36)\n",
    "    # print(sublabels_array.shape)\n",
    "\n",
    "    return torch.from_numpy(subsequences_array), torch.from_numpy(sublabels_array), class_weights\n"
   ]
  },
  {
   "cell_type": "code",
   "execution_count": 6,
   "id": "c5b3e533",
   "metadata": {
    "execution": {
     "iopub.execute_input": "2024-10-03T14:41:12.861441Z",
     "iopub.status.busy": "2024-10-03T14:41:12.861175Z",
     "iopub.status.idle": "2024-10-03T14:41:12.870299Z",
     "shell.execute_reply": "2024-10-03T14:41:12.869484Z"
    },
    "papermill": {
     "duration": 0.018066,
     "end_time": "2024-10-03T14:41:12.872175",
     "exception": false,
     "start_time": "2024-10-03T14:41:12.854109",
     "status": "completed"
    },
    "tags": []
   },
   "outputs": [],
   "source": [
    "\n",
    "# Sample time series data with shape (batch_size, sequence_length, num_features)\n",
    "# neuroimaging_data: Time series data from multiple neuroimaging channels\n",
    "# labels: Binary labels (0 = no pain, 1 = pain) for each time step\n",
    "# Assume neuroimaging_data is a numpy array of shape (num_samples, sequence_length, num_channels)\n",
    "# labels is a numpy array of shape (num_samples, sequence_length)\n",
    "\n",
    "class BidirectionalLSTMClassifier(nn.Module):\n",
    "    def __init__(self, input_size, hidden_size, output_size, num_layers=1):\n",
    "        super(BidirectionalLSTMClassifier, self).__init__()\n",
    "        self.hidden_size = hidden_size\n",
    "        self.num_layers = num_layers\n",
    "        self.lstm = nn.LSTM(input_size, hidden_size, num_layers, batch_first=True, bidirectional=True)\n",
    "        \n",
    "        # Adjust the fully connected layer to account for doubled hidden size (forward + backward)\n",
    "        self.fc = nn.Linear(hidden_size * 2, output_size)\n",
    "        self.batch_norm = nn.BatchNorm1d(hidden_size * 2)  # Adjust Batch Normalization for bidirectional\n",
    "        self.sigmoid = nn.Sigmoid()\n",
    "\n",
    "    def forward(self, x):\n",
    "        # Initialize hidden state and cell state with zeros for both directions\n",
    "        h0 = torch.zeros(self.num_layers * 2, x.size(0), self.hidden_size).to(x.device)  # *2 for bidirectional\n",
    "        c0 = torch.zeros(self.num_layers * 2, x.size(0), self.hidden_size).to(x.device)\n",
    "\n",
    "        # LSTM forward pass\n",
    "        out, _ = self.lstm(x, (h0, c0))\n",
    "        \n",
    "        # Apply batch normalization\n",
    "        # Permute to (batch_size, hidden_size*2, sequence_length) for batch norm\n",
    "        out = out.permute(0, 2, 1)\n",
    "        out = self.batch_norm(out)\n",
    "        \n",
    "        # Permute back to (batch_size, sequence_length, hidden_size*2)\n",
    "        out = out.permute(0, 2, 1)\n",
    "        \n",
    "        # Apply the linear layer to each time step\n",
    "        out = self.fc(out)\n",
    "        \n",
    "        return self.sigmoid(out)\n"
   ]
  },
  {
   "cell_type": "code",
   "execution_count": 7,
   "id": "34684ef0",
   "metadata": {
    "execution": {
     "iopub.execute_input": "2024-10-03T14:41:12.886050Z",
     "iopub.status.busy": "2024-10-03T14:41:12.885511Z",
     "iopub.status.idle": "2024-10-03T14:41:12.905705Z",
     "shell.execute_reply": "2024-10-03T14:41:12.904994Z"
    },
    "papermill": {
     "duration": 0.02962,
     "end_time": "2024-10-03T14:41:12.908038",
     "exception": false,
     "start_time": "2024-10-03T14:41:12.878418",
     "status": "completed"
    },
    "tags": []
   },
   "outputs": [],
   "source": [
    "# data_path = glob.glob(\"D:\\PythonProjs\\CLARAi\\Data_train\\*.csv\")  # Modify with your directory path\n",
    "# label_path = glob.glob(\"D:\\PythonProjs\\CLARAi\\Label_train\\*.csv\")\n",
    "\n",
    "# data_path = glob.glob(\"/home/frank/Documents/CLARAi/Data/*.csv\")  # Modify with your directory path\n",
    "# label_path = glob.glob(\"/home/frank/Documents/CLARAi/Label/*.csv\")\n",
    "\n",
    "# data_path = glob.glob(\"/Users/xiaosuhu/Documents/Python/CLARAi/Data/*.csv\")  # Modify with your directory path\n",
    "# label_path = glob.glob(\"/Users/xiaosuhu/Documents/Python/CLARAi/Data/*.csv\")\n",
    "\n",
    "data_path = glob.glob(\"/kaggle/input/CLARAi/Data_train/*.csv\")  # Modify with your directory path\n",
    "label_path = glob.glob(\"/kaggle/input/CLARAi/Label_train/*.csv\")\n",
    "\n",
    "# Sort the lists\n",
    "data_path = sorted(data_path)\n",
    "label_path = sorted(label_path)\n"
   ]
  },
  {
   "cell_type": "code",
   "execution_count": 8,
   "id": "e8cb0a12",
   "metadata": {
    "execution": {
     "iopub.execute_input": "2024-10-03T14:41:12.923782Z",
     "iopub.status.busy": "2024-10-03T14:41:12.923459Z",
     "iopub.status.idle": "2024-10-03T14:41:12.929582Z",
     "shell.execute_reply": "2024-10-03T14:41:12.928719Z"
    },
    "papermill": {
     "duration": 0.016527,
     "end_time": "2024-10-03T14:41:12.931766",
     "exception": false,
     "start_time": "2024-10-03T14:41:12.915239",
     "status": "completed"
    },
    "tags": []
   },
   "outputs": [
    {
     "data": {
      "text/plain": [
       "['/kaggle/input/CLARAi/Data_train/data1.csv',\n",
       " '/kaggle/input/CLARAi/Data_train/data10.csv',\n",
       " '/kaggle/input/CLARAi/Data_train/data11.csv',\n",
       " '/kaggle/input/CLARAi/Data_train/data12.csv',\n",
       " '/kaggle/input/CLARAi/Data_train/data13.csv',\n",
       " '/kaggle/input/CLARAi/Data_train/data16.csv',\n",
       " '/kaggle/input/CLARAi/Data_train/data17.csv',\n",
       " '/kaggle/input/CLARAi/Data_train/data3.csv',\n",
       " '/kaggle/input/CLARAi/Data_train/data4.csv',\n",
       " '/kaggle/input/CLARAi/Data_train/data5.csv',\n",
       " '/kaggle/input/CLARAi/Data_train/data6.csv',\n",
       " '/kaggle/input/CLARAi/Data_train/data7.csv',\n",
       " '/kaggle/input/CLARAi/Data_train/data8.csv',\n",
       " '/kaggle/input/CLARAi/Data_train/data9.csv']"
      ]
     },
     "execution_count": 8,
     "metadata": {},
     "output_type": "execute_result"
    }
   ],
   "source": [
    "data_path"
   ]
  },
  {
   "cell_type": "code",
   "execution_count": 9,
   "id": "075e552a",
   "metadata": {
    "execution": {
     "iopub.execute_input": "2024-10-03T14:41:12.948015Z",
     "iopub.status.busy": "2024-10-03T14:41:12.947603Z",
     "iopub.status.idle": "2024-10-03T14:41:12.964474Z",
     "shell.execute_reply": "2024-10-03T14:41:12.963779Z"
    },
    "papermill": {
     "duration": 0.027185,
     "end_time": "2024-10-03T14:41:12.966344",
     "exception": false,
     "start_time": "2024-10-03T14:41:12.939159",
     "status": "completed"
    },
    "tags": []
   },
   "outputs": [],
   "source": [
    "\n",
    "# data_path = \"D:\\PythonProjs\\CLARAi\\Data\\data1.csv\"\n",
    "# label_path = \"D:\\PythonProjs\\CLARAi\\Label\\label1.csv\"\n",
    "neuroimaging_data = torch.empty(0,CONFIG.seq_len,CONFIG.data_ch)\n",
    "labels = torch.empty(0,CONFIG.seq_len,1)\n",
    "class_weights = torch.Tensor([0., 0.])"
   ]
  },
  {
   "cell_type": "code",
   "execution_count": 10,
   "id": "38d6ce62",
   "metadata": {
    "execution": {
     "iopub.execute_input": "2024-10-03T14:41:12.980412Z",
     "iopub.status.busy": "2024-10-03T14:41:12.980127Z",
     "iopub.status.idle": "2024-10-03T14:41:14.618599Z",
     "shell.execute_reply": "2024-10-03T14:41:14.617553Z"
    },
    "papermill": {
     "duration": 1.64822,
     "end_time": "2024-10-03T14:41:14.620962",
     "exception": false,
     "start_time": "2024-10-03T14:41:12.972742",
     "status": "completed"
    },
    "tags": []
   },
   "outputs": [
    {
     "name": "stdout",
     "output_type": "stream",
     "text": [
      "datapath: /kaggle/input/CLARAi/Data_train/data1.csv\n",
      "labelpath: /kaggle/input/CLARAi/Label_train/label1.csv\n",
      "Data shape: torch.Size([500, 128, 36]), Label shape: torch.Size([500, 128, 1]), Weight shape: torch.Size([2])\n",
      "datapath: /kaggle/input/CLARAi/Data_train/data10.csv\n",
      "labelpath: /kaggle/input/CLARAi/Label_train/label10.csv\n",
      "Data shape: torch.Size([500, 128, 36]), Label shape: torch.Size([500, 128, 1]), Weight shape: torch.Size([2])\n",
      "datapath: /kaggle/input/CLARAi/Data_train/data11.csv\n",
      "labelpath: /kaggle/input/CLARAi/Label_train/label11.csv\n",
      "Data shape: torch.Size([500, 128, 36]), Label shape: torch.Size([500, 128, 1]), Weight shape: torch.Size([2])\n",
      "datapath: /kaggle/input/CLARAi/Data_train/data12.csv\n",
      "labelpath: /kaggle/input/CLARAi/Label_train/label12.csv\n",
      "Data shape: torch.Size([500, 128, 36]), Label shape: torch.Size([500, 128, 1]), Weight shape: torch.Size([2])\n",
      "datapath: /kaggle/input/CLARAi/Data_train/data13.csv\n",
      "labelpath: /kaggle/input/CLARAi/Label_train/label13.csv\n",
      "Data shape: torch.Size([500, 128, 36]), Label shape: torch.Size([500, 128, 1]), Weight shape: torch.Size([2])\n",
      "datapath: /kaggle/input/CLARAi/Data_train/data16.csv\n",
      "labelpath: /kaggle/input/CLARAi/Label_train/label16.csv\n",
      "Data shape: torch.Size([500, 128, 36]), Label shape: torch.Size([500, 128, 1]), Weight shape: torch.Size([2])\n",
      "datapath: /kaggle/input/CLARAi/Data_train/data17.csv\n",
      "labelpath: /kaggle/input/CLARAi/Label_train/label17.csv\n",
      "Data shape: torch.Size([500, 128, 36]), Label shape: torch.Size([500, 128, 1]), Weight shape: torch.Size([2])\n",
      "datapath: /kaggle/input/CLARAi/Data_train/data3.csv\n",
      "labelpath: /kaggle/input/CLARAi/Label_train/label3.csv\n",
      "Data shape: torch.Size([500, 128, 36]), Label shape: torch.Size([500, 128, 1]), Weight shape: torch.Size([2])\n",
      "datapath: /kaggle/input/CLARAi/Data_train/data4.csv\n",
      "labelpath: /kaggle/input/CLARAi/Label_train/label4.csv\n",
      "Data shape: torch.Size([500, 128, 36]), Label shape: torch.Size([500, 128, 1]), Weight shape: torch.Size([2])\n",
      "datapath: /kaggle/input/CLARAi/Data_train/data5.csv\n",
      "labelpath: /kaggle/input/CLARAi/Label_train/label5.csv\n",
      "Data shape: torch.Size([500, 128, 36]), Label shape: torch.Size([500, 128, 1]), Weight shape: torch.Size([2])\n",
      "datapath: /kaggle/input/CLARAi/Data_train/data6.csv\n",
      "labelpath: /kaggle/input/CLARAi/Label_train/label6.csv\n",
      "Data shape: torch.Size([500, 128, 36]), Label shape: torch.Size([500, 128, 1]), Weight shape: torch.Size([2])\n",
      "datapath: /kaggle/input/CLARAi/Data_train/data7.csv\n",
      "labelpath: /kaggle/input/CLARAi/Label_train/label7.csv\n",
      "Data shape: torch.Size([500, 128, 36]), Label shape: torch.Size([500, 128, 1]), Weight shape: torch.Size([2])\n",
      "datapath: /kaggle/input/CLARAi/Data_train/data8.csv\n",
      "labelpath: /kaggle/input/CLARAi/Label_train/label8.csv\n",
      "Data shape: torch.Size([500, 128, 36]), Label shape: torch.Size([500, 128, 1]), Weight shape: torch.Size([2])\n",
      "datapath: /kaggle/input/CLARAi/Data_train/data9.csv\n",
      "labelpath: /kaggle/input/CLARAi/Label_train/label9.csv\n",
      "Data shape: torch.Size([500, 128, 36]), Label shape: torch.Size([500, 128, 1]), Weight shape: torch.Size([2])\n"
     ]
    }
   ],
   "source": [
    "\n",
    "for datapath, labelpath in zip(data_path, label_path):\n",
    "    print(f'datapath: {datapath}')\n",
    "    print(f'labelpath: {labelpath}')    \n",
    "    data, label, weight = data_gen(datapath, labelpath)\n",
    "    print(f'Data shape: {data.shape}, Label shape: {label.shape}, Weight shape: {weight.shape}')\n",
    "    neuroimaging_data= torch.cat([neuroimaging_data, data])\n",
    "    labels = torch.cat([labels, label])\n",
    "    class_weights += weight\n",
    "\n",
    "normalized_weights = class_weights / class_weights.sum()\n"
   ]
  },
  {
   "cell_type": "code",
   "execution_count": 11,
   "id": "9dd28af1",
   "metadata": {
    "execution": {
     "iopub.execute_input": "2024-10-03T14:41:14.639171Z",
     "iopub.status.busy": "2024-10-03T14:41:14.638821Z",
     "iopub.status.idle": "2024-10-03T14:41:14.645028Z",
     "shell.execute_reply": "2024-10-03T14:41:14.644184Z"
    },
    "papermill": {
     "duration": 0.016948,
     "end_time": "2024-10-03T14:41:14.646981",
     "exception": false,
     "start_time": "2024-10-03T14:41:14.630033",
     "status": "completed"
    },
    "tags": []
   },
   "outputs": [
    {
     "data": {
      "text/plain": [
       "(torch.Size([7000, 128, 36]), torch.Size([7000, 128, 1]))"
      ]
     },
     "execution_count": 11,
     "metadata": {},
     "output_type": "execute_result"
    }
   ],
   "source": [
    "neuroimaging_data.shape, labels.shape"
   ]
  },
  {
   "cell_type": "code",
   "execution_count": 12,
   "id": "73a9f687",
   "metadata": {
    "execution": {
     "iopub.execute_input": "2024-10-03T14:41:14.663855Z",
     "iopub.status.busy": "2024-10-03T14:41:14.663512Z",
     "iopub.status.idle": "2024-10-03T14:41:14.679597Z",
     "shell.execute_reply": "2024-10-03T14:41:14.678697Z"
    },
    "papermill": {
     "duration": 0.02607,
     "end_time": "2024-10-03T14:41:14.681568",
     "exception": false,
     "start_time": "2024-10-03T14:41:14.655498",
     "status": "completed"
    },
    "tags": []
   },
   "outputs": [
    {
     "name": "stdout",
     "output_type": "stream",
     "text": [
      "Number of 0s: 685937Number of 1s: 210063 Ratio is 0.2344453125\n"
     ]
    }
   ],
   "source": [
    "# Count the number of 1s\n",
    "num_zeros = torch.sum(labels == 0).item()\n",
    "num_ones = torch.sum(labels == 1).item()\n",
    "\n",
    "print(f\"Number of 0s: {num_zeros}Number of 1s: {num_ones} Ratio is {num_ones/(num_ones + num_zeros)}\")"
   ]
  },
  {
   "cell_type": "code",
   "execution_count": 13,
   "id": "6845b104",
   "metadata": {
    "execution": {
     "iopub.execute_input": "2024-10-03T14:41:14.697310Z",
     "iopub.status.busy": "2024-10-03T14:41:14.696781Z",
     "iopub.status.idle": "2024-10-03T14:41:16.360588Z",
     "shell.execute_reply": "2024-10-03T14:41:16.359825Z"
    },
    "papermill": {
     "duration": 1.674069,
     "end_time": "2024-10-03T14:41:16.362838",
     "exception": false,
     "start_time": "2024-10-03T14:41:14.688769",
     "status": "completed"
    },
    "tags": []
   },
   "outputs": [
    {
     "name": "stderr",
     "output_type": "stream",
     "text": [
      "/tmp/ipykernel_23/3072856817.py:16: UserWarning: To copy construct from a tensor, it is recommended to use sourceTensor.clone().detach() or sourceTensor.clone().detach().requires_grad_(True), rather than torch.tensor(sourceTensor).\n",
      "  train_data, test_data = torch.tensor(train_data, dtype=torch.float32).to(device), torch.tensor(test_data, dtype=torch.float32).to(device)\n",
      "/tmp/ipykernel_23/3072856817.py:17: UserWarning: To copy construct from a tensor, it is recommended to use sourceTensor.clone().detach() or sourceTensor.clone().detach().requires_grad_(True), rather than torch.tensor(sourceTensor).\n",
      "  train_labels, test_labels = torch.tensor(train_labels, dtype=torch.float32).to(device), torch.tensor(test_labels, dtype=torch.float32).to(device)\n"
     ]
    }
   ],
   "source": [
    "# Hyperparameters\n",
    "input_size = CONFIG.data_ch  # Number of features (channels)\n",
    "hidden_size = CONFIG.hidden_size  # Hidden state size of the GRU\n",
    "output_size = CONFIG.output_size  # Binary classification\n",
    "num_layers = CONFIG.num_layers  # Number of GRU layers\n",
    "learning_rate = CONFIG.learning_rate\n",
    "num_epochs = CONFIG.num_epochs\n",
    "batch_size = CONFIG.batch_size\n",
    "\n",
    "# Preprocessing (e.g., normalization)\n",
    "# scaler = StandardScaler()\n",
    "# neuroimaging_data = scaler.fit_transform(neuroimaging_data.reshape(-1, input_size)).reshape(neuroimaging_data.shape)\n",
    "\n",
    "# Convert numpy arrays to PyTorch tensors\n",
    "train_data, test_data, train_labels, test_labels = train_test_split(neuroimaging_data, labels, test_size=0.2, random_state=42)\n",
    "train_data, test_data = torch.tensor(train_data, dtype=torch.float32).to(device), torch.tensor(test_data, dtype=torch.float32).to(device)\n",
    "train_labels, test_labels = torch.tensor(train_labels, dtype=torch.float32).to(device), torch.tensor(test_labels, dtype=torch.float32).to(device)\n",
    "\n",
    "# Create GRU model\n",
    "model = BidirectionalLSTMClassifier(input_size, hidden_size, output_size, num_layers)\n",
    "model = torch.nn.DataParallel(model)\n",
    "model.to(device)\n",
    "\n",
    "# Loss and optimizer\n",
    "# criterion = nn.BCELoss()  # Binary Cross Entropy Loss for binary classification\n",
    "\n",
    "\n",
    "# Convert the class weights to a tensor and move to the appropriate device\n",
    "class_weights = class_weights.to(device)\n",
    "\n",
    "# Use BCEWithLogitsLoss, which combines sigmoid activation and binary cross-entropy loss\n",
    "criterion = nn.BCEWithLogitsLoss(pos_weight=normalized_weights[0])  # pos_weight applies only to class 1\n",
    "\n",
    "# optimizer = optim.Adam(model.parameters(), lr=learning_rate)\n",
    "optimizer = optim.Adam(model.parameters(), lr=learning_rate, weight_decay=1e-5)\n",
    "scheduler = torch.optim.lr_scheduler.ReduceLROnPlateau(optimizer, mode='min', factor=0.1, patience=20)"
   ]
  },
  {
   "cell_type": "code",
   "execution_count": 14,
   "id": "90bd21b6",
   "metadata": {
    "execution": {
     "iopub.execute_input": "2024-10-03T14:41:16.379263Z",
     "iopub.status.busy": "2024-10-03T14:41:16.378828Z",
     "iopub.status.idle": "2024-10-03T14:42:57.198341Z",
     "shell.execute_reply": "2024-10-03T14:42:57.197494Z"
    },
    "papermill": {
     "duration": 100.829969,
     "end_time": "2024-10-03T14:42:57.200461",
     "exception": false,
     "start_time": "2024-10-03T14:41:16.370492",
     "status": "completed"
    },
    "tags": []
   },
   "outputs": [
    {
     "name": "stderr",
     "output_type": "stream",
     "text": [
      "/opt/conda/lib/python3.10/site-packages/torch/nn/parallel/parallel_apply.py:79: FutureWarning: `torch.cuda.amp.autocast(args...)` is deprecated. Please use `torch.amp.autocast('cuda', args...)` instead.\n",
      "  with torch.cuda.device(device), torch.cuda.stream(stream), autocast(enabled=autocast_enabled):\n"
     ]
    },
    {
     "name": "stdout",
     "output_type": "stream",
     "text": [
      "Epoch [5/400], Train Loss: 0.7529, Val Loss: 0.7493\n",
      "Epoch [10/400], Train Loss: 0.7165, Val Loss: 0.7288\n",
      "Epoch [15/400], Train Loss: 0.6824, Val Loss: 0.7049\n",
      "Epoch [20/400], Train Loss: 0.6661, Val Loss: 0.6966\n",
      "Epoch [25/400], Train Loss: 0.6539, Val Loss: 0.7124\n",
      "Epoch [30/400], Train Loss: 0.6426, Val Loss: 0.7643\n",
      "Epoch [35/400], Train Loss: 0.6322, Val Loss: 0.8212\n",
      "Epoch [40/400], Train Loss: 0.6242, Val Loss: 0.7893\n",
      "Epoch [45/400], Train Loss: 0.6221, Val Loss: 0.7155\n",
      "Epoch [50/400], Train Loss: 0.6211, Val Loss: 0.6715\n",
      "Epoch [55/400], Train Loss: 0.6202, Val Loss: 0.6472\n",
      "Epoch [60/400], Train Loss: 0.6194, Val Loss: 0.6338\n",
      "Epoch [65/400], Train Loss: 0.6185, Val Loss: 0.6261\n",
      "Epoch [70/400], Train Loss: 0.6177, Val Loss: 0.6218\n",
      "Epoch [75/400], Train Loss: 0.6168, Val Loss: 0.6194\n",
      "Epoch [80/400], Train Loss: 0.6160, Val Loss: 0.6176\n",
      "Epoch [85/400], Train Loss: 0.6152, Val Loss: 0.6163\n",
      "Epoch [90/400], Train Loss: 0.6144, Val Loss: 0.6152\n",
      "Epoch [95/400], Train Loss: 0.6136, Val Loss: 0.6144\n",
      "Epoch [100/400], Train Loss: 0.6128, Val Loss: 0.6136\n",
      "Epoch [105/400], Train Loss: 0.6120, Val Loss: 0.6128\n",
      "Epoch [110/400], Train Loss: 0.6111, Val Loss: 0.6120\n",
      "Epoch [115/400], Train Loss: 0.6103, Val Loss: 0.6111\n",
      "Epoch [120/400], Train Loss: 0.6095, Val Loss: 0.6102\n",
      "Epoch [125/400], Train Loss: 0.6087, Val Loss: 0.6094\n",
      "Epoch [130/400], Train Loss: 0.6080, Val Loss: 0.6086\n",
      "Epoch [135/400], Train Loss: 0.6072, Val Loss: 0.6078\n",
      "Epoch [140/400], Train Loss: 0.6065, Val Loss: 0.6072\n",
      "Epoch [145/400], Train Loss: 0.6058, Val Loss: 0.6065\n",
      "Epoch [150/400], Train Loss: 0.6051, Val Loss: 0.6058\n",
      "Epoch [155/400], Train Loss: 0.6045, Val Loss: 0.6053\n",
      "Epoch [160/400], Train Loss: 0.6039, Val Loss: 0.6046\n",
      "Epoch [165/400], Train Loss: 0.6034, Val Loss: 0.6040\n",
      "Epoch [170/400], Train Loss: 0.6029, Val Loss: 0.6035\n",
      "Epoch [175/400], Train Loss: 0.6024, Val Loss: 0.6030\n",
      "Epoch [180/400], Train Loss: 0.6020, Val Loss: 0.6026\n",
      "Epoch [185/400], Train Loss: 0.6016, Val Loss: 0.6022\n",
      "Epoch [190/400], Train Loss: 0.6012, Val Loss: 0.6019\n",
      "Epoch [195/400], Train Loss: 0.6008, Val Loss: 0.6015\n",
      "Epoch [200/400], Train Loss: 0.6005, Val Loss: 0.6012\n",
      "Epoch [205/400], Train Loss: 0.6002, Val Loss: 0.6010\n",
      "Epoch [210/400], Train Loss: 0.5999, Val Loss: 0.6007\n",
      "Epoch [215/400], Train Loss: 0.5997, Val Loss: 0.6005\n",
      "Epoch [220/400], Train Loss: 0.5994, Val Loss: 0.6003\n",
      "Epoch [225/400], Train Loss: 0.5992, Val Loss: 0.6001\n",
      "Epoch [230/400], Train Loss: 0.5989, Val Loss: 0.5999\n",
      "Epoch [235/400], Train Loss: 0.5987, Val Loss: 0.5997\n",
      "Epoch [240/400], Train Loss: 0.5985, Val Loss: 0.5995\n",
      "Epoch [245/400], Train Loss: 0.5983, Val Loss: 0.5993\n",
      "Epoch [250/400], Train Loss: 0.5981, Val Loss: 0.5991\n",
      "Epoch [255/400], Train Loss: 0.5979, Val Loss: 0.5989\n",
      "Epoch [260/400], Train Loss: 0.5977, Val Loss: 0.5987\n",
      "Epoch [265/400], Train Loss: 0.5975, Val Loss: 0.5986\n",
      "Epoch [270/400], Train Loss: 0.5973, Val Loss: 0.5984\n",
      "Epoch [275/400], Train Loss: 0.5971, Val Loss: 0.5982\n",
      "Epoch [280/400], Train Loss: 0.5969, Val Loss: 0.5980\n",
      "Epoch [285/400], Train Loss: 0.5968, Val Loss: 0.5978\n",
      "Epoch [290/400], Train Loss: 0.5966, Val Loss: 0.5976\n",
      "Epoch [295/400], Train Loss: 0.5964, Val Loss: 0.5974\n",
      "Epoch [300/400], Train Loss: 0.5963, Val Loss: 0.5973\n",
      "Epoch [305/400], Train Loss: 0.5962, Val Loss: 0.5971\n",
      "Epoch [310/400], Train Loss: 0.5960, Val Loss: 0.5970\n",
      "Epoch [315/400], Train Loss: 0.5959, Val Loss: 0.5969\n",
      "Epoch [320/400], Train Loss: 0.5957, Val Loss: 0.5967\n",
      "Epoch [325/400], Train Loss: 0.5956, Val Loss: 0.5966\n",
      "Epoch [330/400], Train Loss: 0.5955, Val Loss: 0.5965\n",
      "Epoch [335/400], Train Loss: 0.5953, Val Loss: 0.5964\n",
      "Epoch [340/400], Train Loss: 0.5952, Val Loss: 0.5962\n",
      "Epoch [345/400], Train Loss: 0.5951, Val Loss: 0.5961\n",
      "Epoch [350/400], Train Loss: 0.5949, Val Loss: 0.5960\n",
      "Epoch [355/400], Train Loss: 0.5948, Val Loss: 0.5959\n",
      "Epoch [360/400], Train Loss: 0.5947, Val Loss: 0.5957\n",
      "Epoch [365/400], Train Loss: 0.5946, Val Loss: 0.5956\n",
      "Epoch [370/400], Train Loss: 0.5945, Val Loss: 0.5955\n",
      "Epoch [375/400], Train Loss: 0.5944, Val Loss: 0.5954\n",
      "Epoch [380/400], Train Loss: 0.5943, Val Loss: 0.5953\n",
      "Epoch [385/400], Train Loss: 0.5942, Val Loss: 0.5952\n",
      "Epoch [390/400], Train Loss: 0.5941, Val Loss: 0.5951\n",
      "Epoch [395/400], Train Loss: 0.5940, Val Loss: 0.5951\n",
      "Epoch [400/400], Train Loss: 0.5939, Val Loss: 0.5950\n"
     ]
    }
   ],
   "source": [
    "# Training loop\n",
    "for epoch in range(num_epochs):\n",
    "    model.train()  # Set model to training mode\n",
    "    optimizer.zero_grad()\n",
    "    \n",
    "    # Forward pass (training)\n",
    "    outputs = model(train_data)\n",
    "    loss = criterion(outputs, train_labels)\n",
    "    \n",
    "    # Backward pass and optimization\n",
    "    loss.backward()\n",
    "    \n",
    "    # Clip gradients to prevent exploding gradients\n",
    "    torch.nn.utils.clip_grad_norm_(model.parameters(), max_norm=1.0)\n",
    "    \n",
    "    optimizer.step()\n",
    "\n",
    "    # Validation phase (no gradient calculations)\n",
    "    model.eval()  # Set model to evaluation mode\n",
    "    with torch.no_grad():  # Disable gradient calculation for validation\n",
    "        val_outputs = model(test_data)\n",
    "        val_loss = criterion(val_outputs, test_labels)\n",
    "\n",
    "    # Update learning rate if validation loss plateaus\n",
    "    scheduler.step(val_loss)\n",
    "\n",
    "    # Print loss every 5 epochs\n",
    "    if (epoch + 1) % 5 == 0:\n",
    "        print(f'Epoch [{epoch+1}/{num_epochs}], Train Loss: {loss.item():.4f}, Val Loss: {val_loss.item():.4f}')\n"
   ]
  },
  {
   "cell_type": "code",
   "execution_count": 15,
   "id": "b88972c4",
   "metadata": {
    "execution": {
     "iopub.execute_input": "2024-10-03T14:42:57.235573Z",
     "iopub.status.busy": "2024-10-03T14:42:57.234931Z",
     "iopub.status.idle": "2024-10-03T14:42:57.246379Z",
     "shell.execute_reply": "2024-10-03T14:42:57.245633Z"
    },
    "papermill": {
     "duration": 0.031343,
     "end_time": "2024-10-03T14:42:57.248360",
     "exception": false,
     "start_time": "2024-10-03T14:42:57.217017",
     "status": "completed"
    },
    "tags": []
   },
   "outputs": [],
   "source": [
    "# After the training loop\n",
    "# torch.save(model.state_dict(), 'D:\\PythonProjs\\CLARAi\\Trained_model_weights\\lstm_bidi_model_state_dict_data_300_ep_200.pth')\n",
    "torch.save(model.state_dict(), '/kaggle/working/lstm_bidi_model_state_dict_data_300_ep_200.pth')\n",
    "# print(\"Model state_dict saved to 'lstm_unidi_model_state_dict.pth'\")"
   ]
  },
  {
   "cell_type": "code",
   "execution_count": 16,
   "id": "e24406f2",
   "metadata": {
    "execution": {
     "iopub.execute_input": "2024-10-03T14:42:57.282748Z",
     "iopub.status.busy": "2024-10-03T14:42:57.282140Z",
     "iopub.status.idle": "2024-10-03T14:42:57.874477Z",
     "shell.execute_reply": "2024-10-03T14:42:57.873561Z"
    },
    "papermill": {
     "duration": 0.61198,
     "end_time": "2024-10-03T14:42:57.876657",
     "exception": false,
     "start_time": "2024-10-03T14:42:57.264677",
     "status": "completed"
    },
    "tags": []
   },
   "outputs": [
    {
     "name": "stdout",
     "output_type": "stream",
     "text": [
      "Accuracy: 89.40%\n",
      "Confusion Matrix:\n",
      "[[123895  12751]\n",
      " [  6246  36308]]\n"
     ]
    },
    {
     "data": {
      "image/png": "[encoded data removed]",
      "text/plain": [
       "<Figure size 600x400 with 2 Axes>"
      ]
     },
     "metadata": {},
     "output_type": "display_data"
    }
   ],
   "source": [
    "\n",
    "model.eval()\n",
    "with torch.no_grad():\n",
    "    test_outputs = model(test_data)\n",
    "    predicted = (test_outputs > 0.5).float()  # Threshold at 0.5 for binary classification\n",
    "    \n",
    "    # Calculate accuracy\n",
    "    accuracy = (predicted == test_labels).float().mean()\n",
    "    print(f'Accuracy: {accuracy.item() * 100:.2f}%')\n",
    "\n",
    "    # Flatten the predicted and test labels for confusion matrix calculation\n",
    "    predicted_flat = predicted.cpu().numpy().flatten()\n",
    "    test_labels_flat = test_labels.cpu().numpy().flatten()\n",
    "\n",
    "    # Generate the confusion matrix\n",
    "    cm = confusion_matrix(test_labels_flat, predicted_flat)\n",
    "    print(f'Confusion Matrix:\\n{cm}')\n",
    "\n",
    "    # Optional: plot the confusion matrix for visualization\n",
    "    plt.figure(figsize=(6,4))\n",
    "    sns.heatmap(cm, annot=True, fmt=\"d\", cmap=\"Blues\", xticklabels=['No Pain', 'Pain'], yticklabels=['No Pain', 'Pain'])\n",
    "    plt.ylabel('True Label')\n",
    "    plt.xlabel('Predicted Label')\n",
    "    plt.title('Confusion Matrix')\n",
    "    plt.show()\n"
   ]
  },
  {
   "cell_type": "code",
   "execution_count": 17,
   "id": "51e5f158",
   "metadata": {
    "execution": {
     "iopub.execute_input": "2024-10-03T14:42:57.906877Z",
     "iopub.status.busy": "2024-10-03T14:42:57.906528Z",
     "iopub.status.idle": "2024-10-03T14:42:57.914782Z",
     "shell.execute_reply": "2024-10-03T14:42:57.913935Z"
    },
    "papermill": {
     "duration": 0.02536,
     "end_time": "2024-10-03T14:42:57.916696",
     "exception": false,
     "start_time": "2024-10-03T14:42:57.891336",
     "status": "completed"
    },
    "tags": []
   },
   "outputs": [],
   "source": [
    "def plot_roc_auc(model, test_data, test_labels):\n",
    "    model.eval()\n",
    "    with torch.no_grad():\n",
    "        # Get the raw logits (before applying sigmoid)\n",
    "        test_outputs = model(test_data)\n",
    "        \n",
    "        # Convert test_labels and test_outputs to NumPy arrays for sklearn\n",
    "        test_labels_flat = test_labels.cpu().numpy().flatten()\n",
    "        test_outputs_flat = test_outputs.cpu().numpy().flatten()\n",
    "\n",
    "        # Calculate the false positive rate, true positive rate, and thresholds for the ROC curve\n",
    "        fpr, tpr, thresholds = roc_curve(test_labels_flat, test_outputs_flat)\n",
    "        \n",
    "        # Calculate the AUC score\n",
    "        roc_auc = auc(fpr, tpr)\n",
    "        \n",
    "        # Plot ROC curve\n",
    "        plt.figure(figsize=(8,6))\n",
    "        plt.plot(fpr, tpr, color='blue', label=f'ROC Curve (AUC = {roc_auc:.2f})')\n",
    "        plt.plot([0, 1], [0, 1], color='grey', linestyle='--')  # Random classifier line\n",
    "        plt.xlim([0.0, 1.0])\n",
    "        plt.ylim([0.0, 1.05])\n",
    "        plt.xlabel('False Positive Rate (FPR)')\n",
    "        plt.ylabel('True Positive Rate (TPR)')\n",
    "        plt.title('Receiver Operating Characteristic (ROC)')\n",
    "        plt.legend(loc='lower right')\n",
    "        plt.show()\n",
    "\n",
    "    return roc_auc"
   ]
  },
  {
   "cell_type": "code",
   "execution_count": 18,
   "id": "9757a7ca",
   "metadata": {
    "execution": {
     "iopub.execute_input": "2024-10-03T14:42:57.946307Z",
     "iopub.status.busy": "2024-10-03T14:42:57.945676Z",
     "iopub.status.idle": "2024-10-03T14:42:58.306757Z",
     "shell.execute_reply": "2024-10-03T14:42:58.305838Z"
    },
    "papermill": {
     "duration": 0.377955,
     "end_time": "2024-10-03T14:42:58.308654",
     "exception": false,
     "start_time": "2024-10-03T14:42:57.930699",
     "status": "completed"
    },
    "tags": []
   },
   "outputs": [
    {
     "name": "stderr",
     "output_type": "stream",
     "text": [
      "/opt/conda/lib/python3.10/site-packages/torch/nn/parallel/parallel_apply.py:79: FutureWarning: `torch.cuda.amp.autocast(args...)` is deprecated. Please use `torch.amp.autocast('cuda', args...)` instead.\n",
      "  with torch.cuda.device(device), torch.cuda.stream(stream), autocast(enabled=autocast_enabled):\n"
     ]
    },
    {
     "data": {
      "image/png": "[encoded data removed]",
      "text/plain": [
       "<Figure size 800x600 with 1 Axes>"
      ]
     },
     "metadata": {},
     "output_type": "display_data"
    },
    {
     "data": {
      "text/plain": [
       "0.9071091933535276"
      ]
     },
     "execution_count": 18,
     "metadata": {},
     "output_type": "execute_result"
    }
   ],
   "source": [
    "plot_roc_auc(model, test_data, test_labels)"
   ]
  },
  {
   "cell_type": "code",
   "execution_count": 19,
   "id": "d15e718a",
   "metadata": {
    "execution": {
     "iopub.execute_input": "2024-10-03T14:42:58.339912Z",
     "iopub.status.busy": "2024-10-03T14:42:58.339545Z",
     "iopub.status.idle": "2024-10-03T14:42:58.382085Z",
     "shell.execute_reply": "2024-10-03T14:42:58.381184Z"
    },
    "papermill": {
     "duration": 0.060637,
     "end_time": "2024-10-03T14:42:58.384192",
     "exception": false,
     "start_time": "2024-10-03T14:42:58.323555",
     "status": "completed"
    },
    "tags": []
   },
   "outputs": [],
   "source": [
    "# Test data evaluation\n",
    "\n",
    "# data_test = pd.read_csv('D:\\PythonProjs\\CLARAi\\Data_test\\data18.csv')\n",
    "# label_test = pd.read_csv('D:\\PythonProjs\\CLARAi\\Label_test\\label18.csv')\n",
    "\n",
    "data_test = pd.read_csv('/kaggle/input/CLARAi/Data_test/data18.csv')\n",
    "label_test = pd.read_csv('/kaggle/input/CLARAi/Label_test/label18.csv')\n",
    "\n",
    "data_test= data_test.to_numpy()\n",
    "label_test = label_test.to_numpy()\n",
    "\n",
    "sequence_length = CONFIG.seq_len\n",
    "input_size = CONFIG.data_ch\n",
    "\n",
    "\n",
    "# Calculate the number of complete sequences\n",
    "num_sequences = data_test.shape[0] // sequence_length  # 5 sequences\n",
    "\n",
    "# Truncate the data to have only complete sequences\n",
    "truncated_data = data_test[:num_sequences * sequence_length]  # Shape: (1280, 36)\n",
    "\n",
    "# Reshape to (num_sequences, sequence_length, input_size)\n",
    "test_sequences = truncated_data.reshape(num_sequences, sequence_length, input_size)  # Shape: (5, 256, 36)\n",
    "\n",
    "# Convert to PyTorch tensor\n",
    "test_sequences = torch.tensor(test_sequences, dtype=torch.float32)\n"
   ]
  },
  {
   "cell_type": "code",
   "execution_count": 20,
   "id": "c3ce9596",
   "metadata": {
    "execution": {
     "iopub.execute_input": "2024-10-03T14:42:58.424239Z",
     "iopub.status.busy": "2024-10-03T14:42:58.423863Z",
     "iopub.status.idle": "2024-10-03T14:42:58.542411Z",
     "shell.execute_reply": "2024-10-03T14:42:58.541247Z"
    },
    "papermill": {
     "duration": 0.142263,
     "end_time": "2024-10-03T14:42:58.544945",
     "exception": false,
     "start_time": "2024-10-03T14:42:58.402682",
     "status": "completed"
    },
    "tags": []
   },
   "outputs": [
    {
     "name": "stderr",
     "output_type": "stream",
     "text": [
      "/opt/conda/lib/python3.10/site-packages/torch/nn/parallel/parallel_apply.py:79: FutureWarning: `torch.cuda.amp.autocast(args...)` is deprecated. Please use `torch.amp.autocast('cuda', args...)` instead.\n",
      "  with torch.cuda.device(device), torch.cuda.stream(stream), autocast(enabled=autocast_enabled):\n"
     ]
    }
   ],
   "source": [
    "\n",
    "# Create DataLoader\n",
    "test_dataset = TensorDataset(test_sequences)\n",
    "test_loader = DataLoader(test_dataset, batch_size=2, shuffle=False)  # Adjust batch_size as needed\n",
    "\n",
    "# Perform inference\n",
    "all_outputs = []\n",
    "with torch.no_grad():\n",
    "    for batch in test_loader:\n",
    "        inputs = batch[0].to(device)  # (batch_size, 256, 36)\n",
    "        outputs = model(inputs)       # (batch_size, 256, 1)\n",
    "        all_outputs.append(outputs.cpu().numpy())\n",
    "\n",
    "# Concatenate all outputs\n",
    "all_outputs = np.concatenate(all_outputs, axis=0)  # Shape: (6, 256, 1)\n",
    "\n",
    "# Apply threshold to get binary predictions\n",
    "predictions = (all_outputs >= 0.5).astype(int)  # Shape: (6, 256, 1)\n",
    "predictions = predictions.squeeze(-1)           # Shape: (6, 256)\n",
    "# Flatten the predictions\n",
    "flattened_predictions = predictions.flatten()  # Shape: (1536,)\n",
    "\n",
    "true_label = label_test[:num_sequences * sequence_length].squeeze(-1)"
   ]
  },
  {
   "cell_type": "code",
   "execution_count": 21,
   "id": "369c4be6",
   "metadata": {
    "execution": {
     "iopub.execute_input": "2024-10-03T14:42:58.580229Z",
     "iopub.status.busy": "2024-10-03T14:42:58.579408Z",
     "iopub.status.idle": "2024-10-03T14:42:58.864126Z",
     "shell.execute_reply": "2024-10-03T14:42:58.863151Z"
    },
    "papermill": {
     "duration": 0.304288,
     "end_time": "2024-10-03T14:42:58.866155",
     "exception": false,
     "start_time": "2024-10-03T14:42:58.561867",
     "status": "completed"
    },
    "tags": []
   },
   "outputs": [
    {
     "name": "stdout",
     "output_type": "stream",
     "text": [
      "Confusion Matrix:\n",
      "[[291 618]\n",
      " [ 61 182]]\n",
      "\n",
      "Classification Report:\n",
      "              precision    recall  f1-score   support\n",
      "\n",
      "           0       0.83      0.32      0.46       909\n",
      "           1       0.23      0.75      0.35       243\n",
      "\n",
      "    accuracy                           0.41      1152\n",
      "   macro avg       0.53      0.53      0.41      1152\n",
      "weighted avg       0.70      0.41      0.44      1152\n",
      "\n"
     ]
    },
    {
     "data": {
      "image/png": "[encoded data removed]",
      "text/plain": [
       "<Figure size 600x500 with 2 Axes>"
      ]
     },
     "metadata": {},
     "output_type": "display_data"
    }
   ],
   "source": [
    "cm = confusion_matrix(true_label, flattened_predictions)\n",
    "print(\"Confusion Matrix:\")\n",
    "print(cm)\n",
    "\n",
    "# Optional: Detailed classification report\n",
    "print(\"\\nClassification Report:\")\n",
    "print(classification_report(true_label, flattened_predictions))\n",
    "\n",
    "# Optional: Visualize the confusion matrix\n",
    "labels = ['Negative', 'Positive']\n",
    "cm_df = pd.DataFrame(cm, index=labels, columns=labels)\n",
    "\n",
    "plt.figure(figsize=(6,5))\n",
    "sns.heatmap(cm_df, annot=True, fmt='d', cmap='Blues')\n",
    "plt.ylabel('Actual')\n",
    "plt.xlabel('Predicted')\n",
    "plt.title('Confusion Matrix')\n",
    "plt.show()"
   ]
  }
 ],
 "metadata": {
  "kaggle": {
   "accelerator": "nvidiaTeslaT4",
   "dataSources": [
    {
     "datasetId": 5754676,
     "sourceId": 9534427,
     "sourceType": "datasetVersion"
    }
   ],
   "dockerImageVersionId": 30776,
   "isGpuEnabled": true,
   "isInternetEnabled": true,
   "language": "python",
   "sourceType": "notebook"
  },
  "kernelspec": {
   "display_name": "Python 3",
   "language": "python",
   "name": "python3"
  },
  "language_info": {
   "codemirror_mode": {
    "name": "ipython",
    "version": 3
   },
   "file_extension": ".py",
   "mimetype": "text/x-python",
   "name": "python",
   "nbconvert_exporter": "python",
   "pygments_lexer": "ipython3",
   "version": "3.10.14"
  },
  "papermill": {
   "default_parameters": {},
   "duration": 116.707563,
   "end_time": "2024-10-03T14:43:01.490771",
   "environment_variables": {},
   "exception": null,
   "input_path": "__notebook__.ipynb",
   "output_path": "__notebook__.ipynb",
   "parameters": {},
   "start_time": "2024-10-03T14:41:04.783208",
   "version": "2.6.0"
  }
 },
 "nbformat": 4,
 "nbformat_minor": 5
}
