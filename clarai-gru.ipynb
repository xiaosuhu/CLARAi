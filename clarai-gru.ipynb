{
 "cells": [
  {
   "cell_type": "code",
   "execution_count": 1,
   "id": "b76bf080",
   "metadata": {
    "execution": {
     "iopub.execute_input": "2024-09-25T15:44:08.691679Z",
     "iopub.status.busy": "2024-09-25T15:44:08.690929Z",
     "iopub.status.idle": "2024-09-25T15:44:15.326689Z",
     "shell.execute_reply": "2024-09-25T15:44:15.325849Z"
    },
    "papermill": {
     "duration": 6.644617,
     "end_time": "2024-09-25T15:44:15.328945",
     "exception": false,
     "start_time": "2024-09-25T15:44:08.684328",
     "status": "completed"
    },
    "tags": []
   },
   "outputs": [],
   "source": [
    "\n",
    "from sklearn.model_selection import train_test_split\n",
    "from sklearn.preprocessing import StandardScaler\n",
    "from sklearn.utils.class_weight import compute_class_weight\n",
    "from sklearn.metrics import confusion_matrix\n",
    "from sklearn.metrics import roc_curve, auc\n",
    "\n",
    "import torch\n",
    "import torch.nn as nn\n",
    "import torch.optim as optim\n",
    "import pandas as pd\n",
    "import numpy as np\n",
    "import matplotlib.pyplot as plt\n",
    "import seaborn as sns\n",
    "\n",
    "import glob"
   ]
  },
  {
   "cell_type": "code",
   "execution_count": 2,
   "id": "c01d0107",
   "metadata": {
    "execution": {
     "iopub.execute_input": "2024-09-25T15:44:15.340106Z",
     "iopub.status.busy": "2024-09-25T15:44:15.339711Z",
     "iopub.status.idle": "2024-09-25T15:44:15.426617Z",
     "shell.execute_reply": "2024-09-25T15:44:15.425712Z"
    },
    "papermill": {
     "duration": 0.094645,
     "end_time": "2024-09-25T15:44:15.428861",
     "exception": false,
     "start_time": "2024-09-25T15:44:15.334216",
     "status": "completed"
    },
    "tags": []
   },
   "outputs": [
    {
     "name": "stdout",
     "output_type": "stream",
     "text": [
      "cuda\n"
     ]
    }
   ],
   "source": [
    "# device = torch.device(\"mps\")\n",
    "device = torch.device(\"cuda\" if torch.cuda.is_available() else \"cpu\")\n",
    "print(device)"
   ]
  },
  {
   "cell_type": "code",
   "execution_count": 3,
   "id": "28cad48c",
   "metadata": {
    "execution": {
     "iopub.execute_input": "2024-09-25T15:44:15.440161Z",
     "iopub.status.busy": "2024-09-25T15:44:15.439545Z",
     "iopub.status.idle": "2024-09-25T15:44:15.446942Z",
     "shell.execute_reply": "2024-09-25T15:44:15.445960Z"
    },
    "papermill": {
     "duration": 0.015038,
     "end_time": "2024-09-25T15:44:15.448954",
     "exception": false,
     "start_time": "2024-09-25T15:44:15.433916",
     "status": "completed"
    },
    "tags": []
   },
   "outputs": [
    {
     "data": {
      "text/plain": [
       "'# Step 1: Get a list of all CSV file paths in the directory\\ndata_path = glob.glob(\"D:\\\\PythonProjs\\\\CLARAi\\\\Data\\\\*.csv\")  # Modify with your directory path\\nlabel_path = glob.glob(\"D:\\\\PythonProjs\\\\CLARAi\\\\Label\\\\*.csv\")\\n\\n# Step 2: Read each CSV file and store in a list of DataFrames\\ndatadfs = [pd.read_csv(file) for file in data_path]\\nlabeldfs = [pd.read_csv(file) for file in label_path]\\n\\n# Step 3: Concatenate all DataFrames into one\\nfinal_data_df = pd.concat(datadfs, ignore_index=True)\\nfinal_label_df = pd.concat(labeldfs, ignore_index=True)'"
      ]
     },
     "execution_count": 3,
     "metadata": {},
     "output_type": "execute_result"
    }
   ],
   "source": [
    "\"\"\"# Step 1: Get a list of all CSV file paths in the directory\n",
    "data_path = glob.glob(\"D:\\PythonProjs\\CLARAi\\Data\\*.csv\")  # Modify with your directory path\n",
    "label_path = glob.glob(\"D:\\PythonProjs\\CLARAi\\Label\\*.csv\")\n",
    "\n",
    "# Step 2: Read each CSV file and store in a list of DataFrames\n",
    "datadfs = [pd.read_csv(file) for file in data_path]\n",
    "labeldfs = [pd.read_csv(file) for file in label_path]\n",
    "\n",
    "# Step 3: Concatenate all DataFrames into one\n",
    "final_data_df = pd.concat(datadfs, ignore_index=True)\n",
    "final_label_df = pd.concat(labeldfs, ignore_index=True)\"\"\""
   ]
  },
  {
   "cell_type": "code",
   "execution_count": 4,
   "id": "d71e40e6",
   "metadata": {
    "execution": {
     "iopub.execute_input": "2024-09-25T15:44:15.459524Z",
     "iopub.status.busy": "2024-09-25T15:44:15.459244Z",
     "iopub.status.idle": "2024-09-25T15:44:15.467291Z",
     "shell.execute_reply": "2024-09-25T15:44:15.466448Z"
    },
    "papermill": {
     "duration": 0.015364,
     "end_time": "2024-09-25T15:44:15.469108",
     "exception": false,
     "start_time": "2024-09-25T15:44:15.453744",
     "status": "completed"
    },
    "tags": []
   },
   "outputs": [],
   "source": [
    "def data_gen(data_path, label_path):\n",
    "    final_data_df = pd.read_csv(data_path)\n",
    "    final_label_df = pd.read_csv(label_path)\n",
    "\n",
    "    train_labels_flat = final_label_df.values.flatten()\n",
    "    \n",
    "    # Compute class weights (inverse of class frequencies)\n",
    "    class_weights = compute_class_weight(class_weight='balanced', classes=np.unique(train_labels_flat), y=train_labels_flat)\n",
    "    class_weights = torch.tensor(class_weights, dtype=torch.float32)\n",
    "\n",
    "    # Parameters\n",
    "    sequence_length = 256  # Length of each subsequence\n",
    "    num_subsequences = 100  # Number of subsequences to extract\n",
    "\n",
    "    # Get possible starting indices, ensuring there's enough space for a full subsequence\n",
    "    possible_starts = np.arange(0, len(final_data_df) - sequence_length + 1)\n",
    "    np.random.shuffle(possible_starts)\n",
    "\n",
    "    # Select the first `num_subsequences` starting indices\n",
    "    selected_starts = possible_starts[:num_subsequences]\n",
    "\n",
    "    # Create a list to hold the subsequences\n",
    "    subsequences = [final_data_df.iloc[start:start + sequence_length].values for start in selected_starts]\n",
    "    sublabels = [final_label_df.iloc[start:start + sequence_length].values for start in selected_starts]\n",
    "\n",
    "    # Convert subsequences list to a NumPy array\n",
    "    subsequences_array = np.array(subsequences)\n",
    "    sublabels_array = np.array(sublabels)\n",
    "\n",
    "    # subsequences_array will have shape (num_subsequences, sequence_length, num_channels)\n",
    "    # print(subsequences_array.shape)  # Should print (100, 100, 36)\n",
    "    # print(sublabels_array.shape)\n",
    "\n",
    "    return torch.from_numpy(subsequences_array), torch.from_numpy(sublabels_array), class_weights\n"
   ]
  },
  {
   "cell_type": "code",
   "execution_count": 5,
   "id": "43ebbeba",
   "metadata": {
    "execution": {
     "iopub.execute_input": "2024-09-25T15:44:15.479697Z",
     "iopub.status.busy": "2024-09-25T15:44:15.479413Z",
     "iopub.status.idle": "2024-09-25T15:44:15.486555Z",
     "shell.execute_reply": "2024-09-25T15:44:15.485706Z"
    },
    "papermill": {
     "duration": 0.014706,
     "end_time": "2024-09-25T15:44:15.488514",
     "exception": false,
     "start_time": "2024-09-25T15:44:15.473808",
     "status": "completed"
    },
    "tags": []
   },
   "outputs": [],
   "source": [
    "\n",
    "# Sample time series data with shape (batch_size, sequence_length, num_features)\n",
    "# neuroimaging_data: Time series data from multiple neuroimaging channels\n",
    "# labels: Binary labels (0 = no pain, 1 = pain) for each time step\n",
    "# Assume neuroimaging_data is a numpy array of shape (num_samples, sequence_length, num_channels)\n",
    "# labels is a numpy array of shape (num_samples, sequence_length)\n",
    "\n",
    "class GRUClassifier(nn.Module):\n",
    "    def __init__(self, input_size, hidden_size, output_size, num_layers=1):\n",
    "        super(GRUClassifier, self).__init__()\n",
    "        self.hidden_size = hidden_size\n",
    "        self.num_layers = num_layers\n",
    "        self.gru = nn.GRU(input_size, hidden_size, num_layers, batch_first=True)\n",
    "        self.fc = nn.Linear(hidden_size, output_size)\n",
    "        self.sigmoid = nn.Sigmoid()\n",
    "\n",
    "    def forward(self, x):\n",
    "        h0 = torch.zeros(self.num_layers, x.size(0), self.hidden_size).to(x.device)  # Initialize hidden state\n",
    "        out, _ = self.gru(x, h0)\n",
    "        out = self.fc(out)  # Apply linear layer to the GRU output\n",
    "        return self.sigmoid(out)  # Apply sigmoid for binary classification (pain or no pain)\n"
   ]
  },
  {
   "cell_type": "code",
   "execution_count": 6,
   "id": "79d6f644",
   "metadata": {
    "execution": {
     "iopub.execute_input": "2024-09-25T15:44:15.498918Z",
     "iopub.status.busy": "2024-09-25T15:44:15.498634Z",
     "iopub.status.idle": "2024-09-25T15:44:15.517386Z",
     "shell.execute_reply": "2024-09-25T15:44:15.516741Z"
    },
    "papermill": {
     "duration": 0.026154,
     "end_time": "2024-09-25T15:44:15.519316",
     "exception": false,
     "start_time": "2024-09-25T15:44:15.493162",
     "status": "completed"
    },
    "tags": []
   },
   "outputs": [],
   "source": [
    "#data_path = glob.glob(\"D:\\PythonProjs\\CLARAi\\Data_norm\\*.csv\")  # Modify with your directory path\n",
    "#label_path = glob.glob(\"D:\\PythonProjs\\CLARAi\\Label\\*.csv\")\n",
    "\n",
    "# data_path = glob.glob(\"/home/frank/Documents/CLARAi/Data/*.csv\")  # Modify with your directory path\n",
    "# label_path = glob.glob(\"/home/frank/Documents/CLARAi/Label/*.csv\")\n",
    "\n",
    "# data_path = glob.glob(\"/Users/xiaosuhu/Documents/Python/CLARAi/Data/*.csv\")  # Modify with your directory path\n",
    "# label_path = glob.glob(\"/Users/xiaosuhu/Documents/Python/CLARAi/Data/*.csv\")\n",
    "\n",
    "data_path = glob.glob(\"/kaggle/input/clarai/CLARAi/Data_norm/*.csv\")  # Modify with your directory path\n",
    "label_path = glob.glob(\"/kaggle/input/clarai/CLARAi/Label/*.csv\")\n",
    "\n",
    "# Sort the lists\n",
    "data_path = sorted(data_path)\n",
    "label_path = sorted(label_path)\n"
   ]
  },
  {
   "cell_type": "code",
   "execution_count": 7,
   "id": "921b2942",
   "metadata": {
    "execution": {
     "iopub.execute_input": "2024-09-25T15:44:15.529783Z",
     "iopub.status.busy": "2024-09-25T15:44:15.529519Z",
     "iopub.status.idle": "2024-09-25T15:44:15.558206Z",
     "shell.execute_reply": "2024-09-25T15:44:15.557539Z"
    },
    "papermill": {
     "duration": 0.036008,
     "end_time": "2024-09-25T15:44:15.560064",
     "exception": false,
     "start_time": "2024-09-25T15:44:15.524056",
     "status": "completed"
    },
    "tags": []
   },
   "outputs": [],
   "source": [
    "\n",
    "# data_path = \"D:\\PythonProjs\\CLARAi\\Data\\data1.csv\"\n",
    "# label_path = \"D:\\PythonProjs\\CLARAi\\Label\\label1.csv\"\n",
    "neuroimaging_data = torch.empty(0,256,36)\n",
    "labels = torch.empty(0,256,1)\n",
    "class_weights = torch.Tensor([0., 0.])"
   ]
  },
  {
   "cell_type": "code",
   "execution_count": 8,
   "id": "bc1650c6",
   "metadata": {
    "execution": {
     "iopub.execute_input": "2024-09-25T15:44:15.570568Z",
     "iopub.status.busy": "2024-09-25T15:44:15.570281Z",
     "iopub.status.idle": "2024-09-25T15:44:16.759733Z",
     "shell.execute_reply": "2024-09-25T15:44:16.758802Z"
    },
    "papermill": {
     "duration": 1.197391,
     "end_time": "2024-09-25T15:44:16.762175",
     "exception": false,
     "start_time": "2024-09-25T15:44:15.564784",
     "status": "completed"
    },
    "tags": []
   },
   "outputs": [
    {
     "name": "stdout",
     "output_type": "stream",
     "text": [
      "datapath: /kaggle/input/clarai/CLARAi/Data_norm/data1.csv\n",
      "labelpath: /kaggle/input/clarai/CLARAi/Label/label1.csv\n",
      "Data shape: torch.Size([100, 256, 36]), Label shape: torch.Size([100, 256, 1]), Weight shape: torch.Size([2])\n",
      "datapath: /kaggle/input/clarai/CLARAi/Data_norm/data10.csv\n",
      "labelpath: /kaggle/input/clarai/CLARAi/Label/label10.csv\n",
      "Data shape: torch.Size([100, 256, 36]), Label shape: torch.Size([100, 256, 1]), Weight shape: torch.Size([2])\n",
      "datapath: /kaggle/input/clarai/CLARAi/Data_norm/data11.csv\n",
      "labelpath: /kaggle/input/clarai/CLARAi/Label/label11.csv\n",
      "Data shape: torch.Size([100, 256, 36]), Label shape: torch.Size([100, 256, 1]), Weight shape: torch.Size([2])\n",
      "datapath: /kaggle/input/clarai/CLARAi/Data_norm/data12.csv\n",
      "labelpath: /kaggle/input/clarai/CLARAi/Label/label12.csv\n",
      "Data shape: torch.Size([100, 256, 36]), Label shape: torch.Size([100, 256, 1]), Weight shape: torch.Size([2])\n",
      "datapath: /kaggle/input/clarai/CLARAi/Data_norm/data13.csv\n",
      "labelpath: /kaggle/input/clarai/CLARAi/Label/label13.csv\n",
      "Data shape: torch.Size([100, 256, 36]), Label shape: torch.Size([100, 256, 1]), Weight shape: torch.Size([2])\n",
      "datapath: /kaggle/input/clarai/CLARAi/Data_norm/data16.csv\n",
      "labelpath: /kaggle/input/clarai/CLARAi/Label/label16.csv\n",
      "Data shape: torch.Size([100, 256, 36]), Label shape: torch.Size([100, 256, 1]), Weight shape: torch.Size([2])\n",
      "datapath: /kaggle/input/clarai/CLARAi/Data_norm/data17.csv\n",
      "labelpath: /kaggle/input/clarai/CLARAi/Label/label17.csv\n",
      "Data shape: torch.Size([100, 256, 36]), Label shape: torch.Size([100, 256, 1]), Weight shape: torch.Size([2])\n",
      "datapath: /kaggle/input/clarai/CLARAi/Data_norm/data18.csv\n",
      "labelpath: /kaggle/input/clarai/CLARAi/Label/label18.csv\n",
      "Data shape: torch.Size([100, 256, 36]), Label shape: torch.Size([100, 256, 1]), Weight shape: torch.Size([2])\n",
      "datapath: /kaggle/input/clarai/CLARAi/Data_norm/data3.csv\n",
      "labelpath: /kaggle/input/clarai/CLARAi/Label/label3.csv\n",
      "Data shape: torch.Size([100, 256, 36]), Label shape: torch.Size([100, 256, 1]), Weight shape: torch.Size([2])\n",
      "datapath: /kaggle/input/clarai/CLARAi/Data_norm/data4.csv\n",
      "labelpath: /kaggle/input/clarai/CLARAi/Label/label4.csv\n",
      "Data shape: torch.Size([100, 256, 36]), Label shape: torch.Size([100, 256, 1]), Weight shape: torch.Size([2])\n",
      "datapath: /kaggle/input/clarai/CLARAi/Data_norm/data5.csv\n",
      "labelpath: /kaggle/input/clarai/CLARAi/Label/label5.csv\n",
      "Data shape: torch.Size([100, 256, 36]), Label shape: torch.Size([100, 256, 1]), Weight shape: torch.Size([2])\n",
      "datapath: /kaggle/input/clarai/CLARAi/Data_norm/data6.csv\n",
      "labelpath: /kaggle/input/clarai/CLARAi/Label/label6.csv\n",
      "Data shape: torch.Size([100, 256, 36]), Label shape: torch.Size([100, 256, 1]), Weight shape: torch.Size([2])\n",
      "datapath: /kaggle/input/clarai/CLARAi/Data_norm/data7.csv\n",
      "labelpath: /kaggle/input/clarai/CLARAi/Label/label7.csv\n",
      "Data shape: torch.Size([100, 256, 36]), Label shape: torch.Size([100, 256, 1]), Weight shape: torch.Size([2])\n",
      "datapath: /kaggle/input/clarai/CLARAi/Data_norm/data8.csv\n",
      "labelpath: /kaggle/input/clarai/CLARAi/Label/label8.csv\n",
      "Data shape: torch.Size([100, 256, 36]), Label shape: torch.Size([100, 256, 1]), Weight shape: torch.Size([2])\n",
      "datapath: /kaggle/input/clarai/CLARAi/Data_norm/data9.csv\n",
      "labelpath: /kaggle/input/clarai/CLARAi/Label/label9.csv\n",
      "Data shape: torch.Size([100, 256, 36]), Label shape: torch.Size([100, 256, 1]), Weight shape: torch.Size([2])\n"
     ]
    }
   ],
   "source": [
    "\n",
    "for datapath, labelpath in zip(data_path, label_path):\n",
    "    print(f'datapath: {datapath}')\n",
    "    print(f'labelpath: {labelpath}')    \n",
    "    data, label, weight = data_gen(datapath, labelpath)\n",
    "    print(f'Data shape: {data.shape}, Label shape: {label.shape}, Weight shape: {weight.shape}')\n",
    "    neuroimaging_data= torch.cat([neuroimaging_data, data])\n",
    "    labels = torch.cat([labels, label])\n",
    "    class_weights += weight\n",
    "\n",
    "normalized_weights = class_weights / class_weights.sum()\n"
   ]
  },
  {
   "cell_type": "code",
   "execution_count": 9,
   "id": "57a5bf7c",
   "metadata": {
    "execution": {
     "iopub.execute_input": "2024-09-25T15:44:16.775776Z",
     "iopub.status.busy": "2024-09-25T15:44:16.775022Z",
     "iopub.status.idle": "2024-09-25T15:44:16.781471Z",
     "shell.execute_reply": "2024-09-25T15:44:16.780476Z"
    },
    "papermill": {
     "duration": 0.015236,
     "end_time": "2024-09-25T15:44:16.783359",
     "exception": false,
     "start_time": "2024-09-25T15:44:16.768123",
     "status": "completed"
    },
    "tags": []
   },
   "outputs": [
    {
     "data": {
      "text/plain": [
       "torch.Size([1500, 256, 36])"
      ]
     },
     "execution_count": 9,
     "metadata": {},
     "output_type": "execute_result"
    }
   ],
   "source": [
    "neuroimaging_data.shape"
   ]
  },
  {
   "cell_type": "code",
   "execution_count": 10,
   "id": "009e1f5f",
   "metadata": {
    "execution": {
     "iopub.execute_input": "2024-09-25T15:44:16.795929Z",
     "iopub.status.busy": "2024-09-25T15:44:16.795621Z",
     "iopub.status.idle": "2024-09-25T15:44:18.831496Z",
     "shell.execute_reply": "2024-09-25T15:44:18.830689Z"
    },
    "papermill": {
     "duration": 2.044814,
     "end_time": "2024-09-25T15:44:18.833816",
     "exception": false,
     "start_time": "2024-09-25T15:44:16.789002",
     "status": "completed"
    },
    "tags": []
   },
   "outputs": [
    {
     "name": "stderr",
     "output_type": "stream",
     "text": [
      "/tmp/ipykernel_24/587828579.py:17: UserWarning: To copy construct from a tensor, it is recommended to use sourceTensor.clone().detach() or sourceTensor.clone().detach().requires_grad_(True), rather than torch.tensor(sourceTensor).\n",
      "  train_labels, test_labels = torch.tensor(train_labels, dtype=torch.float32).to(device), torch.tensor(test_labels, dtype=torch.float32).to(device)\n"
     ]
    }
   ],
   "source": [
    "\n",
    "# Hyperparameters\n",
    "input_size = neuroimaging_data.shape[2]  # Number of features (channels)\n",
    "hidden_size = 256  # Hidden state size of the GRU\n",
    "output_size = 1  # Binary classification\n",
    "num_layers = 4  # Number of GRU layers\n",
    "learning_rate = 0.001\n",
    "num_epochs = 2000\n",
    "batch_size = 32\n",
    "\n",
    "# Preprocessing (e.g., normalization)\n",
    "scaler = StandardScaler()\n",
    "neuroimaging_data = scaler.fit_transform(neuroimaging_data.reshape(-1, input_size)).reshape(neuroimaging_data.shape)\n",
    "\n",
    "# Convert numpy arrays to PyTorch tensors\n",
    "train_data, test_data, train_labels, test_labels = train_test_split(neuroimaging_data, labels, test_size=0.2, random_state=42)\n",
    "train_data, test_data = torch.tensor(train_data, dtype=torch.float32).to(device), torch.tensor(test_data, dtype=torch.float32).to(device)\n",
    "train_labels, test_labels = torch.tensor(train_labels, dtype=torch.float32).to(device), torch.tensor(test_labels, dtype=torch.float32).to(device)\n",
    "\n",
    "\n",
    "# Create GRU model\n",
    "model = GRUClassifier(input_size, hidden_size, output_size, num_layers).to(device)\n",
    "\n",
    "# Loss and optimizer\n",
    "# criterion = nn.BCELoss()  # Binary Cross Entropy Loss for binary classification\n",
    "\n",
    "\n",
    "# Convert the class weights to a tensor and move to the appropriate device\n",
    "class_weights = class_weights.to(device)\n",
    "\n",
    "# Use BCEWithLogitsLoss, which combines sigmoid activation and binary cross-entropy loss\n",
    "criterion = nn.BCEWithLogitsLoss(pos_weight=normalized_weights[0])  # pos_weight applies only to class 1\n",
    "\n",
    "optimizer = optim.Adam(model.parameters(), lr=learning_rate)"
   ]
  },
  {
   "cell_type": "code",
   "execution_count": 11,
   "id": "cc958aaf",
   "metadata": {
    "execution": {
     "iopub.execute_input": "2024-09-25T15:44:18.847382Z",
     "iopub.status.busy": "2024-09-25T15:44:18.846733Z",
     "iopub.status.idle": "2024-09-25T16:16:53.998054Z",
     "shell.execute_reply": "2024-09-25T16:16:53.997039Z"
    },
    "papermill": {
     "duration": 1955.195564,
     "end_time": "2024-09-25T16:16:54.035452",
     "exception": false,
     "start_time": "2024-09-25T15:44:18.839888",
     "status": "completed"
    },
    "tags": []
   },
   "outputs": [
    {
     "name": "stdout",
     "output_type": "stream",
     "text": [
      "Epoch [5/2000], Loss: 0.5826\n",
      "Epoch [10/2000], Loss: 0.5665\n",
      "Epoch [15/2000], Loss: 0.5661\n",
      "Epoch [20/2000], Loss: 0.5660\n",
      "Epoch [25/2000], Loss: 0.5659\n",
      "Epoch [30/2000], Loss: 0.5658\n",
      "Epoch [35/2000], Loss: 0.5658\n",
      "Epoch [40/2000], Loss: 0.5659\n",
      "Epoch [45/2000], Loss: 0.5657\n",
      "Epoch [50/2000], Loss: 0.5657\n",
      "Epoch [55/2000], Loss: 0.5657\n",
      "Epoch [60/2000], Loss: 0.5657\n",
      "Epoch [65/2000], Loss: 0.5657\n",
      "Epoch [70/2000], Loss: 0.5657\n",
      "Epoch [75/2000], Loss: 0.5657\n",
      "Epoch [80/2000], Loss: 0.5657\n",
      "Epoch [85/2000], Loss: 0.5657\n",
      "Epoch [90/2000], Loss: 0.5657\n",
      "Epoch [95/2000], Loss: 0.5657\n",
      "Epoch [100/2000], Loss: 0.5657\n",
      "Epoch [105/2000], Loss: 0.5657\n",
      "Epoch [110/2000], Loss: 0.5657\n",
      "Epoch [115/2000], Loss: 0.5657\n",
      "Epoch [120/2000], Loss: 0.5657\n",
      "Epoch [125/2000], Loss: 0.5657\n",
      "Epoch [130/2000], Loss: 0.5657\n",
      "Epoch [135/2000], Loss: 0.5657\n",
      "Epoch [140/2000], Loss: 0.5657\n",
      "Epoch [145/2000], Loss: 0.5657\n",
      "Epoch [150/2000], Loss: 0.5657\n",
      "Epoch [155/2000], Loss: 0.5657\n",
      "Epoch [160/2000], Loss: 0.5657\n",
      "Epoch [165/2000], Loss: 0.5657\n",
      "Epoch [170/2000], Loss: 0.5657\n",
      "Epoch [175/2000], Loss: 0.5657\n",
      "Epoch [180/2000], Loss: 0.5657\n",
      "Epoch [185/2000], Loss: 0.5656\n",
      "Epoch [190/2000], Loss: 0.5656\n",
      "Epoch [195/2000], Loss: 0.5656\n",
      "Epoch [200/2000], Loss: 0.5656\n",
      "Epoch [205/2000], Loss: 0.5656\n",
      "Epoch [210/2000], Loss: 0.5656\n",
      "Epoch [215/2000], Loss: 0.5656\n",
      "Epoch [220/2000], Loss: 0.5656\n",
      "Epoch [225/2000], Loss: 0.5656\n",
      "Epoch [230/2000], Loss: 0.5656\n",
      "Epoch [235/2000], Loss: 0.5656\n",
      "Epoch [240/2000], Loss: 0.5656\n",
      "Epoch [245/2000], Loss: 0.5656\n",
      "Epoch [250/2000], Loss: 0.5656\n",
      "Epoch [255/2000], Loss: 0.5656\n",
      "Epoch [260/2000], Loss: 0.5656\n",
      "Epoch [265/2000], Loss: 0.5656\n",
      "Epoch [270/2000], Loss: 0.5656\n",
      "Epoch [275/2000], Loss: 0.5656\n",
      "Epoch [280/2000], Loss: 0.5656\n",
      "Epoch [285/2000], Loss: 0.5656\n",
      "Epoch [290/2000], Loss: 0.5656\n",
      "Epoch [295/2000], Loss: 0.5656\n",
      "Epoch [300/2000], Loss: 0.5656\n",
      "Epoch [305/2000], Loss: 0.5656\n",
      "Epoch [310/2000], Loss: 0.5656\n",
      "Epoch [315/2000], Loss: 0.5656\n",
      "Epoch [320/2000], Loss: 0.5656\n",
      "Epoch [325/2000], Loss: 0.5656\n",
      "Epoch [330/2000], Loss: 0.5656\n",
      "Epoch [335/2000], Loss: 0.5656\n",
      "Epoch [340/2000], Loss: 0.5656\n",
      "Epoch [345/2000], Loss: 0.5656\n",
      "Epoch [350/2000], Loss: 0.5656\n",
      "Epoch [355/2000], Loss: 0.5656\n",
      "Epoch [360/2000], Loss: 0.5656\n",
      "Epoch [365/2000], Loss: 0.5656\n",
      "Epoch [370/2000], Loss: 0.5656\n",
      "Epoch [375/2000], Loss: 0.5656\n",
      "Epoch [380/2000], Loss: 0.5656\n",
      "Epoch [385/2000], Loss: 0.5656\n",
      "Epoch [390/2000], Loss: 0.5656\n",
      "Epoch [395/2000], Loss: 0.5656\n",
      "Epoch [400/2000], Loss: 0.5656\n",
      "Epoch [405/2000], Loss: 0.5656\n",
      "Epoch [410/2000], Loss: 0.5656\n",
      "Epoch [415/2000], Loss: 0.5656\n",
      "Epoch [420/2000], Loss: 0.5656\n",
      "Epoch [425/2000], Loss: 0.5656\n",
      "Epoch [430/2000], Loss: 0.5656\n",
      "Epoch [435/2000], Loss: 0.5656\n",
      "Epoch [440/2000], Loss: 0.5656\n",
      "Epoch [445/2000], Loss: 0.5656\n",
      "Epoch [450/2000], Loss: 0.5656\n",
      "Epoch [455/2000], Loss: 0.5656\n",
      "Epoch [460/2000], Loss: 0.5656\n",
      "Epoch [465/2000], Loss: 0.5656\n",
      "Epoch [470/2000], Loss: 0.5656\n",
      "Epoch [475/2000], Loss: 0.5656\n",
      "Epoch [480/2000], Loss: 0.5656\n",
      "Epoch [485/2000], Loss: 0.5656\n",
      "Epoch [490/2000], Loss: 0.5656\n",
      "Epoch [495/2000], Loss: 0.5656\n",
      "Epoch [500/2000], Loss: 0.5656\n",
      "Epoch [505/2000], Loss: 0.5656\n",
      "Epoch [510/2000], Loss: 0.5656\n",
      "Epoch [515/2000], Loss: 0.5656\n",
      "Epoch [520/2000], Loss: 0.5656\n",
      "Epoch [525/2000], Loss: 0.5656\n",
      "Epoch [530/2000], Loss: 0.5656\n",
      "Epoch [535/2000], Loss: 0.5656\n",
      "Epoch [540/2000], Loss: 0.5656\n",
      "Epoch [545/2000], Loss: 0.5656\n",
      "Epoch [550/2000], Loss: 0.5656\n",
      "Epoch [555/2000], Loss: 0.5656\n",
      "Epoch [560/2000], Loss: 0.5656\n",
      "Epoch [565/2000], Loss: 0.5656\n",
      "Epoch [570/2000], Loss: 0.5656\n",
      "Epoch [575/2000], Loss: 0.5656\n",
      "Epoch [580/2000], Loss: 0.5656\n",
      "Epoch [585/2000], Loss: 0.5656\n",
      "Epoch [590/2000], Loss: 0.5656\n",
      "Epoch [595/2000], Loss: 0.5656\n",
      "Epoch [600/2000], Loss: 0.5656\n",
      "Epoch [605/2000], Loss: 0.5656\n",
      "Epoch [610/2000], Loss: 0.5656\n",
      "Epoch [615/2000], Loss: 0.5656\n",
      "Epoch [620/2000], Loss: 0.5656\n",
      "Epoch [625/2000], Loss: 0.5656\n",
      "Epoch [630/2000], Loss: 0.5656\n",
      "Epoch [635/2000], Loss: 0.5656\n",
      "Epoch [640/2000], Loss: 0.5656\n",
      "Epoch [645/2000], Loss: 0.5656\n",
      "Epoch [650/2000], Loss: 0.5656\n",
      "Epoch [655/2000], Loss: 0.5656\n",
      "Epoch [660/2000], Loss: 0.5656\n",
      "Epoch [665/2000], Loss: 0.5656\n",
      "Epoch [670/2000], Loss: 0.5656\n",
      "Epoch [675/2000], Loss: 0.5656\n",
      "Epoch [680/2000], Loss: 0.5656\n",
      "Epoch [685/2000], Loss: 0.5656\n",
      "Epoch [690/2000], Loss: 0.5656\n",
      "Epoch [695/2000], Loss: 0.5656\n",
      "Epoch [700/2000], Loss: 0.5656\n",
      "Epoch [705/2000], Loss: 0.5656\n",
      "Epoch [710/2000], Loss: 0.5656\n",
      "Epoch [715/2000], Loss: 0.5656\n",
      "Epoch [720/2000], Loss: 0.5656\n",
      "Epoch [725/2000], Loss: 0.5656\n",
      "Epoch [730/2000], Loss: 0.5656\n",
      "Epoch [735/2000], Loss: 0.5656\n",
      "Epoch [740/2000], Loss: 0.5656\n",
      "Epoch [745/2000], Loss: 0.5656\n",
      "Epoch [750/2000], Loss: 0.5656\n",
      "Epoch [755/2000], Loss: 0.5656\n",
      "Epoch [760/2000], Loss: 0.5656\n",
      "Epoch [765/2000], Loss: 0.5656\n",
      "Epoch [770/2000], Loss: 0.5656\n",
      "Epoch [775/2000], Loss: 0.5656\n",
      "Epoch [780/2000], Loss: 0.5656\n",
      "Epoch [785/2000], Loss: 0.5656\n",
      "Epoch [790/2000], Loss: 0.5656\n",
      "Epoch [795/2000], Loss: 0.5656\n",
      "Epoch [800/2000], Loss: 0.5656\n",
      "Epoch [805/2000], Loss: 0.5656\n",
      "Epoch [810/2000], Loss: 0.5656\n",
      "Epoch [815/2000], Loss: 0.5656\n",
      "Epoch [820/2000], Loss: 0.5656\n",
      "Epoch [825/2000], Loss: 0.5656\n",
      "Epoch [830/2000], Loss: 0.5656\n",
      "Epoch [835/2000], Loss: 0.5656\n",
      "Epoch [840/2000], Loss: 0.5656\n",
      "Epoch [845/2000], Loss: 0.5656\n",
      "Epoch [850/2000], Loss: 0.5656\n",
      "Epoch [855/2000], Loss: 0.5656\n",
      "Epoch [860/2000], Loss: 0.5656\n",
      "Epoch [865/2000], Loss: 0.5656\n",
      "Epoch [870/2000], Loss: 0.5656\n",
      "Epoch [875/2000], Loss: 0.5656\n",
      "Epoch [880/2000], Loss: 0.5656\n",
      "Epoch [885/2000], Loss: 0.5656\n",
      "Epoch [890/2000], Loss: 0.5656\n",
      "Epoch [895/2000], Loss: 0.5656\n",
      "Epoch [900/2000], Loss: 0.5656\n",
      "Epoch [905/2000], Loss: 0.5656\n",
      "Epoch [910/2000], Loss: 0.5656\n",
      "Epoch [915/2000], Loss: 0.5656\n",
      "Epoch [920/2000], Loss: 0.5656\n",
      "Epoch [925/2000], Loss: 0.5656\n",
      "Epoch [930/2000], Loss: 0.5656\n",
      "Epoch [935/2000], Loss: 0.5656\n",
      "Epoch [940/2000], Loss: 0.5656\n",
      "Epoch [945/2000], Loss: 0.5656\n",
      "Epoch [950/2000], Loss: 0.5656\n",
      "Epoch [955/2000], Loss: 0.5656\n",
      "Epoch [960/2000], Loss: 0.5656\n",
      "Epoch [965/2000], Loss: 0.5656\n",
      "Epoch [970/2000], Loss: 0.5656\n",
      "Epoch [975/2000], Loss: 0.5656\n",
      "Epoch [980/2000], Loss: 0.5656\n",
      "Epoch [985/2000], Loss: 0.5656\n",
      "Epoch [990/2000], Loss: 0.5656\n",
      "Epoch [995/2000], Loss: 0.5656\n",
      "Epoch [1000/2000], Loss: 0.5656\n",
      "Epoch [1005/2000], Loss: 0.5656\n",
      "Epoch [1010/2000], Loss: 0.5656\n",
      "Epoch [1015/2000], Loss: 0.5656\n",
      "Epoch [1020/2000], Loss: 0.5656\n",
      "Epoch [1025/2000], Loss: 0.5656\n",
      "Epoch [1030/2000], Loss: 0.5656\n",
      "Epoch [1035/2000], Loss: 0.5656\n",
      "Epoch [1040/2000], Loss: 0.5656\n",
      "Epoch [1045/2000], Loss: 0.5656\n",
      "Epoch [1050/2000], Loss: 0.5656\n",
      "Epoch [1055/2000], Loss: 0.5656\n",
      "Epoch [1060/2000], Loss: 0.5656\n",
      "Epoch [1065/2000], Loss: 0.5656\n",
      "Epoch [1070/2000], Loss: 0.5656\n",
      "Epoch [1075/2000], Loss: 0.5656\n",
      "Epoch [1080/2000], Loss: 0.5656\n",
      "Epoch [1085/2000], Loss: 0.5656\n",
      "Epoch [1090/2000], Loss: 0.5656\n",
      "Epoch [1095/2000], Loss: 0.5656\n",
      "Epoch [1100/2000], Loss: 0.5656\n",
      "Epoch [1105/2000], Loss: 0.5656\n",
      "Epoch [1110/2000], Loss: 0.5656\n",
      "Epoch [1115/2000], Loss: 0.5656\n",
      "Epoch [1120/2000], Loss: 0.5656\n",
      "Epoch [1125/2000], Loss: 0.5656\n",
      "Epoch [1130/2000], Loss: 0.5656\n",
      "Epoch [1135/2000], Loss: 0.5656\n",
      "Epoch [1140/2000], Loss: 0.5656\n",
      "Epoch [1145/2000], Loss: 0.5656\n",
      "Epoch [1150/2000], Loss: 0.5656\n",
      "Epoch [1155/2000], Loss: 0.5656\n",
      "Epoch [1160/2000], Loss: 0.5656\n",
      "Epoch [1165/2000], Loss: 0.5656\n",
      "Epoch [1170/2000], Loss: 0.5656\n",
      "Epoch [1175/2000], Loss: 0.5656\n",
      "Epoch [1180/2000], Loss: 0.5656\n",
      "Epoch [1185/2000], Loss: 0.5656\n",
      "Epoch [1190/2000], Loss: 0.5656\n",
      "Epoch [1195/2000], Loss: 0.5656\n",
      "Epoch [1200/2000], Loss: 0.5656\n",
      "Epoch [1205/2000], Loss: 0.5656\n",
      "Epoch [1210/2000], Loss: 0.5656\n",
      "Epoch [1215/2000], Loss: 0.5656\n",
      "Epoch [1220/2000], Loss: 0.5656\n",
      "Epoch [1225/2000], Loss: 0.5656\n",
      "Epoch [1230/2000], Loss: 0.5656\n",
      "Epoch [1235/2000], Loss: 0.5656\n",
      "Epoch [1240/2000], Loss: 0.5656\n",
      "Epoch [1245/2000], Loss: 0.5656\n",
      "Epoch [1250/2000], Loss: 0.5656\n",
      "Epoch [1255/2000], Loss: 0.5656\n",
      "Epoch [1260/2000], Loss: 0.5656\n",
      "Epoch [1265/2000], Loss: 0.5656\n",
      "Epoch [1270/2000], Loss: 0.5656\n",
      "Epoch [1275/2000], Loss: 0.5656\n",
      "Epoch [1280/2000], Loss: 0.5656\n",
      "Epoch [1285/2000], Loss: 0.5656\n",
      "Epoch [1290/2000], Loss: 0.5656\n",
      "Epoch [1295/2000], Loss: 0.5656\n",
      "Epoch [1300/2000], Loss: 0.5656\n",
      "Epoch [1305/2000], Loss: 0.5656\n",
      "Epoch [1310/2000], Loss: 0.5656\n",
      "Epoch [1315/2000], Loss: 0.5656\n",
      "Epoch [1320/2000], Loss: 0.5656\n",
      "Epoch [1325/2000], Loss: 0.5656\n",
      "Epoch [1330/2000], Loss: 0.5656\n",
      "Epoch [1335/2000], Loss: 0.5656\n",
      "Epoch [1340/2000], Loss: 0.5656\n",
      "Epoch [1345/2000], Loss: 0.5656\n",
      "Epoch [1350/2000], Loss: 0.5656\n",
      "Epoch [1355/2000], Loss: 0.5656\n",
      "Epoch [1360/2000], Loss: 0.5656\n",
      "Epoch [1365/2000], Loss: 0.5656\n",
      "Epoch [1370/2000], Loss: 0.5656\n",
      "Epoch [1375/2000], Loss: 0.5656\n",
      "Epoch [1380/2000], Loss: 0.5656\n",
      "Epoch [1385/2000], Loss: 0.5656\n",
      "Epoch [1390/2000], Loss: 0.5656\n",
      "Epoch [1395/2000], Loss: 0.5656\n",
      "Epoch [1400/2000], Loss: 0.5656\n",
      "Epoch [1405/2000], Loss: 0.5656\n",
      "Epoch [1410/2000], Loss: 0.5656\n",
      "Epoch [1415/2000], Loss: 0.5656\n",
      "Epoch [1420/2000], Loss: 0.5656\n",
      "Epoch [1425/2000], Loss: 0.5656\n",
      "Epoch [1430/2000], Loss: 0.5656\n",
      "Epoch [1435/2000], Loss: 0.5656\n",
      "Epoch [1440/2000], Loss: 0.5656\n",
      "Epoch [1445/2000], Loss: 0.5656\n",
      "Epoch [1450/2000], Loss: 0.5656\n",
      "Epoch [1455/2000], Loss: 0.5656\n",
      "Epoch [1460/2000], Loss: 0.5656\n",
      "Epoch [1465/2000], Loss: 0.5656\n",
      "Epoch [1470/2000], Loss: 0.5656\n",
      "Epoch [1475/2000], Loss: 0.5656\n",
      "Epoch [1480/2000], Loss: 0.5656\n",
      "Epoch [1485/2000], Loss: 0.5656\n",
      "Epoch [1490/2000], Loss: 0.5656\n",
      "Epoch [1495/2000], Loss: 0.5656\n",
      "Epoch [1500/2000], Loss: 0.5656\n",
      "Epoch [1505/2000], Loss: 0.5656\n",
      "Epoch [1510/2000], Loss: 0.5656\n",
      "Epoch [1515/2000], Loss: 0.5656\n",
      "Epoch [1520/2000], Loss: 0.5656\n",
      "Epoch [1525/2000], Loss: 0.5656\n",
      "Epoch [1530/2000], Loss: 0.5656\n",
      "Epoch [1535/2000], Loss: 0.5656\n",
      "Epoch [1540/2000], Loss: 0.5656\n",
      "Epoch [1545/2000], Loss: 0.5656\n",
      "Epoch [1550/2000], Loss: 0.5656\n",
      "Epoch [1555/2000], Loss: 0.5656\n",
      "Epoch [1560/2000], Loss: 0.5656\n",
      "Epoch [1565/2000], Loss: 0.5656\n",
      "Epoch [1570/2000], Loss: 0.5656\n",
      "Epoch [1575/2000], Loss: 0.5656\n",
      "Epoch [1580/2000], Loss: 0.5656\n",
      "Epoch [1585/2000], Loss: 0.5656\n",
      "Epoch [1590/2000], Loss: 0.5656\n",
      "Epoch [1595/2000], Loss: 0.5656\n",
      "Epoch [1600/2000], Loss: 0.5656\n",
      "Epoch [1605/2000], Loss: 0.5656\n",
      "Epoch [1610/2000], Loss: 0.5656\n",
      "Epoch [1615/2000], Loss: 0.5656\n",
      "Epoch [1620/2000], Loss: 0.5656\n",
      "Epoch [1625/2000], Loss: 0.5656\n",
      "Epoch [1630/2000], Loss: 0.5656\n",
      "Epoch [1635/2000], Loss: 0.5656\n",
      "Epoch [1640/2000], Loss: 0.5656\n",
      "Epoch [1645/2000], Loss: 0.5656\n",
      "Epoch [1650/2000], Loss: 0.5656\n",
      "Epoch [1655/2000], Loss: 0.5656\n",
      "Epoch [1660/2000], Loss: 0.5656\n",
      "Epoch [1665/2000], Loss: 0.5656\n",
      "Epoch [1670/2000], Loss: 0.5656\n",
      "Epoch [1675/2000], Loss: 0.5656\n",
      "Epoch [1680/2000], Loss: 0.5656\n",
      "Epoch [1685/2000], Loss: 0.5656\n",
      "Epoch [1690/2000], Loss: 0.5656\n",
      "Epoch [1695/2000], Loss: 0.5656\n",
      "Epoch [1700/2000], Loss: 0.5656\n",
      "Epoch [1705/2000], Loss: 0.5656\n",
      "Epoch [1710/2000], Loss: 0.5656\n",
      "Epoch [1715/2000], Loss: 0.5656\n",
      "Epoch [1720/2000], Loss: 0.5656\n",
      "Epoch [1725/2000], Loss: 0.5656\n",
      "Epoch [1730/2000], Loss: 0.5656\n",
      "Epoch [1735/2000], Loss: 0.5656\n",
      "Epoch [1740/2000], Loss: 0.5656\n",
      "Epoch [1745/2000], Loss: 0.5656\n",
      "Epoch [1750/2000], Loss: 0.5656\n",
      "Epoch [1755/2000], Loss: 0.5656\n",
      "Epoch [1760/2000], Loss: 0.5656\n",
      "Epoch [1765/2000], Loss: 0.5656\n",
      "Epoch [1770/2000], Loss: 0.5656\n",
      "Epoch [1775/2000], Loss: 0.5656\n",
      "Epoch [1780/2000], Loss: 0.5656\n",
      "Epoch [1785/2000], Loss: 0.5656\n",
      "Epoch [1790/2000], Loss: 0.5656\n",
      "Epoch [1795/2000], Loss: 0.5656\n",
      "Epoch [1800/2000], Loss: 0.5656\n",
      "Epoch [1805/2000], Loss: 0.5656\n",
      "Epoch [1810/2000], Loss: 0.5656\n",
      "Epoch [1815/2000], Loss: 0.5656\n",
      "Epoch [1820/2000], Loss: 0.5656\n",
      "Epoch [1825/2000], Loss: 0.5656\n",
      "Epoch [1830/2000], Loss: 0.5656\n",
      "Epoch [1835/2000], Loss: 0.5656\n",
      "Epoch [1840/2000], Loss: 0.5656\n",
      "Epoch [1845/2000], Loss: 0.5656\n",
      "Epoch [1850/2000], Loss: 0.5656\n",
      "Epoch [1855/2000], Loss: 0.5656\n",
      "Epoch [1860/2000], Loss: 0.5656\n",
      "Epoch [1865/2000], Loss: 0.5656\n",
      "Epoch [1870/2000], Loss: 0.5656\n",
      "Epoch [1875/2000], Loss: 0.5656\n",
      "Epoch [1880/2000], Loss: 0.5656\n",
      "Epoch [1885/2000], Loss: 0.5656\n",
      "Epoch [1890/2000], Loss: 0.5656\n",
      "Epoch [1895/2000], Loss: 0.5656\n",
      "Epoch [1900/2000], Loss: 0.5656\n",
      "Epoch [1905/2000], Loss: 0.5656\n",
      "Epoch [1910/2000], Loss: 0.5656\n",
      "Epoch [1915/2000], Loss: 0.5656\n",
      "Epoch [1920/2000], Loss: 0.5656\n",
      "Epoch [1925/2000], Loss: 0.5656\n",
      "Epoch [1930/2000], Loss: 0.5656\n",
      "Epoch [1935/2000], Loss: 0.5656\n",
      "Epoch [1940/2000], Loss: 0.5656\n",
      "Epoch [1945/2000], Loss: 0.5656\n",
      "Epoch [1950/2000], Loss: 0.5656\n",
      "Epoch [1955/2000], Loss: 0.5656\n",
      "Epoch [1960/2000], Loss: 0.5656\n",
      "Epoch [1965/2000], Loss: 0.5656\n",
      "Epoch [1970/2000], Loss: 0.5656\n",
      "Epoch [1975/2000], Loss: 0.5656\n",
      "Epoch [1980/2000], Loss: 0.5656\n",
      "Epoch [1985/2000], Loss: 0.5656\n",
      "Epoch [1990/2000], Loss: 0.5656\n",
      "Epoch [1995/2000], Loss: 0.5656\n",
      "Epoch [2000/2000], Loss: 0.5656\n"
     ]
    }
   ],
   "source": [
    "# Training loop\n",
    "for epoch in range(num_epochs):\n",
    "    model.train()\n",
    "    optimizer.zero_grad()\n",
    "    \n",
    "    # Forward pass\n",
    "    outputs = model(train_data)\n",
    "    loss = criterion(outputs, train_labels)\n",
    "    \n",
    "    # Backward pass and optimization\n",
    "    loss.backward()\n",
    "    optimizer.step()\n",
    "\n",
    "    if (epoch+1) % 5 == 0:\n",
    "        print(f'Epoch [{epoch+1}/{num_epochs}], Loss: {loss.item():.4f}')\n"
   ]
  },
  {
   "cell_type": "code",
   "execution_count": 12,
   "id": "7031e560",
   "metadata": {
    "execution": {
     "iopub.execute_input": "2024-09-25T16:16:54.107239Z",
     "iopub.status.busy": "2024-09-25T16:16:54.106668Z",
     "iopub.status.idle": "2024-09-25T16:16:54.596672Z",
     "shell.execute_reply": "2024-09-25T16:16:54.595725Z"
    },
    "papermill": {
     "duration": 0.528241,
     "end_time": "2024-09-25T16:16:54.598709",
     "exception": false,
     "start_time": "2024-09-25T16:16:54.070468",
     "status": "completed"
    },
    "tags": []
   },
   "outputs": [
    {
     "name": "stdout",
     "output_type": "stream",
     "text": [
      "Accuracy: 76.49%\n",
      "Confusion Matrix:\n",
      "[[58747     0]\n",
      " [18053     0]]\n"
     ]
    },
    {
     "data": {
      "image/png": "[encoded data removed]",
      "text/plain": [
       "<Figure size 600x400 with 2 Axes>"
      ]
     },
     "metadata": {},
     "output_type": "display_data"
    }
   ],
   "source": [
    "\n",
    "model.eval()\n",
    "with torch.no_grad():\n",
    "    test_outputs = model(test_data)\n",
    "    predicted = (test_outputs > 0.5).float()  # Threshold at 0.5 for binary classification\n",
    "    \n",
    "    # Calculate accuracy\n",
    "    accuracy = (predicted == test_labels).float().mean()\n",
    "    print(f'Accuracy: {accuracy.item() * 100:.2f}%')\n",
    "\n",
    "    # Flatten the predicted and test labels for confusion matrix calculation\n",
    "    predicted_flat = predicted.cpu().numpy().flatten()\n",
    "    test_labels_flat = test_labels.cpu().numpy().flatten()\n",
    "\n",
    "    # Generate the confusion matrix\n",
    "    cm = confusion_matrix(test_labels_flat, predicted_flat)\n",
    "    print(f'Confusion Matrix:\\n{cm}')\n",
    "\n",
    "    # Optional: plot the confusion matrix for visualization\n",
    "    plt.figure(figsize=(6,4))\n",
    "    sns.heatmap(cm, annot=True, fmt=\"d\", cmap=\"Blues\", xticklabels=['No Pain', 'Pain'], yticklabels=['No Pain', 'Pain'])\n",
    "    plt.ylabel('True Label')\n",
    "    plt.xlabel('Predicted Label')\n",
    "    plt.title('Confusion Matrix')\n",
    "    plt.show()\n"
   ]
  },
  {
   "cell_type": "code",
   "execution_count": 13,
   "id": "21f8c935",
   "metadata": {
    "execution": {
     "iopub.execute_input": "2024-09-25T16:16:54.671841Z",
     "iopub.status.busy": "2024-09-25T16:16:54.671095Z",
     "iopub.status.idle": "2024-09-25T16:16:54.679196Z",
     "shell.execute_reply": "2024-09-25T16:16:54.678381Z"
    },
    "papermill": {
     "duration": 0.046493,
     "end_time": "2024-09-25T16:16:54.681114",
     "exception": false,
     "start_time": "2024-09-25T16:16:54.634621",
     "status": "completed"
    },
    "tags": []
   },
   "outputs": [],
   "source": [
    "def plot_roc_auc(model, test_data, test_labels):\n",
    "    model.eval()\n",
    "    with torch.no_grad():\n",
    "        # Get the raw logits (before applying sigmoid)\n",
    "        test_outputs = model(test_data)\n",
    "        \n",
    "        # Convert test_labels and test_outputs to NumPy arrays for sklearn\n",
    "        test_labels_flat = test_labels.cpu().numpy().flatten()\n",
    "        test_outputs_flat = test_outputs.cpu().numpy().flatten()\n",
    "\n",
    "        # Calculate the false positive rate, true positive rate, and thresholds for the ROC curve\n",
    "        fpr, tpr, thresholds = roc_curve(test_labels_flat, test_outputs_flat)\n",
    "        \n",
    "        # Calculate the AUC score\n",
    "        roc_auc = auc(fpr, tpr)\n",
    "        \n",
    "        # Plot ROC curve\n",
    "        plt.figure(figsize=(8,6))\n",
    "        plt.plot(fpr, tpr, color='blue', label=f'ROC Curve (AUC = {roc_auc:.2f})')\n",
    "        plt.plot([0, 1], [0, 1], color='grey', linestyle='--')  # Random classifier line\n",
    "        plt.xlim([0.0, 1.0])\n",
    "        plt.ylim([0.0, 1.05])\n",
    "        plt.xlabel('False Positive Rate (FPR)')\n",
    "        plt.ylabel('True Positive Rate (TPR)')\n",
    "        plt.title('Receiver Operating Characteristic (ROC)')\n",
    "        plt.legend(loc='lower right')\n",
    "        plt.show()\n",
    "\n",
    "    return roc_auc"
   ]
  },
  {
   "cell_type": "code",
   "execution_count": 14,
   "id": "b5d7ea8b",
   "metadata": {
    "execution": {
     "iopub.execute_input": "2024-09-25T16:16:54.755010Z",
     "iopub.status.busy": "2024-09-25T16:16:54.754731Z",
     "iopub.status.idle": "2024-09-25T16:16:55.103480Z",
     "shell.execute_reply": "2024-09-25T16:16:55.102617Z"
    },
    "papermill": {
     "duration": 0.389023,
     "end_time": "2024-09-25T16:16:55.106270",
     "exception": false,
     "start_time": "2024-09-25T16:16:54.717247",
     "status": "completed"
    },
    "tags": []
   },
   "outputs": [
    {
     "data": {
      "image/png": "[encoded data removed]",
      "text/plain": [
       "<Figure size 800x600 with 1 Axes>"
      ]
     },
     "metadata": {},
     "output_type": "display_data"
    },
    {
     "data": {
      "text/plain": [
       "0.5062372374509977"
      ]
     },
     "execution_count": 14,
     "metadata": {},
     "output_type": "execute_result"
    }
   ],
   "source": [
    "plot_roc_auc(model, test_data, test_labels)"
   ]
  },
  {
   "cell_type": "code",
   "execution_count": null,
   "id": "f8b0e668",
   "metadata": {
    "papermill": {
     "duration": 0.036344,
     "end_time": "2024-09-25T16:16:55.180528",
     "exception": false,
     "start_time": "2024-09-25T16:16:55.144184",
     "status": "completed"
    },
    "tags": []
   },
   "outputs": [],
   "source": []
  }
 ],
 "metadata": {
  "kaggle": {
   "accelerator": "nvidiaTeslaT4",
   "dataSources": [
    {
     "datasetId": 5754676,
     "sourceId": 9480039,
     "sourceType": "datasetVersion"
    }
   ],
   "dockerImageVersionId": 30762,
   "isGpuEnabled": true,
   "isInternetEnabled": true,
   "language": "python",
   "sourceType": "notebook"
  },
  "kernelspec": {
   "display_name": "Python 3",
   "language": "python",
   "name": "python3"
  },
  "language_info": {
   "codemirror_mode": {
    "name": "ipython",
    "version": 3
   },
   "file_extension": ".py",
   "mimetype": "text/x-python",
   "name": "python",
   "nbconvert_exporter": "python",
   "pygments_lexer": "ipython3",
   "version": "3.10.14"
  },
  "papermill": {
   "default_parameters": {},
   "duration": 1971.257339,
   "end_time": "2024-09-25T16:16:56.882933",
   "environment_variables": {},
   "exception": null,
   "input_path": "__notebook__.ipynb",
   "output_path": "__notebook__.ipynb",
   "parameters": {},
   "start_time": "2024-09-25T15:44:05.625594",
   "version": "2.6.0"
  }
 },
 "nbformat": 4,
 "nbformat_minor": 5
}
