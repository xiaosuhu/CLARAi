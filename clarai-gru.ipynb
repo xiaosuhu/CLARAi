{
 "cells": [
  {
   "cell_type": "code",
   "execution_count": 1,
   "id": "e6f60b86",
   "metadata": {
    "execution": {
     "iopub.execute_input": "2024-09-25T16:44:30.483030Z",
     "iopub.status.busy": "2024-09-25T16:44:30.482281Z",
     "iopub.status.idle": "2024-09-25T16:44:36.300096Z",
     "shell.execute_reply": "2024-09-25T16:44:36.299258Z"
    },
    "papermill": {
     "duration": 5.828312,
     "end_time": "2024-09-25T16:44:36.302738",
     "exception": false,
     "start_time": "2024-09-25T16:44:30.474426",
     "status": "completed"
    },
    "tags": []
   },
   "outputs": [],
   "source": [
    "\n",
    "from sklearn.model_selection import train_test_split\n",
    "from sklearn.preprocessing import StandardScaler\n",
    "from sklearn.utils.class_weight import compute_class_weight\n",
    "from sklearn.metrics import confusion_matrix\n",
    "from sklearn.metrics import roc_curve, auc\n",
    "\n",
    "import torch\n",
    "import torch.nn as nn\n",
    "import torch.optim as optim\n",
    "import pandas as pd\n",
    "import numpy as np\n",
    "import matplotlib.pyplot as plt\n",
    "import seaborn as sns\n",
    "\n",
    "import glob"
   ]
  },
  {
   "cell_type": "code",
   "execution_count": 2,
   "id": "07040c96",
   "metadata": {
    "execution": {
     "iopub.execute_input": "2024-09-25T16:44:36.314930Z",
     "iopub.status.busy": "2024-09-25T16:44:36.314459Z",
     "iopub.status.idle": "2024-09-25T16:44:36.397143Z",
     "shell.execute_reply": "2024-09-25T16:44:36.396069Z"
    },
    "papermill": {
     "duration": 0.090942,
     "end_time": "2024-09-25T16:44:36.399387",
     "exception": false,
     "start_time": "2024-09-25T16:44:36.308445",
     "status": "completed"
    },
    "tags": []
   },
   "outputs": [
    {
     "name": "stdout",
     "output_type": "stream",
     "text": [
      "cuda\n"
     ]
    }
   ],
   "source": [
    "# device = torch.device(\"mps\")\n",
    "device = torch.device(\"cuda\" if torch.cuda.is_available() else \"cpu\")\n",
    "print(device)"
   ]
  },
  {
   "cell_type": "code",
   "execution_count": 3,
   "id": "42669f85",
   "metadata": {
    "execution": {
     "iopub.execute_input": "2024-09-25T16:44:36.412377Z",
     "iopub.status.busy": "2024-09-25T16:44:36.412000Z",
     "iopub.status.idle": "2024-09-25T16:44:36.420103Z",
     "shell.execute_reply": "2024-09-25T16:44:36.419136Z"
    },
    "papermill": {
     "duration": 0.016837,
     "end_time": "2024-09-25T16:44:36.422203",
     "exception": false,
     "start_time": "2024-09-25T16:44:36.405366",
     "status": "completed"
    },
    "tags": []
   },
   "outputs": [
    {
     "data": {
      "text/plain": [
       "'# Step 1: Get a list of all CSV file paths in the directory\\ndata_path = glob.glob(\"D:\\\\PythonProjs\\\\CLARAi\\\\Data\\\\*.csv\")  # Modify with your directory path\\nlabel_path = glob.glob(\"D:\\\\PythonProjs\\\\CLARAi\\\\Label\\\\*.csv\")\\n\\n# Step 2: Read each CSV file and store in a list of DataFrames\\ndatadfs = [pd.read_csv(file) for file in data_path]\\nlabeldfs = [pd.read_csv(file) for file in label_path]\\n\\n# Step 3: Concatenate all DataFrames into one\\nfinal_data_df = pd.concat(datadfs, ignore_index=True)\\nfinal_label_df = pd.concat(labeldfs, ignore_index=True)'"
      ]
     },
     "execution_count": 3,
     "metadata": {},
     "output_type": "execute_result"
    }
   ],
   "source": [
    "\"\"\"# Step 1: Get a list of all CSV file paths in the directory\n",
    "data_path = glob.glob(\"D:\\PythonProjs\\CLARAi\\Data\\*.csv\")  # Modify with your directory path\n",
    "label_path = glob.glob(\"D:\\PythonProjs\\CLARAi\\Label\\*.csv\")\n",
    "\n",
    "# Step 2: Read each CSV file and store in a list of DataFrames\n",
    "datadfs = [pd.read_csv(file) for file in data_path]\n",
    "labeldfs = [pd.read_csv(file) for file in label_path]\n",
    "\n",
    "# Step 3: Concatenate all DataFrames into one\n",
    "final_data_df = pd.concat(datadfs, ignore_index=True)\n",
    "final_label_df = pd.concat(labeldfs, ignore_index=True)\"\"\""
   ]
  },
  {
   "cell_type": "code",
   "execution_count": 4,
   "id": "5a7b458f",
   "metadata": {
    "execution": {
     "iopub.execute_input": "2024-09-25T16:44:36.435367Z",
     "iopub.status.busy": "2024-09-25T16:44:36.434615Z",
     "iopub.status.idle": "2024-09-25T16:44:36.443973Z",
     "shell.execute_reply": "2024-09-25T16:44:36.443046Z"
    },
    "papermill": {
     "duration": 0.018156,
     "end_time": "2024-09-25T16:44:36.446049",
     "exception": false,
     "start_time": "2024-09-25T16:44:36.427893",
     "status": "completed"
    },
    "tags": []
   },
   "outputs": [],
   "source": [
    "def data_gen(data_path, label_path):\n",
    "    final_data_df = pd.read_csv(data_path)\n",
    "    final_label_df = pd.read_csv(label_path)\n",
    "\n",
    "    train_labels_flat = final_label_df.values.flatten()\n",
    "    \n",
    "    # Compute class weights (inverse of class frequencies)\n",
    "    class_weights = compute_class_weight(class_weight='balanced', classes=np.unique(train_labels_flat), y=train_labels_flat)\n",
    "    class_weights = torch.tensor(class_weights, dtype=torch.float32)\n",
    "\n",
    "    # Parameters\n",
    "    sequence_length = 256  # Length of each subsequence\n",
    "    num_subsequences = 100  # Number of subsequences to extract\n",
    "\n",
    "    # Get possible starting indices, ensuring there's enough space for a full subsequence\n",
    "    possible_starts = np.arange(0, len(final_data_df) - sequence_length + 1)\n",
    "    np.random.shuffle(possible_starts)\n",
    "\n",
    "    # Select the first `num_subsequences` starting indices\n",
    "    selected_starts = possible_starts[:num_subsequences]\n",
    "\n",
    "    # Create a list to hold the subsequences\n",
    "    subsequences = [final_data_df.iloc[start:start + sequence_length].values for start in selected_starts]\n",
    "    sublabels = [final_label_df.iloc[start:start + sequence_length].values for start in selected_starts]\n",
    "\n",
    "    # Convert subsequences list to a NumPy array\n",
    "    subsequences_array = np.array(subsequences)\n",
    "    sublabels_array = np.array(sublabels)\n",
    "\n",
    "    # subsequences_array will have shape (num_subsequences, sequence_length, num_channels)\n",
    "    # print(subsequences_array.shape)  # Should print (100, 100, 36)\n",
    "    # print(sublabels_array.shape)\n",
    "\n",
    "    return torch.from_numpy(subsequences_array), torch.from_numpy(sublabels_array), class_weights\n"
   ]
  },
  {
   "cell_type": "code",
   "execution_count": 5,
   "id": "93dd10cd",
   "metadata": {
    "execution": {
     "iopub.execute_input": "2024-09-25T16:44:36.458546Z",
     "iopub.status.busy": "2024-09-25T16:44:36.458167Z",
     "iopub.status.idle": "2024-09-25T16:44:36.466965Z",
     "shell.execute_reply": "2024-09-25T16:44:36.465984Z"
    },
    "papermill": {
     "duration": 0.017416,
     "end_time": "2024-09-25T16:44:36.469073",
     "exception": false,
     "start_time": "2024-09-25T16:44:36.451657",
     "status": "completed"
    },
    "tags": []
   },
   "outputs": [],
   "source": [
    "\n",
    "# Sample time series data with shape (batch_size, sequence_length, num_features)\n",
    "# neuroimaging_data: Time series data from multiple neuroimaging channels\n",
    "# labels: Binary labels (0 = no pain, 1 = pain) for each time step\n",
    "# Assume neuroimaging_data is a numpy array of shape (num_samples, sequence_length, num_channels)\n",
    "# labels is a numpy array of shape (num_samples, sequence_length)\n",
    "\n",
    "class GRUClassifier(nn.Module):\n",
    "    def __init__(self, input_size, hidden_size, output_size, num_layers=1):\n",
    "        super(GRUClassifier, self).__init__()\n",
    "        self.hidden_size = hidden_size\n",
    "        self.num_layers = num_layers\n",
    "        self.gru = nn.GRU(input_size, hidden_size, num_layers, batch_first=True)\n",
    "        self.fc = nn.Linear(hidden_size, output_size)\n",
    "        self.layer_norm = nn.LayerNorm(hidden_size)  # Add Layer Normalization\n",
    "        self.sigmoid = nn.Sigmoid()\n",
    "\n",
    "    def forward(self, x):\n",
    "        h0 = torch.zeros(self.num_layers, x.size(0), self.hidden_size).to(x.device)\n",
    "        out, _ = self.gru(x, h0)\n",
    "        out = self.layer_norm(out)  # Apply Layer Normalization\n",
    "        out = self.fc(out)\n",
    "        return self.sigmoid(out)\n"
   ]
  },
  {
   "cell_type": "code",
   "execution_count": 6,
   "id": "266e4c92",
   "metadata": {
    "execution": {
     "iopub.execute_input": "2024-09-25T16:44:36.481641Z",
     "iopub.status.busy": "2024-09-25T16:44:36.481299Z",
     "iopub.status.idle": "2024-09-25T16:44:36.502697Z",
     "shell.execute_reply": "2024-09-25T16:44:36.501861Z"
    },
    "papermill": {
     "duration": 0.030516,
     "end_time": "2024-09-25T16:44:36.505095",
     "exception": false,
     "start_time": "2024-09-25T16:44:36.474579",
     "status": "completed"
    },
    "tags": []
   },
   "outputs": [],
   "source": [
    "# data_path = glob.glob(\"D:\\PythonProjs\\CLARAi\\Data_norm\\*.csv\")  # Modify with your directory path\n",
    "# label_path = glob.glob(\"D:\\PythonProjs\\CLARAi\\Label\\*.csv\")\n",
    "\n",
    "# data_path = glob.glob(\"/home/frank/Documents/CLARAi/Data/*.csv\")  # Modify with your directory path\n",
    "# label_path = glob.glob(\"/home/frank/Documents/CLARAi/Label/*.csv\")\n",
    "\n",
    "# data_path = glob.glob(\"/Users/xiaosuhu/Documents/Python/CLARAi/Data/*.csv\")  # Modify with your directory path\n",
    "# label_path = glob.glob(\"/Users/xiaosuhu/Documents/Python/CLARAi/Data/*.csv\")\n",
    "\n",
    "data_path = glob.glob(\"/kaggle/input/clarai/CLARAi/Data_norm/*.csv\")  # Modify with your directory path\n",
    "label_path = glob.glob(\"/kaggle/input/clarai/CLARAi/Label/*.csv\")\n",
    "\n",
    "# Sort the lists\n",
    "data_path = sorted(data_path)\n",
    "label_path = sorted(label_path)\n"
   ]
  },
  {
   "cell_type": "code",
   "execution_count": 7,
   "id": "bc1c0e7c",
   "metadata": {
    "execution": {
     "iopub.execute_input": "2024-09-25T16:44:36.519401Z",
     "iopub.status.busy": "2024-09-25T16:44:36.519013Z",
     "iopub.status.idle": "2024-09-25T16:44:36.535540Z",
     "shell.execute_reply": "2024-09-25T16:44:36.534727Z"
    },
    "papermill": {
     "duration": 0.026747,
     "end_time": "2024-09-25T16:44:36.537696",
     "exception": false,
     "start_time": "2024-09-25T16:44:36.510949",
     "status": "completed"
    },
    "tags": []
   },
   "outputs": [],
   "source": [
    "\n",
    "# data_path = \"D:\\PythonProjs\\CLARAi\\Data\\data1.csv\"\n",
    "# label_path = \"D:\\PythonProjs\\CLARAi\\Label\\label1.csv\"\n",
    "neuroimaging_data = torch.empty(0,256,36)\n",
    "labels = torch.empty(0,256,1)\n",
    "class_weights = torch.Tensor([0., 0.])"
   ]
  },
  {
   "cell_type": "code",
   "execution_count": 8,
   "id": "308b1cf4",
   "metadata": {
    "execution": {
     "iopub.execute_input": "2024-09-25T16:44:36.550000Z",
     "iopub.status.busy": "2024-09-25T16:44:36.549678Z",
     "iopub.status.idle": "2024-09-25T16:44:37.663027Z",
     "shell.execute_reply": "2024-09-25T16:44:37.661963Z"
    },
    "papermill": {
     "duration": 1.122193,
     "end_time": "2024-09-25T16:44:37.665517",
     "exception": false,
     "start_time": "2024-09-25T16:44:36.543324",
     "status": "completed"
    },
    "tags": []
   },
   "outputs": [
    {
     "name": "stdout",
     "output_type": "stream",
     "text": [
      "datapath: /kaggle/input/clarai/CLARAi/Data_norm/data1.csv\n",
      "labelpath: /kaggle/input/clarai/CLARAi/Label/label1.csv\n",
      "Data shape: torch.Size([100, 256, 36]), Label shape: torch.Size([100, 256, 1]), Weight shape: torch.Size([2])\n",
      "datapath: /kaggle/input/clarai/CLARAi/Data_norm/data10.csv\n",
      "labelpath: /kaggle/input/clarai/CLARAi/Label/label10.csv\n",
      "Data shape: torch.Size([100, 256, 36]), Label shape: torch.Size([100, 256, 1]), Weight shape: torch.Size([2])\n",
      "datapath: /kaggle/input/clarai/CLARAi/Data_norm/data11.csv\n",
      "labelpath: /kaggle/input/clarai/CLARAi/Label/label11.csv\n",
      "Data shape: torch.Size([100, 256, 36]), Label shape: torch.Size([100, 256, 1]), Weight shape: torch.Size([2])\n",
      "datapath: /kaggle/input/clarai/CLARAi/Data_norm/data12.csv\n",
      "labelpath: /kaggle/input/clarai/CLARAi/Label/label12.csv\n",
      "Data shape: torch.Size([100, 256, 36]), Label shape: torch.Size([100, 256, 1]), Weight shape: torch.Size([2])\n",
      "datapath: /kaggle/input/clarai/CLARAi/Data_norm/data13.csv\n",
      "labelpath: /kaggle/input/clarai/CLARAi/Label/label13.csv\n",
      "Data shape: torch.Size([100, 256, 36]), Label shape: torch.Size([100, 256, 1]), Weight shape: torch.Size([2])\n",
      "datapath: /kaggle/input/clarai/CLARAi/Data_norm/data16.csv\n",
      "labelpath: /kaggle/input/clarai/CLARAi/Label/label16.csv\n",
      "Data shape: torch.Size([100, 256, 36]), Label shape: torch.Size([100, 256, 1]), Weight shape: torch.Size([2])\n",
      "datapath: /kaggle/input/clarai/CLARAi/Data_norm/data17.csv\n",
      "labelpath: /kaggle/input/clarai/CLARAi/Label/label17.csv\n",
      "Data shape: torch.Size([100, 256, 36]), Label shape: torch.Size([100, 256, 1]), Weight shape: torch.Size([2])\n",
      "datapath: /kaggle/input/clarai/CLARAi/Data_norm/data18.csv\n",
      "labelpath: /kaggle/input/clarai/CLARAi/Label/label18.csv\n",
      "Data shape: torch.Size([100, 256, 36]), Label shape: torch.Size([100, 256, 1]), Weight shape: torch.Size([2])\n",
      "datapath: /kaggle/input/clarai/CLARAi/Data_norm/data3.csv\n",
      "labelpath: /kaggle/input/clarai/CLARAi/Label/label3.csv\n",
      "Data shape: torch.Size([100, 256, 36]), Label shape: torch.Size([100, 256, 1]), Weight shape: torch.Size([2])\n",
      "datapath: /kaggle/input/clarai/CLARAi/Data_norm/data4.csv\n",
      "labelpath: /kaggle/input/clarai/CLARAi/Label/label4.csv\n",
      "Data shape: torch.Size([100, 256, 36]), Label shape: torch.Size([100, 256, 1]), Weight shape: torch.Size([2])\n",
      "datapath: /kaggle/input/clarai/CLARAi/Data_norm/data5.csv\n",
      "labelpath: /kaggle/input/clarai/CLARAi/Label/label5.csv\n",
      "Data shape: torch.Size([100, 256, 36]), Label shape: torch.Size([100, 256, 1]), Weight shape: torch.Size([2])\n",
      "datapath: /kaggle/input/clarai/CLARAi/Data_norm/data6.csv\n",
      "labelpath: /kaggle/input/clarai/CLARAi/Label/label6.csv\n",
      "Data shape: torch.Size([100, 256, 36]), Label shape: torch.Size([100, 256, 1]), Weight shape: torch.Size([2])\n",
      "datapath: /kaggle/input/clarai/CLARAi/Data_norm/data7.csv\n",
      "labelpath: /kaggle/input/clarai/CLARAi/Label/label7.csv\n",
      "Data shape: torch.Size([100, 256, 36]), Label shape: torch.Size([100, 256, 1]), Weight shape: torch.Size([2])\n",
      "datapath: /kaggle/input/clarai/CLARAi/Data_norm/data8.csv\n",
      "labelpath: /kaggle/input/clarai/CLARAi/Label/label8.csv\n",
      "Data shape: torch.Size([100, 256, 36]), Label shape: torch.Size([100, 256, 1]), Weight shape: torch.Size([2])\n",
      "datapath: /kaggle/input/clarai/CLARAi/Data_norm/data9.csv\n",
      "labelpath: /kaggle/input/clarai/CLARAi/Label/label9.csv\n",
      "Data shape: torch.Size([100, 256, 36]), Label shape: torch.Size([100, 256, 1]), Weight shape: torch.Size([2])\n"
     ]
    }
   ],
   "source": [
    "\n",
    "for datapath, labelpath in zip(data_path, label_path):\n",
    "    print(f'datapath: {datapath}')\n",
    "    print(f'labelpath: {labelpath}')    \n",
    "    data, label, weight = data_gen(datapath, labelpath)\n",
    "    print(f'Data shape: {data.shape}, Label shape: {label.shape}, Weight shape: {weight.shape}')\n",
    "    neuroimaging_data= torch.cat([neuroimaging_data, data])\n",
    "    labels = torch.cat([labels, label])\n",
    "    class_weights += weight\n",
    "\n",
    "normalized_weights = class_weights / class_weights.sum()\n"
   ]
  },
  {
   "cell_type": "code",
   "execution_count": 9,
   "id": "6b1c4ba7",
   "metadata": {
    "execution": {
     "iopub.execute_input": "2024-09-25T16:44:37.680438Z",
     "iopub.status.busy": "2024-09-25T16:44:37.679503Z",
     "iopub.status.idle": "2024-09-25T16:44:37.686390Z",
     "shell.execute_reply": "2024-09-25T16:44:37.685410Z"
    },
    "papermill": {
     "duration": 0.01688,
     "end_time": "2024-09-25T16:44:37.688754",
     "exception": false,
     "start_time": "2024-09-25T16:44:37.671874",
     "status": "completed"
    },
    "tags": []
   },
   "outputs": [
    {
     "data": {
      "text/plain": [
       "(torch.Size([1500, 256, 36]), torch.Size([1500, 256, 1]))"
      ]
     },
     "execution_count": 9,
     "metadata": {},
     "output_type": "execute_result"
    }
   ],
   "source": [
    "neuroimaging_data.shape, labels.shape"
   ]
  },
  {
   "cell_type": "code",
   "execution_count": 10,
   "id": "ca09082a",
   "metadata": {
    "execution": {
     "iopub.execute_input": "2024-09-25T16:44:37.706110Z",
     "iopub.status.busy": "2024-09-25T16:44:37.705169Z",
     "iopub.status.idle": "2024-09-25T16:44:37.724480Z",
     "shell.execute_reply": "2024-09-25T16:44:37.723038Z"
    },
    "papermill": {
     "duration": 0.029934,
     "end_time": "2024-09-25T16:44:37.726864",
     "exception": false,
     "start_time": "2024-09-25T16:44:37.696930",
     "status": "completed"
    },
    "tags": []
   },
   "outputs": [
    {
     "name": "stdout",
     "output_type": "stream",
     "text": [
      "Number of 0s: 293810Number of 1s: 90190 Ratio is 0.23486979166666666\n"
     ]
    }
   ],
   "source": [
    "# Count the number of 1s\n",
    "num_zeros = torch.sum(labels == 0).item()\n",
    "num_ones = torch.sum(labels == 1).item()\n",
    "\n",
    "print(f\"Number of 0s: {num_zeros}Number of 1s: {num_ones} Ratio is {num_ones/(num_ones + num_zeros)}\")"
   ]
  },
  {
   "cell_type": "code",
   "execution_count": 11,
   "id": "954eaba8",
   "metadata": {
    "execution": {
     "iopub.execute_input": "2024-09-25T16:44:37.742844Z",
     "iopub.status.busy": "2024-09-25T16:44:37.742481Z",
     "iopub.status.idle": "2024-09-25T16:44:39.447121Z",
     "shell.execute_reply": "2024-09-25T16:44:39.446196Z"
    },
    "papermill": {
     "duration": 1.715595,
     "end_time": "2024-09-25T16:44:39.449932",
     "exception": false,
     "start_time": "2024-09-25T16:44:37.734337",
     "status": "completed"
    },
    "tags": []
   },
   "outputs": [
    {
     "name": "stderr",
     "output_type": "stream",
     "text": [
      "/tmp/ipykernel_23/847471597.py:16: UserWarning: To copy construct from a tensor, it is recommended to use sourceTensor.clone().detach() or sourceTensor.clone().detach().requires_grad_(True), rather than torch.tensor(sourceTensor).\n",
      "  train_data, test_data = torch.tensor(train_data, dtype=torch.float32).to(device), torch.tensor(test_data, dtype=torch.float32).to(device)\n",
      "/tmp/ipykernel_23/847471597.py:17: UserWarning: To copy construct from a tensor, it is recommended to use sourceTensor.clone().detach() or sourceTensor.clone().detach().requires_grad_(True), rather than torch.tensor(sourceTensor).\n",
      "  train_labels, test_labels = torch.tensor(train_labels, dtype=torch.float32).to(device), torch.tensor(test_labels, dtype=torch.float32).to(device)\n"
     ]
    }
   ],
   "source": [
    "# Hyperparameters\n",
    "input_size = neuroimaging_data.shape[2]  # Number of features (channels)\n",
    "hidden_size = 256  # Hidden state size of the GRU\n",
    "output_size = 1  # Binary classification\n",
    "num_layers = 4  # Number of GRU layers\n",
    "learning_rate = 0.001\n",
    "num_epochs = 1000\n",
    "batch_size = 32\n",
    "\n",
    "# Preprocessing (e.g., normalization)\n",
    "# scaler = StandardScaler()\n",
    "# neuroimaging_data = scaler.fit_transform(neuroimaging_data.reshape(-1, input_size)).reshape(neuroimaging_data.shape)\n",
    "\n",
    "# Convert numpy arrays to PyTorch tensors\n",
    "train_data, test_data, train_labels, test_labels = train_test_split(neuroimaging_data, labels, test_size=0.2, random_state=42)\n",
    "train_data, test_data = torch.tensor(train_data, dtype=torch.float32).to(device), torch.tensor(test_data, dtype=torch.float32).to(device)\n",
    "train_labels, test_labels = torch.tensor(train_labels, dtype=torch.float32).to(device), torch.tensor(test_labels, dtype=torch.float32).to(device)\n",
    "\n",
    "\n",
    "# Create GRU model\n",
    "model = GRUClassifier(input_size, hidden_size, output_size, num_layers).to(device)\n",
    "\n",
    "# Loss and optimizer\n",
    "# criterion = nn.BCELoss()  # Binary Cross Entropy Loss for binary classification\n",
    "\n",
    "\n",
    "# Convert the class weights to a tensor and move to the appropriate device\n",
    "class_weights = class_weights.to(device)\n",
    "\n",
    "# Use BCEWithLogitsLoss, which combines sigmoid activation and binary cross-entropy loss\n",
    "criterion = nn.BCEWithLogitsLoss(pos_weight=normalized_weights[0])  # pos_weight applies only to class 1\n",
    "\n",
    "# optimizer = optim.Adam(model.parameters(), lr=learning_rate)\n",
    "optimizer = optim.Adam(model.parameters(), lr=learning_rate, weight_decay=1e-5)\n",
    "scheduler = torch.optim.lr_scheduler.ReduceLROnPlateau(optimizer, mode='min', factor=0.1, patience=20)"
   ]
  },
  {
   "cell_type": "code",
   "execution_count": 12,
   "id": "0182bd04",
   "metadata": {
    "execution": {
     "iopub.execute_input": "2024-09-25T16:44:39.466811Z",
     "iopub.status.busy": "2024-09-25T16:44:39.465703Z",
     "iopub.status.idle": "2024-09-25T17:01:45.219984Z",
     "shell.execute_reply": "2024-09-25T17:01:45.218584Z"
    },
    "papermill": {
     "duration": 1025.76511,
     "end_time": "2024-09-25T17:01:45.222579",
     "exception": false,
     "start_time": "2024-09-25T16:44:39.457469",
     "status": "completed"
    },
    "tags": []
   },
   "outputs": [
    {
     "name": "stdout",
     "output_type": "stream",
     "text": [
      "Epoch [5/1000], Loss: 0.5659\n",
      "Epoch [10/1000], Loss: 0.5656\n",
      "Epoch [15/1000], Loss: 0.5656\n",
      "Epoch [20/1000], Loss: 0.5655\n",
      "Epoch [25/1000], Loss: 0.5655\n",
      "Epoch [30/1000], Loss: 0.5655\n",
      "Epoch [35/1000], Loss: 0.5655\n",
      "Epoch [40/1000], Loss: 0.5655\n",
      "Epoch [45/1000], Loss: 0.5655\n",
      "Epoch [50/1000], Loss: 0.5655\n",
      "Epoch [55/1000], Loss: 0.5655\n",
      "Epoch [60/1000], Loss: 0.5655\n",
      "Epoch [65/1000], Loss: 0.5655\n",
      "Epoch [70/1000], Loss: 0.5655\n",
      "Epoch [75/1000], Loss: 0.5655\n",
      "Epoch [80/1000], Loss: 0.5655\n",
      "Epoch [85/1000], Loss: 0.5655\n",
      "Epoch [90/1000], Loss: 0.5655\n",
      "Epoch [95/1000], Loss: 0.5655\n",
      "Epoch [100/1000], Loss: 0.5655\n",
      "Epoch [105/1000], Loss: 0.5655\n",
      "Epoch [110/1000], Loss: 0.5655\n",
      "Epoch [115/1000], Loss: 0.5655\n",
      "Epoch [120/1000], Loss: 0.5655\n",
      "Epoch [125/1000], Loss: 0.5655\n",
      "Epoch [130/1000], Loss: 0.5655\n",
      "Epoch [135/1000], Loss: 0.5655\n",
      "Epoch [140/1000], Loss: 0.5655\n",
      "Epoch [145/1000], Loss: 0.5655\n",
      "Epoch [150/1000], Loss: 0.5655\n",
      "Epoch [155/1000], Loss: 0.5655\n",
      "Epoch [160/1000], Loss: 0.5655\n",
      "Epoch [165/1000], Loss: 0.5655\n",
      "Epoch [170/1000], Loss: 0.5655\n",
      "Epoch [175/1000], Loss: 0.5655\n",
      "Epoch [180/1000], Loss: 0.5655\n",
      "Epoch [185/1000], Loss: 0.5655\n",
      "Epoch [190/1000], Loss: 0.5655\n",
      "Epoch [195/1000], Loss: 0.5655\n",
      "Epoch [200/1000], Loss: 0.5655\n",
      "Epoch [205/1000], Loss: 0.5655\n",
      "Epoch [210/1000], Loss: 0.5655\n",
      "Epoch [215/1000], Loss: 0.5655\n",
      "Epoch [220/1000], Loss: 0.5655\n",
      "Epoch [225/1000], Loss: 0.5655\n",
      "Epoch [230/1000], Loss: 0.5655\n",
      "Epoch [235/1000], Loss: 0.5655\n",
      "Epoch [240/1000], Loss: 0.5655\n",
      "Epoch [245/1000], Loss: 0.5655\n",
      "Epoch [250/1000], Loss: 0.5655\n",
      "Epoch [255/1000], Loss: 0.5655\n",
      "Epoch [260/1000], Loss: 0.5655\n",
      "Epoch [265/1000], Loss: 0.5655\n",
      "Epoch [270/1000], Loss: 0.5655\n",
      "Epoch [275/1000], Loss: 0.5655\n",
      "Epoch [280/1000], Loss: 0.5655\n",
      "Epoch [285/1000], Loss: 0.5655\n",
      "Epoch [290/1000], Loss: 0.5655\n",
      "Epoch [295/1000], Loss: 0.5655\n",
      "Epoch [300/1000], Loss: 0.5655\n",
      "Epoch [305/1000], Loss: 0.5655\n",
      "Epoch [310/1000], Loss: 0.5655\n",
      "Epoch [315/1000], Loss: 0.5655\n",
      "Epoch [320/1000], Loss: 0.5655\n",
      "Epoch [325/1000], Loss: 0.5655\n",
      "Epoch [330/1000], Loss: 0.5655\n",
      "Epoch [335/1000], Loss: 0.5655\n",
      "Epoch [340/1000], Loss: 0.5655\n",
      "Epoch [345/1000], Loss: 0.5655\n",
      "Epoch [350/1000], Loss: 0.5655\n",
      "Epoch [355/1000], Loss: 0.5655\n",
      "Epoch [360/1000], Loss: 0.5655\n",
      "Epoch [365/1000], Loss: 0.5655\n",
      "Epoch [370/1000], Loss: 0.5655\n",
      "Epoch [375/1000], Loss: 0.5655\n",
      "Epoch [380/1000], Loss: 0.5655\n",
      "Epoch [385/1000], Loss: 0.5655\n",
      "Epoch [390/1000], Loss: 0.5655\n",
      "Epoch [395/1000], Loss: 0.5655\n",
      "Epoch [400/1000], Loss: 0.5655\n",
      "Epoch [405/1000], Loss: 0.5655\n",
      "Epoch [410/1000], Loss: 0.5655\n",
      "Epoch [415/1000], Loss: 0.5655\n",
      "Epoch [420/1000], Loss: 0.5655\n",
      "Epoch [425/1000], Loss: 0.5655\n",
      "Epoch [430/1000], Loss: 0.5655\n",
      "Epoch [435/1000], Loss: 0.5655\n",
      "Epoch [440/1000], Loss: 0.5655\n",
      "Epoch [445/1000], Loss: 0.5655\n",
      "Epoch [450/1000], Loss: 0.5655\n",
      "Epoch [455/1000], Loss: 0.5655\n",
      "Epoch [460/1000], Loss: 0.5655\n",
      "Epoch [465/1000], Loss: 0.5655\n",
      "Epoch [470/1000], Loss: 0.5655\n",
      "Epoch [475/1000], Loss: 0.5655\n",
      "Epoch [480/1000], Loss: 0.5655\n",
      "Epoch [485/1000], Loss: 0.5655\n",
      "Epoch [490/1000], Loss: 0.5655\n",
      "Epoch [495/1000], Loss: 0.5655\n",
      "Epoch [500/1000], Loss: 0.5655\n",
      "Epoch [505/1000], Loss: 0.5655\n",
      "Epoch [510/1000], Loss: 0.5655\n",
      "Epoch [515/1000], Loss: 0.5655\n",
      "Epoch [520/1000], Loss: 0.5655\n",
      "Epoch [525/1000], Loss: 0.5655\n",
      "Epoch [530/1000], Loss: 0.5655\n",
      "Epoch [535/1000], Loss: 0.5655\n",
      "Epoch [540/1000], Loss: 0.5655\n",
      "Epoch [545/1000], Loss: 0.5655\n",
      "Epoch [550/1000], Loss: 0.5655\n",
      "Epoch [555/1000], Loss: 0.5655\n",
      "Epoch [560/1000], Loss: 0.5655\n",
      "Epoch [565/1000], Loss: 0.5655\n",
      "Epoch [570/1000], Loss: 0.5655\n",
      "Epoch [575/1000], Loss: 0.5655\n",
      "Epoch [580/1000], Loss: 0.5655\n",
      "Epoch [585/1000], Loss: 0.5655\n",
      "Epoch [590/1000], Loss: 0.5655\n",
      "Epoch [595/1000], Loss: 0.5655\n",
      "Epoch [600/1000], Loss: 0.5655\n",
      "Epoch [605/1000], Loss: 0.5655\n",
      "Epoch [610/1000], Loss: 0.5655\n",
      "Epoch [615/1000], Loss: 0.5655\n",
      "Epoch [620/1000], Loss: 0.5655\n",
      "Epoch [625/1000], Loss: 0.5655\n",
      "Epoch [630/1000], Loss: 0.5655\n",
      "Epoch [635/1000], Loss: 0.5655\n",
      "Epoch [640/1000], Loss: 0.5655\n",
      "Epoch [645/1000], Loss: 0.5655\n",
      "Epoch [650/1000], Loss: 0.5655\n",
      "Epoch [655/1000], Loss: 0.5655\n",
      "Epoch [660/1000], Loss: 0.5655\n",
      "Epoch [665/1000], Loss: 0.5655\n",
      "Epoch [670/1000], Loss: 0.5655\n",
      "Epoch [675/1000], Loss: 0.5655\n",
      "Epoch [680/1000], Loss: 0.5655\n",
      "Epoch [685/1000], Loss: 0.5655\n",
      "Epoch [690/1000], Loss: 0.5655\n",
      "Epoch [695/1000], Loss: 0.5655\n",
      "Epoch [700/1000], Loss: 0.5655\n",
      "Epoch [705/1000], Loss: 0.5655\n",
      "Epoch [710/1000], Loss: 0.5655\n",
      "Epoch [715/1000], Loss: 0.5655\n",
      "Epoch [720/1000], Loss: 0.5655\n",
      "Epoch [725/1000], Loss: 0.5655\n",
      "Epoch [730/1000], Loss: 0.5655\n",
      "Epoch [735/1000], Loss: 0.5655\n",
      "Epoch [740/1000], Loss: 0.5655\n",
      "Epoch [745/1000], Loss: 0.5655\n",
      "Epoch [750/1000], Loss: 0.5655\n",
      "Epoch [755/1000], Loss: 0.5655\n",
      "Epoch [760/1000], Loss: 0.5655\n",
      "Epoch [765/1000], Loss: 0.5655\n",
      "Epoch [770/1000], Loss: 0.5655\n",
      "Epoch [775/1000], Loss: 0.5655\n",
      "Epoch [780/1000], Loss: 0.5655\n",
      "Epoch [785/1000], Loss: 0.5655\n",
      "Epoch [790/1000], Loss: 0.5655\n",
      "Epoch [795/1000], Loss: 0.5655\n",
      "Epoch [800/1000], Loss: 0.5655\n",
      "Epoch [805/1000], Loss: 0.5655\n",
      "Epoch [810/1000], Loss: 0.5655\n",
      "Epoch [815/1000], Loss: 0.5655\n",
      "Epoch [820/1000], Loss: 0.5655\n",
      "Epoch [825/1000], Loss: 0.5655\n",
      "Epoch [830/1000], Loss: 0.5655\n",
      "Epoch [835/1000], Loss: 0.5655\n",
      "Epoch [840/1000], Loss: 0.5655\n",
      "Epoch [845/1000], Loss: 0.5655\n",
      "Epoch [850/1000], Loss: 0.5655\n",
      "Epoch [855/1000], Loss: 0.5655\n",
      "Epoch [860/1000], Loss: 0.5655\n",
      "Epoch [865/1000], Loss: 0.5655\n",
      "Epoch [870/1000], Loss: 0.5655\n",
      "Epoch [875/1000], Loss: 0.5655\n",
      "Epoch [880/1000], Loss: 0.5655\n",
      "Epoch [885/1000], Loss: 0.5655\n",
      "Epoch [890/1000], Loss: 0.5655\n",
      "Epoch [895/1000], Loss: 0.5655\n",
      "Epoch [900/1000], Loss: 0.5655\n",
      "Epoch [905/1000], Loss: 0.5655\n",
      "Epoch [910/1000], Loss: 0.5655\n",
      "Epoch [915/1000], Loss: 0.5655\n",
      "Epoch [920/1000], Loss: 0.5655\n",
      "Epoch [925/1000], Loss: 0.5655\n",
      "Epoch [930/1000], Loss: 0.5655\n",
      "Epoch [935/1000], Loss: 0.5655\n",
      "Epoch [940/1000], Loss: 0.5655\n",
      "Epoch [945/1000], Loss: 0.5655\n",
      "Epoch [950/1000], Loss: 0.5655\n",
      "Epoch [955/1000], Loss: 0.5655\n",
      "Epoch [960/1000], Loss: 0.5655\n",
      "Epoch [965/1000], Loss: 0.5655\n",
      "Epoch [970/1000], Loss: 0.5655\n",
      "Epoch [975/1000], Loss: 0.5655\n",
      "Epoch [980/1000], Loss: 0.5655\n",
      "Epoch [985/1000], Loss: 0.5655\n",
      "Epoch [990/1000], Loss: 0.5655\n",
      "Epoch [995/1000], Loss: 0.5655\n",
      "Epoch [1000/1000], Loss: 0.5655\n"
     ]
    }
   ],
   "source": [
    "# Training loop\n",
    "for epoch in range(num_epochs):\n",
    "    model.train()\n",
    "    optimizer.zero_grad()\n",
    "    \n",
    "    # Forward pass\n",
    "    outputs = model(train_data)\n",
    "    loss = criterion(outputs, train_labels)\n",
    "    \n",
    "    # Backward pass and optimization\n",
    "    loss.backward()\n",
    "    \n",
    "    # Clip gradients to prevent exploding gradients\n",
    "    # torch.nn.utils.clip_grad_norm_(model.parameters(), max_norm=1.0)\n",
    "    \n",
    "    optimizer.step()\n",
    "    \n",
    "    # Update learning rate if loss plateaus\n",
    "    scheduler.step(loss)\n",
    "\n",
    "    if (epoch+1) % 5 == 0:\n",
    "        print(f'Epoch [{epoch+1}/{num_epochs}], Loss: {loss.item():.4f}')\n"
   ]
  },
  {
   "cell_type": "code",
   "execution_count": 13,
   "id": "07a76a05",
   "metadata": {
    "execution": {
     "iopub.execute_input": "2024-09-25T17:01:45.270049Z",
     "iopub.status.busy": "2024-09-25T17:01:45.269657Z",
     "iopub.status.idle": "2024-09-25T17:01:45.779176Z",
     "shell.execute_reply": "2024-09-25T17:01:45.778235Z"
    },
    "papermill": {
     "duration": 0.536467,
     "end_time": "2024-09-25T17:01:45.781795",
     "exception": false,
     "start_time": "2024-09-25T17:01:45.245328",
     "status": "completed"
    },
    "tags": []
   },
   "outputs": [
    {
     "name": "stdout",
     "output_type": "stream",
     "text": [
      "Accuracy: 76.57%\n",
      "Confusion Matrix:\n",
      "[[58807     0]\n",
      " [17993     0]]\n"
     ]
    },
    {
     "data": {
      "image/png": "[encoded data removed]",
      "text/plain": [
       "<Figure size 600x400 with 2 Axes>"
      ]
     },
     "metadata": {},
     "output_type": "display_data"
    }
   ],
   "source": [
    "\n",
    "model.eval()\n",
    "with torch.no_grad():\n",
    "    test_outputs = model(test_data)\n",
    "    predicted = (test_outputs > 0.5).float()  # Threshold at 0.5 for binary classification\n",
    "    \n",
    "    # Calculate accuracy\n",
    "    accuracy = (predicted == test_labels).float().mean()\n",
    "    print(f'Accuracy: {accuracy.item() * 100:.2f}%')\n",
    "\n",
    "    # Flatten the predicted and test labels for confusion matrix calculation\n",
    "    predicted_flat = predicted.cpu().numpy().flatten()\n",
    "    test_labels_flat = test_labels.cpu().numpy().flatten()\n",
    "\n",
    "    # Generate the confusion matrix\n",
    "    cm = confusion_matrix(test_labels_flat, predicted_flat)\n",
    "    print(f'Confusion Matrix:\\n{cm}')\n",
    "\n",
    "    # Optional: plot the confusion matrix for visualization\n",
    "    plt.figure(figsize=(6,4))\n",
    "    sns.heatmap(cm, annot=True, fmt=\"d\", cmap=\"Blues\", xticklabels=['No Pain', 'Pain'], yticklabels=['No Pain', 'Pain'])\n",
    "    plt.ylabel('True Label')\n",
    "    plt.xlabel('Predicted Label')\n",
    "    plt.title('Confusion Matrix')\n",
    "    plt.show()\n"
   ]
  },
  {
   "cell_type": "code",
   "execution_count": 14,
   "id": "895dc9b0",
   "metadata": {
    "execution": {
     "iopub.execute_input": "2024-09-25T17:01:45.831257Z",
     "iopub.status.busy": "2024-09-25T17:01:45.830803Z",
     "iopub.status.idle": "2024-09-25T17:01:45.841099Z",
     "shell.execute_reply": "2024-09-25T17:01:45.840265Z"
    },
    "papermill": {
     "duration": 0.037922,
     "end_time": "2024-09-25T17:01:45.843323",
     "exception": false,
     "start_time": "2024-09-25T17:01:45.805401",
     "status": "completed"
    },
    "tags": []
   },
   "outputs": [],
   "source": [
    "def plot_roc_auc(model, test_data, test_labels):\n",
    "    model.eval()\n",
    "    with torch.no_grad():\n",
    "        # Get the raw logits (before applying sigmoid)\n",
    "        test_outputs = model(test_data)\n",
    "        \n",
    "        # Convert test_labels and test_outputs to NumPy arrays for sklearn\n",
    "        test_labels_flat = test_labels.cpu().numpy().flatten()\n",
    "        test_outputs_flat = test_outputs.cpu().numpy().flatten()\n",
    "\n",
    "        # Calculate the false positive rate, true positive rate, and thresholds for the ROC curve\n",
    "        fpr, tpr, thresholds = roc_curve(test_labels_flat, test_outputs_flat)\n",
    "        \n",
    "        # Calculate the AUC score\n",
    "        roc_auc = auc(fpr, tpr)\n",
    "        \n",
    "        # Plot ROC curve\n",
    "        plt.figure(figsize=(8,6))\n",
    "        plt.plot(fpr, tpr, color='blue', label=f'ROC Curve (AUC = {roc_auc:.2f})')\n",
    "        plt.plot([0, 1], [0, 1], color='grey', linestyle='--')  # Random classifier line\n",
    "        plt.xlim([0.0, 1.0])\n",
    "        plt.ylim([0.0, 1.05])\n",
    "        plt.xlabel('False Positive Rate (FPR)')\n",
    "        plt.ylabel('True Positive Rate (TPR)')\n",
    "        plt.title('Receiver Operating Characteristic (ROC)')\n",
    "        plt.legend(loc='lower right')\n",
    "        plt.show()\n",
    "\n",
    "    return roc_auc"
   ]
  },
  {
   "cell_type": "code",
   "execution_count": 15,
   "id": "f48af1e9",
   "metadata": {
    "execution": {
     "iopub.execute_input": "2024-09-25T17:01:45.894797Z",
     "iopub.status.busy": "2024-09-25T17:01:45.893860Z",
     "iopub.status.idle": "2024-09-25T17:01:46.278475Z",
     "shell.execute_reply": "2024-09-25T17:01:46.277475Z"
    },
    "papermill": {
     "duration": 0.413,
     "end_time": "2024-09-25T17:01:46.281221",
     "exception": false,
     "start_time": "2024-09-25T17:01:45.868221",
     "status": "completed"
    },
    "tags": []
   },
   "outputs": [
    {
     "data": {
      "image/png": "[encoded data removed]",
      "text/plain": [
       "<Figure size 800x600 with 1 Axes>"
      ]
     },
     "metadata": {},
     "output_type": "display_data"
    },
    {
     "data": {
      "text/plain": [
       "0.5249098762105344"
      ]
     },
     "execution_count": 15,
     "metadata": {},
     "output_type": "execute_result"
    }
   ],
   "source": [
    "plot_roc_auc(model, test_data, test_labels)"
   ]
  },
  {
   "cell_type": "code",
   "execution_count": null,
   "id": "6071db79",
   "metadata": {
    "papermill": {
     "duration": 0.024624,
     "end_time": "2024-09-25T17:01:46.330748",
     "exception": false,
     "start_time": "2024-09-25T17:01:46.306124",
     "status": "completed"
    },
    "tags": []
   },
   "outputs": [],
   "source": []
  }
 ],
 "metadata": {
  "kaggle": {
   "accelerator": "nvidiaTeslaT4",
   "dataSources": [
    {
     "datasetId": 5754676,
     "sourceId": 9480039,
     "sourceType": "datasetVersion"
    }
   ],
   "dockerImageVersionId": 30762,
   "isGpuEnabled": true,
   "isInternetEnabled": true,
   "language": "python",
   "sourceType": "notebook"
  },
  "kernelspec": {
   "display_name": "Python 3",
   "language": "python",
   "name": "python3"
  },
  "language_info": {
   "codemirror_mode": {
    "name": "ipython",
    "version": 3
   },
   "file_extension": ".py",
   "mimetype": "text/x-python",
   "name": "python",
   "nbconvert_exporter": "python",
   "pygments_lexer": "ipython3",
   "version": "3.10.14"
  },
  "papermill": {
   "default_parameters": {},
   "duration": 1041.137453,
   "end_time": "2024-09-25T17:01:48.782497",
   "environment_variables": {},
   "exception": null,
   "input_path": "__notebook__.ipynb",
   "output_path": "__notebook__.ipynb",
   "parameters": {},
   "start_time": "2024-09-25T16:44:27.645044",
   "version": "2.6.0"
  }
 },
 "nbformat": 4,
 "nbformat_minor": 5
}
