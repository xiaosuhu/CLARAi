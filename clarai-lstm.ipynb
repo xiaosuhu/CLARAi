{
 "cells": [
  {
   "cell_type": "code",
   "execution_count": 1,
   "id": "b70a8b8b",
   "metadata": {
    "execution": {
     "iopub.execute_input": "2024-09-25T19:51:35.169020Z",
     "iopub.status.busy": "2024-09-25T19:51:35.168650Z",
     "iopub.status.idle": "2024-09-25T19:51:43.713382Z",
     "shell.execute_reply": "2024-09-25T19:51:43.712586Z"
    },
    "papermill": {
     "duration": 8.554157,
     "end_time": "2024-09-25T19:51:43.715774",
     "exception": false,
     "start_time": "2024-09-25T19:51:35.161617",
     "status": "completed"
    },
    "tags": []
   },
   "outputs": [],
   "source": [
    "\n",
    "from sklearn.model_selection import train_test_split\n",
    "from sklearn.preprocessing import StandardScaler\n",
    "from sklearn.utils.class_weight import compute_class_weight\n",
    "from sklearn.metrics import confusion_matrix\n",
    "from sklearn.metrics import roc_curve, auc\n",
    "\n",
    "import torch\n",
    "import torch.nn as nn\n",
    "import torch.optim as optim\n",
    "import pandas as pd\n",
    "import numpy as np\n",
    "import matplotlib.pyplot as plt\n",
    "import seaborn as sns\n",
    "\n",
    "import glob"
   ]
  },
  {
   "cell_type": "code",
   "execution_count": 2,
   "id": "2c71d9b6",
   "metadata": {
    "execution": {
     "iopub.execute_input": "2024-09-25T19:51:43.727369Z",
     "iopub.status.busy": "2024-09-25T19:51:43.726923Z",
     "iopub.status.idle": "2024-09-25T19:51:43.788965Z",
     "shell.execute_reply": "2024-09-25T19:51:43.787913Z"
    },
    "papermill": {
     "duration": 0.07004,
     "end_time": "2024-09-25T19:51:43.791021",
     "exception": false,
     "start_time": "2024-09-25T19:51:43.720981",
     "status": "completed"
    },
    "tags": []
   },
   "outputs": [
    {
     "name": "stdout",
     "output_type": "stream",
     "text": [
      "cuda\n"
     ]
    }
   ],
   "source": [
    "# device = torch.device(\"mps\")\n",
    "device = torch.device(\"cuda\" if torch.cuda.is_available() else \"cpu\")\n",
    "print(device)"
   ]
  },
  {
   "cell_type": "code",
   "execution_count": 3,
   "id": "1ed485b6",
   "metadata": {
    "execution": {
     "iopub.execute_input": "2024-09-25T19:51:43.802898Z",
     "iopub.status.busy": "2024-09-25T19:51:43.802138Z",
     "iopub.status.idle": "2024-09-25T19:51:43.809440Z",
     "shell.execute_reply": "2024-09-25T19:51:43.808656Z"
    },
    "papermill": {
     "duration": 0.015115,
     "end_time": "2024-09-25T19:51:43.811354",
     "exception": false,
     "start_time": "2024-09-25T19:51:43.796239",
     "status": "completed"
    },
    "tags": []
   },
   "outputs": [
    {
     "data": {
      "text/plain": [
       "'# Step 1: Get a list of all CSV file paths in the directory\\ndata_path = glob.glob(\"D:\\\\PythonProjs\\\\CLARAi\\\\Data\\\\*.csv\")  # Modify with your directory path\\nlabel_path = glob.glob(\"D:\\\\PythonProjs\\\\CLARAi\\\\Label\\\\*.csv\")\\n\\n# Step 2: Read each CSV file and store in a list of DataFrames\\ndatadfs = [pd.read_csv(file) for file in data_path]\\nlabeldfs = [pd.read_csv(file) for file in label_path]\\n\\n# Step 3: Concatenate all DataFrames into one\\nfinal_data_df = pd.concat(datadfs, ignore_index=True)\\nfinal_label_df = pd.concat(labeldfs, ignore_index=True)'"
      ]
     },
     "execution_count": 3,
     "metadata": {},
     "output_type": "execute_result"
    }
   ],
   "source": [
    "\"\"\"# Step 1: Get a list of all CSV file paths in the directory\n",
    "data_path = glob.glob(\"D:\\PythonProjs\\CLARAi\\Data\\*.csv\")  # Modify with your directory path\n",
    "label_path = glob.glob(\"D:\\PythonProjs\\CLARAi\\Label\\*.csv\")\n",
    "\n",
    "# Step 2: Read each CSV file and store in a list of DataFrames\n",
    "datadfs = [pd.read_csv(file) for file in data_path]\n",
    "labeldfs = [pd.read_csv(file) for file in label_path]\n",
    "\n",
    "# Step 3: Concatenate all DataFrames into one\n",
    "final_data_df = pd.concat(datadfs, ignore_index=True)\n",
    "final_label_df = pd.concat(labeldfs, ignore_index=True)\"\"\""
   ]
  },
  {
   "cell_type": "code",
   "execution_count": 4,
   "id": "a72bdcbe",
   "metadata": {
    "execution": {
     "iopub.execute_input": "2024-09-25T19:51:43.823004Z",
     "iopub.status.busy": "2024-09-25T19:51:43.822449Z",
     "iopub.status.idle": "2024-09-25T19:51:43.831017Z",
     "shell.execute_reply": "2024-09-25T19:51:43.830163Z"
    },
    "papermill": {
     "duration": 0.016469,
     "end_time": "2024-09-25T19:51:43.832858",
     "exception": false,
     "start_time": "2024-09-25T19:51:43.816389",
     "status": "completed"
    },
    "tags": []
   },
   "outputs": [],
   "source": [
    "def data_gen(data_path, label_path):\n",
    "    final_data_df = pd.read_csv(data_path)\n",
    "    final_label_df = pd.read_csv(label_path)\n",
    "\n",
    "    train_labels_flat = final_label_df.values.flatten()\n",
    "    \n",
    "    # Compute class weights (inverse of class frequencies)\n",
    "    class_weights = compute_class_weight(class_weight='balanced', classes=np.unique(train_labels_flat), y=train_labels_flat)\n",
    "    class_weights = torch.tensor(class_weights, dtype=torch.float32)\n",
    "\n",
    "    # Parameters\n",
    "    sequence_length = 256  # Length of each subsequence\n",
    "    num_subsequences = 100  # Number of subsequences to extract\n",
    "\n",
    "    # Get possible starting indices, ensuring there's enough space for a full subsequence\n",
    "    possible_starts = np.arange(0, len(final_data_df) - sequence_length + 1)\n",
    "    np.random.shuffle(possible_starts)\n",
    "\n",
    "    # Select the first `num_subsequences` starting indices\n",
    "    selected_starts = possible_starts[:num_subsequences]\n",
    "\n",
    "    # Create a list to hold the subsequences\n",
    "    subsequences = [final_data_df.iloc[start:start + sequence_length].values for start in selected_starts]\n",
    "    sublabels = [final_label_df.iloc[start:start + sequence_length].values for start in selected_starts]\n",
    "\n",
    "    # Convert subsequences list to a NumPy array\n",
    "    subsequences_array = np.array(subsequences)\n",
    "    sublabels_array = np.array(sublabels)\n",
    "\n",
    "    # subsequences_array will have shape (num_subsequences, sequence_length, num_channels)\n",
    "    # print(subsequences_array.shape)  # Should print (100, 100, 36)\n",
    "    # print(sublabels_array.shape)\n",
    "\n",
    "    return torch.from_numpy(subsequences_array), torch.from_numpy(sublabels_array), class_weights\n"
   ]
  },
  {
   "cell_type": "code",
   "execution_count": 5,
   "id": "d5b5c213",
   "metadata": {
    "execution": {
     "iopub.execute_input": "2024-09-25T19:51:43.844203Z",
     "iopub.status.busy": "2024-09-25T19:51:43.843923Z",
     "iopub.status.idle": "2024-09-25T19:51:43.854072Z",
     "shell.execute_reply": "2024-09-25T19:51:43.853359Z"
    },
    "papermill": {
     "duration": 0.017934,
     "end_time": "2024-09-25T19:51:43.855910",
     "exception": false,
     "start_time": "2024-09-25T19:51:43.837976",
     "status": "completed"
    },
    "tags": []
   },
   "outputs": [],
   "source": [
    "\n",
    "# Sample time series data with shape (batch_size, sequence_length, num_features)\n",
    "# neuroimaging_data: Time series data from multiple neuroimaging channels\n",
    "# labels: Binary labels (0 = no pain, 1 = pain) for each time step\n",
    "# Assume neuroimaging_data is a numpy array of shape (num_samples, sequence_length, num_channels)\n",
    "# labels is a numpy array of shape (num_samples, sequence_length)\n",
    "\n",
    "class LSTMClassifier(nn.Module):\n",
    "    def __init__(self, input_size, hidden_size, output_size, num_layers=1):\n",
    "        super(LSTMClassifier, self).__init__()\n",
    "        self.hidden_size = hidden_size\n",
    "        self.num_layers = num_layers\n",
    "        self.lstm = nn.LSTM(input_size, hidden_size, num_layers, batch_first=True)\n",
    "        self.fc = nn.Linear(hidden_size, output_size)\n",
    "        self.batch_norm = nn.BatchNorm1d(hidden_size)  # Correct Batch Normalization\n",
    "        self.sigmoid = nn.Sigmoid()\n",
    "\n",
    "    def forward(self, x):\n",
    "        # Initialize hidden state and cell state with zeros\n",
    "        h0 = torch.zeros(self.num_layers, x.size(0), self.hidden_size).to(x.device)\n",
    "        c0 = torch.zeros(self.num_layers, x.size(0), self.hidden_size).to(x.device)\n",
    "\n",
    "        # LSTM forward pass\n",
    "        out, _ = self.lstm(x, (h0, c0))\n",
    "        \n",
    "        # Apply batch normalization\n",
    "        # Permute to (batch_size, hidden_size, sequence_length) for batch norm\n",
    "        out = out.permute(0, 2, 1)\n",
    "        out = self.batch_norm(out)\n",
    "        \n",
    "        # Permute back to (batch_size, sequence_length, hidden_size)\n",
    "        out = out.permute(0, 2, 1)\n",
    "        \n",
    "        # Apply the linear layer to each time step\n",
    "        out = self.fc(out)\n",
    "        \n",
    "        return self.sigmoid(out)\n",
    "\n"
   ]
  },
  {
   "cell_type": "code",
   "execution_count": 6,
   "id": "756fa299",
   "metadata": {
    "execution": {
     "iopub.execute_input": "2024-09-25T19:51:43.867057Z",
     "iopub.status.busy": "2024-09-25T19:51:43.866782Z",
     "iopub.status.idle": "2024-09-25T19:51:43.884504Z",
     "shell.execute_reply": "2024-09-25T19:51:43.883864Z"
    },
    "papermill": {
     "duration": 0.025455,
     "end_time": "2024-09-25T19:51:43.886349",
     "exception": false,
     "start_time": "2024-09-25T19:51:43.860894",
     "status": "completed"
    },
    "tags": []
   },
   "outputs": [],
   "source": [
    "# data_path = glob.glob(\"D:\\PythonProjs\\CLARAi\\Data_norm\\*.csv\")  # Modify with your directory path\n",
    "# label_path = glob.glob(\"D:\\PythonProjs\\CLARAi\\Label\\*.csv\")\n",
    "\n",
    "# data_path = glob.glob(\"/home/frank/Documents/CLARAi/Data/*.csv\")  # Modify with your directory path\n",
    "# label_path = glob.glob(\"/home/frank/Documents/CLARAi/Label/*.csv\")\n",
    "\n",
    "# data_path = glob.glob(\"/Users/xiaosuhu/Documents/Python/CLARAi/Data/*.csv\")  # Modify with your directory path\n",
    "# label_path = glob.glob(\"/Users/xiaosuhu/Documents/Python/CLARAi/Data/*.csv\")\n",
    "\n",
    "data_path = glob.glob(\"/kaggle/input/clarai/CLARAi/Data_norm/*.csv\")  # Modify with your directory path\n",
    "label_path = glob.glob(\"/kaggle/input/clarai/CLARAi/Label/*.csv\")\n",
    "\n",
    "# Sort the lists\n",
    "data_path = sorted(data_path)\n",
    "label_path = sorted(label_path)\n"
   ]
  },
  {
   "cell_type": "code",
   "execution_count": 7,
   "id": "19263871",
   "metadata": {
    "execution": {
     "iopub.execute_input": "2024-09-25T19:51:43.897674Z",
     "iopub.status.busy": "2024-09-25T19:51:43.897375Z",
     "iopub.status.idle": "2024-09-25T19:51:43.924071Z",
     "shell.execute_reply": "2024-09-25T19:51:43.923364Z"
    },
    "papermill": {
     "duration": 0.034333,
     "end_time": "2024-09-25T19:51:43.925987",
     "exception": false,
     "start_time": "2024-09-25T19:51:43.891654",
     "status": "completed"
    },
    "tags": []
   },
   "outputs": [],
   "source": [
    "\n",
    "# data_path = \"D:\\PythonProjs\\CLARAi\\Data\\data1.csv\"\n",
    "# label_path = \"D:\\PythonProjs\\CLARAi\\Label\\label1.csv\"\n",
    "neuroimaging_data = torch.empty(0,256,36)\n",
    "labels = torch.empty(0,256,1)\n",
    "class_weights = torch.Tensor([0., 0.])"
   ]
  },
  {
   "cell_type": "code",
   "execution_count": 8,
   "id": "c008a2d8",
   "metadata": {
    "execution": {
     "iopub.execute_input": "2024-09-25T19:51:43.937508Z",
     "iopub.status.busy": "2024-09-25T19:51:43.936997Z",
     "iopub.status.idle": "2024-09-25T19:51:45.033220Z",
     "shell.execute_reply": "2024-09-25T19:51:45.032252Z"
    },
    "papermill": {
     "duration": 1.104194,
     "end_time": "2024-09-25T19:51:45.035365",
     "exception": false,
     "start_time": "2024-09-25T19:51:43.931171",
     "status": "completed"
    },
    "tags": []
   },
   "outputs": [
    {
     "name": "stdout",
     "output_type": "stream",
     "text": [
      "datapath: /kaggle/input/clarai/CLARAi/Data_norm/data1.csv\n",
      "labelpath: /kaggle/input/clarai/CLARAi/Label/label1.csv\n",
      "Data shape: torch.Size([100, 256, 36]), Label shape: torch.Size([100, 256, 1]), Weight shape: torch.Size([2])\n",
      "datapath: /kaggle/input/clarai/CLARAi/Data_norm/data10.csv\n",
      "labelpath: /kaggle/input/clarai/CLARAi/Label/label10.csv\n",
      "Data shape: torch.Size([100, 256, 36]), Label shape: torch.Size([100, 256, 1]), Weight shape: torch.Size([2])\n",
      "datapath: /kaggle/input/clarai/CLARAi/Data_norm/data11.csv\n",
      "labelpath: /kaggle/input/clarai/CLARAi/Label/label11.csv\n",
      "Data shape: torch.Size([100, 256, 36]), Label shape: torch.Size([100, 256, 1]), Weight shape: torch.Size([2])\n",
      "datapath: /kaggle/input/clarai/CLARAi/Data_norm/data12.csv\n",
      "labelpath: /kaggle/input/clarai/CLARAi/Label/label12.csv\n",
      "Data shape: torch.Size([100, 256, 36]), Label shape: torch.Size([100, 256, 1]), Weight shape: torch.Size([2])\n",
      "datapath: /kaggle/input/clarai/CLARAi/Data_norm/data13.csv\n",
      "labelpath: /kaggle/input/clarai/CLARAi/Label/label13.csv\n",
      "Data shape: torch.Size([100, 256, 36]), Label shape: torch.Size([100, 256, 1]), Weight shape: torch.Size([2])\n",
      "datapath: /kaggle/input/clarai/CLARAi/Data_norm/data16.csv\n",
      "labelpath: /kaggle/input/clarai/CLARAi/Label/label16.csv\n",
      "Data shape: torch.Size([100, 256, 36]), Label shape: torch.Size([100, 256, 1]), Weight shape: torch.Size([2])\n",
      "datapath: /kaggle/input/clarai/CLARAi/Data_norm/data17.csv\n",
      "labelpath: /kaggle/input/clarai/CLARAi/Label/label17.csv\n",
      "Data shape: torch.Size([100, 256, 36]), Label shape: torch.Size([100, 256, 1]), Weight shape: torch.Size([2])\n",
      "datapath: /kaggle/input/clarai/CLARAi/Data_norm/data18.csv\n",
      "labelpath: /kaggle/input/clarai/CLARAi/Label/label18.csv\n",
      "Data shape: torch.Size([100, 256, 36]), Label shape: torch.Size([100, 256, 1]), Weight shape: torch.Size([2])\n",
      "datapath: /kaggle/input/clarai/CLARAi/Data_norm/data3.csv\n",
      "labelpath: /kaggle/input/clarai/CLARAi/Label/label3.csv\n",
      "Data shape: torch.Size([100, 256, 36]), Label shape: torch.Size([100, 256, 1]), Weight shape: torch.Size([2])\n",
      "datapath: /kaggle/input/clarai/CLARAi/Data_norm/data4.csv\n",
      "labelpath: /kaggle/input/clarai/CLARAi/Label/label4.csv\n",
      "Data shape: torch.Size([100, 256, 36]), Label shape: torch.Size([100, 256, 1]), Weight shape: torch.Size([2])\n",
      "datapath: /kaggle/input/clarai/CLARAi/Data_norm/data5.csv\n",
      "labelpath: /kaggle/input/clarai/CLARAi/Label/label5.csv\n",
      "Data shape: torch.Size([100, 256, 36]), Label shape: torch.Size([100, 256, 1]), Weight shape: torch.Size([2])\n",
      "datapath: /kaggle/input/clarai/CLARAi/Data_norm/data6.csv\n",
      "labelpath: /kaggle/input/clarai/CLARAi/Label/label6.csv\n",
      "Data shape: torch.Size([100, 256, 36]), Label shape: torch.Size([100, 256, 1]), Weight shape: torch.Size([2])\n",
      "datapath: /kaggle/input/clarai/CLARAi/Data_norm/data7.csv\n",
      "labelpath: /kaggle/input/clarai/CLARAi/Label/label7.csv\n",
      "Data shape: torch.Size([100, 256, 36]), Label shape: torch.Size([100, 256, 1]), Weight shape: torch.Size([2])\n",
      "datapath: /kaggle/input/clarai/CLARAi/Data_norm/data8.csv\n",
      "labelpath: /kaggle/input/clarai/CLARAi/Label/label8.csv\n",
      "Data shape: torch.Size([100, 256, 36]), Label shape: torch.Size([100, 256, 1]), Weight shape: torch.Size([2])\n",
      "datapath: /kaggle/input/clarai/CLARAi/Data_norm/data9.csv\n",
      "labelpath: /kaggle/input/clarai/CLARAi/Label/label9.csv\n",
      "Data shape: torch.Size([100, 256, 36]), Label shape: torch.Size([100, 256, 1]), Weight shape: torch.Size([2])\n"
     ]
    }
   ],
   "source": [
    "\n",
    "for datapath, labelpath in zip(data_path, label_path):\n",
    "    print(f'datapath: {datapath}')\n",
    "    print(f'labelpath: {labelpath}')    \n",
    "    data, label, weight = data_gen(datapath, labelpath)\n",
    "    print(f'Data shape: {data.shape}, Label shape: {label.shape}, Weight shape: {weight.shape}')\n",
    "    neuroimaging_data= torch.cat([neuroimaging_data, data])\n",
    "    labels = torch.cat([labels, label])\n",
    "    class_weights += weight\n",
    "\n",
    "normalized_weights = class_weights / class_weights.sum()\n"
   ]
  },
  {
   "cell_type": "code",
   "execution_count": 9,
   "id": "a78ef71a",
   "metadata": {
    "execution": {
     "iopub.execute_input": "2024-09-25T19:51:45.049008Z",
     "iopub.status.busy": "2024-09-25T19:51:45.048666Z",
     "iopub.status.idle": "2024-09-25T19:51:45.055034Z",
     "shell.execute_reply": "2024-09-25T19:51:45.054151Z"
    },
    "papermill": {
     "duration": 0.015339,
     "end_time": "2024-09-25T19:51:45.056990",
     "exception": false,
     "start_time": "2024-09-25T19:51:45.041651",
     "status": "completed"
    },
    "tags": []
   },
   "outputs": [
    {
     "data": {
      "text/plain": [
       "(torch.Size([1500, 256, 36]), torch.Size([1500, 256, 1]))"
      ]
     },
     "execution_count": 9,
     "metadata": {},
     "output_type": "execute_result"
    }
   ],
   "source": [
    "neuroimaging_data.shape, labels.shape"
   ]
  },
  {
   "cell_type": "code",
   "execution_count": 10,
   "id": "18ac0c1c",
   "metadata": {
    "execution": {
     "iopub.execute_input": "2024-09-25T19:51:45.070768Z",
     "iopub.status.busy": "2024-09-25T19:51:45.070128Z",
     "iopub.status.idle": "2024-09-25T19:51:45.095260Z",
     "shell.execute_reply": "2024-09-25T19:51:45.094233Z"
    },
    "papermill": {
     "duration": 0.034333,
     "end_time": "2024-09-25T19:51:45.097366",
     "exception": false,
     "start_time": "2024-09-25T19:51:45.063033",
     "status": "completed"
    },
    "tags": []
   },
   "outputs": [
    {
     "name": "stdout",
     "output_type": "stream",
     "text": [
      "Number of 0s: 293471Number of 1s: 90529 Ratio is 0.23575260416666666\n"
     ]
    }
   ],
   "source": [
    "# Count the number of 1s\n",
    "num_zeros = torch.sum(labels == 0).item()\n",
    "num_ones = torch.sum(labels == 1).item()\n",
    "\n",
    "print(f\"Number of 0s: {num_zeros}Number of 1s: {num_ones} Ratio is {num_ones/(num_ones + num_zeros)}\")"
   ]
  },
  {
   "cell_type": "code",
   "execution_count": 11,
   "id": "9699a7fc",
   "metadata": {
    "execution": {
     "iopub.execute_input": "2024-09-25T19:51:45.111725Z",
     "iopub.status.busy": "2024-09-25T19:51:45.110934Z",
     "iopub.status.idle": "2024-09-25T19:51:47.480291Z",
     "shell.execute_reply": "2024-09-25T19:51:47.479506Z"
    },
    "papermill": {
     "duration": 2.378894,
     "end_time": "2024-09-25T19:51:47.482590",
     "exception": false,
     "start_time": "2024-09-25T19:51:45.103696",
     "status": "completed"
    },
    "tags": []
   },
   "outputs": [
    {
     "name": "stderr",
     "output_type": "stream",
     "text": [
      "/tmp/ipykernel_24/1108429606.py:16: UserWarning: To copy construct from a tensor, it is recommended to use sourceTensor.clone().detach() or sourceTensor.clone().detach().requires_grad_(True), rather than torch.tensor(sourceTensor).\n",
      "  train_data, test_data = torch.tensor(train_data, dtype=torch.float32).to(device), torch.tensor(test_data, dtype=torch.float32).to(device)\n",
      "/tmp/ipykernel_24/1108429606.py:17: UserWarning: To copy construct from a tensor, it is recommended to use sourceTensor.clone().detach() or sourceTensor.clone().detach().requires_grad_(True), rather than torch.tensor(sourceTensor).\n",
      "  train_labels, test_labels = torch.tensor(train_labels, dtype=torch.float32).to(device), torch.tensor(test_labels, dtype=torch.float32).to(device)\n"
     ]
    }
   ],
   "source": [
    "# Hyperparameters\n",
    "input_size = neuroimaging_data.shape[2]  # Number of features (channels)\n",
    "hidden_size = 256  # Hidden state size of the GRU\n",
    "output_size = 1  # Binary classification\n",
    "num_layers = 5  # Number of GRU layers\n",
    "learning_rate = 0.001\n",
    "num_epochs = 500\n",
    "batch_size = 64\n",
    "\n",
    "# Preprocessing (e.g., normalization)\n",
    "# scaler = StandardScaler()\n",
    "# neuroimaging_data = scaler.fit_transform(neuroimaging_data.reshape(-1, input_size)).reshape(neuroimaging_data.shape)\n",
    "\n",
    "# Convert numpy arrays to PyTorch tensors\n",
    "train_data, test_data, train_labels, test_labels = train_test_split(neuroimaging_data, labels, test_size=0.2, random_state=42)\n",
    "train_data, test_data = torch.tensor(train_data, dtype=torch.float32).to(device), torch.tensor(test_data, dtype=torch.float32).to(device)\n",
    "train_labels, test_labels = torch.tensor(train_labels, dtype=torch.float32).to(device), torch.tensor(test_labels, dtype=torch.float32).to(device)\n",
    "\n",
    "\n",
    "# Create GRU model\n",
    "model = LSTMClassifier(input_size, hidden_size, output_size, num_layers).to(device)\n",
    "\n",
    "# Loss and optimizer\n",
    "# criterion = nn.BCELoss()  # Binary Cross Entropy Loss for binary classification\n",
    "\n",
    "\n",
    "# Convert the class weights to a tensor and move to the appropriate device\n",
    "class_weights = class_weights.to(device)\n",
    "\n",
    "# Use BCEWithLogitsLoss, which combines sigmoid activation and binary cross-entropy loss\n",
    "criterion = nn.BCEWithLogitsLoss(pos_weight=normalized_weights[0])  # pos_weight applies only to class 1\n",
    "\n",
    "# optimizer = optim.Adam(model.parameters(), lr=learning_rate)\n",
    "optimizer = optim.Adam(model.parameters(), lr=learning_rate, weight_decay=1e-5)\n",
    "scheduler = torch.optim.lr_scheduler.ReduceLROnPlateau(optimizer, mode='min', factor=0.1, patience=20)"
   ]
  },
  {
   "cell_type": "code",
   "execution_count": 12,
   "id": "f6635fef",
   "metadata": {
    "execution": {
     "iopub.execute_input": "2024-09-25T19:51:47.497055Z",
     "iopub.status.busy": "2024-09-25T19:51:47.496570Z",
     "iopub.status.idle": "2024-09-25T19:59:18.329822Z",
     "shell.execute_reply": "2024-09-25T19:59:18.328796Z"
    },
    "papermill": {
     "duration": 450.843124,
     "end_time": "2024-09-25T19:59:18.332254",
     "exception": false,
     "start_time": "2024-09-25T19:51:47.489130",
     "status": "completed"
    },
    "tags": []
   },
   "outputs": [
    {
     "name": "stdout",
     "output_type": "stream",
     "text": [
      "Epoch [5/500], Train Loss: 0.6627, Val Loss: 0.6021\n",
      "Epoch [10/500], Train Loss: 0.6381, Val Loss: 0.5720\n",
      "Epoch [15/500], Train Loss: 0.6247, Val Loss: 0.5775\n",
      "Epoch [20/500], Train Loss: 0.6136, Val Loss: 0.5842\n",
      "Epoch [25/500], Train Loss: 0.6055, Val Loss: 0.5843\n",
      "Epoch [30/500], Train Loss: 0.6015, Val Loss: 0.5852\n",
      "Epoch [35/500], Train Loss: 0.6011, Val Loss: 0.5864\n",
      "Epoch [40/500], Train Loss: 0.6008, Val Loss: 0.5879\n",
      "Epoch [45/500], Train Loss: 0.6005, Val Loss: 0.5898\n",
      "Epoch [50/500], Train Loss: 0.6002, Val Loss: 0.5917\n",
      "Epoch [55/500], Train Loss: 0.6001, Val Loss: 0.5937\n",
      "Epoch [60/500], Train Loss: 0.6001, Val Loss: 0.5953\n",
      "Epoch [65/500], Train Loss: 0.6001, Val Loss: 0.5963\n",
      "Epoch [70/500], Train Loss: 0.6000, Val Loss: 0.5969\n",
      "Epoch [75/500], Train Loss: 0.6000, Val Loss: 0.5974\n",
      "Epoch [80/500], Train Loss: 0.6000, Val Loss: 0.5976\n",
      "Epoch [85/500], Train Loss: 0.6000, Val Loss: 0.5977\n",
      "Epoch [90/500], Train Loss: 0.6000, Val Loss: 0.5978\n",
      "Epoch [95/500], Train Loss: 0.6000, Val Loss: 0.5978\n",
      "Epoch [100/500], Train Loss: 0.6000, Val Loss: 0.5979\n",
      "Epoch [105/500], Train Loss: 0.6000, Val Loss: 0.5979\n",
      "Epoch [110/500], Train Loss: 0.6000, Val Loss: 0.5979\n",
      "Epoch [115/500], Train Loss: 0.6000, Val Loss: 0.5979\n",
      "Epoch [120/500], Train Loss: 0.6000, Val Loss: 0.5979\n",
      "Epoch [125/500], Train Loss: 0.6000, Val Loss: 0.5979\n",
      "Epoch [130/500], Train Loss: 0.6000, Val Loss: 0.5979\n",
      "Epoch [135/500], Train Loss: 0.6000, Val Loss: 0.5979\n",
      "Epoch [140/500], Train Loss: 0.6000, Val Loss: 0.5979\n",
      "Epoch [145/500], Train Loss: 0.6000, Val Loss: 0.5979\n",
      "Epoch [150/500], Train Loss: 0.6000, Val Loss: 0.5979\n",
      "Epoch [155/500], Train Loss: 0.6000, Val Loss: 0.5979\n",
      "Epoch [160/500], Train Loss: 0.6000, Val Loss: 0.5979\n",
      "Epoch [165/500], Train Loss: 0.6000, Val Loss: 0.5979\n",
      "Epoch [170/500], Train Loss: 0.6000, Val Loss: 0.5979\n",
      "Epoch [175/500], Train Loss: 0.6000, Val Loss: 0.5979\n",
      "Epoch [180/500], Train Loss: 0.6000, Val Loss: 0.5979\n",
      "Epoch [185/500], Train Loss: 0.6000, Val Loss: 0.5979\n",
      "Epoch [190/500], Train Loss: 0.6000, Val Loss: 0.5979\n",
      "Epoch [195/500], Train Loss: 0.6000, Val Loss: 0.5979\n",
      "Epoch [200/500], Train Loss: 0.6000, Val Loss: 0.5979\n",
      "Epoch [205/500], Train Loss: 0.6000, Val Loss: 0.5979\n",
      "Epoch [210/500], Train Loss: 0.6000, Val Loss: 0.5979\n",
      "Epoch [215/500], Train Loss: 0.6000, Val Loss: 0.5979\n",
      "Epoch [220/500], Train Loss: 0.6000, Val Loss: 0.5979\n",
      "Epoch [225/500], Train Loss: 0.6000, Val Loss: 0.5979\n",
      "Epoch [230/500], Train Loss: 0.6000, Val Loss: 0.5979\n",
      "Epoch [235/500], Train Loss: 0.6000, Val Loss: 0.5979\n",
      "Epoch [240/500], Train Loss: 0.6000, Val Loss: 0.5979\n",
      "Epoch [245/500], Train Loss: 0.6000, Val Loss: 0.5979\n",
      "Epoch [250/500], Train Loss: 0.6000, Val Loss: 0.5979\n",
      "Epoch [255/500], Train Loss: 0.6000, Val Loss: 0.5979\n",
      "Epoch [260/500], Train Loss: 0.6000, Val Loss: 0.5979\n",
      "Epoch [265/500], Train Loss: 0.6000, Val Loss: 0.5979\n",
      "Epoch [270/500], Train Loss: 0.6000, Val Loss: 0.5979\n",
      "Epoch [275/500], Train Loss: 0.6000, Val Loss: 0.5979\n",
      "Epoch [280/500], Train Loss: 0.6000, Val Loss: 0.5979\n",
      "Epoch [285/500], Train Loss: 0.6000, Val Loss: 0.5979\n",
      "Epoch [290/500], Train Loss: 0.6000, Val Loss: 0.5979\n",
      "Epoch [295/500], Train Loss: 0.6000, Val Loss: 0.5979\n",
      "Epoch [300/500], Train Loss: 0.6000, Val Loss: 0.5979\n",
      "Epoch [305/500], Train Loss: 0.6000, Val Loss: 0.5979\n",
      "Epoch [310/500], Train Loss: 0.6000, Val Loss: 0.5979\n",
      "Epoch [315/500], Train Loss: 0.6000, Val Loss: 0.5979\n",
      "Epoch [320/500], Train Loss: 0.6000, Val Loss: 0.5979\n",
      "Epoch [325/500], Train Loss: 0.6000, Val Loss: 0.5979\n",
      "Epoch [330/500], Train Loss: 0.6000, Val Loss: 0.5979\n",
      "Epoch [335/500], Train Loss: 0.6000, Val Loss: 0.5979\n",
      "Epoch [340/500], Train Loss: 0.6000, Val Loss: 0.5979\n",
      "Epoch [345/500], Train Loss: 0.6000, Val Loss: 0.5979\n",
      "Epoch [350/500], Train Loss: 0.6000, Val Loss: 0.5979\n",
      "Epoch [355/500], Train Loss: 0.6000, Val Loss: 0.5979\n",
      "Epoch [360/500], Train Loss: 0.6000, Val Loss: 0.5979\n",
      "Epoch [365/500], Train Loss: 0.6000, Val Loss: 0.5979\n",
      "Epoch [370/500], Train Loss: 0.6000, Val Loss: 0.5979\n",
      "Epoch [375/500], Train Loss: 0.6000, Val Loss: 0.5979\n",
      "Epoch [380/500], Train Loss: 0.6000, Val Loss: 0.5979\n",
      "Epoch [385/500], Train Loss: 0.6000, Val Loss: 0.5979\n",
      "Epoch [390/500], Train Loss: 0.6000, Val Loss: 0.5979\n",
      "Epoch [395/500], Train Loss: 0.6000, Val Loss: 0.5979\n",
      "Epoch [400/500], Train Loss: 0.6000, Val Loss: 0.5979\n",
      "Epoch [405/500], Train Loss: 0.6000, Val Loss: 0.5979\n",
      "Epoch [410/500], Train Loss: 0.6000, Val Loss: 0.5979\n",
      "Epoch [415/500], Train Loss: 0.6000, Val Loss: 0.5979\n",
      "Epoch [420/500], Train Loss: 0.6000, Val Loss: 0.5979\n",
      "Epoch [425/500], Train Loss: 0.6000, Val Loss: 0.5979\n",
      "Epoch [430/500], Train Loss: 0.6000, Val Loss: 0.5979\n",
      "Epoch [435/500], Train Loss: 0.6000, Val Loss: 0.5979\n",
      "Epoch [440/500], Train Loss: 0.6000, Val Loss: 0.5979\n",
      "Epoch [445/500], Train Loss: 0.6000, Val Loss: 0.5979\n",
      "Epoch [450/500], Train Loss: 0.6000, Val Loss: 0.5979\n",
      "Epoch [455/500], Train Loss: 0.6000, Val Loss: 0.5979\n",
      "Epoch [460/500], Train Loss: 0.6000, Val Loss: 0.5979\n",
      "Epoch [465/500], Train Loss: 0.6000, Val Loss: 0.5979\n",
      "Epoch [470/500], Train Loss: 0.6000, Val Loss: 0.5979\n",
      "Epoch [475/500], Train Loss: 0.6000, Val Loss: 0.5979\n",
      "Epoch [480/500], Train Loss: 0.6000, Val Loss: 0.5979\n",
      "Epoch [485/500], Train Loss: 0.6000, Val Loss: 0.5979\n",
      "Epoch [490/500], Train Loss: 0.6000, Val Loss: 0.5979\n",
      "Epoch [495/500], Train Loss: 0.6000, Val Loss: 0.5979\n",
      "Epoch [500/500], Train Loss: 0.6000, Val Loss: 0.5979\n"
     ]
    }
   ],
   "source": [
    "# Training loop\n",
    "for epoch in range(num_epochs):\n",
    "    model.train()  # Set model to training mode\n",
    "    optimizer.zero_grad()\n",
    "    \n",
    "    # Forward pass (training)\n",
    "    outputs = model(train_data)\n",
    "    loss = criterion(outputs, train_labels)\n",
    "    \n",
    "    # Backward pass and optimization\n",
    "    loss.backward()\n",
    "    \n",
    "    # Clip gradients to prevent exploding gradients\n",
    "    torch.nn.utils.clip_grad_norm_(model.parameters(), max_norm=1.0)\n",
    "    \n",
    "    optimizer.step()\n",
    "\n",
    "    # Validation phase (no gradient calculations)\n",
    "    model.eval()  # Set model to evaluation mode\n",
    "    with torch.no_grad():  # Disable gradient calculation for validation\n",
    "        val_outputs = model(test_data)\n",
    "        val_loss = criterion(val_outputs, test_labels)\n",
    "\n",
    "    # Update learning rate if validation loss plateaus\n",
    "    scheduler.step(val_loss)\n",
    "\n",
    "    # Print loss every 5 epochs\n",
    "    if (epoch + 1) % 5 == 0:\n",
    "        print(f'Epoch [{epoch+1}/{num_epochs}], Train Loss: {loss.item():.4f}, Val Loss: {val_loss.item():.4f}')\n"
   ]
  },
  {
   "cell_type": "code",
   "execution_count": 13,
   "id": "d5964fa8",
   "metadata": {
    "execution": {
     "iopub.execute_input": "2024-09-25T19:59:18.362057Z",
     "iopub.status.busy": "2024-09-25T19:59:18.361691Z",
     "iopub.status.idle": "2024-09-25T19:59:18.890937Z",
     "shell.execute_reply": "2024-09-25T19:59:18.890038Z"
    },
    "papermill": {
     "duration": 0.546566,
     "end_time": "2024-09-25T19:59:18.893231",
     "exception": false,
     "start_time": "2024-09-25T19:59:18.346665",
     "status": "completed"
    },
    "tags": []
   },
   "outputs": [
    {
     "name": "stdout",
     "output_type": "stream",
     "text": [
      "Accuracy: 73.35%\n",
      "Confusion Matrix:\n",
      "[[55441  3027]\n",
      " [17440   892]]\n"
     ]
    },
    {
     "data": {
      "image/png": "[encoded data removed]",
      "text/plain": [
       "<Figure size 600x400 with 2 Axes>"
      ]
     },
     "metadata": {},
     "output_type": "display_data"
    }
   ],
   "source": [
    "\n",
    "model.eval()\n",
    "with torch.no_grad():\n",
    "    test_outputs = model(test_data)\n",
    "    predicted = (test_outputs > 0.5).float()  # Threshold at 0.5 for binary classification\n",
    "    \n",
    "    # Calculate accuracy\n",
    "    accuracy = (predicted == test_labels).float().mean()\n",
    "    print(f'Accuracy: {accuracy.item() * 100:.2f}%')\n",
    "\n",
    "    # Flatten the predicted and test labels for confusion matrix calculation\n",
    "    predicted_flat = predicted.cpu().numpy().flatten()\n",
    "    test_labels_flat = test_labels.cpu().numpy().flatten()\n",
    "\n",
    "    # Generate the confusion matrix\n",
    "    cm = confusion_matrix(test_labels_flat, predicted_flat)\n",
    "    print(f'Confusion Matrix:\\n{cm}')\n",
    "\n",
    "    # Optional: plot the confusion matrix for visualization\n",
    "    plt.figure(figsize=(6,4))\n",
    "    sns.heatmap(cm, annot=True, fmt=\"d\", cmap=\"Blues\", xticklabels=['No Pain', 'Pain'], yticklabels=['No Pain', 'Pain'])\n",
    "    plt.ylabel('True Label')\n",
    "    plt.xlabel('Predicted Label')\n",
    "    plt.title('Confusion Matrix')\n",
    "    plt.show()\n"
   ]
  },
  {
   "cell_type": "code",
   "execution_count": 14,
   "id": "3cf882ac",
   "metadata": {
    "execution": {
     "iopub.execute_input": "2024-09-25T19:59:18.923783Z",
     "iopub.status.busy": "2024-09-25T19:59:18.923389Z",
     "iopub.status.idle": "2024-09-25T19:59:18.932502Z",
     "shell.execute_reply": "2024-09-25T19:59:18.931771Z"
    },
    "papermill": {
     "duration": 0.026709,
     "end_time": "2024-09-25T19:59:18.934486",
     "exception": false,
     "start_time": "2024-09-25T19:59:18.907777",
     "status": "completed"
    },
    "tags": []
   },
   "outputs": [],
   "source": [
    "def plot_roc_auc(model, test_data, test_labels):\n",
    "    model.eval()\n",
    "    with torch.no_grad():\n",
    "        # Get the raw logits (before applying sigmoid)\n",
    "        test_outputs = model(test_data)\n",
    "        \n",
    "        # Convert test_labels and test_outputs to NumPy arrays for sklearn\n",
    "        test_labels_flat = test_labels.cpu().numpy().flatten()\n",
    "        test_outputs_flat = test_outputs.cpu().numpy().flatten()\n",
    "\n",
    "        # Calculate the false positive rate, true positive rate, and thresholds for the ROC curve\n",
    "        fpr, tpr, thresholds = roc_curve(test_labels_flat, test_outputs_flat)\n",
    "        \n",
    "        # Calculate the AUC score\n",
    "        roc_auc = auc(fpr, tpr)\n",
    "        \n",
    "        # Plot ROC curve\n",
    "        plt.figure(figsize=(8,6))\n",
    "        plt.plot(fpr, tpr, color='blue', label=f'ROC Curve (AUC = {roc_auc:.2f})')\n",
    "        plt.plot([0, 1], [0, 1], color='grey', linestyle='--')  # Random classifier line\n",
    "        plt.xlim([0.0, 1.0])\n",
    "        plt.ylim([0.0, 1.05])\n",
    "        plt.xlabel('False Positive Rate (FPR)')\n",
    "        plt.ylabel('True Positive Rate (TPR)')\n",
    "        plt.title('Receiver Operating Characteristic (ROC)')\n",
    "        plt.legend(loc='lower right')\n",
    "        plt.show()\n",
    "\n",
    "    return roc_auc"
   ]
  },
  {
   "cell_type": "code",
   "execution_count": 15,
   "id": "8734046e",
   "metadata": {
    "execution": {
     "iopub.execute_input": "2024-09-25T19:59:18.964843Z",
     "iopub.status.busy": "2024-09-25T19:59:18.964468Z",
     "iopub.status.idle": "2024-09-25T19:59:19.350215Z",
     "shell.execute_reply": "2024-09-25T19:59:19.349256Z"
    },
    "papermill": {
     "duration": 0.403522,
     "end_time": "2024-09-25T19:59:19.352478",
     "exception": false,
     "start_time": "2024-09-25T19:59:18.948956",
     "status": "completed"
    },
    "tags": []
   },
   "outputs": [
    {
     "data": {
      "image/png": "[encoded data removed]",
      "text/plain": [
       "<Figure size 800x600 with 1 Axes>"
      ]
     },
     "metadata": {},
     "output_type": "display_data"
    },
    {
     "data": {
      "text/plain": [
       "0.5655661439000685"
      ]
     },
     "execution_count": 15,
     "metadata": {},
     "output_type": "execute_result"
    }
   ],
   "source": [
    "plot_roc_auc(model, test_data, test_labels)"
   ]
  },
  {
   "cell_type": "code",
   "execution_count": null,
   "id": "a19e3b7f",
   "metadata": {
    "papermill": {
     "duration": 0.014813,
     "end_time": "2024-09-25T19:59:19.382991",
     "exception": false,
     "start_time": "2024-09-25T19:59:19.368178",
     "status": "completed"
    },
    "tags": []
   },
   "outputs": [],
   "source": []
  }
 ],
 "metadata": {
  "kaggle": {
   "accelerator": "gpu",
   "dataSources": [
    {
     "datasetId": 5754676,
     "sourceId": 9480039,
     "sourceType": "datasetVersion"
    }
   ],
   "dockerImageVersionId": 30762,
   "isGpuEnabled": true,
   "isInternetEnabled": true,
   "language": "python",
   "sourceType": "notebook"
  },
  "kernelspec": {
   "display_name": "Python 3",
   "language": "python",
   "name": "python3"
  },
  "language_info": {
   "codemirror_mode": {
    "name": "ipython",
    "version": 3
   },
   "file_extension": ".py",
   "mimetype": "text/x-python",
   "name": "python",
   "nbconvert_exporter": "python",
   "pygments_lexer": "ipython3",
   "version": "3.10.14"
  },
  "papermill": {
   "default_parameters": {},
   "duration": 470.385085,
   "end_time": "2024-09-25T19:59:21.789601",
   "environment_variables": {},
   "exception": null,
   "input_path": "__notebook__.ipynb",
   "output_path": "__notebook__.ipynb",
   "parameters": {},
   "start_time": "2024-09-25T19:51:31.404516",
   "version": "2.6.0"
  }
 },
 "nbformat": 4,
 "nbformat_minor": 5
}
