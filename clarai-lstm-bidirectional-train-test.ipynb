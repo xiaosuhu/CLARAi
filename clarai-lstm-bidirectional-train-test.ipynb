{
 "cells": [
  {
   "cell_type": "code",
   "execution_count": 1,
   "id": "8d875378",
   "metadata": {
    "execution": {
     "iopub.execute_input": "2024-10-03T14:03:35.087305Z",
     "iopub.status.busy": "2024-10-03T14:03:35.086944Z",
     "iopub.status.idle": "2024-10-03T14:03:40.548196Z",
     "shell.execute_reply": "2024-10-03T14:03:40.547394Z"
    },
    "papermill": {
     "duration": 5.471972,
     "end_time": "2024-10-03T14:03:40.550535",
     "exception": false,
     "start_time": "2024-10-03T14:03:35.078563",
     "status": "completed"
    },
    "tags": []
   },
   "outputs": [],
   "source": [
    "from sklearn.model_selection import train_test_split\n",
    "from sklearn.preprocessing import StandardScaler\n",
    "from sklearn.utils.class_weight import compute_class_weight\n",
    "from sklearn.metrics import confusion_matrix, classification_report, roc_curve, auc\n",
    "from torch.utils.data import DataLoader, TensorDataset\n",
    "\n",
    "import torch\n",
    "import torch.nn as nn\n",
    "import torch.optim as optim\n",
    "import pandas as pd\n",
    "import numpy as np\n",
    "import matplotlib.pyplot as plt\n",
    "import seaborn as sns\n",
    "\n",
    "import glob"
   ]
  },
  {
   "cell_type": "code",
   "execution_count": 2,
   "id": "d260fccc",
   "metadata": {
    "execution": {
     "iopub.execute_input": "2024-10-03T14:03:40.564657Z",
     "iopub.status.busy": "2024-10-03T14:03:40.564255Z",
     "iopub.status.idle": "2024-10-03T14:03:40.649344Z",
     "shell.execute_reply": "2024-10-03T14:03:40.648233Z"
    },
    "papermill": {
     "duration": 0.094575,
     "end_time": "2024-10-03T14:03:40.651702",
     "exception": false,
     "start_time": "2024-10-03T14:03:40.557127",
     "status": "completed"
    },
    "tags": []
   },
   "outputs": [
    {
     "name": "stdout",
     "output_type": "stream",
     "text": [
      "cuda\n"
     ]
    }
   ],
   "source": [
    "# device = torch.device(\"mps\")\n",
    "device = torch.device(\"cuda\" if torch.cuda.is_available() else \"cpu\")\n",
    "print(device)"
   ]
  },
  {
   "cell_type": "code",
   "execution_count": 3,
   "id": "5dbd1307",
   "metadata": {
    "execution": {
     "iopub.execute_input": "2024-10-03T14:03:40.665539Z",
     "iopub.status.busy": "2024-10-03T14:03:40.665237Z",
     "iopub.status.idle": "2024-10-03T14:03:40.672435Z",
     "shell.execute_reply": "2024-10-03T14:03:40.671526Z"
    },
    "papermill": {
     "duration": 0.016198,
     "end_time": "2024-10-03T14:03:40.674395",
     "exception": false,
     "start_time": "2024-10-03T14:03:40.658197",
     "status": "completed"
    },
    "tags": []
   },
   "outputs": [
    {
     "data": {
      "text/plain": [
       "'# Step 1: Get a list of all CSV file paths in the directory\\ndata_path = glob.glob(\"D:\\\\PythonProjs\\\\CLARAi\\\\Data\\\\*.csv\")  # Modify with your directory path\\nlabel_path = glob.glob(\"D:\\\\PythonProjs\\\\CLARAi\\\\Label\\\\*.csv\")\\n\\n# Step 2: Read each CSV file and store in a list of DataFrames\\ndatadfs = [pd.read_csv(file) for file in data_path]\\nlabeldfs = [pd.read_csv(file) for file in label_path]\\n\\n# Step 3: Concatenate all DataFrames into one\\nfinal_data_df = pd.concat(datadfs, ignore_index=True)\\nfinal_label_df = pd.concat(labeldfs, ignore_index=True)'"
      ]
     },
     "execution_count": 3,
     "metadata": {},
     "output_type": "execute_result"
    }
   ],
   "source": [
    "\"\"\"# Step 1: Get a list of all CSV file paths in the directory\n",
    "data_path = glob.glob(\"D:\\PythonProjs\\CLARAi\\Data\\*.csv\")  # Modify with your directory path\n",
    "label_path = glob.glob(\"D:\\PythonProjs\\CLARAi\\Label\\*.csv\")\n",
    "\n",
    "# Step 2: Read each CSV file and store in a list of DataFrames\n",
    "datadfs = [pd.read_csv(file) for file in data_path]\n",
    "labeldfs = [pd.read_csv(file) for file in label_path]\n",
    "\n",
    "# Step 3: Concatenate all DataFrames into one\n",
    "final_data_df = pd.concat(datadfs, ignore_index=True)\n",
    "final_label_df = pd.concat(labeldfs, ignore_index=True)\"\"\""
   ]
  },
  {
   "cell_type": "code",
   "execution_count": 4,
   "id": "c109fe62",
   "metadata": {
    "execution": {
     "iopub.execute_input": "2024-10-03T14:03:40.687902Z",
     "iopub.status.busy": "2024-10-03T14:03:40.687572Z",
     "iopub.status.idle": "2024-10-03T14:03:40.696367Z",
     "shell.execute_reply": "2024-10-03T14:03:40.695511Z"
    },
    "papermill": {
     "duration": 0.017664,
     "end_time": "2024-10-03T14:03:40.698242",
     "exception": false,
     "start_time": "2024-10-03T14:03:40.680578",
     "status": "completed"
    },
    "tags": []
   },
   "outputs": [],
   "source": [
    "def data_gen(data_path, label_path):\n",
    "    final_data_df = pd.read_csv(data_path)\n",
    "    final_label_df = pd.read_csv(label_path)\n",
    "\n",
    "    train_labels_flat = final_label_df.values.flatten()\n",
    "    \n",
    "    # Compute class weights (inverse of class frequencies)\n",
    "    class_weights = compute_class_weight(class_weight='balanced', classes=np.unique(train_labels_flat), y=train_labels_flat)\n",
    "    class_weights = torch.tensor(class_weights, dtype=torch.float32)\n",
    "\n",
    "    # Parameters\n",
    "    sequence_length = 256  # Length of each subsequence\n",
    "    num_subsequences = 500  # Number of subsequences to extract\n",
    "\n",
    "    # Get possible starting indices, ensuring there's enough space for a full subsequence\n",
    "    possible_starts = np.arange(0, len(final_data_df) - sequence_length + 1)\n",
    "    np.random.shuffle(possible_starts)\n",
    "\n",
    "    # Select the first `num_subsequences` starting indices\n",
    "    selected_starts = possible_starts[:num_subsequences]\n",
    "\n",
    "    # Create a list to hold the subsequences\n",
    "    subsequences = [final_data_df.iloc[start:start + sequence_length].values for start in selected_starts]\n",
    "    sublabels = [final_label_df.iloc[start:start + sequence_length].values for start in selected_starts]\n",
    "\n",
    "    # Convert subsequences list to a NumPy array\n",
    "    subsequences_array = np.array(subsequences)\n",
    "    sublabels_array = np.array(sublabels)\n",
    "\n",
    "    # subsequences_array will have shape (num_subsequences, sequence_length, num_channels)\n",
    "    # print(subsequences_array.shape)  # Should print (100, 100, 36)\n",
    "    # print(sublabels_array.shape)\n",
    "\n",
    "    return torch.from_numpy(subsequences_array), torch.from_numpy(sublabels_array), class_weights\n"
   ]
  },
  {
   "cell_type": "code",
   "execution_count": 5,
   "id": "f8daf458",
   "metadata": {
    "execution": {
     "iopub.execute_input": "2024-10-03T14:03:40.713496Z",
     "iopub.status.busy": "2024-10-03T14:03:40.712994Z",
     "iopub.status.idle": "2024-10-03T14:03:40.722708Z",
     "shell.execute_reply": "2024-10-03T14:03:40.721917Z"
    },
    "papermill": {
     "duration": 0.020134,
     "end_time": "2024-10-03T14:03:40.724633",
     "exception": false,
     "start_time": "2024-10-03T14:03:40.704499",
     "status": "completed"
    },
    "tags": []
   },
   "outputs": [],
   "source": [
    "\n",
    "# Sample time series data with shape (batch_size, sequence_length, num_features)\n",
    "# neuroimaging_data: Time series data from multiple neuroimaging channels\n",
    "# labels: Binary labels (0 = no pain, 1 = pain) for each time step\n",
    "# Assume neuroimaging_data is a numpy array of shape (num_samples, sequence_length, num_channels)\n",
    "# labels is a numpy array of shape (num_samples, sequence_length)\n",
    "\n",
    "class BidirectionalLSTMClassifier(nn.Module):\n",
    "    def __init__(self, input_size, hidden_size, output_size, num_layers=1):\n",
    "        super(BidirectionalLSTMClassifier, self).__init__()\n",
    "        self.hidden_size = hidden_size\n",
    "        self.num_layers = num_layers\n",
    "        self.lstm = nn.LSTM(input_size, hidden_size, num_layers, batch_first=True, bidirectional=True)\n",
    "        \n",
    "        # Adjust the fully connected layer to account for doubled hidden size (forward + backward)\n",
    "        self.fc = nn.Linear(hidden_size * 2, output_size)\n",
    "        self.batch_norm = nn.BatchNorm1d(hidden_size * 2)  # Adjust Batch Normalization for bidirectional\n",
    "        self.sigmoid = nn.Sigmoid()\n",
    "\n",
    "    def forward(self, x):\n",
    "        # Initialize hidden state and cell state with zeros for both directions\n",
    "        h0 = torch.zeros(self.num_layers * 2, x.size(0), self.hidden_size).to(x.device)  # *2 for bidirectional\n",
    "        c0 = torch.zeros(self.num_layers * 2, x.size(0), self.hidden_size).to(x.device)\n",
    "\n",
    "        # LSTM forward pass\n",
    "        out, _ = self.lstm(x, (h0, c0))\n",
    "        \n",
    "        # Apply batch normalization\n",
    "        # Permute to (batch_size, hidden_size*2, sequence_length) for batch norm\n",
    "        out = out.permute(0, 2, 1)\n",
    "        out = self.batch_norm(out)\n",
    "        \n",
    "        # Permute back to (batch_size, sequence_length, hidden_size*2)\n",
    "        out = out.permute(0, 2, 1)\n",
    "        \n",
    "        # Apply the linear layer to each time step\n",
    "        out = self.fc(out)\n",
    "        \n",
    "        return self.sigmoid(out)\n"
   ]
  },
  {
   "cell_type": "code",
   "execution_count": 6,
   "id": "fece8c04",
   "metadata": {
    "execution": {
     "iopub.execute_input": "2024-10-03T14:03:40.738549Z",
     "iopub.status.busy": "2024-10-03T14:03:40.738241Z",
     "iopub.status.idle": "2024-10-03T14:03:40.754672Z",
     "shell.execute_reply": "2024-10-03T14:03:40.753809Z"
    },
    "papermill": {
     "duration": 0.025528,
     "end_time": "2024-10-03T14:03:40.756557",
     "exception": false,
     "start_time": "2024-10-03T14:03:40.731029",
     "status": "completed"
    },
    "tags": []
   },
   "outputs": [],
   "source": [
    "# data_path = glob.glob(\"D:\\PythonProjs\\CLARAi\\Data_train\\*.csv\")  # Modify with your directory path\n",
    "# label_path = glob.glob(\"D:\\PythonProjs\\CLARAi\\Label_train\\*.csv\")\n",
    "\n",
    "# data_path = glob.glob(\"/home/frank/Documents/CLARAi/Data/*.csv\")  # Modify with your directory path\n",
    "# label_path = glob.glob(\"/home/frank/Documents/CLARAi/Label/*.csv\")\n",
    "\n",
    "# data_path = glob.glob(\"/Users/xiaosuhu/Documents/Python/CLARAi/Data/*.csv\")  # Modify with your directory path\n",
    "# label_path = glob.glob(\"/Users/xiaosuhu/Documents/Python/CLARAi/Data/*.csv\")\n",
    "\n",
    "data_path = glob.glob(\"/kaggle/input/CLARAi/Data_train/*.csv\")  # Modify with your directory path\n",
    "label_path = glob.glob(\"/kaggle/input/CLARAi/Label_train/*.csv\")\n",
    "\n",
    "# Sort the lists\n",
    "data_path = sorted(data_path)\n",
    "label_path = sorted(label_path)\n"
   ]
  },
  {
   "cell_type": "code",
   "execution_count": 7,
   "id": "7b02af6f",
   "metadata": {
    "execution": {
     "iopub.execute_input": "2024-10-03T14:03:40.770429Z",
     "iopub.status.busy": "2024-10-03T14:03:40.770105Z",
     "iopub.status.idle": "2024-10-03T14:03:40.776038Z",
     "shell.execute_reply": "2024-10-03T14:03:40.775060Z"
    },
    "papermill": {
     "duration": 0.015085,
     "end_time": "2024-10-03T14:03:40.778116",
     "exception": false,
     "start_time": "2024-10-03T14:03:40.763031",
     "status": "completed"
    },
    "tags": []
   },
   "outputs": [
    {
     "data": {
      "text/plain": [
       "['/kaggle/input/CLARAi/Data_train/data1.csv',\n",
       " '/kaggle/input/CLARAi/Data_train/data10.csv',\n",
       " '/kaggle/input/CLARAi/Data_train/data11.csv',\n",
       " '/kaggle/input/CLARAi/Data_train/data12.csv',\n",
       " '/kaggle/input/CLARAi/Data_train/data13.csv',\n",
       " '/kaggle/input/CLARAi/Data_train/data16.csv',\n",
       " '/kaggle/input/CLARAi/Data_train/data17.csv',\n",
       " '/kaggle/input/CLARAi/Data_train/data3.csv',\n",
       " '/kaggle/input/CLARAi/Data_train/data4.csv',\n",
       " '/kaggle/input/CLARAi/Data_train/data5.csv',\n",
       " '/kaggle/input/CLARAi/Data_train/data6.csv',\n",
       " '/kaggle/input/CLARAi/Data_train/data7.csv',\n",
       " '/kaggle/input/CLARAi/Data_train/data8.csv',\n",
       " '/kaggle/input/CLARAi/Data_train/data9.csv']"
      ]
     },
     "execution_count": 7,
     "metadata": {},
     "output_type": "execute_result"
    }
   ],
   "source": [
    "data_path"
   ]
  },
  {
   "cell_type": "code",
   "execution_count": 8,
   "id": "c579d963",
   "metadata": {
    "execution": {
     "iopub.execute_input": "2024-10-03T14:03:40.792716Z",
     "iopub.status.busy": "2024-10-03T14:03:40.791909Z",
     "iopub.status.idle": "2024-10-03T14:03:40.808772Z",
     "shell.execute_reply": "2024-10-03T14:03:40.807866Z"
    },
    "papermill": {
     "duration": 0.026301,
     "end_time": "2024-10-03T14:03:40.810773",
     "exception": false,
     "start_time": "2024-10-03T14:03:40.784472",
     "status": "completed"
    },
    "tags": []
   },
   "outputs": [],
   "source": [
    "\n",
    "# data_path = \"D:\\PythonProjs\\CLARAi\\Data\\data1.csv\"\n",
    "# label_path = \"D:\\PythonProjs\\CLARAi\\Label\\label1.csv\"\n",
    "neuroimaging_data = torch.empty(0,256,36)\n",
    "labels = torch.empty(0,256,1)\n",
    "class_weights = torch.Tensor([0., 0.])"
   ]
  },
  {
   "cell_type": "code",
   "execution_count": 9,
   "id": "9494ae7c",
   "metadata": {
    "execution": {
     "iopub.execute_input": "2024-10-03T14:03:40.824757Z",
     "iopub.status.busy": "2024-10-03T14:03:40.824462Z",
     "iopub.status.idle": "2024-10-03T14:03:43.472999Z",
     "shell.execute_reply": "2024-10-03T14:03:43.471859Z"
    },
    "papermill": {
     "duration": 2.658672,
     "end_time": "2024-10-03T14:03:43.475804",
     "exception": false,
     "start_time": "2024-10-03T14:03:40.817132",
     "status": "completed"
    },
    "tags": []
   },
   "outputs": [
    {
     "name": "stdout",
     "output_type": "stream",
     "text": [
      "datapath: /kaggle/input/CLARAi/Data_train/data1.csv\n",
      "labelpath: /kaggle/input/CLARAi/Label_train/label1.csv\n",
      "Data shape: torch.Size([500, 256, 36]), Label shape: torch.Size([500, 256, 1]), Weight shape: torch.Size([2])\n",
      "datapath: /kaggle/input/CLARAi/Data_train/data10.csv\n",
      "labelpath: /kaggle/input/CLARAi/Label_train/label10.csv\n",
      "Data shape: torch.Size([500, 256, 36]), Label shape: torch.Size([500, 256, 1]), Weight shape: torch.Size([2])\n",
      "datapath: /kaggle/input/CLARAi/Data_train/data11.csv\n",
      "labelpath: /kaggle/input/CLARAi/Label_train/label11.csv\n",
      "Data shape: torch.Size([500, 256, 36]), Label shape: torch.Size([500, 256, 1]), Weight shape: torch.Size([2])\n",
      "datapath: /kaggle/input/CLARAi/Data_train/data12.csv\n",
      "labelpath: /kaggle/input/CLARAi/Label_train/label12.csv\n",
      "Data shape: torch.Size([495, 256, 36]), Label shape: torch.Size([495, 256, 1]), Weight shape: torch.Size([2])\n",
      "datapath: /kaggle/input/CLARAi/Data_train/data13.csv\n",
      "labelpath: /kaggle/input/CLARAi/Label_train/label13.csv\n",
      "Data shape: torch.Size([500, 256, 36]), Label shape: torch.Size([500, 256, 1]), Weight shape: torch.Size([2])\n",
      "datapath: /kaggle/input/CLARAi/Data_train/data16.csv\n",
      "labelpath: /kaggle/input/CLARAi/Label_train/label16.csv\n",
      "Data shape: torch.Size([500, 256, 36]), Label shape: torch.Size([500, 256, 1]), Weight shape: torch.Size([2])\n",
      "datapath: /kaggle/input/CLARAi/Data_train/data17.csv\n",
      "labelpath: /kaggle/input/CLARAi/Label_train/label17.csv\n",
      "Data shape: torch.Size([500, 256, 36]), Label shape: torch.Size([500, 256, 1]), Weight shape: torch.Size([2])\n",
      "datapath: /kaggle/input/CLARAi/Data_train/data3.csv\n",
      "labelpath: /kaggle/input/CLARAi/Label_train/label3.csv\n",
      "Data shape: torch.Size([500, 256, 36]), Label shape: torch.Size([500, 256, 1]), Weight shape: torch.Size([2])\n",
      "datapath: /kaggle/input/CLARAi/Data_train/data4.csv\n",
      "labelpath: /kaggle/input/CLARAi/Label_train/label4.csv\n",
      "Data shape: torch.Size([500, 256, 36]), Label shape: torch.Size([500, 256, 1]), Weight shape: torch.Size([2])\n",
      "datapath: /kaggle/input/CLARAi/Data_train/data5.csv\n",
      "labelpath: /kaggle/input/CLARAi/Label_train/label5.csv\n",
      "Data shape: torch.Size([500, 256, 36]), Label shape: torch.Size([500, 256, 1]), Weight shape: torch.Size([2])\n",
      "datapath: /kaggle/input/CLARAi/Data_train/data6.csv\n",
      "labelpath: /kaggle/input/CLARAi/Label_train/label6.csv\n",
      "Data shape: torch.Size([500, 256, 36]), Label shape: torch.Size([500, 256, 1]), Weight shape: torch.Size([2])\n",
      "datapath: /kaggle/input/CLARAi/Data_train/data7.csv\n",
      "labelpath: /kaggle/input/CLARAi/Label_train/label7.csv\n",
      "Data shape: torch.Size([500, 256, 36]), Label shape: torch.Size([500, 256, 1]), Weight shape: torch.Size([2])\n",
      "datapath: /kaggle/input/CLARAi/Data_train/data8.csv\n",
      "labelpath: /kaggle/input/CLARAi/Label_train/label8.csv\n",
      "Data shape: torch.Size([500, 256, 36]), Label shape: torch.Size([500, 256, 1]), Weight shape: torch.Size([2])\n",
      "datapath: /kaggle/input/CLARAi/Data_train/data9.csv\n",
      "labelpath: /kaggle/input/CLARAi/Label_train/label9.csv\n",
      "Data shape: torch.Size([500, 256, 36]), Label shape: torch.Size([500, 256, 1]), Weight shape: torch.Size([2])\n"
     ]
    }
   ],
   "source": [
    "\n",
    "for datapath, labelpath in zip(data_path, label_path):\n",
    "    print(f'datapath: {datapath}')\n",
    "    print(f'labelpath: {labelpath}')    \n",
    "    data, label, weight = data_gen(datapath, labelpath)\n",
    "    print(f'Data shape: {data.shape}, Label shape: {label.shape}, Weight shape: {weight.shape}')\n",
    "    neuroimaging_data= torch.cat([neuroimaging_data, data])\n",
    "    labels = torch.cat([labels, label])\n",
    "    class_weights += weight\n",
    "\n",
    "normalized_weights = class_weights / class_weights.sum()\n"
   ]
  },
  {
   "cell_type": "code",
   "execution_count": 10,
   "id": "00e546a3",
   "metadata": {
    "execution": {
     "iopub.execute_input": "2024-10-03T14:03:43.495900Z",
     "iopub.status.busy": "2024-10-03T14:03:43.495530Z",
     "iopub.status.idle": "2024-10-03T14:03:43.502797Z",
     "shell.execute_reply": "2024-10-03T14:03:43.501740Z"
    },
    "papermill": {
     "duration": 0.018536,
     "end_time": "2024-10-03T14:03:43.504697",
     "exception": false,
     "start_time": "2024-10-03T14:03:43.486161",
     "status": "completed"
    },
    "tags": []
   },
   "outputs": [
    {
     "data": {
      "text/plain": [
       "(torch.Size([6995, 256, 36]), torch.Size([6995, 256, 1]))"
      ]
     },
     "execution_count": 10,
     "metadata": {},
     "output_type": "execute_result"
    }
   ],
   "source": [
    "neuroimaging_data.shape, labels.shape"
   ]
  },
  {
   "cell_type": "code",
   "execution_count": 11,
   "id": "503e1184",
   "metadata": {
    "execution": {
     "iopub.execute_input": "2024-10-03T14:03:43.522822Z",
     "iopub.status.busy": "2024-10-03T14:03:43.522139Z",
     "iopub.status.idle": "2024-10-03T14:03:43.550285Z",
     "shell.execute_reply": "2024-10-03T14:03:43.548947Z"
    },
    "papermill": {
     "duration": 0.039668,
     "end_time": "2024-10-03T14:03:43.552523",
     "exception": false,
     "start_time": "2024-10-03T14:03:43.512855",
     "status": "completed"
    },
    "tags": []
   },
   "outputs": [
    {
     "name": "stdout",
     "output_type": "stream",
     "text": [
      "Number of 0s: 1369955Number of 1s: 420765 Ratio is 0.2349697328448892\n"
     ]
    }
   ],
   "source": [
    "# Count the number of 1s\n",
    "num_zeros = torch.sum(labels == 0).item()\n",
    "num_ones = torch.sum(labels == 1).item()\n",
    "\n",
    "print(f\"Number of 0s: {num_zeros}Number of 1s: {num_ones} Ratio is {num_ones/(num_ones + num_zeros)}\")"
   ]
  },
  {
   "cell_type": "code",
   "execution_count": 12,
   "id": "8733f37a",
   "metadata": {
    "execution": {
     "iopub.execute_input": "2024-10-03T14:03:43.573251Z",
     "iopub.status.busy": "2024-10-03T14:03:43.572928Z",
     "iopub.status.idle": "2024-10-03T14:03:45.487848Z",
     "shell.execute_reply": "2024-10-03T14:03:45.487018Z"
    },
    "papermill": {
     "duration": 1.92787,
     "end_time": "2024-10-03T14:03:45.490246",
     "exception": false,
     "start_time": "2024-10-03T14:03:43.562376",
     "status": "completed"
    },
    "tags": []
   },
   "outputs": [
    {
     "name": "stderr",
     "output_type": "stream",
     "text": [
      "/tmp/ipykernel_23/2368511501.py:16: UserWarning: To copy construct from a tensor, it is recommended to use sourceTensor.clone().detach() or sourceTensor.clone().detach().requires_grad_(True), rather than torch.tensor(sourceTensor).\n",
      "  train_data, test_data = torch.tensor(train_data, dtype=torch.float32).to(device), torch.tensor(test_data, dtype=torch.float32).to(device)\n",
      "/tmp/ipykernel_23/2368511501.py:17: UserWarning: To copy construct from a tensor, it is recommended to use sourceTensor.clone().detach() or sourceTensor.clone().detach().requires_grad_(True), rather than torch.tensor(sourceTensor).\n",
      "  train_labels, test_labels = torch.tensor(train_labels, dtype=torch.float32).to(device), torch.tensor(test_labels, dtype=torch.float32).to(device)\n"
     ]
    }
   ],
   "source": [
    "# Hyperparameters\n",
    "input_size = neuroimaging_data.shape[2]  # Number of features (channels)\n",
    "hidden_size = 32  # Hidden state size of the GRU\n",
    "output_size = 1  # Binary classification\n",
    "num_layers = 6  # Number of GRU layers\n",
    "learning_rate = 0.001\n",
    "num_epochs = 500\n",
    "batch_size = 8\n",
    "\n",
    "# Preprocessing (e.g., normalization)\n",
    "# scaler = StandardScaler()\n",
    "# neuroimaging_data = scaler.fit_transform(neuroimaging_data.reshape(-1, input_size)).reshape(neuroimaging_data.shape)\n",
    "\n",
    "# Convert numpy arrays to PyTorch tensors\n",
    "train_data, test_data, train_labels, test_labels = train_test_split(neuroimaging_data, labels, test_size=0.2, random_state=42)\n",
    "train_data, test_data = torch.tensor(train_data, dtype=torch.float32).to(device), torch.tensor(test_data, dtype=torch.float32).to(device)\n",
    "train_labels, test_labels = torch.tensor(train_labels, dtype=torch.float32).to(device), torch.tensor(test_labels, dtype=torch.float32).to(device)\n",
    "\n",
    "\n",
    "# Create GRU model\n",
    "model = BidirectionalLSTMClassifier(input_size, hidden_size, output_size, num_layers)\n",
    "model = torch.nn.DataParallel(model)\n",
    "model.to(device)\n",
    "\n",
    "# Loss and optimizer\n",
    "# criterion = nn.BCELoss()  # Binary Cross Entropy Loss for binary classification\n",
    "\n",
    "\n",
    "# Convert the class weights to a tensor and move to the appropriate device\n",
    "class_weights = class_weights.to(device)\n",
    "\n",
    "# Use BCEWithLogitsLoss, which combines sigmoid activation and binary cross-entropy loss\n",
    "criterion = nn.BCEWithLogitsLoss(pos_weight=normalized_weights[0])  # pos_weight applies only to class 1\n",
    "\n",
    "# optimizer = optim.Adam(model.parameters(), lr=learning_rate)\n",
    "optimizer = optim.Adam(model.parameters(), lr=learning_rate, weight_decay=1e-5)\n",
    "scheduler = torch.optim.lr_scheduler.ReduceLROnPlateau(optimizer, mode='min', factor=0.1, patience=20)"
   ]
  },
  {
   "cell_type": "code",
   "execution_count": 13,
   "id": "195ae289",
   "metadata": {
    "execution": {
     "iopub.execute_input": "2024-10-03T14:03:45.509171Z",
     "iopub.status.busy": "2024-10-03T14:03:45.508696Z",
     "iopub.status.idle": "2024-10-03T14:07:32.759850Z",
     "shell.execute_reply": "2024-10-03T14:07:32.758931Z"
    },
    "papermill": {
     "duration": 227.26255,
     "end_time": "2024-10-03T14:07:32.761987",
     "exception": false,
     "start_time": "2024-10-03T14:03:45.499437",
     "status": "completed"
    },
    "tags": []
   },
   "outputs": [
    {
     "name": "stderr",
     "output_type": "stream",
     "text": [
      "/opt/conda/lib/python3.10/site-packages/torch/nn/parallel/parallel_apply.py:79: FutureWarning: `torch.cuda.amp.autocast(args...)` is deprecated. Please use `torch.amp.autocast('cuda', args...)` instead.\n",
      "  with torch.cuda.device(device), torch.cuda.stream(stream), autocast(enabled=autocast_enabled):\n"
     ]
    },
    {
     "name": "stdout",
     "output_type": "stream",
     "text": [
      "Epoch [5/500], Train Loss: 0.7302, Val Loss: 0.7593\n",
      "Epoch [10/500], Train Loss: 0.6844, Val Loss: 0.7546\n",
      "Epoch [15/500], Train Loss: 0.6619, Val Loss: 0.7505\n",
      "Epoch [20/500], Train Loss: 0.6508, Val Loss: 0.7614\n",
      "Epoch [25/500], Train Loss: 0.6413, Val Loss: 0.7702\n",
      "Epoch [30/500], Train Loss: 0.6328, Val Loss: 0.7352\n",
      "Epoch [35/500], Train Loss: 0.6251, Val Loss: 0.6919\n",
      "Epoch [40/500], Train Loss: 0.6183, Val Loss: 0.6464\n",
      "Epoch [45/500], Train Loss: 0.6121, Val Loss: 0.6216\n",
      "Epoch [50/500], Train Loss: 0.6063, Val Loss: 0.6087\n",
      "Epoch [55/500], Train Loss: 0.6009, Val Loss: 0.5995\n",
      "Epoch [60/500], Train Loss: 0.5959, Val Loss: 0.5934\n",
      "Epoch [65/500], Train Loss: 0.5918, Val Loss: 0.5879\n",
      "Epoch [70/500], Train Loss: 0.5881, Val Loss: 0.5849\n",
      "Epoch [75/500], Train Loss: 0.5856, Val Loss: 0.5844\n",
      "Epoch [80/500], Train Loss: 0.5842, Val Loss: 0.5839\n",
      "Epoch [85/500], Train Loss: 0.5831, Val Loss: 0.5834\n",
      "Epoch [90/500], Train Loss: 0.5827, Val Loss: 0.5830\n",
      "Epoch [95/500], Train Loss: 0.5819, Val Loss: 0.5833\n",
      "Epoch [100/500], Train Loss: 0.5819, Val Loss: 0.5818\n",
      "Epoch [105/500], Train Loss: 0.5814, Val Loss: 0.5814\n",
      "Epoch [110/500], Train Loss: 0.5810, Val Loss: 0.5810\n",
      "Epoch [115/500], Train Loss: 0.5806, Val Loss: 0.5806\n",
      "Epoch [120/500], Train Loss: 0.5803, Val Loss: 0.5803\n",
      "Epoch [125/500], Train Loss: 0.5801, Val Loss: 0.5800\n",
      "Epoch [130/500], Train Loss: 0.5798, Val Loss: 0.5798\n",
      "Epoch [135/500], Train Loss: 0.5797, Val Loss: 0.5796\n",
      "Epoch [140/500], Train Loss: 0.5795, Val Loss: 0.5794\n",
      "Epoch [145/500], Train Loss: 0.5793, Val Loss: 0.5793\n",
      "Epoch [150/500], Train Loss: 0.5792, Val Loss: 0.5791\n",
      "Epoch [155/500], Train Loss: 0.5791, Val Loss: 0.5790\n",
      "Epoch [160/500], Train Loss: 0.5790, Val Loss: 0.5789\n",
      "Epoch [165/500], Train Loss: 0.5788, Val Loss: 0.5788\n",
      "Epoch [170/500], Train Loss: 0.5787, Val Loss: 0.5787\n",
      "Epoch [175/500], Train Loss: 0.5787, Val Loss: 0.5786\n",
      "Epoch [180/500], Train Loss: 0.5786, Val Loss: 0.5785\n",
      "Epoch [185/500], Train Loss: 0.5785, Val Loss: 0.5785\n",
      "Epoch [190/500], Train Loss: 0.5784, Val Loss: 0.5784\n",
      "Epoch [195/500], Train Loss: 0.5784, Val Loss: 0.5783\n",
      "Epoch [200/500], Train Loss: 0.5783, Val Loss: 0.5783\n",
      "Epoch [205/500], Train Loss: 0.5783, Val Loss: 0.5782\n",
      "Epoch [210/500], Train Loss: 0.5782, Val Loss: 0.5782\n",
      "Epoch [215/500], Train Loss: 0.5782, Val Loss: 0.5782\n",
      "Epoch [220/500], Train Loss: 0.5781, Val Loss: 0.5781\n",
      "Epoch [225/500], Train Loss: 0.5781, Val Loss: 0.5781\n",
      "Epoch [230/500], Train Loss: 0.5780, Val Loss: 0.5781\n",
      "Epoch [235/500], Train Loss: 0.5780, Val Loss: 0.5781\n",
      "Epoch [240/500], Train Loss: 0.5779, Val Loss: 0.5781\n",
      "Epoch [245/500], Train Loss: 0.5779, Val Loss: 0.5780\n",
      "Epoch [250/500], Train Loss: 0.5779, Val Loss: 0.5780\n",
      "Epoch [255/500], Train Loss: 0.5779, Val Loss: 0.5780\n",
      "Epoch [260/500], Train Loss: 0.5779, Val Loss: 0.5780\n",
      "Epoch [265/500], Train Loss: 0.5779, Val Loss: 0.5779\n",
      "Epoch [270/500], Train Loss: 0.5779, Val Loss: 0.5779\n",
      "Epoch [275/500], Train Loss: 0.5779, Val Loss: 0.5779\n",
      "Epoch [280/500], Train Loss: 0.5779, Val Loss: 0.5779\n",
      "Epoch [285/500], Train Loss: 0.5779, Val Loss: 0.5779\n",
      "Epoch [290/500], Train Loss: 0.5779, Val Loss: 0.5779\n",
      "Epoch [295/500], Train Loss: 0.5779, Val Loss: 0.5779\n",
      "Epoch [300/500], Train Loss: 0.5779, Val Loss: 0.5779\n",
      "Epoch [305/500], Train Loss: 0.5779, Val Loss: 0.5779\n",
      "Epoch [310/500], Train Loss: 0.5779, Val Loss: 0.5779\n",
      "Epoch [315/500], Train Loss: 0.5779, Val Loss: 0.5779\n",
      "Epoch [320/500], Train Loss: 0.5779, Val Loss: 0.5779\n",
      "Epoch [325/500], Train Loss: 0.5779, Val Loss: 0.5779\n",
      "Epoch [330/500], Train Loss: 0.5779, Val Loss: 0.5779\n",
      "Epoch [335/500], Train Loss: 0.5779, Val Loss: 0.5779\n",
      "Epoch [340/500], Train Loss: 0.5779, Val Loss: 0.5779\n",
      "Epoch [345/500], Train Loss: 0.5779, Val Loss: 0.5779\n",
      "Epoch [350/500], Train Loss: 0.5779, Val Loss: 0.5779\n",
      "Epoch [355/500], Train Loss: 0.5779, Val Loss: 0.5779\n",
      "Epoch [360/500], Train Loss: 0.5779, Val Loss: 0.5779\n",
      "Epoch [365/500], Train Loss: 0.5779, Val Loss: 0.5779\n",
      "Epoch [370/500], Train Loss: 0.5779, Val Loss: 0.5779\n",
      "Epoch [375/500], Train Loss: 0.5779, Val Loss: 0.5779\n",
      "Epoch [380/500], Train Loss: 0.5779, Val Loss: 0.5779\n",
      "Epoch [385/500], Train Loss: 0.5779, Val Loss: 0.5779\n",
      "Epoch [390/500], Train Loss: 0.5779, Val Loss: 0.5779\n",
      "Epoch [395/500], Train Loss: 0.5779, Val Loss: 0.5779\n",
      "Epoch [400/500], Train Loss: 0.5779, Val Loss: 0.5779\n",
      "Epoch [405/500], Train Loss: 0.5779, Val Loss: 0.5779\n",
      "Epoch [410/500], Train Loss: 0.5779, Val Loss: 0.5779\n",
      "Epoch [415/500], Train Loss: 0.5779, Val Loss: 0.5779\n",
      "Epoch [420/500], Train Loss: 0.5779, Val Loss: 0.5779\n",
      "Epoch [425/500], Train Loss: 0.5779, Val Loss: 0.5779\n",
      "Epoch [430/500], Train Loss: 0.5779, Val Loss: 0.5779\n",
      "Epoch [435/500], Train Loss: 0.5779, Val Loss: 0.5779\n",
      "Epoch [440/500], Train Loss: 0.5779, Val Loss: 0.5779\n",
      "Epoch [445/500], Train Loss: 0.5779, Val Loss: 0.5779\n",
      "Epoch [450/500], Train Loss: 0.5779, Val Loss: 0.5779\n",
      "Epoch [455/500], Train Loss: 0.5779, Val Loss: 0.5779\n",
      "Epoch [460/500], Train Loss: 0.5779, Val Loss: 0.5779\n",
      "Epoch [465/500], Train Loss: 0.5779, Val Loss: 0.5779\n",
      "Epoch [470/500], Train Loss: 0.5779, Val Loss: 0.5779\n",
      "Epoch [475/500], Train Loss: 0.5779, Val Loss: 0.5779\n",
      "Epoch [480/500], Train Loss: 0.5779, Val Loss: 0.5779\n",
      "Epoch [485/500], Train Loss: 0.5779, Val Loss: 0.5779\n",
      "Epoch [490/500], Train Loss: 0.5779, Val Loss: 0.5779\n",
      "Epoch [495/500], Train Loss: 0.5779, Val Loss: 0.5779\n",
      "Epoch [500/500], Train Loss: 0.5779, Val Loss: 0.5779\n"
     ]
    }
   ],
   "source": [
    "# Training loop\n",
    "for epoch in range(num_epochs):\n",
    "    model.train()  # Set model to training mode\n",
    "    optimizer.zero_grad()\n",
    "    \n",
    "    # Forward pass (training)\n",
    "    outputs = model(train_data)\n",
    "    loss = criterion(outputs, train_labels)\n",
    "    \n",
    "    # Backward pass and optimization\n",
    "    loss.backward()\n",
    "    \n",
    "    # Clip gradients to prevent exploding gradients\n",
    "    torch.nn.utils.clip_grad_norm_(model.parameters(), max_norm=1.0)\n",
    "    \n",
    "    optimizer.step()\n",
    "\n",
    "    # Validation phase (no gradient calculations)\n",
    "    model.eval()  # Set model to evaluation mode\n",
    "    with torch.no_grad():  # Disable gradient calculation for validation\n",
    "        val_outputs = model(test_data)\n",
    "        val_loss = criterion(val_outputs, test_labels)\n",
    "\n",
    "    # Update learning rate if validation loss plateaus\n",
    "    scheduler.step(val_loss)\n",
    "\n",
    "    # Print loss every 5 epochs\n",
    "    if (epoch + 1) % 5 == 0:\n",
    "        print(f'Epoch [{epoch+1}/{num_epochs}], Train Loss: {loss.item():.4f}, Val Loss: {val_loss.item():.4f}')\n"
   ]
  },
  {
   "cell_type": "code",
   "execution_count": 14,
   "id": "3a261320",
   "metadata": {
    "execution": {
     "iopub.execute_input": "2024-10-03T14:07:32.802211Z",
     "iopub.status.busy": "2024-10-03T14:07:32.801609Z",
     "iopub.status.idle": "2024-10-03T14:07:32.813407Z",
     "shell.execute_reply": "2024-10-03T14:07:32.812638Z"
    },
    "papermill": {
     "duration": 0.033937,
     "end_time": "2024-10-03T14:07:32.815302",
     "exception": false,
     "start_time": "2024-10-03T14:07:32.781365",
     "status": "completed"
    },
    "tags": []
   },
   "outputs": [],
   "source": [
    "# After the training loop\n",
    "# torch.save(model.state_dict(), 'D:\\PythonProjs\\CLARAi\\Trained_model_weights\\lstm_bidi_model_state_dict_data_300_ep_200.pth')\n",
    "torch.save(model.state_dict(), '/kaggle/working/lstm_bidi_model_state_dict_data_300_ep_200.pth')\n",
    "# print(\"Model state_dict saved to 'lstm_unidi_model_state_dict.pth'\")"
   ]
  },
  {
   "cell_type": "code",
   "execution_count": 15,
   "id": "3b9516c8",
   "metadata": {
    "execution": {
     "iopub.execute_input": "2024-10-03T14:07:32.856015Z",
     "iopub.status.busy": "2024-10-03T14:07:32.855369Z",
     "iopub.status.idle": "2024-10-03T14:07:33.650092Z",
     "shell.execute_reply": "2024-10-03T14:07:33.648926Z"
    },
    "papermill": {
     "duration": 0.817566,
     "end_time": "2024-10-03T14:07:33.652162",
     "exception": false,
     "start_time": "2024-10-03T14:07:32.834596",
     "status": "completed"
    },
    "tags": []
   },
   "outputs": [
    {
     "name": "stdout",
     "output_type": "stream",
     "text": [
      "Accuracy: 91.44%\n",
      "Confusion Matrix:\n",
      "[[257659  16105]\n",
      " [ 14546  69834]]\n"
     ]
    },
    {
     "data": {
      "image/png": "[encoded data removed]",
      "text/plain": [
       "<Figure size 600x400 with 2 Axes>"
      ]
     },
     "metadata": {},
     "output_type": "display_data"
    }
   ],
   "source": [
    "\n",
    "model.eval()\n",
    "with torch.no_grad():\n",
    "    test_outputs = model(test_data)\n",
    "    predicted = (test_outputs > 0.5).float()  # Threshold at 0.5 for binary classification\n",
    "    \n",
    "    # Calculate accuracy\n",
    "    accuracy = (predicted == test_labels).float().mean()\n",
    "    print(f'Accuracy: {accuracy.item() * 100:.2f}%')\n",
    "\n",
    "    # Flatten the predicted and test labels for confusion matrix calculation\n",
    "    predicted_flat = predicted.cpu().numpy().flatten()\n",
    "    test_labels_flat = test_labels.cpu().numpy().flatten()\n",
    "\n",
    "    # Generate the confusion matrix\n",
    "    cm = confusion_matrix(test_labels_flat, predicted_flat)\n",
    "    print(f'Confusion Matrix:\\n{cm}')\n",
    "\n",
    "    # Optional: plot the confusion matrix for visualization\n",
    "    plt.figure(figsize=(6,4))\n",
    "    sns.heatmap(cm, annot=True, fmt=\"d\", cmap=\"Blues\", xticklabels=['No Pain', 'Pain'], yticklabels=['No Pain', 'Pain'])\n",
    "    plt.ylabel('True Label')\n",
    "    plt.xlabel('Predicted Label')\n",
    "    plt.title('Confusion Matrix')\n",
    "    plt.show()\n"
   ]
  },
  {
   "cell_type": "code",
   "execution_count": 16,
   "id": "daf7968a",
   "metadata": {
    "execution": {
     "iopub.execute_input": "2024-10-03T14:07:33.688946Z",
     "iopub.status.busy": "2024-10-03T14:07:33.688584Z",
     "iopub.status.idle": "2024-10-03T14:07:33.697695Z",
     "shell.execute_reply": "2024-10-03T14:07:33.696791Z"
    },
    "papermill": {
     "duration": 0.029782,
     "end_time": "2024-10-03T14:07:33.699718",
     "exception": false,
     "start_time": "2024-10-03T14:07:33.669936",
     "status": "completed"
    },
    "tags": []
   },
   "outputs": [],
   "source": [
    "def plot_roc_auc(model, test_data, test_labels):\n",
    "    model.eval()\n",
    "    with torch.no_grad():\n",
    "        # Get the raw logits (before applying sigmoid)\n",
    "        test_outputs = model(test_data)\n",
    "        \n",
    "        # Convert test_labels and test_outputs to NumPy arrays for sklearn\n",
    "        test_labels_flat = test_labels.cpu().numpy().flatten()\n",
    "        test_outputs_flat = test_outputs.cpu().numpy().flatten()\n",
    "\n",
    "        # Calculate the false positive rate, true positive rate, and thresholds for the ROC curve\n",
    "        fpr, tpr, thresholds = roc_curve(test_labels_flat, test_outputs_flat)\n",
    "        \n",
    "        # Calculate the AUC score\n",
    "        roc_auc = auc(fpr, tpr)\n",
    "        \n",
    "        # Plot ROC curve\n",
    "        plt.figure(figsize=(8,6))\n",
    "        plt.plot(fpr, tpr, color='blue', label=f'ROC Curve (AUC = {roc_auc:.2f})')\n",
    "        plt.plot([0, 1], [0, 1], color='grey', linestyle='--')  # Random classifier line\n",
    "        plt.xlim([0.0, 1.0])\n",
    "        plt.ylim([0.0, 1.05])\n",
    "        plt.xlabel('False Positive Rate (FPR)')\n",
    "        plt.ylabel('True Positive Rate (TPR)')\n",
    "        plt.title('Receiver Operating Characteristic (ROC)')\n",
    "        plt.legend(loc='lower right')\n",
    "        plt.show()\n",
    "\n",
    "    return roc_auc"
   ]
  },
  {
   "cell_type": "code",
   "execution_count": 17,
   "id": "d4a0f59c",
   "metadata": {
    "execution": {
     "iopub.execute_input": "2024-10-03T14:07:33.734991Z",
     "iopub.status.busy": "2024-10-03T14:07:33.734184Z",
     "iopub.status.idle": "2024-10-03T14:07:34.163074Z",
     "shell.execute_reply": "2024-10-03T14:07:34.162119Z"
    },
    "papermill": {
     "duration": 0.449032,
     "end_time": "2024-10-03T14:07:34.165850",
     "exception": false,
     "start_time": "2024-10-03T14:07:33.716818",
     "status": "completed"
    },
    "tags": []
   },
   "outputs": [
    {
     "name": "stderr",
     "output_type": "stream",
     "text": [
      "/opt/conda/lib/python3.10/site-packages/torch/nn/parallel/parallel_apply.py:79: FutureWarning: `torch.cuda.amp.autocast(args...)` is deprecated. Please use `torch.amp.autocast('cuda', args...)` instead.\n",
      "  with torch.cuda.device(device), torch.cuda.stream(stream), autocast(enabled=autocast_enabled):\n"
     ]
    },
    {
     "data": {
      "image/png": "[encoded data removed]",
      "text/plain": [
       "<Figure size 800x600 with 1 Axes>"
      ]
     },
     "metadata": {},
     "output_type": "display_data"
    },
    {
     "data": {
      "text/plain": [
       "0.9371123064064477"
      ]
     },
     "execution_count": 17,
     "metadata": {},
     "output_type": "execute_result"
    }
   ],
   "source": [
    "plot_roc_auc(model, test_data, test_labels)"
   ]
  },
  {
   "cell_type": "code",
   "execution_count": 18,
   "id": "bc6cf6db",
   "metadata": {
    "execution": {
     "iopub.execute_input": "2024-10-03T14:07:34.204278Z",
     "iopub.status.busy": "2024-10-03T14:07:34.203934Z",
     "iopub.status.idle": "2024-10-03T14:07:34.241006Z",
     "shell.execute_reply": "2024-10-03T14:07:34.240158Z"
    },
    "papermill": {
     "duration": 0.058835,
     "end_time": "2024-10-03T14:07:34.243105",
     "exception": false,
     "start_time": "2024-10-03T14:07:34.184270",
     "status": "completed"
    },
    "tags": []
   },
   "outputs": [],
   "source": [
    "# Test data evaluation\n",
    "\n",
    "# data_test = pd.read_csv('D:\\PythonProjs\\CLARAi\\Data_test\\data18.csv')\n",
    "# label_test = pd.read_csv('D:\\PythonProjs\\CLARAi\\Label_test\\label18.csv')\n",
    "\n",
    "data_test = pd.read_csv('/kaggle/input/CLARAi/Data_test/data18.csv')\n",
    "label_test = pd.read_csv('/kaggle/input/CLARAi/Label_test/label18.csv')\n",
    "\n",
    "data_test= data_test.to_numpy()\n",
    "label_test = label_test.to_numpy()\n",
    "\n",
    "sequence_length = 256\n",
    "input_size = 36\n",
    "\n",
    "\n",
    "# Calculate the number of complete sequences\n",
    "num_sequences = data_test.shape[0] // sequence_length  # 5 sequences\n",
    "\n",
    "# Truncate the data to have only complete sequences\n",
    "truncated_data = data_test[:num_sequences * sequence_length]  # Shape: (1280, 36)\n",
    "\n",
    "# Reshape to (num_sequences, sequence_length, input_size)\n",
    "test_sequences = truncated_data.reshape(num_sequences, sequence_length, input_size)  # Shape: (5, 256, 36)\n",
    "\n",
    "# Convert to PyTorch tensor\n",
    "test_sequences = torch.tensor(test_sequences, dtype=torch.float32)\n"
   ]
  },
  {
   "cell_type": "code",
   "execution_count": 19,
   "id": "1662e843",
   "metadata": {
    "execution": {
     "iopub.execute_input": "2024-10-03T14:07:34.282884Z",
     "iopub.status.busy": "2024-10-03T14:07:34.282199Z",
     "iopub.status.idle": "2024-10-03T14:07:34.318394Z",
     "shell.execute_reply": "2024-10-03T14:07:34.317333Z"
    },
    "papermill": {
     "duration": 0.056994,
     "end_time": "2024-10-03T14:07:34.320634",
     "exception": false,
     "start_time": "2024-10-03T14:07:34.263640",
     "status": "completed"
    },
    "tags": []
   },
   "outputs": [
    {
     "name": "stderr",
     "output_type": "stream",
     "text": [
      "/opt/conda/lib/python3.10/site-packages/torch/nn/parallel/parallel_apply.py:79: FutureWarning: `torch.cuda.amp.autocast(args...)` is deprecated. Please use `torch.amp.autocast('cuda', args...)` instead.\n",
      "  with torch.cuda.device(device), torch.cuda.stream(stream), autocast(enabled=autocast_enabled):\n"
     ]
    }
   ],
   "source": [
    "\n",
    "# Create DataLoader\n",
    "test_dataset = TensorDataset(test_sequences)\n",
    "test_loader = DataLoader(test_dataset, batch_size=2, shuffle=False)  # Adjust batch_size as needed\n",
    "\n",
    "# Perform inference\n",
    "all_outputs = []\n",
    "with torch.no_grad():\n",
    "    for batch in test_loader:\n",
    "        inputs = batch[0].to(device)  # (batch_size, 256, 36)\n",
    "        outputs = model(inputs)       # (batch_size, 256, 1)\n",
    "        all_outputs.append(outputs.cpu().numpy())\n",
    "\n",
    "# Concatenate all outputs\n",
    "all_outputs = np.concatenate(all_outputs, axis=0)  # Shape: (6, 256, 1)\n",
    "\n",
    "# Apply threshold to get binary predictions\n",
    "predictions = (all_outputs >= 0.5).astype(int)  # Shape: (6, 256, 1)\n",
    "predictions = predictions.squeeze(-1)           # Shape: (6, 256)\n",
    "# Flatten the predictions\n",
    "flattened_predictions = predictions.flatten()  # Shape: (1536,)\n",
    "\n",
    "true_label = label_test[:num_sequences * sequence_length].squeeze(-1)"
   ]
  },
  {
   "cell_type": "code",
   "execution_count": 20,
   "id": "6908801e",
   "metadata": {
    "execution": {
     "iopub.execute_input": "2024-10-03T14:07:34.359476Z",
     "iopub.status.busy": "2024-10-03T14:07:34.358472Z",
     "iopub.status.idle": "2024-10-03T14:07:34.651450Z",
     "shell.execute_reply": "2024-10-03T14:07:34.650462Z"
    },
    "papermill": {
     "duration": 0.314703,
     "end_time": "2024-10-03T14:07:34.653507",
     "exception": false,
     "start_time": "2024-10-03T14:07:34.338804",
     "status": "completed"
    },
    "tags": []
   },
   "outputs": [
    {
     "name": "stdout",
     "output_type": "stream",
     "text": [
      "Confusion Matrix:\n",
      "[[364 449]\n",
      " [ 93 118]]\n",
      "\n",
      "Classification Report:\n",
      "              precision    recall  f1-score   support\n",
      "\n",
      "           0       0.80      0.45      0.57       813\n",
      "           1       0.21      0.56      0.30       211\n",
      "\n",
      "    accuracy                           0.47      1024\n",
      "   macro avg       0.50      0.50      0.44      1024\n",
      "weighted avg       0.68      0.47      0.52      1024\n",
      "\n"
     ]
    },
    {
     "data": {
      "image/png": "[encoded data removed]",
      "text/plain": [
       "<Figure size 600x500 with 2 Axes>"
      ]
     },
     "metadata": {},
     "output_type": "display_data"
    }
   ],
   "source": [
    "cm = confusion_matrix(true_label, flattened_predictions)\n",
    "print(\"Confusion Matrix:\")\n",
    "print(cm)\n",
    "\n",
    "# Optional: Detailed classification report\n",
    "print(\"\\nClassification Report:\")\n",
    "print(classification_report(true_label, flattened_predictions))\n",
    "\n",
    "# Optional: Visualize the confusion matrix\n",
    "labels = ['Negative', 'Positive']\n",
    "cm_df = pd.DataFrame(cm, index=labels, columns=labels)\n",
    "\n",
    "plt.figure(figsize=(6,5))\n",
    "sns.heatmap(cm_df, annot=True, fmt='d', cmap='Blues')\n",
    "plt.ylabel('Actual')\n",
    "plt.xlabel('Predicted')\n",
    "plt.title('Confusion Matrix')\n",
    "plt.show()"
   ]
  }
 ],
 "metadata": {
  "kaggle": {
   "accelerator": "nvidiaTeslaT4",
   "dataSources": [
    {
     "datasetId": 5754676,
     "sourceId": 9534427,
     "sourceType": "datasetVersion"
    }
   ],
   "dockerImageVersionId": 30776,
   "isGpuEnabled": true,
   "isInternetEnabled": true,
   "language": "python",
   "sourceType": "notebook"
  },
  "kernelspec": {
   "display_name": "Python 3",
   "language": "python",
   "name": "python3"
  },
  "language_info": {
   "codemirror_mode": {
    "name": "ipython",
    "version": 3
   },
   "file_extension": ".py",
   "mimetype": "text/x-python",
   "name": "python",
   "nbconvert_exporter": "python",
   "pygments_lexer": "ipython3",
   "version": "3.10.14"
  },
  "papermill": {
   "default_parameters": {},
   "duration": 244.771305,
   "end_time": "2024-10-03T14:07:37.185632",
   "environment_variables": {},
   "exception": null,
   "input_path": "__notebook__.ipynb",
   "output_path": "__notebook__.ipynb",
   "parameters": {},
   "start_time": "2024-10-03T14:03:32.414327",
   "version": "2.6.0"
  }
 },
 "nbformat": 4,
 "nbformat_minor": 5
}
