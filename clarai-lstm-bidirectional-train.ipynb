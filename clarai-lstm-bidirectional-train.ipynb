{
 "cells": [
  {
   "cell_type": "code",
   "execution_count": 11,
   "id": "61b19013",
   "metadata": {
    "execution": {
     "iopub.execute_input": "2024-09-25T21:35:26.512191Z",
     "iopub.status.busy": "2024-09-25T21:35:26.511888Z",
     "iopub.status.idle": "2024-09-25T21:35:32.061902Z",
     "shell.execute_reply": "2024-09-25T21:35:32.060875Z"
    },
    "papermill": {
     "duration": 5.558988,
     "end_time": "2024-09-25T21:35:32.064334",
     "exception": false,
     "start_time": "2024-09-25T21:35:26.505346",
     "status": "completed"
    },
    "tags": []
   },
   "outputs": [],
   "source": [
    "\n",
    "from sklearn.model_selection import train_test_split\n",
    "from sklearn.preprocessing import StandardScaler\n",
    "from sklearn.utils.class_weight import compute_class_weight\n",
    "from sklearn.metrics import confusion_matrix\n",
    "from sklearn.metrics import roc_curve, auc\n",
    "\n",
    "import torch\n",
    "import torch.nn as nn\n",
    "import torch.optim as optim\n",
    "import pandas as pd\n",
    "import numpy as np\n",
    "import matplotlib.pyplot as plt\n",
    "import seaborn as sns\n",
    "\n",
    "import glob"
   ]
  },
  {
   "cell_type": "code",
   "execution_count": 12,
   "id": "ba329823",
   "metadata": {
    "execution": {
     "iopub.execute_input": "2024-09-25T21:35:32.076075Z",
     "iopub.status.busy": "2024-09-25T21:35:32.075657Z",
     "iopub.status.idle": "2024-09-25T21:35:32.153756Z",
     "shell.execute_reply": "2024-09-25T21:35:32.152866Z"
    },
    "papermill": {
     "duration": 0.086058,
     "end_time": "2024-09-25T21:35:32.155892",
     "exception": false,
     "start_time": "2024-09-25T21:35:32.069834",
     "status": "completed"
    },
    "tags": []
   },
   "outputs": [
    {
     "name": "stdout",
     "output_type": "stream",
     "text": [
      "cuda\n"
     ]
    }
   ],
   "source": [
    "# device = torch.device(\"mps\")\n",
    "device = torch.device(\"cuda\" if torch.cuda.is_available() else \"cpu\")\n",
    "print(device)"
   ]
  },
  {
   "cell_type": "code",
   "execution_count": 13,
   "id": "cc73c1e1",
   "metadata": {
    "execution": {
     "iopub.execute_input": "2024-09-25T21:35:32.167897Z",
     "iopub.status.busy": "2024-09-25T21:35:32.167124Z",
     "iopub.status.idle": "2024-09-25T21:35:32.174302Z",
     "shell.execute_reply": "2024-09-25T21:35:32.173506Z"
    },
    "papermill": {
     "duration": 0.015038,
     "end_time": "2024-09-25T21:35:32.176221",
     "exception": false,
     "start_time": "2024-09-25T21:35:32.161183",
     "status": "completed"
    },
    "tags": []
   },
   "outputs": [
    {
     "data": {
      "text/plain": [
       "'# Step 1: Get a list of all CSV file paths in the directory\\ndata_path = glob.glob(\"D:\\\\PythonProjs\\\\CLARAi\\\\Data\\\\*.csv\")  # Modify with your directory path\\nlabel_path = glob.glob(\"D:\\\\PythonProjs\\\\CLARAi\\\\Label\\\\*.csv\")\\n\\n# Step 2: Read each CSV file and store in a list of DataFrames\\ndatadfs = [pd.read_csv(file) for file in data_path]\\nlabeldfs = [pd.read_csv(file) for file in label_path]\\n\\n# Step 3: Concatenate all DataFrames into one\\nfinal_data_df = pd.concat(datadfs, ignore_index=True)\\nfinal_label_df = pd.concat(labeldfs, ignore_index=True)'"
      ]
     },
     "execution_count": 13,
     "metadata": {},
     "output_type": "execute_result"
    }
   ],
   "source": [
    "\"\"\"# Step 1: Get a list of all CSV file paths in the directory\n",
    "data_path = glob.glob(\"D:\\PythonProjs\\CLARAi\\Data\\*.csv\")  # Modify with your directory path\n",
    "label_path = glob.glob(\"D:\\PythonProjs\\CLARAi\\Label\\*.csv\")\n",
    "\n",
    "# Step 2: Read each CSV file and store in a list of DataFrames\n",
    "datadfs = [pd.read_csv(file) for file in data_path]\n",
    "labeldfs = [pd.read_csv(file) for file in label_path]\n",
    "\n",
    "# Step 3: Concatenate all DataFrames into one\n",
    "final_data_df = pd.concat(datadfs, ignore_index=True)\n",
    "final_label_df = pd.concat(labeldfs, ignore_index=True)\"\"\""
   ]
  },
  {
   "cell_type": "code",
   "execution_count": 14,
   "id": "43c323ff",
   "metadata": {
    "execution": {
     "iopub.execute_input": "2024-09-25T21:35:32.187742Z",
     "iopub.status.busy": "2024-09-25T21:35:32.187139Z",
     "iopub.status.idle": "2024-09-25T21:35:32.195407Z",
     "shell.execute_reply": "2024-09-25T21:35:32.194607Z"
    },
    "papermill": {
     "duration": 0.016024,
     "end_time": "2024-09-25T21:35:32.197341",
     "exception": false,
     "start_time": "2024-09-25T21:35:32.181317",
     "status": "completed"
    },
    "tags": []
   },
   "outputs": [],
   "source": [
    "def data_gen(data_path, label_path):\n",
    "    final_data_df = pd.read_csv(data_path)\n",
    "    final_label_df = pd.read_csv(label_path)\n",
    "\n",
    "    train_labels_flat = final_label_df.values.flatten()\n",
    "    \n",
    "    # Compute class weights (inverse of class frequencies)\n",
    "    class_weights = compute_class_weight(class_weight='balanced', classes=np.unique(train_labels_flat), y=train_labels_flat)\n",
    "    class_weights = torch.tensor(class_weights, dtype=torch.float32)\n",
    "\n",
    "    # Parameters\n",
    "    sequence_length = 256  # Length of each subsequence\n",
    "    num_subsequences = 100  # Number of subsequences to extract\n",
    "\n",
    "    # Get possible starting indices, ensuring there's enough space for a full subsequence\n",
    "    possible_starts = np.arange(0, len(final_data_df) - sequence_length + 1)\n",
    "    np.random.shuffle(possible_starts)\n",
    "\n",
    "    # Select the first `num_subsequences` starting indices\n",
    "    selected_starts = possible_starts[:num_subsequences]\n",
    "\n",
    "    # Create a list to hold the subsequences\n",
    "    subsequences = [final_data_df.iloc[start:start + sequence_length].values for start in selected_starts]\n",
    "    sublabels = [final_label_df.iloc[start:start + sequence_length].values for start in selected_starts]\n",
    "\n",
    "    # Convert subsequences list to a NumPy array\n",
    "    subsequences_array = np.array(subsequences)\n",
    "    sublabels_array = np.array(sublabels)\n",
    "\n",
    "    # subsequences_array will have shape (num_subsequences, sequence_length, num_channels)\n",
    "    # print(subsequences_array.shape)  # Should print (100, 100, 36)\n",
    "    # print(sublabels_array.shape)\n",
    "\n",
    "    return torch.from_numpy(subsequences_array), torch.from_numpy(sublabels_array), class_weights\n"
   ]
  },
  {
   "cell_type": "code",
   "execution_count": 15,
   "id": "7bb69574",
   "metadata": {
    "execution": {
     "iopub.execute_input": "2024-09-25T21:35:32.209894Z",
     "iopub.status.busy": "2024-09-25T21:35:32.209335Z",
     "iopub.status.idle": "2024-09-25T21:35:32.219748Z",
     "shell.execute_reply": "2024-09-25T21:35:32.218971Z"
    },
    "papermill": {
     "duration": 0.01846,
     "end_time": "2024-09-25T21:35:32.221715",
     "exception": false,
     "start_time": "2024-09-25T21:35:32.203255",
     "status": "completed"
    },
    "tags": []
   },
   "outputs": [],
   "source": [
    "\n",
    "# Sample time series data with shape (batch_size, sequence_length, num_features)\n",
    "# neuroimaging_data: Time series data from multiple neuroimaging channels\n",
    "# labels: Binary labels (0 = no pain, 1 = pain) for each time step\n",
    "# Assume neuroimaging_data is a numpy array of shape (num_samples, sequence_length, num_channels)\n",
    "# labels is a numpy array of shape (num_samples, sequence_length)\n",
    "\n",
    "class BidirectionalLSTMClassifier(nn.Module):\n",
    "    def __init__(self, input_size, hidden_size, output_size, num_layers=1):\n",
    "        super(BidirectionalLSTMClassifier, self).__init__()\n",
    "        self.hidden_size = hidden_size\n",
    "        self.num_layers = num_layers\n",
    "        self.lstm = nn.LSTM(input_size, hidden_size, num_layers, batch_first=True, bidirectional=True)\n",
    "        \n",
    "        # Adjust the fully connected layer to account for doubled hidden size (forward + backward)\n",
    "        self.fc = nn.Linear(hidden_size * 2, output_size)\n",
    "        self.batch_norm = nn.BatchNorm1d(hidden_size * 2)  # Adjust Batch Normalization for bidirectional\n",
    "        self.sigmoid = nn.Sigmoid()\n",
    "\n",
    "    def forward(self, x):\n",
    "        # Initialize hidden state and cell state with zeros for both directions\n",
    "        h0 = torch.zeros(self.num_layers * 2, x.size(0), self.hidden_size).to(x.device)  # *2 for bidirectional\n",
    "        c0 = torch.zeros(self.num_layers * 2, x.size(0), self.hidden_size).to(x.device)\n",
    "\n",
    "        # LSTM forward pass\n",
    "        out, _ = self.lstm(x, (h0, c0))\n",
    "        \n",
    "        # Apply batch normalization\n",
    "        # Permute to (batch_size, hidden_size*2, sequence_length) for batch norm\n",
    "        out = out.permute(0, 2, 1)\n",
    "        out = self.batch_norm(out)\n",
    "        \n",
    "        # Permute back to (batch_size, sequence_length, hidden_size*2)\n",
    "        out = out.permute(0, 2, 1)\n",
    "        \n",
    "        # Apply the linear layer to each time step\n",
    "        out = self.fc(out)\n",
    "        \n",
    "        return self.sigmoid(out)\n"
   ]
  },
  {
   "cell_type": "code",
   "execution_count": 16,
   "id": "e81a3dad",
   "metadata": {
    "execution": {
     "iopub.execute_input": "2024-09-25T21:35:32.233547Z",
     "iopub.status.busy": "2024-09-25T21:35:32.233010Z",
     "iopub.status.idle": "2024-09-25T21:35:32.253446Z",
     "shell.execute_reply": "2024-09-25T21:35:32.252740Z"
    },
    "papermill": {
     "duration": 0.028645,
     "end_time": "2024-09-25T21:35:32.255359",
     "exception": false,
     "start_time": "2024-09-25T21:35:32.226714",
     "status": "completed"
    },
    "tags": []
   },
   "outputs": [],
   "source": [
    "data_path = glob.glob(\"D:\\PythonProjs\\CLARAi\\Data_train\\*.csv\")  # Modify with your directory path\n",
    "label_path = glob.glob(\"D:\\PythonProjs\\CLARAi\\Label_train\\*.csv\")\n",
    "\n",
    "# data_path = glob.glob(\"/home/frank/Documents/CLARAi/Data/*.csv\")  # Modify with your directory path\n",
    "# label_path = glob.glob(\"/home/frank/Documents/CLARAi/Label/*.csv\")\n",
    "\n",
    "# data_path = glob.glob(\"/Users/xiaosuhu/Documents/Python/CLARAi/Data/*.csv\")  # Modify with your directory path\n",
    "# label_path = glob.glob(\"/Users/xiaosuhu/Documents/Python/CLARAi/Data/*.csv\")\n",
    "\n",
    "# data_path = glob.glob(\"/kaggle/input/clarai/CLARAi/Data/*.csv\")  # Modify with your directory path\n",
    "# label_path = glob.glob(\"/kaggle/input/clarai/CLARAi/Label/*.csv\")\n",
    "\n",
    "# Sort the lists\n",
    "data_path = sorted(data_path)\n",
    "label_path = sorted(label_path)\n"
   ]
  },
  {
   "cell_type": "code",
   "execution_count": 17,
   "id": "e5489623",
   "metadata": {
    "execution": {
     "iopub.execute_input": "2024-09-25T21:35:32.266908Z",
     "iopub.status.busy": "2024-09-25T21:35:32.266445Z",
     "iopub.status.idle": "2024-09-25T21:35:32.281831Z",
     "shell.execute_reply": "2024-09-25T21:35:32.281155Z"
    },
    "papermill": {
     "duration": 0.023176,
     "end_time": "2024-09-25T21:35:32.283795",
     "exception": false,
     "start_time": "2024-09-25T21:35:32.260619",
     "status": "completed"
    },
    "tags": []
   },
   "outputs": [],
   "source": [
    "\n",
    "# data_path = \"D:\\PythonProjs\\CLARAi\\Data\\data1.csv\"\n",
    "# label_path = \"D:\\PythonProjs\\CLARAi\\Label\\label1.csv\"\n",
    "neuroimaging_data = torch.empty(0,256,36)\n",
    "labels = torch.empty(0,256,1)\n",
    "class_weights = torch.Tensor([0., 0.])"
   ]
  },
  {
   "cell_type": "code",
   "execution_count": 18,
   "id": "9e1b6c48",
   "metadata": {
    "execution": {
     "iopub.execute_input": "2024-09-25T21:35:32.295733Z",
     "iopub.status.busy": "2024-09-25T21:35:32.295080Z",
     "iopub.status.idle": "2024-09-25T21:35:33.235242Z",
     "shell.execute_reply": "2024-09-25T21:35:33.234158Z"
    },
    "papermill": {
     "duration": 0.94842,
     "end_time": "2024-09-25T21:35:33.237573",
     "exception": false,
     "start_time": "2024-09-25T21:35:32.289153",
     "status": "completed"
    },
    "tags": []
   },
   "outputs": [
    {
     "name": "stdout",
     "output_type": "stream",
     "text": [
      "datapath: D:\\PythonProjs\\CLARAi\\Data_train\\data1.csv\n",
      "labelpath: D:\\PythonProjs\\CLARAi\\Label_train\\label1.csv\n",
      "Data shape: torch.Size([100, 256, 36]), Label shape: torch.Size([100, 256, 1]), Weight shape: torch.Size([2])\n",
      "datapath: D:\\PythonProjs\\CLARAi\\Data_train\\data10.csv\n",
      "labelpath: D:\\PythonProjs\\CLARAi\\Label_train\\label10.csv\n",
      "Data shape: torch.Size([100, 256, 36]), Label shape: torch.Size([100, 256, 1]), Weight shape: torch.Size([2])\n",
      "datapath: D:\\PythonProjs\\CLARAi\\Data_train\\data11.csv\n",
      "labelpath: D:\\PythonProjs\\CLARAi\\Label_train\\label11.csv\n",
      "Data shape: torch.Size([100, 256, 36]), Label shape: torch.Size([100, 256, 1]), Weight shape: torch.Size([2])\n",
      "datapath: D:\\PythonProjs\\CLARAi\\Data_train\\data12.csv\n",
      "labelpath: D:\\PythonProjs\\CLARAi\\Label_train\\label12.csv\n",
      "Data shape: torch.Size([100, 256, 36]), Label shape: torch.Size([100, 256, 1]), Weight shape: torch.Size([2])\n",
      "datapath: D:\\PythonProjs\\CLARAi\\Data_train\\data13.csv\n",
      "labelpath: D:\\PythonProjs\\CLARAi\\Label_train\\label13.csv\n",
      "Data shape: torch.Size([100, 256, 36]), Label shape: torch.Size([100, 256, 1]), Weight shape: torch.Size([2])\n",
      "datapath: D:\\PythonProjs\\CLARAi\\Data_train\\data16.csv\n",
      "labelpath: D:\\PythonProjs\\CLARAi\\Label_train\\label16.csv\n",
      "Data shape: torch.Size([100, 256, 36]), Label shape: torch.Size([100, 256, 1]), Weight shape: torch.Size([2])\n",
      "datapath: D:\\PythonProjs\\CLARAi\\Data_train\\data17.csv\n",
      "labelpath: D:\\PythonProjs\\CLARAi\\Label_train\\label17.csv\n",
      "Data shape: torch.Size([100, 256, 36]), Label shape: torch.Size([100, 256, 1]), Weight shape: torch.Size([2])\n",
      "datapath: D:\\PythonProjs\\CLARAi\\Data_train\\data3.csv\n",
      "labelpath: D:\\PythonProjs\\CLARAi\\Label_train\\label3.csv\n",
      "Data shape: torch.Size([100, 256, 36]), Label shape: torch.Size([100, 256, 1]), Weight shape: torch.Size([2])\n",
      "datapath: D:\\PythonProjs\\CLARAi\\Data_train\\data4.csv\n",
      "labelpath: D:\\PythonProjs\\CLARAi\\Label_train\\label4.csv\n",
      "Data shape: torch.Size([100, 256, 36]), Label shape: torch.Size([100, 256, 1]), Weight shape: torch.Size([2])\n",
      "datapath: D:\\PythonProjs\\CLARAi\\Data_train\\data5.csv\n",
      "labelpath: D:\\PythonProjs\\CLARAi\\Label_train\\label5.csv\n",
      "Data shape: torch.Size([100, 256, 36]), Label shape: torch.Size([100, 256, 1]), Weight shape: torch.Size([2])\n",
      "datapath: D:\\PythonProjs\\CLARAi\\Data_train\\data6.csv\n",
      "labelpath: D:\\PythonProjs\\CLARAi\\Label_train\\label6.csv\n",
      "Data shape: torch.Size([100, 256, 36]), Label shape: torch.Size([100, 256, 1]), Weight shape: torch.Size([2])\n",
      "datapath: D:\\PythonProjs\\CLARAi\\Data_train\\data7.csv\n",
      "labelpath: D:\\PythonProjs\\CLARAi\\Label_train\\label7.csv\n",
      "Data shape: torch.Size([100, 256, 36]), Label shape: torch.Size([100, 256, 1]), Weight shape: torch.Size([2])\n",
      "datapath: D:\\PythonProjs\\CLARAi\\Data_train\\data8.csv\n",
      "labelpath: D:\\PythonProjs\\CLARAi\\Label_train\\label8.csv\n",
      "Data shape: torch.Size([100, 256, 36]), Label shape: torch.Size([100, 256, 1]), Weight shape: torch.Size([2])\n",
      "datapath: D:\\PythonProjs\\CLARAi\\Data_train\\data9.csv\n",
      "labelpath: D:\\PythonProjs\\CLARAi\\Label_train\\label9.csv\n",
      "Data shape: torch.Size([100, 256, 36]), Label shape: torch.Size([100, 256, 1]), Weight shape: torch.Size([2])\n"
     ]
    }
   ],
   "source": [
    "\n",
    "for datapath, labelpath in zip(data_path, label_path):\n",
    "    print(f'datapath: {datapath}')\n",
    "    print(f'labelpath: {labelpath}')    \n",
    "    data, label, weight = data_gen(datapath, labelpath)\n",
    "    print(f'Data shape: {data.shape}, Label shape: {label.shape}, Weight shape: {weight.shape}')\n",
    "    neuroimaging_data= torch.cat([neuroimaging_data, data])\n",
    "    labels = torch.cat([labels, label])\n",
    "    class_weights += weight\n",
    "\n",
    "normalized_weights = class_weights / class_weights.sum()\n"
   ]
  },
  {
   "cell_type": "code",
   "execution_count": 19,
   "id": "55f2828f",
   "metadata": {
    "execution": {
     "iopub.execute_input": "2024-09-25T21:35:33.251166Z",
     "iopub.status.busy": "2024-09-25T21:35:33.250853Z",
     "iopub.status.idle": "2024-09-25T21:35:33.257490Z",
     "shell.execute_reply": "2024-09-25T21:35:33.256641Z"
    },
    "papermill": {
     "duration": 0.01567,
     "end_time": "2024-09-25T21:35:33.259557",
     "exception": false,
     "start_time": "2024-09-25T21:35:33.243887",
     "status": "completed"
    },
    "tags": []
   },
   "outputs": [
    {
     "data": {
      "text/plain": [
       "(torch.Size([1400, 256, 36]), torch.Size([1400, 256, 1]))"
      ]
     },
     "execution_count": 19,
     "metadata": {},
     "output_type": "execute_result"
    }
   ],
   "source": [
    "neuroimaging_data.shape, labels.shape"
   ]
  },
  {
   "cell_type": "code",
   "execution_count": 20,
   "id": "9e609b01",
   "metadata": {
    "execution": {
     "iopub.execute_input": "2024-09-25T21:35:33.273040Z",
     "iopub.status.busy": "2024-09-25T21:35:33.272482Z",
     "iopub.status.idle": "2024-09-25T21:35:33.288289Z",
     "shell.execute_reply": "2024-09-25T21:35:33.287236Z"
    },
    "papermill": {
     "duration": 0.024758,
     "end_time": "2024-09-25T21:35:33.290193",
     "exception": false,
     "start_time": "2024-09-25T21:35:33.265435",
     "status": "completed"
    },
    "tags": []
   },
   "outputs": [
    {
     "name": "stdout",
     "output_type": "stream",
     "text": [
      "Number of 0s: 274375Number of 1s: 84025 Ratio is 0.23444475446428573\n"
     ]
    }
   ],
   "source": [
    "# Count the number of 1s\n",
    "num_zeros = torch.sum(labels == 0).item()\n",
    "num_ones = torch.sum(labels == 1).item()\n",
    "\n",
    "print(f\"Number of 0s: {num_zeros}Number of 1s: {num_ones} Ratio is {num_ones/(num_ones + num_zeros)}\")"
   ]
  },
  {
   "cell_type": "code",
   "execution_count": 21,
   "id": "7982da98",
   "metadata": {
    "execution": {
     "iopub.execute_input": "2024-09-25T21:35:33.303652Z",
     "iopub.status.busy": "2024-09-25T21:35:33.303064Z",
     "iopub.status.idle": "2024-09-25T21:35:34.944564Z",
     "shell.execute_reply": "2024-09-25T21:35:34.943811Z"
    },
    "papermill": {
     "duration": 1.65059,
     "end_time": "2024-09-25T21:35:34.946860",
     "exception": false,
     "start_time": "2024-09-25T21:35:33.296270",
     "status": "completed"
    },
    "tags": []
   },
   "outputs": [
    {
     "name": "stderr",
     "output_type": "stream",
     "text": [
      "C:\\Users\\xiaos\\AppData\\Local\\Temp\\ipykernel_20920\\775949663.py:16: UserWarning: To copy construct from a tensor, it is recommended to use sourceTensor.clone().detach() or sourceTensor.clone().detach().requires_grad_(True), rather than torch.tensor(sourceTensor).\n",
      "  train_data, test_data = torch.tensor(train_data, dtype=torch.float32).to(device), torch.tensor(test_data, dtype=torch.float32).to(device)\n",
      "C:\\Users\\xiaos\\AppData\\Local\\Temp\\ipykernel_20920\\775949663.py:17: UserWarning: To copy construct from a tensor, it is recommended to use sourceTensor.clone().detach() or sourceTensor.clone().detach().requires_grad_(True), rather than torch.tensor(sourceTensor).\n",
      "  train_labels, test_labels = torch.tensor(train_labels, dtype=torch.float32).to(device), torch.tensor(test_labels, dtype=torch.float32).to(device)\n"
     ]
    }
   ],
   "source": [
    "# Hyperparameters\n",
    "input_size = neuroimaging_data.shape[2]  # Number of features (channels)\n",
    "hidden_size = 64  # Hidden state size of the GRU\n",
    "output_size = 1  # Binary classification\n",
    "num_layers = 5  # Number of GRU layers\n",
    "learning_rate = 0.001\n",
    "num_epochs = 200\n",
    "batch_size = 32\n",
    "\n",
    "# Preprocessing (e.g., normalization)\n",
    "# scaler = StandardScaler()\n",
    "# neuroimaging_data = scaler.fit_transform(neuroimaging_data.reshape(-1, input_size)).reshape(neuroimaging_data.shape)\n",
    "\n",
    "# Convert numpy arrays to PyTorch tensors\n",
    "train_data, test_data, train_labels, test_labels = train_test_split(neuroimaging_data, labels, test_size=0.2, random_state=42)\n",
    "train_data, test_data = torch.tensor(train_data, dtype=torch.float32).to(device), torch.tensor(test_data, dtype=torch.float32).to(device)\n",
    "train_labels, test_labels = torch.tensor(train_labels, dtype=torch.float32).to(device), torch.tensor(test_labels, dtype=torch.float32).to(device)\n",
    "\n",
    "\n",
    "# Create GRU model\n",
    "model = BidirectionalLSTMClassifier(input_size, hidden_size, output_size, num_layers).to(device)\n",
    "\n",
    "# Loss and optimizer\n",
    "# criterion = nn.BCELoss()  # Binary Cross Entropy Loss for binary classification\n",
    "\n",
    "\n",
    "# Convert the class weights to a tensor and move to the appropriate device\n",
    "class_weights = class_weights.to(device)\n",
    "\n",
    "# Use BCEWithLogitsLoss, which combines sigmoid activation and binary cross-entropy loss\n",
    "criterion = nn.BCEWithLogitsLoss(pos_weight=normalized_weights[0])  # pos_weight applies only to class 1\n",
    "\n",
    "# optimizer = optim.Adam(model.parameters(), lr=learning_rate)\n",
    "optimizer = optim.Adam(model.parameters(), lr=learning_rate, weight_decay=1e-5)\n",
    "scheduler = torch.optim.lr_scheduler.ReduceLROnPlateau(optimizer, mode='min', factor=0.1, patience=20)"
   ]
  },
  {
   "cell_type": "code",
   "execution_count": 22,
   "id": "a560c7b0",
   "metadata": {
    "execution": {
     "iopub.execute_input": "2024-09-25T21:35:34.961866Z",
     "iopub.status.busy": "2024-09-25T21:35:34.960976Z",
     "iopub.status.idle": "2024-09-25T21:37:36.151313Z",
     "shell.execute_reply": "2024-09-25T21:37:36.150234Z"
    },
    "papermill": {
     "duration": 121.213391,
     "end_time": "2024-09-25T21:37:36.166863",
     "exception": false,
     "start_time": "2024-09-25T21:35:34.953472",
     "status": "completed"
    },
    "tags": []
   },
   "outputs": [
    {
     "name": "stdout",
     "output_type": "stream",
     "text": [
      "Epoch [5/300], Train Loss: 0.6938, Val Loss: 0.7624\n",
      "Epoch [10/300], Train Loss: 0.6416, Val Loss: 0.7640\n",
      "Epoch [15/300], Train Loss: 0.6288, Val Loss: 0.7506\n",
      "Epoch [20/300], Train Loss: 0.6211, Val Loss: 0.7350\n",
      "Epoch [25/300], Train Loss: 0.6143, Val Loss: 0.7001\n",
      "Epoch [30/300], Train Loss: 0.6080, Val Loss: 0.6617\n",
      "Epoch [35/300], Train Loss: 0.6041, Val Loss: 0.6327\n",
      "Epoch [40/300], Train Loss: 0.6012, Val Loss: 0.6165\n",
      "Epoch [45/300], Train Loss: 0.5994, Val Loss: 0.6086\n",
      "Epoch [50/300], Train Loss: 0.5978, Val Loss: 0.6044\n",
      "Epoch [55/300], Train Loss: 0.5966, Val Loss: 0.6023\n",
      "Epoch [60/300], Train Loss: 0.5933, Val Loss: 0.5972\n",
      "Epoch [65/300], Train Loss: 0.5925, Val Loss: 0.5963\n",
      "Epoch [70/300], Train Loss: 0.5919, Val Loss: 0.5958\n",
      "Epoch [75/300], Train Loss: 0.5914, Val Loss: 0.5950\n",
      "Epoch [80/300], Train Loss: 0.5911, Val Loss: 0.5947\n",
      "Epoch [85/300], Train Loss: 0.5808, Val Loss: 0.5786\n",
      "Epoch [90/300], Train Loss: 0.5799, Val Loss: 0.5791\n",
      "Epoch [95/300], Train Loss: 0.5800, Val Loss: 0.5789\n",
      "Epoch [100/300], Train Loss: 0.5793, Val Loss: 0.5785\n",
      "Epoch [105/300], Train Loss: 0.5784, Val Loss: 0.5776\n",
      "Epoch [110/300], Train Loss: 0.5565, Val Loss: 0.5543\n",
      "Epoch [115/300], Train Loss: 0.5563, Val Loss: 0.5541\n",
      "Epoch [120/300], Train Loss: 0.5554, Val Loss: 0.5539\n",
      "Epoch [125/300], Train Loss: 0.5546, Val Loss: 0.5536\n",
      "Epoch [130/300], Train Loss: 0.5541, Val Loss: 0.5533\n",
      "Epoch [135/300], Train Loss: 0.5537, Val Loss: 0.5532\n",
      "Epoch [140/300], Train Loss: 0.5535, Val Loss: 0.5530\n",
      "Epoch [145/300], Train Loss: 0.5532, Val Loss: 0.5528\n",
      "Epoch [150/300], Train Loss: 0.5531, Val Loss: 0.5526\n",
      "Epoch [155/300], Train Loss: 0.5529, Val Loss: 0.5524\n",
      "Epoch [160/300], Train Loss: 0.5528, Val Loss: 0.5523\n",
      "Epoch [165/300], Train Loss: 0.5527, Val Loss: 0.5522\n",
      "Epoch [170/300], Train Loss: 0.5527, Val Loss: 0.5521\n",
      "Epoch [175/300], Train Loss: 0.5526, Val Loss: 0.5521\n",
      "Epoch [180/300], Train Loss: 0.5525, Val Loss: 0.5520\n",
      "Epoch [185/300], Train Loss: 0.5525, Val Loss: 0.5519\n",
      "Epoch [190/300], Train Loss: 0.5525, Val Loss: 0.5519\n",
      "Epoch [195/300], Train Loss: 0.5524, Val Loss: 0.5518\n",
      "Epoch [200/300], Train Loss: 0.5524, Val Loss: 0.5518\n",
      "Epoch [205/300], Train Loss: 0.5524, Val Loss: 0.5518\n",
      "Epoch [210/300], Train Loss: 0.5523, Val Loss: 0.5518\n",
      "Epoch [215/300], Train Loss: 0.5523, Val Loss: 0.5518\n",
      "Epoch [220/300], Train Loss: 0.5523, Val Loss: 0.5518\n",
      "Epoch [225/300], Train Loss: 0.5523, Val Loss: 0.5517\n",
      "Epoch [230/300], Train Loss: 0.5523, Val Loss: 0.5517\n",
      "Epoch [235/300], Train Loss: 0.5522, Val Loss: 0.5517\n",
      "Epoch [240/300], Train Loss: 0.5522, Val Loss: 0.5517\n",
      "Epoch [245/300], Train Loss: 0.5522, Val Loss: 0.5517\n",
      "Epoch [250/300], Train Loss: 0.5522, Val Loss: 0.5516\n",
      "Epoch [255/300], Train Loss: 0.5522, Val Loss: 0.5516\n",
      "Epoch [260/300], Train Loss: 0.5522, Val Loss: 0.5516\n",
      "Epoch [265/300], Train Loss: 0.5521, Val Loss: 0.5516\n",
      "Epoch [270/300], Train Loss: 0.5521, Val Loss: 0.5516\n",
      "Epoch [275/300], Train Loss: 0.5521, Val Loss: 0.5516\n",
      "Epoch [280/300], Train Loss: 0.5521, Val Loss: 0.5516\n",
      "Epoch [285/300], Train Loss: 0.5521, Val Loss: 0.5516\n",
      "Epoch [290/300], Train Loss: 0.5521, Val Loss: 0.5516\n",
      "Epoch [295/300], Train Loss: 0.5521, Val Loss: 0.5516\n",
      "Epoch [300/300], Train Loss: 0.5521, Val Loss: 0.5516\n"
     ]
    }
   ],
   "source": [
    "# Training loop\n",
    "for epoch in range(num_epochs):\n",
    "    model.train()  # Set model to training mode\n",
    "    optimizer.zero_grad()\n",
    "    \n",
    "    # Forward pass (training)\n",
    "    outputs = model(train_data)\n",
    "    loss = criterion(outputs, train_labels)\n",
    "    \n",
    "    # Backward pass and optimization\n",
    "    loss.backward()\n",
    "    \n",
    "    # Clip gradients to prevent exploding gradients\n",
    "    torch.nn.utils.clip_grad_norm_(model.parameters(), max_norm=1.0)\n",
    "    \n",
    "    optimizer.step()\n",
    "\n",
    "    # Validation phase (no gradient calculations)\n",
    "    model.eval()  # Set model to evaluation mode\n",
    "    with torch.no_grad():  # Disable gradient calculation for validation\n",
    "        val_outputs = model(test_data)\n",
    "        val_loss = criterion(val_outputs, test_labels)\n",
    "\n",
    "    # Update learning rate if validation loss plateaus\n",
    "    scheduler.step(val_loss)\n",
    "\n",
    "    # Print loss every 5 epochs\n",
    "    if (epoch + 1) % 5 == 0:\n",
    "        print(f'Epoch [{epoch+1}/{num_epochs}], Train Loss: {loss.item():.4f}, Val Loss: {val_loss.item():.4f}')\n"
   ]
  },
  {
   "cell_type": "code",
   "execution_count": 23,
   "id": "1b562284",
   "metadata": {},
   "outputs": [
    {
     "name": "stdout",
     "output_type": "stream",
     "text": [
      "Model state_dict saved to 'lstm_unidi_model_state_dict.pth'\n"
     ]
    }
   ],
   "source": [
    "# After the training loop\n",
    "torch.save(model.state_dict(), 'D:\\PythonProjs\\CLARAi\\Trained_model_weights\\lstm_bidi_model_state_dict_ep_200.pth')\n",
    "print(\"Model state_dict saved to 'lstm_unidi_model_state_dict.pth'\")"
   ]
  },
  {
   "cell_type": "code",
   "execution_count": 24,
   "id": "78f25548",
   "metadata": {
    "execution": {
     "iopub.execute_input": "2024-09-25T21:37:36.196134Z",
     "iopub.status.busy": "2024-09-25T21:37:36.195802Z",
     "iopub.status.idle": "2024-09-25T21:37:36.610614Z",
     "shell.execute_reply": "2024-09-25T21:37:36.609729Z"
    },
    "papermill": {
     "duration": 0.431808,
     "end_time": "2024-09-25T21:37:36.612833",
     "exception": false,
     "start_time": "2024-09-25T21:37:36.181025",
     "status": "completed"
    },
    "tags": []
   },
   "outputs": [
    {
     "name": "stdout",
     "output_type": "stream",
     "text": [
      "Accuracy: 93.40%\n",
      "Confusion Matrix:\n",
      "[[54726    34]\n",
      " [ 4697 12223]]\n"
     ]
    },
    {
     "data": {
      "image/png": "[encoded data removed]",
      "text/plain": [
       "<Figure size 600x400 with 2 Axes>"
      ]
     },
     "metadata": {},
     "output_type": "display_data"
    }
   ],
   "source": [
    "\n",
    "model.eval()\n",
    "with torch.no_grad():\n",
    "    test_outputs = model(test_data)\n",
    "    predicted = (test_outputs > 0.5).float()  # Threshold at 0.5 for binary classification\n",
    "    \n",
    "    # Calculate accuracy\n",
    "    accuracy = (predicted == test_labels).float().mean()\n",
    "    print(f'Accuracy: {accuracy.item() * 100:.2f}%')\n",
    "\n",
    "    # Flatten the predicted and test labels for confusion matrix calculation\n",
    "    predicted_flat = predicted.cpu().numpy().flatten()\n",
    "    test_labels_flat = test_labels.cpu().numpy().flatten()\n",
    "\n",
    "    # Generate the confusion matrix\n",
    "    cm = confusion_matrix(test_labels_flat, predicted_flat)\n",
    "    print(f'Confusion Matrix:\\n{cm}')\n",
    "\n",
    "    # Optional: plot the confusion matrix for visualization\n",
    "    plt.figure(figsize=(6,4))\n",
    "    sns.heatmap(cm, annot=True, fmt=\"d\", cmap=\"Blues\", xticklabels=['No Pain', 'Pain'], yticklabels=['No Pain', 'Pain'])\n",
    "    plt.ylabel('True Label')\n",
    "    plt.xlabel('Predicted Label')\n",
    "    plt.title('Confusion Matrix')\n",
    "    plt.show()\n"
   ]
  },
  {
   "cell_type": "code",
   "execution_count": 25,
   "id": "5405a3ff",
   "metadata": {
    "execution": {
     "iopub.execute_input": "2024-09-25T21:37:36.643061Z",
     "iopub.status.busy": "2024-09-25T21:37:36.642750Z",
     "iopub.status.idle": "2024-09-25T21:37:36.651286Z",
     "shell.execute_reply": "2024-09-25T21:37:36.650346Z"
    },
    "papermill": {
     "duration": 0.025814,
     "end_time": "2024-09-25T21:37:36.653230",
     "exception": false,
     "start_time": "2024-09-25T21:37:36.627416",
     "status": "completed"
    },
    "tags": []
   },
   "outputs": [],
   "source": [
    "def plot_roc_auc(model, test_data, test_labels):\n",
    "    model.eval()\n",
    "    with torch.no_grad():\n",
    "        # Get the raw logits (before applying sigmoid)\n",
    "        test_outputs = model(test_data)\n",
    "        \n",
    "        # Convert test_labels and test_outputs to NumPy arrays for sklearn\n",
    "        test_labels_flat = test_labels.cpu().numpy().flatten()\n",
    "        test_outputs_flat = test_outputs.cpu().numpy().flatten()\n",
    "\n",
    "        # Calculate the false positive rate, true positive rate, and thresholds for the ROC curve\n",
    "        fpr, tpr, thresholds = roc_curve(test_labels_flat, test_outputs_flat)\n",
    "        \n",
    "        # Calculate the AUC score\n",
    "        roc_auc = auc(fpr, tpr)\n",
    "        \n",
    "        # Plot ROC curve\n",
    "        plt.figure(figsize=(8,6))\n",
    "        plt.plot(fpr, tpr, color='blue', label=f'ROC Curve (AUC = {roc_auc:.2f})')\n",
    "        plt.plot([0, 1], [0, 1], color='grey', linestyle='--')  # Random classifier line\n",
    "        plt.xlim([0.0, 1.0])\n",
    "        plt.ylim([0.0, 1.05])\n",
    "        plt.xlabel('False Positive Rate (FPR)')\n",
    "        plt.ylabel('True Positive Rate (TPR)')\n",
    "        plt.title('Receiver Operating Characteristic (ROC)')\n",
    "        plt.legend(loc='lower right')\n",
    "        plt.show()\n",
    "\n",
    "    return roc_auc"
   ]
  },
  {
   "cell_type": "code",
   "execution_count": 26,
   "id": "640794e3",
   "metadata": {
    "execution": {
     "iopub.execute_input": "2024-09-25T21:37:36.682837Z",
     "iopub.status.busy": "2024-09-25T21:37:36.682322Z",
     "iopub.status.idle": "2024-09-25T21:37:36.996461Z",
     "shell.execute_reply": "2024-09-25T21:37:36.995546Z"
    },
    "papermill": {
     "duration": 0.331089,
     "end_time": "2024-09-25T21:37:36.998434",
     "exception": false,
     "start_time": "2024-09-25T21:37:36.667345",
     "status": "completed"
    },
    "tags": []
   },
   "outputs": [
    {
     "data": {
      "image/png": "[encoded data removed]",
      "text/plain": [
       "<Figure size 800x600 with 1 Axes>"
      ]
     },
     "metadata": {},
     "output_type": "display_data"
    },
    {
     "data": {
      "text/plain": [
       "0.9605020278688694"
      ]
     },
     "execution_count": 26,
     "metadata": {},
     "output_type": "execute_result"
    }
   ],
   "source": [
    "plot_roc_auc(model, test_data, test_labels)"
   ]
  },
  {
   "cell_type": "code",
   "execution_count": null,
   "id": "cc924c10",
   "metadata": {
    "papermill": {
     "duration": 0.01482,
     "end_time": "2024-09-25T21:37:37.028501",
     "exception": false,
     "start_time": "2024-09-25T21:37:37.013681",
     "status": "completed"
    },
    "tags": []
   },
   "outputs": [],
   "source": []
  }
 ],
 "metadata": {
  "kaggle": {
   "accelerator": "gpu",
   "dataSources": [
    {
     "datasetId": 5754676,
     "sourceId": 9480039,
     "sourceType": "datasetVersion"
    }
   ],
   "dockerImageVersionId": 30762,
   "isGpuEnabled": true,
   "isInternetEnabled": true,
   "language": "python",
   "sourceType": "notebook"
  },
  "kernelspec": {
   "display_name": "Python 3",
   "language": "python",
   "name": "python3"
  },
  "language_info": {
   "codemirror_mode": {
    "name": "ipython",
    "version": 3
   },
   "file_extension": ".py",
   "mimetype": "text/x-python",
   "name": "python",
   "nbconvert_exporter": "python",
   "pygments_lexer": "ipython3",
   "version": "3.10.14"
  },
  "papermill": {
   "default_parameters": {},
   "duration": 134.592431,
   "end_time": "2024-09-25T21:37:38.364028",
   "environment_variables": {},
   "exception": null,
   "input_path": "__notebook__.ipynb",
   "output_path": "__notebook__.ipynb",
   "parameters": {},
   "start_time": "2024-09-25T21:35:23.771597",
   "version": "2.6.0"
  }
 },
 "nbformat": 4,
 "nbformat_minor": 5
}
