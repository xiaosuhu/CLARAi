{
 "cells": [
  {
   "cell_type": "code",
   "execution_count": 1,
   "id": "61181401",
   "metadata": {
    "execution": {
     "iopub.execute_input": "2024-10-02T21:04:07.529897Z",
     "iopub.status.busy": "2024-10-02T21:04:07.529514Z",
     "iopub.status.idle": "2024-10-02T21:04:13.108919Z",
     "shell.execute_reply": "2024-10-02T21:04:13.108069Z"
    },
    "papermill": {
     "duration": 5.590179,
     "end_time": "2024-10-02T21:04:13.111235",
     "exception": false,
     "start_time": "2024-10-02T21:04:07.521056",
     "status": "completed"
    },
    "tags": []
   },
   "outputs": [],
   "source": [
    "from sklearn.model_selection import train_test_split\n",
    "from sklearn.preprocessing import StandardScaler\n",
    "from sklearn.utils.class_weight import compute_class_weight\n",
    "from sklearn.metrics import confusion_matrix, classification_report, roc_curve, auc\n",
    "from torch.utils.data import DataLoader, TensorDataset\n",
    "\n",
    "import torch\n",
    "import torch.nn as nn\n",
    "import torch.optim as optim\n",
    "import pandas as pd\n",
    "import numpy as np\n",
    "import matplotlib.pyplot as plt\n",
    "import seaborn as sns\n",
    "\n",
    "import glob"
   ]
  },
  {
   "cell_type": "code",
   "execution_count": 2,
   "id": "a9fc21a0",
   "metadata": {
    "execution": {
     "iopub.execute_input": "2024-10-02T21:04:13.125727Z",
     "iopub.status.busy": "2024-10-02T21:04:13.125237Z",
     "iopub.status.idle": "2024-10-02T21:04:13.189642Z",
     "shell.execute_reply": "2024-10-02T21:04:13.188642Z"
    },
    "papermill": {
     "duration": 0.074555,
     "end_time": "2024-10-02T21:04:13.192270",
     "exception": false,
     "start_time": "2024-10-02T21:04:13.117715",
     "status": "completed"
    },
    "tags": []
   },
   "outputs": [
    {
     "name": "stdout",
     "output_type": "stream",
     "text": [
      "cuda\n"
     ]
    }
   ],
   "source": [
    "# device = torch.device(\"mps\")\n",
    "device = torch.device(\"cuda\" if torch.cuda.is_available() else \"cpu\")\n",
    "print(device)"
   ]
  },
  {
   "cell_type": "code",
   "execution_count": 3,
   "id": "346b6724",
   "metadata": {
    "execution": {
     "iopub.execute_input": "2024-10-02T21:04:13.206314Z",
     "iopub.status.busy": "2024-10-02T21:04:13.205961Z",
     "iopub.status.idle": "2024-10-02T21:04:13.213353Z",
     "shell.execute_reply": "2024-10-02T21:04:13.212504Z"
    },
    "papermill": {
     "duration": 0.016775,
     "end_time": "2024-10-02T21:04:13.215363",
     "exception": false,
     "start_time": "2024-10-02T21:04:13.198588",
     "status": "completed"
    },
    "tags": []
   },
   "outputs": [
    {
     "data": {
      "text/plain": [
       "'# Step 1: Get a list of all CSV file paths in the directory\\ndata_path = glob.glob(\"D:\\\\PythonProjs\\\\CLARAi\\\\Data\\\\*.csv\")  # Modify with your directory path\\nlabel_path = glob.glob(\"D:\\\\PythonProjs\\\\CLARAi\\\\Label\\\\*.csv\")\\n\\n# Step 2: Read each CSV file and store in a list of DataFrames\\ndatadfs = [pd.read_csv(file) for file in data_path]\\nlabeldfs = [pd.read_csv(file) for file in label_path]\\n\\n# Step 3: Concatenate all DataFrames into one\\nfinal_data_df = pd.concat(datadfs, ignore_index=True)\\nfinal_label_df = pd.concat(labeldfs, ignore_index=True)'"
      ]
     },
     "execution_count": 3,
     "metadata": {},
     "output_type": "execute_result"
    }
   ],
   "source": [
    "\"\"\"# Step 1: Get a list of all CSV file paths in the directory\n",
    "data_path = glob.glob(\"D:\\PythonProjs\\CLARAi\\Data\\*.csv\")  # Modify with your directory path\n",
    "label_path = glob.glob(\"D:\\PythonProjs\\CLARAi\\Label\\*.csv\")\n",
    "\n",
    "# Step 2: Read each CSV file and store in a list of DataFrames\n",
    "datadfs = [pd.read_csv(file) for file in data_path]\n",
    "labeldfs = [pd.read_csv(file) for file in label_path]\n",
    "\n",
    "# Step 3: Concatenate all DataFrames into one\n",
    "final_data_df = pd.concat(datadfs, ignore_index=True)\n",
    "final_label_df = pd.concat(labeldfs, ignore_index=True)\"\"\""
   ]
  },
  {
   "cell_type": "code",
   "execution_count": 4,
   "id": "eb39ff7c",
   "metadata": {
    "execution": {
     "iopub.execute_input": "2024-10-02T21:04:13.229416Z",
     "iopub.status.busy": "2024-10-02T21:04:13.229085Z",
     "iopub.status.idle": "2024-10-02T21:04:13.237731Z",
     "shell.execute_reply": "2024-10-02T21:04:13.236968Z"
    },
    "papermill": {
     "duration": 0.017841,
     "end_time": "2024-10-02T21:04:13.239553",
     "exception": false,
     "start_time": "2024-10-02T21:04:13.221712",
     "status": "completed"
    },
    "tags": []
   },
   "outputs": [],
   "source": [
    "def data_gen(data_path, label_path):\n",
    "    final_data_df = pd.read_csv(data_path)\n",
    "    final_label_df = pd.read_csv(label_path)\n",
    "\n",
    "    train_labels_flat = final_label_df.values.flatten()\n",
    "    \n",
    "    # Compute class weights (inverse of class frequencies)\n",
    "    class_weights = compute_class_weight(class_weight='balanced', classes=np.unique(train_labels_flat), y=train_labels_flat)\n",
    "    class_weights = torch.tensor(class_weights, dtype=torch.float32)\n",
    "\n",
    "    # Parameters\n",
    "    sequence_length = 256  # Length of each subsequence\n",
    "    num_subsequences = 500  # Number of subsequences to extract\n",
    "\n",
    "    # Get possible starting indices, ensuring there's enough space for a full subsequence\n",
    "    possible_starts = np.arange(0, len(final_data_df) - sequence_length + 1)\n",
    "    np.random.shuffle(possible_starts)\n",
    "\n",
    "    # Select the first `num_subsequences` starting indices\n",
    "    selected_starts = possible_starts[:num_subsequences]\n",
    "\n",
    "    # Create a list to hold the subsequences\n",
    "    subsequences = [final_data_df.iloc[start:start + sequence_length].values for start in selected_starts]\n",
    "    sublabels = [final_label_df.iloc[start:start + sequence_length].values for start in selected_starts]\n",
    "\n",
    "    # Convert subsequences list to a NumPy array\n",
    "    subsequences_array = np.array(subsequences)\n",
    "    sublabels_array = np.array(sublabels)\n",
    "\n",
    "    # subsequences_array will have shape (num_subsequences, sequence_length, num_channels)\n",
    "    # print(subsequences_array.shape)  # Should print (100, 100, 36)\n",
    "    # print(sublabels_array.shape)\n",
    "\n",
    "    return torch.from_numpy(subsequences_array), torch.from_numpy(sublabels_array), class_weights\n"
   ]
  },
  {
   "cell_type": "code",
   "execution_count": 5,
   "id": "b5b6d059",
   "metadata": {
    "execution": {
     "iopub.execute_input": "2024-10-02T21:04:13.254410Z",
     "iopub.status.busy": "2024-10-02T21:04:13.254086Z",
     "iopub.status.idle": "2024-10-02T21:04:13.263940Z",
     "shell.execute_reply": "2024-10-02T21:04:13.263169Z"
    },
    "papermill": {
     "duration": 0.020141,
     "end_time": "2024-10-02T21:04:13.265891",
     "exception": false,
     "start_time": "2024-10-02T21:04:13.245750",
     "status": "completed"
    },
    "tags": []
   },
   "outputs": [],
   "source": [
    "\n",
    "# Sample time series data with shape (batch_size, sequence_length, num_features)\n",
    "# neuroimaging_data: Time series data from multiple neuroimaging channels\n",
    "# labels: Binary labels (0 = no pain, 1 = pain) for each time step\n",
    "# Assume neuroimaging_data is a numpy array of shape (num_samples, sequence_length, num_channels)\n",
    "# labels is a numpy array of shape (num_samples, sequence_length)\n",
    "\n",
    "class BidirectionalLSTMClassifier(nn.Module):\n",
    "    def __init__(self, input_size, hidden_size, output_size, num_layers=1):\n",
    "        super(BidirectionalLSTMClassifier, self).__init__()\n",
    "        self.hidden_size = hidden_size\n",
    "        self.num_layers = num_layers\n",
    "        self.lstm = nn.LSTM(input_size, hidden_size, num_layers, batch_first=True, bidirectional=True)\n",
    "        \n",
    "        # Adjust the fully connected layer to account for doubled hidden size (forward + backward)\n",
    "        self.fc = nn.Linear(hidden_size * 2, output_size)\n",
    "        self.batch_norm = nn.BatchNorm1d(hidden_size * 2)  # Adjust Batch Normalization for bidirectional\n",
    "        self.sigmoid = nn.Sigmoid()\n",
    "\n",
    "    def forward(self, x):\n",
    "        # Initialize hidden state and cell state with zeros for both directions\n",
    "        h0 = torch.zeros(self.num_layers * 2, x.size(0), self.hidden_size).to(x.device)  # *2 for bidirectional\n",
    "        c0 = torch.zeros(self.num_layers * 2, x.size(0), self.hidden_size).to(x.device)\n",
    "\n",
    "        # LSTM forward pass\n",
    "        out, _ = self.lstm(x, (h0, c0))\n",
    "        \n",
    "        # Apply batch normalization\n",
    "        # Permute to (batch_size, hidden_size*2, sequence_length) for batch norm\n",
    "        out = out.permute(0, 2, 1)\n",
    "        out = self.batch_norm(out)\n",
    "        \n",
    "        # Permute back to (batch_size, sequence_length, hidden_size*2)\n",
    "        out = out.permute(0, 2, 1)\n",
    "        \n",
    "        # Apply the linear layer to each time step\n",
    "        out = self.fc(out)\n",
    "        \n",
    "        return self.sigmoid(out)\n"
   ]
  },
  {
   "cell_type": "code",
   "execution_count": 6,
   "id": "75b2a10a",
   "metadata": {
    "execution": {
     "iopub.execute_input": "2024-10-02T21:04:13.279909Z",
     "iopub.status.busy": "2024-10-02T21:04:13.279565Z",
     "iopub.status.idle": "2024-10-02T21:04:13.295642Z",
     "shell.execute_reply": "2024-10-02T21:04:13.294816Z"
    },
    "papermill": {
     "duration": 0.025467,
     "end_time": "2024-10-02T21:04:13.297668",
     "exception": false,
     "start_time": "2024-10-02T21:04:13.272201",
     "status": "completed"
    },
    "tags": []
   },
   "outputs": [],
   "source": [
    "# data_path = glob.glob(\"D:\\PythonProjs\\CLARAi\\Data_train\\*.csv\")  # Modify with your directory path\n",
    "# label_path = glob.glob(\"D:\\PythonProjs\\CLARAi\\Label_train\\*.csv\")\n",
    "\n",
    "# data_path = glob.glob(\"/home/frank/Documents/CLARAi/Data/*.csv\")  # Modify with your directory path\n",
    "# label_path = glob.glob(\"/home/frank/Documents/CLARAi/Label/*.csv\")\n",
    "\n",
    "# data_path = glob.glob(\"/Users/xiaosuhu/Documents/Python/CLARAi/Data/*.csv\")  # Modify with your directory path\n",
    "# label_path = glob.glob(\"/Users/xiaosuhu/Documents/Python/CLARAi/Data/*.csv\")\n",
    "\n",
    "data_path = glob.glob(\"/kaggle/input/CLARAi/Data_train/*.csv\")  # Modify with your directory path\n",
    "label_path = glob.glob(\"/kaggle/input/CLARAi/Label_train/*.csv\")\n",
    "\n",
    "# Sort the lists\n",
    "data_path = sorted(data_path)\n",
    "label_path = sorted(label_path)\n"
   ]
  },
  {
   "cell_type": "code",
   "execution_count": 7,
   "id": "069866e0",
   "metadata": {
    "execution": {
     "iopub.execute_input": "2024-10-02T21:04:13.311692Z",
     "iopub.status.busy": "2024-10-02T21:04:13.311244Z",
     "iopub.status.idle": "2024-10-02T21:04:13.319798Z",
     "shell.execute_reply": "2024-10-02T21:04:13.318253Z"
    },
    "papermill": {
     "duration": 0.018989,
     "end_time": "2024-10-02T21:04:13.323058",
     "exception": false,
     "start_time": "2024-10-02T21:04:13.304069",
     "status": "completed"
    },
    "tags": []
   },
   "outputs": [
    {
     "data": {
      "text/plain": [
       "['/kaggle/input/CLARAi/Data_train/data1.csv',\n",
       " '/kaggle/input/CLARAi/Data_train/data10.csv',\n",
       " '/kaggle/input/CLARAi/Data_train/data11.csv',\n",
       " '/kaggle/input/CLARAi/Data_train/data12.csv',\n",
       " '/kaggle/input/CLARAi/Data_train/data13.csv',\n",
       " '/kaggle/input/CLARAi/Data_train/data16.csv',\n",
       " '/kaggle/input/CLARAi/Data_train/data17.csv',\n",
       " '/kaggle/input/CLARAi/Data_train/data3.csv',\n",
       " '/kaggle/input/CLARAi/Data_train/data4.csv',\n",
       " '/kaggle/input/CLARAi/Data_train/data5.csv',\n",
       " '/kaggle/input/CLARAi/Data_train/data6.csv',\n",
       " '/kaggle/input/CLARAi/Data_train/data7.csv',\n",
       " '/kaggle/input/CLARAi/Data_train/data8.csv',\n",
       " '/kaggle/input/CLARAi/Data_train/data9.csv']"
      ]
     },
     "execution_count": 7,
     "metadata": {},
     "output_type": "execute_result"
    }
   ],
   "source": [
    "data_path"
   ]
  },
  {
   "cell_type": "code",
   "execution_count": 8,
   "id": "732211ff",
   "metadata": {
    "execution": {
     "iopub.execute_input": "2024-10-02T21:04:13.341561Z",
     "iopub.status.busy": "2024-10-02T21:04:13.341071Z",
     "iopub.status.idle": "2024-10-02T21:04:13.358640Z",
     "shell.execute_reply": "2024-10-02T21:04:13.357867Z"
    },
    "papermill": {
     "duration": 0.029395,
     "end_time": "2024-10-02T21:04:13.360716",
     "exception": false,
     "start_time": "2024-10-02T21:04:13.331321",
     "status": "completed"
    },
    "tags": []
   },
   "outputs": [],
   "source": [
    "\n",
    "# data_path = \"D:\\PythonProjs\\CLARAi\\Data\\data1.csv\"\n",
    "# label_path = \"D:\\PythonProjs\\CLARAi\\Label\\label1.csv\"\n",
    "neuroimaging_data = torch.empty(0,256,36)\n",
    "labels = torch.empty(0,256,1)\n",
    "class_weights = torch.Tensor([0., 0.])"
   ]
  },
  {
   "cell_type": "code",
   "execution_count": 9,
   "id": "607182c8",
   "metadata": {
    "execution": {
     "iopub.execute_input": "2024-10-02T21:04:13.374848Z",
     "iopub.status.busy": "2024-10-02T21:04:13.374522Z",
     "iopub.status.idle": "2024-10-02T21:04:16.001886Z",
     "shell.execute_reply": "2024-10-02T21:04:16.000980Z"
    },
    "papermill": {
     "duration": 2.63721,
     "end_time": "2024-10-02T21:04:16.004444",
     "exception": false,
     "start_time": "2024-10-02T21:04:13.367234",
     "status": "completed"
    },
    "tags": []
   },
   "outputs": [
    {
     "name": "stdout",
     "output_type": "stream",
     "text": [
      "datapath: /kaggle/input/CLARAi/Data_train/data1.csv\n",
      "labelpath: /kaggle/input/CLARAi/Label_train/label1.csv\n",
      "Data shape: torch.Size([500, 256, 36]), Label shape: torch.Size([500, 256, 1]), Weight shape: torch.Size([2])\n",
      "datapath: /kaggle/input/CLARAi/Data_train/data10.csv\n",
      "labelpath: /kaggle/input/CLARAi/Label_train/label10.csv\n",
      "Data shape: torch.Size([500, 256, 36]), Label shape: torch.Size([500, 256, 1]), Weight shape: torch.Size([2])\n",
      "datapath: /kaggle/input/CLARAi/Data_train/data11.csv\n",
      "labelpath: /kaggle/input/CLARAi/Label_train/label11.csv\n",
      "Data shape: torch.Size([500, 256, 36]), Label shape: torch.Size([500, 256, 1]), Weight shape: torch.Size([2])\n",
      "datapath: /kaggle/input/CLARAi/Data_train/data12.csv\n",
      "labelpath: /kaggle/input/CLARAi/Label_train/label12.csv\n",
      "Data shape: torch.Size([495, 256, 36]), Label shape: torch.Size([495, 256, 1]), Weight shape: torch.Size([2])\n",
      "datapath: /kaggle/input/CLARAi/Data_train/data13.csv\n",
      "labelpath: /kaggle/input/CLARAi/Label_train/label13.csv\n",
      "Data shape: torch.Size([500, 256, 36]), Label shape: torch.Size([500, 256, 1]), Weight shape: torch.Size([2])\n",
      "datapath: /kaggle/input/CLARAi/Data_train/data16.csv\n",
      "labelpath: /kaggle/input/CLARAi/Label_train/label16.csv\n",
      "Data shape: torch.Size([500, 256, 36]), Label shape: torch.Size([500, 256, 1]), Weight shape: torch.Size([2])\n",
      "datapath: /kaggle/input/CLARAi/Data_train/data17.csv\n",
      "labelpath: /kaggle/input/CLARAi/Label_train/label17.csv\n",
      "Data shape: torch.Size([500, 256, 36]), Label shape: torch.Size([500, 256, 1]), Weight shape: torch.Size([2])\n",
      "datapath: /kaggle/input/CLARAi/Data_train/data3.csv\n",
      "labelpath: /kaggle/input/CLARAi/Label_train/label3.csv\n",
      "Data shape: torch.Size([500, 256, 36]), Label shape: torch.Size([500, 256, 1]), Weight shape: torch.Size([2])\n",
      "datapath: /kaggle/input/CLARAi/Data_train/data4.csv\n",
      "labelpath: /kaggle/input/CLARAi/Label_train/label4.csv\n",
      "Data shape: torch.Size([500, 256, 36]), Label shape: torch.Size([500, 256, 1]), Weight shape: torch.Size([2])\n",
      "datapath: /kaggle/input/CLARAi/Data_train/data5.csv\n",
      "labelpath: /kaggle/input/CLARAi/Label_train/label5.csv\n",
      "Data shape: torch.Size([500, 256, 36]), Label shape: torch.Size([500, 256, 1]), Weight shape: torch.Size([2])\n",
      "datapath: /kaggle/input/CLARAi/Data_train/data6.csv\n",
      "labelpath: /kaggle/input/CLARAi/Label_train/label6.csv\n",
      "Data shape: torch.Size([500, 256, 36]), Label shape: torch.Size([500, 256, 1]), Weight shape: torch.Size([2])\n",
      "datapath: /kaggle/input/CLARAi/Data_train/data7.csv\n",
      "labelpath: /kaggle/input/CLARAi/Label_train/label7.csv\n",
      "Data shape: torch.Size([500, 256, 36]), Label shape: torch.Size([500, 256, 1]), Weight shape: torch.Size([2])\n",
      "datapath: /kaggle/input/CLARAi/Data_train/data8.csv\n",
      "labelpath: /kaggle/input/CLARAi/Label_train/label8.csv\n",
      "Data shape: torch.Size([500, 256, 36]), Label shape: torch.Size([500, 256, 1]), Weight shape: torch.Size([2])\n",
      "datapath: /kaggle/input/CLARAi/Data_train/data9.csv\n",
      "labelpath: /kaggle/input/CLARAi/Label_train/label9.csv\n",
      "Data shape: torch.Size([500, 256, 36]), Label shape: torch.Size([500, 256, 1]), Weight shape: torch.Size([2])\n"
     ]
    }
   ],
   "source": [
    "\n",
    "for datapath, labelpath in zip(data_path, label_path):\n",
    "    print(f'datapath: {datapath}')\n",
    "    print(f'labelpath: {labelpath}')    \n",
    "    data, label, weight = data_gen(datapath, labelpath)\n",
    "    print(f'Data shape: {data.shape}, Label shape: {label.shape}, Weight shape: {weight.shape}')\n",
    "    neuroimaging_data= torch.cat([neuroimaging_data, data])\n",
    "    labels = torch.cat([labels, label])\n",
    "    class_weights += weight\n",
    "\n",
    "normalized_weights = class_weights / class_weights.sum()\n"
   ]
  },
  {
   "cell_type": "code",
   "execution_count": 10,
   "id": "fc30b82c",
   "metadata": {
    "execution": {
     "iopub.execute_input": "2024-10-02T21:04:16.026266Z",
     "iopub.status.busy": "2024-10-02T21:04:16.025859Z",
     "iopub.status.idle": "2024-10-02T21:04:16.032528Z",
     "shell.execute_reply": "2024-10-02T21:04:16.031549Z"
    },
    "papermill": {
     "duration": 0.019568,
     "end_time": "2024-10-02T21:04:16.034530",
     "exception": false,
     "start_time": "2024-10-02T21:04:16.014962",
     "status": "completed"
    },
    "tags": []
   },
   "outputs": [
    {
     "data": {
      "text/plain": [
       "(torch.Size([6995, 256, 36]), torch.Size([6995, 256, 1]))"
      ]
     },
     "execution_count": 10,
     "metadata": {},
     "output_type": "execute_result"
    }
   ],
   "source": [
    "neuroimaging_data.shape, labels.shape"
   ]
  },
  {
   "cell_type": "code",
   "execution_count": 11,
   "id": "7b6a005b",
   "metadata": {
    "execution": {
     "iopub.execute_input": "2024-10-02T21:04:16.052589Z",
     "iopub.status.busy": "2024-10-02T21:04:16.051800Z",
     "iopub.status.idle": "2024-10-02T21:04:16.090726Z",
     "shell.execute_reply": "2024-10-02T21:04:16.089576Z"
    },
    "papermill": {
     "duration": 0.050033,
     "end_time": "2024-10-02T21:04:16.092766",
     "exception": false,
     "start_time": "2024-10-02T21:04:16.042733",
     "status": "completed"
    },
    "tags": []
   },
   "outputs": [
    {
     "name": "stdout",
     "output_type": "stream",
     "text": [
      "Number of 0s: 1368107Number of 1s: 422613 Ratio is 0.23600171997855612\n"
     ]
    }
   ],
   "source": [
    "# Count the number of 1s\n",
    "num_zeros = torch.sum(labels == 0).item()\n",
    "num_ones = torch.sum(labels == 1).item()\n",
    "\n",
    "print(f\"Number of 0s: {num_zeros}Number of 1s: {num_ones} Ratio is {num_ones/(num_ones + num_zeros)}\")"
   ]
  },
  {
   "cell_type": "code",
   "execution_count": 12,
   "id": "fcffeb71",
   "metadata": {
    "execution": {
     "iopub.execute_input": "2024-10-02T21:04:16.111005Z",
     "iopub.status.busy": "2024-10-02T21:04:16.110307Z",
     "iopub.status.idle": "2024-10-02T21:04:18.064858Z",
     "shell.execute_reply": "2024-10-02T21:04:18.064030Z"
    },
    "papermill": {
     "duration": 1.966211,
     "end_time": "2024-10-02T21:04:18.067240",
     "exception": false,
     "start_time": "2024-10-02T21:04:16.101029",
     "status": "completed"
    },
    "tags": []
   },
   "outputs": [
    {
     "name": "stderr",
     "output_type": "stream",
     "text": [
      "/tmp/ipykernel_24/3917486050.py:16: UserWarning: To copy construct from a tensor, it is recommended to use sourceTensor.clone().detach() or sourceTensor.clone().detach().requires_grad_(True), rather than torch.tensor(sourceTensor).\n",
      "  train_data, test_data = torch.tensor(train_data, dtype=torch.float32).to(device), torch.tensor(test_data, dtype=torch.float32).to(device)\n",
      "/tmp/ipykernel_24/3917486050.py:17: UserWarning: To copy construct from a tensor, it is recommended to use sourceTensor.clone().detach() or sourceTensor.clone().detach().requires_grad_(True), rather than torch.tensor(sourceTensor).\n",
      "  train_labels, test_labels = torch.tensor(train_labels, dtype=torch.float32).to(device), torch.tensor(test_labels, dtype=torch.float32).to(device)\n"
     ]
    }
   ],
   "source": [
    "# Hyperparameters\n",
    "input_size = neuroimaging_data.shape[2]  # Number of features (channels)\n",
    "hidden_size = 16  # Hidden state size of the GRU\n",
    "output_size = 1  # Binary classification\n",
    "num_layers = 5  # Number of GRU layers\n",
    "learning_rate = 0.001\n",
    "num_epochs = 10\n",
    "batch_size = 8\n",
    "\n",
    "# Preprocessing (e.g., normalization)\n",
    "# scaler = StandardScaler()\n",
    "# neuroimaging_data = scaler.fit_transform(neuroimaging_data.reshape(-1, input_size)).reshape(neuroimaging_data.shape)\n",
    "\n",
    "# Convert numpy arrays to PyTorch tensors\n",
    "train_data, test_data, train_labels, test_labels = train_test_split(neuroimaging_data, labels, test_size=0.2, random_state=42)\n",
    "train_data, test_data = torch.tensor(train_data, dtype=torch.float32).to(device), torch.tensor(test_data, dtype=torch.float32).to(device)\n",
    "train_labels, test_labels = torch.tensor(train_labels, dtype=torch.float32).to(device), torch.tensor(test_labels, dtype=torch.float32).to(device)\n",
    "\n",
    "\n",
    "# Create GRU model\n",
    "model = BidirectionalLSTMClassifier(input_size, hidden_size, output_size, num_layers).to(device)\n",
    "\n",
    "# Loss and optimizer\n",
    "# criterion = nn.BCELoss()  # Binary Cross Entropy Loss for binary classification\n",
    "\n",
    "\n",
    "# Convert the class weights to a tensor and move to the appropriate device\n",
    "class_weights = class_weights.to(device)\n",
    "\n",
    "# Use BCEWithLogitsLoss, which combines sigmoid activation and binary cross-entropy loss\n",
    "criterion = nn.BCEWithLogitsLoss(pos_weight=normalized_weights[0])  # pos_weight applies only to class 1\n",
    "\n",
    "# optimizer = optim.Adam(model.parameters(), lr=learning_rate)\n",
    "optimizer = optim.Adam(model.parameters(), lr=learning_rate, weight_decay=1e-5)\n",
    "scheduler = torch.optim.lr_scheduler.ReduceLROnPlateau(optimizer, mode='min', factor=0.1, patience=20)"
   ]
  },
  {
   "cell_type": "code",
   "execution_count": 13,
   "id": "cb58f81b",
   "metadata": {
    "execution": {
     "iopub.execute_input": "2024-10-02T21:04:18.086737Z",
     "iopub.status.busy": "2024-10-02T21:04:18.086172Z",
     "iopub.status.idle": "2024-10-02T21:04:21.650689Z",
     "shell.execute_reply": "2024-10-02T21:04:21.649682Z"
    },
    "papermill": {
     "duration": 3.576423,
     "end_time": "2024-10-02T21:04:21.652948",
     "exception": false,
     "start_time": "2024-10-02T21:04:18.076525",
     "status": "completed"
    },
    "tags": []
   },
   "outputs": [
    {
     "name": "stdout",
     "output_type": "stream",
     "text": [
      "Epoch [5/10], Train Loss: 0.7726, Val Loss: 0.7712\n",
      "Epoch [10/10], Train Loss: 0.7525, Val Loss: 0.7668\n"
     ]
    }
   ],
   "source": [
    "# Training loop\n",
    "for epoch in range(num_epochs):\n",
    "    model.train()  # Set model to training mode\n",
    "    optimizer.zero_grad()\n",
    "    \n",
    "    # Forward pass (training)\n",
    "    outputs = model(train_data)\n",
    "    loss = criterion(outputs, train_labels)\n",
    "    \n",
    "    # Backward pass and optimization\n",
    "    loss.backward()\n",
    "    \n",
    "    # Clip gradients to prevent exploding gradients\n",
    "    torch.nn.utils.clip_grad_norm_(model.parameters(), max_norm=1.0)\n",
    "    \n",
    "    optimizer.step()\n",
    "\n",
    "    # Validation phase (no gradient calculations)\n",
    "    model.eval()  # Set model to evaluation mode\n",
    "    with torch.no_grad():  # Disable gradient calculation for validation\n",
    "        val_outputs = model(test_data)\n",
    "        val_loss = criterion(val_outputs, test_labels)\n",
    "\n",
    "    # Update learning rate if validation loss plateaus\n",
    "    scheduler.step(val_loss)\n",
    "\n",
    "    # Print loss every 5 epochs\n",
    "    if (epoch + 1) % 5 == 0:\n",
    "        print(f'Epoch [{epoch+1}/{num_epochs}], Train Loss: {loss.item():.4f}, Val Loss: {val_loss.item():.4f}')\n"
   ]
  },
  {
   "cell_type": "code",
   "execution_count": 14,
   "id": "6843cccc",
   "metadata": {
    "execution": {
     "iopub.execute_input": "2024-10-02T21:04:21.672027Z",
     "iopub.status.busy": "2024-10-02T21:04:21.671170Z",
     "iopub.status.idle": "2024-10-02T21:04:21.682731Z",
     "shell.execute_reply": "2024-10-02T21:04:21.681821Z"
    },
    "papermill": {
     "duration": 0.023065,
     "end_time": "2024-10-02T21:04:21.684818",
     "exception": false,
     "start_time": "2024-10-02T21:04:21.661753",
     "status": "completed"
    },
    "tags": []
   },
   "outputs": [],
   "source": [
    "# After the training loop\n",
    "# torch.save(model.state_dict(), 'D:\\PythonProjs\\CLARAi\\Trained_model_weights\\lstm_bidi_model_state_dict_data_300_ep_200.pth')\n",
    "torch.save(model.state_dict(), '/kaggle/working/lstm_bidi_model_state_dict_data_300_ep_200.pth')\n",
    "# print(\"Model state_dict saved to 'lstm_unidi_model_state_dict.pth'\")"
   ]
  },
  {
   "cell_type": "code",
   "execution_count": 15,
   "id": "fdfccd0b",
   "metadata": {
    "execution": {
     "iopub.execute_input": "2024-10-02T21:04:21.706292Z",
     "iopub.status.busy": "2024-10-02T21:04:21.705953Z",
     "iopub.status.idle": "2024-10-02T21:04:22.364678Z",
     "shell.execute_reply": "2024-10-02T21:04:22.363772Z"
    },
    "papermill": {
     "duration": 0.671742,
     "end_time": "2024-10-02T21:04:22.366635",
     "exception": false,
     "start_time": "2024-10-02T21:04:21.694893",
     "status": "completed"
    },
    "tags": []
   },
   "outputs": [
    {
     "name": "stdout",
     "output_type": "stream",
     "text": [
      "Accuracy: 65.32%\n",
      "Confusion Matrix:\n",
      "[[194118  78900]\n",
      " [ 45315  39811]]\n"
     ]
    },
    {
     "data": {
      "image/png": "[encoded data removed]",
      "text/plain": [
       "<Figure size 600x400 with 2 Axes>"
      ]
     },
     "metadata": {},
     "output_type": "display_data"
    }
   ],
   "source": [
    "\n",
    "model.eval()\n",
    "with torch.no_grad():\n",
    "    test_outputs = model(test_data)\n",
    "    predicted = (test_outputs > 0.5).float()  # Threshold at 0.5 for binary classification\n",
    "    \n",
    "    # Calculate accuracy\n",
    "    accuracy = (predicted == test_labels).float().mean()\n",
    "    print(f'Accuracy: {accuracy.item() * 100:.2f}%')\n",
    "\n",
    "    # Flatten the predicted and test labels for confusion matrix calculation\n",
    "    predicted_flat = predicted.cpu().numpy().flatten()\n",
    "    test_labels_flat = test_labels.cpu().numpy().flatten()\n",
    "\n",
    "    # Generate the confusion matrix\n",
    "    cm = confusion_matrix(test_labels_flat, predicted_flat)\n",
    "    print(f'Confusion Matrix:\\n{cm}')\n",
    "\n",
    "    # Optional: plot the confusion matrix for visualization\n",
    "    plt.figure(figsize=(6,4))\n",
    "    sns.heatmap(cm, annot=True, fmt=\"d\", cmap=\"Blues\", xticklabels=['No Pain', 'Pain'], yticklabels=['No Pain', 'Pain'])\n",
    "    plt.ylabel('True Label')\n",
    "    plt.xlabel('Predicted Label')\n",
    "    plt.title('Confusion Matrix')\n",
    "    plt.show()\n"
   ]
  },
  {
   "cell_type": "code",
   "execution_count": 16,
   "id": "a18a754a",
   "metadata": {
    "execution": {
     "iopub.execute_input": "2024-10-02T21:04:22.386223Z",
     "iopub.status.busy": "2024-10-02T21:04:22.385871Z",
     "iopub.status.idle": "2024-10-02T21:04:22.394402Z",
     "shell.execute_reply": "2024-10-02T21:04:22.393651Z"
    },
    "papermill": {
     "duration": 0.020393,
     "end_time": "2024-10-02T21:04:22.396260",
     "exception": false,
     "start_time": "2024-10-02T21:04:22.375867",
     "status": "completed"
    },
    "tags": []
   },
   "outputs": [],
   "source": [
    "def plot_roc_auc(model, test_data, test_labels):\n",
    "    model.eval()\n",
    "    with torch.no_grad():\n",
    "        # Get the raw logits (before applying sigmoid)\n",
    "        test_outputs = model(test_data)\n",
    "        \n",
    "        # Convert test_labels and test_outputs to NumPy arrays for sklearn\n",
    "        test_labels_flat = test_labels.cpu().numpy().flatten()\n",
    "        test_outputs_flat = test_outputs.cpu().numpy().flatten()\n",
    "\n",
    "        # Calculate the false positive rate, true positive rate, and thresholds for the ROC curve\n",
    "        fpr, tpr, thresholds = roc_curve(test_labels_flat, test_outputs_flat)\n",
    "        \n",
    "        # Calculate the AUC score\n",
    "        roc_auc = auc(fpr, tpr)\n",
    "        \n",
    "        # Plot ROC curve\n",
    "        plt.figure(figsize=(8,6))\n",
    "        plt.plot(fpr, tpr, color='blue', label=f'ROC Curve (AUC = {roc_auc:.2f})')\n",
    "        plt.plot([0, 1], [0, 1], color='grey', linestyle='--')  # Random classifier line\n",
    "        plt.xlim([0.0, 1.0])\n",
    "        plt.ylim([0.0, 1.05])\n",
    "        plt.xlabel('False Positive Rate (FPR)')\n",
    "        plt.ylabel('True Positive Rate (TPR)')\n",
    "        plt.title('Receiver Operating Characteristic (ROC)')\n",
    "        plt.legend(loc='lower right')\n",
    "        plt.show()\n",
    "\n",
    "    return roc_auc"
   ]
  },
  {
   "cell_type": "code",
   "execution_count": 17,
   "id": "17295cc6",
   "metadata": {
    "execution": {
     "iopub.execute_input": "2024-10-02T21:04:22.415520Z",
     "iopub.status.busy": "2024-10-02T21:04:22.415180Z",
     "iopub.status.idle": "2024-10-02T21:04:22.799628Z",
     "shell.execute_reply": "2024-10-02T21:04:22.798445Z"
    },
    "papermill": {
     "duration": 0.396818,
     "end_time": "2024-10-02T21:04:22.802036",
     "exception": false,
     "start_time": "2024-10-02T21:04:22.405218",
     "status": "completed"
    },
    "tags": []
   },
   "outputs": [
    {
     "data": {
      "image/png": "[encoded data removed]",
      "text/plain": [
       "<Figure size 800x600 with 1 Axes>"
      ]
     },
     "metadata": {},
     "output_type": "display_data"
    },
    {
     "data": {
      "text/plain": [
       "0.6319363565115965"
      ]
     },
     "execution_count": 17,
     "metadata": {},
     "output_type": "execute_result"
    }
   ],
   "source": [
    "plot_roc_auc(model, test_data, test_labels)"
   ]
  },
  {
   "cell_type": "code",
   "execution_count": 18,
   "id": "b7b79dbf",
   "metadata": {
    "execution": {
     "iopub.execute_input": "2024-10-02T21:04:22.828601Z",
     "iopub.status.busy": "2024-10-02T21:04:22.828171Z",
     "iopub.status.idle": "2024-10-02T21:04:22.863615Z",
     "shell.execute_reply": "2024-10-02T21:04:22.862631Z"
    },
    "papermill": {
     "duration": 0.052926,
     "end_time": "2024-10-02T21:04:22.866057",
     "exception": false,
     "start_time": "2024-10-02T21:04:22.813131",
     "status": "completed"
    },
    "tags": []
   },
   "outputs": [],
   "source": [
    "# Test data evaluation\n",
    "\n",
    "# data_test = pd.read_csv('D:\\PythonProjs\\CLARAi\\Data_test\\data18.csv')\n",
    "# label_test = pd.read_csv('D:\\PythonProjs\\CLARAi\\Label_test\\label18.csv')\n",
    "\n",
    "data_test = pd.read_csv('/kaggle/input/CLARAi/Data_test/data18.csv')\n",
    "label_test = pd.read_csv('/kaggle/input/CLARAi/Label_test/label18.csv')\n",
    "\n",
    "data_test= data_test.to_numpy()\n",
    "label_test = label_test.to_numpy()\n",
    "\n",
    "sequence_length = 256\n",
    "input_size = 36\n",
    "\n",
    "\n",
    "# Calculate the number of complete sequences\n",
    "num_sequences = data_test.shape[0] // sequence_length  # 5 sequences\n",
    "\n",
    "# Truncate the data to have only complete sequences\n",
    "truncated_data = data_test[:num_sequences * sequence_length]  # Shape: (1280, 36)\n",
    "\n",
    "# Reshape to (num_sequences, sequence_length, input_size)\n",
    "test_sequences = truncated_data.reshape(num_sequences, sequence_length, input_size)  # Shape: (5, 256, 36)\n",
    "\n",
    "# Convert to PyTorch tensor\n",
    "test_sequences = torch.tensor(test_sequences, dtype=torch.float32)\n"
   ]
  },
  {
   "cell_type": "code",
   "execution_count": 19,
   "id": "3b87e595",
   "metadata": {
    "execution": {
     "iopub.execute_input": "2024-10-02T21:04:22.891744Z",
     "iopub.status.busy": "2024-10-02T21:04:22.890959Z",
     "iopub.status.idle": "2024-10-02T21:04:22.907319Z",
     "shell.execute_reply": "2024-10-02T21:04:22.906508Z"
    },
    "papermill": {
     "duration": 0.03092,
     "end_time": "2024-10-02T21:04:22.909403",
     "exception": false,
     "start_time": "2024-10-02T21:04:22.878483",
     "status": "completed"
    },
    "tags": []
   },
   "outputs": [],
   "source": [
    "\n",
    "# Create DataLoader\n",
    "test_dataset = TensorDataset(test_sequences)\n",
    "test_loader = DataLoader(test_dataset, batch_size=2, shuffle=False)  # Adjust batch_size as needed\n",
    "\n",
    "# Perform inference\n",
    "all_outputs = []\n",
    "with torch.no_grad():\n",
    "    for batch in test_loader:\n",
    "        inputs = batch[0].to(device)  # (batch_size, 256, 36)\n",
    "        outputs = model(inputs)       # (batch_size, 256, 1)\n",
    "        all_outputs.append(outputs.cpu().numpy())\n",
    "\n",
    "# Concatenate all outputs\n",
    "all_outputs = np.concatenate(all_outputs, axis=0)  # Shape: (6, 256, 1)\n",
    "\n",
    "# Apply threshold to get binary predictions\n",
    "predictions = (all_outputs >= 0.5).astype(int)  # Shape: (6, 256, 1)\n",
    "predictions = predictions.squeeze(-1)           # Shape: (6, 256)\n",
    "# Flatten the predictions\n",
    "flattened_predictions = predictions.flatten()  # Shape: (1536,)\n",
    "\n",
    "true_label = label_test[:num_sequences * sequence_length].squeeze(-1)"
   ]
  },
  {
   "cell_type": "code",
   "execution_count": 20,
   "id": "6d405831",
   "metadata": {
    "execution": {
     "iopub.execute_input": "2024-10-02T21:04:22.930817Z",
     "iopub.status.busy": "2024-10-02T21:04:22.930476Z",
     "iopub.status.idle": "2024-10-02T21:04:23.220481Z",
     "shell.execute_reply": "2024-10-02T21:04:23.219527Z"
    },
    "papermill": {
     "duration": 0.303159,
     "end_time": "2024-10-02T21:04:23.222757",
     "exception": false,
     "start_time": "2024-10-02T21:04:22.919598",
     "status": "completed"
    },
    "tags": []
   },
   "outputs": [
    {
     "name": "stdout",
     "output_type": "stream",
     "text": [
      "Confusion Matrix:\n",
      "[[407 406]\n",
      " [142  69]]\n",
      "\n",
      "Classification Report:\n",
      "              precision    recall  f1-score   support\n",
      "\n",
      "           0       0.74      0.50      0.60       813\n",
      "           1       0.15      0.33      0.20       211\n",
      "\n",
      "    accuracy                           0.46      1024\n",
      "   macro avg       0.44      0.41      0.40      1024\n",
      "weighted avg       0.62      0.46      0.52      1024\n",
      "\n"
     ]
    },
    {
     "data": {
      "image/png": "[encoded data removed]",
      "text/plain": [
       "<Figure size 600x500 with 2 Axes>"
      ]
     },
     "metadata": {},
     "output_type": "display_data"
    }
   ],
   "source": [
    "cm = confusion_matrix(true_label, flattened_predictions)\n",
    "print(\"Confusion Matrix:\")\n",
    "print(cm)\n",
    "\n",
    "# Optional: Detailed classification report\n",
    "print(\"\\nClassification Report:\")\n",
    "print(classification_report(true_label, flattened_predictions))\n",
    "\n",
    "# Optional: Visualize the confusion matrix\n",
    "labels = ['Negative', 'Positive']\n",
    "cm_df = pd.DataFrame(cm, index=labels, columns=labels)\n",
    "\n",
    "plt.figure(figsize=(6,5))\n",
    "sns.heatmap(cm_df, annot=True, fmt='d', cmap='Blues')\n",
    "plt.ylabel('Actual')\n",
    "plt.xlabel('Predicted')\n",
    "plt.title('Confusion Matrix')\n",
    "plt.show()"
   ]
  }
 ],
 "metadata": {
  "kaggle": {
   "accelerator": "gpu",
   "dataSources": [
    {
     "datasetId": 5754676,
     "sourceId": 9534427,
     "sourceType": "datasetVersion"
    }
   ],
   "dockerImageVersionId": 30776,
   "isGpuEnabled": true,
   "isInternetEnabled": true,
   "language": "python",
   "sourceType": "notebook"
  },
  "kernelspec": {
   "display_name": "Python 3",
   "language": "python",
   "name": "python3"
  },
  "language_info": {
   "codemirror_mode": {
    "name": "ipython",
    "version": 3
   },
   "file_extension": ".py",
   "mimetype": "text/x-python",
   "name": "python",
   "nbconvert_exporter": "python",
   "pygments_lexer": "ipython3",
   "version": "3.10.14"
  },
  "papermill": {
   "default_parameters": {},
   "duration": 20.715317,
   "end_time": "2024-10-02T21:04:25.480700",
   "environment_variables": {},
   "exception": null,
   "input_path": "__notebook__.ipynb",
   "output_path": "__notebook__.ipynb",
   "parameters": {},
   "start_time": "2024-10-02T21:04:04.765383",
   "version": "2.6.0"
  }
 },
 "nbformat": 4,
 "nbformat_minor": 5
}
