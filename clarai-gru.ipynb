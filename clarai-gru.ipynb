{
 "cells": [
  {
   "cell_type": "code",
   "execution_count": 1,
   "id": "1fe95ab1",
   "metadata": {
    "execution": {
     "iopub.execute_input": "2024-09-25T19:37:59.514044Z",
     "iopub.status.busy": "2024-09-25T19:37:59.513686Z",
     "iopub.status.idle": "2024-09-25T19:38:05.053486Z",
     "shell.execute_reply": "2024-09-25T19:38:05.052701Z"
    },
    "papermill": {
     "duration": 5.54889,
     "end_time": "2024-09-25T19:38:05.055823",
     "exception": false,
     "start_time": "2024-09-25T19:37:59.506933",
     "status": "completed"
    },
    "tags": []
   },
   "outputs": [],
   "source": [
    "\n",
    "from sklearn.model_selection import train_test_split\n",
    "from sklearn.preprocessing import StandardScaler\n",
    "from sklearn.utils.class_weight import compute_class_weight\n",
    "from sklearn.metrics import confusion_matrix\n",
    "from sklearn.metrics import roc_curve, auc\n",
    "\n",
    "import torch\n",
    "import torch.nn as nn\n",
    "import torch.optim as optim\n",
    "import pandas as pd\n",
    "import numpy as np\n",
    "import matplotlib.pyplot as plt\n",
    "import seaborn as sns\n",
    "\n",
    "import glob"
   ]
  },
  {
   "cell_type": "code",
   "execution_count": 2,
   "id": "54648fb8",
   "metadata": {
    "execution": {
     "iopub.execute_input": "2024-09-25T19:38:05.067949Z",
     "iopub.status.busy": "2024-09-25T19:38:05.067492Z",
     "iopub.status.idle": "2024-09-25T19:38:05.131002Z",
     "shell.execute_reply": "2024-09-25T19:38:05.130161Z"
    },
    "papermill": {
     "duration": 0.071855,
     "end_time": "2024-09-25T19:38:05.133127",
     "exception": false,
     "start_time": "2024-09-25T19:38:05.061272",
     "status": "completed"
    },
    "tags": []
   },
   "outputs": [
    {
     "name": "stdout",
     "output_type": "stream",
     "text": [
      "cuda\n"
     ]
    }
   ],
   "source": [
    "# device = torch.device(\"mps\")\n",
    "device = torch.device(\"cuda\" if torch.cuda.is_available() else \"cpu\")\n",
    "print(device)"
   ]
  },
  {
   "cell_type": "code",
   "execution_count": 3,
   "id": "42048fed",
   "metadata": {
    "execution": {
     "iopub.execute_input": "2024-09-25T19:38:05.144307Z",
     "iopub.status.busy": "2024-09-25T19:38:05.144016Z",
     "iopub.status.idle": "2024-09-25T19:38:05.151189Z",
     "shell.execute_reply": "2024-09-25T19:38:05.150332Z"
    },
    "papermill": {
     "duration": 0.015025,
     "end_time": "2024-09-25T19:38:05.153184",
     "exception": false,
     "start_time": "2024-09-25T19:38:05.138159",
     "status": "completed"
    },
    "tags": []
   },
   "outputs": [
    {
     "data": {
      "text/plain": [
       "'# Step 1: Get a list of all CSV file paths in the directory\\ndata_path = glob.glob(\"D:\\\\PythonProjs\\\\CLARAi\\\\Data\\\\*.csv\")  # Modify with your directory path\\nlabel_path = glob.glob(\"D:\\\\PythonProjs\\\\CLARAi\\\\Label\\\\*.csv\")\\n\\n# Step 2: Read each CSV file and store in a list of DataFrames\\ndatadfs = [pd.read_csv(file) for file in data_path]\\nlabeldfs = [pd.read_csv(file) for file in label_path]\\n\\n# Step 3: Concatenate all DataFrames into one\\nfinal_data_df = pd.concat(datadfs, ignore_index=True)\\nfinal_label_df = pd.concat(labeldfs, ignore_index=True)'"
      ]
     },
     "execution_count": 3,
     "metadata": {},
     "output_type": "execute_result"
    }
   ],
   "source": [
    "\"\"\"# Step 1: Get a list of all CSV file paths in the directory\n",
    "data_path = glob.glob(\"D:\\PythonProjs\\CLARAi\\Data\\*.csv\")  # Modify with your directory path\n",
    "label_path = glob.glob(\"D:\\PythonProjs\\CLARAi\\Label\\*.csv\")\n",
    "\n",
    "# Step 2: Read each CSV file and store in a list of DataFrames\n",
    "datadfs = [pd.read_csv(file) for file in data_path]\n",
    "labeldfs = [pd.read_csv(file) for file in label_path]\n",
    "\n",
    "# Step 3: Concatenate all DataFrames into one\n",
    "final_data_df = pd.concat(datadfs, ignore_index=True)\n",
    "final_label_df = pd.concat(labeldfs, ignore_index=True)\"\"\""
   ]
  },
  {
   "cell_type": "code",
   "execution_count": 4,
   "id": "7538cfa9",
   "metadata": {
    "execution": {
     "iopub.execute_input": "2024-09-25T19:38:05.164692Z",
     "iopub.status.busy": "2024-09-25T19:38:05.164385Z",
     "iopub.status.idle": "2024-09-25T19:38:05.172559Z",
     "shell.execute_reply": "2024-09-25T19:38:05.171682Z"
    },
    "papermill": {
     "duration": 0.016371,
     "end_time": "2024-09-25T19:38:05.174575",
     "exception": false,
     "start_time": "2024-09-25T19:38:05.158204",
     "status": "completed"
    },
    "tags": []
   },
   "outputs": [],
   "source": [
    "def data_gen(data_path, label_path):\n",
    "    final_data_df = pd.read_csv(data_path)\n",
    "    final_label_df = pd.read_csv(label_path)\n",
    "\n",
    "    train_labels_flat = final_label_df.values.flatten()\n",
    "    \n",
    "    # Compute class weights (inverse of class frequencies)\n",
    "    class_weights = compute_class_weight(class_weight='balanced', classes=np.unique(train_labels_flat), y=train_labels_flat)\n",
    "    class_weights = torch.tensor(class_weights, dtype=torch.float32)\n",
    "\n",
    "    # Parameters\n",
    "    sequence_length = 256  # Length of each subsequence\n",
    "    num_subsequences = 100  # Number of subsequences to extract\n",
    "\n",
    "    # Get possible starting indices, ensuring there's enough space for a full subsequence\n",
    "    possible_starts = np.arange(0, len(final_data_df) - sequence_length + 1)\n",
    "    np.random.shuffle(possible_starts)\n",
    "\n",
    "    # Select the first `num_subsequences` starting indices\n",
    "    selected_starts = possible_starts[:num_subsequences]\n",
    "\n",
    "    # Create a list to hold the subsequences\n",
    "    subsequences = [final_data_df.iloc[start:start + sequence_length].values for start in selected_starts]\n",
    "    sublabels = [final_label_df.iloc[start:start + sequence_length].values for start in selected_starts]\n",
    "\n",
    "    # Convert subsequences list to a NumPy array\n",
    "    subsequences_array = np.array(subsequences)\n",
    "    sublabels_array = np.array(sublabels)\n",
    "\n",
    "    # subsequences_array will have shape (num_subsequences, sequence_length, num_channels)\n",
    "    # print(subsequences_array.shape)  # Should print (100, 100, 36)\n",
    "    # print(sublabels_array.shape)\n",
    "\n",
    "    return torch.from_numpy(subsequences_array), torch.from_numpy(sublabels_array), class_weights\n"
   ]
  },
  {
   "cell_type": "code",
   "execution_count": 5,
   "id": "9a732fef",
   "metadata": {
    "execution": {
     "iopub.execute_input": "2024-09-25T19:38:05.186262Z",
     "iopub.status.busy": "2024-09-25T19:38:05.185734Z",
     "iopub.status.idle": "2024-09-25T19:38:05.193910Z",
     "shell.execute_reply": "2024-09-25T19:38:05.193047Z"
    },
    "papermill": {
     "duration": 0.01615,
     "end_time": "2024-09-25T19:38:05.195890",
     "exception": false,
     "start_time": "2024-09-25T19:38:05.179740",
     "status": "completed"
    },
    "tags": []
   },
   "outputs": [],
   "source": [
    "\n",
    "# Sample time series data with shape (batch_size, sequence_length, num_features)\n",
    "# neuroimaging_data: Time series data from multiple neuroimaging channels\n",
    "# labels: Binary labels (0 = no pain, 1 = pain) for each time step\n",
    "# Assume neuroimaging_data is a numpy array of shape (num_samples, sequence_length, num_channels)\n",
    "# labels is a numpy array of shape (num_samples, sequence_length)\n",
    "\n",
    "class GRUClassifier(nn.Module):\n",
    "    def __init__(self, input_size, hidden_size, output_size, num_layers=1):\n",
    "        super(GRUClassifier, self).__init__()\n",
    "        self.hidden_size = hidden_size\n",
    "        self.num_layers = num_layers\n",
    "        self.gru = nn.GRU(input_size, hidden_size, num_layers, batch_first=True)\n",
    "        self.fc = nn.Linear(hidden_size, output_size)\n",
    "        self.batch_norm = nn.BatchNorm1d(hidden_size)  # Correct Batch Normalization\n",
    "        self.sigmoid = nn.Sigmoid()\n",
    "\n",
    "    def forward(self, x):\n",
    "        h0 = torch.zeros(self.num_layers, x.size(0), self.hidden_size).to(x.device)\n",
    "        \n",
    "        # GRU forward pass\n",
    "        out, _ = self.gru(x, h0)\n",
    "        \n",
    "        # Apply batch normalization\n",
    "        # Permute to (batch_size, hidden_size, sequence_length) for batch norm\n",
    "        out = out.permute(0, 2, 1)\n",
    "        out = self.batch_norm(out)\n",
    "        \n",
    "        # Permute back to (batch_size, sequence_length, hidden_size)\n",
    "        out = out.permute(0, 2, 1)\n",
    "        \n",
    "        # Apply the linear layer to each time step\n",
    "        out = self.fc(out)\n",
    "        \n",
    "        return self.sigmoid(out)\n",
    "\n"
   ]
  },
  {
   "cell_type": "code",
   "execution_count": 6,
   "id": "e14c4e0e",
   "metadata": {
    "execution": {
     "iopub.execute_input": "2024-09-25T19:38:05.206993Z",
     "iopub.status.busy": "2024-09-25T19:38:05.206698Z",
     "iopub.status.idle": "2024-09-25T19:38:05.222901Z",
     "shell.execute_reply": "2024-09-25T19:38:05.222208Z"
    },
    "papermill": {
     "duration": 0.023936,
     "end_time": "2024-09-25T19:38:05.224763",
     "exception": false,
     "start_time": "2024-09-25T19:38:05.200827",
     "status": "completed"
    },
    "tags": []
   },
   "outputs": [],
   "source": [
    "# data_path = glob.glob(\"D:\\PythonProjs\\CLARAi\\Data_norm\\*.csv\")  # Modify with your directory path\n",
    "# label_path = glob.glob(\"D:\\PythonProjs\\CLARAi\\Label\\*.csv\")\n",
    "\n",
    "# data_path = glob.glob(\"/home/frank/Documents/CLARAi/Data/*.csv\")  # Modify with your directory path\n",
    "# label_path = glob.glob(\"/home/frank/Documents/CLARAi/Label/*.csv\")\n",
    "\n",
    "# data_path = glob.glob(\"/Users/xiaosuhu/Documents/Python/CLARAi/Data/*.csv\")  # Modify with your directory path\n",
    "# label_path = glob.glob(\"/Users/xiaosuhu/Documents/Python/CLARAi/Data/*.csv\")\n",
    "\n",
    "data_path = glob.glob(\"/kaggle/input/clarai/CLARAi/Data_norm/*.csv\")  # Modify with your directory path\n",
    "label_path = glob.glob(\"/kaggle/input/clarai/CLARAi/Label/*.csv\")\n",
    "\n",
    "# Sort the lists\n",
    "data_path = sorted(data_path)\n",
    "label_path = sorted(label_path)\n"
   ]
  },
  {
   "cell_type": "code",
   "execution_count": 7,
   "id": "68e1d7d4",
   "metadata": {
    "execution": {
     "iopub.execute_input": "2024-09-25T19:38:05.236046Z",
     "iopub.status.busy": "2024-09-25T19:38:05.235772Z",
     "iopub.status.idle": "2024-09-25T19:38:05.252049Z",
     "shell.execute_reply": "2024-09-25T19:38:05.251355Z"
    },
    "papermill": {
     "duration": 0.023943,
     "end_time": "2024-09-25T19:38:05.253905",
     "exception": false,
     "start_time": "2024-09-25T19:38:05.229962",
     "status": "completed"
    },
    "tags": []
   },
   "outputs": [],
   "source": [
    "\n",
    "# data_path = \"D:\\PythonProjs\\CLARAi\\Data\\data1.csv\"\n",
    "# label_path = \"D:\\PythonProjs\\CLARAi\\Label\\label1.csv\"\n",
    "neuroimaging_data = torch.empty(0,256,36)\n",
    "labels = torch.empty(0,256,1)\n",
    "class_weights = torch.Tensor([0., 0.])"
   ]
  },
  {
   "cell_type": "code",
   "execution_count": 8,
   "id": "900e4153",
   "metadata": {
    "execution": {
     "iopub.execute_input": "2024-09-25T19:38:05.265483Z",
     "iopub.status.busy": "2024-09-25T19:38:05.264666Z",
     "iopub.status.idle": "2024-09-25T19:38:06.269743Z",
     "shell.execute_reply": "2024-09-25T19:38:06.268705Z"
    },
    "papermill": {
     "duration": 1.012932,
     "end_time": "2024-09-25T19:38:06.271742",
     "exception": false,
     "start_time": "2024-09-25T19:38:05.258810",
     "status": "completed"
    },
    "tags": []
   },
   "outputs": [
    {
     "name": "stdout",
     "output_type": "stream",
     "text": [
      "datapath: /kaggle/input/clarai/CLARAi/Data_norm/data1.csv\n",
      "labelpath: /kaggle/input/clarai/CLARAi/Label/label1.csv\n",
      "Data shape: torch.Size([100, 256, 36]), Label shape: torch.Size([100, 256, 1]), Weight shape: torch.Size([2])\n",
      "datapath: /kaggle/input/clarai/CLARAi/Data_norm/data10.csv\n",
      "labelpath: /kaggle/input/clarai/CLARAi/Label/label10.csv\n",
      "Data shape: torch.Size([100, 256, 36]), Label shape: torch.Size([100, 256, 1]), Weight shape: torch.Size([2])\n",
      "datapath: /kaggle/input/clarai/CLARAi/Data_norm/data11.csv\n",
      "labelpath: /kaggle/input/clarai/CLARAi/Label/label11.csv\n",
      "Data shape: torch.Size([100, 256, 36]), Label shape: torch.Size([100, 256, 1]), Weight shape: torch.Size([2])\n",
      "datapath: /kaggle/input/clarai/CLARAi/Data_norm/data12.csv\n",
      "labelpath: /kaggle/input/clarai/CLARAi/Label/label12.csv\n",
      "Data shape: torch.Size([100, 256, 36]), Label shape: torch.Size([100, 256, 1]), Weight shape: torch.Size([2])\n",
      "datapath: /kaggle/input/clarai/CLARAi/Data_norm/data13.csv\n",
      "labelpath: /kaggle/input/clarai/CLARAi/Label/label13.csv\n",
      "Data shape: torch.Size([100, 256, 36]), Label shape: torch.Size([100, 256, 1]), Weight shape: torch.Size([2])\n",
      "datapath: /kaggle/input/clarai/CLARAi/Data_norm/data16.csv\n",
      "labelpath: /kaggle/input/clarai/CLARAi/Label/label16.csv\n",
      "Data shape: torch.Size([100, 256, 36]), Label shape: torch.Size([100, 256, 1]), Weight shape: torch.Size([2])\n",
      "datapath: /kaggle/input/clarai/CLARAi/Data_norm/data17.csv\n",
      "labelpath: /kaggle/input/clarai/CLARAi/Label/label17.csv\n",
      "Data shape: torch.Size([100, 256, 36]), Label shape: torch.Size([100, 256, 1]), Weight shape: torch.Size([2])\n",
      "datapath: /kaggle/input/clarai/CLARAi/Data_norm/data18.csv\n",
      "labelpath: /kaggle/input/clarai/CLARAi/Label/label18.csv\n",
      "Data shape: torch.Size([100, 256, 36]), Label shape: torch.Size([100, 256, 1]), Weight shape: torch.Size([2])\n",
      "datapath: /kaggle/input/clarai/CLARAi/Data_norm/data3.csv\n",
      "labelpath: /kaggle/input/clarai/CLARAi/Label/label3.csv\n",
      "Data shape: torch.Size([100, 256, 36]), Label shape: torch.Size([100, 256, 1]), Weight shape: torch.Size([2])\n",
      "datapath: /kaggle/input/clarai/CLARAi/Data_norm/data4.csv\n",
      "labelpath: /kaggle/input/clarai/CLARAi/Label/label4.csv\n",
      "Data shape: torch.Size([100, 256, 36]), Label shape: torch.Size([100, 256, 1]), Weight shape: torch.Size([2])\n",
      "datapath: /kaggle/input/clarai/CLARAi/Data_norm/data5.csv\n",
      "labelpath: /kaggle/input/clarai/CLARAi/Label/label5.csv\n",
      "Data shape: torch.Size([100, 256, 36]), Label shape: torch.Size([100, 256, 1]), Weight shape: torch.Size([2])\n",
      "datapath: /kaggle/input/clarai/CLARAi/Data_norm/data6.csv\n",
      "labelpath: /kaggle/input/clarai/CLARAi/Label/label6.csv\n",
      "Data shape: torch.Size([100, 256, 36]), Label shape: torch.Size([100, 256, 1]), Weight shape: torch.Size([2])\n",
      "datapath: /kaggle/input/clarai/CLARAi/Data_norm/data7.csv\n",
      "labelpath: /kaggle/input/clarai/CLARAi/Label/label7.csv\n",
      "Data shape: torch.Size([100, 256, 36]), Label shape: torch.Size([100, 256, 1]), Weight shape: torch.Size([2])\n",
      "datapath: /kaggle/input/clarai/CLARAi/Data_norm/data8.csv\n",
      "labelpath: /kaggle/input/clarai/CLARAi/Label/label8.csv\n",
      "Data shape: torch.Size([100, 256, 36]), Label shape: torch.Size([100, 256, 1]), Weight shape: torch.Size([2])\n",
      "datapath: /kaggle/input/clarai/CLARAi/Data_norm/data9.csv\n",
      "labelpath: /kaggle/input/clarai/CLARAi/Label/label9.csv\n",
      "Data shape: torch.Size([100, 256, 36]), Label shape: torch.Size([100, 256, 1]), Weight shape: torch.Size([2])\n"
     ]
    }
   ],
   "source": [
    "\n",
    "for datapath, labelpath in zip(data_path, label_path):\n",
    "    print(f'datapath: {datapath}')\n",
    "    print(f'labelpath: {labelpath}')    \n",
    "    data, label, weight = data_gen(datapath, labelpath)\n",
    "    print(f'Data shape: {data.shape}, Label shape: {label.shape}, Weight shape: {weight.shape}')\n",
    "    neuroimaging_data= torch.cat([neuroimaging_data, data])\n",
    "    labels = torch.cat([labels, label])\n",
    "    class_weights += weight\n",
    "\n",
    "normalized_weights = class_weights / class_weights.sum()\n"
   ]
  },
  {
   "cell_type": "code",
   "execution_count": 9,
   "id": "4266705d",
   "metadata": {
    "execution": {
     "iopub.execute_input": "2024-09-25T19:38:06.285405Z",
     "iopub.status.busy": "2024-09-25T19:38:06.284908Z",
     "iopub.status.idle": "2024-09-25T19:38:06.291153Z",
     "shell.execute_reply": "2024-09-25T19:38:06.290231Z"
    },
    "papermill": {
     "duration": 0.015295,
     "end_time": "2024-09-25T19:38:06.293332",
     "exception": false,
     "start_time": "2024-09-25T19:38:06.278037",
     "status": "completed"
    },
    "tags": []
   },
   "outputs": [
    {
     "data": {
      "text/plain": [
       "(torch.Size([1500, 256, 36]), torch.Size([1500, 256, 1]))"
      ]
     },
     "execution_count": 9,
     "metadata": {},
     "output_type": "execute_result"
    }
   ],
   "source": [
    "neuroimaging_data.shape, labels.shape"
   ]
  },
  {
   "cell_type": "code",
   "execution_count": 10,
   "id": "efc8f9eb",
   "metadata": {
    "execution": {
     "iopub.execute_input": "2024-09-25T19:38:06.309147Z",
     "iopub.status.busy": "2024-09-25T19:38:06.308876Z",
     "iopub.status.idle": "2024-09-25T19:38:06.325133Z",
     "shell.execute_reply": "2024-09-25T19:38:06.324083Z"
    },
    "papermill": {
     "duration": 0.02671,
     "end_time": "2024-09-25T19:38:06.327133",
     "exception": false,
     "start_time": "2024-09-25T19:38:06.300423",
     "status": "completed"
    },
    "tags": []
   },
   "outputs": [
    {
     "name": "stdout",
     "output_type": "stream",
     "text": [
      "Number of 0s: 294084Number of 1s: 89916 Ratio is 0.23415625\n"
     ]
    }
   ],
   "source": [
    "# Count the number of 1s\n",
    "num_zeros = torch.sum(labels == 0).item()\n",
    "num_ones = torch.sum(labels == 1).item()\n",
    "\n",
    "print(f\"Number of 0s: {num_zeros}Number of 1s: {num_ones} Ratio is {num_ones/(num_ones + num_zeros)}\")"
   ]
  },
  {
   "cell_type": "code",
   "execution_count": 11,
   "id": "75a695e5",
   "metadata": {
    "execution": {
     "iopub.execute_input": "2024-09-25T19:38:06.340632Z",
     "iopub.status.busy": "2024-09-25T19:38:06.340310Z",
     "iopub.status.idle": "2024-09-25T19:38:07.913953Z",
     "shell.execute_reply": "2024-09-25T19:38:07.912920Z"
    },
    "papermill": {
     "duration": 1.583124,
     "end_time": "2024-09-25T19:38:07.916419",
     "exception": false,
     "start_time": "2024-09-25T19:38:06.333295",
     "status": "completed"
    },
    "tags": []
   },
   "outputs": [
    {
     "name": "stderr",
     "output_type": "stream",
     "text": [
      "/tmp/ipykernel_24/2227202816.py:16: UserWarning: To copy construct from a tensor, it is recommended to use sourceTensor.clone().detach() or sourceTensor.clone().detach().requires_grad_(True), rather than torch.tensor(sourceTensor).\n",
      "  train_data, test_data = torch.tensor(train_data, dtype=torch.float32).to(device), torch.tensor(test_data, dtype=torch.float32).to(device)\n",
      "/tmp/ipykernel_24/2227202816.py:17: UserWarning: To copy construct from a tensor, it is recommended to use sourceTensor.clone().detach() or sourceTensor.clone().detach().requires_grad_(True), rather than torch.tensor(sourceTensor).\n",
      "  train_labels, test_labels = torch.tensor(train_labels, dtype=torch.float32).to(device), torch.tensor(test_labels, dtype=torch.float32).to(device)\n"
     ]
    }
   ],
   "source": [
    "# Hyperparameters\n",
    "input_size = neuroimaging_data.shape[2]  # Number of features (channels)\n",
    "hidden_size = 256  # Hidden state size of the GRU\n",
    "output_size = 1  # Binary classification\n",
    "num_layers = 6  # Number of GRU layers\n",
    "learning_rate = 0.001\n",
    "num_epochs = 500\n",
    "batch_size = 64\n",
    "\n",
    "# Preprocessing (e.g., normalization)\n",
    "# scaler = StandardScaler()\n",
    "# neuroimaging_data = scaler.fit_transform(neuroimaging_data.reshape(-1, input_size)).reshape(neuroimaging_data.shape)\n",
    "\n",
    "# Convert numpy arrays to PyTorch tensors\n",
    "train_data, test_data, train_labels, test_labels = train_test_split(neuroimaging_data, labels, test_size=0.2, random_state=42)\n",
    "train_data, test_data = torch.tensor(train_data, dtype=torch.float32).to(device), torch.tensor(test_data, dtype=torch.float32).to(device)\n",
    "train_labels, test_labels = torch.tensor(train_labels, dtype=torch.float32).to(device), torch.tensor(test_labels, dtype=torch.float32).to(device)\n",
    "\n",
    "\n",
    "# Create GRU model\n",
    "model = GRUClassifier(input_size, hidden_size, output_size, num_layers).to(device)\n",
    "\n",
    "# Loss and optimizer\n",
    "# criterion = nn.BCELoss()  # Binary Cross Entropy Loss for binary classification\n",
    "\n",
    "\n",
    "# Convert the class weights to a tensor and move to the appropriate device\n",
    "class_weights = class_weights.to(device)\n",
    "\n",
    "# Use BCEWithLogitsLoss, which combines sigmoid activation and binary cross-entropy loss\n",
    "criterion = nn.BCEWithLogitsLoss(pos_weight=normalized_weights[0])  # pos_weight applies only to class 1\n",
    "\n",
    "# optimizer = optim.Adam(model.parameters(), lr=learning_rate)\n",
    "optimizer = optim.Adam(model.parameters(), lr=learning_rate, weight_decay=1e-5)\n",
    "scheduler = torch.optim.lr_scheduler.ReduceLROnPlateau(optimizer, mode='min', factor=0.1, patience=20)"
   ]
  },
  {
   "cell_type": "code",
   "execution_count": 12,
   "id": "49ac6c3e",
   "metadata": {
    "execution": {
     "iopub.execute_input": "2024-09-25T19:38:07.930746Z",
     "iopub.status.busy": "2024-09-25T19:38:07.930291Z",
     "iopub.status.idle": "2024-09-25T19:45:00.483724Z",
     "shell.execute_reply": "2024-09-25T19:45:00.482579Z"
    },
    "papermill": {
     "duration": 412.562869,
     "end_time": "2024-09-25T19:45:00.485860",
     "exception": false,
     "start_time": "2024-09-25T19:38:07.922991",
     "status": "completed"
    },
    "tags": []
   },
   "outputs": [
    {
     "name": "stdout",
     "output_type": "stream",
     "text": [
      "Epoch [5/500], Train Loss: 0.6981, Val Loss: 0.5871\n",
      "Epoch [10/500], Train Loss: 0.6410, Val Loss: 0.5744\n",
      "Epoch [15/500], Train Loss: 0.6308, Val Loss: 0.5771\n",
      "Epoch [20/500], Train Loss: 0.6210, Val Loss: 0.5799\n",
      "Epoch [25/500], Train Loss: 0.6115, Val Loss: 0.5842\n",
      "Epoch [30/500], Train Loss: 0.6052, Val Loss: 0.5875\n",
      "Epoch [35/500], Train Loss: 0.6045, Val Loss: 0.5892\n",
      "Epoch [40/500], Train Loss: 0.6038, Val Loss: 0.5905\n",
      "Epoch [45/500], Train Loss: 0.6031, Val Loss: 0.5919\n",
      "Epoch [50/500], Train Loss: 0.6025, Val Loss: 0.5938\n",
      "Epoch [55/500], Train Loss: 0.6024, Val Loss: 0.5968\n",
      "Epoch [60/500], Train Loss: 0.6024, Val Loss: 0.5992\n",
      "Epoch [65/500], Train Loss: 0.6023, Val Loss: 0.6009\n",
      "Epoch [70/500], Train Loss: 0.6022, Val Loss: 0.6018\n",
      "Epoch [75/500], Train Loss: 0.6022, Val Loss: 0.6026\n",
      "Epoch [80/500], Train Loss: 0.6022, Val Loss: 0.6030\n",
      "Epoch [85/500], Train Loss: 0.6022, Val Loss: 0.6032\n",
      "Epoch [90/500], Train Loss: 0.6022, Val Loss: 0.6033\n",
      "Epoch [95/500], Train Loss: 0.6022, Val Loss: 0.6034\n",
      "Epoch [100/500], Train Loss: 0.6022, Val Loss: 0.6034\n",
      "Epoch [105/500], Train Loss: 0.6022, Val Loss: 0.6035\n",
      "Epoch [110/500], Train Loss: 0.6022, Val Loss: 0.6035\n",
      "Epoch [115/500], Train Loss: 0.6022, Val Loss: 0.6035\n",
      "Epoch [120/500], Train Loss: 0.6022, Val Loss: 0.6035\n",
      "Epoch [125/500], Train Loss: 0.6022, Val Loss: 0.6035\n",
      "Epoch [130/500], Train Loss: 0.6022, Val Loss: 0.6035\n",
      "Epoch [135/500], Train Loss: 0.6022, Val Loss: 0.6035\n",
      "Epoch [140/500], Train Loss: 0.6022, Val Loss: 0.6035\n",
      "Epoch [145/500], Train Loss: 0.6022, Val Loss: 0.6035\n",
      "Epoch [150/500], Train Loss: 0.6022, Val Loss: 0.6035\n",
      "Epoch [155/500], Train Loss: 0.6022, Val Loss: 0.6035\n",
      "Epoch [160/500], Train Loss: 0.6022, Val Loss: 0.6035\n",
      "Epoch [165/500], Train Loss: 0.6022, Val Loss: 0.6035\n",
      "Epoch [170/500], Train Loss: 0.6022, Val Loss: 0.6035\n",
      "Epoch [175/500], Train Loss: 0.6022, Val Loss: 0.6035\n",
      "Epoch [180/500], Train Loss: 0.6022, Val Loss: 0.6035\n",
      "Epoch [185/500], Train Loss: 0.6022, Val Loss: 0.6035\n",
      "Epoch [190/500], Train Loss: 0.6022, Val Loss: 0.6035\n",
      "Epoch [195/500], Train Loss: 0.6022, Val Loss: 0.6035\n",
      "Epoch [200/500], Train Loss: 0.6022, Val Loss: 0.6035\n",
      "Epoch [205/500], Train Loss: 0.6022, Val Loss: 0.6035\n",
      "Epoch [210/500], Train Loss: 0.6022, Val Loss: 0.6035\n",
      "Epoch [215/500], Train Loss: 0.6022, Val Loss: 0.6035\n",
      "Epoch [220/500], Train Loss: 0.6022, Val Loss: 0.6035\n",
      "Epoch [225/500], Train Loss: 0.6022, Val Loss: 0.6035\n",
      "Epoch [230/500], Train Loss: 0.6022, Val Loss: 0.6035\n",
      "Epoch [235/500], Train Loss: 0.6022, Val Loss: 0.6035\n",
      "Epoch [240/500], Train Loss: 0.6022, Val Loss: 0.6035\n",
      "Epoch [245/500], Train Loss: 0.6022, Val Loss: 0.6035\n",
      "Epoch [250/500], Train Loss: 0.6022, Val Loss: 0.6035\n",
      "Epoch [255/500], Train Loss: 0.6022, Val Loss: 0.6035\n",
      "Epoch [260/500], Train Loss: 0.6022, Val Loss: 0.6035\n",
      "Epoch [265/500], Train Loss: 0.6022, Val Loss: 0.6035\n",
      "Epoch [270/500], Train Loss: 0.6022, Val Loss: 0.6035\n",
      "Epoch [275/500], Train Loss: 0.6022, Val Loss: 0.6035\n",
      "Epoch [280/500], Train Loss: 0.6022, Val Loss: 0.6035\n",
      "Epoch [285/500], Train Loss: 0.6022, Val Loss: 0.6035\n",
      "Epoch [290/500], Train Loss: 0.6022, Val Loss: 0.6035\n",
      "Epoch [295/500], Train Loss: 0.6022, Val Loss: 0.6035\n",
      "Epoch [300/500], Train Loss: 0.6022, Val Loss: 0.6035\n",
      "Epoch [305/500], Train Loss: 0.6022, Val Loss: 0.6035\n",
      "Epoch [310/500], Train Loss: 0.6022, Val Loss: 0.6035\n",
      "Epoch [315/500], Train Loss: 0.6022, Val Loss: 0.6035\n",
      "Epoch [320/500], Train Loss: 0.6022, Val Loss: 0.6035\n",
      "Epoch [325/500], Train Loss: 0.6022, Val Loss: 0.6035\n",
      "Epoch [330/500], Train Loss: 0.6022, Val Loss: 0.6035\n",
      "Epoch [335/500], Train Loss: 0.6022, Val Loss: 0.6035\n",
      "Epoch [340/500], Train Loss: 0.6022, Val Loss: 0.6035\n",
      "Epoch [345/500], Train Loss: 0.6022, Val Loss: 0.6035\n",
      "Epoch [350/500], Train Loss: 0.6022, Val Loss: 0.6035\n",
      "Epoch [355/500], Train Loss: 0.6022, Val Loss: 0.6035\n",
      "Epoch [360/500], Train Loss: 0.6022, Val Loss: 0.6035\n",
      "Epoch [365/500], Train Loss: 0.6022, Val Loss: 0.6035\n",
      "Epoch [370/500], Train Loss: 0.6022, Val Loss: 0.6035\n",
      "Epoch [375/500], Train Loss: 0.6022, Val Loss: 0.6035\n",
      "Epoch [380/500], Train Loss: 0.6022, Val Loss: 0.6035\n",
      "Epoch [385/500], Train Loss: 0.6022, Val Loss: 0.6035\n",
      "Epoch [390/500], Train Loss: 0.6022, Val Loss: 0.6035\n",
      "Epoch [395/500], Train Loss: 0.6022, Val Loss: 0.6035\n",
      "Epoch [400/500], Train Loss: 0.6022, Val Loss: 0.6035\n",
      "Epoch [405/500], Train Loss: 0.6022, Val Loss: 0.6035\n",
      "Epoch [410/500], Train Loss: 0.6022, Val Loss: 0.6035\n",
      "Epoch [415/500], Train Loss: 0.6022, Val Loss: 0.6035\n",
      "Epoch [420/500], Train Loss: 0.6022, Val Loss: 0.6035\n",
      "Epoch [425/500], Train Loss: 0.6022, Val Loss: 0.6035\n",
      "Epoch [430/500], Train Loss: 0.6022, Val Loss: 0.6035\n",
      "Epoch [435/500], Train Loss: 0.6022, Val Loss: 0.6035\n",
      "Epoch [440/500], Train Loss: 0.6022, Val Loss: 0.6035\n",
      "Epoch [445/500], Train Loss: 0.6022, Val Loss: 0.6035\n",
      "Epoch [450/500], Train Loss: 0.6022, Val Loss: 0.6035\n",
      "Epoch [455/500], Train Loss: 0.6022, Val Loss: 0.6035\n",
      "Epoch [460/500], Train Loss: 0.6022, Val Loss: 0.6035\n",
      "Epoch [465/500], Train Loss: 0.6022, Val Loss: 0.6035\n",
      "Epoch [470/500], Train Loss: 0.6022, Val Loss: 0.6035\n",
      "Epoch [475/500], Train Loss: 0.6022, Val Loss: 0.6035\n",
      "Epoch [480/500], Train Loss: 0.6022, Val Loss: 0.6035\n",
      "Epoch [485/500], Train Loss: 0.6022, Val Loss: 0.6035\n",
      "Epoch [490/500], Train Loss: 0.6022, Val Loss: 0.6035\n",
      "Epoch [495/500], Train Loss: 0.6022, Val Loss: 0.6035\n",
      "Epoch [500/500], Train Loss: 0.6022, Val Loss: 0.6035\n"
     ]
    }
   ],
   "source": [
    "# Training loop\n",
    "for epoch in range(num_epochs):\n",
    "    model.train()  # Set model to training mode\n",
    "    optimizer.zero_grad()\n",
    "    \n",
    "    # Forward pass (training)\n",
    "    outputs = model(train_data)\n",
    "    loss = criterion(outputs, train_labels)\n",
    "    \n",
    "    # Backward pass and optimization\n",
    "    loss.backward()\n",
    "    \n",
    "    # Clip gradients to prevent exploding gradients\n",
    "    torch.nn.utils.clip_grad_norm_(model.parameters(), max_norm=1.0)\n",
    "    \n",
    "    optimizer.step()\n",
    "\n",
    "    # Validation phase (no gradient calculations)\n",
    "    model.eval()  # Set model to evaluation mode\n",
    "    with torch.no_grad():  # Disable gradient calculation for validation\n",
    "        val_outputs = model(test_data)\n",
    "        val_loss = criterion(val_outputs, test_labels)\n",
    "\n",
    "    # Update learning rate if validation loss plateaus\n",
    "    scheduler.step(val_loss)\n",
    "\n",
    "    # Print loss every 5 epochs\n",
    "    if (epoch + 1) % 5 == 0:\n",
    "        print(f'Epoch [{epoch+1}/{num_epochs}], Train Loss: {loss.item():.4f}, Val Loss: {val_loss.item():.4f}')\n"
   ]
  },
  {
   "cell_type": "code",
   "execution_count": 13,
   "id": "2e37c071",
   "metadata": {
    "execution": {
     "iopub.execute_input": "2024-09-25T19:45:00.514944Z",
     "iopub.status.busy": "2024-09-25T19:45:00.514545Z",
     "iopub.status.idle": "2024-09-25T19:45:00.945498Z",
     "shell.execute_reply": "2024-09-25T19:45:00.944574Z"
    },
    "papermill": {
     "duration": 0.44755,
     "end_time": "2024-09-25T19:45:00.947504",
     "exception": false,
     "start_time": "2024-09-25T19:45:00.499954",
     "status": "completed"
    },
    "tags": []
   },
   "outputs": [
    {
     "name": "stdout",
     "output_type": "stream",
     "text": [
      "Accuracy: 73.87%\n",
      "Confusion Matrix:\n",
      "[[56116  2743]\n",
      " [17325   616]]\n"
     ]
    },
    {
     "data": {
      "image/png": "[encoded data removed]",
      "text/plain": [
       "<Figure size 600x400 with 2 Axes>"
      ]
     },
     "metadata": {},
     "output_type": "display_data"
    }
   ],
   "source": [
    "\n",
    "model.eval()\n",
    "with torch.no_grad():\n",
    "    test_outputs = model(test_data)\n",
    "    predicted = (test_outputs > 0.5).float()  # Threshold at 0.5 for binary classification\n",
    "    \n",
    "    # Calculate accuracy\n",
    "    accuracy = (predicted == test_labels).float().mean()\n",
    "    print(f'Accuracy: {accuracy.item() * 100:.2f}%')\n",
    "\n",
    "    # Flatten the predicted and test labels for confusion matrix calculation\n",
    "    predicted_flat = predicted.cpu().numpy().flatten()\n",
    "    test_labels_flat = test_labels.cpu().numpy().flatten()\n",
    "\n",
    "    # Generate the confusion matrix\n",
    "    cm = confusion_matrix(test_labels_flat, predicted_flat)\n",
    "    print(f'Confusion Matrix:\\n{cm}')\n",
    "\n",
    "    # Optional: plot the confusion matrix for visualization\n",
    "    plt.figure(figsize=(6,4))\n",
    "    sns.heatmap(cm, annot=True, fmt=\"d\", cmap=\"Blues\", xticklabels=['No Pain', 'Pain'], yticklabels=['No Pain', 'Pain'])\n",
    "    plt.ylabel('True Label')\n",
    "    plt.xlabel('Predicted Label')\n",
    "    plt.title('Confusion Matrix')\n",
    "    plt.show()\n"
   ]
  },
  {
   "cell_type": "code",
   "execution_count": 14,
   "id": "a1429482",
   "metadata": {
    "execution": {
     "iopub.execute_input": "2024-09-25T19:45:00.977930Z",
     "iopub.status.busy": "2024-09-25T19:45:00.977577Z",
     "iopub.status.idle": "2024-09-25T19:45:00.986036Z",
     "shell.execute_reply": "2024-09-25T19:45:00.985141Z"
    },
    "papermill": {
     "duration": 0.025954,
     "end_time": "2024-09-25T19:45:00.988086",
     "exception": false,
     "start_time": "2024-09-25T19:45:00.962132",
     "status": "completed"
    },
    "tags": []
   },
   "outputs": [],
   "source": [
    "def plot_roc_auc(model, test_data, test_labels):\n",
    "    model.eval()\n",
    "    with torch.no_grad():\n",
    "        # Get the raw logits (before applying sigmoid)\n",
    "        test_outputs = model(test_data)\n",
    "        \n",
    "        # Convert test_labels and test_outputs to NumPy arrays for sklearn\n",
    "        test_labels_flat = test_labels.cpu().numpy().flatten()\n",
    "        test_outputs_flat = test_outputs.cpu().numpy().flatten()\n",
    "\n",
    "        # Calculate the false positive rate, true positive rate, and thresholds for the ROC curve\n",
    "        fpr, tpr, thresholds = roc_curve(test_labels_flat, test_outputs_flat)\n",
    "        \n",
    "        # Calculate the AUC score\n",
    "        roc_auc = auc(fpr, tpr)\n",
    "        \n",
    "        # Plot ROC curve\n",
    "        plt.figure(figsize=(8,6))\n",
    "        plt.plot(fpr, tpr, color='blue', label=f'ROC Curve (AUC = {roc_auc:.2f})')\n",
    "        plt.plot([0, 1], [0, 1], color='grey', linestyle='--')  # Random classifier line\n",
    "        plt.xlim([0.0, 1.0])\n",
    "        plt.ylim([0.0, 1.05])\n",
    "        plt.xlabel('False Positive Rate (FPR)')\n",
    "        plt.ylabel('True Positive Rate (TPR)')\n",
    "        plt.title('Receiver Operating Characteristic (ROC)')\n",
    "        plt.legend(loc='lower right')\n",
    "        plt.show()\n",
    "\n",
    "    return roc_auc"
   ]
  },
  {
   "cell_type": "code",
   "execution_count": 15,
   "id": "275ef161",
   "metadata": {
    "execution": {
     "iopub.execute_input": "2024-09-25T19:45:01.017729Z",
     "iopub.status.busy": "2024-09-25T19:45:01.017405Z",
     "iopub.status.idle": "2024-09-25T19:45:01.421608Z",
     "shell.execute_reply": "2024-09-25T19:45:01.420700Z"
    },
    "papermill": {
     "duration": 0.421404,
     "end_time": "2024-09-25T19:45:01.423624",
     "exception": false,
     "start_time": "2024-09-25T19:45:01.002220",
     "status": "completed"
    },
    "tags": []
   },
   "outputs": [
    {
     "data": {
      "image/png": "[encoded data removed]",
      "text/plain": [
       "<Figure size 800x600 with 1 Axes>"
      ]
     },
     "metadata": {},
     "output_type": "display_data"
    },
    {
     "data": {
      "text/plain": [
       "0.5349841365204188"
      ]
     },
     "execution_count": 15,
     "metadata": {},
     "output_type": "execute_result"
    }
   ],
   "source": [
    "plot_roc_auc(model, test_data, test_labels)"
   ]
  },
  {
   "cell_type": "code",
   "execution_count": null,
   "id": "55b6ec19",
   "metadata": {
    "papermill": {
     "duration": 0.014635,
     "end_time": "2024-09-25T19:45:01.453307",
     "exception": false,
     "start_time": "2024-09-25T19:45:01.438672",
     "status": "completed"
    },
    "tags": []
   },
   "outputs": [],
   "source": []
  }
 ],
 "metadata": {
  "kaggle": {
   "accelerator": "gpu",
   "dataSources": [
    {
     "datasetId": 5754676,
     "sourceId": 9480039,
     "sourceType": "datasetVersion"
    }
   ],
   "dockerImageVersionId": 30762,
   "isGpuEnabled": true,
   "isInternetEnabled": true,
   "language": "python",
   "sourceType": "notebook"
  },
  "kernelspec": {
   "display_name": "Python 3",
   "language": "python",
   "name": "python3"
  },
  "language_info": {
   "codemirror_mode": {
    "name": "ipython",
    "version": 3
   },
   "file_extension": ".py",
   "mimetype": "text/x-python",
   "name": "python",
   "nbconvert_exporter": "python",
   "pygments_lexer": "ipython3",
   "version": "3.10.14"
  },
  "papermill": {
   "default_parameters": {},
   "duration": 426.891369,
   "end_time": "2024-09-25T19:45:03.672593",
   "environment_variables": {},
   "exception": null,
   "input_path": "__notebook__.ipynb",
   "output_path": "__notebook__.ipynb",
   "parameters": {},
   "start_time": "2024-09-25T19:37:56.781224",
   "version": "2.6.0"
  }
 },
 "nbformat": 4,
 "nbformat_minor": 5
}
