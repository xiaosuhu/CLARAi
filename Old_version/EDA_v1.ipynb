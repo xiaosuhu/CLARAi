{
 "cells": [
  {
   "cell_type": "code",
   "execution_count": 1,
   "metadata": {},
   "outputs": [],
   "source": [
    "import pandas as pd\n",
    "import numpy as np\n",
    "\n",
    "import glob"
   ]
  },
  {
   "cell_type": "code",
   "execution_count": 5,
   "metadata": {},
   "outputs": [],
   "source": [
    "# data_path = glob.glob(\"/home/frank/Documents/CLARAi/Data/*.csv\")  # Modify with your directory path\n",
    "# label_path = glob.glob(\"/home/frank/Documents/CLARAi/Label/*.csv\")\n",
    "\n",
    "data_path = glob.glob(\"D:\\PythonProjs\\CLARAi\\Data/*.csv\")  # Modify with your directory path\n",
    "label_path = glob.glob(\"D:\\PythonProjs\\CLARAi\\Label/*.csv\")\n",
    "\n",
    "# Sort the lists\n",
    "data_path = sorted(data_path)\n",
    "label_path = sorted(label_path)"
   ]
  },
  {
   "cell_type": "code",
   "execution_count": 6,
   "metadata": {},
   "outputs": [
    {
     "name": "stdout",
     "output_type": "stream",
     "text": [
      "         CH1        CH2         CH3         CH4          CH5          CH6  \\\n",
      "0  38.447788 -43.648099   39.347803  -29.719017  -363.007279  -150.935018   \n",
      "1  34.054984 -36.015170  -74.573962  -43.524329  -123.682444  -217.247774   \n",
      "2  30.839414 -40.666050  -47.039646   44.321334 -1268.530692  1195.341754   \n",
      "3  19.707806 -33.196328 -135.946664  105.837883   397.375690  -353.281765   \n",
      "4  15.757424 -39.551951  -20.663926  -34.559111  -219.119992   -25.863693   \n",
      "\n",
      "          CH7          CH8        CH9       CH10  ...       CH29       CH30  \\\n",
      "0  218.688487  -504.728575  28.594987  -7.672596  ...  38.627231  45.543909   \n",
      "1 -535.172217   883.992306  34.607994  13.830959  ...  32.924794  45.353130   \n",
      "2 -953.363593  1240.068578  31.665582   3.734971  ...  26.615300  45.861579   \n",
      "3  382.286986  -459.939906  10.765558  18.484395  ...  19.732056  45.909897   \n",
      "4 -485.617210   846.785937  14.717191  20.122192  ...  25.097899  45.497139   \n",
      "\n",
      "        CH31       CH32       CH33       CH34       CH35       CH36  \\\n",
      "0  63.380486  72.326091  -3.112817  22.279645  -2.230719  15.967796   \n",
      "1  53.029971  76.801530  -8.931127  20.818331  -6.400814  14.920443   \n",
      "2  55.346870  73.384521 -14.647505  20.411230 -10.497852  14.628666   \n",
      "3  43.699201  78.749365 -20.969963  19.704132 -15.029279  14.121875   \n",
      "4  45.451701  81.627738 -10.005983  21.719917  -7.171184  15.566627   \n",
      "\n",
      "   pseudo_id  label  \n",
      "0  subject_1      0  \n",
      "1  subject_1      0  \n",
      "2  subject_1      0  \n",
      "3  subject_1      0  \n",
      "4  subject_1      0  \n",
      "\n",
      "[5 rows x 38 columns]\n"
     ]
    }
   ],
   "source": [
    "# Initialize a list to store combined DataFrames\n",
    "dfs = []\n",
    "\n",
    "\n",
    "# Loop through files and add a pseudo ID\n",
    "for i, (datapath, labelpath) in enumerate(zip(data_path, label_path), start=1):\n",
    "    # Read each CSV\n",
    "    data = pd.read_csv(datapath)\n",
    "    label = pd.read_csv(labelpath)\n",
    "    \n",
    "    # Add a pseudo ID column to both data and label\n",
    "    data['pseudo_id'] = f'subject_{i}'\n",
    "    # label['pseudo_id'] = f'label_{i}'\n",
    "    \n",
    "    # Combine data and label\n",
    "    combined_df = pd.concat([data, label], axis=1)\n",
    "    \n",
    "    # Append combined DataFrame to list\n",
    "    dfs.append(combined_df)\n",
    "\n",
    "# Concatenate all combined DataFrames into a single DataFrame\n",
    "final_df = pd.concat(dfs, axis=0, ignore_index=True)\n",
    "\n",
    "# Display or save the final DataFrame\n",
    "print(final_df.head())  # or final_df.to_csv('output.csv', index=False)"
   ]
  },
  {
   "cell_type": "code",
   "execution_count": 7,
   "metadata": {},
   "outputs": [
    {
     "data": {
      "text/plain": [
       "(17672, 38)"
      ]
     },
     "execution_count": 7,
     "metadata": {},
     "output_type": "execute_result"
    }
   ],
   "source": [
    "final_df.shape"
   ]
  },
  {
   "cell_type": "code",
   "execution_count": null,
   "metadata": {},
   "outputs": [],
   "source": []
  }
 ],
 "metadata": {
  "kernelspec": {
   "display_name": "torchwin",
   "language": "python",
   "name": "python3"
  },
  "language_info": {
   "codemirror_mode": {
    "name": "ipython",
    "version": 3
   },
   "file_extension": ".py",
   "mimetype": "text/x-python",
   "name": "python",
   "nbconvert_exporter": "python",
   "pygments_lexer": "ipython3",
   "version": "3.10.14"
  },
  "orig_nbformat": 4
 },
 "nbformat": 4,
 "nbformat_minor": 2
}
