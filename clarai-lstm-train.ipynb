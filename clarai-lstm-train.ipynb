{
 "cells": [
  {
   "cell_type": "code",
   "execution_count": 29,
   "id": "6e26a4c3",
   "metadata": {
    "execution": {
     "iopub.execute_input": "2024-09-26T13:31:47.537841Z",
     "iopub.status.busy": "2024-09-26T13:31:47.537173Z",
     "iopub.status.idle": "2024-09-26T13:31:52.985040Z",
     "shell.execute_reply": "2024-09-26T13:31:52.984177Z"
    },
    "papermill": {
     "duration": 5.457137,
     "end_time": "2024-09-26T13:31:52.987640",
     "exception": false,
     "start_time": "2024-09-26T13:31:47.530503",
     "status": "completed"
    },
    "tags": []
   },
   "outputs": [],
   "source": [
    "\n",
    "from sklearn.model_selection import train_test_split\n",
    "from sklearn.preprocessing import StandardScaler\n",
    "from sklearn.utils.class_weight import compute_class_weight\n",
    "from sklearn.metrics import confusion_matrix\n",
    "from sklearn.metrics import roc_curve, auc\n",
    "\n",
    "import torch\n",
    "import torch.nn as nn\n",
    "import torch.optim as optim\n",
    "import pandas as pd\n",
    "import numpy as np\n",
    "import matplotlib.pyplot as plt\n",
    "import seaborn as sns\n",
    "\n",
    "import glob"
   ]
  },
  {
   "cell_type": "code",
   "execution_count": 30,
   "id": "308b8450",
   "metadata": {
    "execution": {
     "iopub.execute_input": "2024-09-26T13:31:53.000368Z",
     "iopub.status.busy": "2024-09-26T13:31:52.999980Z",
     "iopub.status.idle": "2024-09-26T13:31:53.066799Z",
     "shell.execute_reply": "2024-09-26T13:31:53.065578Z"
    },
    "papermill": {
     "duration": 0.074834,
     "end_time": "2024-09-26T13:31:53.068705",
     "exception": false,
     "start_time": "2024-09-26T13:31:52.993871",
     "status": "completed"
    },
    "tags": []
   },
   "outputs": [
    {
     "name": "stdout",
     "output_type": "stream",
     "text": [
      "cuda\n"
     ]
    }
   ],
   "source": [
    "# device = torch.device(\"mps\")\n",
    "device = torch.device(\"cuda\" if torch.cuda.is_available() else \"cpu\")\n",
    "print(device)"
   ]
  },
  {
   "cell_type": "code",
   "execution_count": 31,
   "id": "f07a813c",
   "metadata": {
    "execution": {
     "iopub.execute_input": "2024-09-26T13:31:53.079766Z",
     "iopub.status.busy": "2024-09-26T13:31:53.079435Z",
     "iopub.status.idle": "2024-09-26T13:31:53.086590Z",
     "shell.execute_reply": "2024-09-26T13:31:53.085755Z"
    },
    "papermill": {
     "duration": 0.014782,
     "end_time": "2024-09-26T13:31:53.088468",
     "exception": false,
     "start_time": "2024-09-26T13:31:53.073686",
     "status": "completed"
    },
    "tags": []
   },
   "outputs": [
    {
     "data": {
      "text/plain": [
       "'# Step 1: Get a list of all CSV file paths in the directory\\ndata_path = glob.glob(\"D:\\\\PythonProjs\\\\CLARAi\\\\Data\\\\*.csv\")  # Modify with your directory path\\nlabel_path = glob.glob(\"D:\\\\PythonProjs\\\\CLARAi\\\\Label\\\\*.csv\")\\n\\n# Step 2: Read each CSV file and store in a list of DataFrames\\ndatadfs = [pd.read_csv(file) for file in data_path]\\nlabeldfs = [pd.read_csv(file) for file in label_path]\\n\\n# Step 3: Concatenate all DataFrames into one\\nfinal_data_df = pd.concat(datadfs, ignore_index=True)\\nfinal_label_df = pd.concat(labeldfs, ignore_index=True)'"
      ]
     },
     "execution_count": 31,
     "metadata": {},
     "output_type": "execute_result"
    }
   ],
   "source": [
    "\"\"\"# Step 1: Get a list of all CSV file paths in the directory\n",
    "data_path = glob.glob(\"D:\\PythonProjs\\CLARAi\\Data\\*.csv\")  # Modify with your directory path\n",
    "label_path = glob.glob(\"D:\\PythonProjs\\CLARAi\\Label\\*.csv\")\n",
    "\n",
    "# Step 2: Read each CSV file and store in a list of DataFrames\n",
    "datadfs = [pd.read_csv(file) for file in data_path]\n",
    "labeldfs = [pd.read_csv(file) for file in label_path]\n",
    "\n",
    "# Step 3: Concatenate all DataFrames into one\n",
    "final_data_df = pd.concat(datadfs, ignore_index=True)\n",
    "final_label_df = pd.concat(labeldfs, ignore_index=True)\"\"\""
   ]
  },
  {
   "cell_type": "code",
   "execution_count": 32,
   "id": "1a1be3c4",
   "metadata": {
    "execution": {
     "iopub.execute_input": "2024-09-26T13:31:53.099496Z",
     "iopub.status.busy": "2024-09-26T13:31:53.099218Z",
     "iopub.status.idle": "2024-09-26T13:31:53.107249Z",
     "shell.execute_reply": "2024-09-26T13:31:53.106425Z"
    },
    "papermill": {
     "duration": 0.015662,
     "end_time": "2024-09-26T13:31:53.109099",
     "exception": false,
     "start_time": "2024-09-26T13:31:53.093437",
     "status": "completed"
    },
    "tags": []
   },
   "outputs": [],
   "source": [
    "def data_gen(data_path, label_path):\n",
    "    final_data_df = pd.read_csv(data_path)\n",
    "    final_label_df = pd.read_csv(label_path)\n",
    "\n",
    "    train_labels_flat = final_label_df.values.flatten()\n",
    "    \n",
    "    # Compute class weights (inverse of class frequencies)\n",
    "    class_weights = compute_class_weight(class_weight='balanced', classes=np.unique(train_labels_flat), y=train_labels_flat)\n",
    "    class_weights = torch.tensor(class_weights, dtype=torch.float32)\n",
    "\n",
    "    # Parameters\n",
    "    sequence_length = 256  # Length of each subsequence\n",
    "    num_subsequences = 100  # Number of subsequences to extract\n",
    "\n",
    "    # Get possible starting indices, ensuring there's enough space for a full subsequence\n",
    "    possible_starts = np.arange(0, len(final_data_df) - sequence_length + 1)\n",
    "    np.random.shuffle(possible_starts)\n",
    "\n",
    "    # Select the first `num_subsequences` starting indices\n",
    "    selected_starts = possible_starts[:num_subsequences]\n",
    "\n",
    "    # Create a list to hold the subsequences\n",
    "    subsequences = [final_data_df.iloc[start:start + sequence_length].values for start in selected_starts]\n",
    "    sublabels = [final_label_df.iloc[start:start + sequence_length].values for start in selected_starts]\n",
    "\n",
    "    # Convert subsequences list to a NumPy array\n",
    "    subsequences_array = np.array(subsequences)\n",
    "    sublabels_array = np.array(sublabels)\n",
    "\n",
    "    # subsequences_array will have shape (num_subsequences, sequence_length, num_channels)\n",
    "    # print(subsequences_array.shape)  # Should print (100, 100, 36)\n",
    "    # print(sublabels_array.shape)\n",
    "\n",
    "    return torch.from_numpy(subsequences_array), torch.from_numpy(sublabels_array), class_weights\n"
   ]
  },
  {
   "cell_type": "code",
   "execution_count": 33,
   "id": "d66d2158",
   "metadata": {
    "execution": {
     "iopub.execute_input": "2024-09-26T13:31:53.120071Z",
     "iopub.status.busy": "2024-09-26T13:31:53.119790Z",
     "iopub.status.idle": "2024-09-26T13:31:53.129947Z",
     "shell.execute_reply": "2024-09-26T13:31:53.129176Z"
    },
    "papermill": {
     "duration": 0.017662,
     "end_time": "2024-09-26T13:31:53.131778",
     "exception": false,
     "start_time": "2024-09-26T13:31:53.114116",
     "status": "completed"
    },
    "tags": []
   },
   "outputs": [],
   "source": [
    "\n",
    "# Sample time series data with shape (batch_size, sequence_length, num_features)\n",
    "# neuroimaging_data: Time series data from multiple neuroimaging channels\n",
    "# labels: Binary labels (0 = no pain, 1 = pain) for each time step\n",
    "# Assume neuroimaging_data is a numpy array of shape (num_samples, sequence_length, num_channels)\n",
    "# labels is a numpy array of shape (num_samples, sequence_length)\n",
    "\n",
    "class LSTMClassifier(nn.Module):\n",
    "    def __init__(self, input_size, hidden_size, output_size, num_layers=1):\n",
    "        super(LSTMClassifier, self).__init__()\n",
    "        self.hidden_size = hidden_size\n",
    "        self.num_layers = num_layers\n",
    "        self.lstm = nn.LSTM(input_size, hidden_size, num_layers, batch_first=True)\n",
    "        self.fc = nn.Linear(hidden_size, output_size)\n",
    "        self.batch_norm = nn.BatchNorm1d(hidden_size)  # Correct Batch Normalization\n",
    "        self.sigmoid = nn.Sigmoid()\n",
    "\n",
    "    def forward(self, x):\n",
    "        # Initialize hidden state and cell state with zeros\n",
    "        h0 = torch.zeros(self.num_layers, x.size(0), self.hidden_size).to(x.device)\n",
    "        c0 = torch.zeros(self.num_layers, x.size(0), self.hidden_size).to(x.device)\n",
    "\n",
    "        # LSTM forward pass\n",
    "        out, _ = self.lstm(x, (h0, c0))\n",
    "        \n",
    "        # Apply batch normalization\n",
    "        # Permute to (batch_size, hidden_size, sequence_length) for batch norm\n",
    "        out = out.permute(0, 2, 1)\n",
    "        out = self.batch_norm(out)\n",
    "        \n",
    "        # Permute back to (batch_size, sequence_length, hidden_size)\n",
    "        out = out.permute(0, 2, 1)\n",
    "        \n",
    "        # Apply the linear layer to each time step\n",
    "        out = self.fc(out)\n",
    "        \n",
    "        return self.sigmoid(out)\n",
    "\n"
   ]
  },
  {
   "cell_type": "code",
   "execution_count": 34,
   "id": "3a772df6",
   "metadata": {
    "execution": {
     "iopub.execute_input": "2024-09-26T13:31:53.142911Z",
     "iopub.status.busy": "2024-09-26T13:31:53.142634Z",
     "iopub.status.idle": "2024-09-26T13:31:53.188603Z",
     "shell.execute_reply": "2024-09-26T13:31:53.187877Z"
    },
    "papermill": {
     "duration": 0.053654,
     "end_time": "2024-09-26T13:31:53.190428",
     "exception": false,
     "start_time": "2024-09-26T13:31:53.136774",
     "status": "completed"
    },
    "tags": []
   },
   "outputs": [],
   "source": [
    "data_path = glob.glob(\"D:\\PythonProjs\\CLARAi\\Data_train\\*.csv\")  # Modify with your directory path\n",
    "label_path = glob.glob(\"D:\\PythonProjs\\CLARAi\\Label_train\\*.csv\")\n",
    "\n",
    "# data_path = glob.glob(\"/home/frank/Documents/CLARAi/Data/*.csv\")  # Modify with your directory path\n",
    "# label_path = glob.glob(\"/home/frank/Documents/CLARAi/Label/*.csv\")\n",
    "\n",
    "# data_path = glob.glob(\"/Users/xiaosuhu/Documents/Python/CLARAi/Data/*.csv\")  # Modify with your directory path\n",
    "# label_path = glob.glob(\"/Users/xiaosuhu/Documents/Python/CLARAi/Data/*.csv\")\n",
    "\n",
    "# data_path = glob.glob(\"/kaggle/input/clarai/CLARAi/Data/*.csv\")  # Modify with your directory path\n",
    "# label_path = glob.glob(\"/kaggle/input/clarai/CLARAi/Label/*.csv\")\n",
    "\n",
    "# Sort the lists\n",
    "data_path = sorted(data_path)\n",
    "label_path = sorted(label_path)\n"
   ]
  },
  {
   "cell_type": "code",
   "execution_count": 35,
   "id": "276d55f6",
   "metadata": {
    "execution": {
     "iopub.execute_input": "2024-09-26T13:31:53.201578Z",
     "iopub.status.busy": "2024-09-26T13:31:53.201291Z",
     "iopub.status.idle": "2024-09-26T13:31:53.216852Z",
     "shell.execute_reply": "2024-09-26T13:31:53.216189Z"
    },
    "papermill": {
     "duration": 0.023327,
     "end_time": "2024-09-26T13:31:53.218790",
     "exception": false,
     "start_time": "2024-09-26T13:31:53.195463",
     "status": "completed"
    },
    "tags": []
   },
   "outputs": [],
   "source": [
    "\n",
    "# data_path = \"D:\\PythonProjs\\CLARAi\\Data\\data1.csv\"\n",
    "# label_path = \"D:\\PythonProjs\\CLARAi\\Label\\label1.csv\"\n",
    "neuroimaging_data = torch.empty(0,256,36)\n",
    "labels = torch.empty(0,256,1)\n",
    "class_weights = torch.Tensor([0., 0.])"
   ]
  },
  {
   "cell_type": "code",
   "execution_count": 36,
   "id": "3b113dbf",
   "metadata": {
    "execution": {
     "iopub.execute_input": "2024-09-26T13:31:53.229850Z",
     "iopub.status.busy": "2024-09-26T13:31:53.229587Z",
     "iopub.status.idle": "2024-09-26T13:31:54.330038Z",
     "shell.execute_reply": "2024-09-26T13:31:54.329172Z"
    },
    "papermill": {
     "duration": 1.108407,
     "end_time": "2024-09-26T13:31:54.332186",
     "exception": false,
     "start_time": "2024-09-26T13:31:53.223779",
     "status": "completed"
    },
    "tags": []
   },
   "outputs": [
    {
     "name": "stdout",
     "output_type": "stream",
     "text": [
      "datapath: D:\\PythonProjs\\CLARAi\\Data_train\\data1.csv\n",
      "labelpath: D:\\PythonProjs\\CLARAi\\Label_train\\label1.csv\n",
      "Data shape: torch.Size([100, 256, 36]), Label shape: torch.Size([100, 256, 1]), Weight shape: torch.Size([2])\n",
      "datapath: D:\\PythonProjs\\CLARAi\\Data_train\\data10.csv\n",
      "labelpath: D:\\PythonProjs\\CLARAi\\Label_train\\label10.csv\n",
      "Data shape: torch.Size([100, 256, 36]), Label shape: torch.Size([100, 256, 1]), Weight shape: torch.Size([2])\n",
      "datapath: D:\\PythonProjs\\CLARAi\\Data_train\\data11.csv\n",
      "labelpath: D:\\PythonProjs\\CLARAi\\Label_train\\label11.csv\n",
      "Data shape: torch.Size([100, 256, 36]), Label shape: torch.Size([100, 256, 1]), Weight shape: torch.Size([2])\n",
      "datapath: D:\\PythonProjs\\CLARAi\\Data_train\\data12.csv\n",
      "labelpath: D:\\PythonProjs\\CLARAi\\Label_train\\label12.csv\n",
      "Data shape: torch.Size([100, 256, 36]), Label shape: torch.Size([100, 256, 1]), Weight shape: torch.Size([2])\n",
      "datapath: D:\\PythonProjs\\CLARAi\\Data_train\\data13.csv\n",
      "labelpath: D:\\PythonProjs\\CLARAi\\Label_train\\label13.csv\n",
      "Data shape: torch.Size([100, 256, 36]), Label shape: torch.Size([100, 256, 1]), Weight shape: torch.Size([2])\n",
      "datapath: D:\\PythonProjs\\CLARAi\\Data_train\\data16.csv\n",
      "labelpath: D:\\PythonProjs\\CLARAi\\Label_train\\label16.csv\n",
      "Data shape: torch.Size([100, 256, 36]), Label shape: torch.Size([100, 256, 1]), Weight shape: torch.Size([2])\n",
      "datapath: D:\\PythonProjs\\CLARAi\\Data_train\\data17.csv\n",
      "labelpath: D:\\PythonProjs\\CLARAi\\Label_train\\label17.csv\n",
      "Data shape: torch.Size([100, 256, 36]), Label shape: torch.Size([100, 256, 1]), Weight shape: torch.Size([2])\n",
      "datapath: D:\\PythonProjs\\CLARAi\\Data_train\\data3.csv\n",
      "labelpath: D:\\PythonProjs\\CLARAi\\Label_train\\label3.csv\n",
      "Data shape: torch.Size([100, 256, 36]), Label shape: torch.Size([100, 256, 1]), Weight shape: torch.Size([2])\n",
      "datapath: D:\\PythonProjs\\CLARAi\\Data_train\\data4.csv\n",
      "labelpath: D:\\PythonProjs\\CLARAi\\Label_train\\label4.csv\n",
      "Data shape: torch.Size([100, 256, 36]), Label shape: torch.Size([100, 256, 1]), Weight shape: torch.Size([2])\n",
      "datapath: D:\\PythonProjs\\CLARAi\\Data_train\\data5.csv\n",
      "labelpath: D:\\PythonProjs\\CLARAi\\Label_train\\label5.csv\n",
      "Data shape: torch.Size([100, 256, 36]), Label shape: torch.Size([100, 256, 1]), Weight shape: torch.Size([2])\n",
      "datapath: D:\\PythonProjs\\CLARAi\\Data_train\\data6.csv\n",
      "labelpath: D:\\PythonProjs\\CLARAi\\Label_train\\label6.csv\n",
      "Data shape: torch.Size([100, 256, 36]), Label shape: torch.Size([100, 256, 1]), Weight shape: torch.Size([2])\n",
      "datapath: D:\\PythonProjs\\CLARAi\\Data_train\\data7.csv\n",
      "labelpath: D:\\PythonProjs\\CLARAi\\Label_train\\label7.csv\n",
      "Data shape: torch.Size([100, 256, 36]), Label shape: torch.Size([100, 256, 1]), Weight shape: torch.Size([2])\n",
      "datapath: D:\\PythonProjs\\CLARAi\\Data_train\\data8.csv\n",
      "labelpath: D:\\PythonProjs\\CLARAi\\Label_train\\label8.csv\n",
      "Data shape: torch.Size([100, 256, 36]), Label shape: torch.Size([100, 256, 1]), Weight shape: torch.Size([2])\n",
      "datapath: D:\\PythonProjs\\CLARAi\\Data_train\\data9.csv\n",
      "labelpath: D:\\PythonProjs\\CLARAi\\Label_train\\label9.csv\n",
      "Data shape: torch.Size([100, 256, 36]), Label shape: torch.Size([100, 256, 1]), Weight shape: torch.Size([2])\n"
     ]
    }
   ],
   "source": [
    "\n",
    "for datapath, labelpath in zip(data_path, label_path):\n",
    "    print(f'datapath: {datapath}')\n",
    "    print(f'labelpath: {labelpath}')    \n",
    "    data, label, weight = data_gen(datapath, labelpath)\n",
    "    print(f'Data shape: {data.shape}, Label shape: {label.shape}, Weight shape: {weight.shape}')\n",
    "    neuroimaging_data= torch.cat([neuroimaging_data, data])\n",
    "    labels = torch.cat([labels, label])\n",
    "    class_weights += weight\n",
    "\n",
    "normalized_weights = class_weights / class_weights.sum()\n"
   ]
  },
  {
   "cell_type": "code",
   "execution_count": 37,
   "id": "47e2719d",
   "metadata": {
    "execution": {
     "iopub.execute_input": "2024-09-26T13:31:54.346217Z",
     "iopub.status.busy": "2024-09-26T13:31:54.345408Z",
     "iopub.status.idle": "2024-09-26T13:31:54.351843Z",
     "shell.execute_reply": "2024-09-26T13:31:54.350883Z"
    },
    "papermill": {
     "duration": 0.015266,
     "end_time": "2024-09-26T13:31:54.353696",
     "exception": false,
     "start_time": "2024-09-26T13:31:54.338430",
     "status": "completed"
    },
    "tags": []
   },
   "outputs": [
    {
     "data": {
      "text/plain": [
       "(torch.Size([1400, 256, 36]), torch.Size([1400, 256, 1]))"
      ]
     },
     "execution_count": 37,
     "metadata": {},
     "output_type": "execute_result"
    }
   ],
   "source": [
    "neuroimaging_data.shape, labels.shape"
   ]
  },
  {
   "cell_type": "code",
   "execution_count": 38,
   "id": "6ccaa7c7",
   "metadata": {
    "execution": {
     "iopub.execute_input": "2024-09-26T13:31:54.367299Z",
     "iopub.status.busy": "2024-09-26T13:31:54.366683Z",
     "iopub.status.idle": "2024-09-26T13:31:54.383197Z",
     "shell.execute_reply": "2024-09-26T13:31:54.382305Z"
    },
    "papermill": {
     "duration": 0.025207,
     "end_time": "2024-09-26T13:31:54.385018",
     "exception": false,
     "start_time": "2024-09-26T13:31:54.359811",
     "status": "completed"
    },
    "tags": []
   },
   "outputs": [
    {
     "name": "stdout",
     "output_type": "stream",
     "text": [
      "Number of 0s: 274612Number of 1s: 83788 Ratio is 0.23378348214285713\n"
     ]
    }
   ],
   "source": [
    "# Count the number of 1s\n",
    "num_zeros = torch.sum(labels == 0).item()\n",
    "num_ones = torch.sum(labels == 1).item()\n",
    "\n",
    "print(f\"Number of 0s: {num_zeros}Number of 1s: {num_ones} Ratio is {num_ones/(num_ones + num_zeros)}\")"
   ]
  },
  {
   "cell_type": "code",
   "execution_count": 39,
   "id": "4ce3d37f",
   "metadata": {
    "execution": {
     "iopub.execute_input": "2024-09-26T13:31:54.398717Z",
     "iopub.status.busy": "2024-09-26T13:31:54.398099Z",
     "iopub.status.idle": "2024-09-26T13:31:55.975758Z",
     "shell.execute_reply": "2024-09-26T13:31:55.974940Z"
    },
    "papermill": {
     "duration": 1.586908,
     "end_time": "2024-09-26T13:31:55.978098",
     "exception": false,
     "start_time": "2024-09-26T13:31:54.391190",
     "status": "completed"
    },
    "tags": []
   },
   "outputs": [
    {
     "name": "stderr",
     "output_type": "stream",
     "text": [
      "C:\\Users\\xiaos\\AppData\\Local\\Temp\\ipykernel_4452\\1694373061.py:16: UserWarning: To copy construct from a tensor, it is recommended to use sourceTensor.clone().detach() or sourceTensor.clone().detach().requires_grad_(True), rather than torch.tensor(sourceTensor).\n",
      "  train_data, test_data = torch.tensor(train_data, dtype=torch.float32).to(device), torch.tensor(test_data, dtype=torch.float32).to(device)\n",
      "C:\\Users\\xiaos\\AppData\\Local\\Temp\\ipykernel_4452\\1694373061.py:17: UserWarning: To copy construct from a tensor, it is recommended to use sourceTensor.clone().detach() or sourceTensor.clone().detach().requires_grad_(True), rather than torch.tensor(sourceTensor).\n",
      "  train_labels, test_labels = torch.tensor(train_labels, dtype=torch.float32).to(device), torch.tensor(test_labels, dtype=torch.float32).to(device)\n"
     ]
    }
   ],
   "source": [
    "# Hyperparameters\n",
    "input_size = neuroimaging_data.shape[2]  # Number of features (channels)\n",
    "hidden_size = 64  # Hidden state size of the GRU\n",
    "output_size = 1  # Binary classification\n",
    "num_layers = 6  # Number of GRU layers\n",
    "learning_rate = 0.001\n",
    "num_epochs = 100\n",
    "batch_size = 32\n",
    "\n",
    "# Preprocessing (e.g., normalization)\n",
    "# scaler = StandardScaler()\n",
    "# neuroimaging_data = scaler.fit_transform(neuroimaging_data.reshape(-1, input_size)).reshape(neuroimaging_data.shape)\n",
    "\n",
    "# Convert numpy arrays to PyTorch tensors\n",
    "train_data, test_data, train_labels, test_labels = train_test_split(neuroimaging_data, labels, test_size=0.2, random_state=42)\n",
    "train_data, test_data = torch.tensor(train_data, dtype=torch.float32).to(device), torch.tensor(test_data, dtype=torch.float32).to(device)\n",
    "train_labels, test_labels = torch.tensor(train_labels, dtype=torch.float32).to(device), torch.tensor(test_labels, dtype=torch.float32).to(device)\n",
    "\n",
    "\n",
    "# Create GRU model\n",
    "model = LSTMClassifier(input_size, hidden_size, output_size, num_layers).to(device)\n",
    "\n",
    "# Loss and optimizer\n",
    "# criterion = nn.BCELoss()  # Binary Cross Entropy Loss for binary classification\n",
    "\n",
    "\n",
    "# Convert the class weights to a tensor and move to the appropriate device\n",
    "class_weights = class_weights.to(device)\n",
    "\n",
    "# Use BCEWithLogitsLoss, which combines sigmoid activation and binary cross-entropy loss\n",
    "criterion = nn.BCEWithLogitsLoss(pos_weight=normalized_weights[0])  # pos_weight applies only to class 1\n",
    "\n",
    "# optimizer = optim.Adam(model.parameters(), lr=learning_rate)\n",
    "optimizer = optim.Adam(model.parameters(), lr=learning_rate, weight_decay=1e-5)\n",
    "scheduler = torch.optim.lr_scheduler.ReduceLROnPlateau(optimizer, mode='min', factor=0.1, patience=20)"
   ]
  },
  {
   "cell_type": "code",
   "execution_count": 40,
   "id": "15c6d86b",
   "metadata": {
    "execution": {
     "iopub.execute_input": "2024-09-26T13:31:55.992648Z",
     "iopub.status.busy": "2024-09-26T13:31:55.991768Z",
     "iopub.status.idle": "2024-09-26T13:32:54.063456Z",
     "shell.execute_reply": "2024-09-26T13:32:54.062219Z"
    },
    "papermill": {
     "duration": 58.080961,
     "end_time": "2024-09-26T13:32:54.065592",
     "exception": false,
     "start_time": "2024-09-26T13:31:55.984631",
     "status": "completed"
    },
    "tags": []
   },
   "outputs": [
    {
     "name": "stdout",
     "output_type": "stream",
     "text": [
      "Epoch [5/100], Train Loss: 0.7409, Val Loss: 0.7532\n",
      "Epoch [10/100], Train Loss: 0.6833, Val Loss: 0.7203\n",
      "Epoch [15/100], Train Loss: 0.6649, Val Loss: 0.6682\n",
      "Epoch [20/100], Train Loss: 0.6553, Val Loss: 0.6497\n",
      "Epoch [25/100], Train Loss: 0.6455, Val Loss: 0.6604\n",
      "Epoch [30/100], Train Loss: 0.6344, Val Loss: 0.7000\n",
      "Epoch [35/100], Train Loss: 0.6223, Val Loss: 0.7380\n",
      "Epoch [40/100], Train Loss: 0.6123, Val Loss: 0.7764\n",
      "Epoch [45/100], Train Loss: 0.6079, Val Loss: 0.7245\n",
      "Epoch [50/100], Train Loss: 0.6067, Val Loss: 0.6786\n",
      "Epoch [55/100], Train Loss: 0.6056, Val Loss: 0.6521\n",
      "Epoch [60/100], Train Loss: 0.6045, Val Loss: 0.6373\n",
      "Epoch [65/100], Train Loss: 0.6035, Val Loss: 0.6288\n",
      "Epoch [70/100], Train Loss: 0.6024, Val Loss: 0.6236\n",
      "Epoch [75/100], Train Loss: 0.6014, Val Loss: 0.6200\n",
      "Epoch [80/100], Train Loss: 0.6004, Val Loss: 0.6169\n",
      "Epoch [85/100], Train Loss: 0.5994, Val Loss: 0.6147\n",
      "Epoch [90/100], Train Loss: 0.5985, Val Loss: 0.6134\n",
      "Epoch [95/100], Train Loss: 0.5976, Val Loss: 0.6132\n",
      "Epoch [100/100], Train Loss: 0.5968, Val Loss: 0.6123\n"
     ]
    }
   ],
   "source": [
    "# Training loop\n",
    "for epoch in range(num_epochs):\n",
    "    model.train()  # Set model to training mode\n",
    "    optimizer.zero_grad()\n",
    "    \n",
    "    # Forward pass (training)\n",
    "    outputs = model(train_data)\n",
    "    loss = criterion(outputs, train_labels)\n",
    "    \n",
    "    # Backward pass and optimization\n",
    "    loss.backward()\n",
    "    \n",
    "    # Clip gradients to prevent exploding gradients\n",
    "    torch.nn.utils.clip_grad_norm_(model.parameters(), max_norm=1.0)\n",
    "    \n",
    "    optimizer.step()\n",
    "\n",
    "    # Validation phase (no gradient calculations)\n",
    "    model.eval()  # Set model to evaluation mode\n",
    "    with torch.no_grad():  # Disable gradient calculation for validation\n",
    "        val_outputs = model(test_data)\n",
    "        val_loss = criterion(val_outputs, test_labels)\n",
    "\n",
    "    # Update learning rate if validation loss plateaus\n",
    "    scheduler.step(val_loss)\n",
    "\n",
    "    # Print loss every 5 epochs\n",
    "    if (epoch + 1) % 5 == 0:\n",
    "        print(f'Epoch [{epoch+1}/{num_epochs}], Train Loss: {loss.item():.4f}, Val Loss: {val_loss.item():.4f}')\n"
   ]
  },
  {
   "cell_type": "code",
   "execution_count": 41,
   "id": "11b19f06",
   "metadata": {},
   "outputs": [
    {
     "name": "stdout",
     "output_type": "stream",
     "text": [
      "Model state_dict saved to 'lstm_unidi_model_state_dict.pth'\n"
     ]
    }
   ],
   "source": [
    "# After the training loop\n",
    "torch.save(model.state_dict(), 'D:\\PythonProjs\\CLARAi\\Trained_model_weights\\lstm_unidi_model_state_dict_ep_100.pth')\n",
    "print(\"Model state_dict saved to 'lstm_unidi_model_state_dict.pth'\")"
   ]
  },
  {
   "cell_type": "code",
   "execution_count": 42,
   "id": "8eaaf638",
   "metadata": {
    "execution": {
     "iopub.execute_input": "2024-09-26T13:32:54.095763Z",
     "iopub.status.busy": "2024-09-26T13:32:54.094832Z",
     "iopub.status.idle": "2024-09-26T13:32:54.504689Z",
     "shell.execute_reply": "2024-09-26T13:32:54.503796Z"
    },
    "papermill": {
     "duration": 0.426829,
     "end_time": "2024-09-26T13:32:54.506803",
     "exception": false,
     "start_time": "2024-09-26T13:32:54.079974",
     "status": "completed"
    },
    "tags": []
   },
   "outputs": [
    {
     "name": "stdout",
     "output_type": "stream",
     "text": [
      "Accuracy: 88.48%\n",
      "Confusion Matrix:\n",
      "[[50705  4343]\n",
      " [ 3911 12721]]\n"
     ]
    },
    {
     "data": {
      "image/png": "[encoded data removed]",
      "text/plain": [
       "<Figure size 600x400 with 2 Axes>"
      ]
     },
     "metadata": {},
     "output_type": "display_data"
    }
   ],
   "source": [
    "\n",
    "model.eval()\n",
    "with torch.no_grad():\n",
    "    test_outputs = model(test_data)\n",
    "    predicted = (test_outputs > 0.5).float()  # Threshold at 0.5 for binary classification\n",
    "    \n",
    "    # Calculate accuracy\n",
    "    accuracy = (predicted == test_labels).float().mean()\n",
    "    print(f'Accuracy: {accuracy.item() * 100:.2f}%')\n",
    "\n",
    "    # Flatten the predicted and test labels for confusion matrix calculation\n",
    "    predicted_flat = predicted.cpu().numpy().flatten()\n",
    "    test_labels_flat = test_labels.cpu().numpy().flatten()\n",
    "\n",
    "    # Generate the confusion matrix\n",
    "    cm = confusion_matrix(test_labels_flat, predicted_flat)\n",
    "    print(f'Confusion Matrix:\\n{cm}')\n",
    "\n",
    "    # Optional: plot the confusion matrix for visualization\n",
    "    plt.figure(figsize=(6,4))\n",
    "    sns.heatmap(cm, annot=True, fmt=\"d\", cmap=\"Blues\", xticklabels=['No Pain', 'Pain'], yticklabels=['No Pain', 'Pain'])\n",
    "    plt.ylabel('True Label')\n",
    "    plt.xlabel('Predicted Label')\n",
    "    plt.title('Confusion Matrix')\n",
    "    plt.show()\n"
   ]
  },
  {
   "cell_type": "code",
   "execution_count": 43,
   "id": "f213b008",
   "metadata": {
    "execution": {
     "iopub.execute_input": "2024-09-26T13:32:54.536550Z",
     "iopub.status.busy": "2024-09-26T13:32:54.536213Z",
     "iopub.status.idle": "2024-09-26T13:32:54.544397Z",
     "shell.execute_reply": "2024-09-26T13:32:54.543564Z"
    },
    "papermill": {
     "duration": 0.025188,
     "end_time": "2024-09-26T13:32:54.546292",
     "exception": false,
     "start_time": "2024-09-26T13:32:54.521104",
     "status": "completed"
    },
    "tags": []
   },
   "outputs": [],
   "source": [
    "def plot_roc_auc(model, test_data, test_labels):\n",
    "    model.eval()\n",
    "    with torch.no_grad():\n",
    "        # Get the raw logits (before applying sigmoid)\n",
    "        test_outputs = model(test_data)\n",
    "        \n",
    "        # Convert test_labels and test_outputs to NumPy arrays for sklearn\n",
    "        test_labels_flat = test_labels.cpu().numpy().flatten()\n",
    "        test_outputs_flat = test_outputs.cpu().numpy().flatten()\n",
    "\n",
    "        # Calculate the false positive rate, true positive rate, and thresholds for the ROC curve\n",
    "        fpr, tpr, thresholds = roc_curve(test_labels_flat, test_outputs_flat)\n",
    "        \n",
    "        # Calculate the AUC score\n",
    "        roc_auc = auc(fpr, tpr)\n",
    "        \n",
    "        # Plot ROC curve\n",
    "        plt.figure(figsize=(8,6))\n",
    "        plt.plot(fpr, tpr, color='blue', label=f'ROC Curve (AUC = {roc_auc:.2f})')\n",
    "        plt.plot([0, 1], [0, 1], color='grey', linestyle='--')  # Random classifier line\n",
    "        plt.xlim([0.0, 1.0])\n",
    "        plt.ylim([0.0, 1.05])\n",
    "        plt.xlabel('False Positive Rate (FPR)')\n",
    "        plt.ylabel('True Positive Rate (TPR)')\n",
    "        plt.title('Receiver Operating Characteristic (ROC)')\n",
    "        plt.legend(loc='lower right')\n",
    "        plt.show()\n",
    "\n",
    "    return roc_auc"
   ]
  },
  {
   "cell_type": "code",
   "execution_count": 44,
   "id": "ed5766d0",
   "metadata": {
    "execution": {
     "iopub.execute_input": "2024-09-26T13:32:54.575378Z",
     "iopub.status.busy": "2024-09-26T13:32:54.575090Z",
     "iopub.status.idle": "2024-09-26T13:32:54.872099Z",
     "shell.execute_reply": "2024-09-26T13:32:54.871080Z"
    },
    "papermill": {
     "duration": 0.313903,
     "end_time": "2024-09-26T13:32:54.874115",
     "exception": false,
     "start_time": "2024-09-26T13:32:54.560212",
     "status": "completed"
    },
    "tags": []
   },
   "outputs": [
    {
     "data": {
      "image/png": "[encoded data removed]",
      "text/plain": [
       "<Figure size 800x600 with 1 Axes>"
      ]
     },
     "metadata": {},
     "output_type": "display_data"
    },
    {
     "data": {
      "text/plain": [
       "0.8619767228027292"
      ]
     },
     "execution_count": 44,
     "metadata": {},
     "output_type": "execute_result"
    }
   ],
   "source": [
    "plot_roc_auc(model, test_data, test_labels)"
   ]
  },
  {
   "cell_type": "code",
   "execution_count": null,
   "id": "da7a8b81",
   "metadata": {
    "papermill": {
     "duration": 0.014623,
     "end_time": "2024-09-26T13:32:54.904077",
     "exception": false,
     "start_time": "2024-09-26T13:32:54.889454",
     "status": "completed"
    },
    "tags": []
   },
   "outputs": [],
   "source": []
  }
 ],
 "metadata": {
  "kaggle": {
   "accelerator": "gpu",
   "dataSources": [
    {
     "datasetId": 5754676,
     "sourceId": 9480039,
     "sourceType": "datasetVersion"
    }
   ],
   "dockerImageVersionId": 30762,
   "isGpuEnabled": true,
   "isInternetEnabled": true,
   "language": "python",
   "sourceType": "notebook"
  },
  "kernelspec": {
   "display_name": "Python 3",
   "language": "python",
   "name": "python3"
  },
  "language_info": {
   "codemirror_mode": {
    "name": "ipython",
    "version": 3
   },
   "file_extension": ".py",
   "mimetype": "text/x-python",
   "name": "python",
   "nbconvert_exporter": "python",
   "pygments_lexer": "ipython3",
   "version": "3.10.14"
  },
  "papermill": {
   "default_parameters": {},
   "duration": 71.391555,
   "end_time": "2024-09-26T13:32:56.241285",
   "environment_variables": {},
   "exception": null,
   "input_path": "__notebook__.ipynb",
   "output_path": "__notebook__.ipynb",
   "parameters": {},
   "start_time": "2024-09-26T13:31:44.849730",
   "version": "2.6.0"
  }
 },
 "nbformat": 4,
 "nbformat_minor": 5
}
