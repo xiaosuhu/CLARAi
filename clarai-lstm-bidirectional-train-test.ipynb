{
 "cells": [
  {
   "cell_type": "code",
   "execution_count": 1,
   "id": "4447094e",
   "metadata": {
    "execution": {
     "iopub.execute_input": "2024-10-03T14:53:55.223872Z",
     "iopub.status.busy": "2024-10-03T14:53:55.223469Z",
     "iopub.status.idle": "2024-10-03T14:54:01.069855Z",
     "shell.execute_reply": "2024-10-03T14:54:01.068990Z"
    },
    "papermill": {
     "duration": 5.857564,
     "end_time": "2024-10-03T14:54:01.072218",
     "exception": false,
     "start_time": "2024-10-03T14:53:55.214654",
     "status": "completed"
    },
    "tags": []
   },
   "outputs": [],
   "source": [
    "from sklearn.model_selection import train_test_split\n",
    "from sklearn.preprocessing import StandardScaler\n",
    "from sklearn.utils.class_weight import compute_class_weight\n",
    "from sklearn.metrics import confusion_matrix, classification_report, roc_curve, auc\n",
    "from torch.utils.data import DataLoader, TensorDataset\n",
    "\n",
    "import torch\n",
    "import torch.nn as nn\n",
    "import torch.optim as optim\n",
    "import pandas as pd\n",
    "import numpy as np\n",
    "import matplotlib.pyplot as plt\n",
    "import seaborn as sns\n",
    "\n",
    "import glob"
   ]
  },
  {
   "cell_type": "code",
   "execution_count": 2,
   "id": "ecd709be",
   "metadata": {
    "execution": {
     "iopub.execute_input": "2024-10-03T14:54:01.087346Z",
     "iopub.status.busy": "2024-10-03T14:54:01.086891Z",
     "iopub.status.idle": "2024-10-03T14:54:01.179520Z",
     "shell.execute_reply": "2024-10-03T14:54:01.178481Z"
    },
    "papermill": {
     "duration": 0.102661,
     "end_time": "2024-10-03T14:54:01.182015",
     "exception": false,
     "start_time": "2024-10-03T14:54:01.079354",
     "status": "completed"
    },
    "tags": []
   },
   "outputs": [
    {
     "name": "stdout",
     "output_type": "stream",
     "text": [
      "cuda\n"
     ]
    }
   ],
   "source": [
    "# device = torch.device(\"mps\")\n",
    "device = torch.device(\"cuda\" if torch.cuda.is_available() else \"cpu\")\n",
    "print(device)"
   ]
  },
  {
   "cell_type": "code",
   "execution_count": 3,
   "id": "1a286f79",
   "metadata": {
    "execution": {
     "iopub.execute_input": "2024-10-03T14:54:01.196817Z",
     "iopub.status.busy": "2024-10-03T14:54:01.196487Z",
     "iopub.status.idle": "2024-10-03T14:54:01.204458Z",
     "shell.execute_reply": "2024-10-03T14:54:01.203538Z"
    },
    "papermill": {
     "duration": 0.017655,
     "end_time": "2024-10-03T14:54:01.206659",
     "exception": false,
     "start_time": "2024-10-03T14:54:01.189004",
     "status": "completed"
    },
    "tags": []
   },
   "outputs": [
    {
     "data": {
      "text/plain": [
       "'# Step 1: Get a list of all CSV file paths in the directory\\ndata_path = glob.glob(\"D:\\\\PythonProjs\\\\CLARAi\\\\Data\\\\*.csv\")  # Modify with your directory path\\nlabel_path = glob.glob(\"D:\\\\PythonProjs\\\\CLARAi\\\\Label\\\\*.csv\")\\n\\n# Step 2: Read each CSV file and store in a list of DataFrames\\ndatadfs = [pd.read_csv(file) for file in data_path]\\nlabeldfs = [pd.read_csv(file) for file in label_path]\\n\\n# Step 3: Concatenate all DataFrames into one\\nfinal_data_df = pd.concat(datadfs, ignore_index=True)\\nfinal_label_df = pd.concat(labeldfs, ignore_index=True)'"
      ]
     },
     "execution_count": 3,
     "metadata": {},
     "output_type": "execute_result"
    }
   ],
   "source": [
    "\"\"\"# Step 1: Get a list of all CSV file paths in the directory\n",
    "data_path = glob.glob(\"D:\\PythonProjs\\CLARAi\\Data\\*.csv\")  # Modify with your directory path\n",
    "label_path = glob.glob(\"D:\\PythonProjs\\CLARAi\\Label\\*.csv\")\n",
    "\n",
    "# Step 2: Read each CSV file and store in a list of DataFrames\n",
    "datadfs = [pd.read_csv(file) for file in data_path]\n",
    "labeldfs = [pd.read_csv(file) for file in label_path]\n",
    "\n",
    "# Step 3: Concatenate all DataFrames into one\n",
    "final_data_df = pd.concat(datadfs, ignore_index=True)\n",
    "final_label_df = pd.concat(labeldfs, ignore_index=True)\"\"\""
   ]
  },
  {
   "cell_type": "code",
   "execution_count": 4,
   "id": "fcd8ec9c",
   "metadata": {
    "execution": {
     "iopub.execute_input": "2024-10-03T14:54:01.228609Z",
     "iopub.status.busy": "2024-10-03T14:54:01.228236Z",
     "iopub.status.idle": "2024-10-03T14:54:01.234228Z",
     "shell.execute_reply": "2024-10-03T14:54:01.233494Z"
    },
    "papermill": {
     "duration": 0.023642,
     "end_time": "2024-10-03T14:54:01.238392",
     "exception": false,
     "start_time": "2024-10-03T14:54:01.214750",
     "status": "completed"
    },
    "tags": []
   },
   "outputs": [],
   "source": [
    "class CONFIG:\n",
    "    seq_len = 512\n",
    "    num_seq = 500\n",
    "    data_ch = 36\n",
    "    hidden_size = 32  # Hidden state size of the GRU\n",
    "    output_size = 1  # Binary classification\n",
    "    num_layers = 2  # Number of GRU layers\n",
    "    learning_rate = 0.001\n",
    "    num_epochs = 250\n",
    "    batch_size = 8"
   ]
  },
  {
   "cell_type": "code",
   "execution_count": 5,
   "id": "d7fac9eb",
   "metadata": {
    "execution": {
     "iopub.execute_input": "2024-10-03T14:54:01.260785Z",
     "iopub.status.busy": "2024-10-03T14:54:01.259874Z",
     "iopub.status.idle": "2024-10-03T14:54:01.272486Z",
     "shell.execute_reply": "2024-10-03T14:54:01.271327Z"
    },
    "papermill": {
     "duration": 0.027465,
     "end_time": "2024-10-03T14:54:01.275789",
     "exception": false,
     "start_time": "2024-10-03T14:54:01.248324",
     "status": "completed"
    },
    "tags": []
   },
   "outputs": [],
   "source": [
    "def data_gen(data_path, label_path):\n",
    "    final_data_df = pd.read_csv(data_path)\n",
    "    final_label_df = pd.read_csv(label_path)\n",
    "\n",
    "    train_labels_flat = final_label_df.values.flatten()\n",
    "    \n",
    "    # Compute class weights (inverse of class frequencies)\n",
    "    class_weights = compute_class_weight(class_weight='balanced', classes=np.unique(train_labels_flat), y=train_labels_flat)\n",
    "    class_weights = torch.tensor(class_weights, dtype=torch.float32)\n",
    "\n",
    "    # Parameters\n",
    "    sequence_length = CONFIG.seq_len  # Length of each subsequence\n",
    "    num_subsequences = CONFIG.num_seq  # Number of subsequences to extract\n",
    "\n",
    "    # Get possible starting indices, ensuring there's enough space for a full subsequence\n",
    "    possible_starts = np.arange(0, len(final_data_df) - sequence_length + 1)\n",
    "    np.random.shuffle(possible_starts)\n",
    "\n",
    "    # Select the first `num_subsequences` starting indices\n",
    "    selected_starts = possible_starts[:num_subsequences]\n",
    "\n",
    "    # Create a list to hold the subsequences\n",
    "    subsequences = [final_data_df.iloc[start:start + sequence_length].values for start in selected_starts]\n",
    "    sublabels = [final_label_df.iloc[start:start + sequence_length].values for start in selected_starts]\n",
    "\n",
    "    # Convert subsequences list to a NumPy array\n",
    "    subsequences_array = np.array(subsequences)\n",
    "    sublabels_array = np.array(sublabels)\n",
    "\n",
    "    # subsequences_array will have shape (num_subsequences, sequence_length, num_channels)\n",
    "    # print(subsequences_array.shape)  # Should print (100, 100, 36)\n",
    "    # print(sublabels_array.shape)\n",
    "\n",
    "    return torch.from_numpy(subsequences_array), torch.from_numpy(sublabels_array), class_weights\n"
   ]
  },
  {
   "cell_type": "code",
   "execution_count": 6,
   "id": "8e650c6f",
   "metadata": {
    "execution": {
     "iopub.execute_input": "2024-10-03T14:54:01.298319Z",
     "iopub.status.busy": "2024-10-03T14:54:01.297947Z",
     "iopub.status.idle": "2024-10-03T14:54:01.310413Z",
     "shell.execute_reply": "2024-10-03T14:54:01.309492Z"
    },
    "papermill": {
     "duration": 0.026165,
     "end_time": "2024-10-03T14:54:01.312726",
     "exception": false,
     "start_time": "2024-10-03T14:54:01.286561",
     "status": "completed"
    },
    "tags": []
   },
   "outputs": [],
   "source": [
    "\n",
    "# Sample time series data with shape (batch_size, sequence_length, num_features)\n",
    "# neuroimaging_data: Time series data from multiple neuroimaging channels\n",
    "# labels: Binary labels (0 = no pain, 1 = pain) for each time step\n",
    "# Assume neuroimaging_data is a numpy array of shape (num_samples, sequence_length, num_channels)\n",
    "# labels is a numpy array of shape (num_samples, sequence_length)\n",
    "\n",
    "class BidirectionalLSTMClassifier(nn.Module):\n",
    "    def __init__(self, input_size, hidden_size, output_size, num_layers=1):\n",
    "        super(BidirectionalLSTMClassifier, self).__init__()\n",
    "        self.hidden_size = hidden_size\n",
    "        self.num_layers = num_layers\n",
    "        self.lstm = nn.LSTM(input_size, hidden_size, num_layers, batch_first=True, bidirectional=True)\n",
    "        \n",
    "        # Adjust the fully connected layer to account for doubled hidden size (forward + backward)\n",
    "        self.fc = nn.Linear(hidden_size * 2, output_size)\n",
    "        self.batch_norm = nn.BatchNorm1d(hidden_size * 2)  # Adjust Batch Normalization for bidirectional\n",
    "        self.sigmoid = nn.Sigmoid()\n",
    "\n",
    "    def forward(self, x):\n",
    "        # Initialize hidden state and cell state with zeros for both directions\n",
    "        h0 = torch.zeros(self.num_layers * 2, x.size(0), self.hidden_size).to(x.device)  # *2 for bidirectional\n",
    "        c0 = torch.zeros(self.num_layers * 2, x.size(0), self.hidden_size).to(x.device)\n",
    "\n",
    "        # LSTM forward pass\n",
    "        out, _ = self.lstm(x, (h0, c0))\n",
    "        \n",
    "        # Apply batch normalization\n",
    "        # Permute to (batch_size, hidden_size*2, sequence_length) for batch norm\n",
    "        out = out.permute(0, 2, 1)\n",
    "        out = self.batch_norm(out)\n",
    "        \n",
    "        # Permute back to (batch_size, sequence_length, hidden_size*2)\n",
    "        out = out.permute(0, 2, 1)\n",
    "        \n",
    "        # Apply the linear layer to each time step\n",
    "        out = self.fc(out)\n",
    "        \n",
    "        return self.sigmoid(out)\n"
   ]
  },
  {
   "cell_type": "code",
   "execution_count": 7,
   "id": "7f1196c3",
   "metadata": {
    "execution": {
     "iopub.execute_input": "2024-10-03T14:54:01.330855Z",
     "iopub.status.busy": "2024-10-03T14:54:01.330068Z",
     "iopub.status.idle": "2024-10-03T14:54:01.344811Z",
     "shell.execute_reply": "2024-10-03T14:54:01.343980Z"
    },
    "papermill": {
     "duration": 0.025317,
     "end_time": "2024-10-03T14:54:01.347000",
     "exception": false,
     "start_time": "2024-10-03T14:54:01.321683",
     "status": "completed"
    },
    "tags": []
   },
   "outputs": [],
   "source": [
    "# data_path = glob.glob(\"D:\\PythonProjs\\CLARAi\\Data_train\\*.csv\")  # Modify with your directory path\n",
    "# label_path = glob.glob(\"D:\\PythonProjs\\CLARAi\\Label_train\\*.csv\")\n",
    "\n",
    "# data_path = glob.glob(\"/home/frank/Documents/CLARAi/Data/*.csv\")  # Modify with your directory path\n",
    "# label_path = glob.glob(\"/home/frank/Documents/CLARAi/Label/*.csv\")\n",
    "\n",
    "# data_path = glob.glob(\"/Users/xiaosuhu/Documents/Python/CLARAi/Data/*.csv\")  # Modify with your directory path\n",
    "# label_path = glob.glob(\"/Users/xiaosuhu/Documents/Python/CLARAi/Data/*.csv\")\n",
    "\n",
    "data_path = glob.glob(\"/kaggle/input/CLARAi/Data_train/*.csv\")  # Modify with your directory path\n",
    "label_path = glob.glob(\"/kaggle/input/CLARAi/Label_train/*.csv\")\n",
    "\n",
    "# Sort the lists\n",
    "data_path = sorted(data_path)\n",
    "label_path = sorted(label_path)\n"
   ]
  },
  {
   "cell_type": "code",
   "execution_count": 8,
   "id": "6d905dcf",
   "metadata": {
    "execution": {
     "iopub.execute_input": "2024-10-03T14:54:01.363939Z",
     "iopub.status.busy": "2024-10-03T14:54:01.363562Z",
     "iopub.status.idle": "2024-10-03T14:54:01.370393Z",
     "shell.execute_reply": "2024-10-03T14:54:01.369507Z"
    },
    "papermill": {
     "duration": 0.017496,
     "end_time": "2024-10-03T14:54:01.372576",
     "exception": false,
     "start_time": "2024-10-03T14:54:01.355080",
     "status": "completed"
    },
    "tags": []
   },
   "outputs": [
    {
     "data": {
      "text/plain": [
       "['/kaggle/input/CLARAi/Data_train/data1.csv',\n",
       " '/kaggle/input/CLARAi/Data_train/data10.csv',\n",
       " '/kaggle/input/CLARAi/Data_train/data11.csv',\n",
       " '/kaggle/input/CLARAi/Data_train/data12.csv',\n",
       " '/kaggle/input/CLARAi/Data_train/data13.csv',\n",
       " '/kaggle/input/CLARAi/Data_train/data16.csv',\n",
       " '/kaggle/input/CLARAi/Data_train/data17.csv',\n",
       " '/kaggle/input/CLARAi/Data_train/data3.csv',\n",
       " '/kaggle/input/CLARAi/Data_train/data4.csv',\n",
       " '/kaggle/input/CLARAi/Data_train/data5.csv',\n",
       " '/kaggle/input/CLARAi/Data_train/data6.csv',\n",
       " '/kaggle/input/CLARAi/Data_train/data7.csv',\n",
       " '/kaggle/input/CLARAi/Data_train/data8.csv',\n",
       " '/kaggle/input/CLARAi/Data_train/data9.csv']"
      ]
     },
     "execution_count": 8,
     "metadata": {},
     "output_type": "execute_result"
    }
   ],
   "source": [
    "data_path"
   ]
  },
  {
   "cell_type": "code",
   "execution_count": 9,
   "id": "2ea8df20",
   "metadata": {
    "execution": {
     "iopub.execute_input": "2024-10-03T14:54:01.393610Z",
     "iopub.status.busy": "2024-10-03T14:54:01.392617Z",
     "iopub.status.idle": "2024-10-03T14:54:01.412662Z",
     "shell.execute_reply": "2024-10-03T14:54:01.411798Z"
    },
    "papermill": {
     "duration": 0.034886,
     "end_time": "2024-10-03T14:54:01.414848",
     "exception": false,
     "start_time": "2024-10-03T14:54:01.379962",
     "status": "completed"
    },
    "tags": []
   },
   "outputs": [],
   "source": [
    "\n",
    "# data_path = \"D:\\PythonProjs\\CLARAi\\Data\\data1.csv\"\n",
    "# label_path = \"D:\\PythonProjs\\CLARAi\\Label\\label1.csv\"\n",
    "neuroimaging_data = torch.empty(0,CONFIG.seq_len,CONFIG.data_ch)\n",
    "labels = torch.empty(0,CONFIG.seq_len,1)\n",
    "class_weights = torch.Tensor([0., 0.])"
   ]
  },
  {
   "cell_type": "code",
   "execution_count": 10,
   "id": "1c54d8cf",
   "metadata": {
    "execution": {
     "iopub.execute_input": "2024-10-03T14:54:01.431733Z",
     "iopub.status.busy": "2024-10-03T14:54:01.431019Z",
     "iopub.status.idle": "2024-10-03T14:54:05.816256Z",
     "shell.execute_reply": "2024-10-03T14:54:05.815270Z"
    },
    "papermill": {
     "duration": 4.396996,
     "end_time": "2024-10-03T14:54:05.819065",
     "exception": false,
     "start_time": "2024-10-03T14:54:01.422069",
     "status": "completed"
    },
    "tags": []
   },
   "outputs": [
    {
     "name": "stdout",
     "output_type": "stream",
     "text": [
      "datapath: /kaggle/input/CLARAi/Data_train/data1.csv\n",
      "labelpath: /kaggle/input/CLARAi/Label_train/label1.csv\n",
      "Data shape: torch.Size([500, 512, 36]), Label shape: torch.Size([500, 512, 1]), Weight shape: torch.Size([2])\n",
      "datapath: /kaggle/input/CLARAi/Data_train/data10.csv\n",
      "labelpath: /kaggle/input/CLARAi/Label_train/label10.csv\n",
      "Data shape: torch.Size([500, 512, 36]), Label shape: torch.Size([500, 512, 1]), Weight shape: torch.Size([2])\n",
      "datapath: /kaggle/input/CLARAi/Data_train/data11.csv\n",
      "labelpath: /kaggle/input/CLARAi/Label_train/label11.csv\n",
      "Data shape: torch.Size([351, 512, 36]), Label shape: torch.Size([351, 512, 1]), Weight shape: torch.Size([2])\n",
      "datapath: /kaggle/input/CLARAi/Data_train/data12.csv\n",
      "labelpath: /kaggle/input/CLARAi/Label_train/label12.csv\n",
      "Data shape: torch.Size([239, 512, 36]), Label shape: torch.Size([239, 512, 1]), Weight shape: torch.Size([2])\n",
      "datapath: /kaggle/input/CLARAi/Data_train/data13.csv\n",
      "labelpath: /kaggle/input/CLARAi/Label_train/label13.csv\n",
      "Data shape: torch.Size([310, 512, 36]), Label shape: torch.Size([310, 512, 1]), Weight shape: torch.Size([2])\n",
      "datapath: /kaggle/input/CLARAi/Data_train/data16.csv\n",
      "labelpath: /kaggle/input/CLARAi/Label_train/label16.csv\n",
      "Data shape: torch.Size([500, 512, 36]), Label shape: torch.Size([500, 512, 1]), Weight shape: torch.Size([2])\n",
      "datapath: /kaggle/input/CLARAi/Data_train/data17.csv\n",
      "labelpath: /kaggle/input/CLARAi/Label_train/label17.csv\n",
      "Data shape: torch.Size([500, 512, 36]), Label shape: torch.Size([500, 512, 1]), Weight shape: torch.Size([2])\n",
      "datapath: /kaggle/input/CLARAi/Data_train/data3.csv\n",
      "labelpath: /kaggle/input/CLARAi/Label_train/label3.csv\n",
      "Data shape: torch.Size([500, 512, 36]), Label shape: torch.Size([500, 512, 1]), Weight shape: torch.Size([2])\n",
      "datapath: /kaggle/input/CLARAi/Data_train/data4.csv\n",
      "labelpath: /kaggle/input/CLARAi/Label_train/label4.csv\n",
      "Data shape: torch.Size([500, 512, 36]), Label shape: torch.Size([500, 512, 1]), Weight shape: torch.Size([2])\n",
      "datapath: /kaggle/input/CLARAi/Data_train/data5.csv\n",
      "labelpath: /kaggle/input/CLARAi/Label_train/label5.csv\n",
      "Data shape: torch.Size([500, 512, 36]), Label shape: torch.Size([500, 512, 1]), Weight shape: torch.Size([2])\n",
      "datapath: /kaggle/input/CLARAi/Data_train/data6.csv\n",
      "labelpath: /kaggle/input/CLARAi/Label_train/label6.csv\n",
      "Data shape: torch.Size([500, 512, 36]), Label shape: torch.Size([500, 512, 1]), Weight shape: torch.Size([2])\n",
      "datapath: /kaggle/input/CLARAi/Data_train/data7.csv\n",
      "labelpath: /kaggle/input/CLARAi/Label_train/label7.csv\n",
      "Data shape: torch.Size([500, 512, 36]), Label shape: torch.Size([500, 512, 1]), Weight shape: torch.Size([2])\n",
      "datapath: /kaggle/input/CLARAi/Data_train/data8.csv\n",
      "labelpath: /kaggle/input/CLARAi/Label_train/label8.csv\n",
      "Data shape: torch.Size([500, 512, 36]), Label shape: torch.Size([500, 512, 1]), Weight shape: torch.Size([2])\n",
      "datapath: /kaggle/input/CLARAi/Data_train/data9.csv\n",
      "labelpath: /kaggle/input/CLARAi/Label_train/label9.csv\n",
      "Data shape: torch.Size([500, 512, 36]), Label shape: torch.Size([500, 512, 1]), Weight shape: torch.Size([2])\n"
     ]
    }
   ],
   "source": [
    "\n",
    "for datapath, labelpath in zip(data_path, label_path):\n",
    "    print(f'datapath: {datapath}')\n",
    "    print(f'labelpath: {labelpath}')    \n",
    "    data, label, weight = data_gen(datapath, labelpath)\n",
    "    print(f'Data shape: {data.shape}, Label shape: {label.shape}, Weight shape: {weight.shape}')\n",
    "    neuroimaging_data= torch.cat([neuroimaging_data, data])\n",
    "    labels = torch.cat([labels, label])\n",
    "    class_weights += weight\n",
    "\n",
    "normalized_weights = class_weights / class_weights.sum()\n"
   ]
  },
  {
   "cell_type": "code",
   "execution_count": 11,
   "id": "29aa200b",
   "metadata": {
    "execution": {
     "iopub.execute_input": "2024-10-03T14:54:05.840053Z",
     "iopub.status.busy": "2024-10-03T14:54:05.839643Z",
     "iopub.status.idle": "2024-10-03T14:54:05.846149Z",
     "shell.execute_reply": "2024-10-03T14:54:05.845303Z"
    },
    "papermill": {
     "duration": 0.018772,
     "end_time": "2024-10-03T14:54:05.848361",
     "exception": false,
     "start_time": "2024-10-03T14:54:05.829589",
     "status": "completed"
    },
    "tags": []
   },
   "outputs": [
    {
     "data": {
      "text/plain": [
       "(torch.Size([6400, 512, 36]), torch.Size([6400, 512, 1]))"
      ]
     },
     "execution_count": 11,
     "metadata": {},
     "output_type": "execute_result"
    }
   ],
   "source": [
    "neuroimaging_data.shape, labels.shape"
   ]
  },
  {
   "cell_type": "code",
   "execution_count": 12,
   "id": "eea742a5",
   "metadata": {
    "execution": {
     "iopub.execute_input": "2024-10-03T14:54:05.866993Z",
     "iopub.status.busy": "2024-10-03T14:54:05.866630Z",
     "iopub.status.idle": "2024-10-03T14:54:05.916951Z",
     "shell.execute_reply": "2024-10-03T14:54:05.915826Z"
    },
    "papermill": {
     "duration": 0.062415,
     "end_time": "2024-10-03T14:54:05.919491",
     "exception": false,
     "start_time": "2024-10-03T14:54:05.857076",
     "status": "completed"
    },
    "tags": []
   },
   "outputs": [
    {
     "name": "stdout",
     "output_type": "stream",
     "text": [
      "Number of 0s: 2537460Number of 1s: 739340 Ratio is 0.225628662109375\n"
     ]
    }
   ],
   "source": [
    "# Count the number of 1s\n",
    "num_zeros = torch.sum(labels == 0).item()\n",
    "num_ones = torch.sum(labels == 1).item()\n",
    "\n",
    "print(f\"Number of 0s: {num_zeros}Number of 1s: {num_ones} Ratio is {num_ones/(num_ones + num_zeros)}\")"
   ]
  },
  {
   "cell_type": "code",
   "execution_count": 13,
   "id": "8ed5407d",
   "metadata": {
    "execution": {
     "iopub.execute_input": "2024-10-03T14:54:05.938294Z",
     "iopub.status.busy": "2024-10-03T14:54:05.937925Z",
     "iopub.status.idle": "2024-10-03T14:54:08.307930Z",
     "shell.execute_reply": "2024-10-03T14:54:08.306800Z"
    },
    "papermill": {
     "duration": 2.382283,
     "end_time": "2024-10-03T14:54:08.310461",
     "exception": false,
     "start_time": "2024-10-03T14:54:05.928178",
     "status": "completed"
    },
    "tags": []
   },
   "outputs": [
    {
     "name": "stderr",
     "output_type": "stream",
     "text": [
      "/tmp/ipykernel_23/3072856817.py:16: UserWarning: To copy construct from a tensor, it is recommended to use sourceTensor.clone().detach() or sourceTensor.clone().detach().requires_grad_(True), rather than torch.tensor(sourceTensor).\n",
      "  train_data, test_data = torch.tensor(train_data, dtype=torch.float32).to(device), torch.tensor(test_data, dtype=torch.float32).to(device)\n",
      "/tmp/ipykernel_23/3072856817.py:17: UserWarning: To copy construct from a tensor, it is recommended to use sourceTensor.clone().detach() or sourceTensor.clone().detach().requires_grad_(True), rather than torch.tensor(sourceTensor).\n",
      "  train_labels, test_labels = torch.tensor(train_labels, dtype=torch.float32).to(device), torch.tensor(test_labels, dtype=torch.float32).to(device)\n"
     ]
    }
   ],
   "source": [
    "# Hyperparameters\n",
    "input_size = CONFIG.data_ch  # Number of features (channels)\n",
    "hidden_size = CONFIG.hidden_size  # Hidden state size of the GRU\n",
    "output_size = CONFIG.output_size  # Binary classification\n",
    "num_layers = CONFIG.num_layers  # Number of GRU layers\n",
    "learning_rate = CONFIG.learning_rate\n",
    "num_epochs = CONFIG.num_epochs\n",
    "batch_size = CONFIG.batch_size\n",
    "\n",
    "# Preprocessing (e.g., normalization)\n",
    "# scaler = StandardScaler()\n",
    "# neuroimaging_data = scaler.fit_transform(neuroimaging_data.reshape(-1, input_size)).reshape(neuroimaging_data.shape)\n",
    "\n",
    "# Convert numpy arrays to PyTorch tensors\n",
    "train_data, test_data, train_labels, test_labels = train_test_split(neuroimaging_data, labels, test_size=0.2, random_state=42)\n",
    "train_data, test_data = torch.tensor(train_data, dtype=torch.float32).to(device), torch.tensor(test_data, dtype=torch.float32).to(device)\n",
    "train_labels, test_labels = torch.tensor(train_labels, dtype=torch.float32).to(device), torch.tensor(test_labels, dtype=torch.float32).to(device)\n",
    "\n",
    "# Create GRU model\n",
    "model = BidirectionalLSTMClassifier(input_size, hidden_size, output_size, num_layers)\n",
    "model = torch.nn.DataParallel(model)\n",
    "model.to(device)\n",
    "\n",
    "# Loss and optimizer\n",
    "# criterion = nn.BCELoss()  # Binary Cross Entropy Loss for binary classification\n",
    "\n",
    "\n",
    "# Convert the class weights to a tensor and move to the appropriate device\n",
    "class_weights = class_weights.to(device)\n",
    "\n",
    "# Use BCEWithLogitsLoss, which combines sigmoid activation and binary cross-entropy loss\n",
    "criterion = nn.BCEWithLogitsLoss(pos_weight=normalized_weights[0])  # pos_weight applies only to class 1\n",
    "\n",
    "# optimizer = optim.Adam(model.parameters(), lr=learning_rate)\n",
    "optimizer = optim.Adam(model.parameters(), lr=learning_rate, weight_decay=1e-5)\n",
    "scheduler = torch.optim.lr_scheduler.ReduceLROnPlateau(optimizer, mode='min', factor=0.1, patience=20)"
   ]
  },
  {
   "cell_type": "code",
   "execution_count": 14,
   "id": "c83257f5",
   "metadata": {
    "execution": {
     "iopub.execute_input": "2024-10-03T14:54:08.329733Z",
     "iopub.status.busy": "2024-10-03T14:54:08.329207Z",
     "iopub.status.idle": "2024-10-03T14:55:31.588001Z",
     "shell.execute_reply": "2024-10-03T14:55:31.587025Z"
    },
    "papermill": {
     "duration": 83.271206,
     "end_time": "2024-10-03T14:55:31.590806",
     "exception": false,
     "start_time": "2024-10-03T14:54:08.319600",
     "status": "completed"
    },
    "tags": []
   },
   "outputs": [
    {
     "name": "stderr",
     "output_type": "stream",
     "text": [
      "/opt/conda/lib/python3.10/site-packages/torch/nn/parallel/parallel_apply.py:79: FutureWarning: `torch.cuda.amp.autocast(args...)` is deprecated. Please use `torch.amp.autocast('cuda', args...)` instead.\n",
      "  with torch.cuda.device(device), torch.cuda.stream(stream), autocast(enabled=autocast_enabled):\n"
     ]
    },
    {
     "name": "stdout",
     "output_type": "stream",
     "text": [
      "Epoch [5/250], Train Loss: 0.7820, Val Loss: 0.7854\n",
      "Epoch [10/250], Train Loss: 0.7705, Val Loss: 0.7820\n",
      "Epoch [15/250], Train Loss: 0.7542, Val Loss: 0.7757\n",
      "Epoch [20/250], Train Loss: 0.7322, Val Loss: 0.7619\n",
      "Epoch [25/250], Train Loss: 0.7068, Val Loss: 0.7342\n",
      "Epoch [30/250], Train Loss: 0.6830, Val Loss: 0.6967\n",
      "Epoch [35/250], Train Loss: 0.6642, Val Loss: 0.6649\n",
      "Epoch [40/250], Train Loss: 0.6511, Val Loss: 0.6459\n",
      "Epoch [45/250], Train Loss: 0.6426, Val Loss: 0.6362\n",
      "Epoch [50/250], Train Loss: 0.6365, Val Loss: 0.6311\n",
      "Epoch [55/250], Train Loss: 0.6320, Val Loss: 0.6283\n",
      "Epoch [60/250], Train Loss: 0.6286, Val Loss: 0.6264\n",
      "Epoch [65/250], Train Loss: 0.6258, Val Loss: 0.6247\n",
      "Epoch [70/250], Train Loss: 0.6234, Val Loss: 0.6231\n",
      "Epoch [75/250], Train Loss: 0.6214, Val Loss: 0.6215\n",
      "Epoch [80/250], Train Loss: 0.6196, Val Loss: 0.6199\n",
      "Epoch [85/250], Train Loss: 0.6181, Val Loss: 0.6183\n",
      "Epoch [90/250], Train Loss: 0.6164, Val Loss: 0.6165\n",
      "Epoch [95/250], Train Loss: 0.6147, Val Loss: 0.6144\n",
      "Epoch [100/250], Train Loss: 0.6122, Val Loss: 0.6099\n",
      "Epoch [105/250], Train Loss: 0.6100, Val Loss: 0.6081\n",
      "Epoch [110/250], Train Loss: 0.6090, Val Loss: 0.6073\n",
      "Epoch [115/250], Train Loss: 0.6079, Val Loss: 0.6065\n",
      "Epoch [120/250], Train Loss: 0.6069, Val Loss: 0.6057\n",
      "Epoch [125/250], Train Loss: 0.6060, Val Loss: 0.6050\n",
      "Epoch [130/250], Train Loss: 0.6052, Val Loss: 0.6042\n",
      "Epoch [135/250], Train Loss: 0.6044, Val Loss: 0.6034\n",
      "Epoch [140/250], Train Loss: 0.6037, Val Loss: 0.6026\n",
      "Epoch [145/250], Train Loss: 0.6030, Val Loss: 0.6017\n",
      "Epoch [150/250], Train Loss: 0.6025, Val Loss: 0.6011\n",
      "Epoch [155/250], Train Loss: 0.6020, Val Loss: 0.6006\n",
      "Epoch [160/250], Train Loss: 0.6016, Val Loss: 0.6002\n",
      "Epoch [165/250], Train Loss: 0.6013, Val Loss: 0.5996\n",
      "Epoch [170/250], Train Loss: 0.6009, Val Loss: 0.5993\n",
      "Epoch [175/250], Train Loss: 0.6005, Val Loss: 0.5991\n",
      "Epoch [180/250], Train Loss: 0.6001, Val Loss: 0.5988\n",
      "Epoch [185/250], Train Loss: 0.5998, Val Loss: 0.5985\n",
      "Epoch [190/250], Train Loss: 0.6000, Val Loss: 0.5984\n",
      "Epoch [195/250], Train Loss: 0.5997, Val Loss: 0.5981\n",
      "Epoch [200/250], Train Loss: 0.5994, Val Loss: 0.5979\n",
      "Epoch [205/250], Train Loss: 0.5992, Val Loss: 0.5977\n",
      "Epoch [210/250], Train Loss: 0.5991, Val Loss: 0.5976\n",
      "Epoch [215/250], Train Loss: 0.5989, Val Loss: 0.5974\n",
      "Epoch [220/250], Train Loss: 0.5987, Val Loss: 0.5973\n",
      "Epoch [225/250], Train Loss: 0.5986, Val Loss: 0.5972\n",
      "Epoch [230/250], Train Loss: 0.5985, Val Loss: 0.5971\n",
      "Epoch [235/250], Train Loss: 0.5984, Val Loss: 0.5972\n",
      "Epoch [240/250], Train Loss: 0.5986, Val Loss: 0.5971\n",
      "Epoch [245/250], Train Loss: 0.5984, Val Loss: 0.5971\n",
      "Epoch [250/250], Train Loss: 0.5983, Val Loss: 0.5970\n"
     ]
    }
   ],
   "source": [
    "# Training loop\n",
    "for epoch in range(num_epochs):\n",
    "    model.train()  # Set model to training mode\n",
    "    optimizer.zero_grad()\n",
    "    \n",
    "    # Forward pass (training)\n",
    "    outputs = model(train_data)\n",
    "    loss = criterion(outputs, train_labels)\n",
    "    \n",
    "    # Backward pass and optimization\n",
    "    loss.backward()\n",
    "    \n",
    "    # Clip gradients to prevent exploding gradients\n",
    "    torch.nn.utils.clip_grad_norm_(model.parameters(), max_norm=1.0)\n",
    "    \n",
    "    optimizer.step()\n",
    "\n",
    "    # Validation phase (no gradient calculations)\n",
    "    model.eval()  # Set model to evaluation mode\n",
    "    with torch.no_grad():  # Disable gradient calculation for validation\n",
    "        val_outputs = model(test_data)\n",
    "        val_loss = criterion(val_outputs, test_labels)\n",
    "\n",
    "    # Update learning rate if validation loss plateaus\n",
    "    scheduler.step(val_loss)\n",
    "\n",
    "    # Print loss every 5 epochs\n",
    "    if (epoch + 1) % 5 == 0:\n",
    "        print(f'Epoch [{epoch+1}/{num_epochs}], Train Loss: {loss.item():.4f}, Val Loss: {val_loss.item():.4f}')\n"
   ]
  },
  {
   "cell_type": "code",
   "execution_count": 15,
   "id": "5de9f377",
   "metadata": {
    "execution": {
     "iopub.execute_input": "2024-10-03T14:55:31.626825Z",
     "iopub.status.busy": "2024-10-03T14:55:31.624930Z",
     "iopub.status.idle": "2024-10-03T14:55:31.635365Z",
     "shell.execute_reply": "2024-10-03T14:55:31.634647Z"
    },
    "papermill": {
     "duration": 0.029612,
     "end_time": "2024-10-03T14:55:31.637374",
     "exception": false,
     "start_time": "2024-10-03T14:55:31.607762",
     "status": "completed"
    },
    "tags": []
   },
   "outputs": [],
   "source": [
    "# After the training loop\n",
    "# torch.save(model.state_dict(), 'D:\\PythonProjs\\CLARAi\\Trained_model_weights\\lstm_bidi_model_state_dict_data_300_ep_200.pth')\n",
    "torch.save(model.state_dict(), '/kaggle/working/lstm_bidi_model_state_dict_data_300_ep_200.pth')\n",
    "# print(\"Model state_dict saved to 'lstm_unidi_model_state_dict.pth'\")"
   ]
  },
  {
   "cell_type": "code",
   "execution_count": 16,
   "id": "504cbdfd",
   "metadata": {
    "execution": {
     "iopub.execute_input": "2024-10-03T14:55:31.669724Z",
     "iopub.status.busy": "2024-10-03T14:55:31.668838Z",
     "iopub.status.idle": "2024-10-03T14:55:32.718049Z",
     "shell.execute_reply": "2024-10-03T14:55:32.716807Z"
    },
    "papermill": {
     "duration": 1.067477,
     "end_time": "2024-10-03T14:55:32.720302",
     "exception": false,
     "start_time": "2024-10-03T14:55:31.652825",
     "status": "completed"
    },
    "tags": []
   },
   "outputs": [
    {
     "name": "stdout",
     "output_type": "stream",
     "text": [
      "Accuracy: 90.02%\n",
      "Confusion Matrix:\n",
      "[[461374  44840]\n",
      " [ 20560 128586]]\n"
     ]
    },
    {
     "data": {
      "image/png": "[encoded data removed]",
      "text/plain": [
       "<Figure size 600x400 with 2 Axes>"
      ]
     },
     "metadata": {},
     "output_type": "display_data"
    }
   ],
   "source": [
    "\n",
    "model.eval()\n",
    "with torch.no_grad():\n",
    "    test_outputs = model(test_data)\n",
    "    predicted = (test_outputs > 0.5).float()  # Threshold at 0.5 for binary classification\n",
    "    \n",
    "    # Calculate accuracy\n",
    "    accuracy = (predicted == test_labels).float().mean()\n",
    "    print(f'Accuracy: {accuracy.item() * 100:.2f}%')\n",
    "\n",
    "    # Flatten the predicted and test labels for confusion matrix calculation\n",
    "    predicted_flat = predicted.cpu().numpy().flatten()\n",
    "    test_labels_flat = test_labels.cpu().numpy().flatten()\n",
    "\n",
    "    # Generate the confusion matrix\n",
    "    cm = confusion_matrix(test_labels_flat, predicted_flat)\n",
    "    print(f'Confusion Matrix:\\n{cm}')\n",
    "\n",
    "    # Optional: plot the confusion matrix for visualization\n",
    "    plt.figure(figsize=(6,4))\n",
    "    sns.heatmap(cm, annot=True, fmt=\"d\", cmap=\"Blues\", xticklabels=['No Pain', 'Pain'], yticklabels=['No Pain', 'Pain'])\n",
    "    plt.ylabel('True Label')\n",
    "    plt.xlabel('Predicted Label')\n",
    "    plt.title('Confusion Matrix')\n",
    "    plt.show()\n"
   ]
  },
  {
   "cell_type": "code",
   "execution_count": 17,
   "id": "45bf30db",
   "metadata": {
    "execution": {
     "iopub.execute_input": "2024-10-03T14:55:32.748845Z",
     "iopub.status.busy": "2024-10-03T14:55:32.748480Z",
     "iopub.status.idle": "2024-10-03T14:55:32.757824Z",
     "shell.execute_reply": "2024-10-03T14:55:32.756936Z"
    },
    "papermill": {
     "duration": 0.026201,
     "end_time": "2024-10-03T14:55:32.759959",
     "exception": false,
     "start_time": "2024-10-03T14:55:32.733758",
     "status": "completed"
    },
    "tags": []
   },
   "outputs": [],
   "source": [
    "def plot_roc_auc(model, test_data, test_labels):\n",
    "    model.eval()\n",
    "    with torch.no_grad():\n",
    "        # Get the raw logits (before applying sigmoid)\n",
    "        test_outputs = model(test_data)\n",
    "        \n",
    "        # Convert test_labels and test_outputs to NumPy arrays for sklearn\n",
    "        test_labels_flat = test_labels.cpu().numpy().flatten()\n",
    "        test_outputs_flat = test_outputs.cpu().numpy().flatten()\n",
    "\n",
    "        # Calculate the false positive rate, true positive rate, and thresholds for the ROC curve\n",
    "        fpr, tpr, thresholds = roc_curve(test_labels_flat, test_outputs_flat)\n",
    "        \n",
    "        # Calculate the AUC score\n",
    "        roc_auc = auc(fpr, tpr)\n",
    "        \n",
    "        # Plot ROC curve\n",
    "        plt.figure(figsize=(8,6))\n",
    "        plt.plot(fpr, tpr, color='blue', label=f'ROC Curve (AUC = {roc_auc:.2f})')\n",
    "        plt.plot([0, 1], [0, 1], color='grey', linestyle='--')  # Random classifier line\n",
    "        plt.xlim([0.0, 1.0])\n",
    "        plt.ylim([0.0, 1.05])\n",
    "        plt.xlabel('False Positive Rate (FPR)')\n",
    "        plt.ylabel('True Positive Rate (TPR)')\n",
    "        plt.title('Receiver Operating Characteristic (ROC)')\n",
    "        plt.legend(loc='lower right')\n",
    "        plt.show()\n",
    "\n",
    "    return roc_auc"
   ]
  },
  {
   "cell_type": "code",
   "execution_count": 18,
   "id": "8b5b11a7",
   "metadata": {
    "execution": {
     "iopub.execute_input": "2024-10-03T14:55:32.787393Z",
     "iopub.status.busy": "2024-10-03T14:55:32.787040Z",
     "iopub.status.idle": "2024-10-03T14:55:33.184244Z",
     "shell.execute_reply": "2024-10-03T14:55:33.183228Z"
    },
    "papermill": {
     "duration": 0.414048,
     "end_time": "2024-10-03T14:55:33.187091",
     "exception": false,
     "start_time": "2024-10-03T14:55:32.773043",
     "status": "completed"
    },
    "tags": []
   },
   "outputs": [
    {
     "name": "stderr",
     "output_type": "stream",
     "text": [
      "/opt/conda/lib/python3.10/site-packages/torch/nn/parallel/parallel_apply.py:79: FutureWarning: `torch.cuda.amp.autocast(args...)` is deprecated. Please use `torch.amp.autocast('cuda', args...)` instead.\n",
      "  with torch.cuda.device(device), torch.cuda.stream(stream), autocast(enabled=autocast_enabled):\n"
     ]
    },
    {
     "data": {
      "image/png": "[encoded data removed]",
      "text/plain": [
       "<Figure size 800x600 with 1 Axes>"
      ]
     },
     "metadata": {},
     "output_type": "display_data"
    },
    {
     "data": {
      "text/plain": [
       "0.8825365645063566"
      ]
     },
     "execution_count": 18,
     "metadata": {},
     "output_type": "execute_result"
    }
   ],
   "source": [
    "plot_roc_auc(model, test_data, test_labels)"
   ]
  },
  {
   "cell_type": "code",
   "execution_count": 19,
   "id": "d87e1e13",
   "metadata": {
    "execution": {
     "iopub.execute_input": "2024-10-03T14:55:33.217862Z",
     "iopub.status.busy": "2024-10-03T14:55:33.217504Z",
     "iopub.status.idle": "2024-10-03T14:55:33.272841Z",
     "shell.execute_reply": "2024-10-03T14:55:33.271975Z"
    },
    "papermill": {
     "duration": 0.073131,
     "end_time": "2024-10-03T14:55:33.275039",
     "exception": false,
     "start_time": "2024-10-03T14:55:33.201908",
     "status": "completed"
    },
    "tags": []
   },
   "outputs": [],
   "source": [
    "# Test data evaluation\n",
    "\n",
    "# data_test = pd.read_csv('D:\\PythonProjs\\CLARAi\\Data_test\\data18.csv')\n",
    "# label_test = pd.read_csv('D:\\PythonProjs\\CLARAi\\Label_test\\label18.csv')\n",
    "\n",
    "data_test = pd.read_csv('/kaggle/input/CLARAi/Data_test/data18.csv')\n",
    "label_test = pd.read_csv('/kaggle/input/CLARAi/Label_test/label18.csv')\n",
    "\n",
    "data_test= data_test.to_numpy()\n",
    "label_test = label_test.to_numpy()\n",
    "\n",
    "sequence_length = CONFIG.seq_len\n",
    "input_size = CONFIG.data_ch\n",
    "\n",
    "\n",
    "# Calculate the number of complete sequences\n",
    "num_sequences = data_test.shape[0] // sequence_length  # 5 sequences\n",
    "\n",
    "# Truncate the data to have only complete sequences\n",
    "truncated_data = data_test[:num_sequences * sequence_length]  # Shape: (1280, 36)\n",
    "\n",
    "# Reshape to (num_sequences, sequence_length, input_size)\n",
    "test_sequences = truncated_data.reshape(num_sequences, sequence_length, input_size)  # Shape: (5, 256, 36)\n",
    "\n",
    "# Convert to PyTorch tensor\n",
    "test_sequences = torch.tensor(test_sequences, dtype=torch.float32)\n"
   ]
  },
  {
   "cell_type": "code",
   "execution_count": 20,
   "id": "b3d46f79",
   "metadata": {
    "execution": {
     "iopub.execute_input": "2024-10-03T14:55:33.306353Z",
     "iopub.status.busy": "2024-10-03T14:55:33.305999Z",
     "iopub.status.idle": "2024-10-03T14:55:33.323664Z",
     "shell.execute_reply": "2024-10-03T14:55:33.322471Z"
    },
    "papermill": {
     "duration": 0.035997,
     "end_time": "2024-10-03T14:55:33.326192",
     "exception": false,
     "start_time": "2024-10-03T14:55:33.290195",
     "status": "completed"
    },
    "tags": []
   },
   "outputs": [
    {
     "name": "stderr",
     "output_type": "stream",
     "text": [
      "/opt/conda/lib/python3.10/site-packages/torch/nn/parallel/parallel_apply.py:79: FutureWarning: `torch.cuda.amp.autocast(args...)` is deprecated. Please use `torch.amp.autocast('cuda', args...)` instead.\n",
      "  with torch.cuda.device(device), torch.cuda.stream(stream), autocast(enabled=autocast_enabled):\n"
     ]
    }
   ],
   "source": [
    "\n",
    "# Create DataLoader\n",
    "test_dataset = TensorDataset(test_sequences)\n",
    "test_loader = DataLoader(test_dataset, batch_size=2, shuffle=False)  # Adjust batch_size as needed\n",
    "\n",
    "# Perform inference\n",
    "all_outputs = []\n",
    "with torch.no_grad():\n",
    "    for batch in test_loader:\n",
    "        inputs = batch[0].to(device)  # (batch_size, 256, 36)\n",
    "        outputs = model(inputs)       # (batch_size, 256, 1)\n",
    "        all_outputs.append(outputs.cpu().numpy())\n",
    "\n",
    "# Concatenate all outputs\n",
    "all_outputs = np.concatenate(all_outputs, axis=0)  # Shape: (6, 256, 1)\n",
    "\n",
    "# Apply threshold to get binary predictions\n",
    "predictions = (all_outputs >= 0.5).astype(int)  # Shape: (6, 256, 1)\n",
    "predictions = predictions.squeeze(-1)           # Shape: (6, 256)\n",
    "# Flatten the predictions\n",
    "flattened_predictions = predictions.flatten()  # Shape: (1536,)\n",
    "\n",
    "true_label = label_test[:num_sequences * sequence_length].squeeze(-1)"
   ]
  },
  {
   "cell_type": "code",
   "execution_count": 21,
   "id": "309e2162",
   "metadata": {
    "execution": {
     "iopub.execute_input": "2024-10-03T14:55:33.358216Z",
     "iopub.status.busy": "2024-10-03T14:55:33.357886Z",
     "iopub.status.idle": "2024-10-03T14:55:33.664946Z",
     "shell.execute_reply": "2024-10-03T14:55:33.663930Z"
    },
    "papermill": {
     "duration": 0.325022,
     "end_time": "2024-10-03T14:55:33.667287",
     "exception": false,
     "start_time": "2024-10-03T14:55:33.342265",
     "status": "completed"
    },
    "tags": []
   },
   "outputs": [
    {
     "name": "stdout",
     "output_type": "stream",
     "text": [
      "Confusion Matrix:\n",
      "[[573 240]\n",
      " [161  50]]\n",
      "\n",
      "Classification Report:\n",
      "              precision    recall  f1-score   support\n",
      "\n",
      "           0       0.78      0.70      0.74       813\n",
      "           1       0.17      0.24      0.20       211\n",
      "\n",
      "    accuracy                           0.61      1024\n",
      "   macro avg       0.48      0.47      0.47      1024\n",
      "weighted avg       0.66      0.61      0.63      1024\n",
      "\n"
     ]
    },
    {
     "data": {
      "image/png": "[encoded data removed]",
      "text/plain": [
       "<Figure size 600x500 with 2 Axes>"
      ]
     },
     "metadata": {},
     "output_type": "display_data"
    }
   ],
   "source": [
    "cm = confusion_matrix(true_label, flattened_predictions)\n",
    "print(\"Confusion Matrix:\")\n",
    "print(cm)\n",
    "\n",
    "# Optional: Detailed classification report\n",
    "print(\"\\nClassification Report:\")\n",
    "print(classification_report(true_label, flattened_predictions))\n",
    "\n",
    "# Optional: Visualize the confusion matrix\n",
    "labels = ['Negative', 'Positive']\n",
    "cm_df = pd.DataFrame(cm, index=labels, columns=labels)\n",
    "\n",
    "plt.figure(figsize=(6,5))\n",
    "sns.heatmap(cm_df, annot=True, fmt='d', cmap='Blues')\n",
    "plt.ylabel('Actual')\n",
    "plt.xlabel('Predicted')\n",
    "plt.title('Confusion Matrix')\n",
    "plt.show()"
   ]
  }
 ],
 "metadata": {
  "kaggle": {
   "accelerator": "nvidiaTeslaT4",
   "dataSources": [
    {
     "datasetId": 5754676,
     "sourceId": 9534427,
     "sourceType": "datasetVersion"
    }
   ],
   "dockerImageVersionId": 30776,
   "isGpuEnabled": true,
   "isInternetEnabled": true,
   "language": "python",
   "sourceType": "notebook"
  },
  "kernelspec": {
   "display_name": "Python 3",
   "language": "python",
   "name": "python3"
  },
  "language_info": {
   "codemirror_mode": {
    "name": "ipython",
    "version": 3
   },
   "file_extension": ".py",
   "mimetype": "text/x-python",
   "name": "python",
   "nbconvert_exporter": "python",
   "pygments_lexer": "ipython3",
   "version": "3.10.14"
  },
  "papermill": {
   "default_parameters": {},
   "duration": 103.777199,
   "end_time": "2024-10-03T14:55:36.109008",
   "environment_variables": {},
   "exception": null,
   "input_path": "__notebook__.ipynb",
   "output_path": "__notebook__.ipynb",
   "parameters": {},
   "start_time": "2024-10-03T14:53:52.331809",
   "version": "2.6.0"
  }
 },
 "nbformat": 4,
 "nbformat_minor": 5
}
