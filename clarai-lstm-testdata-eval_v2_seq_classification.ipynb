{
 "cells": [
  {
   "cell_type": "code",
   "execution_count": 71,
   "metadata": {},
   "outputs": [],
   "source": [
    "from sklearn.model_selection import train_test_split\n",
    "from sklearn.preprocessing import StandardScaler\n",
    "from sklearn.utils.class_weight import compute_class_weight\n",
    "from sklearn.metrics import confusion_matrix, classification_report, roc_curve, auc\n",
    "from torch.utils.data import DataLoader, TensorDataset\n",
    "\n",
    "import torch\n",
    "import torch.nn as nn\n",
    "import torch.optim as optim\n",
    "import pandas as pd\n",
    "import numpy as np\n",
    "import matplotlib.pyplot as plt\n",
    "import seaborn as sns\n",
    "\n",
    "import glob"
   ]
  },
  {
   "cell_type": "code",
   "execution_count": 72,
   "metadata": {},
   "outputs": [
    {
     "name": "stdout",
     "output_type": "stream",
     "text": [
      "cuda\n"
     ]
    }
   ],
   "source": [
    "# device = torch.device(\"mps\")\n",
    "device = torch.device(\"cuda\" if torch.cuda.is_available() else \"cpu\")\n",
    "print(device)"
   ]
  },
  {
   "cell_type": "code",
   "execution_count": 73,
   "metadata": {},
   "outputs": [],
   "source": [
    "# Load the model\n",
    "# Sample time series data with shape (batch_size, sequence_length, num_features)\n",
    "# neuroimaging_data: Time series data from multiple neuroimaging channels\n",
    "# labels: Binary labels (0 = no pain, 1 = pain) for each time step\n",
    "# Assume neuroimaging_data is a numpy array of shape (num_samples, sequence_length, num_channels)\n",
    "# labels is a numpy array of shape (num_samples, sequence_length)\n",
    "\n",
    "# Sample time series data with shape (batch_size, sequence_length, num_features)\n",
    "# neuroimaging_data: Time series data from multiple neuroimaging channels\n",
    "# labels: Binary labels (0 = no pain, 1 = pain) for each time step\n",
    "# Assume neuroimaging_data is a numpy array of shape (num_samples, sequence_length, num_channels)\n",
    "# labels is a numpy array of shape (num_samples, sequence_length)\n",
    "\n",
    "class LSTMClassifier(nn.Module):\n",
    "    def __init__(self, input_size, hidden_size, output_size, num_layers=1):\n",
    "        super(LSTMClassifier, self).__init__()\n",
    "        self.hidden_size = hidden_size\n",
    "        self.num_layers = num_layers\n",
    "        self.lstm = nn.LSTM(input_size, hidden_size, num_layers, batch_first=True)\n",
    "        self.fc = nn.Linear(hidden_size, output_size)\n",
    "        self.batch_norm = nn.BatchNorm1d(hidden_size)  # Correct Batch Normalization\n",
    "        self.sigmoid = nn.Sigmoid()\n",
    "\n",
    "    def forward(self, x):\n",
    "        # Initialize hidden state and cell state with zeros\n",
    "        h0 = torch.zeros(self.num_layers, x.size(0), self.hidden_size).to(x.device)\n",
    "        c0 = torch.zeros(self.num_layers, x.size(0), self.hidden_size).to(x.device)\n",
    "\n",
    "        # LSTM forward pass\n",
    "        out, _ = self.lstm(x, (h0, c0))\n",
    "\n",
    "        # Select the output at the last time step\n",
    "        # `out` is of shape (batch_size, sequence_length, hidden_size)\n",
    "        # We take the output of the last time step, which is at index -1\n",
    "        out = out[:, -1, :]\n",
    "        \n",
    "        # Apply batch normalization\n",
    "        # Permute to (batch_size, hidden_size, sequence_length) for batch norm\n",
    "        # out = out.permute(0, 2, 1)\n",
    "        # out = self.batch_norm(out)\n",
    "        \n",
    "        # Permute back to (batch_size, sequence_length, hidden_size)\n",
    "        # out = out.permute(0, 2, 1)\n",
    "        \n",
    "        # Apply the linear layer to each time step\n",
    "        out = self.fc(out)\n",
    "        \n",
    "        return self.sigmoid(out)\n",
    "\n"
   ]
  },
  {
   "cell_type": "code",
   "execution_count": 74,
   "metadata": {},
   "outputs": [
    {
     "name": "stderr",
     "output_type": "stream",
     "text": [
      "C:\\Users\\xiaos\\AppData\\Local\\Temp\\ipykernel_23092\\1684350150.py:8: FutureWarning: You are using `torch.load` with `weights_only=False` (the current default value), which uses the default pickle module implicitly. It is possible to construct malicious pickle data which will execute arbitrary code during unpickling (See https://github.com/pytorch/pytorch/blob/main/SECURITY.md#untrusted-models for more details). In a future release, the default value for `weights_only` will be flipped to `True`. This limits the functions that could be executed during unpickling. Arbitrary objects will no longer be allowed to be loaded via this mode unless they are explicitly allowlisted by the user via `torch.serialization.add_safe_globals`. We recommend you start setting `weights_only=True` for any use case where you don't have full control of the loaded file. Please open an issue on GitHub for any issues related to this experimental feature.\n",
      "  model.load_state_dict(torch.load('D:\\PythonProjs\\CLARAi\\Trained_model_weights\\lstm_unidi_model4_seqcl128_ep300.pth'))\n"
     ]
    },
    {
     "data": {
      "text/plain": [
       "<All keys matched successfully>"
      ]
     },
     "execution_count": 74,
     "metadata": {},
     "output_type": "execute_result"
    }
   ],
   "source": [
    "# input_size = neuroimaging_data.shape[2]  # Number of features (channels)\n",
    "input_size = 4\n",
    "hidden_size =64  # Hidden state size of the GRU\n",
    "output_size = 1  # Binary classification\n",
    "num_layers = 8  # Number of GRU layers\n",
    "\n",
    "model = LSTMClassifier(input_size, hidden_size, output_size, num_layers).to(device)\n",
    "model.load_state_dict(torch.load('D:\\PythonProjs\\CLARAi\\Trained_model_weights\\lstm_unidi_model4_seqcl128_ep300.pth'))\n"
   ]
  },
  {
   "cell_type": "code",
   "execution_count": 75,
   "metadata": {},
   "outputs": [],
   "source": [
    "data_test = pd.read_csv('D:\\PythonProjs\\CLARAi\\Data_test_sensory\\data16.csv')\n",
    "label_test = pd.read_csv('D:\\PythonProjs\\CLARAi\\Label_test\\label16.csv')"
   ]
  },
  {
   "cell_type": "code",
   "execution_count": 76,
   "metadata": {},
   "outputs": [],
   "source": [
    "data_test= data_test.to_numpy()\n",
    "label_test = label_test.to_numpy()"
   ]
  },
  {
   "cell_type": "code",
   "execution_count": 77,
   "metadata": {},
   "outputs": [],
   "source": [
    "sequence_length = 128\n",
    "input_size = 36\n",
    "\n",
    "\n",
    "\"\"\"# Calculate the number of complete sequences\n",
    "num_sequences = data_test.shape[0] // sequence_length  # 5 sequences\n",
    "\n",
    "# Truncate the data to have only complete sequences\n",
    "truncated_data = data_test[:num_sequences * sequence_length]  # Shape: (1280, 36)\n",
    "\n",
    "# Reshape to (num_sequences, sequence_length, input_size)\n",
    "test_sequences = truncated_data.reshape(num_sequences, sequence_length, input_size)  # Shape: (5, 256, 36)\n",
    "\n",
    "# Convert to PyTorch tensor\n",
    "test_sequences = torch.tensor(test_sequences, dtype=torch.float32)\n",
    "\n",
    "true_labels = label_test[:num_sequences * sequence_length].reshape(num_sequences, sequence_length)\n",
    "true_label = [sublist[-1] for sublist in true_labels]\"\"\"\n",
    "\n",
    "\n",
    "# Create a sliding window view of the data to get overlapping sequences\n",
    "def sliding_window(data, window_size):\n",
    "    return np.lib.stride_tricks.sliding_window_view(data, (window_size, data.shape[1]))[:, 0, :]\n",
    "\n",
    "# Apply the sliding window to the test data\n",
    "overlapping_data = sliding_window(data_test, sequence_length)  # Shape: (N-sequence_length+1, 128, 36)\n",
    "\n",
    "# Convert to PyTorch tensor\n",
    "test_sequences = torch.tensor(overlapping_data, dtype=torch.float32)\n",
    "\n",
    "# Now handle the labels (taking the last label of each sequence)\n",
    "true_labels = label_test[sequence_length - 1:]  # Shape: (N-sequence_length+1,)"
   ]
  },
  {
   "cell_type": "code",
   "execution_count": 78,
   "metadata": {},
   "outputs": [
    {
     "data": {
      "text/plain": [
       "((991, 128, 4), (991, 1))"
      ]
     },
     "execution_count": 78,
     "metadata": {},
     "output_type": "execute_result"
    }
   ],
   "source": [
    "overlapping_data.shape, true_labels.shape"
   ]
  },
  {
   "cell_type": "code",
   "execution_count": 79,
   "metadata": {},
   "outputs": [],
   "source": [
    "# Create DataLoader\n",
    "test_dataset = TensorDataset(test_sequences)\n",
    "test_loader = DataLoader(test_dataset, batch_size=1, shuffle=False)  # Adjust batch_size as needed\n"
   ]
  },
  {
   "cell_type": "code",
   "execution_count": 80,
   "metadata": {},
   "outputs": [],
   "source": [
    "# Perform inference\n",
    "all_outputs = []\n",
    "with torch.no_grad():\n",
    "    for batch in test_loader:\n",
    "        inputs = batch[0].to(device)  # (batch_size, 256, 36)\n",
    "        outputs = model(inputs)       # (batch_size, 256, 1)\n",
    "        all_outputs.append(outputs.cpu().numpy())\n",
    "\n",
    "# Concatenate all outputs\n",
    "all_outputs = np.concatenate(all_outputs, axis=0)  # Shape: (6, 256, 1)"
   ]
  },
  {
   "cell_type": "code",
   "execution_count": 81,
   "metadata": {},
   "outputs": [
    {
     "data": {
      "text/plain": [
       "(991, 1)"
      ]
     },
     "execution_count": 81,
     "metadata": {},
     "output_type": "execute_result"
    }
   ],
   "source": [
    "all_outputs.shape"
   ]
  },
  {
   "cell_type": "code",
   "execution_count": 82,
   "metadata": {},
   "outputs": [],
   "source": [
    "# Apply threshold to get binary predictions\n",
    "predictions = (all_outputs >= 0.5).astype(int)  # Shape: (6, 256, 1)\n",
    "predictions = predictions.squeeze(-1)           # Shape: (6, 256)"
   ]
  },
  {
   "cell_type": "code",
   "execution_count": 83,
   "metadata": {},
   "outputs": [],
   "source": [
    "# Flatten the predictions\n",
    "flattened_predictions = predictions.flatten()  # Shape: (1536,)"
   ]
  },
  {
   "cell_type": "code",
   "execution_count": 84,
   "metadata": {},
   "outputs": [
    {
     "data": {
      "text/plain": [
       "(1118, 1)"
      ]
     },
     "execution_count": 84,
     "metadata": {},
     "output_type": "execute_result"
    }
   ],
   "source": [
    "label_test.shape"
   ]
  },
  {
   "cell_type": "code",
   "execution_count": 85,
   "metadata": {},
   "outputs": [
    {
     "name": "stdout",
     "output_type": "stream",
     "text": [
      "Confusion Matrix:\n",
      "[[ 47 183]\n",
      " [166 595]]\n",
      "\n",
      "Classification Report:\n",
      "              precision    recall  f1-score   support\n",
      "\n",
      "           0       0.22      0.20      0.21       230\n",
      "           1       0.76      0.78      0.77       761\n",
      "\n",
      "    accuracy                           0.65       991\n",
      "   macro avg       0.49      0.49      0.49       991\n",
      "weighted avg       0.64      0.65      0.64       991\n",
      "\n"
     ]
    },
    {
     "data": {
      "image/png": "[encoded data removed]",
      "text/plain": [
       "<Figure size 600x500 with 2 Axes>"
      ]
     },
     "metadata": {},
     "output_type": "display_data"
    }
   ],
   "source": [
    "cm = confusion_matrix(true_labels, flattened_predictions)\n",
    "print(\"Confusion Matrix:\")\n",
    "print(cm)\n",
    "\n",
    "# Optional: Detailed classification report\n",
    "print(\"\\nClassification Report:\")\n",
    "print(classification_report(true_labels, flattened_predictions))\n",
    "\n",
    "# Optional: Visualize the confusion matrix\n",
    "labels = ['Negative', 'Positive']\n",
    "cm_df = pd.DataFrame(cm, index=labels, columns=labels)\n",
    "\n",
    "plt.figure(figsize=(6,5))\n",
    "sns.heatmap(cm_df, annot=True, fmt='d', cmap='Blues')\n",
    "plt.ylabel('Actual')\n",
    "plt.xlabel('Predicted')\n",
    "plt.title('Confusion Matrix')\n",
    "plt.show()"
   ]
  },
  {
   "cell_type": "code",
   "execution_count": null,
   "metadata": {},
   "outputs": [],
   "source": []
  }
 ],
 "metadata": {
  "kernelspec": {
   "display_name": "torchwin",
   "language": "python",
   "name": "python3"
  },
  "language_info": {
   "codemirror_mode": {
    "name": "ipython",
    "version": 3
   },
   "file_extension": ".py",
   "mimetype": "text/x-python",
   "name": "python",
   "nbconvert_exporter": "python",
   "pygments_lexer": "ipython3",
   "version": "3.10.14"
  }
 },
 "nbformat": 4,
 "nbformat_minor": 2
}
