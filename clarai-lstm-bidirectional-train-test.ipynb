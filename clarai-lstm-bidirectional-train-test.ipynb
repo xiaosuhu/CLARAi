{
 "cells": [
  {
   "cell_type": "code",
   "execution_count": 1,
   "id": "4705a311",
   "metadata": {
    "execution": {
     "iopub.execute_input": "2024-10-09T18:27:03.081551Z",
     "iopub.status.busy": "2024-10-09T18:27:03.081165Z",
     "iopub.status.idle": "2024-10-09T18:27:09.566690Z",
     "shell.execute_reply": "2024-10-09T18:27:09.565730Z"
    },
    "papermill": {
     "duration": 6.496766,
     "end_time": "2024-10-09T18:27:09.569210",
     "exception": false,
     "start_time": "2024-10-09T18:27:03.072444",
     "status": "completed"
    },
    "tags": []
   },
   "outputs": [],
   "source": [
    "from sklearn.model_selection import train_test_split\n",
    "from sklearn.preprocessing import StandardScaler\n",
    "from sklearn.utils.class_weight import compute_class_weight\n",
    "from sklearn.metrics import confusion_matrix, classification_report, roc_curve, auc\n",
    "from torch.utils.data import DataLoader, TensorDataset\n",
    "\n",
    "import torch\n",
    "import torch.nn as nn\n",
    "import torch.optim as optim\n",
    "import pandas as pd\n",
    "import numpy as np\n",
    "import matplotlib.pyplot as plt\n",
    "import seaborn as sns\n",
    "\n",
    "import glob"
   ]
  },
  {
   "cell_type": "code",
   "execution_count": 2,
   "id": "3cb87203",
   "metadata": {
    "execution": {
     "iopub.execute_input": "2024-10-09T18:27:09.583371Z",
     "iopub.status.busy": "2024-10-09T18:27:09.582982Z",
     "iopub.status.idle": "2024-10-09T18:27:09.677134Z",
     "shell.execute_reply": "2024-10-09T18:27:09.676236Z"
    },
    "papermill": {
     "duration": 0.103808,
     "end_time": "2024-10-09T18:27:09.679638",
     "exception": false,
     "start_time": "2024-10-09T18:27:09.575830",
     "status": "completed"
    },
    "tags": []
   },
   "outputs": [
    {
     "name": "stdout",
     "output_type": "stream",
     "text": [
      "cuda\n"
     ]
    }
   ],
   "source": [
    "# device = torch.device(\"mps\")\n",
    "device = torch.device(\"cuda\" if torch.cuda.is_available() else \"cpu\")\n",
    "print(device)"
   ]
  },
  {
   "cell_type": "code",
   "execution_count": 3,
   "id": "789dbefa",
   "metadata": {
    "execution": {
     "iopub.execute_input": "2024-10-09T18:27:09.693285Z",
     "iopub.status.busy": "2024-10-09T18:27:09.693006Z",
     "iopub.status.idle": "2024-10-09T18:27:09.700169Z",
     "shell.execute_reply": "2024-10-09T18:27:09.699352Z"
    },
    "papermill": {
     "duration": 0.016084,
     "end_time": "2024-10-09T18:27:09.702028",
     "exception": false,
     "start_time": "2024-10-09T18:27:09.685944",
     "status": "completed"
    },
    "tags": []
   },
   "outputs": [
    {
     "data": {
      "text/plain": [
       "'# Step 1: Get a list of all CSV file paths in the directory\\ndata_path = glob.glob(\"D:\\\\PythonProjs\\\\CLARAi\\\\Data\\\\*.csv\")  # Modify with your directory path\\nlabel_path = glob.glob(\"D:\\\\PythonProjs\\\\CLARAi\\\\Label\\\\*.csv\")\\n\\n# Step 2: Read each CSV file and store in a list of DataFrames\\ndatadfs = [pd.read_csv(file) for file in data_path]\\nlabeldfs = [pd.read_csv(file) for file in label_path]\\n\\n# Step 3: Concatenate all DataFrames into one\\nfinal_data_df = pd.concat(datadfs, ignore_index=True)\\nfinal_label_df = pd.concat(labeldfs, ignore_index=True)'"
      ]
     },
     "execution_count": 3,
     "metadata": {},
     "output_type": "execute_result"
    }
   ],
   "source": [
    "\"\"\"# Step 1: Get a list of all CSV file paths in the directory\n",
    "data_path = glob.glob(\"D:\\PythonProjs\\CLARAi\\Data\\*.csv\")  # Modify with your directory path\n",
    "label_path = glob.glob(\"D:\\PythonProjs\\CLARAi\\Label\\*.csv\")\n",
    "\n",
    "# Step 2: Read each CSV file and store in a list of DataFrames\n",
    "datadfs = [pd.read_csv(file) for file in data_path]\n",
    "labeldfs = [pd.read_csv(file) for file in label_path]\n",
    "\n",
    "# Step 3: Concatenate all DataFrames into one\n",
    "final_data_df = pd.concat(datadfs, ignore_index=True)\n",
    "final_label_df = pd.concat(labeldfs, ignore_index=True)\"\"\""
   ]
  },
  {
   "cell_type": "code",
   "execution_count": 4,
   "id": "bd070476",
   "metadata": {
    "execution": {
     "iopub.execute_input": "2024-10-09T18:27:09.716628Z",
     "iopub.status.busy": "2024-10-09T18:27:09.716321Z",
     "iopub.status.idle": "2024-10-09T18:27:09.721132Z",
     "shell.execute_reply": "2024-10-09T18:27:09.720262Z"
    },
    "papermill": {
     "duration": 0.015005,
     "end_time": "2024-10-09T18:27:09.723304",
     "exception": false,
     "start_time": "2024-10-09T18:27:09.708299",
     "status": "completed"
    },
    "tags": []
   },
   "outputs": [],
   "source": [
    "class CONFIG:\n",
    "    seq_len = 512\n",
    "    num_seq = 500\n",
    "    data_ch = 36\n",
    "    hidden_size = 16  # Hidden state size of the GRU\n",
    "    output_size = 1  # Binary classification\n",
    "    num_layers = 6  # Number of GRU layers\n",
    "    learning_rate = 0.001\n",
    "    num_epochs = 500\n",
    "    batch_size = 8"
   ]
  },
  {
   "cell_type": "code",
   "execution_count": 5,
   "id": "6cf7a1cc",
   "metadata": {
    "execution": {
     "iopub.execute_input": "2024-10-09T18:27:09.737144Z",
     "iopub.status.busy": "2024-10-09T18:27:09.736862Z",
     "iopub.status.idle": "2024-10-09T18:27:09.744967Z",
     "shell.execute_reply": "2024-10-09T18:27:09.744141Z"
    },
    "papermill": {
     "duration": 0.017144,
     "end_time": "2024-10-09T18:27:09.746833",
     "exception": false,
     "start_time": "2024-10-09T18:27:09.729689",
     "status": "completed"
    },
    "tags": []
   },
   "outputs": [],
   "source": [
    "def data_gen(data_path, label_path):\n",
    "    final_data_df = pd.read_csv(data_path)\n",
    "    final_label_df = pd.read_csv(label_path)\n",
    "\n",
    "    train_labels_flat = final_label_df.values.flatten()\n",
    "    \n",
    "    # Compute class weights (inverse of class frequencies)\n",
    "    class_weights = compute_class_weight(class_weight='balanced', classes=np.unique(train_labels_flat), y=train_labels_flat)\n",
    "    class_weights = torch.tensor(class_weights, dtype=torch.float32)\n",
    "\n",
    "    # Parameters\n",
    "    sequence_length = CONFIG.seq_len  # Length of each subsequence\n",
    "    num_subsequences = CONFIG.num_seq  # Number of subsequences to extract\n",
    "\n",
    "    # Get possible starting indices, ensuring there's enough space for a full subsequence\n",
    "    possible_starts = np.arange(0, len(final_data_df) - sequence_length + 1)\n",
    "    np.random.shuffle(possible_starts)\n",
    "\n",
    "    # Select the first `num_subsequences` starting indices\n",
    "    selected_starts = possible_starts[:num_subsequences]\n",
    "\n",
    "    # Create a list to hold the subsequences\n",
    "    subsequences = [final_data_df.iloc[start:start + sequence_length].values for start in selected_starts]\n",
    "    sublabels = [final_label_df.iloc[start:start + sequence_length].values for start in selected_starts]\n",
    "\n",
    "    # Convert subsequences list to a NumPy array\n",
    "    subsequences_array = np.array(subsequences)\n",
    "    sublabels_array = np.array(sublabels)\n",
    "\n",
    "    # subsequences_array will have shape (num_subsequences, sequence_length, num_channels)\n",
    "    # print(subsequences_array.shape)  # Should print (100, 100, 36)\n",
    "    # print(sublabels_array.shape)\n",
    "\n",
    "    return torch.from_numpy(subsequences_array), torch.from_numpy(sublabels_array), class_weights\n"
   ]
  },
  {
   "cell_type": "code",
   "execution_count": 6,
   "id": "65b028ef",
   "metadata": {
    "execution": {
     "iopub.execute_input": "2024-10-09T18:27:09.761312Z",
     "iopub.status.busy": "2024-10-09T18:27:09.760663Z",
     "iopub.status.idle": "2024-10-09T18:27:09.769950Z",
     "shell.execute_reply": "2024-10-09T18:27:09.769099Z"
    },
    "papermill": {
     "duration": 0.018612,
     "end_time": "2024-10-09T18:27:09.771760",
     "exception": false,
     "start_time": "2024-10-09T18:27:09.753148",
     "status": "completed"
    },
    "tags": []
   },
   "outputs": [],
   "source": [
    "\n",
    "# Sample time series data with shape (batch_size, sequence_length, num_features)\n",
    "# neuroimaging_data: Time series data from multiple neuroimaging channels\n",
    "# labels: Binary labels (0 = no pain, 1 = pain) for each time step\n",
    "# Assume neuroimaging_data is a numpy array of shape (num_samples, sequence_length, num_channels)\n",
    "# labels is a numpy array of shape (num_samples, sequence_length)\n",
    "\n",
    "class BidirectionalLSTMClassifier(nn.Module):\n",
    "    def __init__(self, input_size, hidden_size, output_size, num_layers=1):\n",
    "        super(BidirectionalLSTMClassifier, self).__init__()\n",
    "        self.hidden_size = hidden_size\n",
    "        self.num_layers = num_layers\n",
    "        self.lstm = nn.LSTM(input_size, hidden_size, num_layers, batch_first=True, bidirectional=True)\n",
    "        \n",
    "        # Adjust the fully connected layer to account for doubled hidden size (forward + backward)\n",
    "        self.fc = nn.Linear(hidden_size * 2, output_size)\n",
    "        self.batch_norm = nn.BatchNorm1d(hidden_size * 2)  # Adjust Batch Normalization for bidirectional\n",
    "        self.sigmoid = nn.Sigmoid()\n",
    "\n",
    "    def forward(self, x):\n",
    "        # Initialize hidden state and cell state with zeros for both directions\n",
    "        h0 = torch.zeros(self.num_layers * 2, x.size(0), self.hidden_size).to(x.device)  # *2 for bidirectional\n",
    "        c0 = torch.zeros(self.num_layers * 2, x.size(0), self.hidden_size).to(x.device)\n",
    "\n",
    "        # LSTM forward pass\n",
    "        out, _ = self.lstm(x, (h0, c0))\n",
    "        \n",
    "        # Apply batch normalization\n",
    "        # Permute to (batch_size, hidden_size*2, sequence_length) for batch norm\n",
    "        out = out.permute(0, 2, 1)\n",
    "        out = self.batch_norm(out)\n",
    "        \n",
    "        # Permute back to (batch_size, sequence_length, hidden_size*2)\n",
    "        out = out.permute(0, 2, 1)\n",
    "        \n",
    "        # Apply the linear layer to each time step\n",
    "        out = self.fc(out)\n",
    "        \n",
    "        return self.sigmoid(out)\n"
   ]
  },
  {
   "cell_type": "code",
   "execution_count": 7,
   "id": "e9150644",
   "metadata": {
    "execution": {
     "iopub.execute_input": "2024-10-09T18:27:09.785329Z",
     "iopub.status.busy": "2024-10-09T18:27:09.785067Z",
     "iopub.status.idle": "2024-10-09T18:27:09.798260Z",
     "shell.execute_reply": "2024-10-09T18:27:09.797496Z"
    },
    "papermill": {
     "duration": 0.02203,
     "end_time": "2024-10-09T18:27:09.800027",
     "exception": false,
     "start_time": "2024-10-09T18:27:09.777997",
     "status": "completed"
    },
    "tags": []
   },
   "outputs": [],
   "source": [
    "# data_path = glob.glob(\"D:\\PythonProjs\\CLARAi\\Data_train\\*.csv\")  # Modify with your directory path\n",
    "# label_path = glob.glob(\"D:\\PythonProjs\\CLARAi\\Label_train\\*.csv\")\n",
    "\n",
    "# data_path = glob.glob(\"/home/frank/Documents/CLARAi/Data/*.csv\")  # Modify with your directory path\n",
    "# label_path = glob.glob(\"/home/frank/Documents/CLARAi/Label/*.csv\")\n",
    "\n",
    "# data_path = glob.glob(\"/Users/xiaosuhu/Documents/Python/CLARAi/Data/*.csv\")  # Modify with your directory path\n",
    "# label_path = glob.glob(\"/Users/xiaosuhu/Documents/Python/CLARAi/Data/*.csv\")\n",
    "\n",
    "data_path = glob.glob(\"/kaggle/input/CLARAi/Data_train/*.csv\")  # Modify with your directory path\n",
    "label_path = glob.glob(\"/kaggle/input/CLARAi/Label_train/*.csv\")\n",
    "\n",
    "# Sort the lists\n",
    "data_path = sorted(data_path)\n",
    "label_path = sorted(label_path)\n"
   ]
  },
  {
   "cell_type": "code",
   "execution_count": 8,
   "id": "6436151c",
   "metadata": {
    "execution": {
     "iopub.execute_input": "2024-10-09T18:27:09.813547Z",
     "iopub.status.busy": "2024-10-09T18:27:09.813269Z",
     "iopub.status.idle": "2024-10-09T18:27:09.818746Z",
     "shell.execute_reply": "2024-10-09T18:27:09.817914Z"
    },
    "papermill": {
     "duration": 0.014506,
     "end_time": "2024-10-09T18:27:09.820775",
     "exception": false,
     "start_time": "2024-10-09T18:27:09.806269",
     "status": "completed"
    },
    "tags": []
   },
   "outputs": [
    {
     "data": {
      "text/plain": [
       "['/kaggle/input/CLARAi/Data_train/data1.csv',\n",
       " '/kaggle/input/CLARAi/Data_train/data10.csv',\n",
       " '/kaggle/input/CLARAi/Data_train/data11.csv',\n",
       " '/kaggle/input/CLARAi/Data_train/data12.csv',\n",
       " '/kaggle/input/CLARAi/Data_train/data13.csv',\n",
       " '/kaggle/input/CLARAi/Data_train/data16.csv',\n",
       " '/kaggle/input/CLARAi/Data_train/data17.csv',\n",
       " '/kaggle/input/CLARAi/Data_train/data3.csv',\n",
       " '/kaggle/input/CLARAi/Data_train/data4.csv',\n",
       " '/kaggle/input/CLARAi/Data_train/data5.csv',\n",
       " '/kaggle/input/CLARAi/Data_train/data6.csv',\n",
       " '/kaggle/input/CLARAi/Data_train/data7.csv',\n",
       " '/kaggle/input/CLARAi/Data_train/data8.csv',\n",
       " '/kaggle/input/CLARAi/Data_train/data9.csv']"
      ]
     },
     "execution_count": 8,
     "metadata": {},
     "output_type": "execute_result"
    }
   ],
   "source": [
    "data_path"
   ]
  },
  {
   "cell_type": "code",
   "execution_count": 9,
   "id": "2140e1f3",
   "metadata": {
    "execution": {
     "iopub.execute_input": "2024-10-09T18:27:09.835064Z",
     "iopub.status.busy": "2024-10-09T18:27:09.834383Z",
     "iopub.status.idle": "2024-10-09T18:27:09.857089Z",
     "shell.execute_reply": "2024-10-09T18:27:09.856265Z"
    },
    "papermill": {
     "duration": 0.031938,
     "end_time": "2024-10-09T18:27:09.859159",
     "exception": false,
     "start_time": "2024-10-09T18:27:09.827221",
     "status": "completed"
    },
    "tags": []
   },
   "outputs": [],
   "source": [
    "\n",
    "# data_path = \"D:\\PythonProjs\\CLARAi\\Data\\data1.csv\"\n",
    "# label_path = \"D:\\PythonProjs\\CLARAi\\Label\\label1.csv\"\n",
    "neuroimaging_data = torch.empty(0,CONFIG.seq_len,CONFIG.data_ch)\n",
    "labels = torch.empty(0,CONFIG.seq_len,1)\n",
    "class_weights = torch.Tensor([0., 0.])"
   ]
  },
  {
   "cell_type": "code",
   "execution_count": 10,
   "id": "d67aeaa5",
   "metadata": {
    "execution": {
     "iopub.execute_input": "2024-10-09T18:27:09.873404Z",
     "iopub.status.busy": "2024-10-09T18:27:09.873111Z",
     "iopub.status.idle": "2024-10-09T18:27:13.750606Z",
     "shell.execute_reply": "2024-10-09T18:27:13.749600Z"
    },
    "papermill": {
     "duration": 3.887504,
     "end_time": "2024-10-09T18:27:13.753216",
     "exception": false,
     "start_time": "2024-10-09T18:27:09.865712",
     "status": "completed"
    },
    "tags": []
   },
   "outputs": [
    {
     "name": "stdout",
     "output_type": "stream",
     "text": [
      "datapath: /kaggle/input/CLARAi/Data_train/data1.csv\n",
      "labelpath: /kaggle/input/CLARAi/Label_train/label1.csv\n",
      "Data shape: torch.Size([500, 512, 36]), Label shape: torch.Size([500, 512, 1]), Weight shape: torch.Size([2])\n",
      "datapath: /kaggle/input/CLARAi/Data_train/data10.csv\n",
      "labelpath: /kaggle/input/CLARAi/Label_train/label10.csv\n",
      "Data shape: torch.Size([500, 512, 36]), Label shape: torch.Size([500, 512, 1]), Weight shape: torch.Size([2])\n",
      "datapath: /kaggle/input/CLARAi/Data_train/data11.csv\n",
      "labelpath: /kaggle/input/CLARAi/Label_train/label11.csv\n",
      "Data shape: torch.Size([351, 512, 36]), Label shape: torch.Size([351, 512, 1]), Weight shape: torch.Size([2])\n",
      "datapath: /kaggle/input/CLARAi/Data_train/data12.csv\n",
      "labelpath: /kaggle/input/CLARAi/Label_train/label12.csv\n",
      "Data shape: torch.Size([239, 512, 36]), Label shape: torch.Size([239, 512, 1]), Weight shape: torch.Size([2])\n",
      "datapath: /kaggle/input/CLARAi/Data_train/data13.csv\n",
      "labelpath: /kaggle/input/CLARAi/Label_train/label13.csv\n",
      "Data shape: torch.Size([310, 512, 36]), Label shape: torch.Size([310, 512, 1]), Weight shape: torch.Size([2])\n",
      "datapath: /kaggle/input/CLARAi/Data_train/data16.csv\n",
      "labelpath: /kaggle/input/CLARAi/Label_train/label16.csv\n",
      "Data shape: torch.Size([500, 512, 36]), Label shape: torch.Size([500, 512, 1]), Weight shape: torch.Size([2])\n",
      "datapath: /kaggle/input/CLARAi/Data_train/data17.csv\n",
      "labelpath: /kaggle/input/CLARAi/Label_train/label17.csv\n",
      "Data shape: torch.Size([500, 512, 36]), Label shape: torch.Size([500, 512, 1]), Weight shape: torch.Size([2])\n",
      "datapath: /kaggle/input/CLARAi/Data_train/data3.csv\n",
      "labelpath: /kaggle/input/CLARAi/Label_train/label3.csv\n",
      "Data shape: torch.Size([500, 512, 36]), Label shape: torch.Size([500, 512, 1]), Weight shape: torch.Size([2])\n",
      "datapath: /kaggle/input/CLARAi/Data_train/data4.csv\n",
      "labelpath: /kaggle/input/CLARAi/Label_train/label4.csv\n",
      "Data shape: torch.Size([500, 512, 36]), Label shape: torch.Size([500, 512, 1]), Weight shape: torch.Size([2])\n",
      "datapath: /kaggle/input/CLARAi/Data_train/data5.csv\n",
      "labelpath: /kaggle/input/CLARAi/Label_train/label5.csv\n",
      "Data shape: torch.Size([500, 512, 36]), Label shape: torch.Size([500, 512, 1]), Weight shape: torch.Size([2])\n",
      "datapath: /kaggle/input/CLARAi/Data_train/data6.csv\n",
      "labelpath: /kaggle/input/CLARAi/Label_train/label6.csv\n",
      "Data shape: torch.Size([500, 512, 36]), Label shape: torch.Size([500, 512, 1]), Weight shape: torch.Size([2])\n",
      "datapath: /kaggle/input/CLARAi/Data_train/data7.csv\n",
      "labelpath: /kaggle/input/CLARAi/Label_train/label7.csv\n",
      "Data shape: torch.Size([500, 512, 36]), Label shape: torch.Size([500, 512, 1]), Weight shape: torch.Size([2])\n",
      "datapath: /kaggle/input/CLARAi/Data_train/data8.csv\n",
      "labelpath: /kaggle/input/CLARAi/Label_train/label8.csv\n",
      "Data shape: torch.Size([500, 512, 36]), Label shape: torch.Size([500, 512, 1]), Weight shape: torch.Size([2])\n",
      "datapath: /kaggle/input/CLARAi/Data_train/data9.csv\n",
      "labelpath: /kaggle/input/CLARAi/Label_train/label9.csv\n",
      "Data shape: torch.Size([500, 512, 36]), Label shape: torch.Size([500, 512, 1]), Weight shape: torch.Size([2])\n"
     ]
    }
   ],
   "source": [
    "\n",
    "for datapath, labelpath in zip(data_path, label_path):\n",
    "    print(f'datapath: {datapath}')\n",
    "    print(f'labelpath: {labelpath}')    \n",
    "    data, label, weight = data_gen(datapath, labelpath)\n",
    "    print(f'Data shape: {data.shape}, Label shape: {label.shape}, Weight shape: {weight.shape}')\n",
    "    neuroimaging_data= torch.cat([neuroimaging_data, data])\n",
    "    labels = torch.cat([labels, label])\n",
    "    class_weights += weight\n",
    "\n",
    "normalized_weights = class_weights / class_weights.sum()\n"
   ]
  },
  {
   "cell_type": "code",
   "execution_count": 11,
   "id": "ed2c5986",
   "metadata": {
    "execution": {
     "iopub.execute_input": "2024-10-09T18:27:13.772526Z",
     "iopub.status.busy": "2024-10-09T18:27:13.771844Z",
     "iopub.status.idle": "2024-10-09T18:27:13.778123Z",
     "shell.execute_reply": "2024-10-09T18:27:13.777091Z"
    },
    "papermill": {
     "duration": 0.017184,
     "end_time": "2024-10-09T18:27:13.780081",
     "exception": false,
     "start_time": "2024-10-09T18:27:13.762897",
     "status": "completed"
    },
    "tags": []
   },
   "outputs": [
    {
     "data": {
      "text/plain": [
       "(torch.Size([6400, 512, 36]), torch.Size([6400, 512, 1]))"
      ]
     },
     "execution_count": 11,
     "metadata": {},
     "output_type": "execute_result"
    }
   ],
   "source": [
    "neuroimaging_data.shape, labels.shape"
   ]
  },
  {
   "cell_type": "code",
   "execution_count": 12,
   "id": "f5b7a13c",
   "metadata": {
    "execution": {
     "iopub.execute_input": "2024-10-09T18:27:13.796953Z",
     "iopub.status.busy": "2024-10-09T18:27:13.796267Z",
     "iopub.status.idle": "2024-10-09T18:27:13.842985Z",
     "shell.execute_reply": "2024-10-09T18:27:13.841801Z"
    },
    "papermill": {
     "duration": 0.057335,
     "end_time": "2024-10-09T18:27:13.845104",
     "exception": false,
     "start_time": "2024-10-09T18:27:13.787769",
     "status": "completed"
    },
    "tags": []
   },
   "outputs": [
    {
     "name": "stdout",
     "output_type": "stream",
     "text": [
      "Number of 0s: 2537640Number of 1s: 739160 Ratio is 0.22557373046875\n"
     ]
    }
   ],
   "source": [
    "# Count the number of 1s\n",
    "num_zeros = torch.sum(labels == 0).item()\n",
    "num_ones = torch.sum(labels == 1).item()\n",
    "\n",
    "print(f\"Number of 0s: {num_zeros}Number of 1s: {num_ones} Ratio is {num_ones/(num_ones + num_zeros)}\")"
   ]
  },
  {
   "cell_type": "code",
   "execution_count": 13,
   "id": "c848cd9e",
   "metadata": {
    "execution": {
     "iopub.execute_input": "2024-10-09T18:27:13.862609Z",
     "iopub.status.busy": "2024-10-09T18:27:13.862261Z",
     "iopub.status.idle": "2024-10-09T18:27:16.537389Z",
     "shell.execute_reply": "2024-10-09T18:27:16.536620Z"
    },
    "papermill": {
     "duration": 2.686544,
     "end_time": "2024-10-09T18:27:16.539803",
     "exception": false,
     "start_time": "2024-10-09T18:27:13.853259",
     "status": "completed"
    },
    "tags": []
   },
   "outputs": [
    {
     "name": "stderr",
     "output_type": "stream",
     "text": [
      "/tmp/ipykernel_23/3072856817.py:16: UserWarning: To copy construct from a tensor, it is recommended to use sourceTensor.clone().detach() or sourceTensor.clone().detach().requires_grad_(True), rather than torch.tensor(sourceTensor).\n",
      "  train_data, test_data = torch.tensor(train_data, dtype=torch.float32).to(device), torch.tensor(test_data, dtype=torch.float32).to(device)\n",
      "/tmp/ipykernel_23/3072856817.py:17: UserWarning: To copy construct from a tensor, it is recommended to use sourceTensor.clone().detach() or sourceTensor.clone().detach().requires_grad_(True), rather than torch.tensor(sourceTensor).\n",
      "  train_labels, test_labels = torch.tensor(train_labels, dtype=torch.float32).to(device), torch.tensor(test_labels, dtype=torch.float32).to(device)\n"
     ]
    }
   ],
   "source": [
    "# Hyperparameters\n",
    "input_size = CONFIG.data_ch  # Number of features (channels)\n",
    "hidden_size = CONFIG.hidden_size  # Hidden state size of the GRU\n",
    "output_size = CONFIG.output_size  # Binary classification\n",
    "num_layers = CONFIG.num_layers  # Number of GRU layers\n",
    "learning_rate = CONFIG.learning_rate\n",
    "num_epochs = CONFIG.num_epochs\n",
    "batch_size = CONFIG.batch_size\n",
    "\n",
    "# Preprocessing (e.g., normalization)\n",
    "# scaler = StandardScaler()\n",
    "# neuroimaging_data = scaler.fit_transform(neuroimaging_data.reshape(-1, input_size)).reshape(neuroimaging_data.shape)\n",
    "\n",
    "# Convert numpy arrays to PyTorch tensors\n",
    "train_data, test_data, train_labels, test_labels = train_test_split(neuroimaging_data, labels, test_size=0.2, random_state=42)\n",
    "train_data, test_data = torch.tensor(train_data, dtype=torch.float32).to(device), torch.tensor(test_data, dtype=torch.float32).to(device)\n",
    "train_labels, test_labels = torch.tensor(train_labels, dtype=torch.float32).to(device), torch.tensor(test_labels, dtype=torch.float32).to(device)\n",
    "\n",
    "# Create GRU model\n",
    "model = BidirectionalLSTMClassifier(input_size, hidden_size, output_size, num_layers)\n",
    "model = torch.nn.DataParallel(model)\n",
    "model.to(device)\n",
    "\n",
    "# Loss and optimizer\n",
    "# criterion = nn.BCELoss()  # Binary Cross Entropy Loss for binary classification\n",
    "\n",
    "\n",
    "# Convert the class weights to a tensor and move to the appropriate device\n",
    "class_weights = class_weights.to(device)\n",
    "\n",
    "# Use BCEWithLogitsLoss, which combines sigmoid activation and binary cross-entropy loss\n",
    "criterion = nn.BCEWithLogitsLoss(pos_weight=normalized_weights[0])  # pos_weight applies only to class 1\n",
    "\n",
    "# optimizer = optim.Adam(model.parameters(), lr=learning_rate)\n",
    "optimizer = optim.Adam(model.parameters(), lr=learning_rate, weight_decay=1e-5)\n",
    "scheduler = torch.optim.lr_scheduler.ReduceLROnPlateau(optimizer, mode='min', factor=0.1, patience=20)"
   ]
  },
  {
   "cell_type": "code",
   "execution_count": 14,
   "id": "4e008cdd",
   "metadata": {
    "execution": {
     "iopub.execute_input": "2024-10-09T18:27:16.557455Z",
     "iopub.status.busy": "2024-10-09T18:27:16.557022Z",
     "iopub.status.idle": "2024-10-09T18:31:06.283415Z",
     "shell.execute_reply": "2024-10-09T18:31:06.282404Z"
    },
    "papermill": {
     "duration": 229.737801,
     "end_time": "2024-10-09T18:31:06.285808",
     "exception": false,
     "start_time": "2024-10-09T18:27:16.548007",
     "status": "completed"
    },
    "tags": []
   },
   "outputs": [
    {
     "name": "stderr",
     "output_type": "stream",
     "text": [
      "/opt/conda/lib/python3.10/site-packages/torch/nn/parallel/parallel_apply.py:79: FutureWarning: `torch.cuda.amp.autocast(args...)` is deprecated. Please use `torch.amp.autocast('cuda', args...)` instead.\n",
      "  with torch.cuda.device(device), torch.cuda.stream(stream), autocast(enabled=autocast_enabled):\n"
     ]
    },
    {
     "name": "stdout",
     "output_type": "stream",
     "text": [
      "Epoch [5/500], Train Loss: 0.7723, Val Loss: 0.7719\n",
      "Epoch [10/500], Train Loss: 0.7622, Val Loss: 0.7684\n",
      "Epoch [15/500], Train Loss: 0.7430, Val Loss: 0.7655\n",
      "Epoch [20/500], Train Loss: 0.7184, Val Loss: 0.7616\n",
      "Epoch [25/500], Train Loss: 0.7014, Val Loss: 0.7568\n",
      "Epoch [30/500], Train Loss: 0.6882, Val Loss: 0.7548\n",
      "Epoch [35/500], Train Loss: 0.6798, Val Loss: 0.7512\n",
      "Epoch [40/500], Train Loss: 0.6730, Val Loss: 0.7413\n",
      "Epoch [45/500], Train Loss: 0.6668, Val Loss: 0.7262\n",
      "Epoch [50/500], Train Loss: 0.6609, Val Loss: 0.7095\n",
      "Epoch [55/500], Train Loss: 0.6555, Val Loss: 0.6944\n",
      "Epoch [60/500], Train Loss: 0.6502, Val Loss: 0.6747\n",
      "Epoch [65/500], Train Loss: 0.6453, Val Loss: 0.6641\n",
      "Epoch [70/500], Train Loss: 0.6406, Val Loss: 0.6550\n",
      "Epoch [75/500], Train Loss: 0.6360, Val Loss: 0.6505\n",
      "Epoch [80/500], Train Loss: 0.6318, Val Loss: 0.6431\n",
      "Epoch [85/500], Train Loss: 0.6280, Val Loss: 0.6335\n",
      "Epoch [90/500], Train Loss: 0.6246, Val Loss: 0.6269\n",
      "Epoch [95/500], Train Loss: 0.6223, Val Loss: 0.6235\n",
      "Epoch [100/500], Train Loss: 0.6201, Val Loss: 0.6221\n",
      "Epoch [105/500], Train Loss: 0.6185, Val Loss: 0.6206\n",
      "Epoch [110/500], Train Loss: 0.6171, Val Loss: 0.6197\n",
      "Epoch [115/500], Train Loss: 0.6158, Val Loss: 0.6192\n",
      "Epoch [120/500], Train Loss: 0.6149, Val Loss: 0.6187\n",
      "Epoch [125/500], Train Loss: 0.6138, Val Loss: 0.6181\n",
      "Epoch [130/500], Train Loss: 0.6124, Val Loss: 0.6166\n",
      "Epoch [135/500], Train Loss: 0.6053, Val Loss: 0.6033\n",
      "Epoch [140/500], Train Loss: 0.5973, Val Loss: 0.6004\n",
      "Epoch [145/500], Train Loss: 0.5960, Val Loss: 0.5995\n",
      "Epoch [150/500], Train Loss: 0.5946, Val Loss: 0.5983\n",
      "Epoch [155/500], Train Loss: 0.5929, Val Loss: 0.5950\n",
      "Epoch [160/500], Train Loss: 0.5881, Val Loss: 0.5886\n",
      "Epoch [165/500], Train Loss: 0.5866, Val Loss: 0.5881\n",
      "Epoch [170/500], Train Loss: 0.5856, Val Loss: 0.5872\n",
      "Epoch [175/500], Train Loss: 0.5848, Val Loss: 0.5868\n",
      "Epoch [180/500], Train Loss: 0.5842, Val Loss: 0.5864\n",
      "Epoch [185/500], Train Loss: 0.5836, Val Loss: 0.5860\n",
      "Epoch [190/500], Train Loss: 0.5831, Val Loss: 0.5854\n",
      "Epoch [195/500], Train Loss: 0.5827, Val Loss: 0.5849\n",
      "Epoch [200/500], Train Loss: 0.5823, Val Loss: 0.5844\n",
      "Epoch [205/500], Train Loss: 0.5819, Val Loss: 0.5841\n",
      "Epoch [210/500], Train Loss: 0.5816, Val Loss: 0.5838\n",
      "Epoch [215/500], Train Loss: 0.5813, Val Loss: 0.5834\n",
      "Epoch [220/500], Train Loss: 0.5810, Val Loss: 0.5831\n",
      "Epoch [225/500], Train Loss: 0.5808, Val Loss: 0.5829\n",
      "Epoch [230/500], Train Loss: 0.5806, Val Loss: 0.5826\n",
      "Epoch [235/500], Train Loss: 0.5804, Val Loss: 0.5824\n",
      "Epoch [240/500], Train Loss: 0.5802, Val Loss: 0.5822\n",
      "Epoch [245/500], Train Loss: 0.5800, Val Loss: 0.5821\n",
      "Epoch [250/500], Train Loss: 0.5798, Val Loss: 0.5819\n",
      "Epoch [255/500], Train Loss: 0.5797, Val Loss: 0.5817\n",
      "Epoch [260/500], Train Loss: 0.5795, Val Loss: 0.5816\n",
      "Epoch [265/500], Train Loss: 0.5794, Val Loss: 0.5814\n",
      "Epoch [270/500], Train Loss: 0.5794, Val Loss: 0.5817\n",
      "Epoch [275/500], Train Loss: 0.5821, Val Loss: 0.5835\n",
      "Epoch [280/500], Train Loss: 0.5812, Val Loss: 0.5822\n",
      "Epoch [285/500], Train Loss: 0.5803, Val Loss: 0.5816\n",
      "Epoch [290/500], Train Loss: 0.5800, Val Loss: 0.5817\n",
      "Epoch [295/500], Train Loss: 0.5798, Val Loss: 0.5817\n",
      "Epoch [300/500], Train Loss: 0.5797, Val Loss: 0.5817\n",
      "Epoch [305/500], Train Loss: 0.5796, Val Loss: 0.5816\n",
      "Epoch [310/500], Train Loss: 0.5795, Val Loss: 0.5816\n",
      "Epoch [315/500], Train Loss: 0.5795, Val Loss: 0.5816\n",
      "Epoch [320/500], Train Loss: 0.5795, Val Loss: 0.5815\n",
      "Epoch [325/500], Train Loss: 0.5795, Val Loss: 0.5815\n",
      "Epoch [330/500], Train Loss: 0.5795, Val Loss: 0.5815\n",
      "Epoch [335/500], Train Loss: 0.5795, Val Loss: 0.5815\n",
      "Epoch [340/500], Train Loss: 0.5794, Val Loss: 0.5815\n",
      "Epoch [345/500], Train Loss: 0.5794, Val Loss: 0.5815\n",
      "Epoch [350/500], Train Loss: 0.5794, Val Loss: 0.5815\n",
      "Epoch [355/500], Train Loss: 0.5794, Val Loss: 0.5815\n",
      "Epoch [360/500], Train Loss: 0.5794, Val Loss: 0.5815\n",
      "Epoch [365/500], Train Loss: 0.5794, Val Loss: 0.5815\n",
      "Epoch [370/500], Train Loss: 0.5794, Val Loss: 0.5815\n",
      "Epoch [375/500], Train Loss: 0.5794, Val Loss: 0.5815\n",
      "Epoch [380/500], Train Loss: 0.5794, Val Loss: 0.5815\n",
      "Epoch [385/500], Train Loss: 0.5794, Val Loss: 0.5815\n",
      "Epoch [390/500], Train Loss: 0.5794, Val Loss: 0.5815\n",
      "Epoch [395/500], Train Loss: 0.5794, Val Loss: 0.5815\n",
      "Epoch [400/500], Train Loss: 0.5794, Val Loss: 0.5815\n",
      "Epoch [405/500], Train Loss: 0.5794, Val Loss: 0.5815\n",
      "Epoch [410/500], Train Loss: 0.5794, Val Loss: 0.5815\n",
      "Epoch [415/500], Train Loss: 0.5794, Val Loss: 0.5815\n",
      "Epoch [420/500], Train Loss: 0.5794, Val Loss: 0.5815\n",
      "Epoch [425/500], Train Loss: 0.5794, Val Loss: 0.5815\n",
      "Epoch [430/500], Train Loss: 0.5794, Val Loss: 0.5815\n",
      "Epoch [435/500], Train Loss: 0.5794, Val Loss: 0.5815\n",
      "Epoch [440/500], Train Loss: 0.5794, Val Loss: 0.5815\n",
      "Epoch [445/500], Train Loss: 0.5794, Val Loss: 0.5815\n",
      "Epoch [450/500], Train Loss: 0.5794, Val Loss: 0.5815\n",
      "Epoch [455/500], Train Loss: 0.5794, Val Loss: 0.5815\n",
      "Epoch [460/500], Train Loss: 0.5794, Val Loss: 0.5815\n",
      "Epoch [465/500], Train Loss: 0.5794, Val Loss: 0.5815\n",
      "Epoch [470/500], Train Loss: 0.5794, Val Loss: 0.5815\n",
      "Epoch [475/500], Train Loss: 0.5794, Val Loss: 0.5815\n",
      "Epoch [480/500], Train Loss: 0.5794, Val Loss: 0.5815\n",
      "Epoch [485/500], Train Loss: 0.5794, Val Loss: 0.5815\n",
      "Epoch [490/500], Train Loss: 0.5794, Val Loss: 0.5815\n",
      "Epoch [495/500], Train Loss: 0.5794, Val Loss: 0.5815\n",
      "Epoch [500/500], Train Loss: 0.5794, Val Loss: 0.5815\n"
     ]
    }
   ],
   "source": [
    "# Training loop\n",
    "for epoch in range(num_epochs):\n",
    "    model.train()  # Set model to training mode\n",
    "    optimizer.zero_grad()\n",
    "    \n",
    "    # Forward pass (training)\n",
    "    outputs = model(train_data)\n",
    "    loss = criterion(outputs, train_labels)\n",
    "    \n",
    "    # Backward pass and optimization\n",
    "    loss.backward()\n",
    "    \n",
    "    # Clip gradients to prevent exploding gradients\n",
    "    torch.nn.utils.clip_grad_norm_(model.parameters(), max_norm=1.0)\n",
    "    \n",
    "    optimizer.step()\n",
    "\n",
    "    # Validation phase (no gradient calculations)\n",
    "    model.eval()  # Set model to evaluation mode\n",
    "    with torch.no_grad():  # Disable gradient calculation for validation\n",
    "        val_outputs = model(test_data)\n",
    "        val_loss = criterion(val_outputs, test_labels)\n",
    "\n",
    "    # Update learning rate if validation loss plateaus\n",
    "    scheduler.step(val_loss)\n",
    "\n",
    "    # Print loss every 5 epochs\n",
    "    if (epoch + 1) % 5 == 0:\n",
    "        print(f'Epoch [{epoch+1}/{num_epochs}], Train Loss: {loss.item():.4f}, Val Loss: {val_loss.item():.4f}')\n"
   ]
  },
  {
   "cell_type": "code",
   "execution_count": 15,
   "id": "ccf56b24",
   "metadata": {
    "execution": {
     "iopub.execute_input": "2024-10-09T18:31:06.325664Z",
     "iopub.status.busy": "2024-10-09T18:31:06.324740Z",
     "iopub.status.idle": "2024-10-09T18:31:06.335979Z",
     "shell.execute_reply": "2024-10-09T18:31:06.334820Z"
    },
    "papermill": {
     "duration": 0.033166,
     "end_time": "2024-10-09T18:31:06.338004",
     "exception": false,
     "start_time": "2024-10-09T18:31:06.304838",
     "status": "completed"
    },
    "tags": []
   },
   "outputs": [],
   "source": [
    "# After the training loop\n",
    "# torch.save(model.state_dict(), 'D:\\PythonProjs\\CLARAi\\Trained_model_weights\\lstm_bidi_model_state_dict_data_300_ep_200.pth')\n",
    "torch.save(model.state_dict(), '/kaggle/working/lstm_bidi_model_state_dict_data_300_ep_200.pth')\n",
    "# print(\"Model state_dict saved to 'lstm_unidi_model_state_dict.pth'\")"
   ]
  },
  {
   "cell_type": "code",
   "execution_count": 16,
   "id": "4096b00a",
   "metadata": {
    "execution": {
     "iopub.execute_input": "2024-10-09T18:31:06.376833Z",
     "iopub.status.busy": "2024-10-09T18:31:06.376277Z",
     "iopub.status.idle": "2024-10-09T18:31:07.459883Z",
     "shell.execute_reply": "2024-10-09T18:31:07.459030Z"
    },
    "papermill": {
     "duration": 1.105223,
     "end_time": "2024-10-09T18:31:07.461921",
     "exception": false,
     "start_time": "2024-10-09T18:31:06.356698",
     "status": "completed"
    },
    "tags": []
   },
   "outputs": [
    {
     "name": "stdout",
     "output_type": "stream",
     "text": [
      "Accuracy: 87.56%\n",
      "Confusion Matrix:\n",
      "[[485320  21414]\n",
      " [ 60087  88539]]\n"
     ]
    },
    {
     "data": {
      "image/png": "[encoded data removed]",
      "text/plain": [
       "<Figure size 600x400 with 2 Axes>"
      ]
     },
     "metadata": {},
     "output_type": "display_data"
    }
   ],
   "source": [
    "\n",
    "model.eval()\n",
    "with torch.no_grad():\n",
    "    test_outputs = model(test_data)\n",
    "    predicted = (test_outputs > 0.5).float()  # Threshold at 0.5 for binary classification\n",
    "    \n",
    "    # Calculate accuracy\n",
    "    accuracy = (predicted == test_labels).float().mean()\n",
    "    print(f'Accuracy: {accuracy.item() * 100:.2f}%')\n",
    "\n",
    "    # Flatten the predicted and test labels for confusion matrix calculation\n",
    "    predicted_flat = predicted.cpu().numpy().flatten()\n",
    "    test_labels_flat = test_labels.cpu().numpy().flatten()\n",
    "\n",
    "    # Generate the confusion matrix\n",
    "    cm = confusion_matrix(test_labels_flat, predicted_flat)\n",
    "    print(f'Confusion Matrix:\\n{cm}')\n",
    "\n",
    "    # Optional: plot the confusion matrix for visualization\n",
    "    plt.figure(figsize=(6,4))\n",
    "    sns.heatmap(cm, annot=True, fmt=\"d\", cmap=\"Blues\", xticklabels=['No Pain', 'Pain'], yticklabels=['No Pain', 'Pain'])\n",
    "    plt.ylabel('True Label')\n",
    "    plt.xlabel('Predicted Label')\n",
    "    plt.title('Confusion Matrix')\n",
    "    plt.show()\n"
   ]
  },
  {
   "cell_type": "code",
   "execution_count": 17,
   "id": "5586a2d3",
   "metadata": {
    "execution": {
     "iopub.execute_input": "2024-10-09T18:31:07.495801Z",
     "iopub.status.busy": "2024-10-09T18:31:07.495483Z",
     "iopub.status.idle": "2024-10-09T18:31:07.503654Z",
     "shell.execute_reply": "2024-10-09T18:31:07.502725Z"
    },
    "papermill": {
     "duration": 0.027164,
     "end_time": "2024-10-09T18:31:07.505709",
     "exception": false,
     "start_time": "2024-10-09T18:31:07.478545",
     "status": "completed"
    },
    "tags": []
   },
   "outputs": [],
   "source": [
    "def plot_roc_auc(model, test_data, test_labels):\n",
    "    model.eval()\n",
    "    with torch.no_grad():\n",
    "        # Get the raw logits (before applying sigmoid)\n",
    "        test_outputs = model(test_data)\n",
    "        \n",
    "        # Convert test_labels and test_outputs to NumPy arrays for sklearn\n",
    "        test_labels_flat = test_labels.cpu().numpy().flatten()\n",
    "        test_outputs_flat = test_outputs.cpu().numpy().flatten()\n",
    "\n",
    "        # Calculate the false positive rate, true positive rate, and thresholds for the ROC curve\n",
    "        fpr, tpr, thresholds = roc_curve(test_labels_flat, test_outputs_flat)\n",
    "        \n",
    "        # Calculate the AUC score\n",
    "        roc_auc = auc(fpr, tpr)\n",
    "        \n",
    "        # Plot ROC curve\n",
    "        plt.figure(figsize=(8,6))\n",
    "        plt.plot(fpr, tpr, color='blue', label=f'ROC Curve (AUC = {roc_auc:.2f})')\n",
    "        plt.plot([0, 1], [0, 1], color='grey', linestyle='--')  # Random classifier line\n",
    "        plt.xlim([0.0, 1.0])\n",
    "        plt.ylim([0.0, 1.05])\n",
    "        plt.xlabel('False Positive Rate (FPR)')\n",
    "        plt.ylabel('True Positive Rate (TPR)')\n",
    "        plt.title('Receiver Operating Characteristic (ROC)')\n",
    "        plt.legend(loc='lower right')\n",
    "        plt.show()\n",
    "\n",
    "    return roc_auc"
   ]
  },
  {
   "cell_type": "code",
   "execution_count": 18,
   "id": "8691fddb",
   "metadata": {
    "execution": {
     "iopub.execute_input": "2024-10-09T18:31:07.539182Z",
     "iopub.status.busy": "2024-10-09T18:31:07.538905Z",
     "iopub.status.idle": "2024-10-09T18:31:07.967929Z",
     "shell.execute_reply": "2024-10-09T18:31:07.967038Z"
    },
    "papermill": {
     "duration": 0.448476,
     "end_time": "2024-10-09T18:31:07.970261",
     "exception": false,
     "start_time": "2024-10-09T18:31:07.521785",
     "status": "completed"
    },
    "tags": []
   },
   "outputs": [
    {
     "name": "stderr",
     "output_type": "stream",
     "text": [
      "/opt/conda/lib/python3.10/site-packages/torch/nn/parallel/parallel_apply.py:79: FutureWarning: `torch.cuda.amp.autocast(args...)` is deprecated. Please use `torch.amp.autocast('cuda', args...)` instead.\n",
      "  with torch.cuda.device(device), torch.cuda.stream(stream), autocast(enabled=autocast_enabled):\n"
     ]
    },
    {
     "data": {
      "image/png": "[encoded data removed]",
      "text/plain": [
       "<Figure size 800x600 with 1 Axes>"
      ]
     },
     "metadata": {},
     "output_type": "display_data"
    },
    {
     "data": {
      "text/plain": [
       "0.8437896158272971"
      ]
     },
     "execution_count": 18,
     "metadata": {},
     "output_type": "execute_result"
    }
   ],
   "source": [
    "plot_roc_auc(model, test_data, test_labels)"
   ]
  },
  {
   "cell_type": "code",
   "execution_count": 19,
   "id": "309e15cf",
   "metadata": {
    "execution": {
     "iopub.execute_input": "2024-10-09T18:31:08.005936Z",
     "iopub.status.busy": "2024-10-09T18:31:08.005627Z",
     "iopub.status.idle": "2024-10-09T18:31:08.042107Z",
     "shell.execute_reply": "2024-10-09T18:31:08.041228Z"
    },
    "papermill": {
     "duration": 0.056216,
     "end_time": "2024-10-09T18:31:08.044018",
     "exception": false,
     "start_time": "2024-10-09T18:31:07.987802",
     "status": "completed"
    },
    "tags": []
   },
   "outputs": [],
   "source": [
    "# Test data evaluation\n",
    "\n",
    "# data_test = pd.read_csv('D:\\PythonProjs\\CLARAi\\Data_test\\data18.csv')\n",
    "# label_test = pd.read_csv('D:\\PythonProjs\\CLARAi\\Label_test\\label18.csv')\n",
    "\n",
    "data_test = pd.read_csv('/kaggle/input/CLARAi/Data_test/data18.csv')\n",
    "label_test = pd.read_csv('/kaggle/input/CLARAi/Label_test/label18.csv')\n",
    "\n",
    "data_test= data_test.to_numpy()\n",
    "label_test = label_test.to_numpy()\n",
    "\n",
    "sequence_length = CONFIG.seq_len\n",
    "input_size = CONFIG.data_ch\n",
    "\n",
    "\n",
    "# Calculate the number of complete sequences\n",
    "num_sequences = data_test.shape[0] // sequence_length  # 5 sequences\n",
    "\n",
    "# Truncate the data to have only complete sequences\n",
    "truncated_data = data_test[:num_sequences * sequence_length]  # Shape: (1280, 36)\n",
    "\n",
    "# Reshape to (num_sequences, sequence_length, input_size)\n",
    "test_sequences = truncated_data.reshape(num_sequences, sequence_length, input_size)  # Shape: (5, 256, 36)\n",
    "\n",
    "# Convert to PyTorch tensor\n",
    "test_sequences = torch.tensor(test_sequences, dtype=torch.float32)\n"
   ]
  },
  {
   "cell_type": "code",
   "execution_count": 20,
   "id": "ec227e1d",
   "metadata": {
    "execution": {
     "iopub.execute_input": "2024-10-09T18:31:08.080010Z",
     "iopub.status.busy": "2024-10-09T18:31:08.079709Z",
     "iopub.status.idle": "2024-10-09T18:31:08.103866Z",
     "shell.execute_reply": "2024-10-09T18:31:08.102866Z"
    },
    "papermill": {
     "duration": 0.04485,
     "end_time": "2024-10-09T18:31:08.106598",
     "exception": false,
     "start_time": "2024-10-09T18:31:08.061748",
     "status": "completed"
    },
    "tags": []
   },
   "outputs": [
    {
     "name": "stderr",
     "output_type": "stream",
     "text": [
      "/opt/conda/lib/python3.10/site-packages/torch/nn/parallel/parallel_apply.py:79: FutureWarning: `torch.cuda.amp.autocast(args...)` is deprecated. Please use `torch.amp.autocast('cuda', args...)` instead.\n",
      "  with torch.cuda.device(device), torch.cuda.stream(stream), autocast(enabled=autocast_enabled):\n"
     ]
    }
   ],
   "source": [
    "\n",
    "# Create DataLoader\n",
    "test_dataset = TensorDataset(test_sequences)\n",
    "test_loader = DataLoader(test_dataset, batch_size=2, shuffle=False)  # Adjust batch_size as needed\n",
    "\n",
    "# Perform inference\n",
    "all_outputs = []\n",
    "with torch.no_grad():\n",
    "    for batch in test_loader:\n",
    "        inputs = batch[0].to(device)  # (batch_size, 256, 36)\n",
    "        outputs = model(inputs)       # (batch_size, 256, 1)\n",
    "        all_outputs.append(outputs.cpu().numpy())\n",
    "\n",
    "# Concatenate all outputs\n",
    "all_outputs = np.concatenate(all_outputs, axis=0)  # Shape: (6, 256, 1)\n",
    "\n",
    "# Apply threshold to get binary predictions\n",
    "predictions = (all_outputs >= 0.5).astype(int)  # Shape: (6, 256, 1)\n",
    "predictions = predictions.squeeze(-1)           # Shape: (6, 256)\n",
    "# Flatten the predictions\n",
    "flattened_predictions = predictions.flatten()  # Shape: (1536,)\n",
    "\n",
    "true_label = label_test[:num_sequences * sequence_length].squeeze(-1)"
   ]
  },
  {
   "cell_type": "code",
   "execution_count": 21,
   "id": "05afcc52",
   "metadata": {
    "execution": {
     "iopub.execute_input": "2024-10-09T18:31:08.143078Z",
     "iopub.status.busy": "2024-10-09T18:31:08.142773Z",
     "iopub.status.idle": "2024-10-09T18:31:08.392417Z",
     "shell.execute_reply": "2024-10-09T18:31:08.391530Z"
    },
    "papermill": {
     "duration": 0.269808,
     "end_time": "2024-10-09T18:31:08.394328",
     "exception": false,
     "start_time": "2024-10-09T18:31:08.124520",
     "status": "completed"
    },
    "tags": []
   },
   "outputs": [
    {
     "name": "stdout",
     "output_type": "stream",
     "text": [
      "Confusion Matrix:\n",
      "[[744  69]\n",
      " [198  13]]\n",
      "\n",
      "Classification Report:\n",
      "              precision    recall  f1-score   support\n",
      "\n",
      "           0       0.79      0.92      0.85       813\n",
      "           1       0.16      0.06      0.09       211\n",
      "\n",
      "    accuracy                           0.74      1024\n",
      "   macro avg       0.47      0.49      0.47      1024\n",
      "weighted avg       0.66      0.74      0.69      1024\n",
      "\n"
     ]
    },
    {
     "data": {
      "image/png": "[encoded data removed]",
      "text/plain": [
       "<Figure size 600x500 with 2 Axes>"
      ]
     },
     "metadata": {},
     "output_type": "display_data"
    }
   ],
   "source": [
    "cm = confusion_matrix(true_label, flattened_predictions)\n",
    "print(\"Confusion Matrix:\")\n",
    "print(cm)\n",
    "\n",
    "# Optional: Detailed classification report\n",
    "print(\"\\nClassification Report:\")\n",
    "print(classification_report(true_label, flattened_predictions))\n",
    "\n",
    "# Optional: Visualize the confusion matrix\n",
    "labels = ['Negative', 'Positive']\n",
    "cm_df = pd.DataFrame(cm, index=labels, columns=labels)\n",
    "\n",
    "plt.figure(figsize=(6,5))\n",
    "sns.heatmap(cm_df, annot=True, fmt='d', cmap='Blues')\n",
    "plt.ylabel('Actual')\n",
    "plt.xlabel('Predicted')\n",
    "plt.title('Confusion Matrix')\n",
    "plt.show()"
   ]
  }
 ],
 "metadata": {
  "kaggle": {
   "accelerator": "nvidiaTeslaT4",
   "dataSources": [
    {
     "datasetId": 5754676,
     "sourceId": 9588403,
     "sourceType": "datasetVersion"
    }
   ],
   "dockerImageVersionId": 30776,
   "isGpuEnabled": true,
   "isInternetEnabled": true,
   "language": "python",
   "sourceType": "notebook"
  },
  "kernelspec": {
   "display_name": "Python 3",
   "language": "python",
   "name": "python3"
  },
  "language_info": {
   "codemirror_mode": {
    "name": "ipython",
    "version": 3
   },
   "file_extension": ".py",
   "mimetype": "text/x-python",
   "name": "python",
   "nbconvert_exporter": "python",
   "pygments_lexer": "ipython3",
   "version": "3.10.14"
  },
  "papermill": {
   "default_parameters": {},
   "duration": 250.966724,
   "end_time": "2024-10-09T18:31:10.989083",
   "environment_variables": {},
   "exception": null,
   "input_path": "__notebook__.ipynb",
   "output_path": "__notebook__.ipynb",
   "parameters": {},
   "start_time": "2024-10-09T18:27:00.022359",
   "version": "2.6.0"
  }
 },
 "nbformat": 4,
 "nbformat_minor": 5
}
