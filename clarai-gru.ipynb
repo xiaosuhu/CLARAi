{
 "cells": [
  {
   "cell_type": "code",
   "execution_count": 1,
   "id": "0ba51622",
   "metadata": {
    "execution": {
     "iopub.execute_input": "2024-09-23T18:40:07.934298Z",
     "iopub.status.busy": "2024-09-23T18:40:07.933947Z",
     "iopub.status.idle": "2024-09-23T18:40:13.368852Z",
     "shell.execute_reply": "2024-09-23T18:40:13.367856Z"
    },
    "papermill": {
     "duration": 5.446232,
     "end_time": "2024-09-23T18:40:13.371157",
     "exception": false,
     "start_time": "2024-09-23T18:40:07.924925",
     "status": "completed"
    },
    "tags": []
   },
   "outputs": [],
   "source": [
    "\n",
    "from sklearn.model_selection import train_test_split\n",
    "from sklearn.preprocessing import StandardScaler\n",
    "from sklearn.utils.class_weight import compute_class_weight\n",
    "from sklearn.metrics import confusion_matrix\n",
    "from sklearn.metrics import roc_curve, auc\n",
    "\n",
    "import torch\n",
    "import torch.nn as nn\n",
    "import torch.optim as optim\n",
    "import pandas as pd\n",
    "import numpy as np\n",
    "import matplotlib.pyplot as plt\n",
    "import seaborn as sns\n",
    "\n",
    "import glob"
   ]
  },
  {
   "cell_type": "code",
   "execution_count": 2,
   "id": "2259a062",
   "metadata": {
    "execution": {
     "iopub.execute_input": "2024-09-23T18:40:13.382987Z",
     "iopub.status.busy": "2024-09-23T18:40:13.382084Z",
     "iopub.status.idle": "2024-09-23T18:40:13.467696Z",
     "shell.execute_reply": "2024-09-23T18:40:13.466612Z"
    },
    "papermill": {
     "duration": 0.09325,
     "end_time": "2024-09-23T18:40:13.469634",
     "exception": false,
     "start_time": "2024-09-23T18:40:13.376384",
     "status": "completed"
    },
    "tags": []
   },
   "outputs": [
    {
     "name": "stdout",
     "output_type": "stream",
     "text": [
      "cuda\n"
     ]
    }
   ],
   "source": [
    "# device = torch.device(\"mps\")\n",
    "device = torch.device(\"cuda\" if torch.cuda.is_available() else \"cpu\")\n",
    "print(device)"
   ]
  },
  {
   "cell_type": "code",
   "execution_count": 3,
   "id": "7eff637d",
   "metadata": {
    "execution": {
     "iopub.execute_input": "2024-09-23T18:40:13.480956Z",
     "iopub.status.busy": "2024-09-23T18:40:13.480615Z",
     "iopub.status.idle": "2024-09-23T18:40:13.487967Z",
     "shell.execute_reply": "2024-09-23T18:40:13.487085Z"
    },
    "papermill": {
     "duration": 0.015239,
     "end_time": "2024-09-23T18:40:13.490015",
     "exception": false,
     "start_time": "2024-09-23T18:40:13.474776",
     "status": "completed"
    },
    "tags": []
   },
   "outputs": [
    {
     "data": {
      "text/plain": [
       "'# Step 1: Get a list of all CSV file paths in the directory\\ndata_path = glob.glob(\"D:\\\\PythonProjs\\\\CLARAi\\\\Data\\\\*.csv\")  # Modify with your directory path\\nlabel_path = glob.glob(\"D:\\\\PythonProjs\\\\CLARAi\\\\Label\\\\*.csv\")\\n\\n# Step 2: Read each CSV file and store in a list of DataFrames\\ndatadfs = [pd.read_csv(file) for file in data_path]\\nlabeldfs = [pd.read_csv(file) for file in label_path]\\n\\n# Step 3: Concatenate all DataFrames into one\\nfinal_data_df = pd.concat(datadfs, ignore_index=True)\\nfinal_label_df = pd.concat(labeldfs, ignore_index=True)'"
      ]
     },
     "execution_count": 3,
     "metadata": {},
     "output_type": "execute_result"
    }
   ],
   "source": [
    "\"\"\"# Step 1: Get a list of all CSV file paths in the directory\n",
    "data_path = glob.glob(\"D:\\PythonProjs\\CLARAi\\Data\\*.csv\")  # Modify with your directory path\n",
    "label_path = glob.glob(\"D:\\PythonProjs\\CLARAi\\Label\\*.csv\")\n",
    "\n",
    "# Step 2: Read each CSV file and store in a list of DataFrames\n",
    "datadfs = [pd.read_csv(file) for file in data_path]\n",
    "labeldfs = [pd.read_csv(file) for file in label_path]\n",
    "\n",
    "# Step 3: Concatenate all DataFrames into one\n",
    "final_data_df = pd.concat(datadfs, ignore_index=True)\n",
    "final_label_df = pd.concat(labeldfs, ignore_index=True)\"\"\""
   ]
  },
  {
   "cell_type": "code",
   "execution_count": 4,
   "id": "2e9b188b",
   "metadata": {
    "execution": {
     "iopub.execute_input": "2024-09-23T18:40:13.501777Z",
     "iopub.status.busy": "2024-09-23T18:40:13.500939Z",
     "iopub.status.idle": "2024-09-23T18:40:13.509292Z",
     "shell.execute_reply": "2024-09-23T18:40:13.508605Z"
    },
    "papermill": {
     "duration": 0.016053,
     "end_time": "2024-09-23T18:40:13.511116",
     "exception": false,
     "start_time": "2024-09-23T18:40:13.495063",
     "status": "completed"
    },
    "tags": []
   },
   "outputs": [],
   "source": [
    "def data_gen(data_path, label_path):\n",
    "    final_data_df = pd.read_csv(data_path)\n",
    "    final_label_df = pd.read_csv(label_path)\n",
    "\n",
    "    train_labels_flat = final_label_df.values.flatten()\n",
    "    \n",
    "    # Compute class weights (inverse of class frequencies)\n",
    "    class_weights = compute_class_weight(class_weight='balanced', classes=np.unique(train_labels_flat), y=train_labels_flat)\n",
    "    class_weights = torch.tensor(class_weights, dtype=torch.float32)\n",
    "\n",
    "    # Parameters\n",
    "    sequence_length = 256  # Length of each subsequence\n",
    "    num_subsequences = 100  # Number of subsequences to extract\n",
    "\n",
    "    # Get possible starting indices, ensuring there's enough space for a full subsequence\n",
    "    possible_starts = np.arange(0, len(final_data_df) - sequence_length + 1)\n",
    "    np.random.shuffle(possible_starts)\n",
    "\n",
    "    # Select the first `num_subsequences` starting indices\n",
    "    selected_starts = possible_starts[:num_subsequences]\n",
    "\n",
    "    # Create a list to hold the subsequences\n",
    "    subsequences = [final_data_df.iloc[start:start + sequence_length].values for start in selected_starts]\n",
    "    sublabels = [final_label_df.iloc[start:start + sequence_length].values for start in selected_starts]\n",
    "\n",
    "    # Convert subsequences list to a NumPy array\n",
    "    subsequences_array = np.array(subsequences)\n",
    "    sublabels_array = np.array(sublabels)\n",
    "\n",
    "    # subsequences_array will have shape (num_subsequences, sequence_length, num_channels)\n",
    "    # print(subsequences_array.shape)  # Should print (100, 100, 36)\n",
    "    # print(sublabels_array.shape)\n",
    "\n",
    "    return torch.from_numpy(subsequences_array), torch.from_numpy(sublabels_array), class_weights\n"
   ]
  },
  {
   "cell_type": "code",
   "execution_count": 5,
   "id": "6dc19fd4",
   "metadata": {
    "execution": {
     "iopub.execute_input": "2024-09-23T18:40:13.522190Z",
     "iopub.status.busy": "2024-09-23T18:40:13.521930Z",
     "iopub.status.idle": "2024-09-23T18:40:13.528973Z",
     "shell.execute_reply": "2024-09-23T18:40:13.528098Z"
    },
    "papermill": {
     "duration": 0.014755,
     "end_time": "2024-09-23T18:40:13.530947",
     "exception": false,
     "start_time": "2024-09-23T18:40:13.516192",
     "status": "completed"
    },
    "tags": []
   },
   "outputs": [],
   "source": [
    "\n",
    "# Sample time series data with shape (batch_size, sequence_length, num_features)\n",
    "# neuroimaging_data: Time series data from multiple neuroimaging channels\n",
    "# labels: Binary labels (0 = no pain, 1 = pain) for each time step\n",
    "# Assume neuroimaging_data is a numpy array of shape (num_samples, sequence_length, num_channels)\n",
    "# labels is a numpy array of shape (num_samples, sequence_length)\n",
    "\n",
    "class GRUClassifier(nn.Module):\n",
    "    def __init__(self, input_size, hidden_size, output_size, num_layers=1):\n",
    "        super(GRUClassifier, self).__init__()\n",
    "        self.hidden_size = hidden_size\n",
    "        self.num_layers = num_layers\n",
    "        self.gru = nn.GRU(input_size, hidden_size, num_layers, batch_first=True)\n",
    "        self.fc = nn.Linear(hidden_size, output_size)\n",
    "        self.sigmoid = nn.Sigmoid()\n",
    "\n",
    "    def forward(self, x):\n",
    "        h0 = torch.zeros(self.num_layers, x.size(0), self.hidden_size).to(x.device)  # Initialize hidden state\n",
    "        out, _ = self.gru(x, h0)\n",
    "        out = self.fc(out)  # Apply linear layer to the GRU output\n",
    "        return self.sigmoid(out)  # Apply sigmoid for binary classification (pain or no pain)\n"
   ]
  },
  {
   "cell_type": "code",
   "execution_count": 6,
   "id": "ffa16502",
   "metadata": {
    "execution": {
     "iopub.execute_input": "2024-09-23T18:40:13.541923Z",
     "iopub.status.busy": "2024-09-23T18:40:13.541633Z",
     "iopub.status.idle": "2024-09-23T18:40:13.556979Z",
     "shell.execute_reply": "2024-09-23T18:40:13.556126Z"
    },
    "papermill": {
     "duration": 0.02303,
     "end_time": "2024-09-23T18:40:13.558932",
     "exception": false,
     "start_time": "2024-09-23T18:40:13.535902",
     "status": "completed"
    },
    "tags": []
   },
   "outputs": [],
   "source": [
    "data_path = glob.glob(\"D:\\PythonProjs\\CLARAi\\Data_norm\\*.csv\")  # Modify with your directory path\n",
    "label_path = glob.glob(\"D:\\PythonProjs\\CLARAi\\Label\\*.csv\")\n",
    "\n",
    "# data_path = glob.glob(\"/home/frank/Documents/CLARAi/Data/*.csv\")  # Modify with your directory path\n",
    "# label_path = glob.glob(\"/home/frank/Documents/CLARAi/Label/*.csv\")\n",
    "\n",
    "# data_path = glob.glob(\"/Users/xiaosuhu/Documents/Python/CLARAi/Data/*.csv\")  # Modify with your directory path\n",
    "# label_path = glob.glob(\"/Users/xiaosuhu/Documents/Python/CLARAi/Data/*.csv\")\n",
    "\n",
    "# data_path = glob.glob(\"/kaggle/input/clarai/CLARAi/Data/*.csv\")  # Modify with your directory path\n",
    "# label_path = glob.glob(\"/kaggle/input/clarai/CLARAi/Label/*.csv\")\n",
    "\n",
    "# Sort the lists\n",
    "data_path = sorted(data_path)\n",
    "label_path = sorted(label_path)\n"
   ]
  },
  {
   "cell_type": "code",
   "execution_count": 15,
   "id": "fc7ed9e5",
   "metadata": {
    "execution": {
     "iopub.execute_input": "2024-09-23T18:40:13.588432Z",
     "iopub.status.busy": "2024-09-23T18:40:13.588166Z",
     "iopub.status.idle": "2024-09-23T18:40:13.602176Z",
     "shell.execute_reply": "2024-09-23T18:40:13.601315Z"
    },
    "papermill": {
     "duration": 0.021937,
     "end_time": "2024-09-23T18:40:13.604124",
     "exception": false,
     "start_time": "2024-09-23T18:40:13.582187",
     "status": "completed"
    },
    "tags": []
   },
   "outputs": [],
   "source": [
    "\n",
    "# data_path = \"D:\\PythonProjs\\CLARAi\\Data\\data1.csv\"\n",
    "# label_path = \"D:\\PythonProjs\\CLARAi\\Label\\label1.csv\"\n",
    "neuroimaging_data = torch.empty(0,256,36)\n",
    "labels = torch.empty(0,256,1)\n",
    "class_weights = torch.Tensor([0., 0.])"
   ]
  },
  {
   "cell_type": "code",
   "execution_count": 16,
   "id": "3a59ca1c",
   "metadata": {
    "execution": {
     "iopub.execute_input": "2024-09-23T18:40:13.615540Z",
     "iopub.status.busy": "2024-09-23T18:40:13.615262Z",
     "iopub.status.idle": "2024-09-23T18:40:14.750236Z",
     "shell.execute_reply": "2024-09-23T18:40:14.749248Z"
    },
    "papermill": {
     "duration": 1.143352,
     "end_time": "2024-09-23T18:40:14.752637",
     "exception": false,
     "start_time": "2024-09-23T18:40:13.609285",
     "status": "completed"
    },
    "tags": []
   },
   "outputs": [
    {
     "name": "stdout",
     "output_type": "stream",
     "text": [
      "datapath: D:\\PythonProjs\\CLARAi\\Data_norm\\data1.csv\n",
      "labelpath: D:\\PythonProjs\\CLARAi\\Label\\label1.csv\n",
      "Data shape: torch.Size([100, 256, 36]), Label shape: torch.Size([100, 256, 1]), Weight shape: torch.Size([2])\n",
      "datapath: D:\\PythonProjs\\CLARAi\\Data_norm\\data10.csv\n",
      "labelpath: D:\\PythonProjs\\CLARAi\\Label\\label10.csv\n",
      "Data shape: torch.Size([100, 256, 36]), Label shape: torch.Size([100, 256, 1]), Weight shape: torch.Size([2])\n",
      "datapath: D:\\PythonProjs\\CLARAi\\Data_norm\\data11.csv\n",
      "labelpath: D:\\PythonProjs\\CLARAi\\Label\\label11.csv\n",
      "Data shape: torch.Size([100, 256, 36]), Label shape: torch.Size([100, 256, 1]), Weight shape: torch.Size([2])\n",
      "datapath: D:\\PythonProjs\\CLARAi\\Data_norm\\data12.csv\n",
      "labelpath: D:\\PythonProjs\\CLARAi\\Label\\label12.csv\n",
      "Data shape: torch.Size([100, 256, 36]), Label shape: torch.Size([100, 256, 1]), Weight shape: torch.Size([2])\n",
      "datapath: D:\\PythonProjs\\CLARAi\\Data_norm\\data13.csv\n",
      "labelpath: D:\\PythonProjs\\CLARAi\\Label\\label13.csv\n",
      "Data shape: torch.Size([100, 256, 36]), Label shape: torch.Size([100, 256, 1]), Weight shape: torch.Size([2])\n",
      "datapath: D:\\PythonProjs\\CLARAi\\Data_norm\\data16.csv\n",
      "labelpath: D:\\PythonProjs\\CLARAi\\Label\\label16.csv\n",
      "Data shape: torch.Size([100, 256, 36]), Label shape: torch.Size([100, 256, 1]), Weight shape: torch.Size([2])\n",
      "datapath: D:\\PythonProjs\\CLARAi\\Data_norm\\data17.csv\n",
      "labelpath: D:\\PythonProjs\\CLARAi\\Label\\label17.csv\n",
      "Data shape: torch.Size([100, 256, 36]), Label shape: torch.Size([100, 256, 1]), Weight shape: torch.Size([2])\n",
      "datapath: D:\\PythonProjs\\CLARAi\\Data_norm\\data18.csv\n",
      "labelpath: D:\\PythonProjs\\CLARAi\\Label\\label18.csv\n",
      "Data shape: torch.Size([100, 256, 36]), Label shape: torch.Size([100, 256, 1]), Weight shape: torch.Size([2])\n",
      "datapath: D:\\PythonProjs\\CLARAi\\Data_norm\\data3.csv\n",
      "labelpath: D:\\PythonProjs\\CLARAi\\Label\\label3.csv\n",
      "Data shape: torch.Size([100, 256, 36]), Label shape: torch.Size([100, 256, 1]), Weight shape: torch.Size([2])\n",
      "datapath: D:\\PythonProjs\\CLARAi\\Data_norm\\data4.csv\n",
      "labelpath: D:\\PythonProjs\\CLARAi\\Label\\label4.csv\n",
      "Data shape: torch.Size([100, 256, 36]), Label shape: torch.Size([100, 256, 1]), Weight shape: torch.Size([2])\n",
      "datapath: D:\\PythonProjs\\CLARAi\\Data_norm\\data5.csv\n",
      "labelpath: D:\\PythonProjs\\CLARAi\\Label\\label5.csv\n",
      "Data shape: torch.Size([100, 256, 36]), Label shape: torch.Size([100, 256, 1]), Weight shape: torch.Size([2])\n",
      "datapath: D:\\PythonProjs\\CLARAi\\Data_norm\\data6.csv\n",
      "labelpath: D:\\PythonProjs\\CLARAi\\Label\\label6.csv\n",
      "Data shape: torch.Size([100, 256, 36]), Label shape: torch.Size([100, 256, 1]), Weight shape: torch.Size([2])\n",
      "datapath: D:\\PythonProjs\\CLARAi\\Data_norm\\data7.csv\n",
      "labelpath: D:\\PythonProjs\\CLARAi\\Label\\label7.csv\n",
      "Data shape: torch.Size([100, 256, 36]), Label shape: torch.Size([100, 256, 1]), Weight shape: torch.Size([2])\n",
      "datapath: D:\\PythonProjs\\CLARAi\\Data_norm\\data8.csv\n",
      "labelpath: D:\\PythonProjs\\CLARAi\\Label\\label8.csv\n",
      "Data shape: torch.Size([100, 256, 36]), Label shape: torch.Size([100, 256, 1]), Weight shape: torch.Size([2])\n",
      "datapath: D:\\PythonProjs\\CLARAi\\Data_norm\\data9.csv\n",
      "labelpath: D:\\PythonProjs\\CLARAi\\Label\\label9.csv\n",
      "Data shape: torch.Size([100, 256, 36]), Label shape: torch.Size([100, 256, 1]), Weight shape: torch.Size([2])\n"
     ]
    }
   ],
   "source": [
    "\n",
    "for datapath, labelpath in zip(data_path, label_path):\n",
    "    print(f'datapath: {datapath}')\n",
    "    print(f'labelpath: {labelpath}')    \n",
    "    data, label, weight = data_gen(datapath, labelpath)\n",
    "    print(f'Data shape: {data.shape}, Label shape: {label.shape}, Weight shape: {weight.shape}')\n",
    "    neuroimaging_data= torch.cat([neuroimaging_data, data])\n",
    "    labels = torch.cat([labels, label])\n",
    "    class_weights += weight\n",
    "\n",
    "normalized_weights = class_weights / class_weights.sum()\n"
   ]
  },
  {
   "cell_type": "code",
   "execution_count": 9,
   "id": "094c1342",
   "metadata": {
    "execution": {
     "iopub.execute_input": "2024-09-23T18:40:14.768635Z",
     "iopub.status.busy": "2024-09-23T18:40:14.768311Z",
     "iopub.status.idle": "2024-09-23T18:40:14.774212Z",
     "shell.execute_reply": "2024-09-23T18:40:14.773317Z"
    },
    "papermill": {
     "duration": 0.01617,
     "end_time": "2024-09-23T18:40:14.776318",
     "exception": false,
     "start_time": "2024-09-23T18:40:14.760148",
     "status": "completed"
    },
    "tags": []
   },
   "outputs": [
    {
     "data": {
      "text/plain": [
       "torch.Size([1500, 256, 36])"
      ]
     },
     "execution_count": 9,
     "metadata": {},
     "output_type": "execute_result"
    }
   ],
   "source": [
    "neuroimaging_data.shape"
   ]
  },
  {
   "cell_type": "code",
   "execution_count": 10,
   "id": "4a166603",
   "metadata": {
    "execution": {
     "iopub.execute_input": "2024-09-23T18:40:14.792026Z",
     "iopub.status.busy": "2024-09-23T18:40:14.791708Z",
     "iopub.status.idle": "2024-09-23T18:40:16.606525Z",
     "shell.execute_reply": "2024-09-23T18:40:16.605569Z"
    },
    "papermill": {
     "duration": 1.825188,
     "end_time": "2024-09-23T18:40:16.608844",
     "exception": false,
     "start_time": "2024-09-23T18:40:14.783656",
     "status": "completed"
    },
    "tags": []
   },
   "outputs": [
    {
     "name": "stderr",
     "output_type": "stream",
     "text": [
      "C:\\Users\\xiaos\\AppData\\Local\\Temp\\ipykernel_7276\\3871875539.py:17: UserWarning: To copy construct from a tensor, it is recommended to use sourceTensor.clone().detach() or sourceTensor.clone().detach().requires_grad_(True), rather than torch.tensor(sourceTensor).\n",
      "  train_labels, test_labels = torch.tensor(train_labels, dtype=torch.float32).to(device), torch.tensor(test_labels, dtype=torch.float32).to(device)\n"
     ]
    }
   ],
   "source": [
    "\n",
    "# Hyperparameters\n",
    "input_size = neuroimaging_data.shape[2]  # Number of features (channels)\n",
    "hidden_size = 256  # Hidden state size of the GRU\n",
    "output_size = 1  # Binary classification\n",
    "num_layers = 4  # Number of GRU layers\n",
    "learning_rate = 0.001\n",
    "num_epochs = 500\n",
    "batch_size = 32\n",
    "\n",
    "# Preprocessing (e.g., normalization)\n",
    "scaler = StandardScaler()\n",
    "neuroimaging_data = scaler.fit_transform(neuroimaging_data.reshape(-1, input_size)).reshape(neuroimaging_data.shape)\n",
    "\n",
    "# Convert numpy arrays to PyTorch tensors\n",
    "train_data, test_data, train_labels, test_labels = train_test_split(neuroimaging_data, labels, test_size=0.2, random_state=42)\n",
    "train_data, test_data = torch.tensor(train_data, dtype=torch.float32).to(device), torch.tensor(test_data, dtype=torch.float32).to(device)\n",
    "train_labels, test_labels = torch.tensor(train_labels, dtype=torch.float32).to(device), torch.tensor(test_labels, dtype=torch.float32).to(device)\n",
    "\n",
    "\n",
    "# Create GRU model\n",
    "model = GRUClassifier(input_size, hidden_size, output_size, num_layers).to(device)\n",
    "\n",
    "# Loss and optimizer\n",
    "# criterion = nn.BCELoss()  # Binary Cross Entropy Loss for binary classification\n",
    "\n",
    "\n",
    "# Convert the class weights to a tensor and move to the appropriate device\n",
    "class_weights = class_weights.to(device)\n",
    "\n",
    "# Use BCEWithLogitsLoss, which combines sigmoid activation and binary cross-entropy loss\n",
    "criterion = nn.BCEWithLogitsLoss(pos_weight=normalized_weights[0])  # pos_weight applies only to class 1\n",
    "\n",
    "optimizer = optim.Adam(model.parameters(), lr=learning_rate)"
   ]
  },
  {
   "cell_type": "code",
   "execution_count": 11,
   "id": "f7169ba6",
   "metadata": {
    "execution": {
     "iopub.execute_input": "2024-09-23T18:40:16.623390Z",
     "iopub.status.busy": "2024-09-23T18:40:16.622941Z",
     "iopub.status.idle": "2024-09-23T18:48:46.585894Z",
     "shell.execute_reply": "2024-09-23T18:48:46.584859Z"
    },
    "papermill": {
     "duration": 509.972472,
     "end_time": "2024-09-23T18:48:46.587885",
     "exception": false,
     "start_time": "2024-09-23T18:40:16.615413",
     "status": "completed"
    },
    "tags": []
   },
   "outputs": [
    {
     "name": "stdout",
     "output_type": "stream",
     "text": [
      "Epoch [5/500], Loss: 0.9605\n",
      "Epoch [10/500], Loss: 0.9551\n",
      "Epoch [15/500], Loss: 0.9544\n",
      "Epoch [20/500], Loss: 0.9525\n",
      "Epoch [25/500], Loss: 0.9557\n",
      "Epoch [30/500], Loss: 0.9548\n",
      "Epoch [35/500], Loss: 0.9549\n",
      "Epoch [40/500], Loss: 0.9536\n",
      "Epoch [45/500], Loss: 0.9521\n",
      "Epoch [50/500], Loss: 0.9546\n",
      "Epoch [55/500], Loss: 0.9554\n",
      "Epoch [60/500], Loss: 0.9584\n",
      "Epoch [65/500], Loss: 0.9636\n",
      "Epoch [70/500], Loss: 0.9630\n",
      "Epoch [75/500], Loss: 0.9578\n",
      "Epoch [80/500], Loss: 0.9574\n",
      "Epoch [85/500], Loss: 0.9571\n",
      "Epoch [90/500], Loss: 0.9567\n",
      "Epoch [95/500], Loss: 0.9565\n",
      "Epoch [100/500], Loss: 0.9566\n",
      "Epoch [105/500], Loss: 0.9565\n",
      "Epoch [110/500], Loss: 0.9564\n",
      "Epoch [115/500], Loss: 0.9564\n",
      "Epoch [120/500], Loss: 0.9564\n",
      "Epoch [125/500], Loss: 0.9564\n",
      "Epoch [130/500], Loss: 0.9564\n",
      "Epoch [135/500], Loss: 0.9564\n",
      "Epoch [140/500], Loss: 0.9564\n",
      "Epoch [145/500], Loss: 0.9564\n",
      "Epoch [150/500], Loss: 0.9564\n",
      "Epoch [155/500], Loss: 0.9564\n",
      "Epoch [160/500], Loss: 0.9564\n",
      "Epoch [165/500], Loss: 0.9564\n",
      "Epoch [170/500], Loss: 0.9563\n",
      "Epoch [175/500], Loss: 0.9563\n",
      "Epoch [180/500], Loss: 0.9563\n",
      "Epoch [185/500], Loss: 0.9563\n",
      "Epoch [190/500], Loss: 0.9563\n",
      "Epoch [195/500], Loss: 0.9563\n",
      "Epoch [200/500], Loss: 0.9563\n",
      "Epoch [205/500], Loss: 0.9563\n",
      "Epoch [210/500], Loss: 0.9563\n",
      "Epoch [215/500], Loss: 0.9563\n",
      "Epoch [220/500], Loss: 0.9563\n",
      "Epoch [225/500], Loss: 0.9563\n",
      "Epoch [230/500], Loss: 0.9563\n",
      "Epoch [235/500], Loss: 0.9563\n",
      "Epoch [240/500], Loss: 0.9563\n",
      "Epoch [245/500], Loss: 0.9563\n",
      "Epoch [250/500], Loss: 0.9563\n",
      "Epoch [255/500], Loss: 0.9563\n",
      "Epoch [260/500], Loss: 0.9601\n",
      "Epoch [265/500], Loss: 0.9597\n",
      "Epoch [270/500], Loss: 0.9558\n",
      "Epoch [275/500], Loss: 0.9567\n",
      "Epoch [280/500], Loss: 0.9544\n",
      "Epoch [285/500], Loss: 0.9521\n",
      "Epoch [290/500], Loss: 0.9507\n",
      "Epoch [295/500], Loss: 0.9507\n",
      "Epoch [300/500], Loss: 0.9525\n",
      "Epoch [305/500], Loss: 0.9523\n",
      "Epoch [310/500], Loss: 0.9510\n",
      "Epoch [315/500], Loss: 0.9501\n",
      "Epoch [320/500], Loss: 0.9501\n",
      "Epoch [325/500], Loss: 0.9493\n",
      "Epoch [330/500], Loss: 0.9490\n",
      "Epoch [335/500], Loss: 0.9490\n",
      "Epoch [340/500], Loss: 0.9478\n",
      "Epoch [345/500], Loss: 0.9472\n",
      "Epoch [350/500], Loss: 0.9476\n",
      "Epoch [355/500], Loss: 0.9473\n",
      "Epoch [360/500], Loss: 0.9473\n",
      "Epoch [365/500], Loss: 0.9470\n",
      "Epoch [370/500], Loss: 0.9472\n",
      "Epoch [375/500], Loss: 0.9472\n",
      "Epoch [380/500], Loss: 0.9471\n",
      "Epoch [385/500], Loss: 0.9470\n",
      "Epoch [390/500], Loss: 0.9471\n",
      "Epoch [395/500], Loss: 0.9470\n",
      "Epoch [400/500], Loss: 0.9471\n",
      "Epoch [405/500], Loss: 0.9469\n",
      "Epoch [410/500], Loss: 0.9468\n",
      "Epoch [415/500], Loss: 0.9468\n",
      "Epoch [420/500], Loss: 0.9467\n",
      "Epoch [425/500], Loss: 0.9467\n",
      "Epoch [430/500], Loss: 0.9467\n",
      "Epoch [435/500], Loss: 0.9468\n",
      "Epoch [440/500], Loss: 0.9468\n",
      "Epoch [445/500], Loss: 0.9470\n",
      "Epoch [450/500], Loss: 0.9468\n",
      "Epoch [455/500], Loss: 0.9467\n",
      "Epoch [460/500], Loss: 0.9468\n",
      "Epoch [465/500], Loss: 0.9468\n",
      "Epoch [470/500], Loss: 0.9467\n",
      "Epoch [475/500], Loss: 0.9464\n",
      "Epoch [480/500], Loss: 0.9464\n",
      "Epoch [485/500], Loss: 0.9464\n",
      "Epoch [490/500], Loss: 0.9457\n",
      "Epoch [495/500], Loss: 0.9457\n",
      "Epoch [500/500], Loss: 0.9454\n"
     ]
    }
   ],
   "source": [
    "# Training loop\n",
    "for epoch in range(num_epochs):\n",
    "    model.train()\n",
    "    optimizer.zero_grad()\n",
    "    \n",
    "    # Forward pass\n",
    "    outputs = model(train_data)\n",
    "    loss = criterion(outputs, train_labels)\n",
    "    \n",
    "    # Backward pass and optimization\n",
    "    loss.backward()\n",
    "    optimizer.step()\n",
    "\n",
    "    if (epoch+1) % 5 == 0:\n",
    "        print(f'Epoch [{epoch+1}/{num_epochs}], Loss: {loss.item():.4f}')\n"
   ]
  },
  {
   "cell_type": "code",
   "execution_count": 12,
   "id": "07449fc9",
   "metadata": {
    "execution": {
     "iopub.execute_input": "2024-09-23T18:48:46.616588Z",
     "iopub.status.busy": "2024-09-23T18:48:46.616241Z",
     "iopub.status.idle": "2024-09-23T18:48:47.068633Z",
     "shell.execute_reply": "2024-09-23T18:48:47.067704Z"
    },
    "papermill": {
     "duration": 0.4691,
     "end_time": "2024-09-23T18:48:47.070738",
     "exception": false,
     "start_time": "2024-09-23T18:48:46.601638",
     "status": "completed"
    },
    "tags": []
   },
   "outputs": [
    {
     "name": "stdout",
     "output_type": "stream",
     "text": [
      "Accuracy: 77.67%\n",
      "Confusion Matrix:\n",
      "[[57950   648]\n",
      " [16505  1697]]\n"
     ]
    },
    {
     "data": {
      "image/png": "[encoded data removed]",
      "text/plain": [
       "<Figure size 600x400 with 2 Axes>"
      ]
     },
     "metadata": {},
     "output_type": "display_data"
    }
   ],
   "source": [
    "\n",
    "model.eval()\n",
    "with torch.no_grad():\n",
    "    test_outputs = model(test_data)\n",
    "    predicted = (test_outputs > 0.5).float()  # Threshold at 0.5 for binary classification\n",
    "    \n",
    "    # Calculate accuracy\n",
    "    accuracy = (predicted == test_labels).float().mean()\n",
    "    print(f'Accuracy: {accuracy.item() * 100:.2f}%')\n",
    "\n",
    "    # Flatten the predicted and test labels for confusion matrix calculation\n",
    "    predicted_flat = predicted.cpu().numpy().flatten()\n",
    "    test_labels_flat = test_labels.cpu().numpy().flatten()\n",
    "\n",
    "    # Generate the confusion matrix\n",
    "    cm = confusion_matrix(test_labels_flat, predicted_flat)\n",
    "    print(f'Confusion Matrix:\\n{cm}')\n",
    "\n",
    "    # Optional: plot the confusion matrix for visualization\n",
    "    plt.figure(figsize=(6,4))\n",
    "    sns.heatmap(cm, annot=True, fmt=\"d\", cmap=\"Blues\", xticklabels=['No Pain', 'Pain'], yticklabels=['No Pain', 'Pain'])\n",
    "    plt.ylabel('True Label')\n",
    "    plt.xlabel('Predicted Label')\n",
    "    plt.title('Confusion Matrix')\n",
    "    plt.show()\n"
   ]
  },
  {
   "cell_type": "code",
   "execution_count": 14,
   "id": "3c492096",
   "metadata": {
    "execution": {
     "iopub.execute_input": "2024-09-23T18:48:47.100626Z",
     "iopub.status.busy": "2024-09-23T18:48:47.100308Z",
     "iopub.status.idle": "2024-09-23T18:48:47.109554Z",
     "shell.execute_reply": "2024-09-23T18:48:47.108856Z"
    },
    "papermill": {
     "duration": 0.026398,
     "end_time": "2024-09-23T18:48:47.111389",
     "exception": false,
     "start_time": "2024-09-23T18:48:47.084991",
     "status": "completed"
    },
    "tags": []
   },
   "outputs": [],
   "source": [
    "def plot_roc_auc(model, test_data, test_labels):\n",
    "    model.eval()\n",
    "    with torch.no_grad():\n",
    "        # Get the raw logits (before applying sigmoid)\n",
    "        test_outputs = model(test_data)\n",
    "        \n",
    "        # Convert test_labels and test_outputs to NumPy arrays for sklearn\n",
    "        test_labels_flat = test_labels.cpu().numpy().flatten()\n",
    "        test_outputs_flat = test_outputs.cpu().numpy().flatten()\n",
    "\n",
    "        # Calculate the false positive rate, true positive rate, and thresholds for the ROC curve\n",
    "        fpr, tpr, thresholds = roc_curve(test_labels_flat, test_outputs_flat)\n",
    "        \n",
    "        # Calculate the AUC score\n",
    "        roc_auc = auc(fpr, tpr)\n",
    "        \n",
    "        # Plot ROC curve\n",
    "        plt.figure(figsize=(8,6))\n",
    "        plt.plot(fpr, tpr, color='blue', label=f'ROC Curve (AUC = {roc_auc:.2f})')\n",
    "        plt.plot([0, 1], [0, 1], color='grey', linestyle='--')  # Random classifier line\n",
    "        plt.xlim([0.0, 1.0])\n",
    "        plt.ylim([0.0, 1.05])\n",
    "        plt.xlabel('False Positive Rate (FPR)')\n",
    "        plt.ylabel('True Positive Rate (TPR)')\n",
    "        plt.title('Receiver Operating Characteristic (ROC)')\n",
    "        plt.legend(loc='lower right')\n",
    "        plt.show()\n",
    "\n",
    "    return roc_auc"
   ]
  },
  {
   "cell_type": "code",
   "execution_count": 15,
   "id": "8565137d",
   "metadata": {
    "execution": {
     "iopub.execute_input": "2024-09-23T18:48:47.140279Z",
     "iopub.status.busy": "2024-09-23T18:48:47.139974Z",
     "iopub.status.idle": "2024-09-23T18:48:47.490057Z",
     "shell.execute_reply": "2024-09-23T18:48:47.489122Z"
    },
    "papermill": {
     "duration": 0.367618,
     "end_time": "2024-09-23T18:48:47.492849",
     "exception": false,
     "start_time": "2024-09-23T18:48:47.125231",
     "status": "completed"
    },
    "tags": []
   },
   "outputs": [
    {
     "data": {
      "image/png": "[encoded data removed]",
      "text/plain": [
       "<Figure size 800x600 with 1 Axes>"
      ]
     },
     "metadata": {},
     "output_type": "display_data"
    },
    {
     "data": {
      "text/plain": [
       "0.5285934521586476"
      ]
     },
     "execution_count": 15,
     "metadata": {},
     "output_type": "execute_result"
    }
   ],
   "source": [
    "plot_roc_auc(model, test_data, test_labels)"
   ]
  },
  {
   "cell_type": "code",
   "execution_count": null,
   "id": "5107b465",
   "metadata": {
    "papermill": {
     "duration": 0.014565,
     "end_time": "2024-09-23T18:48:47.522580",
     "exception": false,
     "start_time": "2024-09-23T18:48:47.508015",
     "status": "completed"
    },
    "tags": []
   },
   "outputs": [],
   "source": []
  }
 ],
 "metadata": {
  "kaggle": {
   "accelerator": "nvidiaTeslaT4",
   "dataSources": [
    {
     "datasetId": 5754676,
     "sourceId": 9465170,
     "sourceType": "datasetVersion"
    }
   ],
   "dockerImageVersionId": 30762,
   "isGpuEnabled": true,
   "isInternetEnabled": true,
   "language": "python",
   "sourceType": "notebook"
  },
  "kernelspec": {
   "display_name": "Python 3",
   "language": "python",
   "name": "python3"
  },
  "language_info": {
   "codemirror_mode": {
    "name": "ipython",
    "version": 3
   },
   "file_extension": ".py",
   "mimetype": "text/x-python",
   "name": "python",
   "nbconvert_exporter": "python",
   "pygments_lexer": "ipython3",
   "version": "3.10.14"
  },
  "papermill": {
   "default_parameters": {},
   "duration": 523.71784,
   "end_time": "2024-09-23T18:48:48.959204",
   "environment_variables": {},
   "exception": null,
   "input_path": "__notebook__.ipynb",
   "output_path": "__notebook__.ipynb",
   "parameters": {},
   "start_time": "2024-09-23T18:40:05.241364",
   "version": "2.6.0"
  }
 },
 "nbformat": 4,
 "nbformat_minor": 5
}
