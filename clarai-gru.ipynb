{
 "cells": [
  {
   "cell_type": "code",
   "execution_count": 1,
   "id": "42a61a2f",
   "metadata": {
    "execution": {
     "iopub.execute_input": "2024-09-25T20:43:38.001306Z",
     "iopub.status.busy": "2024-09-25T20:43:38.000970Z",
     "iopub.status.idle": "2024-09-25T20:43:43.475583Z",
     "shell.execute_reply": "2024-09-25T20:43:43.474616Z"
    },
    "papermill": {
     "duration": 5.483692,
     "end_time": "2024-09-25T20:43:43.477984",
     "exception": false,
     "start_time": "2024-09-25T20:43:37.994292",
     "status": "completed"
    },
    "tags": []
   },
   "outputs": [],
   "source": [
    "\n",
    "from sklearn.model_selection import train_test_split\n",
    "from sklearn.preprocessing import StandardScaler\n",
    "from sklearn.utils.class_weight import compute_class_weight\n",
    "from sklearn.metrics import confusion_matrix\n",
    "from sklearn.metrics import roc_curve, auc\n",
    "\n",
    "import torch\n",
    "import torch.nn as nn\n",
    "import torch.optim as optim\n",
    "import pandas as pd\n",
    "import numpy as np\n",
    "import matplotlib.pyplot as plt\n",
    "import seaborn as sns\n",
    "\n",
    "import glob"
   ]
  },
  {
   "cell_type": "code",
   "execution_count": 2,
   "id": "d7247565",
   "metadata": {
    "execution": {
     "iopub.execute_input": "2024-09-25T20:43:43.489558Z",
     "iopub.status.busy": "2024-09-25T20:43:43.489140Z",
     "iopub.status.idle": "2024-09-25T20:43:43.552223Z",
     "shell.execute_reply": "2024-09-25T20:43:43.551339Z"
    },
    "papermill": {
     "duration": 0.071433,
     "end_time": "2024-09-25T20:43:43.554681",
     "exception": false,
     "start_time": "2024-09-25T20:43:43.483248",
     "status": "completed"
    },
    "tags": []
   },
   "outputs": [
    {
     "name": "stdout",
     "output_type": "stream",
     "text": [
      "cuda\n"
     ]
    }
   ],
   "source": [
    "# device = torch.device(\"mps\")\n",
    "device = torch.device(\"cuda\" if torch.cuda.is_available() else \"cpu\")\n",
    "print(device)"
   ]
  },
  {
   "cell_type": "code",
   "execution_count": 3,
   "id": "22583489",
   "metadata": {
    "execution": {
     "iopub.execute_input": "2024-09-25T20:43:43.566224Z",
     "iopub.status.busy": "2024-09-25T20:43:43.565890Z",
     "iopub.status.idle": "2024-09-25T20:43:43.573154Z",
     "shell.execute_reply": "2024-09-25T20:43:43.572208Z"
    },
    "papermill": {
     "duration": 0.01523,
     "end_time": "2024-09-25T20:43:43.575026",
     "exception": false,
     "start_time": "2024-09-25T20:43:43.559796",
     "status": "completed"
    },
    "tags": []
   },
   "outputs": [
    {
     "data": {
      "text/plain": [
       "'# Step 1: Get a list of all CSV file paths in the directory\\ndata_path = glob.glob(\"D:\\\\PythonProjs\\\\CLARAi\\\\Data\\\\*.csv\")  # Modify with your directory path\\nlabel_path = glob.glob(\"D:\\\\PythonProjs\\\\CLARAi\\\\Label\\\\*.csv\")\\n\\n# Step 2: Read each CSV file and store in a list of DataFrames\\ndatadfs = [pd.read_csv(file) for file in data_path]\\nlabeldfs = [pd.read_csv(file) for file in label_path]\\n\\n# Step 3: Concatenate all DataFrames into one\\nfinal_data_df = pd.concat(datadfs, ignore_index=True)\\nfinal_label_df = pd.concat(labeldfs, ignore_index=True)'"
      ]
     },
     "execution_count": 3,
     "metadata": {},
     "output_type": "execute_result"
    }
   ],
   "source": [
    "\"\"\"# Step 1: Get a list of all CSV file paths in the directory\n",
    "data_path = glob.glob(\"D:\\PythonProjs\\CLARAi\\Data\\*.csv\")  # Modify with your directory path\n",
    "label_path = glob.glob(\"D:\\PythonProjs\\CLARAi\\Label\\*.csv\")\n",
    "\n",
    "# Step 2: Read each CSV file and store in a list of DataFrames\n",
    "datadfs = [pd.read_csv(file) for file in data_path]\n",
    "labeldfs = [pd.read_csv(file) for file in label_path]\n",
    "\n",
    "# Step 3: Concatenate all DataFrames into one\n",
    "final_data_df = pd.concat(datadfs, ignore_index=True)\n",
    "final_label_df = pd.concat(labeldfs, ignore_index=True)\"\"\""
   ]
  },
  {
   "cell_type": "code",
   "execution_count": 4,
   "id": "00c9f424",
   "metadata": {
    "execution": {
     "iopub.execute_input": "2024-09-25T20:43:43.586296Z",
     "iopub.status.busy": "2024-09-25T20:43:43.586025Z",
     "iopub.status.idle": "2024-09-25T20:43:43.594053Z",
     "shell.execute_reply": "2024-09-25T20:43:43.593313Z"
    },
    "papermill": {
     "duration": 0.015721,
     "end_time": "2024-09-25T20:43:43.595839",
     "exception": false,
     "start_time": "2024-09-25T20:43:43.580118",
     "status": "completed"
    },
    "tags": []
   },
   "outputs": [],
   "source": [
    "def data_gen(data_path, label_path):\n",
    "    final_data_df = pd.read_csv(data_path)\n",
    "    final_label_df = pd.read_csv(label_path)\n",
    "\n",
    "    train_labels_flat = final_label_df.values.flatten()\n",
    "    \n",
    "    # Compute class weights (inverse of class frequencies)\n",
    "    class_weights = compute_class_weight(class_weight='balanced', classes=np.unique(train_labels_flat), y=train_labels_flat)\n",
    "    class_weights = torch.tensor(class_weights, dtype=torch.float32)\n",
    "\n",
    "    # Parameters\n",
    "    sequence_length = 256  # Length of each subsequence\n",
    "    num_subsequences = 100  # Number of subsequences to extract\n",
    "\n",
    "    # Get possible starting indices, ensuring there's enough space for a full subsequence\n",
    "    possible_starts = np.arange(0, len(final_data_df) - sequence_length + 1)\n",
    "    np.random.shuffle(possible_starts)\n",
    "\n",
    "    # Select the first `num_subsequences` starting indices\n",
    "    selected_starts = possible_starts[:num_subsequences]\n",
    "\n",
    "    # Create a list to hold the subsequences\n",
    "    subsequences = [final_data_df.iloc[start:start + sequence_length].values for start in selected_starts]\n",
    "    sublabels = [final_label_df.iloc[start:start + sequence_length].values for start in selected_starts]\n",
    "\n",
    "    # Convert subsequences list to a NumPy array\n",
    "    subsequences_array = np.array(subsequences)\n",
    "    sublabels_array = np.array(sublabels)\n",
    "\n",
    "    # subsequences_array will have shape (num_subsequences, sequence_length, num_channels)\n",
    "    # print(subsequences_array.shape)  # Should print (100, 100, 36)\n",
    "    # print(sublabels_array.shape)\n",
    "\n",
    "    return torch.from_numpy(subsequences_array), torch.from_numpy(sublabels_array), class_weights\n"
   ]
  },
  {
   "cell_type": "code",
   "execution_count": 5,
   "id": "cef7394c",
   "metadata": {
    "execution": {
     "iopub.execute_input": "2024-09-25T20:43:43.607247Z",
     "iopub.status.busy": "2024-09-25T20:43:43.606735Z",
     "iopub.status.idle": "2024-09-25T20:43:43.614697Z",
     "shell.execute_reply": "2024-09-25T20:43:43.613996Z"
    },
    "papermill": {
     "duration": 0.015714,
     "end_time": "2024-09-25T20:43:43.616615",
     "exception": false,
     "start_time": "2024-09-25T20:43:43.600901",
     "status": "completed"
    },
    "tags": []
   },
   "outputs": [],
   "source": [
    "\n",
    "# Sample time series data with shape (batch_size, sequence_length, num_features)\n",
    "# neuroimaging_data: Time series data from multiple neuroimaging channels\n",
    "# labels: Binary labels (0 = no pain, 1 = pain) for each time step\n",
    "# Assume neuroimaging_data is a numpy array of shape (num_samples, sequence_length, num_channels)\n",
    "# labels is a numpy array of shape (num_samples, sequence_length)\n",
    "\n",
    "class GRUClassifier(nn.Module):\n",
    "    def __init__(self, input_size, hidden_size, output_size, num_layers=1):\n",
    "        super(GRUClassifier, self).__init__()\n",
    "        self.hidden_size = hidden_size\n",
    "        self.num_layers = num_layers\n",
    "        self.gru = nn.GRU(input_size, hidden_size, num_layers, batch_first=True)\n",
    "        self.fc = nn.Linear(hidden_size, output_size)\n",
    "        self.batch_norm = nn.BatchNorm1d(hidden_size)  # Correct Batch Normalization\n",
    "        self.sigmoid = nn.Sigmoid()\n",
    "\n",
    "    def forward(self, x):\n",
    "        h0 = torch.zeros(self.num_layers, x.size(0), self.hidden_size).to(x.device)\n",
    "        \n",
    "        # GRU forward pass\n",
    "        out, _ = self.gru(x, h0)\n",
    "        \n",
    "        # Apply batch normalization\n",
    "        # Permute to (batch_size, hidden_size, sequence_length) for batch norm\n",
    "        out = out.permute(0, 2, 1)\n",
    "        out = self.batch_norm(out)\n",
    "        \n",
    "        # Permute back to (batch_size, sequence_length, hidden_size)\n",
    "        out = out.permute(0, 2, 1)\n",
    "        \n",
    "        # Apply the linear layer to each time step\n",
    "        out = self.fc(out)\n",
    "        \n",
    "        return self.sigmoid(out)\n",
    "\n"
   ]
  },
  {
   "cell_type": "code",
   "execution_count": 6,
   "id": "694ec91b",
   "metadata": {
    "execution": {
     "iopub.execute_input": "2024-09-25T20:43:43.627893Z",
     "iopub.status.busy": "2024-09-25T20:43:43.627417Z",
     "iopub.status.idle": "2024-09-25T20:43:43.656787Z",
     "shell.execute_reply": "2024-09-25T20:43:43.656116Z"
    },
    "papermill": {
     "duration": 0.037084,
     "end_time": "2024-09-25T20:43:43.658709",
     "exception": false,
     "start_time": "2024-09-25T20:43:43.621625",
     "status": "completed"
    },
    "tags": []
   },
   "outputs": [],
   "source": [
    "# data_path = glob.glob(\"D:\\PythonProjs\\CLARAi\\Data_norm\\*.csv\")  # Modify with your directory path\n",
    "# label_path = glob.glob(\"D:\\PythonProjs\\CLARAi\\Label\\*.csv\")\n",
    "\n",
    "# data_path = glob.glob(\"/home/frank/Documents/CLARAi/Data/*.csv\")  # Modify with your directory path\n",
    "# label_path = glob.glob(\"/home/frank/Documents/CLARAi/Label/*.csv\")\n",
    "\n",
    "# data_path = glob.glob(\"/Users/xiaosuhu/Documents/Python/CLARAi/Data/*.csv\")  # Modify with your directory path\n",
    "# label_path = glob.glob(\"/Users/xiaosuhu/Documents/Python/CLARAi/Data/*.csv\")\n",
    "\n",
    "data_path = glob.glob(\"/kaggle/input/clarai/CLARAi/Data/*.csv\")  # Modify with your directory path\n",
    "label_path = glob.glob(\"/kaggle/input/clarai/CLARAi/Label/*.csv\")\n",
    "\n",
    "# Sort the lists\n",
    "data_path = sorted(data_path)\n",
    "label_path = sorted(label_path)\n"
   ]
  },
  {
   "cell_type": "code",
   "execution_count": 7,
   "id": "13305480",
   "metadata": {
    "execution": {
     "iopub.execute_input": "2024-09-25T20:43:43.670172Z",
     "iopub.status.busy": "2024-09-25T20:43:43.669876Z",
     "iopub.status.idle": "2024-09-25T20:43:43.686671Z",
     "shell.execute_reply": "2024-09-25T20:43:43.685960Z"
    },
    "papermill": {
     "duration": 0.024716,
     "end_time": "2024-09-25T20:43:43.688511",
     "exception": false,
     "start_time": "2024-09-25T20:43:43.663795",
     "status": "completed"
    },
    "tags": []
   },
   "outputs": [],
   "source": [
    "\n",
    "# data_path = \"D:\\PythonProjs\\CLARAi\\Data\\data1.csv\"\n",
    "# label_path = \"D:\\PythonProjs\\CLARAi\\Label\\label1.csv\"\n",
    "neuroimaging_data = torch.empty(0,256,36)\n",
    "labels = torch.empty(0,256,1)\n",
    "class_weights = torch.Tensor([0., 0.])"
   ]
  },
  {
   "cell_type": "code",
   "execution_count": 8,
   "id": "0a4fa5a5",
   "metadata": {
    "execution": {
     "iopub.execute_input": "2024-09-25T20:43:43.699946Z",
     "iopub.status.busy": "2024-09-25T20:43:43.699666Z",
     "iopub.status.idle": "2024-09-25T20:43:44.721345Z",
     "shell.execute_reply": "2024-09-25T20:43:44.720116Z"
    },
    "papermill": {
     "duration": 1.029915,
     "end_time": "2024-09-25T20:43:44.723440",
     "exception": false,
     "start_time": "2024-09-25T20:43:43.693525",
     "status": "completed"
    },
    "tags": []
   },
   "outputs": [
    {
     "name": "stdout",
     "output_type": "stream",
     "text": [
      "datapath: /kaggle/input/clarai/CLARAi/Data/data1.csv\n",
      "labelpath: /kaggle/input/clarai/CLARAi/Label/label1.csv\n",
      "Data shape: torch.Size([100, 256, 36]), Label shape: torch.Size([100, 256, 1]), Weight shape: torch.Size([2])\n",
      "datapath: /kaggle/input/clarai/CLARAi/Data/data10.csv\n",
      "labelpath: /kaggle/input/clarai/CLARAi/Label/label10.csv\n",
      "Data shape: torch.Size([100, 256, 36]), Label shape: torch.Size([100, 256, 1]), Weight shape: torch.Size([2])\n",
      "datapath: /kaggle/input/clarai/CLARAi/Data/data11.csv\n",
      "labelpath: /kaggle/input/clarai/CLARAi/Label/label11.csv\n",
      "Data shape: torch.Size([100, 256, 36]), Label shape: torch.Size([100, 256, 1]), Weight shape: torch.Size([2])\n",
      "datapath: /kaggle/input/clarai/CLARAi/Data/data12.csv\n",
      "labelpath: /kaggle/input/clarai/CLARAi/Label/label12.csv\n",
      "Data shape: torch.Size([100, 256, 36]), Label shape: torch.Size([100, 256, 1]), Weight shape: torch.Size([2])\n",
      "datapath: /kaggle/input/clarai/CLARAi/Data/data13.csv\n",
      "labelpath: /kaggle/input/clarai/CLARAi/Label/label13.csv\n",
      "Data shape: torch.Size([100, 256, 36]), Label shape: torch.Size([100, 256, 1]), Weight shape: torch.Size([2])\n",
      "datapath: /kaggle/input/clarai/CLARAi/Data/data16.csv\n",
      "labelpath: /kaggle/input/clarai/CLARAi/Label/label16.csv\n",
      "Data shape: torch.Size([100, 256, 36]), Label shape: torch.Size([100, 256, 1]), Weight shape: torch.Size([2])\n",
      "datapath: /kaggle/input/clarai/CLARAi/Data/data17.csv\n",
      "labelpath: /kaggle/input/clarai/CLARAi/Label/label17.csv\n",
      "Data shape: torch.Size([100, 256, 36]), Label shape: torch.Size([100, 256, 1]), Weight shape: torch.Size([2])\n",
      "datapath: /kaggle/input/clarai/CLARAi/Data/data18.csv\n",
      "labelpath: /kaggle/input/clarai/CLARAi/Label/label18.csv\n",
      "Data shape: torch.Size([100, 256, 36]), Label shape: torch.Size([100, 256, 1]), Weight shape: torch.Size([2])\n",
      "datapath: /kaggle/input/clarai/CLARAi/Data/data3.csv\n",
      "labelpath: /kaggle/input/clarai/CLARAi/Label/label3.csv\n",
      "Data shape: torch.Size([100, 256, 36]), Label shape: torch.Size([100, 256, 1]), Weight shape: torch.Size([2])\n",
      "datapath: /kaggle/input/clarai/CLARAi/Data/data4.csv\n",
      "labelpath: /kaggle/input/clarai/CLARAi/Label/label4.csv\n",
      "Data shape: torch.Size([100, 256, 36]), Label shape: torch.Size([100, 256, 1]), Weight shape: torch.Size([2])\n",
      "datapath: /kaggle/input/clarai/CLARAi/Data/data5.csv\n",
      "labelpath: /kaggle/input/clarai/CLARAi/Label/label5.csv\n",
      "Data shape: torch.Size([100, 256, 36]), Label shape: torch.Size([100, 256, 1]), Weight shape: torch.Size([2])\n",
      "datapath: /kaggle/input/clarai/CLARAi/Data/data6.csv\n",
      "labelpath: /kaggle/input/clarai/CLARAi/Label/label6.csv\n",
      "Data shape: torch.Size([100, 256, 36]), Label shape: torch.Size([100, 256, 1]), Weight shape: torch.Size([2])\n",
      "datapath: /kaggle/input/clarai/CLARAi/Data/data7.csv\n",
      "labelpath: /kaggle/input/clarai/CLARAi/Label/label7.csv\n",
      "Data shape: torch.Size([100, 256, 36]), Label shape: torch.Size([100, 256, 1]), Weight shape: torch.Size([2])\n",
      "datapath: /kaggle/input/clarai/CLARAi/Data/data8.csv\n",
      "labelpath: /kaggle/input/clarai/CLARAi/Label/label8.csv\n",
      "Data shape: torch.Size([100, 256, 36]), Label shape: torch.Size([100, 256, 1]), Weight shape: torch.Size([2])\n",
      "datapath: /kaggle/input/clarai/CLARAi/Data/data9.csv\n",
      "labelpath: /kaggle/input/clarai/CLARAi/Label/label9.csv\n",
      "Data shape: torch.Size([100, 256, 36]), Label shape: torch.Size([100, 256, 1]), Weight shape: torch.Size([2])\n"
     ]
    }
   ],
   "source": [
    "\n",
    "for datapath, labelpath in zip(data_path, label_path):\n",
    "    print(f'datapath: {datapath}')\n",
    "    print(f'labelpath: {labelpath}')    \n",
    "    data, label, weight = data_gen(datapath, labelpath)\n",
    "    print(f'Data shape: {data.shape}, Label shape: {label.shape}, Weight shape: {weight.shape}')\n",
    "    neuroimaging_data= torch.cat([neuroimaging_data, data])\n",
    "    labels = torch.cat([labels, label])\n",
    "    class_weights += weight\n",
    "\n",
    "normalized_weights = class_weights / class_weights.sum()\n"
   ]
  },
  {
   "cell_type": "code",
   "execution_count": 9,
   "id": "68e96ae3",
   "metadata": {
    "execution": {
     "iopub.execute_input": "2024-09-25T20:43:44.736801Z",
     "iopub.status.busy": "2024-09-25T20:43:44.736484Z",
     "iopub.status.idle": "2024-09-25T20:43:44.742355Z",
     "shell.execute_reply": "2024-09-25T20:43:44.741363Z"
    },
    "papermill": {
     "duration": 0.014779,
     "end_time": "2024-09-25T20:43:44.744394",
     "exception": false,
     "start_time": "2024-09-25T20:43:44.729615",
     "status": "completed"
    },
    "tags": []
   },
   "outputs": [
    {
     "data": {
      "text/plain": [
       "(torch.Size([1500, 256, 36]), torch.Size([1500, 256, 1]))"
      ]
     },
     "execution_count": 9,
     "metadata": {},
     "output_type": "execute_result"
    }
   ],
   "source": [
    "neuroimaging_data.shape, labels.shape"
   ]
  },
  {
   "cell_type": "code",
   "execution_count": 10,
   "id": "2b161742",
   "metadata": {
    "execution": {
     "iopub.execute_input": "2024-09-25T20:43:44.757439Z",
     "iopub.status.busy": "2024-09-25T20:43:44.757131Z",
     "iopub.status.idle": "2024-09-25T20:43:44.773378Z",
     "shell.execute_reply": "2024-09-25T20:43:44.772240Z"
    },
    "papermill": {
     "duration": 0.025106,
     "end_time": "2024-09-25T20:43:44.775413",
     "exception": false,
     "start_time": "2024-09-25T20:43:44.750307",
     "status": "completed"
    },
    "tags": []
   },
   "outputs": [
    {
     "name": "stdout",
     "output_type": "stream",
     "text": [
      "Number of 0s: 294569Number of 1s: 89431 Ratio is 0.23289322916666666\n"
     ]
    }
   ],
   "source": [
    "# Count the number of 1s\n",
    "num_zeros = torch.sum(labels == 0).item()\n",
    "num_ones = torch.sum(labels == 1).item()\n",
    "\n",
    "print(f\"Number of 0s: {num_zeros}Number of 1s: {num_ones} Ratio is {num_ones/(num_ones + num_zeros)}\")"
   ]
  },
  {
   "cell_type": "code",
   "execution_count": 11,
   "id": "9c600623",
   "metadata": {
    "execution": {
     "iopub.execute_input": "2024-09-25T20:43:44.788942Z",
     "iopub.status.busy": "2024-09-25T20:43:44.788631Z",
     "iopub.status.idle": "2024-09-25T20:43:46.390122Z",
     "shell.execute_reply": "2024-09-25T20:43:46.389273Z"
    },
    "papermill": {
     "duration": 1.610723,
     "end_time": "2024-09-25T20:43:46.392382",
     "exception": false,
     "start_time": "2024-09-25T20:43:44.781659",
     "status": "completed"
    },
    "tags": []
   },
   "outputs": [
    {
     "name": "stderr",
     "output_type": "stream",
     "text": [
      "/tmp/ipykernel_23/2227202816.py:16: UserWarning: To copy construct from a tensor, it is recommended to use sourceTensor.clone().detach() or sourceTensor.clone().detach().requires_grad_(True), rather than torch.tensor(sourceTensor).\n",
      "  train_data, test_data = torch.tensor(train_data, dtype=torch.float32).to(device), torch.tensor(test_data, dtype=torch.float32).to(device)\n",
      "/tmp/ipykernel_23/2227202816.py:17: UserWarning: To copy construct from a tensor, it is recommended to use sourceTensor.clone().detach() or sourceTensor.clone().detach().requires_grad_(True), rather than torch.tensor(sourceTensor).\n",
      "  train_labels, test_labels = torch.tensor(train_labels, dtype=torch.float32).to(device), torch.tensor(test_labels, dtype=torch.float32).to(device)\n"
     ]
    }
   ],
   "source": [
    "# Hyperparameters\n",
    "input_size = neuroimaging_data.shape[2]  # Number of features (channels)\n",
    "hidden_size = 256  # Hidden state size of the GRU\n",
    "output_size = 1  # Binary classification\n",
    "num_layers = 6  # Number of GRU layers\n",
    "learning_rate = 0.001\n",
    "num_epochs = 500\n",
    "batch_size = 64\n",
    "\n",
    "# Preprocessing (e.g., normalization)\n",
    "# scaler = StandardScaler()\n",
    "# neuroimaging_data = scaler.fit_transform(neuroimaging_data.reshape(-1, input_size)).reshape(neuroimaging_data.shape)\n",
    "\n",
    "# Convert numpy arrays to PyTorch tensors\n",
    "train_data, test_data, train_labels, test_labels = train_test_split(neuroimaging_data, labels, test_size=0.2, random_state=42)\n",
    "train_data, test_data = torch.tensor(train_data, dtype=torch.float32).to(device), torch.tensor(test_data, dtype=torch.float32).to(device)\n",
    "train_labels, test_labels = torch.tensor(train_labels, dtype=torch.float32).to(device), torch.tensor(test_labels, dtype=torch.float32).to(device)\n",
    "\n",
    "\n",
    "# Create GRU model\n",
    "model = GRUClassifier(input_size, hidden_size, output_size, num_layers).to(device)\n",
    "\n",
    "# Loss and optimizer\n",
    "# criterion = nn.BCELoss()  # Binary Cross Entropy Loss for binary classification\n",
    "\n",
    "\n",
    "# Convert the class weights to a tensor and move to the appropriate device\n",
    "class_weights = class_weights.to(device)\n",
    "\n",
    "# Use BCEWithLogitsLoss, which combines sigmoid activation and binary cross-entropy loss\n",
    "criterion = nn.BCEWithLogitsLoss(pos_weight=normalized_weights[0])  # pos_weight applies only to class 1\n",
    "\n",
    "# optimizer = optim.Adam(model.parameters(), lr=learning_rate)\n",
    "optimizer = optim.Adam(model.parameters(), lr=learning_rate, weight_decay=1e-5)\n",
    "scheduler = torch.optim.lr_scheduler.ReduceLROnPlateau(optimizer, mode='min', factor=0.1, patience=20)"
   ]
  },
  {
   "cell_type": "code",
   "execution_count": 12,
   "id": "f941385b",
   "metadata": {
    "execution": {
     "iopub.execute_input": "2024-09-25T20:43:46.407095Z",
     "iopub.status.busy": "2024-09-25T20:43:46.406194Z",
     "iopub.status.idle": "2024-09-25T20:50:35.144978Z",
     "shell.execute_reply": "2024-09-25T20:50:35.143996Z"
    },
    "papermill": {
     "duration": 408.748212,
     "end_time": "2024-09-25T20:50:35.147175",
     "exception": false,
     "start_time": "2024-09-25T20:43:46.398963",
     "status": "completed"
    },
    "tags": []
   },
   "outputs": [
    {
     "name": "stdout",
     "output_type": "stream",
     "text": [
      "Epoch [5/500], Train Loss: 0.6734, Val Loss: 0.7244\n",
      "Epoch [10/500], Train Loss: 0.6454, Val Loss: 0.6644\n",
      "Epoch [15/500], Train Loss: 0.6368, Val Loss: 0.6701\n",
      "Epoch [20/500], Train Loss: 0.6337, Val Loss: 0.6541\n",
      "Epoch [25/500], Train Loss: 0.6276, Val Loss: 0.6428\n",
      "Epoch [30/500], Train Loss: 0.6217, Val Loss: 0.6289\n",
      "Epoch [35/500], Train Loss: 0.6199, Val Loss: 0.6182\n",
      "Epoch [40/500], Train Loss: 0.6128, Val Loss: 0.5925\n",
      "Epoch [45/500], Train Loss: 0.5876, Val Loss: 0.5714\n",
      "Epoch [50/500], Train Loss: 0.5743, Val Loss: 0.5658\n",
      "Epoch [55/500], Train Loss: 0.5692, Val Loss: 0.5649\n",
      "Epoch [60/500], Train Loss: 0.5662, Val Loss: 0.5643\n",
      "Epoch [65/500], Train Loss: 0.5654, Val Loss: 0.5652\n",
      "Epoch [70/500], Train Loss: 0.5645, Val Loss: 0.5639\n",
      "Epoch [75/500], Train Loss: 0.5643, Val Loss: 0.5642\n",
      "Epoch [80/500], Train Loss: 0.5641, Val Loss: 0.5642\n",
      "Epoch [85/500], Train Loss: 0.5637, Val Loss: 0.5637\n",
      "Epoch [90/500], Train Loss: 0.5634, Val Loss: 0.5633\n",
      "Epoch [95/500], Train Loss: 0.5632, Val Loss: 0.5632\n",
      "Epoch [100/500], Train Loss: 0.5631, Val Loss: 0.5630\n",
      "Epoch [105/500], Train Loss: 0.5629, Val Loss: 0.5627\n",
      "Epoch [110/500], Train Loss: 0.5627, Val Loss: 0.5625\n",
      "Epoch [115/500], Train Loss: 0.5626, Val Loss: 0.5625\n",
      "Epoch [120/500], Train Loss: 0.5626, Val Loss: 0.5625\n",
      "Epoch [125/500], Train Loss: 0.5624, Val Loss: 0.5623\n",
      "Epoch [130/500], Train Loss: 0.5623, Val Loss: 0.5622\n",
      "Epoch [135/500], Train Loss: 0.5621, Val Loss: 0.5622\n",
      "Epoch [140/500], Train Loss: 0.5621, Val Loss: 0.5621\n",
      "Epoch [145/500], Train Loss: 0.5620, Val Loss: 0.5620\n",
      "Epoch [150/500], Train Loss: 0.5619, Val Loss: 0.5619\n",
      "Epoch [155/500], Train Loss: 0.5618, Val Loss: 0.5617\n",
      "Epoch [160/500], Train Loss: 0.5617, Val Loss: 0.5617\n",
      "Epoch [165/500], Train Loss: 0.5617, Val Loss: 0.5618\n",
      "Epoch [170/500], Train Loss: 0.5617, Val Loss: 0.5616\n",
      "Epoch [175/500], Train Loss: 0.5616, Val Loss: 0.5616\n",
      "Epoch [180/500], Train Loss: 0.5616, Val Loss: 0.5616\n",
      "Epoch [185/500], Train Loss: 0.5615, Val Loss: 0.5615\n",
      "Epoch [190/500], Train Loss: 0.5615, Val Loss: 0.5615\n",
      "Epoch [195/500], Train Loss: 0.5614, Val Loss: 0.5615\n",
      "Epoch [200/500], Train Loss: 0.5614, Val Loss: 0.5615\n",
      "Epoch [205/500], Train Loss: 0.5615, Val Loss: 0.5616\n",
      "Epoch [210/500], Train Loss: 0.5614, Val Loss: 0.5615\n",
      "Epoch [215/500], Train Loss: 0.5614, Val Loss: 0.5615\n",
      "Epoch [220/500], Train Loss: 0.5614, Val Loss: 0.5615\n",
      "Epoch [225/500], Train Loss: 0.5614, Val Loss: 0.5615\n",
      "Epoch [230/500], Train Loss: 0.5614, Val Loss: 0.5615\n",
      "Epoch [235/500], Train Loss: 0.5614, Val Loss: 0.5615\n",
      "Epoch [240/500], Train Loss: 0.5614, Val Loss: 0.5615\n",
      "Epoch [245/500], Train Loss: 0.5614, Val Loss: 0.5615\n",
      "Epoch [250/500], Train Loss: 0.5614, Val Loss: 0.5615\n",
      "Epoch [255/500], Train Loss: 0.5614, Val Loss: 0.5615\n",
      "Epoch [260/500], Train Loss: 0.5614, Val Loss: 0.5615\n",
      "Epoch [265/500], Train Loss: 0.5614, Val Loss: 0.5615\n",
      "Epoch [270/500], Train Loss: 0.5614, Val Loss: 0.5615\n",
      "Epoch [275/500], Train Loss: 0.5614, Val Loss: 0.5615\n",
      "Epoch [280/500], Train Loss: 0.5614, Val Loss: 0.5615\n",
      "Epoch [285/500], Train Loss: 0.5614, Val Loss: 0.5615\n",
      "Epoch [290/500], Train Loss: 0.5614, Val Loss: 0.5615\n",
      "Epoch [295/500], Train Loss: 0.5614, Val Loss: 0.5615\n",
      "Epoch [300/500], Train Loss: 0.5614, Val Loss: 0.5615\n",
      "Epoch [305/500], Train Loss: 0.5614, Val Loss: 0.5615\n",
      "Epoch [310/500], Train Loss: 0.5614, Val Loss: 0.5615\n",
      "Epoch [315/500], Train Loss: 0.5614, Val Loss: 0.5615\n",
      "Epoch [320/500], Train Loss: 0.5614, Val Loss: 0.5615\n",
      "Epoch [325/500], Train Loss: 0.5614, Val Loss: 0.5615\n",
      "Epoch [330/500], Train Loss: 0.5614, Val Loss: 0.5615\n",
      "Epoch [335/500], Train Loss: 0.5614, Val Loss: 0.5615\n",
      "Epoch [340/500], Train Loss: 0.5614, Val Loss: 0.5615\n",
      "Epoch [345/500], Train Loss: 0.5614, Val Loss: 0.5615\n",
      "Epoch [350/500], Train Loss: 0.5614, Val Loss: 0.5615\n",
      "Epoch [355/500], Train Loss: 0.5614, Val Loss: 0.5615\n",
      "Epoch [360/500], Train Loss: 0.5614, Val Loss: 0.5615\n",
      "Epoch [365/500], Train Loss: 0.5614, Val Loss: 0.5615\n",
      "Epoch [370/500], Train Loss: 0.5614, Val Loss: 0.5615\n",
      "Epoch [375/500], Train Loss: 0.5614, Val Loss: 0.5615\n",
      "Epoch [380/500], Train Loss: 0.5614, Val Loss: 0.5615\n",
      "Epoch [385/500], Train Loss: 0.5614, Val Loss: 0.5615\n",
      "Epoch [390/500], Train Loss: 0.5614, Val Loss: 0.5615\n",
      "Epoch [395/500], Train Loss: 0.5614, Val Loss: 0.5615\n",
      "Epoch [400/500], Train Loss: 0.5614, Val Loss: 0.5615\n",
      "Epoch [405/500], Train Loss: 0.5614, Val Loss: 0.5615\n",
      "Epoch [410/500], Train Loss: 0.5614, Val Loss: 0.5615\n",
      "Epoch [415/500], Train Loss: 0.5614, Val Loss: 0.5615\n",
      "Epoch [420/500], Train Loss: 0.5614, Val Loss: 0.5615\n",
      "Epoch [425/500], Train Loss: 0.5614, Val Loss: 0.5615\n",
      "Epoch [430/500], Train Loss: 0.5614, Val Loss: 0.5615\n",
      "Epoch [435/500], Train Loss: 0.5614, Val Loss: 0.5615\n",
      "Epoch [440/500], Train Loss: 0.5614, Val Loss: 0.5615\n",
      "Epoch [445/500], Train Loss: 0.5614, Val Loss: 0.5615\n",
      "Epoch [450/500], Train Loss: 0.5614, Val Loss: 0.5615\n",
      "Epoch [455/500], Train Loss: 0.5614, Val Loss: 0.5615\n",
      "Epoch [460/500], Train Loss: 0.5614, Val Loss: 0.5615\n",
      "Epoch [465/500], Train Loss: 0.5614, Val Loss: 0.5615\n",
      "Epoch [470/500], Train Loss: 0.5614, Val Loss: 0.5615\n",
      "Epoch [475/500], Train Loss: 0.5614, Val Loss: 0.5615\n",
      "Epoch [480/500], Train Loss: 0.5614, Val Loss: 0.5615\n",
      "Epoch [485/500], Train Loss: 0.5614, Val Loss: 0.5615\n",
      "Epoch [490/500], Train Loss: 0.5614, Val Loss: 0.5615\n",
      "Epoch [495/500], Train Loss: 0.5614, Val Loss: 0.5615\n",
      "Epoch [500/500], Train Loss: 0.5614, Val Loss: 0.5615\n"
     ]
    }
   ],
   "source": [
    "# Training loop\n",
    "for epoch in range(num_epochs):\n",
    "    model.train()  # Set model to training mode\n",
    "    optimizer.zero_grad()\n",
    "    \n",
    "    # Forward pass (training)\n",
    "    outputs = model(train_data)\n",
    "    loss = criterion(outputs, train_labels)\n",
    "    \n",
    "    # Backward pass and optimization\n",
    "    loss.backward()\n",
    "    \n",
    "    # Clip gradients to prevent exploding gradients\n",
    "    torch.nn.utils.clip_grad_norm_(model.parameters(), max_norm=1.0)\n",
    "    \n",
    "    optimizer.step()\n",
    "\n",
    "    # Validation phase (no gradient calculations)\n",
    "    model.eval()  # Set model to evaluation mode\n",
    "    with torch.no_grad():  # Disable gradient calculation for validation\n",
    "        val_outputs = model(test_data)\n",
    "        val_loss = criterion(val_outputs, test_labels)\n",
    "\n",
    "    # Update learning rate if validation loss plateaus\n",
    "    scheduler.step(val_loss)\n",
    "\n",
    "    # Print loss every 5 epochs\n",
    "    if (epoch + 1) % 5 == 0:\n",
    "        print(f'Epoch [{epoch+1}/{num_epochs}], Train Loss: {loss.item():.4f}, Val Loss: {val_loss.item():.4f}')\n"
   ]
  },
  {
   "cell_type": "code",
   "execution_count": 13,
   "id": "a8cfbf5d",
   "metadata": {
    "execution": {
     "iopub.execute_input": "2024-09-25T20:50:35.176390Z",
     "iopub.status.busy": "2024-09-25T20:50:35.175616Z",
     "iopub.status.idle": "2024-09-25T20:50:35.670112Z",
     "shell.execute_reply": "2024-09-25T20:50:35.669245Z"
    },
    "papermill": {
     "duration": 0.511193,
     "end_time": "2024-09-25T20:50:35.672155",
     "exception": false,
     "start_time": "2024-09-25T20:50:35.160962",
     "status": "completed"
    },
    "tags": []
   },
   "outputs": [
    {
     "name": "stdout",
     "output_type": "stream",
     "text": [
      "Accuracy: 86.29%\n",
      "Confusion Matrix:\n",
      "[[58088   612]\n",
      " [ 9918  8182]]\n"
     ]
    },
    {
     "data": {
      "image/png": "[encoded data removed]",
      "text/plain": [
       "<Figure size 600x400 with 2 Axes>"
      ]
     },
     "metadata": {},
     "output_type": "display_data"
    }
   ],
   "source": [
    "\n",
    "model.eval()\n",
    "with torch.no_grad():\n",
    "    test_outputs = model(test_data)\n",
    "    predicted = (test_outputs > 0.5).float()  # Threshold at 0.5 for binary classification\n",
    "    \n",
    "    # Calculate accuracy\n",
    "    accuracy = (predicted == test_labels).float().mean()\n",
    "    print(f'Accuracy: {accuracy.item() * 100:.2f}%')\n",
    "\n",
    "    # Flatten the predicted and test labels for confusion matrix calculation\n",
    "    predicted_flat = predicted.cpu().numpy().flatten()\n",
    "    test_labels_flat = test_labels.cpu().numpy().flatten()\n",
    "\n",
    "    # Generate the confusion matrix\n",
    "    cm = confusion_matrix(test_labels_flat, predicted_flat)\n",
    "    print(f'Confusion Matrix:\\n{cm}')\n",
    "\n",
    "    # Optional: plot the confusion matrix for visualization\n",
    "    plt.figure(figsize=(6,4))\n",
    "    sns.heatmap(cm, annot=True, fmt=\"d\", cmap=\"Blues\", xticklabels=['No Pain', 'Pain'], yticklabels=['No Pain', 'Pain'])\n",
    "    plt.ylabel('True Label')\n",
    "    plt.xlabel('Predicted Label')\n",
    "    plt.title('Confusion Matrix')\n",
    "    plt.show()\n"
   ]
  },
  {
   "cell_type": "code",
   "execution_count": 14,
   "id": "58a2b97c",
   "metadata": {
    "execution": {
     "iopub.execute_input": "2024-09-25T20:50:35.702327Z",
     "iopub.status.busy": "2024-09-25T20:50:35.701730Z",
     "iopub.status.idle": "2024-09-25T20:50:35.709861Z",
     "shell.execute_reply": "2024-09-25T20:50:35.709044Z"
    },
    "papermill": {
     "duration": 0.024943,
     "end_time": "2024-09-25T20:50:35.711720",
     "exception": false,
     "start_time": "2024-09-25T20:50:35.686777",
     "status": "completed"
    },
    "tags": []
   },
   "outputs": [],
   "source": [
    "def plot_roc_auc(model, test_data, test_labels):\n",
    "    model.eval()\n",
    "    with torch.no_grad():\n",
    "        # Get the raw logits (before applying sigmoid)\n",
    "        test_outputs = model(test_data)\n",
    "        \n",
    "        # Convert test_labels and test_outputs to NumPy arrays for sklearn\n",
    "        test_labels_flat = test_labels.cpu().numpy().flatten()\n",
    "        test_outputs_flat = test_outputs.cpu().numpy().flatten()\n",
    "\n",
    "        # Calculate the false positive rate, true positive rate, and thresholds for the ROC curve\n",
    "        fpr, tpr, thresholds = roc_curve(test_labels_flat, test_outputs_flat)\n",
    "        \n",
    "        # Calculate the AUC score\n",
    "        roc_auc = auc(fpr, tpr)\n",
    "        \n",
    "        # Plot ROC curve\n",
    "        plt.figure(figsize=(8,6))\n",
    "        plt.plot(fpr, tpr, color='blue', label=f'ROC Curve (AUC = {roc_auc:.2f})')\n",
    "        plt.plot([0, 1], [0, 1], color='grey', linestyle='--')  # Random classifier line\n",
    "        plt.xlim([0.0, 1.0])\n",
    "        plt.ylim([0.0, 1.05])\n",
    "        plt.xlabel('False Positive Rate (FPR)')\n",
    "        plt.ylabel('True Positive Rate (TPR)')\n",
    "        plt.title('Receiver Operating Characteristic (ROC)')\n",
    "        plt.legend(loc='lower right')\n",
    "        plt.show()\n",
    "\n",
    "    return roc_auc"
   ]
  },
  {
   "cell_type": "code",
   "execution_count": 15,
   "id": "7992e3eb",
   "metadata": {
    "execution": {
     "iopub.execute_input": "2024-09-25T20:50:35.741156Z",
     "iopub.status.busy": "2024-09-25T20:50:35.740682Z",
     "iopub.status.idle": "2024-09-25T20:50:36.120827Z",
     "shell.execute_reply": "2024-09-25T20:50:36.119948Z"
    },
    "papermill": {
     "duration": 0.397795,
     "end_time": "2024-09-25T20:50:36.123549",
     "exception": false,
     "start_time": "2024-09-25T20:50:35.725754",
     "status": "completed"
    },
    "tags": []
   },
   "outputs": [
    {
     "data": {
      "image/png": "[encoded data removed]",
      "text/plain": [
       "<Figure size 800x600 with 1 Axes>"
      ]
     },
     "metadata": {},
     "output_type": "display_data"
    },
    {
     "data": {
      "text/plain": [
       "0.8384465166075277"
      ]
     },
     "execution_count": 15,
     "metadata": {},
     "output_type": "execute_result"
    }
   ],
   "source": [
    "plot_roc_auc(model, test_data, test_labels)"
   ]
  },
  {
   "cell_type": "code",
   "execution_count": null,
   "id": "76f39131",
   "metadata": {
    "papermill": {
     "duration": 0.014747,
     "end_time": "2024-09-25T20:50:36.153593",
     "exception": false,
     "start_time": "2024-09-25T20:50:36.138846",
     "status": "completed"
    },
    "tags": []
   },
   "outputs": [],
   "source": []
  }
 ],
 "metadata": {
  "kaggle": {
   "accelerator": "gpu",
   "dataSources": [
    {
     "datasetId": 5754676,
     "sourceId": 9480039,
     "sourceType": "datasetVersion"
    }
   ],
   "dockerImageVersionId": 30762,
   "isGpuEnabled": true,
   "isInternetEnabled": true,
   "language": "python",
   "sourceType": "notebook"
  },
  "kernelspec": {
   "display_name": "Python 3",
   "language": "python",
   "name": "python3"
  },
  "language_info": {
   "codemirror_mode": {
    "name": "ipython",
    "version": 3
   },
   "file_extension": ".py",
   "mimetype": "text/x-python",
   "name": "python",
   "nbconvert_exporter": "python",
   "pygments_lexer": "ipython3",
   "version": "3.10.14"
  },
  "papermill": {
   "default_parameters": {},
   "duration": 422.424787,
   "end_time": "2024-09-25T20:50:37.589642",
   "environment_variables": {},
   "exception": null,
   "input_path": "__notebook__.ipynb",
   "output_path": "__notebook__.ipynb",
   "parameters": {},
   "start_time": "2024-09-25T20:43:35.164855",
   "version": "2.6.0"
  }
 },
 "nbformat": 4,
 "nbformat_minor": 5
}
