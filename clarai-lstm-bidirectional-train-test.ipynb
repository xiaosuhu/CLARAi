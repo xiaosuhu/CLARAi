{
 "cells": [
  {
   "cell_type": "code",
   "execution_count": 1,
   "id": "a313a0af",
   "metadata": {
    "execution": {
     "iopub.execute_input": "2024-10-03T13:55:34.093860Z",
     "iopub.status.busy": "2024-10-03T13:55:34.093559Z",
     "iopub.status.idle": "2024-10-03T13:55:40.286143Z",
     "shell.execute_reply": "2024-10-03T13:55:40.285382Z"
    },
    "papermill": {
     "duration": 6.202432,
     "end_time": "2024-10-03T13:55:40.288453",
     "exception": false,
     "start_time": "2024-10-03T13:55:34.086021",
     "status": "completed"
    },
    "tags": []
   },
   "outputs": [],
   "source": [
    "from sklearn.model_selection import train_test_split\n",
    "from sklearn.preprocessing import StandardScaler\n",
    "from sklearn.utils.class_weight import compute_class_weight\n",
    "from sklearn.metrics import confusion_matrix, classification_report, roc_curve, auc\n",
    "from torch.utils.data import DataLoader, TensorDataset\n",
    "\n",
    "import torch\n",
    "import torch.nn as nn\n",
    "import torch.optim as optim\n",
    "import pandas as pd\n",
    "import numpy as np\n",
    "import matplotlib.pyplot as plt\n",
    "import seaborn as sns\n",
    "\n",
    "import glob"
   ]
  },
  {
   "cell_type": "code",
   "execution_count": 2,
   "id": "b367f18b",
   "metadata": {
    "execution": {
     "iopub.execute_input": "2024-10-03T13:55:40.302231Z",
     "iopub.status.busy": "2024-10-03T13:55:40.301832Z",
     "iopub.status.idle": "2024-10-03T13:55:40.392345Z",
     "shell.execute_reply": "2024-10-03T13:55:40.391448Z"
    },
    "papermill": {
     "duration": 0.099873,
     "end_time": "2024-10-03T13:55:40.394723",
     "exception": false,
     "start_time": "2024-10-03T13:55:40.294850",
     "status": "completed"
    },
    "tags": []
   },
   "outputs": [
    {
     "name": "stdout",
     "output_type": "stream",
     "text": [
      "cuda\n"
     ]
    }
   ],
   "source": [
    "# device = torch.device(\"mps\")\n",
    "device = torch.device(\"cuda\" if torch.cuda.is_available() else \"cpu\")\n",
    "print(device)"
   ]
  },
  {
   "cell_type": "code",
   "execution_count": 3,
   "id": "cbfe5f99",
   "metadata": {
    "execution": {
     "iopub.execute_input": "2024-10-03T13:55:40.408165Z",
     "iopub.status.busy": "2024-10-03T13:55:40.407886Z",
     "iopub.status.idle": "2024-10-03T13:55:40.414830Z",
     "shell.execute_reply": "2024-10-03T13:55:40.414043Z"
    },
    "papermill": {
     "duration": 0.015979,
     "end_time": "2024-10-03T13:55:40.416782",
     "exception": false,
     "start_time": "2024-10-03T13:55:40.400803",
     "status": "completed"
    },
    "tags": []
   },
   "outputs": [
    {
     "data": {
      "text/plain": [
       "'# Step 1: Get a list of all CSV file paths in the directory\\ndata_path = glob.glob(\"D:\\\\PythonProjs\\\\CLARAi\\\\Data\\\\*.csv\")  # Modify with your directory path\\nlabel_path = glob.glob(\"D:\\\\PythonProjs\\\\CLARAi\\\\Label\\\\*.csv\")\\n\\n# Step 2: Read each CSV file and store in a list of DataFrames\\ndatadfs = [pd.read_csv(file) for file in data_path]\\nlabeldfs = [pd.read_csv(file) for file in label_path]\\n\\n# Step 3: Concatenate all DataFrames into one\\nfinal_data_df = pd.concat(datadfs, ignore_index=True)\\nfinal_label_df = pd.concat(labeldfs, ignore_index=True)'"
      ]
     },
     "execution_count": 3,
     "metadata": {},
     "output_type": "execute_result"
    }
   ],
   "source": [
    "\"\"\"# Step 1: Get a list of all CSV file paths in the directory\n",
    "data_path = glob.glob(\"D:\\PythonProjs\\CLARAi\\Data\\*.csv\")  # Modify with your directory path\n",
    "label_path = glob.glob(\"D:\\PythonProjs\\CLARAi\\Label\\*.csv\")\n",
    "\n",
    "# Step 2: Read each CSV file and store in a list of DataFrames\n",
    "datadfs = [pd.read_csv(file) for file in data_path]\n",
    "labeldfs = [pd.read_csv(file) for file in label_path]\n",
    "\n",
    "# Step 3: Concatenate all DataFrames into one\n",
    "final_data_df = pd.concat(datadfs, ignore_index=True)\n",
    "final_label_df = pd.concat(labeldfs, ignore_index=True)\"\"\""
   ]
  },
  {
   "cell_type": "code",
   "execution_count": 4,
   "id": "ee5fe3f8",
   "metadata": {
    "execution": {
     "iopub.execute_input": "2024-10-03T13:55:40.430186Z",
     "iopub.status.busy": "2024-10-03T13:55:40.429919Z",
     "iopub.status.idle": "2024-10-03T13:55:40.437900Z",
     "shell.execute_reply": "2024-10-03T13:55:40.437136Z"
    },
    "papermill": {
     "duration": 0.016604,
     "end_time": "2024-10-03T13:55:40.439697",
     "exception": false,
     "start_time": "2024-10-03T13:55:40.423093",
     "status": "completed"
    },
    "tags": []
   },
   "outputs": [],
   "source": [
    "def data_gen(data_path, label_path):\n",
    "    final_data_df = pd.read_csv(data_path)\n",
    "    final_label_df = pd.read_csv(label_path)\n",
    "\n",
    "    train_labels_flat = final_label_df.values.flatten()\n",
    "    \n",
    "    # Compute class weights (inverse of class frequencies)\n",
    "    class_weights = compute_class_weight(class_weight='balanced', classes=np.unique(train_labels_flat), y=train_labels_flat)\n",
    "    class_weights = torch.tensor(class_weights, dtype=torch.float32)\n",
    "\n",
    "    # Parameters\n",
    "    sequence_length = 256  # Length of each subsequence\n",
    "    num_subsequences = 500  # Number of subsequences to extract\n",
    "\n",
    "    # Get possible starting indices, ensuring there's enough space for a full subsequence\n",
    "    possible_starts = np.arange(0, len(final_data_df) - sequence_length + 1)\n",
    "    np.random.shuffle(possible_starts)\n",
    "\n",
    "    # Select the first `num_subsequences` starting indices\n",
    "    selected_starts = possible_starts[:num_subsequences]\n",
    "\n",
    "    # Create a list to hold the subsequences\n",
    "    subsequences = [final_data_df.iloc[start:start + sequence_length].values for start in selected_starts]\n",
    "    sublabels = [final_label_df.iloc[start:start + sequence_length].values for start in selected_starts]\n",
    "\n",
    "    # Convert subsequences list to a NumPy array\n",
    "    subsequences_array = np.array(subsequences)\n",
    "    sublabels_array = np.array(sublabels)\n",
    "\n",
    "    # subsequences_array will have shape (num_subsequences, sequence_length, num_channels)\n",
    "    # print(subsequences_array.shape)  # Should print (100, 100, 36)\n",
    "    # print(sublabels_array.shape)\n",
    "\n",
    "    return torch.from_numpy(subsequences_array), torch.from_numpy(sublabels_array), class_weights\n"
   ]
  },
  {
   "cell_type": "code",
   "execution_count": 5,
   "id": "fcfbd890",
   "metadata": {
    "execution": {
     "iopub.execute_input": "2024-10-03T13:55:40.454290Z",
     "iopub.status.busy": "2024-10-03T13:55:40.453771Z",
     "iopub.status.idle": "2024-10-03T13:55:40.462967Z",
     "shell.execute_reply": "2024-10-03T13:55:40.462167Z"
    },
    "papermill": {
     "duration": 0.019055,
     "end_time": "2024-10-03T13:55:40.464862",
     "exception": false,
     "start_time": "2024-10-03T13:55:40.445807",
     "status": "completed"
    },
    "tags": []
   },
   "outputs": [],
   "source": [
    "\n",
    "# Sample time series data with shape (batch_size, sequence_length, num_features)\n",
    "# neuroimaging_data: Time series data from multiple neuroimaging channels\n",
    "# labels: Binary labels (0 = no pain, 1 = pain) for each time step\n",
    "# Assume neuroimaging_data is a numpy array of shape (num_samples, sequence_length, num_channels)\n",
    "# labels is a numpy array of shape (num_samples, sequence_length)\n",
    "\n",
    "class BidirectionalLSTMClassifier(nn.Module):\n",
    "    def __init__(self, input_size, hidden_size, output_size, num_layers=1):\n",
    "        super(BidirectionalLSTMClassifier, self).__init__()\n",
    "        self.hidden_size = hidden_size\n",
    "        self.num_layers = num_layers\n",
    "        self.lstm = nn.LSTM(input_size, hidden_size, num_layers, batch_first=True, bidirectional=True)\n",
    "        \n",
    "        # Adjust the fully connected layer to account for doubled hidden size (forward + backward)\n",
    "        self.fc = nn.Linear(hidden_size * 2, output_size)\n",
    "        self.batch_norm = nn.BatchNorm1d(hidden_size * 2)  # Adjust Batch Normalization for bidirectional\n",
    "        self.sigmoid = nn.Sigmoid()\n",
    "\n",
    "    def forward(self, x):\n",
    "        # Initialize hidden state and cell state with zeros for both directions\n",
    "        h0 = torch.zeros(self.num_layers * 2, x.size(0), self.hidden_size).to(x.device)  # *2 for bidirectional\n",
    "        c0 = torch.zeros(self.num_layers * 2, x.size(0), self.hidden_size).to(x.device)\n",
    "\n",
    "        # LSTM forward pass\n",
    "        out, _ = self.lstm(x, (h0, c0))\n",
    "        \n",
    "        # Apply batch normalization\n",
    "        # Permute to (batch_size, hidden_size*2, sequence_length) for batch norm\n",
    "        out = out.permute(0, 2, 1)\n",
    "        out = self.batch_norm(out)\n",
    "        \n",
    "        # Permute back to (batch_size, sequence_length, hidden_size*2)\n",
    "        out = out.permute(0, 2, 1)\n",
    "        \n",
    "        # Apply the linear layer to each time step\n",
    "        out = self.fc(out)\n",
    "        \n",
    "        return self.sigmoid(out)\n"
   ]
  },
  {
   "cell_type": "code",
   "execution_count": 6,
   "id": "e9ba073a",
   "metadata": {
    "execution": {
     "iopub.execute_input": "2024-10-03T13:55:40.478345Z",
     "iopub.status.busy": "2024-10-03T13:55:40.477764Z",
     "iopub.status.idle": "2024-10-03T13:55:40.495751Z",
     "shell.execute_reply": "2024-10-03T13:55:40.495102Z"
    },
    "papermill": {
     "duration": 0.026697,
     "end_time": "2024-10-03T13:55:40.497535",
     "exception": false,
     "start_time": "2024-10-03T13:55:40.470838",
     "status": "completed"
    },
    "tags": []
   },
   "outputs": [],
   "source": [
    "# data_path = glob.glob(\"D:\\PythonProjs\\CLARAi\\Data_train\\*.csv\")  # Modify with your directory path\n",
    "# label_path = glob.glob(\"D:\\PythonProjs\\CLARAi\\Label_train\\*.csv\")\n",
    "\n",
    "# data_path = glob.glob(\"/home/frank/Documents/CLARAi/Data/*.csv\")  # Modify with your directory path\n",
    "# label_path = glob.glob(\"/home/frank/Documents/CLARAi/Label/*.csv\")\n",
    "\n",
    "# data_path = glob.glob(\"/Users/xiaosuhu/Documents/Python/CLARAi/Data/*.csv\")  # Modify with your directory path\n",
    "# label_path = glob.glob(\"/Users/xiaosuhu/Documents/Python/CLARAi/Data/*.csv\")\n",
    "\n",
    "data_path = glob.glob(\"/kaggle/input/CLARAi/Data_train/*.csv\")  # Modify with your directory path\n",
    "label_path = glob.glob(\"/kaggle/input/CLARAi/Label_train/*.csv\")\n",
    "\n",
    "# Sort the lists\n",
    "data_path = sorted(data_path)\n",
    "label_path = sorted(label_path)\n"
   ]
  },
  {
   "cell_type": "code",
   "execution_count": 7,
   "id": "efa53799",
   "metadata": {
    "execution": {
     "iopub.execute_input": "2024-10-03T13:55:40.510848Z",
     "iopub.status.busy": "2024-10-03T13:55:40.510589Z",
     "iopub.status.idle": "2024-10-03T13:55:40.516057Z",
     "shell.execute_reply": "2024-10-03T13:55:40.515288Z"
    },
    "papermill": {
     "duration": 0.01436,
     "end_time": "2024-10-03T13:55:40.518054",
     "exception": false,
     "start_time": "2024-10-03T13:55:40.503694",
     "status": "completed"
    },
    "tags": []
   },
   "outputs": [
    {
     "data": {
      "text/plain": [
       "['/kaggle/input/CLARAi/Data_train/data1.csv',\n",
       " '/kaggle/input/CLARAi/Data_train/data10.csv',\n",
       " '/kaggle/input/CLARAi/Data_train/data11.csv',\n",
       " '/kaggle/input/CLARAi/Data_train/data12.csv',\n",
       " '/kaggle/input/CLARAi/Data_train/data13.csv',\n",
       " '/kaggle/input/CLARAi/Data_train/data16.csv',\n",
       " '/kaggle/input/CLARAi/Data_train/data17.csv',\n",
       " '/kaggle/input/CLARAi/Data_train/data3.csv',\n",
       " '/kaggle/input/CLARAi/Data_train/data4.csv',\n",
       " '/kaggle/input/CLARAi/Data_train/data5.csv',\n",
       " '/kaggle/input/CLARAi/Data_train/data6.csv',\n",
       " '/kaggle/input/CLARAi/Data_train/data7.csv',\n",
       " '/kaggle/input/CLARAi/Data_train/data8.csv',\n",
       " '/kaggle/input/CLARAi/Data_train/data9.csv']"
      ]
     },
     "execution_count": 7,
     "metadata": {},
     "output_type": "execute_result"
    }
   ],
   "source": [
    "data_path"
   ]
  },
  {
   "cell_type": "code",
   "execution_count": 8,
   "id": "8f081a8a",
   "metadata": {
    "execution": {
     "iopub.execute_input": "2024-10-03T13:55:40.531329Z",
     "iopub.status.busy": "2024-10-03T13:55:40.531055Z",
     "iopub.status.idle": "2024-10-03T13:55:40.550507Z",
     "shell.execute_reply": "2024-10-03T13:55:40.549817Z"
    },
    "papermill": {
     "duration": 0.028105,
     "end_time": "2024-10-03T13:55:40.552297",
     "exception": false,
     "start_time": "2024-10-03T13:55:40.524192",
     "status": "completed"
    },
    "tags": []
   },
   "outputs": [],
   "source": [
    "\n",
    "# data_path = \"D:\\PythonProjs\\CLARAi\\Data\\data1.csv\"\n",
    "# label_path = \"D:\\PythonProjs\\CLARAi\\Label\\label1.csv\"\n",
    "neuroimaging_data = torch.empty(0,256,36)\n",
    "labels = torch.empty(0,256,1)\n",
    "class_weights = torch.Tensor([0., 0.])"
   ]
  },
  {
   "cell_type": "code",
   "execution_count": 9,
   "id": "e01c08b3",
   "metadata": {
    "execution": {
     "iopub.execute_input": "2024-10-03T13:55:40.565733Z",
     "iopub.status.busy": "2024-10-03T13:55:40.565453Z",
     "iopub.status.idle": "2024-10-03T13:55:43.242680Z",
     "shell.execute_reply": "2024-10-03T13:55:43.241806Z"
    },
    "papermill": {
     "duration": 2.686544,
     "end_time": "2024-10-03T13:55:43.245059",
     "exception": false,
     "start_time": "2024-10-03T13:55:40.558515",
     "status": "completed"
    },
    "tags": []
   },
   "outputs": [
    {
     "name": "stdout",
     "output_type": "stream",
     "text": [
      "datapath: /kaggle/input/CLARAi/Data_train/data1.csv\n",
      "labelpath: /kaggle/input/CLARAi/Label_train/label1.csv\n",
      "Data shape: torch.Size([500, 256, 36]), Label shape: torch.Size([500, 256, 1]), Weight shape: torch.Size([2])\n",
      "datapath: /kaggle/input/CLARAi/Data_train/data10.csv\n",
      "labelpath: /kaggle/input/CLARAi/Label_train/label10.csv\n",
      "Data shape: torch.Size([500, 256, 36]), Label shape: torch.Size([500, 256, 1]), Weight shape: torch.Size([2])\n",
      "datapath: /kaggle/input/CLARAi/Data_train/data11.csv\n",
      "labelpath: /kaggle/input/CLARAi/Label_train/label11.csv\n",
      "Data shape: torch.Size([500, 256, 36]), Label shape: torch.Size([500, 256, 1]), Weight shape: torch.Size([2])\n",
      "datapath: /kaggle/input/CLARAi/Data_train/data12.csv\n",
      "labelpath: /kaggle/input/CLARAi/Label_train/label12.csv\n",
      "Data shape: torch.Size([495, 256, 36]), Label shape: torch.Size([495, 256, 1]), Weight shape: torch.Size([2])\n",
      "datapath: /kaggle/input/CLARAi/Data_train/data13.csv\n",
      "labelpath: /kaggle/input/CLARAi/Label_train/label13.csv\n",
      "Data shape: torch.Size([500, 256, 36]), Label shape: torch.Size([500, 256, 1]), Weight shape: torch.Size([2])\n",
      "datapath: /kaggle/input/CLARAi/Data_train/data16.csv\n",
      "labelpath: /kaggle/input/CLARAi/Label_train/label16.csv\n",
      "Data shape: torch.Size([500, 256, 36]), Label shape: torch.Size([500, 256, 1]), Weight shape: torch.Size([2])\n",
      "datapath: /kaggle/input/CLARAi/Data_train/data17.csv\n",
      "labelpath: /kaggle/input/CLARAi/Label_train/label17.csv\n",
      "Data shape: torch.Size([500, 256, 36]), Label shape: torch.Size([500, 256, 1]), Weight shape: torch.Size([2])\n",
      "datapath: /kaggle/input/CLARAi/Data_train/data3.csv\n",
      "labelpath: /kaggle/input/CLARAi/Label_train/label3.csv\n",
      "Data shape: torch.Size([500, 256, 36]), Label shape: torch.Size([500, 256, 1]), Weight shape: torch.Size([2])\n",
      "datapath: /kaggle/input/CLARAi/Data_train/data4.csv\n",
      "labelpath: /kaggle/input/CLARAi/Label_train/label4.csv\n",
      "Data shape: torch.Size([500, 256, 36]), Label shape: torch.Size([500, 256, 1]), Weight shape: torch.Size([2])\n",
      "datapath: /kaggle/input/CLARAi/Data_train/data5.csv\n",
      "labelpath: /kaggle/input/CLARAi/Label_train/label5.csv\n",
      "Data shape: torch.Size([500, 256, 36]), Label shape: torch.Size([500, 256, 1]), Weight shape: torch.Size([2])\n",
      "datapath: /kaggle/input/CLARAi/Data_train/data6.csv\n",
      "labelpath: /kaggle/input/CLARAi/Label_train/label6.csv\n",
      "Data shape: torch.Size([500, 256, 36]), Label shape: torch.Size([500, 256, 1]), Weight shape: torch.Size([2])\n",
      "datapath: /kaggle/input/CLARAi/Data_train/data7.csv\n",
      "labelpath: /kaggle/input/CLARAi/Label_train/label7.csv\n",
      "Data shape: torch.Size([500, 256, 36]), Label shape: torch.Size([500, 256, 1]), Weight shape: torch.Size([2])\n",
      "datapath: /kaggle/input/CLARAi/Data_train/data8.csv\n",
      "labelpath: /kaggle/input/CLARAi/Label_train/label8.csv\n",
      "Data shape: torch.Size([500, 256, 36]), Label shape: torch.Size([500, 256, 1]), Weight shape: torch.Size([2])\n",
      "datapath: /kaggle/input/CLARAi/Data_train/data9.csv\n",
      "labelpath: /kaggle/input/CLARAi/Label_train/label9.csv\n",
      "Data shape: torch.Size([500, 256, 36]), Label shape: torch.Size([500, 256, 1]), Weight shape: torch.Size([2])\n"
     ]
    }
   ],
   "source": [
    "\n",
    "for datapath, labelpath in zip(data_path, label_path):\n",
    "    print(f'datapath: {datapath}')\n",
    "    print(f'labelpath: {labelpath}')    \n",
    "    data, label, weight = data_gen(datapath, labelpath)\n",
    "    print(f'Data shape: {data.shape}, Label shape: {label.shape}, Weight shape: {weight.shape}')\n",
    "    neuroimaging_data= torch.cat([neuroimaging_data, data])\n",
    "    labels = torch.cat([labels, label])\n",
    "    class_weights += weight\n",
    "\n",
    "normalized_weights = class_weights / class_weights.sum()\n"
   ]
  },
  {
   "cell_type": "code",
   "execution_count": 10,
   "id": "b5fee5da",
   "metadata": {
    "execution": {
     "iopub.execute_input": "2024-10-03T13:55:43.261976Z",
     "iopub.status.busy": "2024-10-03T13:55:43.261657Z",
     "iopub.status.idle": "2024-10-03T13:55:43.268058Z",
     "shell.execute_reply": "2024-10-03T13:55:43.267191Z"
    },
    "papermill": {
     "duration": 0.01692,
     "end_time": "2024-10-03T13:55:43.269995",
     "exception": false,
     "start_time": "2024-10-03T13:55:43.253075",
     "status": "completed"
    },
    "tags": []
   },
   "outputs": [
    {
     "data": {
      "text/plain": [
       "(torch.Size([6995, 256, 36]), torch.Size([6995, 256, 1]))"
      ]
     },
     "execution_count": 10,
     "metadata": {},
     "output_type": "execute_result"
    }
   ],
   "source": [
    "neuroimaging_data.shape, labels.shape"
   ]
  },
  {
   "cell_type": "code",
   "execution_count": 11,
   "id": "03990b2a",
   "metadata": {
    "execution": {
     "iopub.execute_input": "2024-10-03T13:55:43.286359Z",
     "iopub.status.busy": "2024-10-03T13:55:43.286049Z",
     "iopub.status.idle": "2024-10-03T13:55:43.315986Z",
     "shell.execute_reply": "2024-10-03T13:55:43.314822Z"
    },
    "papermill": {
     "duration": 0.040374,
     "end_time": "2024-10-03T13:55:43.317975",
     "exception": false,
     "start_time": "2024-10-03T13:55:43.277601",
     "status": "completed"
    },
    "tags": []
   },
   "outputs": [
    {
     "name": "stdout",
     "output_type": "stream",
     "text": [
      "Number of 0s: 1369541Number of 1s: 421179 Ratio is 0.23520092476769122\n"
     ]
    }
   ],
   "source": [
    "# Count the number of 1s\n",
    "num_zeros = torch.sum(labels == 0).item()\n",
    "num_ones = torch.sum(labels == 1).item()\n",
    "\n",
    "print(f\"Number of 0s: {num_zeros}Number of 1s: {num_ones} Ratio is {num_ones/(num_ones + num_zeros)}\")"
   ]
  },
  {
   "cell_type": "code",
   "execution_count": 12,
   "id": "a24d30b6",
   "metadata": {
    "execution": {
     "iopub.execute_input": "2024-10-03T13:55:43.334600Z",
     "iopub.status.busy": "2024-10-03T13:55:43.334297Z",
     "iopub.status.idle": "2024-10-03T13:55:45.517306Z",
     "shell.execute_reply": "2024-10-03T13:55:45.516543Z"
    },
    "papermill": {
     "duration": 2.193896,
     "end_time": "2024-10-03T13:55:45.519574",
     "exception": false,
     "start_time": "2024-10-03T13:55:43.325678",
     "status": "completed"
    },
    "tags": []
   },
   "outputs": [
    {
     "name": "stderr",
     "output_type": "stream",
     "text": [
      "/tmp/ipykernel_23/2037846807.py:16: UserWarning: To copy construct from a tensor, it is recommended to use sourceTensor.clone().detach() or sourceTensor.clone().detach().requires_grad_(True), rather than torch.tensor(sourceTensor).\n",
      "  train_data, test_data = torch.tensor(train_data, dtype=torch.float32).to(device), torch.tensor(test_data, dtype=torch.float32).to(device)\n",
      "/tmp/ipykernel_23/2037846807.py:17: UserWarning: To copy construct from a tensor, it is recommended to use sourceTensor.clone().detach() or sourceTensor.clone().detach().requires_grad_(True), rather than torch.tensor(sourceTensor).\n",
      "  train_labels, test_labels = torch.tensor(train_labels, dtype=torch.float32).to(device), torch.tensor(test_labels, dtype=torch.float32).to(device)\n"
     ]
    }
   ],
   "source": [
    "# Hyperparameters\n",
    "input_size = neuroimaging_data.shape[2]  # Number of features (channels)\n",
    "hidden_size = 32  # Hidden state size of the GRU\n",
    "output_size = 1  # Binary classification\n",
    "num_layers = 6  # Number of GRU layers\n",
    "learning_rate = 0.001\n",
    "num_epochs = 300\n",
    "batch_size = 8\n",
    "\n",
    "# Preprocessing (e.g., normalization)\n",
    "# scaler = StandardScaler()\n",
    "# neuroimaging_data = scaler.fit_transform(neuroimaging_data.reshape(-1, input_size)).reshape(neuroimaging_data.shape)\n",
    "\n",
    "# Convert numpy arrays to PyTorch tensors\n",
    "train_data, test_data, train_labels, test_labels = train_test_split(neuroimaging_data, labels, test_size=0.2, random_state=42)\n",
    "train_data, test_data = torch.tensor(train_data, dtype=torch.float32).to(device), torch.tensor(test_data, dtype=torch.float32).to(device)\n",
    "train_labels, test_labels = torch.tensor(train_labels, dtype=torch.float32).to(device), torch.tensor(test_labels, dtype=torch.float32).to(device)\n",
    "\n",
    "\n",
    "# Create GRU model\n",
    "model = BidirectionalLSTMClassifier(input_size, hidden_size, output_size, num_layers)\n",
    "model = torch.nn.DataParallel(model)\n",
    "model.to(device)\n",
    "\n",
    "# Loss and optimizer\n",
    "# criterion = nn.BCELoss()  # Binary Cross Entropy Loss for binary classification\n",
    "\n",
    "\n",
    "# Convert the class weights to a tensor and move to the appropriate device\n",
    "class_weights = class_weights.to(device)\n",
    "\n",
    "# Use BCEWithLogitsLoss, which combines sigmoid activation and binary cross-entropy loss\n",
    "criterion = nn.BCEWithLogitsLoss(pos_weight=normalized_weights[0])  # pos_weight applies only to class 1\n",
    "\n",
    "# optimizer = optim.Adam(model.parameters(), lr=learning_rate)\n",
    "optimizer = optim.Adam(model.parameters(), lr=learning_rate, weight_decay=1e-5)\n",
    "scheduler = torch.optim.lr_scheduler.ReduceLROnPlateau(optimizer, mode='min', factor=0.1, patience=20)"
   ]
  },
  {
   "cell_type": "code",
   "execution_count": 13,
   "id": "31aa4525",
   "metadata": {
    "execution": {
     "iopub.execute_input": "2024-10-03T13:55:45.537617Z",
     "iopub.status.busy": "2024-10-03T13:55:45.537163Z",
     "iopub.status.idle": "2024-10-03T13:57:59.193312Z",
     "shell.execute_reply": "2024-10-03T13:57:59.192391Z"
    },
    "papermill": {
     "duration": 133.667708,
     "end_time": "2024-10-03T13:57:59.195538",
     "exception": false,
     "start_time": "2024-10-03T13:55:45.527830",
     "status": "completed"
    },
    "tags": []
   },
   "outputs": [
    {
     "name": "stderr",
     "output_type": "stream",
     "text": [
      "/opt/conda/lib/python3.10/site-packages/torch/nn/parallel/parallel_apply.py:79: FutureWarning: `torch.cuda.amp.autocast(args...)` is deprecated. Please use `torch.amp.autocast('cuda', args...)` instead.\n",
      "  with torch.cuda.device(device), torch.cuda.stream(stream), autocast(enabled=autocast_enabled):\n"
     ]
    },
    {
     "name": "stdout",
     "output_type": "stream",
     "text": [
      "Epoch [5/300], Train Loss: 0.7499, Val Loss: 0.7648\n",
      "Epoch [10/300], Train Loss: 0.6930, Val Loss: 0.7649\n",
      "Epoch [15/300], Train Loss: 0.6611, Val Loss: 0.7621\n",
      "Epoch [20/300], Train Loss: 0.6504, Val Loss: 0.7537\n",
      "Epoch [25/300], Train Loss: 0.6425, Val Loss: 0.7411\n",
      "Epoch [30/300], Train Loss: 0.6354, Val Loss: 0.7308\n",
      "Epoch [35/300], Train Loss: 0.6295, Val Loss: 0.7009\n",
      "Epoch [40/300], Train Loss: 0.6241, Val Loss: 0.6656\n",
      "Epoch [45/300], Train Loss: 0.6188, Val Loss: 0.6371\n",
      "Epoch [50/300], Train Loss: 0.6142, Val Loss: 0.6221\n",
      "Epoch [55/300], Train Loss: 0.6102, Val Loss: 0.6105\n",
      "Epoch [60/300], Train Loss: 0.6066, Val Loss: 0.6066\n",
      "Epoch [65/300], Train Loss: 0.6038, Val Loss: 0.6017\n",
      "Epoch [70/300], Train Loss: 0.5992, Val Loss: 0.5965\n",
      "Epoch [75/300], Train Loss: 0.5972, Val Loss: 0.5958\n",
      "Epoch [80/300], Train Loss: 0.5960, Val Loss: 0.5955\n",
      "Epoch [85/300], Train Loss: 0.5953, Val Loss: 0.5944\n",
      "Epoch [90/300], Train Loss: 0.5946, Val Loss: 0.5933\n",
      "Epoch [95/300], Train Loss: 0.5940, Val Loss: 0.5927\n",
      "Epoch [100/300], Train Loss: 0.5935, Val Loss: 0.5923\n",
      "Epoch [105/300], Train Loss: 0.5931, Val Loss: 0.5919\n",
      "Epoch [110/300], Train Loss: 0.5927, Val Loss: 0.5914\n",
      "Epoch [115/300], Train Loss: 0.5924, Val Loss: 0.5912\n",
      "Epoch [120/300], Train Loss: 0.5921, Val Loss: 0.5909\n",
      "Epoch [125/300], Train Loss: 0.5918, Val Loss: 0.5905\n",
      "Epoch [130/300], Train Loss: 0.5917, Val Loss: 0.5902\n",
      "Epoch [135/300], Train Loss: 0.5915, Val Loss: 0.5900\n",
      "Epoch [140/300], Train Loss: 0.5914, Val Loss: 0.5898\n",
      "Epoch [145/300], Train Loss: 0.5912, Val Loss: 0.5896\n",
      "Epoch [150/300], Train Loss: 0.5911, Val Loss: 0.5895\n",
      "Epoch [155/300], Train Loss: 0.5907, Val Loss: 0.5885\n",
      "Epoch [160/300], Train Loss: 0.5793, Val Loss: 0.5789\n",
      "Epoch [165/300], Train Loss: 0.5789, Val Loss: 0.5785\n",
      "Epoch [170/300], Train Loss: 0.5782, Val Loss: 0.5776\n",
      "Epoch [175/300], Train Loss: 0.5582, Val Loss: 0.5547\n",
      "Epoch [180/300], Train Loss: 0.5569, Val Loss: 0.5546\n",
      "Epoch [185/300], Train Loss: 0.5561, Val Loss: 0.5549\n",
      "Epoch [190/300], Train Loss: 0.5554, Val Loss: 0.5544\n",
      "Epoch [195/300], Train Loss: 0.5547, Val Loss: 0.5541\n",
      "Epoch [200/300], Train Loss: 0.5543, Val Loss: 0.5536\n",
      "Epoch [205/300], Train Loss: 0.5540, Val Loss: 0.5535\n",
      "Epoch [210/300], Train Loss: 0.5537, Val Loss: 0.5533\n",
      "Epoch [215/300], Train Loss: 0.5536, Val Loss: 0.5532\n",
      "Epoch [220/300], Train Loss: 0.5534, Val Loss: 0.5530\n",
      "Epoch [225/300], Train Loss: 0.5532, Val Loss: 0.5528\n",
      "Epoch [230/300], Train Loss: 0.5530, Val Loss: 0.5526\n",
      "Epoch [235/300], Train Loss: 0.5529, Val Loss: 0.5524\n",
      "Epoch [240/300], Train Loss: 0.5528, Val Loss: 0.5523\n",
      "Epoch [245/300], Train Loss: 0.5527, Val Loss: 0.5521\n",
      "Epoch [250/300], Train Loss: 0.5526, Val Loss: 0.5520\n",
      "Epoch [255/300], Train Loss: 0.5525, Val Loss: 0.5520\n",
      "Epoch [260/300], Train Loss: 0.5524, Val Loss: 0.5519\n",
      "Epoch [265/300], Train Loss: 0.5524, Val Loss: 0.5518\n",
      "Epoch [270/300], Train Loss: 0.5523, Val Loss: 0.5518\n",
      "Epoch [275/300], Train Loss: 0.5522, Val Loss: 0.5517\n",
      "Epoch [280/300], Train Loss: 0.5522, Val Loss: 0.5517\n",
      "Epoch [285/300], Train Loss: 0.5521, Val Loss: 0.5516\n",
      "Epoch [290/300], Train Loss: 0.5521, Val Loss: 0.5516\n",
      "Epoch [295/300], Train Loss: 0.5521, Val Loss: 0.5516\n",
      "Epoch [300/300], Train Loss: 0.5521, Val Loss: 0.5515\n"
     ]
    }
   ],
   "source": [
    "# Training loop\n",
    "for epoch in range(num_epochs):\n",
    "    model.train()  # Set model to training mode\n",
    "    optimizer.zero_grad()\n",
    "    \n",
    "    # Forward pass (training)\n",
    "    outputs = model(train_data)\n",
    "    loss = criterion(outputs, train_labels)\n",
    "    \n",
    "    # Backward pass and optimization\n",
    "    loss.backward()\n",
    "    \n",
    "    # Clip gradients to prevent exploding gradients\n",
    "    torch.nn.utils.clip_grad_norm_(model.parameters(), max_norm=1.0)\n",
    "    \n",
    "    optimizer.step()\n",
    "\n",
    "    # Validation phase (no gradient calculations)\n",
    "    model.eval()  # Set model to evaluation mode\n",
    "    with torch.no_grad():  # Disable gradient calculation for validation\n",
    "        val_outputs = model(test_data)\n",
    "        val_loss = criterion(val_outputs, test_labels)\n",
    "\n",
    "    # Update learning rate if validation loss plateaus\n",
    "    scheduler.step(val_loss)\n",
    "\n",
    "    # Print loss every 5 epochs\n",
    "    if (epoch + 1) % 5 == 0:\n",
    "        print(f'Epoch [{epoch+1}/{num_epochs}], Train Loss: {loss.item():.4f}, Val Loss: {val_loss.item():.4f}')\n"
   ]
  },
  {
   "cell_type": "code",
   "execution_count": 14,
   "id": "84ad6da4",
   "metadata": {
    "execution": {
     "iopub.execute_input": "2024-10-03T13:57:59.227408Z",
     "iopub.status.busy": "2024-10-03T13:57:59.226576Z",
     "iopub.status.idle": "2024-10-03T13:57:59.238344Z",
     "shell.execute_reply": "2024-10-03T13:57:59.237610Z"
    },
    "papermill": {
     "duration": 0.029641,
     "end_time": "2024-10-03T13:57:59.240300",
     "exception": false,
     "start_time": "2024-10-03T13:57:59.210659",
     "status": "completed"
    },
    "tags": []
   },
   "outputs": [],
   "source": [
    "# After the training loop\n",
    "# torch.save(model.state_dict(), 'D:\\PythonProjs\\CLARAi\\Trained_model_weights\\lstm_bidi_model_state_dict_data_300_ep_200.pth')\n",
    "torch.save(model.state_dict(), '/kaggle/working/lstm_bidi_model_state_dict_data_300_ep_200.pth')\n",
    "# print(\"Model state_dict saved to 'lstm_unidi_model_state_dict.pth'\")"
   ]
  },
  {
   "cell_type": "code",
   "execution_count": 15,
   "id": "9a665bef",
   "metadata": {
    "execution": {
     "iopub.execute_input": "2024-10-03T13:57:59.271784Z",
     "iopub.status.busy": "2024-10-03T13:57:59.270895Z",
     "iopub.status.idle": "2024-10-03T13:58:00.033758Z",
     "shell.execute_reply": "2024-10-03T13:58:00.032910Z"
    },
    "papermill": {
     "duration": 0.78065,
     "end_time": "2024-10-03T13:58:00.035788",
     "exception": false,
     "start_time": "2024-10-03T13:57:59.255138",
     "status": "completed"
    },
    "tags": []
   },
   "outputs": [
    {
     "name": "stdout",
     "output_type": "stream",
     "text": [
      "Accuracy: 93.94%\n",
      "Confusion Matrix:\n",
      "[[273461    117]\n",
      " [ 21584  62982]]\n"
     ]
    },
    {
     "data": {
      "image/png": "[encoded data removed]",
      "text/plain": [
       "<Figure size 600x400 with 2 Axes>"
      ]
     },
     "metadata": {},
     "output_type": "display_data"
    }
   ],
   "source": [
    "\n",
    "model.eval()\n",
    "with torch.no_grad():\n",
    "    test_outputs = model(test_data)\n",
    "    predicted = (test_outputs > 0.5).float()  # Threshold at 0.5 for binary classification\n",
    "    \n",
    "    # Calculate accuracy\n",
    "    accuracy = (predicted == test_labels).float().mean()\n",
    "    print(f'Accuracy: {accuracy.item() * 100:.2f}%')\n",
    "\n",
    "    # Flatten the predicted and test labels for confusion matrix calculation\n",
    "    predicted_flat = predicted.cpu().numpy().flatten()\n",
    "    test_labels_flat = test_labels.cpu().numpy().flatten()\n",
    "\n",
    "    # Generate the confusion matrix\n",
    "    cm = confusion_matrix(test_labels_flat, predicted_flat)\n",
    "    print(f'Confusion Matrix:\\n{cm}')\n",
    "\n",
    "    # Optional: plot the confusion matrix for visualization\n",
    "    plt.figure(figsize=(6,4))\n",
    "    sns.heatmap(cm, annot=True, fmt=\"d\", cmap=\"Blues\", xticklabels=['No Pain', 'Pain'], yticklabels=['No Pain', 'Pain'])\n",
    "    plt.ylabel('True Label')\n",
    "    plt.xlabel('Predicted Label')\n",
    "    plt.title('Confusion Matrix')\n",
    "    plt.show()\n"
   ]
  },
  {
   "cell_type": "code",
   "execution_count": 16,
   "id": "7640b996",
   "metadata": {
    "execution": {
     "iopub.execute_input": "2024-10-03T13:58:00.063488Z",
     "iopub.status.busy": "2024-10-03T13:58:00.063152Z",
     "iopub.status.idle": "2024-10-03T13:58:00.071143Z",
     "shell.execute_reply": "2024-10-03T13:58:00.070430Z"
    },
    "papermill": {
     "duration": 0.023687,
     "end_time": "2024-10-03T13:58:00.073004",
     "exception": false,
     "start_time": "2024-10-03T13:58:00.049317",
     "status": "completed"
    },
    "tags": []
   },
   "outputs": [],
   "source": [
    "def plot_roc_auc(model, test_data, test_labels):\n",
    "    model.eval()\n",
    "    with torch.no_grad():\n",
    "        # Get the raw logits (before applying sigmoid)\n",
    "        test_outputs = model(test_data)\n",
    "        \n",
    "        # Convert test_labels and test_outputs to NumPy arrays for sklearn\n",
    "        test_labels_flat = test_labels.cpu().numpy().flatten()\n",
    "        test_outputs_flat = test_outputs.cpu().numpy().flatten()\n",
    "\n",
    "        # Calculate the false positive rate, true positive rate, and thresholds for the ROC curve\n",
    "        fpr, tpr, thresholds = roc_curve(test_labels_flat, test_outputs_flat)\n",
    "        \n",
    "        # Calculate the AUC score\n",
    "        roc_auc = auc(fpr, tpr)\n",
    "        \n",
    "        # Plot ROC curve\n",
    "        plt.figure(figsize=(8,6))\n",
    "        plt.plot(fpr, tpr, color='blue', label=f'ROC Curve (AUC = {roc_auc:.2f})')\n",
    "        plt.plot([0, 1], [0, 1], color='grey', linestyle='--')  # Random classifier line\n",
    "        plt.xlim([0.0, 1.0])\n",
    "        plt.ylim([0.0, 1.05])\n",
    "        plt.xlabel('False Positive Rate (FPR)')\n",
    "        plt.ylabel('True Positive Rate (TPR)')\n",
    "        plt.title('Receiver Operating Characteristic (ROC)')\n",
    "        plt.legend(loc='lower right')\n",
    "        plt.show()\n",
    "\n",
    "    return roc_auc"
   ]
  },
  {
   "cell_type": "code",
   "execution_count": 17,
   "id": "89b34769",
   "metadata": {
    "execution": {
     "iopub.execute_input": "2024-10-03T13:58:00.099854Z",
     "iopub.status.busy": "2024-10-03T13:58:00.099570Z",
     "iopub.status.idle": "2024-10-03T13:58:00.443507Z",
     "shell.execute_reply": "2024-10-03T13:58:00.442650Z"
    },
    "papermill": {
     "duration": 0.359984,
     "end_time": "2024-10-03T13:58:00.445906",
     "exception": false,
     "start_time": "2024-10-03T13:58:00.085922",
     "status": "completed"
    },
    "tags": []
   },
   "outputs": [
    {
     "name": "stderr",
     "output_type": "stream",
     "text": [
      "/opt/conda/lib/python3.10/site-packages/torch/nn/parallel/parallel_apply.py:79: FutureWarning: `torch.cuda.amp.autocast(args...)` is deprecated. Please use `torch.amp.autocast('cuda', args...)` instead.\n",
      "  with torch.cuda.device(device), torch.cuda.stream(stream), autocast(enabled=autocast_enabled):\n"
     ]
    },
    {
     "data": {
      "image/png": "[encoded data removed]",
      "text/plain": [
       "<Figure size 800x600 with 1 Axes>"
      ]
     },
     "metadata": {},
     "output_type": "display_data"
    },
    {
     "data": {
      "text/plain": [
       "0.963461212137736"
      ]
     },
     "execution_count": 17,
     "metadata": {},
     "output_type": "execute_result"
    }
   ],
   "source": [
    "plot_roc_auc(model, test_data, test_labels)"
   ]
  },
  {
   "cell_type": "code",
   "execution_count": 18,
   "id": "f22e423b",
   "metadata": {
    "execution": {
     "iopub.execute_input": "2024-10-03T13:58:00.475045Z",
     "iopub.status.busy": "2024-10-03T13:58:00.474723Z",
     "iopub.status.idle": "2024-10-03T13:58:00.515149Z",
     "shell.execute_reply": "2024-10-03T13:58:00.514296Z"
    },
    "papermill": {
     "duration": 0.057027,
     "end_time": "2024-10-03T13:58:00.517059",
     "exception": false,
     "start_time": "2024-10-03T13:58:00.460032",
     "status": "completed"
    },
    "tags": []
   },
   "outputs": [],
   "source": [
    "# Test data evaluation\n",
    "\n",
    "# data_test = pd.read_csv('D:\\PythonProjs\\CLARAi\\Data_test\\data18.csv')\n",
    "# label_test = pd.read_csv('D:\\PythonProjs\\CLARAi\\Label_test\\label18.csv')\n",
    "\n",
    "data_test = pd.read_csv('/kaggle/input/CLARAi/Data_test/data18.csv')\n",
    "label_test = pd.read_csv('/kaggle/input/CLARAi/Label_test/label18.csv')\n",
    "\n",
    "data_test= data_test.to_numpy()\n",
    "label_test = label_test.to_numpy()\n",
    "\n",
    "sequence_length = 256\n",
    "input_size = 36\n",
    "\n",
    "\n",
    "# Calculate the number of complete sequences\n",
    "num_sequences = data_test.shape[0] // sequence_length  # 5 sequences\n",
    "\n",
    "# Truncate the data to have only complete sequences\n",
    "truncated_data = data_test[:num_sequences * sequence_length]  # Shape: (1280, 36)\n",
    "\n",
    "# Reshape to (num_sequences, sequence_length, input_size)\n",
    "test_sequences = truncated_data.reshape(num_sequences, sequence_length, input_size)  # Shape: (5, 256, 36)\n",
    "\n",
    "# Convert to PyTorch tensor\n",
    "test_sequences = torch.tensor(test_sequences, dtype=torch.float32)\n"
   ]
  },
  {
   "cell_type": "code",
   "execution_count": 19,
   "id": "0c47b7c6",
   "metadata": {
    "execution": {
     "iopub.execute_input": "2024-10-03T13:58:00.546198Z",
     "iopub.status.busy": "2024-10-03T13:58:00.545688Z",
     "iopub.status.idle": "2024-10-03T13:58:00.579666Z",
     "shell.execute_reply": "2024-10-03T13:58:00.578791Z"
    },
    "papermill": {
     "duration": 0.050838,
     "end_time": "2024-10-03T13:58:00.581614",
     "exception": false,
     "start_time": "2024-10-03T13:58:00.530776",
     "status": "completed"
    },
    "tags": []
   },
   "outputs": [
    {
     "name": "stderr",
     "output_type": "stream",
     "text": [
      "/opt/conda/lib/python3.10/site-packages/torch/nn/parallel/parallel_apply.py:79: FutureWarning: `torch.cuda.amp.autocast(args...)` is deprecated. Please use `torch.amp.autocast('cuda', args...)` instead.\n",
      "  with torch.cuda.device(device), torch.cuda.stream(stream), autocast(enabled=autocast_enabled):\n"
     ]
    }
   ],
   "source": [
    "\n",
    "# Create DataLoader\n",
    "test_dataset = TensorDataset(test_sequences)\n",
    "test_loader = DataLoader(test_dataset, batch_size=2, shuffle=False)  # Adjust batch_size as needed\n",
    "\n",
    "# Perform inference\n",
    "all_outputs = []\n",
    "with torch.no_grad():\n",
    "    for batch in test_loader:\n",
    "        inputs = batch[0].to(device)  # (batch_size, 256, 36)\n",
    "        outputs = model(inputs)       # (batch_size, 256, 1)\n",
    "        all_outputs.append(outputs.cpu().numpy())\n",
    "\n",
    "# Concatenate all outputs\n",
    "all_outputs = np.concatenate(all_outputs, axis=0)  # Shape: (6, 256, 1)\n",
    "\n",
    "# Apply threshold to get binary predictions\n",
    "predictions = (all_outputs >= 0.5).astype(int)  # Shape: (6, 256, 1)\n",
    "predictions = predictions.squeeze(-1)           # Shape: (6, 256)\n",
    "# Flatten the predictions\n",
    "flattened_predictions = predictions.flatten()  # Shape: (1536,)\n",
    "\n",
    "true_label = label_test[:num_sequences * sequence_length].squeeze(-1)"
   ]
  },
  {
   "cell_type": "code",
   "execution_count": 20,
   "id": "bb77a537",
   "metadata": {
    "execution": {
     "iopub.execute_input": "2024-10-03T13:58:00.610400Z",
     "iopub.status.busy": "2024-10-03T13:58:00.610089Z",
     "iopub.status.idle": "2024-10-03T13:58:00.883405Z",
     "shell.execute_reply": "2024-10-03T13:58:00.882522Z"
    },
    "papermill": {
     "duration": 0.289812,
     "end_time": "2024-10-03T13:58:00.885261",
     "exception": false,
     "start_time": "2024-10-03T13:58:00.595449",
     "status": "completed"
    },
    "tags": []
   },
   "outputs": [
    {
     "name": "stdout",
     "output_type": "stream",
     "text": [
      "Confusion Matrix:\n",
      "[[587 226]\n",
      " [138  73]]\n",
      "\n",
      "Classification Report:\n",
      "              precision    recall  f1-score   support\n",
      "\n",
      "           0       0.81      0.72      0.76       813\n",
      "           1       0.24      0.35      0.29       211\n",
      "\n",
      "    accuracy                           0.64      1024\n",
      "   macro avg       0.53      0.53      0.52      1024\n",
      "weighted avg       0.69      0.64      0.67      1024\n",
      "\n"
     ]
    },
    {
     "data": {
      "image/png": "[encoded data removed]",
      "text/plain": [
       "<Figure size 600x500 with 2 Axes>"
      ]
     },
     "metadata": {},
     "output_type": "display_data"
    }
   ],
   "source": [
    "cm = confusion_matrix(true_label, flattened_predictions)\n",
    "print(\"Confusion Matrix:\")\n",
    "print(cm)\n",
    "\n",
    "# Optional: Detailed classification report\n",
    "print(\"\\nClassification Report:\")\n",
    "print(classification_report(true_label, flattened_predictions))\n",
    "\n",
    "# Optional: Visualize the confusion matrix\n",
    "labels = ['Negative', 'Positive']\n",
    "cm_df = pd.DataFrame(cm, index=labels, columns=labels)\n",
    "\n",
    "plt.figure(figsize=(6,5))\n",
    "sns.heatmap(cm_df, annot=True, fmt='d', cmap='Blues')\n",
    "plt.ylabel('Actual')\n",
    "plt.xlabel('Predicted')\n",
    "plt.title('Confusion Matrix')\n",
    "plt.show()"
   ]
  }
 ],
 "metadata": {
  "kaggle": {
   "accelerator": "nvidiaTeslaT4",
   "dataSources": [
    {
     "datasetId": 5754676,
     "sourceId": 9534427,
     "sourceType": "datasetVersion"
    }
   ],
   "dockerImageVersionId": 30776,
   "isGpuEnabled": true,
   "isInternetEnabled": true,
   "language": "python",
   "sourceType": "notebook"
  },
  "kernelspec": {
   "display_name": "Python 3",
   "language": "python",
   "name": "python3"
  },
  "language_info": {
   "codemirror_mode": {
    "name": "ipython",
    "version": 3
   },
   "file_extension": ".py",
   "mimetype": "text/x-python",
   "name": "python",
   "nbconvert_exporter": "python",
   "pygments_lexer": "ipython3",
   "version": "3.10.14"
  },
  "papermill": {
   "default_parameters": {},
   "duration": 151.242293,
   "end_time": "2024-10-03T13:58:02.421802",
   "environment_variables": {},
   "exception": null,
   "input_path": "__notebook__.ipynb",
   "output_path": "__notebook__.ipynb",
   "parameters": {},
   "start_time": "2024-10-03T13:55:31.179509",
   "version": "2.6.0"
  }
 },
 "nbformat": 4,
 "nbformat_minor": 5
}
