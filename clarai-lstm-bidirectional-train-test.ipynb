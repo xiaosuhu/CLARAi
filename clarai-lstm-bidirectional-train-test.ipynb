{
 "cells": [
  {
   "cell_type": "code",
   "execution_count": 1,
   "id": "52673168",
   "metadata": {
    "execution": {
     "iopub.execute_input": "2024-10-09T18:14:18.799809Z",
     "iopub.status.busy": "2024-10-09T18:14:18.799369Z",
     "iopub.status.idle": "2024-10-09T18:14:25.767220Z",
     "shell.execute_reply": "2024-10-09T18:14:25.766382Z"
    },
    "papermill": {
     "duration": 6.979577,
     "end_time": "2024-10-09T18:14:25.769766",
     "exception": false,
     "start_time": "2024-10-09T18:14:18.790189",
     "status": "completed"
    },
    "tags": []
   },
   "outputs": [],
   "source": [
    "from sklearn.model_selection import train_test_split\n",
    "from sklearn.preprocessing import StandardScaler\n",
    "from sklearn.utils.class_weight import compute_class_weight\n",
    "from sklearn.metrics import confusion_matrix, classification_report, roc_curve, auc\n",
    "from torch.utils.data import DataLoader, TensorDataset\n",
    "\n",
    "import torch\n",
    "import torch.nn as nn\n",
    "import torch.optim as optim\n",
    "import pandas as pd\n",
    "import numpy as np\n",
    "import matplotlib.pyplot as plt\n",
    "import seaborn as sns\n",
    "\n",
    "import glob"
   ]
  },
  {
   "cell_type": "code",
   "execution_count": 2,
   "id": "2bf6a1a8",
   "metadata": {
    "execution": {
     "iopub.execute_input": "2024-10-09T18:14:25.784601Z",
     "iopub.status.busy": "2024-10-09T18:14:25.784108Z",
     "iopub.status.idle": "2024-10-09T18:14:25.889838Z",
     "shell.execute_reply": "2024-10-09T18:14:25.883627Z"
    },
    "papermill": {
     "duration": 0.115931,
     "end_time": "2024-10-09T18:14:25.892738",
     "exception": false,
     "start_time": "2024-10-09T18:14:25.776807",
     "status": "completed"
    },
    "tags": []
   },
   "outputs": [
    {
     "name": "stdout",
     "output_type": "stream",
     "text": [
      "cuda\n"
     ]
    }
   ],
   "source": [
    "# device = torch.device(\"mps\")\n",
    "device = torch.device(\"cuda\" if torch.cuda.is_available() else \"cpu\")\n",
    "print(device)"
   ]
  },
  {
   "cell_type": "code",
   "execution_count": 3,
   "id": "b4534d58",
   "metadata": {
    "execution": {
     "iopub.execute_input": "2024-10-09T18:14:25.909369Z",
     "iopub.status.busy": "2024-10-09T18:14:25.908562Z",
     "iopub.status.idle": "2024-10-09T18:14:25.916641Z",
     "shell.execute_reply": "2024-10-09T18:14:25.915661Z"
    },
    "papermill": {
     "duration": 0.018368,
     "end_time": "2024-10-09T18:14:25.918875",
     "exception": false,
     "start_time": "2024-10-09T18:14:25.900507",
     "status": "completed"
    },
    "tags": []
   },
   "outputs": [
    {
     "data": {
      "text/plain": [
       "'# Step 1: Get a list of all CSV file paths in the directory\\ndata_path = glob.glob(\"D:\\\\PythonProjs\\\\CLARAi\\\\Data\\\\*.csv\")  # Modify with your directory path\\nlabel_path = glob.glob(\"D:\\\\PythonProjs\\\\CLARAi\\\\Label\\\\*.csv\")\\n\\n# Step 2: Read each CSV file and store in a list of DataFrames\\ndatadfs = [pd.read_csv(file) for file in data_path]\\nlabeldfs = [pd.read_csv(file) for file in label_path]\\n\\n# Step 3: Concatenate all DataFrames into one\\nfinal_data_df = pd.concat(datadfs, ignore_index=True)\\nfinal_label_df = pd.concat(labeldfs, ignore_index=True)'"
      ]
     },
     "execution_count": 3,
     "metadata": {},
     "output_type": "execute_result"
    }
   ],
   "source": [
    "\"\"\"# Step 1: Get a list of all CSV file paths in the directory\n",
    "data_path = glob.glob(\"D:\\PythonProjs\\CLARAi\\Data\\*.csv\")  # Modify with your directory path\n",
    "label_path = glob.glob(\"D:\\PythonProjs\\CLARAi\\Label\\*.csv\")\n",
    "\n",
    "# Step 2: Read each CSV file and store in a list of DataFrames\n",
    "datadfs = [pd.read_csv(file) for file in data_path]\n",
    "labeldfs = [pd.read_csv(file) for file in label_path]\n",
    "\n",
    "# Step 3: Concatenate all DataFrames into one\n",
    "final_data_df = pd.concat(datadfs, ignore_index=True)\n",
    "final_label_df = pd.concat(labeldfs, ignore_index=True)\"\"\""
   ]
  },
  {
   "cell_type": "code",
   "execution_count": 4,
   "id": "ae99b9d5",
   "metadata": {
    "execution": {
     "iopub.execute_input": "2024-10-09T18:14:25.935292Z",
     "iopub.status.busy": "2024-10-09T18:14:25.934964Z",
     "iopub.status.idle": "2024-10-09T18:14:25.940114Z",
     "shell.execute_reply": "2024-10-09T18:14:25.939219Z"
    },
    "papermill": {
     "duration": 0.016188,
     "end_time": "2024-10-09T18:14:25.942218",
     "exception": false,
     "start_time": "2024-10-09T18:14:25.926030",
     "status": "completed"
    },
    "tags": []
   },
   "outputs": [],
   "source": [
    "class CONFIG:\n",
    "    seq_len = 512\n",
    "    num_seq = 500\n",
    "    data_ch = 36\n",
    "    hidden_size = 32  # Hidden state size of the GRU\n",
    "    output_size = 1  # Binary classification\n",
    "    num_layers = 2  # Number of GRU layers\n",
    "    learning_rate = 0.001\n",
    "    num_epochs = 300\n",
    "    batch_size = 8"
   ]
  },
  {
   "cell_type": "code",
   "execution_count": 5,
   "id": "f0bfabf3",
   "metadata": {
    "execution": {
     "iopub.execute_input": "2024-10-09T18:14:25.959001Z",
     "iopub.status.busy": "2024-10-09T18:14:25.958052Z",
     "iopub.status.idle": "2024-10-09T18:14:25.967727Z",
     "shell.execute_reply": "2024-10-09T18:14:25.966639Z"
    },
    "papermill": {
     "duration": 0.020329,
     "end_time": "2024-10-09T18:14:25.969831",
     "exception": false,
     "start_time": "2024-10-09T18:14:25.949502",
     "status": "completed"
    },
    "tags": []
   },
   "outputs": [],
   "source": [
    "def data_gen(data_path, label_path):\n",
    "    final_data_df = pd.read_csv(data_path)\n",
    "    final_label_df = pd.read_csv(label_path)\n",
    "\n",
    "    train_labels_flat = final_label_df.values.flatten()\n",
    "    \n",
    "    # Compute class weights (inverse of class frequencies)\n",
    "    class_weights = compute_class_weight(class_weight='balanced', classes=np.unique(train_labels_flat), y=train_labels_flat)\n",
    "    class_weights = torch.tensor(class_weights, dtype=torch.float32)\n",
    "\n",
    "    # Parameters\n",
    "    sequence_length = CONFIG.seq_len  # Length of each subsequence\n",
    "    num_subsequences = CONFIG.num_seq  # Number of subsequences to extract\n",
    "\n",
    "    # Get possible starting indices, ensuring there's enough space for a full subsequence\n",
    "    possible_starts = np.arange(0, len(final_data_df) - sequence_length + 1)\n",
    "    np.random.shuffle(possible_starts)\n",
    "\n",
    "    # Select the first `num_subsequences` starting indices\n",
    "    selected_starts = possible_starts[:num_subsequences]\n",
    "\n",
    "    # Create a list to hold the subsequences\n",
    "    subsequences = [final_data_df.iloc[start:start + sequence_length].values for start in selected_starts]\n",
    "    sublabels = [final_label_df.iloc[start:start + sequence_length].values for start in selected_starts]\n",
    "\n",
    "    # Convert subsequences list to a NumPy array\n",
    "    subsequences_array = np.array(subsequences)\n",
    "    sublabels_array = np.array(sublabels)\n",
    "\n",
    "    # subsequences_array will have shape (num_subsequences, sequence_length, num_channels)\n",
    "    # print(subsequences_array.shape)  # Should print (100, 100, 36)\n",
    "    # print(sublabels_array.shape)\n",
    "\n",
    "    return torch.from_numpy(subsequences_array), torch.from_numpy(sublabels_array), class_weights\n"
   ]
  },
  {
   "cell_type": "code",
   "execution_count": 6,
   "id": "44d2126e",
   "metadata": {
    "execution": {
     "iopub.execute_input": "2024-10-09T18:14:25.985917Z",
     "iopub.status.busy": "2024-10-09T18:14:25.985153Z",
     "iopub.status.idle": "2024-10-09T18:14:25.995061Z",
     "shell.execute_reply": "2024-10-09T18:14:25.994214Z"
    },
    "papermill": {
     "duration": 0.020185,
     "end_time": "2024-10-09T18:14:25.997162",
     "exception": false,
     "start_time": "2024-10-09T18:14:25.976977",
     "status": "completed"
    },
    "tags": []
   },
   "outputs": [],
   "source": [
    "\n",
    "# Sample time series data with shape (batch_size, sequence_length, num_features)\n",
    "# neuroimaging_data: Time series data from multiple neuroimaging channels\n",
    "# labels: Binary labels (0 = no pain, 1 = pain) for each time step\n",
    "# Assume neuroimaging_data is a numpy array of shape (num_samples, sequence_length, num_channels)\n",
    "# labels is a numpy array of shape (num_samples, sequence_length)\n",
    "\n",
    "class BidirectionalLSTMClassifier(nn.Module):\n",
    "    def __init__(self, input_size, hidden_size, output_size, num_layers=1):\n",
    "        super(BidirectionalLSTMClassifier, self).__init__()\n",
    "        self.hidden_size = hidden_size\n",
    "        self.num_layers = num_layers\n",
    "        self.lstm = nn.LSTM(input_size, hidden_size, num_layers, batch_first=True, bidirectional=True)\n",
    "        \n",
    "        # Adjust the fully connected layer to account for doubled hidden size (forward + backward)\n",
    "        self.fc = nn.Linear(hidden_size * 2, output_size)\n",
    "        self.batch_norm = nn.BatchNorm1d(hidden_size * 2)  # Adjust Batch Normalization for bidirectional\n",
    "        self.sigmoid = nn.Sigmoid()\n",
    "\n",
    "    def forward(self, x):\n",
    "        # Initialize hidden state and cell state with zeros for both directions\n",
    "        h0 = torch.zeros(self.num_layers * 2, x.size(0), self.hidden_size).to(x.device)  # *2 for bidirectional\n",
    "        c0 = torch.zeros(self.num_layers * 2, x.size(0), self.hidden_size).to(x.device)\n",
    "\n",
    "        # LSTM forward pass\n",
    "        out, _ = self.lstm(x, (h0, c0))\n",
    "        \n",
    "        # Apply batch normalization\n",
    "        # Permute to (batch_size, hidden_size*2, sequence_length) for batch norm\n",
    "        out = out.permute(0, 2, 1)\n",
    "        out = self.batch_norm(out)\n",
    "        \n",
    "        # Permute back to (batch_size, sequence_length, hidden_size*2)\n",
    "        out = out.permute(0, 2, 1)\n",
    "        \n",
    "        # Apply the linear layer to each time step\n",
    "        out = self.fc(out)\n",
    "        \n",
    "        return self.sigmoid(out)\n"
   ]
  },
  {
   "cell_type": "code",
   "execution_count": 7,
   "id": "1760f1c8",
   "metadata": {
    "execution": {
     "iopub.execute_input": "2024-10-09T18:14:26.013598Z",
     "iopub.status.busy": "2024-10-09T18:14:26.013260Z",
     "iopub.status.idle": "2024-10-09T18:14:26.030068Z",
     "shell.execute_reply": "2024-10-09T18:14:26.029372Z"
    },
    "papermill": {
     "duration": 0.026931,
     "end_time": "2024-10-09T18:14:26.032065",
     "exception": false,
     "start_time": "2024-10-09T18:14:26.005134",
     "status": "completed"
    },
    "tags": []
   },
   "outputs": [],
   "source": [
    "# data_path = glob.glob(\"D:\\PythonProjs\\CLARAi\\Data_train\\*.csv\")  # Modify with your directory path\n",
    "# label_path = glob.glob(\"D:\\PythonProjs\\CLARAi\\Label_train\\*.csv\")\n",
    "\n",
    "# data_path = glob.glob(\"/home/frank/Documents/CLARAi/Data/*.csv\")  # Modify with your directory path\n",
    "# label_path = glob.glob(\"/home/frank/Documents/CLARAi/Label/*.csv\")\n",
    "\n",
    "# data_path = glob.glob(\"/Users/xiaosuhu/Documents/Python/CLARAi/Data/*.csv\")  # Modify with your directory path\n",
    "# label_path = glob.glob(\"/Users/xiaosuhu/Documents/Python/CLARAi/Data/*.csv\")\n",
    "\n",
    "data_path = glob.glob(\"/kaggle/input/CLARAi/Data_train/*.csv\")  # Modify with your directory path\n",
    "label_path = glob.glob(\"/kaggle/input/CLARAi/Label_train/*.csv\")\n",
    "\n",
    "# Sort the lists\n",
    "data_path = sorted(data_path)\n",
    "label_path = sorted(label_path)\n"
   ]
  },
  {
   "cell_type": "code",
   "execution_count": 8,
   "id": "4926bc74",
   "metadata": {
    "execution": {
     "iopub.execute_input": "2024-10-09T18:14:26.046600Z",
     "iopub.status.busy": "2024-10-09T18:14:26.046265Z",
     "iopub.status.idle": "2024-10-09T18:14:26.052090Z",
     "shell.execute_reply": "2024-10-09T18:14:26.051238Z"
    },
    "papermill": {
     "duration": 0.015695,
     "end_time": "2024-10-09T18:14:26.054435",
     "exception": false,
     "start_time": "2024-10-09T18:14:26.038740",
     "status": "completed"
    },
    "tags": []
   },
   "outputs": [
    {
     "data": {
      "text/plain": [
       "['/kaggle/input/CLARAi/Data_train/data1.csv',\n",
       " '/kaggle/input/CLARAi/Data_train/data10.csv',\n",
       " '/kaggle/input/CLARAi/Data_train/data11.csv',\n",
       " '/kaggle/input/CLARAi/Data_train/data12.csv',\n",
       " '/kaggle/input/CLARAi/Data_train/data13.csv',\n",
       " '/kaggle/input/CLARAi/Data_train/data16.csv',\n",
       " '/kaggle/input/CLARAi/Data_train/data17.csv',\n",
       " '/kaggle/input/CLARAi/Data_train/data3.csv',\n",
       " '/kaggle/input/CLARAi/Data_train/data4.csv',\n",
       " '/kaggle/input/CLARAi/Data_train/data5.csv',\n",
       " '/kaggle/input/CLARAi/Data_train/data6.csv',\n",
       " '/kaggle/input/CLARAi/Data_train/data7.csv',\n",
       " '/kaggle/input/CLARAi/Data_train/data8.csv',\n",
       " '/kaggle/input/CLARAi/Data_train/data9.csv']"
      ]
     },
     "execution_count": 8,
     "metadata": {},
     "output_type": "execute_result"
    }
   ],
   "source": [
    "data_path"
   ]
  },
  {
   "cell_type": "code",
   "execution_count": 9,
   "id": "f87035b2",
   "metadata": {
    "execution": {
     "iopub.execute_input": "2024-10-09T18:14:26.069920Z",
     "iopub.status.busy": "2024-10-09T18:14:26.069601Z",
     "iopub.status.idle": "2024-10-09T18:14:26.089822Z",
     "shell.execute_reply": "2024-10-09T18:14:26.089108Z"
    },
    "papermill": {
     "duration": 0.030321,
     "end_time": "2024-10-09T18:14:26.091852",
     "exception": false,
     "start_time": "2024-10-09T18:14:26.061531",
     "status": "completed"
    },
    "tags": []
   },
   "outputs": [],
   "source": [
    "\n",
    "# data_path = \"D:\\PythonProjs\\CLARAi\\Data\\data1.csv\"\n",
    "# label_path = \"D:\\PythonProjs\\CLARAi\\Label\\label1.csv\"\n",
    "neuroimaging_data = torch.empty(0,CONFIG.seq_len,CONFIG.data_ch)\n",
    "labels = torch.empty(0,CONFIG.seq_len,1)\n",
    "class_weights = torch.Tensor([0., 0.])"
   ]
  },
  {
   "cell_type": "code",
   "execution_count": 10,
   "id": "fe904a62",
   "metadata": {
    "execution": {
     "iopub.execute_input": "2024-10-09T18:14:26.106987Z",
     "iopub.status.busy": "2024-10-09T18:14:26.106428Z",
     "iopub.status.idle": "2024-10-09T18:14:30.145237Z",
     "shell.execute_reply": "2024-10-09T18:14:30.144209Z"
    },
    "papermill": {
     "duration": 4.049306,
     "end_time": "2024-10-09T18:14:30.147896",
     "exception": false,
     "start_time": "2024-10-09T18:14:26.098590",
     "status": "completed"
    },
    "tags": []
   },
   "outputs": [
    {
     "name": "stdout",
     "output_type": "stream",
     "text": [
      "datapath: /kaggle/input/CLARAi/Data_train/data1.csv\n",
      "labelpath: /kaggle/input/CLARAi/Label_train/label1.csv\n",
      "Data shape: torch.Size([500, 512, 36]), Label shape: torch.Size([500, 512, 1]), Weight shape: torch.Size([2])\n",
      "datapath: /kaggle/input/CLARAi/Data_train/data10.csv\n",
      "labelpath: /kaggle/input/CLARAi/Label_train/label10.csv\n",
      "Data shape: torch.Size([500, 512, 36]), Label shape: torch.Size([500, 512, 1]), Weight shape: torch.Size([2])\n",
      "datapath: /kaggle/input/CLARAi/Data_train/data11.csv\n",
      "labelpath: /kaggle/input/CLARAi/Label_train/label11.csv\n",
      "Data shape: torch.Size([351, 512, 36]), Label shape: torch.Size([351, 512, 1]), Weight shape: torch.Size([2])\n",
      "datapath: /kaggle/input/CLARAi/Data_train/data12.csv\n",
      "labelpath: /kaggle/input/CLARAi/Label_train/label12.csv\n",
      "Data shape: torch.Size([239, 512, 36]), Label shape: torch.Size([239, 512, 1]), Weight shape: torch.Size([2])\n",
      "datapath: /kaggle/input/CLARAi/Data_train/data13.csv\n",
      "labelpath: /kaggle/input/CLARAi/Label_train/label13.csv\n",
      "Data shape: torch.Size([310, 512, 36]), Label shape: torch.Size([310, 512, 1]), Weight shape: torch.Size([2])\n",
      "datapath: /kaggle/input/CLARAi/Data_train/data16.csv\n",
      "labelpath: /kaggle/input/CLARAi/Label_train/label16.csv\n",
      "Data shape: torch.Size([500, 512, 36]), Label shape: torch.Size([500, 512, 1]), Weight shape: torch.Size([2])\n",
      "datapath: /kaggle/input/CLARAi/Data_train/data17.csv\n",
      "labelpath: /kaggle/input/CLARAi/Label_train/label17.csv\n",
      "Data shape: torch.Size([500, 512, 36]), Label shape: torch.Size([500, 512, 1]), Weight shape: torch.Size([2])\n",
      "datapath: /kaggle/input/CLARAi/Data_train/data3.csv\n",
      "labelpath: /kaggle/input/CLARAi/Label_train/label3.csv\n",
      "Data shape: torch.Size([500, 512, 36]), Label shape: torch.Size([500, 512, 1]), Weight shape: torch.Size([2])\n",
      "datapath: /kaggle/input/CLARAi/Data_train/data4.csv\n",
      "labelpath: /kaggle/input/CLARAi/Label_train/label4.csv\n",
      "Data shape: torch.Size([500, 512, 36]), Label shape: torch.Size([500, 512, 1]), Weight shape: torch.Size([2])\n",
      "datapath: /kaggle/input/CLARAi/Data_train/data5.csv\n",
      "labelpath: /kaggle/input/CLARAi/Label_train/label5.csv\n",
      "Data shape: torch.Size([500, 512, 36]), Label shape: torch.Size([500, 512, 1]), Weight shape: torch.Size([2])\n",
      "datapath: /kaggle/input/CLARAi/Data_train/data6.csv\n",
      "labelpath: /kaggle/input/CLARAi/Label_train/label6.csv\n",
      "Data shape: torch.Size([500, 512, 36]), Label shape: torch.Size([500, 512, 1]), Weight shape: torch.Size([2])\n",
      "datapath: /kaggle/input/CLARAi/Data_train/data7.csv\n",
      "labelpath: /kaggle/input/CLARAi/Label_train/label7.csv\n",
      "Data shape: torch.Size([500, 512, 36]), Label shape: torch.Size([500, 512, 1]), Weight shape: torch.Size([2])\n",
      "datapath: /kaggle/input/CLARAi/Data_train/data8.csv\n",
      "labelpath: /kaggle/input/CLARAi/Label_train/label8.csv\n",
      "Data shape: torch.Size([500, 512, 36]), Label shape: torch.Size([500, 512, 1]), Weight shape: torch.Size([2])\n",
      "datapath: /kaggle/input/CLARAi/Data_train/data9.csv\n",
      "labelpath: /kaggle/input/CLARAi/Label_train/label9.csv\n",
      "Data shape: torch.Size([500, 512, 36]), Label shape: torch.Size([500, 512, 1]), Weight shape: torch.Size([2])\n"
     ]
    }
   ],
   "source": [
    "\n",
    "for datapath, labelpath in zip(data_path, label_path):\n",
    "    print(f'datapath: {datapath}')\n",
    "    print(f'labelpath: {labelpath}')    \n",
    "    data, label, weight = data_gen(datapath, labelpath)\n",
    "    print(f'Data shape: {data.shape}, Label shape: {label.shape}, Weight shape: {weight.shape}')\n",
    "    neuroimaging_data= torch.cat([neuroimaging_data, data])\n",
    "    labels = torch.cat([labels, label])\n",
    "    class_weights += weight\n",
    "\n",
    "normalized_weights = class_weights / class_weights.sum()\n"
   ]
  },
  {
   "cell_type": "code",
   "execution_count": 11,
   "id": "835fe81b",
   "metadata": {
    "execution": {
     "iopub.execute_input": "2024-10-09T18:14:30.167471Z",
     "iopub.status.busy": "2024-10-09T18:14:30.166739Z",
     "iopub.status.idle": "2024-10-09T18:14:30.173780Z",
     "shell.execute_reply": "2024-10-09T18:14:30.172812Z"
    },
    "papermill": {
     "duration": 0.019103,
     "end_time": "2024-10-09T18:14:30.176004",
     "exception": false,
     "start_time": "2024-10-09T18:14:30.156901",
     "status": "completed"
    },
    "tags": []
   },
   "outputs": [
    {
     "data": {
      "text/plain": [
       "(torch.Size([6400, 512, 36]), torch.Size([6400, 512, 1]))"
      ]
     },
     "execution_count": 11,
     "metadata": {},
     "output_type": "execute_result"
    }
   ],
   "source": [
    "neuroimaging_data.shape, labels.shape"
   ]
  },
  {
   "cell_type": "code",
   "execution_count": 12,
   "id": "f7c11df6",
   "metadata": {
    "execution": {
     "iopub.execute_input": "2024-10-09T18:14:30.198013Z",
     "iopub.status.busy": "2024-10-09T18:14:30.197668Z",
     "iopub.status.idle": "2024-10-09T18:14:30.247717Z",
     "shell.execute_reply": "2024-10-09T18:14:30.246550Z"
    },
    "papermill": {
     "duration": 0.064108,
     "end_time": "2024-10-09T18:14:30.250410",
     "exception": false,
     "start_time": "2024-10-09T18:14:30.186302",
     "status": "completed"
    },
    "tags": []
   },
   "outputs": [
    {
     "name": "stdout",
     "output_type": "stream",
     "text": [
      "Number of 0s: 2537803Number of 1s: 738997 Ratio is 0.22552398681640626\n"
     ]
    }
   ],
   "source": [
    "# Count the number of 1s\n",
    "num_zeros = torch.sum(labels == 0).item()\n",
    "num_ones = torch.sum(labels == 1).item()\n",
    "\n",
    "print(f\"Number of 0s: {num_zeros}Number of 1s: {num_ones} Ratio is {num_ones/(num_ones + num_zeros)}\")"
   ]
  },
  {
   "cell_type": "code",
   "execution_count": 13,
   "id": "6ccc4af0",
   "metadata": {
    "execution": {
     "iopub.execute_input": "2024-10-09T18:14:30.268674Z",
     "iopub.status.busy": "2024-10-09T18:14:30.268347Z",
     "iopub.status.idle": "2024-10-09T18:14:32.949941Z",
     "shell.execute_reply": "2024-10-09T18:14:32.948834Z"
    },
    "papermill": {
     "duration": 2.693629,
     "end_time": "2024-10-09T18:14:32.952562",
     "exception": false,
     "start_time": "2024-10-09T18:14:30.258933",
     "status": "completed"
    },
    "tags": []
   },
   "outputs": [
    {
     "name": "stderr",
     "output_type": "stream",
     "text": [
      "/tmp/ipykernel_23/3072856817.py:16: UserWarning: To copy construct from a tensor, it is recommended to use sourceTensor.clone().detach() or sourceTensor.clone().detach().requires_grad_(True), rather than torch.tensor(sourceTensor).\n",
      "  train_data, test_data = torch.tensor(train_data, dtype=torch.float32).to(device), torch.tensor(test_data, dtype=torch.float32).to(device)\n",
      "/tmp/ipykernel_23/3072856817.py:17: UserWarning: To copy construct from a tensor, it is recommended to use sourceTensor.clone().detach() or sourceTensor.clone().detach().requires_grad_(True), rather than torch.tensor(sourceTensor).\n",
      "  train_labels, test_labels = torch.tensor(train_labels, dtype=torch.float32).to(device), torch.tensor(test_labels, dtype=torch.float32).to(device)\n"
     ]
    }
   ],
   "source": [
    "# Hyperparameters\n",
    "input_size = CONFIG.data_ch  # Number of features (channels)\n",
    "hidden_size = CONFIG.hidden_size  # Hidden state size of the GRU\n",
    "output_size = CONFIG.output_size  # Binary classification\n",
    "num_layers = CONFIG.num_layers  # Number of GRU layers\n",
    "learning_rate = CONFIG.learning_rate\n",
    "num_epochs = CONFIG.num_epochs\n",
    "batch_size = CONFIG.batch_size\n",
    "\n",
    "# Preprocessing (e.g., normalization)\n",
    "# scaler = StandardScaler()\n",
    "# neuroimaging_data = scaler.fit_transform(neuroimaging_data.reshape(-1, input_size)).reshape(neuroimaging_data.shape)\n",
    "\n",
    "# Convert numpy arrays to PyTorch tensors\n",
    "train_data, test_data, train_labels, test_labels = train_test_split(neuroimaging_data, labels, test_size=0.2, random_state=42)\n",
    "train_data, test_data = torch.tensor(train_data, dtype=torch.float32).to(device), torch.tensor(test_data, dtype=torch.float32).to(device)\n",
    "train_labels, test_labels = torch.tensor(train_labels, dtype=torch.float32).to(device), torch.tensor(test_labels, dtype=torch.float32).to(device)\n",
    "\n",
    "# Create GRU model\n",
    "model = BidirectionalLSTMClassifier(input_size, hidden_size, output_size, num_layers)\n",
    "model = torch.nn.DataParallel(model)\n",
    "model.to(device)\n",
    "\n",
    "# Loss and optimizer\n",
    "# criterion = nn.BCELoss()  # Binary Cross Entropy Loss for binary classification\n",
    "\n",
    "\n",
    "# Convert the class weights to a tensor and move to the appropriate device\n",
    "class_weights = class_weights.to(device)\n",
    "\n",
    "# Use BCEWithLogitsLoss, which combines sigmoid activation and binary cross-entropy loss\n",
    "criterion = nn.BCEWithLogitsLoss(pos_weight=normalized_weights[0])  # pos_weight applies only to class 1\n",
    "\n",
    "# optimizer = optim.Adam(model.parameters(), lr=learning_rate)\n",
    "optimizer = optim.Adam(model.parameters(), lr=learning_rate, weight_decay=1e-5)\n",
    "scheduler = torch.optim.lr_scheduler.ReduceLROnPlateau(optimizer, mode='min', factor=0.1, patience=20)"
   ]
  },
  {
   "cell_type": "code",
   "execution_count": 14,
   "id": "7ef56731",
   "metadata": {
    "execution": {
     "iopub.execute_input": "2024-10-09T18:14:32.971460Z",
     "iopub.status.busy": "2024-10-09T18:14:32.970918Z",
     "iopub.status.idle": "2024-10-09T18:16:11.736314Z",
     "shell.execute_reply": "2024-10-09T18:16:11.735358Z"
    },
    "papermill": {
     "duration": 98.777831,
     "end_time": "2024-10-09T18:16:11.738945",
     "exception": false,
     "start_time": "2024-10-09T18:14:32.961114",
     "status": "completed"
    },
    "tags": []
   },
   "outputs": [
    {
     "name": "stderr",
     "output_type": "stream",
     "text": [
      "/opt/conda/lib/python3.10/site-packages/torch/nn/parallel/parallel_apply.py:79: FutureWarning: `torch.cuda.amp.autocast(args...)` is deprecated. Please use `torch.amp.autocast('cuda', args...)` instead.\n",
      "  with torch.cuda.device(device), torch.cuda.stream(stream), autocast(enabled=autocast_enabled):\n"
     ]
    },
    {
     "name": "stdout",
     "output_type": "stream",
     "text": [
      "Epoch [5/300], Train Loss: 0.7748, Val Loss: 0.7772\n",
      "Epoch [10/300], Train Loss: 0.7627, Val Loss: 0.7732\n",
      "Epoch [15/300], Train Loss: 0.7451, Val Loss: 0.7666\n",
      "Epoch [20/300], Train Loss: 0.7247, Val Loss: 0.7526\n",
      "Epoch [25/300], Train Loss: 0.7039, Val Loss: 0.7275\n",
      "Epoch [30/300], Train Loss: 0.6844, Val Loss: 0.6958\n",
      "Epoch [35/300], Train Loss: 0.6674, Val Loss: 0.6671\n",
      "Epoch [40/300], Train Loss: 0.6537, Val Loss: 0.6473\n",
      "Epoch [45/300], Train Loss: 0.6429, Val Loss: 0.6350\n",
      "Epoch [50/300], Train Loss: 0.6343, Val Loss: 0.6271\n",
      "Epoch [55/300], Train Loss: 0.6274, Val Loss: 0.6220\n",
      "Epoch [60/300], Train Loss: 0.6218, Val Loss: 0.6184\n",
      "Epoch [65/300], Train Loss: 0.6173, Val Loss: 0.6158\n",
      "Epoch [70/300], Train Loss: 0.6135, Val Loss: 0.6136\n",
      "Epoch [75/300], Train Loss: 0.6104, Val Loss: 0.6115\n",
      "Epoch [80/300], Train Loss: 0.6076, Val Loss: 0.6091\n",
      "Epoch [85/300], Train Loss: 0.6050, Val Loss: 0.6065\n",
      "Epoch [90/300], Train Loss: 0.6027, Val Loss: 0.6039\n",
      "Epoch [95/300], Train Loss: 0.6003, Val Loss: 0.6012\n",
      "Epoch [100/300], Train Loss: 0.5984, Val Loss: 0.5992\n",
      "Epoch [105/300], Train Loss: 0.5971, Val Loss: 0.5978\n",
      "Epoch [110/300], Train Loss: 0.5956, Val Loss: 0.5962\n",
      "Epoch [115/300], Train Loss: 0.5944, Val Loss: 0.5946\n",
      "Epoch [120/300], Train Loss: 0.5934, Val Loss: 0.5936\n",
      "Epoch [125/300], Train Loss: 0.5926, Val Loss: 0.5925\n",
      "Epoch [130/300], Train Loss: 0.5921, Val Loss: 0.5918\n",
      "Epoch [135/300], Train Loss: 0.5915, Val Loss: 0.5913\n",
      "Epoch [140/300], Train Loss: 0.5910, Val Loss: 0.5909\n",
      "Epoch [145/300], Train Loss: 0.5905, Val Loss: 0.5904\n",
      "Epoch [150/300], Train Loss: 0.5901, Val Loss: 0.5899\n",
      "Epoch [155/300], Train Loss: 0.5898, Val Loss: 0.5896\n",
      "Epoch [160/300], Train Loss: 0.5895, Val Loss: 0.5893\n",
      "Epoch [165/300], Train Loss: 0.5892, Val Loss: 0.5889\n",
      "Epoch [170/300], Train Loss: 0.5890, Val Loss: 0.5887\n",
      "Epoch [175/300], Train Loss: 0.5887, Val Loss: 0.5885\n",
      "Epoch [180/300], Train Loss: 0.5885, Val Loss: 0.5882\n",
      "Epoch [185/300], Train Loss: 0.5883, Val Loss: 0.5881\n",
      "Epoch [190/300], Train Loss: 0.5882, Val Loss: 0.5879\n",
      "Epoch [195/300], Train Loss: 0.5880, Val Loss: 0.5878\n",
      "Epoch [200/300], Train Loss: 0.5879, Val Loss: 0.5876\n",
      "Epoch [205/300], Train Loss: 0.5877, Val Loss: 0.5875\n",
      "Epoch [210/300], Train Loss: 0.5876, Val Loss: 0.5873\n",
      "Epoch [215/300], Train Loss: 0.5875, Val Loss: 0.5872\n",
      "Epoch [220/300], Train Loss: 0.5873, Val Loss: 0.5871\n",
      "Epoch [225/300], Train Loss: 0.5873, Val Loss: 0.5870\n",
      "Epoch [230/300], Train Loss: 0.5872, Val Loss: 0.5869\n",
      "Epoch [235/300], Train Loss: 0.5871, Val Loss: 0.5868\n",
      "Epoch [240/300], Train Loss: 0.5870, Val Loss: 0.5868\n",
      "Epoch [245/300], Train Loss: 0.5869, Val Loss: 0.5867\n",
      "Epoch [250/300], Train Loss: 0.5868, Val Loss: 0.5866\n",
      "Epoch [255/300], Train Loss: 0.5869, Val Loss: 0.5867\n",
      "Epoch [260/300], Train Loss: 0.5869, Val Loss: 0.5866\n",
      "Epoch [265/300], Train Loss: 0.5870, Val Loss: 0.5868\n",
      "Epoch [270/300], Train Loss: 0.5871, Val Loss: 0.5869\n",
      "Epoch [275/300], Train Loss: 0.5871, Val Loss: 0.5868\n",
      "Epoch [280/300], Train Loss: 0.5870, Val Loss: 0.5867\n",
      "Epoch [285/300], Train Loss: 0.5869, Val Loss: 0.5867\n",
      "Epoch [290/300], Train Loss: 0.5869, Val Loss: 0.5866\n",
      "Epoch [295/300], Train Loss: 0.5868, Val Loss: 0.5866\n",
      "Epoch [300/300], Train Loss: 0.5868, Val Loss: 0.5866\n"
     ]
    }
   ],
   "source": [
    "# Training loop\n",
    "for epoch in range(num_epochs):\n",
    "    model.train()  # Set model to training mode\n",
    "    optimizer.zero_grad()\n",
    "    \n",
    "    # Forward pass (training)\n",
    "    outputs = model(train_data)\n",
    "    loss = criterion(outputs, train_labels)\n",
    "    \n",
    "    # Backward pass and optimization\n",
    "    loss.backward()\n",
    "    \n",
    "    # Clip gradients to prevent exploding gradients\n",
    "    torch.nn.utils.clip_grad_norm_(model.parameters(), max_norm=1.0)\n",
    "    \n",
    "    optimizer.step()\n",
    "\n",
    "    # Validation phase (no gradient calculations)\n",
    "    model.eval()  # Set model to evaluation mode\n",
    "    with torch.no_grad():  # Disable gradient calculation for validation\n",
    "        val_outputs = model(test_data)\n",
    "        val_loss = criterion(val_outputs, test_labels)\n",
    "\n",
    "    # Update learning rate if validation loss plateaus\n",
    "    scheduler.step(val_loss)\n",
    "\n",
    "    # Print loss every 5 epochs\n",
    "    if (epoch + 1) % 5 == 0:\n",
    "        print(f'Epoch [{epoch+1}/{num_epochs}], Train Loss: {loss.item():.4f}, Val Loss: {val_loss.item():.4f}')\n"
   ]
  },
  {
   "cell_type": "code",
   "execution_count": 15,
   "id": "6c190b87",
   "metadata": {
    "execution": {
     "iopub.execute_input": "2024-10-09T18:16:11.775323Z",
     "iopub.status.busy": "2024-10-09T18:16:11.774327Z",
     "iopub.status.idle": "2024-10-09T18:16:11.784072Z",
     "shell.execute_reply": "2024-10-09T18:16:11.783229Z"
    },
    "papermill": {
     "duration": 0.030196,
     "end_time": "2024-10-09T18:16:11.786341",
     "exception": false,
     "start_time": "2024-10-09T18:16:11.756145",
     "status": "completed"
    },
    "tags": []
   },
   "outputs": [],
   "source": [
    "# After the training loop\n",
    "# torch.save(model.state_dict(), 'D:\\PythonProjs\\CLARAi\\Trained_model_weights\\lstm_bidi_model_state_dict_data_300_ep_200.pth')\n",
    "torch.save(model.state_dict(), '/kaggle/working/lstm_bidi_model_state_dict_data_300_ep_200.pth')\n",
    "# print(\"Model state_dict saved to 'lstm_unidi_model_state_dict.pth'\")"
   ]
  },
  {
   "cell_type": "code",
   "execution_count": 16,
   "id": "e87055d3",
   "metadata": {
    "execution": {
     "iopub.execute_input": "2024-10-09T18:16:11.820344Z",
     "iopub.status.busy": "2024-10-09T18:16:11.819672Z",
     "iopub.status.idle": "2024-10-09T18:16:12.967428Z",
     "shell.execute_reply": "2024-10-09T18:16:12.966395Z"
    },
    "papermill": {
     "duration": 1.167269,
     "end_time": "2024-10-09T18:16:12.969690",
     "exception": false,
     "start_time": "2024-10-09T18:16:11.802421",
     "status": "completed"
    },
    "tags": []
   },
   "outputs": [
    {
     "name": "stdout",
     "output_type": "stream",
     "text": [
      "Accuracy: 93.13%\n",
      "Confusion Matrix:\n",
      "[[470433  35570]\n",
      " [  9435 139922]]\n"
     ]
    },
    {
     "data": {
      "image/png": "[encoded data removed]",
      "text/plain": [
       "<Figure size 600x400 with 2 Axes>"
      ]
     },
     "metadata": {},
     "output_type": "display_data"
    }
   ],
   "source": [
    "\n",
    "model.eval()\n",
    "with torch.no_grad():\n",
    "    test_outputs = model(test_data)\n",
    "    predicted = (test_outputs > 0.5).float()  # Threshold at 0.5 for binary classification\n",
    "    \n",
    "    # Calculate accuracy\n",
    "    accuracy = (predicted == test_labels).float().mean()\n",
    "    print(f'Accuracy: {accuracy.item() * 100:.2f}%')\n",
    "\n",
    "    # Flatten the predicted and test labels for confusion matrix calculation\n",
    "    predicted_flat = predicted.cpu().numpy().flatten()\n",
    "    test_labels_flat = test_labels.cpu().numpy().flatten()\n",
    "\n",
    "    # Generate the confusion matrix\n",
    "    cm = confusion_matrix(test_labels_flat, predicted_flat)\n",
    "    print(f'Confusion Matrix:\\n{cm}')\n",
    "\n",
    "    # Optional: plot the confusion matrix for visualization\n",
    "    plt.figure(figsize=(6,4))\n",
    "    sns.heatmap(cm, annot=True, fmt=\"d\", cmap=\"Blues\", xticklabels=['No Pain', 'Pain'], yticklabels=['No Pain', 'Pain'])\n",
    "    plt.ylabel('True Label')\n",
    "    plt.xlabel('Predicted Label')\n",
    "    plt.title('Confusion Matrix')\n",
    "    plt.show()\n"
   ]
  },
  {
   "cell_type": "code",
   "execution_count": 17,
   "id": "20d78f2f",
   "metadata": {
    "execution": {
     "iopub.execute_input": "2024-10-09T18:16:13.000223Z",
     "iopub.status.busy": "2024-10-09T18:16:12.999781Z",
     "iopub.status.idle": "2024-10-09T18:16:13.009225Z",
     "shell.execute_reply": "2024-10-09T18:16:13.008346Z"
    },
    "papermill": {
     "duration": 0.027871,
     "end_time": "2024-10-09T18:16:13.011512",
     "exception": false,
     "start_time": "2024-10-09T18:16:12.983641",
     "status": "completed"
    },
    "tags": []
   },
   "outputs": [],
   "source": [
    "def plot_roc_auc(model, test_data, test_labels):\n",
    "    model.eval()\n",
    "    with torch.no_grad():\n",
    "        # Get the raw logits (before applying sigmoid)\n",
    "        test_outputs = model(test_data)\n",
    "        \n",
    "        # Convert test_labels and test_outputs to NumPy arrays for sklearn\n",
    "        test_labels_flat = test_labels.cpu().numpy().flatten()\n",
    "        test_outputs_flat = test_outputs.cpu().numpy().flatten()\n",
    "\n",
    "        # Calculate the false positive rate, true positive rate, and thresholds for the ROC curve\n",
    "        fpr, tpr, thresholds = roc_curve(test_labels_flat, test_outputs_flat)\n",
    "        \n",
    "        # Calculate the AUC score\n",
    "        roc_auc = auc(fpr, tpr)\n",
    "        \n",
    "        # Plot ROC curve\n",
    "        plt.figure(figsize=(8,6))\n",
    "        plt.plot(fpr, tpr, color='blue', label=f'ROC Curve (AUC = {roc_auc:.2f})')\n",
    "        plt.plot([0, 1], [0, 1], color='grey', linestyle='--')  # Random classifier line\n",
    "        plt.xlim([0.0, 1.0])\n",
    "        plt.ylim([0.0, 1.05])\n",
    "        plt.xlabel('False Positive Rate (FPR)')\n",
    "        plt.ylabel('True Positive Rate (TPR)')\n",
    "        plt.title('Receiver Operating Characteristic (ROC)')\n",
    "        plt.legend(loc='lower right')\n",
    "        plt.show()\n",
    "\n",
    "    return roc_auc"
   ]
  },
  {
   "cell_type": "code",
   "execution_count": 18,
   "id": "64683f5c",
   "metadata": {
    "execution": {
     "iopub.execute_input": "2024-10-09T18:16:13.043358Z",
     "iopub.status.busy": "2024-10-09T18:16:13.042291Z",
     "iopub.status.idle": "2024-10-09T18:16:13.569062Z",
     "shell.execute_reply": "2024-10-09T18:16:13.568068Z"
    },
    "papermill": {
     "duration": 0.544847,
     "end_time": "2024-10-09T18:16:13.571036",
     "exception": false,
     "start_time": "2024-10-09T18:16:13.026189",
     "status": "completed"
    },
    "tags": []
   },
   "outputs": [
    {
     "name": "stderr",
     "output_type": "stream",
     "text": [
      "/opt/conda/lib/python3.10/site-packages/torch/nn/parallel/parallel_apply.py:79: FutureWarning: `torch.cuda.amp.autocast(args...)` is deprecated. Please use `torch.amp.autocast('cuda', args...)` instead.\n",
      "  with torch.cuda.device(device), torch.cuda.stream(stream), autocast(enabled=autocast_enabled):\n"
     ]
    },
    {
     "data": {
      "image/png": "[encoded data removed]",
      "text/plain": [
       "<Figure size 800x600 with 1 Axes>"
      ]
     },
     "metadata": {},
     "output_type": "display_data"
    },
    {
     "data": {
      "text/plain": [
       "0.9215299558766172"
      ]
     },
     "execution_count": 18,
     "metadata": {},
     "output_type": "execute_result"
    }
   ],
   "source": [
    "plot_roc_auc(model, test_data, test_labels)"
   ]
  },
  {
   "cell_type": "code",
   "execution_count": 19,
   "id": "a16b06e8",
   "metadata": {
    "execution": {
     "iopub.execute_input": "2024-10-09T18:16:13.601700Z",
     "iopub.status.busy": "2024-10-09T18:16:13.601329Z",
     "iopub.status.idle": "2024-10-09T18:16:13.641397Z",
     "shell.execute_reply": "2024-10-09T18:16:13.640367Z"
    },
    "papermill": {
     "duration": 0.058235,
     "end_time": "2024-10-09T18:16:13.644017",
     "exception": false,
     "start_time": "2024-10-09T18:16:13.585782",
     "status": "completed"
    },
    "tags": []
   },
   "outputs": [],
   "source": [
    "# Test data evaluation\n",
    "\n",
    "# data_test = pd.read_csv('D:\\PythonProjs\\CLARAi\\Data_test\\data18.csv')\n",
    "# label_test = pd.read_csv('D:\\PythonProjs\\CLARAi\\Label_test\\label18.csv')\n",
    "\n",
    "data_test = pd.read_csv('/kaggle/input/CLARAi/Data_test/data18.csv')\n",
    "label_test = pd.read_csv('/kaggle/input/CLARAi/Label_test/label18.csv')\n",
    "\n",
    "data_test= data_test.to_numpy()\n",
    "label_test = label_test.to_numpy()\n",
    "\n",
    "sequence_length = CONFIG.seq_len\n",
    "input_size = CONFIG.data_ch\n",
    "\n",
    "\n",
    "# Calculate the number of complete sequences\n",
    "num_sequences = data_test.shape[0] // sequence_length  # 5 sequences\n",
    "\n",
    "# Truncate the data to have only complete sequences\n",
    "truncated_data = data_test[:num_sequences * sequence_length]  # Shape: (1280, 36)\n",
    "\n",
    "# Reshape to (num_sequences, sequence_length, input_size)\n",
    "test_sequences = truncated_data.reshape(num_sequences, sequence_length, input_size)  # Shape: (5, 256, 36)\n",
    "\n",
    "# Convert to PyTorch tensor\n",
    "test_sequences = torch.tensor(test_sequences, dtype=torch.float32)\n"
   ]
  },
  {
   "cell_type": "code",
   "execution_count": 20,
   "id": "72c37da8",
   "metadata": {
    "execution": {
     "iopub.execute_input": "2024-10-09T18:16:13.679224Z",
     "iopub.status.busy": "2024-10-09T18:16:13.678349Z",
     "iopub.status.idle": "2024-10-09T18:16:13.699427Z",
     "shell.execute_reply": "2024-10-09T18:16:13.697975Z"
    },
    "papermill": {
     "duration": 0.039752,
     "end_time": "2024-10-09T18:16:13.701719",
     "exception": false,
     "start_time": "2024-10-09T18:16:13.661967",
     "status": "completed"
    },
    "tags": []
   },
   "outputs": [
    {
     "name": "stderr",
     "output_type": "stream",
     "text": [
      "/opt/conda/lib/python3.10/site-packages/torch/nn/parallel/parallel_apply.py:79: FutureWarning: `torch.cuda.amp.autocast(args...)` is deprecated. Please use `torch.amp.autocast('cuda', args...)` instead.\n",
      "  with torch.cuda.device(device), torch.cuda.stream(stream), autocast(enabled=autocast_enabled):\n"
     ]
    }
   ],
   "source": [
    "\n",
    "# Create DataLoader\n",
    "test_dataset = TensorDataset(test_sequences)\n",
    "test_loader = DataLoader(test_dataset, batch_size=2, shuffle=False)  # Adjust batch_size as needed\n",
    "\n",
    "# Perform inference\n",
    "all_outputs = []\n",
    "with torch.no_grad():\n",
    "    for batch in test_loader:\n",
    "        inputs = batch[0].to(device)  # (batch_size, 256, 36)\n",
    "        outputs = model(inputs)       # (batch_size, 256, 1)\n",
    "        all_outputs.append(outputs.cpu().numpy())\n",
    "\n",
    "# Concatenate all outputs\n",
    "all_outputs = np.concatenate(all_outputs, axis=0)  # Shape: (6, 256, 1)\n",
    "\n",
    "# Apply threshold to get binary predictions\n",
    "predictions = (all_outputs >= 0.5).astype(int)  # Shape: (6, 256, 1)\n",
    "predictions = predictions.squeeze(-1)           # Shape: (6, 256)\n",
    "# Flatten the predictions\n",
    "flattened_predictions = predictions.flatten()  # Shape: (1536,)\n",
    "\n",
    "true_label = label_test[:num_sequences * sequence_length].squeeze(-1)"
   ]
  },
  {
   "cell_type": "code",
   "execution_count": 21,
   "id": "8184d224",
   "metadata": {
    "execution": {
     "iopub.execute_input": "2024-10-09T18:16:13.735203Z",
     "iopub.status.busy": "2024-10-09T18:16:13.734687Z",
     "iopub.status.idle": "2024-10-09T18:16:14.056803Z",
     "shell.execute_reply": "2024-10-09T18:16:14.055824Z"
    },
    "papermill": {
     "duration": 0.341611,
     "end_time": "2024-10-09T18:16:14.058985",
     "exception": false,
     "start_time": "2024-10-09T18:16:13.717374",
     "status": "completed"
    },
    "tags": []
   },
   "outputs": [
    {
     "name": "stdout",
     "output_type": "stream",
     "text": [
      "Confusion Matrix:\n",
      "[[718  95]\n",
      " [196  15]]\n",
      "\n",
      "Classification Report:\n",
      "              precision    recall  f1-score   support\n",
      "\n",
      "           0       0.79      0.88      0.83       813\n",
      "           1       0.14      0.07      0.09       211\n",
      "\n",
      "    accuracy                           0.72      1024\n",
      "   macro avg       0.46      0.48      0.46      1024\n",
      "weighted avg       0.65      0.72      0.68      1024\n",
      "\n"
     ]
    },
    {
     "data": {
      "image/png": "[encoded data removed]",
      "text/plain": [
       "<Figure size 600x500 with 2 Axes>"
      ]
     },
     "metadata": {},
     "output_type": "display_data"
    }
   ],
   "source": [
    "cm = confusion_matrix(true_label, flattened_predictions)\n",
    "print(\"Confusion Matrix:\")\n",
    "print(cm)\n",
    "\n",
    "# Optional: Detailed classification report\n",
    "print(\"\\nClassification Report:\")\n",
    "print(classification_report(true_label, flattened_predictions))\n",
    "\n",
    "# Optional: Visualize the confusion matrix\n",
    "labels = ['Negative', 'Positive']\n",
    "cm_df = pd.DataFrame(cm, index=labels, columns=labels)\n",
    "\n",
    "plt.figure(figsize=(6,5))\n",
    "sns.heatmap(cm_df, annot=True, fmt='d', cmap='Blues')\n",
    "plt.ylabel('Actual')\n",
    "plt.xlabel('Predicted')\n",
    "plt.title('Confusion Matrix')\n",
    "plt.show()"
   ]
  }
 ],
 "metadata": {
  "kaggle": {
   "accelerator": "nvidiaTeslaT4",
   "dataSources": [
    {
     "datasetId": 5754676,
     "sourceId": 9588403,
     "sourceType": "datasetVersion"
    }
   ],
   "dockerImageVersionId": 30776,
   "isGpuEnabled": true,
   "isInternetEnabled": true,
   "language": "python",
   "sourceType": "notebook"
  },
  "kernelspec": {
   "display_name": "Python 3",
   "language": "python",
   "name": "python3"
  },
  "language_info": {
   "codemirror_mode": {
    "name": "ipython",
    "version": 3
   },
   "file_extension": ".py",
   "mimetype": "text/x-python",
   "name": "python",
   "nbconvert_exporter": "python",
   "pygments_lexer": "ipython3",
   "version": "3.10.14"
  },
  "papermill": {
   "default_parameters": {},
   "duration": 121.020372,
   "end_time": "2024-10-09T18:16:16.478656",
   "environment_variables": {},
   "exception": null,
   "input_path": "__notebook__.ipynb",
   "output_path": "__notebook__.ipynb",
   "parameters": {},
   "start_time": "2024-10-09T18:14:15.458284",
   "version": "2.6.0"
  }
 },
 "nbformat": 4,
 "nbformat_minor": 5
}
