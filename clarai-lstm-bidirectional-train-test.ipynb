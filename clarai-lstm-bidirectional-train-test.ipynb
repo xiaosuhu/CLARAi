{
 "cells": [
  {
   "cell_type": "code",
<<<<<<< HEAD
   "execution_count": 1265,
   "id": "52673168",
=======
   "execution_count": 1,
   "id": "4705a311",
>>>>>>> dd7a1ba2cabeb68475d45c5ee16045a2c3c4dd94
   "metadata": {
    "execution": {
     "iopub.execute_input": "2024-10-09T18:27:03.081551Z",
     "iopub.status.busy": "2024-10-09T18:27:03.081165Z",
     "iopub.status.idle": "2024-10-09T18:27:09.566690Z",
     "shell.execute_reply": "2024-10-09T18:27:09.565730Z"
    },
    "papermill": {
     "duration": 6.496766,
     "end_time": "2024-10-09T18:27:09.569210",
     "exception": false,
     "start_time": "2024-10-09T18:27:03.072444",
     "status": "completed"
    },
    "tags": []
   },
   "outputs": [],
   "source": [
    "from sklearn.model_selection import train_test_split\n",
    "from sklearn.preprocessing import StandardScaler\n",
    "from sklearn.utils.class_weight import compute_class_weight\n",
    "from sklearn.metrics import confusion_matrix, classification_report, roc_curve, auc\n",
    "from torch.utils.data import DataLoader, TensorDataset\n",
    "\n",
    "import torch\n",
    "import torch.nn as nn\n",
    "import torch.optim as optim\n",
    "import pandas as pd\n",
    "import numpy as np\n",
    "import matplotlib.pyplot as plt\n",
    "import seaborn as sns\n",
    "\n",
    "import glob"
   ]
  },
  {
   "cell_type": "code",
<<<<<<< HEAD
   "execution_count": 1266,
   "id": "2bf6a1a8",
=======
   "execution_count": 2,
   "id": "3cb87203",
>>>>>>> dd7a1ba2cabeb68475d45c5ee16045a2c3c4dd94
   "metadata": {
    "execution": {
     "iopub.execute_input": "2024-10-09T18:27:09.583371Z",
     "iopub.status.busy": "2024-10-09T18:27:09.582982Z",
     "iopub.status.idle": "2024-10-09T18:27:09.677134Z",
     "shell.execute_reply": "2024-10-09T18:27:09.676236Z"
    },
    "papermill": {
     "duration": 0.103808,
     "end_time": "2024-10-09T18:27:09.679638",
     "exception": false,
     "start_time": "2024-10-09T18:27:09.575830",
     "status": "completed"
    },
    "tags": []
   },
   "outputs": [
    {
     "name": "stdout",
     "output_type": "stream",
     "text": [
      "cuda\n"
     ]
    }
   ],
   "source": [
    "# device = torch.device(\"mps\")\n",
    "device = torch.device(\"cuda\" if torch.cuda.is_available() else \"cpu\")\n",
    "print(device)"
   ]
  },
  {
   "cell_type": "code",
<<<<<<< HEAD
   "execution_count": 1267,
   "id": "b4534d58",
=======
   "execution_count": 3,
   "id": "789dbefa",
>>>>>>> dd7a1ba2cabeb68475d45c5ee16045a2c3c4dd94
   "metadata": {
    "execution": {
     "iopub.execute_input": "2024-10-09T18:27:09.693285Z",
     "iopub.status.busy": "2024-10-09T18:27:09.693006Z",
     "iopub.status.idle": "2024-10-09T18:27:09.700169Z",
     "shell.execute_reply": "2024-10-09T18:27:09.699352Z"
    },
    "papermill": {
     "duration": 0.016084,
     "end_time": "2024-10-09T18:27:09.702028",
     "exception": false,
     "start_time": "2024-10-09T18:27:09.685944",
     "status": "completed"
    },
    "tags": []
   },
   "outputs": [
    {
     "data": {
      "text/plain": [
       "'# Step 1: Get a list of all CSV file paths in the directory\\ndata_path = glob.glob(\"D:\\\\PythonProjs\\\\CLARAi\\\\Data\\\\*.csv\")  # Modify with your directory path\\nlabel_path = glob.glob(\"D:\\\\PythonProjs\\\\CLARAi\\\\Label\\\\*.csv\")\\n\\n# Step 2: Read each CSV file and store in a list of DataFrames\\ndatadfs = [pd.read_csv(file) for file in data_path]\\nlabeldfs = [pd.read_csv(file) for file in label_path]\\n\\n# Step 3: Concatenate all DataFrames into one\\nfinal_data_df = pd.concat(datadfs, ignore_index=True)\\nfinal_label_df = pd.concat(labeldfs, ignore_index=True)'"
      ]
     },
     "execution_count": 1267,
     "metadata": {},
     "output_type": "execute_result"
    }
   ],
   "source": [
    "\"\"\"# Step 1: Get a list of all CSV file paths in the directory\n",
    "data_path = glob.glob(\"D:\\PythonProjs\\CLARAi\\Data\\*.csv\")  # Modify with your directory path\n",
    "label_path = glob.glob(\"D:\\PythonProjs\\CLARAi\\Label\\*.csv\")\n",
    "\n",
    "# Step 2: Read each CSV file and store in a list of DataFrames\n",
    "datadfs = [pd.read_csv(file) for file in data_path]\n",
    "labeldfs = [pd.read_csv(file) for file in label_path]\n",
    "\n",
    "# Step 3: Concatenate all DataFrames into one\n",
    "final_data_df = pd.concat(datadfs, ignore_index=True)\n",
    "final_label_df = pd.concat(labeldfs, ignore_index=True)\"\"\""
   ]
  },
  {
   "cell_type": "code",
<<<<<<< HEAD
   "execution_count": 1268,
   "id": "ae99b9d5",
=======
   "execution_count": 4,
   "id": "bd070476",
>>>>>>> dd7a1ba2cabeb68475d45c5ee16045a2c3c4dd94
   "metadata": {
    "execution": {
     "iopub.execute_input": "2024-10-09T18:27:09.716628Z",
     "iopub.status.busy": "2024-10-09T18:27:09.716321Z",
     "iopub.status.idle": "2024-10-09T18:27:09.721132Z",
     "shell.execute_reply": "2024-10-09T18:27:09.720262Z"
    },
    "papermill": {
     "duration": 0.015005,
     "end_time": "2024-10-09T18:27:09.723304",
     "exception": false,
     "start_time": "2024-10-09T18:27:09.708299",
     "status": "completed"
    },
    "tags": []
   },
   "outputs": [],
   "source": [
    "class CONFIG:\n",
<<<<<<< HEAD
    "    seq_len = 128\n",
    "    num_seq = 10\n",
    "    data_ch = 4\n",
    "    hidden_size = 32  # Hidden state size of the GRU\n",
    "    output_size = 1  # Binary classification\n",
    "    num_layers = 6  # Number of GRU layers\n",
    "    learning_rate = 0.001\n",
    "    num_epochs = 300\n",
    "    batch_size = 2"
=======
    "    seq_len = 512\n",
    "    num_seq = 500\n",
    "    data_ch = 36\n",
    "    hidden_size = 16  # Hidden state size of the GRU\n",
    "    output_size = 1  # Binary classification\n",
    "    num_layers = 6  # Number of GRU layers\n",
    "    learning_rate = 0.001\n",
    "    num_epochs = 500\n",
    "    batch_size = 8"
>>>>>>> dd7a1ba2cabeb68475d45c5ee16045a2c3c4dd94
   ]
  },
  {
   "cell_type": "code",
<<<<<<< HEAD
   "execution_count": 1269,
   "id": "f0bfabf3",
=======
   "execution_count": 5,
   "id": "6cf7a1cc",
>>>>>>> dd7a1ba2cabeb68475d45c5ee16045a2c3c4dd94
   "metadata": {
    "execution": {
     "iopub.execute_input": "2024-10-09T18:27:09.737144Z",
     "iopub.status.busy": "2024-10-09T18:27:09.736862Z",
     "iopub.status.idle": "2024-10-09T18:27:09.744967Z",
     "shell.execute_reply": "2024-10-09T18:27:09.744141Z"
    },
    "papermill": {
     "duration": 0.017144,
     "end_time": "2024-10-09T18:27:09.746833",
     "exception": false,
     "start_time": "2024-10-09T18:27:09.729689",
     "status": "completed"
    },
    "tags": []
   },
   "outputs": [],
   "source": [
    "def data_gen(data_path, label_path):\n",
    "    final_data_df = pd.read_csv(data_path)\n",
    "    final_label_df = pd.read_csv(label_path)\n",
    "\n",
    "    train_labels_flat = final_label_df.values.flatten()\n",
    "    \n",
    "    # Compute class weights (inverse of class frequencies)\n",
    "    class_weights = compute_class_weight(class_weight='balanced', classes=np.unique(train_labels_flat), y=train_labels_flat)\n",
    "    class_weights = torch.tensor(class_weights, dtype=torch.float32)\n",
    "\n",
    "    # Parameters\n",
    "    sequence_length = CONFIG.seq_len  # Length of each subsequence\n",
    "    num_subsequences = CONFIG.num_seq  # Number of subsequences to extract\n",
    "\n",
    "    # Get possible starting indices, ensuring there's enough space for a full subsequence\n",
    "    possible_starts = np.arange(0, len(final_data_df) - sequence_length + 1)\n",
    "    np.random.shuffle(possible_starts)\n",
    "\n",
    "    # Select the first `num_subsequences` starting indices\n",
    "    selected_starts = possible_starts[:num_subsequences]\n",
    "\n",
    "    # Create a list to hold the subsequences\n",
    "    subsequences = [final_data_df.iloc[start:start + sequence_length].values for start in selected_starts]\n",
    "    sublabels = [final_label_df.iloc[start:start + sequence_length].values for start in selected_starts]\n",
    "\n",
    "    # Convert subsequences list to a NumPy array\n",
    "    subsequences_array = np.array(subsequences)\n",
    "    sublabels_array = np.array(sublabels)\n",
    "\n",
    "    # subsequences_array will have shape (num_subsequences, sequence_length, num_channels)\n",
    "    # print(subsequences_array.shape)  # Should print (100, 100, 36)\n",
    "    # print(sublabels_array.shape)\n",
    "\n",
    "    return torch.from_numpy(subsequences_array), torch.from_numpy(sublabels_array), class_weights\n"
   ]
  },
  {
   "cell_type": "code",
<<<<<<< HEAD
   "execution_count": 1270,
   "id": "44d2126e",
=======
   "execution_count": 6,
   "id": "65b028ef",
>>>>>>> dd7a1ba2cabeb68475d45c5ee16045a2c3c4dd94
   "metadata": {
    "execution": {
     "iopub.execute_input": "2024-10-09T18:27:09.761312Z",
     "iopub.status.busy": "2024-10-09T18:27:09.760663Z",
     "iopub.status.idle": "2024-10-09T18:27:09.769950Z",
     "shell.execute_reply": "2024-10-09T18:27:09.769099Z"
    },
    "papermill": {
     "duration": 0.018612,
     "end_time": "2024-10-09T18:27:09.771760",
     "exception": false,
     "start_time": "2024-10-09T18:27:09.753148",
     "status": "completed"
    },
    "tags": []
   },
   "outputs": [],
   "source": [
    "\n",
    "# Sample time series data with shape (batch_size, sequence_length, num_features)\n",
    "# neuroimaging_data: Time series data from multiple neuroimaging channels\n",
    "# labels: Binary labels (0 = no pain, 1 = pain) for each time step\n",
    "# Assume neuroimaging_data is a numpy array of shape (num_samples, sequence_length, num_channels)\n",
    "# labels is a numpy array of shape (num_samples, sequence_length)\n",
    "\n",
    "class BidirectionalLSTMClassifier(nn.Module):\n",
    "    def __init__(self, input_size, hidden_size, output_size, num_layers=1):\n",
    "        super(BidirectionalLSTMClassifier, self).__init__()\n",
    "        self.hidden_size = hidden_size\n",
    "        self.num_layers = num_layers\n",
    "        self.lstm = nn.LSTM(input_size, hidden_size, num_layers, batch_first=True, bidirectional=True)\n",
    "        \n",
    "        # Adjust the fully connected layer to account for doubled hidden size (forward + backward)\n",
    "        self.fc = nn.Linear(hidden_size * 2, output_size)\n",
    "        self.batch_norm = nn.BatchNorm1d(hidden_size * 2)  # Adjust Batch Normalization for bidirectional\n",
    "        self.sigmoid = nn.Sigmoid()\n",
    "\n",
    "    def forward(self, x):\n",
    "        # Initialize hidden state and cell state with zeros for both directions\n",
    "        h0 = torch.zeros(self.num_layers * 2, x.size(0), self.hidden_size).to(x.device)  # *2 for bidirectional\n",
    "        c0 = torch.zeros(self.num_layers * 2, x.size(0), self.hidden_size).to(x.device)\n",
    "\n",
    "        # LSTM forward pass\n",
    "        out, _ = self.lstm(x, (h0, c0))\n",
    "        \n",
    "        # Apply batch normalization\n",
    "        # Permute to (batch_size, hidden_size*2, sequence_length) for batch norm\n",
    "        out = out.permute(0, 2, 1)\n",
    "        out = self.batch_norm(out)\n",
    "        \n",
    "        # Permute back to (batch_size, sequence_length, hidden_size*2)\n",
    "        out = out.permute(0, 2, 1)\n",
    "        \n",
    "        # Apply the linear layer to each time step\n",
    "        out = self.fc(out)\n",
    "        \n",
    "        return self.sigmoid(out)\n"
   ]
  },
  {
   "cell_type": "code",
<<<<<<< HEAD
   "execution_count": 1271,
   "id": "1760f1c8",
=======
   "execution_count": 7,
   "id": "e9150644",
>>>>>>> dd7a1ba2cabeb68475d45c5ee16045a2c3c4dd94
   "metadata": {
    "execution": {
     "iopub.execute_input": "2024-10-09T18:27:09.785329Z",
     "iopub.status.busy": "2024-10-09T18:27:09.785067Z",
     "iopub.status.idle": "2024-10-09T18:27:09.798260Z",
     "shell.execute_reply": "2024-10-09T18:27:09.797496Z"
    },
    "papermill": {
     "duration": 0.02203,
     "end_time": "2024-10-09T18:27:09.800027",
     "exception": false,
     "start_time": "2024-10-09T18:27:09.777997",
     "status": "completed"
    },
    "tags": []
   },
   "outputs": [],
   "source": [
    "data_path = glob.glob(\"D:\\PythonProjs\\CLARAi\\Data_train_temp\\*.csv\")  # Modify with your directory path\n",
    "label_path = glob.glob(\"D:\\PythonProjs\\CLARAi\\Label_train_temp\\*.csv\")\n",
    "\n",
    "# data_path = glob.glob(\"/home/frank/Documents/CLARAi/Data/*.csv\")  # Modify with your directory path\n",
    "# label_path = glob.glob(\"/home/frank/Documents/CLARAi/Label/*.csv\")\n",
    "\n",
    "# data_path = glob.glob(\"/Users/xiaosuhu/Documents/Python/CLARAi/Data/*.csv\")  # Modify with your directory path\n",
    "# label_path = glob.glob(\"/Users/xiaosuhu/Documents/Python/CLARAi/Data/*.csv\")\n",
    "\n",
    "# data_path = glob.glob(\"/kaggle/input/CLARAi/Data_train/*.csv\")  # Modify with your directory path\n",
    "# label_path = glob.glob(\"/kaggle/input/CLARAi/Label_train/*.csv\")\n",
    "\n",
    "# Sort the lists\n",
    "data_path = sorted(data_path)\n",
    "label_path = sorted(label_path)\n"
   ]
  },
  {
   "cell_type": "code",
<<<<<<< HEAD
   "execution_count": 1272,
   "id": "4926bc74",
=======
   "execution_count": 8,
   "id": "6436151c",
>>>>>>> dd7a1ba2cabeb68475d45c5ee16045a2c3c4dd94
   "metadata": {
    "execution": {
     "iopub.execute_input": "2024-10-09T18:27:09.813547Z",
     "iopub.status.busy": "2024-10-09T18:27:09.813269Z",
     "iopub.status.idle": "2024-10-09T18:27:09.818746Z",
     "shell.execute_reply": "2024-10-09T18:27:09.817914Z"
    },
    "papermill": {
     "duration": 0.014506,
     "end_time": "2024-10-09T18:27:09.820775",
     "exception": false,
     "start_time": "2024-10-09T18:27:09.806269",
     "status": "completed"
    },
    "tags": []
   },
   "outputs": [
    {
     "data": {
      "text/plain": [
       "['D:\\\\PythonProjs\\\\CLARAi\\\\Data_train_temp\\\\data1.csv',\n",
       " 'D:\\\\PythonProjs\\\\CLARAi\\\\Data_train_temp\\\\data3.csv']"
      ]
     },
     "execution_count": 1272,
     "metadata": {},
     "output_type": "execute_result"
    }
   ],
   "source": [
    "data_path"
   ]
  },
  {
   "cell_type": "code",
<<<<<<< HEAD
   "execution_count": 1273,
   "id": "f87035b2",
=======
   "execution_count": 9,
   "id": "2140e1f3",
>>>>>>> dd7a1ba2cabeb68475d45c5ee16045a2c3c4dd94
   "metadata": {
    "execution": {
     "iopub.execute_input": "2024-10-09T18:27:09.835064Z",
     "iopub.status.busy": "2024-10-09T18:27:09.834383Z",
     "iopub.status.idle": "2024-10-09T18:27:09.857089Z",
     "shell.execute_reply": "2024-10-09T18:27:09.856265Z"
    },
    "papermill": {
     "duration": 0.031938,
     "end_time": "2024-10-09T18:27:09.859159",
     "exception": false,
     "start_time": "2024-10-09T18:27:09.827221",
     "status": "completed"
    },
    "tags": []
   },
   "outputs": [],
   "source": [
    "\n",
    "# data_path = \"D:\\PythonProjs\\CLARAi\\Data\\data1.csv\"\n",
    "# label_path = \"D:\\PythonProjs\\CLARAi\\Label\\label1.csv\"\n",
    "neuroimaging_data = torch.empty(0,CONFIG.seq_len,CONFIG.data_ch)\n",
    "labels = torch.empty(0,CONFIG.seq_len,1)\n",
    "class_weights = torch.Tensor([0., 0.])"
   ]
  },
  {
   "cell_type": "code",
<<<<<<< HEAD
   "execution_count": 1274,
   "id": "fe904a62",
=======
   "execution_count": 10,
   "id": "d67aeaa5",
>>>>>>> dd7a1ba2cabeb68475d45c5ee16045a2c3c4dd94
   "metadata": {
    "execution": {
     "iopub.execute_input": "2024-10-09T18:27:09.873404Z",
     "iopub.status.busy": "2024-10-09T18:27:09.873111Z",
     "iopub.status.idle": "2024-10-09T18:27:13.750606Z",
     "shell.execute_reply": "2024-10-09T18:27:13.749600Z"
    },
    "papermill": {
     "duration": 3.887504,
     "end_time": "2024-10-09T18:27:13.753216",
     "exception": false,
     "start_time": "2024-10-09T18:27:09.865712",
     "status": "completed"
    },
    "tags": []
   },
   "outputs": [
    {
     "name": "stdout",
     "output_type": "stream",
     "text": [
      "datapath: D:\\PythonProjs\\CLARAi\\Data_train_temp\\data1.csv\n",
      "labelpath: D:\\PythonProjs\\CLARAi\\Label_train_temp\\label1.csv\n",
      "Data shape: torch.Size([10, 128, 4]), Label shape: torch.Size([10, 128, 1]), Weight shape: torch.Size([2])\n",
      "datapath: D:\\PythonProjs\\CLARAi\\Data_train_temp\\data3.csv\n",
      "labelpath: D:\\PythonProjs\\CLARAi\\Label_train_temp\\label3.csv\n",
      "Data shape: torch.Size([10, 128, 4]), Label shape: torch.Size([10, 128, 1]), Weight shape: torch.Size([2])\n"
     ]
    }
   ],
   "source": [
    "\n",
    "for datapath, labelpath in zip(data_path, label_path):\n",
    "    print(f'datapath: {datapath}')\n",
    "    print(f'labelpath: {labelpath}')    \n",
    "    data, label, weight = data_gen(datapath, labelpath)\n",
    "    print(f'Data shape: {data.shape}, Label shape: {label.shape}, Weight shape: {weight.shape}')\n",
    "    neuroimaging_data= torch.cat([neuroimaging_data, data])\n",
    "    labels = torch.cat([labels, label])\n",
    "    class_weights += weight\n",
    "\n",
    "normalized_weights = class_weights / class_weights.sum()\n"
   ]
  },
  {
   "cell_type": "code",
<<<<<<< HEAD
   "execution_count": 1275,
   "id": "835fe81b",
=======
   "execution_count": 11,
   "id": "ed2c5986",
>>>>>>> dd7a1ba2cabeb68475d45c5ee16045a2c3c4dd94
   "metadata": {
    "execution": {
     "iopub.execute_input": "2024-10-09T18:27:13.772526Z",
     "iopub.status.busy": "2024-10-09T18:27:13.771844Z",
     "iopub.status.idle": "2024-10-09T18:27:13.778123Z",
     "shell.execute_reply": "2024-10-09T18:27:13.777091Z"
    },
    "papermill": {
     "duration": 0.017184,
     "end_time": "2024-10-09T18:27:13.780081",
     "exception": false,
     "start_time": "2024-10-09T18:27:13.762897",
     "status": "completed"
    },
    "tags": []
   },
   "outputs": [
    {
     "data": {
      "text/plain": [
       "(torch.Size([20, 128, 4]), torch.Size([20, 128, 1]))"
      ]
     },
     "execution_count": 1275,
     "metadata": {},
     "output_type": "execute_result"
    }
   ],
   "source": [
    "neuroimaging_data.shape, labels.shape"
   ]
  },
  {
   "cell_type": "code",
<<<<<<< HEAD
   "execution_count": 1276,
   "id": "f7c11df6",
=======
   "execution_count": 12,
   "id": "f5b7a13c",
>>>>>>> dd7a1ba2cabeb68475d45c5ee16045a2c3c4dd94
   "metadata": {
    "execution": {
     "iopub.execute_input": "2024-10-09T18:27:13.796953Z",
     "iopub.status.busy": "2024-10-09T18:27:13.796267Z",
     "iopub.status.idle": "2024-10-09T18:27:13.842985Z",
     "shell.execute_reply": "2024-10-09T18:27:13.841801Z"
    },
    "papermill": {
     "duration": 0.057335,
     "end_time": "2024-10-09T18:27:13.845104",
     "exception": false,
     "start_time": "2024-10-09T18:27:13.787769",
     "status": "completed"
    },
    "tags": []
   },
   "outputs": [
    {
     "name": "stdout",
     "output_type": "stream",
     "text": [
<<<<<<< HEAD
      "Number of 0s: 954Number of 1s: 1606 Ratio is 0.62734375\n"
=======
      "Number of 0s: 2537640Number of 1s: 739160 Ratio is 0.22557373046875\n"
>>>>>>> dd7a1ba2cabeb68475d45c5ee16045a2c3c4dd94
     ]
    }
   ],
   "source": [
    "# Count the number of 1s\n",
    "num_zeros = torch.sum(labels == 0).item()\n",
    "num_ones = torch.sum(labels == 1).item()\n",
    "\n",
    "print(f\"Number of 0s: {num_zeros}Number of 1s: {num_ones} Ratio is {num_ones/(num_ones + num_zeros)}\")"
   ]
  },
  {
   "cell_type": "code",
<<<<<<< HEAD
   "execution_count": 1277,
   "id": "6ccc4af0",
=======
   "execution_count": 13,
   "id": "c848cd9e",
>>>>>>> dd7a1ba2cabeb68475d45c5ee16045a2c3c4dd94
   "metadata": {
    "execution": {
     "iopub.execute_input": "2024-10-09T18:27:13.862609Z",
     "iopub.status.busy": "2024-10-09T18:27:13.862261Z",
     "iopub.status.idle": "2024-10-09T18:27:16.537389Z",
     "shell.execute_reply": "2024-10-09T18:27:16.536620Z"
    },
    "papermill": {
     "duration": 2.686544,
     "end_time": "2024-10-09T18:27:16.539803",
     "exception": false,
     "start_time": "2024-10-09T18:27:13.853259",
     "status": "completed"
    },
    "tags": []
   },
   "outputs": [
    {
     "name": "stderr",
     "output_type": "stream",
     "text": [
      "C:\\Users\\xiaos\\AppData\\Local\\Temp\\ipykernel_20160\\3072856817.py:16: UserWarning: To copy construct from a tensor, it is recommended to use sourceTensor.clone().detach() or sourceTensor.clone().detach().requires_grad_(True), rather than torch.tensor(sourceTensor).\n",
      "  train_data, test_data = torch.tensor(train_data, dtype=torch.float32).to(device), torch.tensor(test_data, dtype=torch.float32).to(device)\n",
      "C:\\Users\\xiaos\\AppData\\Local\\Temp\\ipykernel_20160\\3072856817.py:17: UserWarning: To copy construct from a tensor, it is recommended to use sourceTensor.clone().detach() or sourceTensor.clone().detach().requires_grad_(True), rather than torch.tensor(sourceTensor).\n",
      "  train_labels, test_labels = torch.tensor(train_labels, dtype=torch.float32).to(device), torch.tensor(test_labels, dtype=torch.float32).to(device)\n"
     ]
    }
   ],
   "source": [
    "# Hyperparameters\n",
    "input_size = CONFIG.data_ch  # Number of features (channels)\n",
    "hidden_size = CONFIG.hidden_size  # Hidden state size of the GRU\n",
    "output_size = CONFIG.output_size  # Binary classification\n",
    "num_layers = CONFIG.num_layers  # Number of GRU layers\n",
    "learning_rate = CONFIG.learning_rate\n",
    "num_epochs = CONFIG.num_epochs\n",
    "batch_size = CONFIG.batch_size\n",
    "\n",
    "# Preprocessing (e.g., normalization)\n",
    "# scaler = StandardScaler()\n",
    "# neuroimaging_data = scaler.fit_transform(neuroimaging_data.reshape(-1, input_size)).reshape(neuroimaging_data.shape)\n",
    "\n",
    "# Convert numpy arrays to PyTorch tensors\n",
    "train_data, test_data, train_labels, test_labels = train_test_split(neuroimaging_data, labels, test_size=0.2, random_state=42)\n",
    "train_data, test_data = torch.tensor(train_data, dtype=torch.float32).to(device), torch.tensor(test_data, dtype=torch.float32).to(device)\n",
    "train_labels, test_labels = torch.tensor(train_labels, dtype=torch.float32).to(device), torch.tensor(test_labels, dtype=torch.float32).to(device)\n",
    "\n",
    "# Create GRU model\n",
    "model = BidirectionalLSTMClassifier(input_size, hidden_size, output_size, num_layers)\n",
    "model = torch.nn.DataParallel(model)\n",
    "model.to(device)\n",
    "\n",
    "# Loss and optimizer\n",
    "# criterion = nn.BCELoss()  # Binary Cross Entropy Loss for binary classification\n",
    "\n",
    "\n",
    "# Convert the class weights to a tensor and move to the appropriate device\n",
    "class_weights = class_weights.to(device)\n",
    "\n",
    "# Use BCEWithLogitsLoss, which combines sigmoid activation and binary cross-entropy loss\n",
    "criterion = nn.BCEWithLogitsLoss(pos_weight=normalized_weights[0])  # pos_weight applies only to class 1\n",
    "\n",
    "# optimizer = optim.Adam(model.parameters(), lr=learning_rate)\n",
    "optimizer = optim.Adam(model.parameters(), lr=learning_rate, weight_decay=1e-5)\n",
    "scheduler = torch.optim.lr_scheduler.ReduceLROnPlateau(optimizer, mode='min', factor=0.1, patience=20)"
   ]
  },
  {
   "cell_type": "code",
<<<<<<< HEAD
   "execution_count": 1278,
   "id": "7ef56731",
=======
   "execution_count": 14,
   "id": "4e008cdd",
>>>>>>> dd7a1ba2cabeb68475d45c5ee16045a2c3c4dd94
   "metadata": {
    "execution": {
     "iopub.execute_input": "2024-10-09T18:27:16.557455Z",
     "iopub.status.busy": "2024-10-09T18:27:16.557022Z",
     "iopub.status.idle": "2024-10-09T18:31:06.283415Z",
     "shell.execute_reply": "2024-10-09T18:31:06.282404Z"
    },
    "papermill": {
     "duration": 229.737801,
     "end_time": "2024-10-09T18:31:06.285808",
     "exception": false,
     "start_time": "2024-10-09T18:27:16.548007",
     "status": "completed"
    },
    "tags": []
   },
   "outputs": [
    {
     "name": "stdout",
     "output_type": "stream",
     "text": [
<<<<<<< HEAD
      "Epoch [5/300], Train Loss: 0.4925, Val Loss: 0.5321\n",
      "Epoch [10/300], Train Loss: 0.4596, Val Loss: 0.5295\n",
      "Epoch [15/300], Train Loss: 0.4397, Val Loss: 0.5263\n",
      "Epoch [20/300], Train Loss: 0.4288, Val Loss: 0.5221\n",
      "Epoch [25/300], Train Loss: 0.4205, Val Loss: 0.5177\n",
      "Epoch [30/300], Train Loss: 0.4142, Val Loss: 0.5099\n",
      "Epoch [35/300], Train Loss: 0.4088, Val Loss: 0.4977\n",
      "Epoch [40/300], Train Loss: 0.4037, Val Loss: 0.4896\n",
      "Epoch [45/300], Train Loss: 0.3988, Val Loss: 0.4822\n",
      "Epoch [50/300], Train Loss: 0.3957, Val Loss: 0.4759\n",
      "Epoch [55/300], Train Loss: 0.3934, Val Loss: 0.4740\n",
      "Epoch [60/300], Train Loss: 0.3917, Val Loss: 0.4762\n",
      "Epoch [65/300], Train Loss: 0.3904, Val Loss: 0.4763\n",
      "Epoch [70/300], Train Loss: 0.3893, Val Loss: 0.4775\n",
      "Epoch [75/300], Train Loss: 0.3884, Val Loss: 0.4801\n",
      "Epoch [80/300], Train Loss: 0.3883, Val Loss: 0.4819\n",
      "Epoch [85/300], Train Loss: 0.3882, Val Loss: 0.4825\n",
      "Epoch [90/300], Train Loss: 0.3881, Val Loss: 0.4832\n",
      "Epoch [95/300], Train Loss: 0.3880, Val Loss: 0.4836\n",
      "Epoch [100/300], Train Loss: 0.3880, Val Loss: 0.4838\n",
      "Epoch [105/300], Train Loss: 0.3880, Val Loss: 0.4838\n",
      "Epoch [110/300], Train Loss: 0.3880, Val Loss: 0.4838\n",
      "Epoch [115/300], Train Loss: 0.3880, Val Loss: 0.4839\n",
      "Epoch [120/300], Train Loss: 0.3880, Val Loss: 0.4839\n",
      "Epoch [125/300], Train Loss: 0.3880, Val Loss: 0.4839\n",
      "Epoch [130/300], Train Loss: 0.3880, Val Loss: 0.4839\n",
      "Epoch [135/300], Train Loss: 0.3880, Val Loss: 0.4839\n",
      "Epoch [140/300], Train Loss: 0.3880, Val Loss: 0.4839\n",
      "Epoch [145/300], Train Loss: 0.3880, Val Loss: 0.4839\n",
      "Epoch [150/300], Train Loss: 0.3880, Val Loss: 0.4839\n",
      "Epoch [155/300], Train Loss: 0.3880, Val Loss: 0.4839\n",
      "Epoch [160/300], Train Loss: 0.3880, Val Loss: 0.4839\n",
      "Epoch [165/300], Train Loss: 0.3880, Val Loss: 0.4839\n",
      "Epoch [170/300], Train Loss: 0.3880, Val Loss: 0.4839\n",
      "Epoch [175/300], Train Loss: 0.3880, Val Loss: 0.4839\n",
      "Epoch [180/300], Train Loss: 0.3880, Val Loss: 0.4839\n",
      "Epoch [185/300], Train Loss: 0.3880, Val Loss: 0.4839\n",
      "Epoch [190/300], Train Loss: 0.3880, Val Loss: 0.4839\n",
      "Epoch [195/300], Train Loss: 0.3880, Val Loss: 0.4839\n",
      "Epoch [200/300], Train Loss: 0.3880, Val Loss: 0.4839\n",
      "Epoch [205/300], Train Loss: 0.3880, Val Loss: 0.4839\n",
      "Epoch [210/300], Train Loss: 0.3880, Val Loss: 0.4839\n",
      "Epoch [215/300], Train Loss: 0.3880, Val Loss: 0.4839\n",
      "Epoch [220/300], Train Loss: 0.3880, Val Loss: 0.4839\n",
      "Epoch [225/300], Train Loss: 0.3880, Val Loss: 0.4839\n",
      "Epoch [230/300], Train Loss: 0.3880, Val Loss: 0.4839\n",
      "Epoch [235/300], Train Loss: 0.3880, Val Loss: 0.4839\n",
      "Epoch [240/300], Train Loss: 0.3880, Val Loss: 0.4839\n",
      "Epoch [245/300], Train Loss: 0.3880, Val Loss: 0.4839\n",
      "Epoch [250/300], Train Loss: 0.3880, Val Loss: 0.4839\n",
      "Epoch [255/300], Train Loss: 0.3880, Val Loss: 0.4839\n",
      "Epoch [260/300], Train Loss: 0.3880, Val Loss: 0.4839\n",
      "Epoch [265/300], Train Loss: 0.3880, Val Loss: 0.4839\n",
      "Epoch [270/300], Train Loss: 0.3880, Val Loss: 0.4839\n",
      "Epoch [275/300], Train Loss: 0.3880, Val Loss: 0.4839\n",
      "Epoch [280/300], Train Loss: 0.3880, Val Loss: 0.4839\n",
      "Epoch [285/300], Train Loss: 0.3880, Val Loss: 0.4839\n",
      "Epoch [290/300], Train Loss: 0.3880, Val Loss: 0.4839\n",
      "Epoch [295/300], Train Loss: 0.3880, Val Loss: 0.4839\n",
      "Epoch [300/300], Train Loss: 0.3880, Val Loss: 0.4839\n"
=======
      "Epoch [5/500], Train Loss: 0.7723, Val Loss: 0.7719\n",
      "Epoch [10/500], Train Loss: 0.7622, Val Loss: 0.7684\n",
      "Epoch [15/500], Train Loss: 0.7430, Val Loss: 0.7655\n",
      "Epoch [20/500], Train Loss: 0.7184, Val Loss: 0.7616\n",
      "Epoch [25/500], Train Loss: 0.7014, Val Loss: 0.7568\n",
      "Epoch [30/500], Train Loss: 0.6882, Val Loss: 0.7548\n",
      "Epoch [35/500], Train Loss: 0.6798, Val Loss: 0.7512\n",
      "Epoch [40/500], Train Loss: 0.6730, Val Loss: 0.7413\n",
      "Epoch [45/500], Train Loss: 0.6668, Val Loss: 0.7262\n",
      "Epoch [50/500], Train Loss: 0.6609, Val Loss: 0.7095\n",
      "Epoch [55/500], Train Loss: 0.6555, Val Loss: 0.6944\n",
      "Epoch [60/500], Train Loss: 0.6502, Val Loss: 0.6747\n",
      "Epoch [65/500], Train Loss: 0.6453, Val Loss: 0.6641\n",
      "Epoch [70/500], Train Loss: 0.6406, Val Loss: 0.6550\n",
      "Epoch [75/500], Train Loss: 0.6360, Val Loss: 0.6505\n",
      "Epoch [80/500], Train Loss: 0.6318, Val Loss: 0.6431\n",
      "Epoch [85/500], Train Loss: 0.6280, Val Loss: 0.6335\n",
      "Epoch [90/500], Train Loss: 0.6246, Val Loss: 0.6269\n",
      "Epoch [95/500], Train Loss: 0.6223, Val Loss: 0.6235\n",
      "Epoch [100/500], Train Loss: 0.6201, Val Loss: 0.6221\n",
      "Epoch [105/500], Train Loss: 0.6185, Val Loss: 0.6206\n",
      "Epoch [110/500], Train Loss: 0.6171, Val Loss: 0.6197\n",
      "Epoch [115/500], Train Loss: 0.6158, Val Loss: 0.6192\n",
      "Epoch [120/500], Train Loss: 0.6149, Val Loss: 0.6187\n",
      "Epoch [125/500], Train Loss: 0.6138, Val Loss: 0.6181\n",
      "Epoch [130/500], Train Loss: 0.6124, Val Loss: 0.6166\n",
      "Epoch [135/500], Train Loss: 0.6053, Val Loss: 0.6033\n",
      "Epoch [140/500], Train Loss: 0.5973, Val Loss: 0.6004\n",
      "Epoch [145/500], Train Loss: 0.5960, Val Loss: 0.5995\n",
      "Epoch [150/500], Train Loss: 0.5946, Val Loss: 0.5983\n",
      "Epoch [155/500], Train Loss: 0.5929, Val Loss: 0.5950\n",
      "Epoch [160/500], Train Loss: 0.5881, Val Loss: 0.5886\n",
      "Epoch [165/500], Train Loss: 0.5866, Val Loss: 0.5881\n",
      "Epoch [170/500], Train Loss: 0.5856, Val Loss: 0.5872\n",
      "Epoch [175/500], Train Loss: 0.5848, Val Loss: 0.5868\n",
      "Epoch [180/500], Train Loss: 0.5842, Val Loss: 0.5864\n",
      "Epoch [185/500], Train Loss: 0.5836, Val Loss: 0.5860\n",
      "Epoch [190/500], Train Loss: 0.5831, Val Loss: 0.5854\n",
      "Epoch [195/500], Train Loss: 0.5827, Val Loss: 0.5849\n",
      "Epoch [200/500], Train Loss: 0.5823, Val Loss: 0.5844\n",
      "Epoch [205/500], Train Loss: 0.5819, Val Loss: 0.5841\n",
      "Epoch [210/500], Train Loss: 0.5816, Val Loss: 0.5838\n",
      "Epoch [215/500], Train Loss: 0.5813, Val Loss: 0.5834\n",
      "Epoch [220/500], Train Loss: 0.5810, Val Loss: 0.5831\n",
      "Epoch [225/500], Train Loss: 0.5808, Val Loss: 0.5829\n",
      "Epoch [230/500], Train Loss: 0.5806, Val Loss: 0.5826\n",
      "Epoch [235/500], Train Loss: 0.5804, Val Loss: 0.5824\n",
      "Epoch [240/500], Train Loss: 0.5802, Val Loss: 0.5822\n",
      "Epoch [245/500], Train Loss: 0.5800, Val Loss: 0.5821\n",
      "Epoch [250/500], Train Loss: 0.5798, Val Loss: 0.5819\n",
      "Epoch [255/500], Train Loss: 0.5797, Val Loss: 0.5817\n",
      "Epoch [260/500], Train Loss: 0.5795, Val Loss: 0.5816\n",
      "Epoch [265/500], Train Loss: 0.5794, Val Loss: 0.5814\n",
      "Epoch [270/500], Train Loss: 0.5794, Val Loss: 0.5817\n",
      "Epoch [275/500], Train Loss: 0.5821, Val Loss: 0.5835\n",
      "Epoch [280/500], Train Loss: 0.5812, Val Loss: 0.5822\n",
      "Epoch [285/500], Train Loss: 0.5803, Val Loss: 0.5816\n",
      "Epoch [290/500], Train Loss: 0.5800, Val Loss: 0.5817\n",
      "Epoch [295/500], Train Loss: 0.5798, Val Loss: 0.5817\n",
      "Epoch [300/500], Train Loss: 0.5797, Val Loss: 0.5817\n",
      "Epoch [305/500], Train Loss: 0.5796, Val Loss: 0.5816\n",
      "Epoch [310/500], Train Loss: 0.5795, Val Loss: 0.5816\n",
      "Epoch [315/500], Train Loss: 0.5795, Val Loss: 0.5816\n",
      "Epoch [320/500], Train Loss: 0.5795, Val Loss: 0.5815\n",
      "Epoch [325/500], Train Loss: 0.5795, Val Loss: 0.5815\n",
      "Epoch [330/500], Train Loss: 0.5795, Val Loss: 0.5815\n",
      "Epoch [335/500], Train Loss: 0.5795, Val Loss: 0.5815\n",
      "Epoch [340/500], Train Loss: 0.5794, Val Loss: 0.5815\n",
      "Epoch [345/500], Train Loss: 0.5794, Val Loss: 0.5815\n",
      "Epoch [350/500], Train Loss: 0.5794, Val Loss: 0.5815\n",
      "Epoch [355/500], Train Loss: 0.5794, Val Loss: 0.5815\n",
      "Epoch [360/500], Train Loss: 0.5794, Val Loss: 0.5815\n",
      "Epoch [365/500], Train Loss: 0.5794, Val Loss: 0.5815\n",
      "Epoch [370/500], Train Loss: 0.5794, Val Loss: 0.5815\n",
      "Epoch [375/500], Train Loss: 0.5794, Val Loss: 0.5815\n",
      "Epoch [380/500], Train Loss: 0.5794, Val Loss: 0.5815\n",
      "Epoch [385/500], Train Loss: 0.5794, Val Loss: 0.5815\n",
      "Epoch [390/500], Train Loss: 0.5794, Val Loss: 0.5815\n",
      "Epoch [395/500], Train Loss: 0.5794, Val Loss: 0.5815\n",
      "Epoch [400/500], Train Loss: 0.5794, Val Loss: 0.5815\n",
      "Epoch [405/500], Train Loss: 0.5794, Val Loss: 0.5815\n",
      "Epoch [410/500], Train Loss: 0.5794, Val Loss: 0.5815\n",
      "Epoch [415/500], Train Loss: 0.5794, Val Loss: 0.5815\n",
      "Epoch [420/500], Train Loss: 0.5794, Val Loss: 0.5815\n",
      "Epoch [425/500], Train Loss: 0.5794, Val Loss: 0.5815\n",
      "Epoch [430/500], Train Loss: 0.5794, Val Loss: 0.5815\n",
      "Epoch [435/500], Train Loss: 0.5794, Val Loss: 0.5815\n",
      "Epoch [440/500], Train Loss: 0.5794, Val Loss: 0.5815\n",
      "Epoch [445/500], Train Loss: 0.5794, Val Loss: 0.5815\n",
      "Epoch [450/500], Train Loss: 0.5794, Val Loss: 0.5815\n",
      "Epoch [455/500], Train Loss: 0.5794, Val Loss: 0.5815\n",
      "Epoch [460/500], Train Loss: 0.5794, Val Loss: 0.5815\n",
      "Epoch [465/500], Train Loss: 0.5794, Val Loss: 0.5815\n",
      "Epoch [470/500], Train Loss: 0.5794, Val Loss: 0.5815\n",
      "Epoch [475/500], Train Loss: 0.5794, Val Loss: 0.5815\n",
      "Epoch [480/500], Train Loss: 0.5794, Val Loss: 0.5815\n",
      "Epoch [485/500], Train Loss: 0.5794, Val Loss: 0.5815\n",
      "Epoch [490/500], Train Loss: 0.5794, Val Loss: 0.5815\n",
      "Epoch [495/500], Train Loss: 0.5794, Val Loss: 0.5815\n",
      "Epoch [500/500], Train Loss: 0.5794, Val Loss: 0.5815\n"
>>>>>>> dd7a1ba2cabeb68475d45c5ee16045a2c3c4dd94
     ]
    }
   ],
   "source": [
    "# Training loop\n",
    "for epoch in range(num_epochs):\n",
    "    model.train()  # Set model to training mode\n",
    "    optimizer.zero_grad()\n",
    "    \n",
    "    # Forward pass (training)\n",
    "    outputs = model(train_data)\n",
    "    loss = criterion(outputs, train_labels)\n",
    "    \n",
    "    # Backward pass and optimization\n",
    "    loss.backward()\n",
    "    \n",
    "    # Clip gradients to prevent exploding gradients\n",
    "    torch.nn.utils.clip_grad_norm_(model.parameters(), max_norm=1.0)\n",
    "    \n",
    "    optimizer.step()\n",
    "\n",
    "    # Validation phase (no gradient calculations)\n",
    "    model.eval()  # Set model to evaluation mode\n",
    "    with torch.no_grad():  # Disable gradient calculation for validation\n",
    "        val_outputs = model(test_data)\n",
    "        val_loss = criterion(val_outputs, test_labels)\n",
    "\n",
    "    # Update learning rate if validation loss plateaus\n",
    "    scheduler.step(val_loss)\n",
    "\n",
    "    # Print loss every 5 epochs\n",
    "    if (epoch + 1) % 5 == 0:\n",
    "        print(f'Epoch [{epoch+1}/{num_epochs}], Train Loss: {loss.item():.4f}, Val Loss: {val_loss.item():.4f}')\n"
   ]
  },
  {
   "cell_type": "code",
<<<<<<< HEAD
   "execution_count": 1279,
   "id": "6c190b87",
=======
   "execution_count": 15,
   "id": "ccf56b24",
>>>>>>> dd7a1ba2cabeb68475d45c5ee16045a2c3c4dd94
   "metadata": {
    "execution": {
     "iopub.execute_input": "2024-10-09T18:31:06.325664Z",
     "iopub.status.busy": "2024-10-09T18:31:06.324740Z",
     "iopub.status.idle": "2024-10-09T18:31:06.335979Z",
     "shell.execute_reply": "2024-10-09T18:31:06.334820Z"
    },
    "papermill": {
     "duration": 0.033166,
     "end_time": "2024-10-09T18:31:06.338004",
     "exception": false,
     "start_time": "2024-10-09T18:31:06.304838",
     "status": "completed"
    },
    "tags": []
   },
   "outputs": [],
   "source": [
    "# After the training loop\n",
    "# torch.save(model.state_dict(), 'D:\\PythonProjs\\CLARAi\\Trained_model_weights\\lstm_bidi_model_state_dict_data_300_ep_200.pth')\n",
    "# torch.save(model.state_dict(), '/kaggle/working/lstm_bidi_model_state_dict_data_300_ep_200.pth')\n",
    "# print(\"Model state_dict saved to 'lstm_unidi_model_state_dict.pth'\")"
   ]
  },
  {
   "cell_type": "code",
<<<<<<< HEAD
   "execution_count": 1280,
   "id": "e87055d3",
=======
   "execution_count": 16,
   "id": "4096b00a",
>>>>>>> dd7a1ba2cabeb68475d45c5ee16045a2c3c4dd94
   "metadata": {
    "execution": {
     "iopub.execute_input": "2024-10-09T18:31:06.376833Z",
     "iopub.status.busy": "2024-10-09T18:31:06.376277Z",
     "iopub.status.idle": "2024-10-09T18:31:07.459883Z",
     "shell.execute_reply": "2024-10-09T18:31:07.459030Z"
    },
    "papermill": {
     "duration": 1.105223,
     "end_time": "2024-10-09T18:31:07.461921",
     "exception": false,
     "start_time": "2024-10-09T18:31:06.356698",
     "status": "completed"
    },
    "tags": []
   },
   "outputs": [
    {
     "name": "stdout",
     "output_type": "stream",
     "text": [
<<<<<<< HEAD
      "Accuracy: 74.22%\n",
      "Confusion Matrix:\n",
      "[[108  76]\n",
      " [ 56 272]]\n"
=======
      "Accuracy: 87.56%\n",
      "Confusion Matrix:\n",
      "[[485320  21414]\n",
      " [ 60087  88539]]\n"
>>>>>>> dd7a1ba2cabeb68475d45c5ee16045a2c3c4dd94
     ]
    },
    {
     "data": {
<<<<<<< HEAD
      "image/png": "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",
=======
      "image/png": "iVBORw0KGgoAAAANSUhEUgAAAhgAAAGJCAYAAADIVkprAAAAOXRFWHRTb2Z0d2FyZQBNYXRwbG90bGliIHZlcnNpb24zLjcuNSwgaHR0cHM6Ly9tYXRwbG90bGliLm9yZy/xnp5ZAAAACXBIWXMAAA9hAAAPYQGoP6dpAABR70lEQVR4nO3deVxN+f8H8Ne9qdteSuugkKWmyJpk/Yqsw2BGGJJtmBiEiRlLsmQY+zoYagwzmBlmlGWSbdBYIruEyKiUpVLaO78//LrjKtxyT5fu6zmP+3jocz7nc973lvHqcz7nHIkgCAKIiIiIVEiq7gKIiIio8mHAICIiIpVjwCAiIiKVY8AgIiIilWPAICIiIpVjwCAiIiKVY8AgIiIilWPAICIiIpVjwCAiIiKVY8AgUlJcXBw6d+4MExMTSCQS7N69W6Xj37lzBxKJBCEhISod933Wvn17tG/fXt1lEFE5MGDQe+XWrVv4/PPPUbt2bejq6sLY2BgeHh5Yvnw5srOzRT22j48PLl26hHnz5mHLli1o1qyZqMerSEOHDoVEIoGxsXGpn2NcXBwkEgkkEgm+++67Mo+fmJiIwMBAxMTEqKBaInofVFF3AUTKCg8PxyeffAKZTIYhQ4bA2dkZeXl5OH78OKZMmYIrV65g/fr1ohw7OzsbUVFR+OabbzB27FhRjmFnZ4fs7Gxoa2uLMv6bVKlSBc+ePcOePXvw6aefKmzbunUrdHV1kZOTU66xExMTMXv2bNjb28PV1VXp/f76669yHY+I1I8Bg94L8fHx8Pb2hp2dHQ4dOgQbGxv5Nj8/P9y8eRPh4eGiHT81NRUAYGpqKtoxJBIJdHV1RRv/TWQyGTw8PPDzzz+XCBjbtm1D9+7d8dtvv1VILc+ePYO+vj50dHQq5HhEpHo8RULvhYULFyIzMxM//PCDQrgo5uDggPHjx8u/LigowJw5c1CnTh3IZDLY29vj66+/Rm5ursJ+9vb26NGjB44fP44WLVpAV1cXtWvXxo8//ijvExgYCDs7OwDAlClTIJFIYG9vD+D5qYXiP78oMDAQEolEoS0iIgKtW7eGqakpDA0NUb9+fXz99dfy7a9ag3Ho0CG0adMGBgYGMDU1Ra9evXDt2rVSj3fz5k0MHToUpqamMDExga+vL549e/bqD/YlAwcOxL59+5CWliZvO3PmDOLi4jBw4MAS/R8/fozJkyfDxcUFhoaGMDY2RteuXXHhwgV5nyNHjqB58+YAAF9fX/mpluL32b59ezg7OyM6Ohpt27aFvr6+/HN5eQ2Gj48PdHV1S7x/Ly8vVK1aFYmJiUq/VyISFwMGvRf27NmD2rVro1WrVkr1HzFiBGbOnIkmTZpg6dKlaNeuHYKDg+Ht7V2i782bN9GvXz906tQJixcvRtWqVTF06FBcuXIFANCnTx8sXboUADBgwABs2bIFy5YtK1P9V65cQY8ePZCbm4ugoCAsXrwYH330EU6cOPHa/Q4ePAgvLy+kpKQgMDAQ/v7+OHnyJDw8PHDnzp0S/T/99FM8ffoUwcHB+PTTTxESEoLZs2crXWefPn0gkUjw+++/y9u2bduGBg0aoEmTJiX63759G7t370aPHj2wZMkSTJkyBZcuXUK7du3k/9g7OjoiKCgIADBq1Chs2bIFW7ZsQdu2beXjPHr0CF27doWrqyuWLVuGDh06lFrf8uXLYWFhAR8fHxQWFgIAvv/+e/z1119YuXIlbG1tlX6vRCQygegdl56eLgAQevXqpVT/mJgYAYAwYsQIhfbJkycLAIRDhw7J2+zs7AQAwrFjx+RtKSkpgkwmEyZNmiRvi4+PFwAIixYtUhjTx8dHsLOzK1HDrFmzhBf/ei1dulQAIKSmpr6y7uJjbN68Wd7m6uoqWFpaCo8ePZK3XbhwQZBKpcKQIUNKHG/YsGEKY3788ceCubn5K4/54vswMDAQBEEQ+vXrJ3Ts2FEQBEEoLCwUrK2thdmzZ5f6GeTk5AiFhYUl3odMJhOCgoLkbWfOnCnx3oq1a9dOACCsW7eu1G3t2rVTaDtw4IAAQJg7d65w+/ZtwdDQUOjdu/cb3yMRVSzOYNA7LyMjAwBgZGSkVP+9e/cCAPz9/RXaJ02aBAAl1mo4OTmhTZs28q8tLCxQv3593L59u9w1v6x47cYff/yBoqIipfZJSkpCTEwMhg4dCjMzM3l7w4YN0alTJ/n7fNHo0aMVvm7Tpg0ePXok/wyVMXDgQBw5cgTJyck4dOgQkpOTSz09AjxftyGVPv/fSGFhIR49eiQ//XPu3DmljymTyeDr66tU386dO+Pzzz9HUFAQ+vTpA11dXXz//fdKH4uIKgYDBr3zjI2NAQBPnz5Vqv/du3chlUrh4OCg0G5tbQ1TU1PcvXtXob1mzZolxqhatSqePHlSzopL6t+/Pzw8PDBixAhYWVnB29sbO3bseG3YKK6zfv36JbY5Ojri4cOHyMrKUmh/+b1UrVoVAMr0Xrp16wYjIyNs374dW7duRfPmzUt8lsWKioqwdOlS1K1bFzKZDNWqVYOFhQUuXryI9PR0pY/5wQcflGlB53fffQczMzPExMRgxYoVsLS0VHpfIqoYDBj0zjM2NoatrS0uX75cpv1eXmT5KlpaWqW2C4JQ7mMUrw8opqenh2PHjuHgwYMYPHgwLl68iP79+6NTp04l+r6Nt3kvxWQyGfr06YPQ0FDs2rXrlbMXADB//nz4+/ujbdu2+Omnn3DgwAFERETgww8/VHqmBnj++ZTF+fPnkZKSAgC4dOlSmfYloorBgEHvhR49euDWrVuIiop6Y187OzsUFRUhLi5Oof3BgwdIS0uTXxGiClWrVlW44qLYy7MkACCVStGxY0csWbIEV69exbx583Do0CEcPny41LGL64yNjS2x7fr166hWrRoMDAze7g28wsCBA3H+/Hk8ffq01IWxxX799Vd06NABP/zwA7y9vdG5c2d4enqW+EyUDXvKyMrKgq+vL5ycnDBq1CgsXLgQZ86cUdn4RKQaDBj0Xvjqq69gYGCAESNG4MGDByW237p1C8uXLwfwfIofQIkrPZYsWQIA6N69u8rqqlOnDtLT03Hx4kV5W1JSEnbt2qXQ7/HjxyX2Lb7h1MuXzhazsbGBq6srQkNDFf7Bvnz5Mv766y/5+xRDhw4dMGfOHKxatQrW1tav7KelpVVidmTnzp24f/++QltxECotjJVVQEAAEhISEBoaiiVLlsDe3h4+Pj6v/ByJSD14oy16L9SpUwfbtm1D//794ejoqHAnz5MnT2Lnzp0YOnQoAKBRo0bw8fHB+vXrkZaWhnbt2uH06dMIDQ1F7969X3kJZHl4e3sjICAAH3/8Mb788ks8e/YMa9euRb169RQWOQYFBeHYsWPo3r077OzskJKSgjVr1qB69epo3br1K8dftGgRunbtCnd3dwwfPhzZ2dlYuXIlTExMEBgYqLL38TKpVIrp06e/sV+PHj0QFBQEX19ftGrVCpcuXcLWrVtRu3ZthX516tSBqakp1q1bByMjIxgYGMDNzQ21atUqU12HDh3CmjVrMGvWLPlls5s3b0b79u0xY8YMLFy4sEzjEZGI1HwVC1GZ3LhxQxg5cqRgb28v6OjoCEZGRoKHh4ewcuVKIScnR94vPz9fmD17tlCrVi1BW1tbqFGjhjBt2jSFPoLw/DLV7t27lzjOy5dHvuoyVUEQhL/++ktwdnYWdHR0hPr16ws//fRTictUIyMjhV69egm2traCjo6OYGtrKwwYMEC4ceNGiWO8fCnnwYMHBQ8PD0FPT08wNjYWevbsKVy9elWhT/HxXr4MdvPmzQIAIT4+/pWfqSAoXqb6Kq+6THXSpEmCjY2NoKenJ3h4eAhRUVGlXl76xx9/CE5OTkKVKlUU3me7du2EDz/8sNRjvjhORkaGYGdnJzRp0kTIz89X6Ddx4kRBKpUKUVFRr30PRFRxJIJQhtVfRERERErgGgwiIiJSOQYMIiIiUjkGDCIiIlI5BgwiIiJSOQYMIiIiUjkGDCIiIlI5BgwiIiJSuUp5J0+9xmPVXQKR6J6cWaXuEohEpyvyv1Jv8+9F9nn+HXydShkwiIiIlCLhRL5YGDCIiEhzqfBJv6SIAYOIiDQXZzBEw0+WiIiIVI4zGEREpLl4ikQ0DBhERKS5eIpENAwYRESkuTiDIRoGDCIi0lycwRANAwYREWkuzmCIhtGNiIiIVI4zGEREpLl4ikQ0DBhERKS5eIpENAwYRESkuTiDIRoGDCIi0lycwRANAwYREWkuzmCIhp8sERERqRxnMIiISHNxBkM0DBhERKS5pFyDIRYGDCIi0lycwRANAwYREWkuXkUiGgYMIiLSXJzBEA0/WSIiIlI5zmAQEZHm4ikS0TBgEBGR5uIpEtEwYBARkebiDIZoGDCIiEhzcQZDNAwYRESkuTiDIRpGNyIiIlI5zmAQEZHm4ikS0TBgEBGR5uIpEtEwYBARkebiDIZoGDCIiEhzMWCIhgGDiIg0F0+RiIbRjYiIiFSOMxhERKS5eIpENAwYRESkuXiKRDQMGEREpLk4gyEaBgwiItJcnMEQDQMGERFpLAkDhmg4N0REREQqxxkMIiLSWJzBEA8DBhERaS7mC9EwYBARkcbiDIZ4GDCIiEhjMWCIhwGDiIg0FgOGeHgVCREREakcZzCIiEhjcQZDPAwYRESkuZgvRMOAQUREGoszGOJhwCAiIo3FgCEeBgwiItJYDBjieWeuIsnLy8O///6LhIQEhRcREVFlsmDBAkgkEkyYMEHelpOTAz8/P5ibm8PQ0BB9+/bFgwcPFPZLSEhA9+7doa+vD0tLS0yZMgUFBQUKfY4cOYImTZpAJpPBwcEBISEhJY6/evVq2NvbQ1dXF25ubjh9+rTCdmVqUYbaA0ZcXBzatGkDPT092NnZoVatWqhVqxbs7e1Rq1YtdZdHRESVmEQiKferPM6cOYPvv/8eDRs2VGifOHEi9uzZg507d+Lo0aNITExEnz595NsLCwvRvXt35OXl4eTJkwgNDUVISAhmzpwp7xMfH4/u3bujQ4cOiImJwYQJEzBixAgcOHBA3mf79u3w9/fHrFmzcO7cOTRq1AheXl5ISUlRuhZlSQRBEMq8lwp5eHigSpUqmDp1KmxsbEp80xo1alTmMfUaj1VVeUTvrCdnVqm7BCLR6Yp8It/c5+dy7/sodECZ+mdmZqJJkyZYs2YN5s6dC1dXVyxbtgzp6emwsLDAtm3b0K9fPwDA9evX4ejoiKioKLRs2RL79u1Djx49kJiYCCsrKwDAunXrEBAQgNTUVOjo6CAgIADh4eG4fPmy/Jje3t5IS0vD/v37AQBubm5o3rw5Vq16/v+PoqIi1KhRA+PGjcPUqVOVqkVZap/BiImJwffff4+uXbvC1dUVjRo1UngRERGJ5W1mMHJzc5GRkaHwys3NfeWx/Pz80L17d3h6eiq0R0dHIz8/X6G9QYMGqFmzJqKiogAAUVFRcHFxkYcLAPDy8kJGRgauXLki7/Py2F5eXvIx8vLyEB0drdBHKpXC09NT3keZWpSl9oDh5OSEhw8fqrsMIiLSQG8TMIKDg2FiYqLwCg4OLvU4v/zyC86dO1fq9uTkZOjo6MDU1FSh3crKCsnJyfI+L4aL4u3F217XJyMjA9nZ2Xj48CEKCwtL7fPiGG+qRVlqv4rk22+/xVdffYX58+fDxcUF2traCtuNjY3VVBkREVV2b3MVybRp0+Dv76/QJpPJSvS7d+8exo8fj4iICOjq6pb7eO8btQeM4mmYjh07KrQLggCJRILCwkJ1lEVERPRaMpms1EDxsujoaKSkpKBJkybytsLCQhw7dgyrVq3CgQMHkJeXh7S0NIWZgwcPHsDa2hoAYG1tXeJqj+IrO17s8/LVHg8ePICxsTH09PSgpaUFLS2tUvu8OMabalGW2gPG4cOH1V0CERFpqgq4DUbHjh1x6dIlhTZfX180aNAAAQEBqFGjBrS1tREZGYm+ffsCAGJjY5GQkAB3d3cAgLu7O+bNm4eUlBRYWloCACIiImBsbAwnJyd5n7179yocJyIiQj6Gjo4OmjZtisjISPTu3RvA80WekZGRGDv2+cURTZs2fWMtylJ7wGjXrp26SyAiIg1VETfaMjIygrOzs0KbgYEBzM3N5e3Dhw+Hv78/zMzMYGxsjHHjxsHd3V1+1Ubnzp3h5OSEwYMHY+HChUhOTsb06dPh5+cnn0UZPXo0Vq1aha+++grDhg3DoUOHsGPHDoSHh8uP6+/vDx8fHzRr1gwtWrTAsmXLkJWVBV9fXwCAiYnJG2tRlloCxsWLF+Hs7AypVIqLFy++tu/L1woTERGpyrtyJ8+lS5dCKpWib9++yM3NhZeXF9asWSPfrqWlhbCwMIwZMwbu7u4wMDCAj48PgoKC5H1q1aqF8PBwTJw4EcuXL0f16tWxceNGeHl5yfv0798fqampmDlzJpKTk+Hq6or9+/crLPx8Uy3KUst9MKRSKZKTk2FpaQmpVAqJRILSyijvGgzeB4M0Ae+DQZpA7Ptg2Iz6rdz7Jq3vq8JKKh+1zGDEx8fDwsJC/mciIiJ1eFdmMCojtQQMOzu7Uv9MRERElYPaF3kWu3r1KhISEpCXl6fQ/tFHH6mpIiIiqvQ4gSEatQeM27dv4+OPP8alS5cU1mIUT1vxPhhERCQWniIRj9pvFT5+/HjUqlULKSkp0NfXx5UrV3Ds2DE0a9YMR44cUXd5RERUiVX001Q1idpnMKKionDo0CFUq1YNUqkUUqkUrVu3RnBwML788kucP39e3SUSEVElxaAgHrXPYBQWFsLIyAgAUK1aNSQmJgJ4vvgzNjZWnaURERFROal9BsPZ2RkXLlxArVq14ObmhoULF0JHRwfr169H7dq11V0eERFVZpzAEI3aA8b06dORlZUFAAgKCkKPHj3Qpk0bmJubY/v27WqurnKa7NsJc77shVVbD2PKd89vMmNlboT5Ez7G/1o2gJGBDDfupGDhDwewOzJGvt/18NmwszVXGGvGij/w3eYIAEBdO0us/MYbDWpbw8RQD0mp6di+7yzmrd+LgoIiAIDvx60wqEcLODnYAgDOX0vArJV7cPbKXcVxx3SH78etYGqkh6gLt/Hl/O24lZAq1kdCldAPG75HZMRfiI+/DZmuLlxdG2OC/2TY1/rvF5dfd2zHvr1huHb1CrKysvB31JlXPsE5Ly8Pn3l/gtjY69j+6240cHQEAOTm5mLu7Fm4evUK4m/fQtt27bFs5avvenj+XDSGDx0MB4e62PH7H6p901RmPEUiHrUHjPbt26OgoAAA4ODggOvXr+Px48eoWrUqv/EiaOpUE8P7euDijX8V2jfOGQJTIz18MuF7PEzLRP+uzfDTt8PgMWghLsT+13f2mjBs/v2E/OunWbnyP+cXFGJr2GnEXL+H9KfP4FKvOlbPGACpVIJZq/YAANo2q4sd+6Pxz4WdyMkrwKShnbBnrR+a9p2HxNR0AMCkoZ74YkA7jJy5BXfuP8LML3pgz2o/NO47F7l5BWJ+PFSJnD1zGv0HDMKHLi4oLCjEyuVLMHrkcPz+Zzj09fUBADk52Wjl0QatPNpgxbLFrx1v6eKFsLC0RGzsdYX2wsJCyHRlGDhoMA5GHHjtGBkZGZj+dQBauLnj8aOHb/cGSSX474x41LYGIzU1FV27doWhoSGMjY3RsmVL3Lx5EwBgZmbGb7oIDPR0sHn+UHwx52ekZWQrbGvZqDbW/HIUZ6/cxZ37j/DtxgNIe5qNxk41FPplZuXgwaOn8teznP/uW3Ln/iNs+fMfXLpxHwlJTxB+9BK27zsLj8Z15H18vwnF+p1/4+KN+7hx5wHGBG2FVCJBe7f68j5+Azvg2w0HEHbkEi7HJWLEjB9hY2GCjzo0EumTocpo7fof0OvjPnBwqIv6DRogaN4CJCUl4trVK/I+nw0ZiuEjR6Fho9f/bB3/+yiiTp6A/+SAEtv09fUxfeZs9P3kU1SrZvHaceYGzULXbj3QyNW1XO+JVI9XkYhHbQEjICAAMTExCAoKwnfffYe0tDSMHDlSXeVohGXT+mP/35dx+FTJxbP/XLiNfp2boqqxPiQSCT7xagpdWRUcOxun0G+Sb2f8e/hbRP0cgIlDOkJL69U/QrVrVEOnVo74O/rmK/vo6+pAu4oWnqQ/AwDYf2AOGwsTHDr132+JGZk5OHP5Dtwa2pfxHRP9J/PpUwCAsYlJmfZ79PAhZs+agXnBC6Grp1vu4+/e9Rv+vXcPo7/gs5LeJQwY4lHbKZKIiAiEhITIn/LWo0cPODo6Ijc3V/7oWVKdT7yawrVBDbT+bGGp2z/7ahO2fDsMiUcXIj+/EM9y8tDffwNu3/tvGnfNz0dx/to9PMnIQstGtRE07iNYW5ggYPHvCmMdDvGHa4Ma0JVpY+OvxxG0Nvzlw8nNHd8LSanp8kBhXe35+e+Ux08V+qU8egor89LPjRO9SVFRERZ+Ox+ujZugbt16Su8nCAJmfDMVn3zqjQ+dXXD//r9v3qkUd+/ewfKli7H5x62oUkXtZ6aJKoTaftITExPR6IVpybp160ImkyEpKQn29vZKj5Obm4vc3FyFNqGoEBKplqpKfe9VtzLFoil90WPMqleuYZjl1wOmRnro+vkKPErLQs/2DfHTwmHwHLYMV24+v3R4xU+H5P0vxyUiL78Aq74ZgBkr/kRe/n/jDg7YBEMDXTSs9wHmT+iNiUM6YknowRLHnOzbCZ94NYXXyOVcW0Gimj93Nm7FxSFky7Yy7bdt6xZkZWVh+MjPy33swsJCTJsyCWP8xsHevla5xyGRcCJCNGqN0lpaWiW+LuvT44ODgzF79mzFcayaQ9umxVvXV1k0dqwJK3NjRG377/xxlSpaaN2kDkb3b4uGH8/BGO92aNJ3Lq7dTgYAXLpxHx5N6uDz/m3x5bxfSh33zKU70NbWgp2tGeLupsjb/32QBgC4fjsZUqkUq6cPwLItkSgq+u97O2FwR0zy7YTuo1fhclyivD35YQYAwNLMSP5nALA0N8LF2PL99kiabf7cIBw7egSbQn+ClbV1mfY9c+ofXLwQg+aNXRTaB/bvi27de2Ju8LdvHCMrKwtXrlzG9evXsGDeHADPZ1QEQUCThk5Yu/4HuLV0L1NdpDo81SEetQUMQRBQr149hW9uZmYmGjduDKn0v/P6jx8/fu0406ZNg7+/v0KbZZuSC7E02eHTsWjab55C2/rZnyE2/gEWh0RAX1cHAFD0UrgrLBQgfc1fvkb1q6OwsAipL53OeJFUKoF2FS1IpRJ5wPD38cRXw73wkd9qnLuaoND/zv1HSEpNRwe3+rh44z4AwMhAF82d7bFh53Hl3zRpPEEQEDxvDg5FRuCHkC2oXr3Gm3d6ScC06fD7coL869SUFIwZNRwLv1sKl4bKLTo2NDTEr7v3KLTt+HkbTp/+B98tXYEPPqhe5rpIdRgwxKO2gLF582aVjCOTyUqs2eDpEUWZz3Jx9VaSQltWdh4ep2fh6q0kVKkixc2EFKyaPgDTluzCo/QsfNShITq2rI8+49cBANwa1kJzZzscPRuHp1k5aNmwFr6d3Bc/7z2DtKfPr0jx7toM+QWFuHwzEbl5BWjqVBNzxn2EX/+Klt8HY9JQT8wY0x1Dvw7F3cRHsDI3kteYlf38ipTV2w4jYEQX3ExIxZ37jzDri+5ISk3Hn4cvVNRHRpXA/DmzsW9vGJatXAMDfQM8TH1+HxVDIyPo6j5frPkwNRUPHz7EvYTnQfdm3A3o6xvAxsYGJqamsLG1VRiz+PLW6jVqKsyG3Lp5E/n5+UhPT0NWVhauX7sGAGjg6AipVFpi3YeZuTlkOrIyrQchcTBfiEdtAcPHx0ddh6aXFBQUofe4tZj7ZS/8uvxzGOrLcOteKkbM3IIDx68CAHLz8vGJV1N8M7obZNpVcCfxEVZuPYwVW/5bl1FQWAT/oZ1Q184SEokECUmPsXb7Max8Ye3GyE/aQKajjZ+/G6FQw9x1ezHv+70AgMUhB6GvJ8Oq6QNgaqSHkzG38JHfGq7ToDLZsf1nAMDwoYMV2oPmBqPXx30AADt3/IJ1a1bJt/kOGVSijzLGjhmFxMT78q/79+sNALhwhY87eNdxBkM8EqGsix7eA3qNeRkYVX5Pzqx6cyei95yuyL8G152yv9z7xi3qosJKKh9eL0VERBqLExjiYcAgIiKNxVMk4mHAICIijcV8IZ53KmAULwdhoiQioooglfLfG7Go7VkkL/rxxx/h4uICPT096OnpoWHDhtiyZYu6yyIiokpOIin/i15P7TMYS5YswYwZMzB27Fh4eHgAAI4fP47Ro0fj4cOHmDhxoporJCIiorJSe8BYuXIl1q5diyFDhsjbPvroI3z44YcIDAxkwCAiItHwlLx41B4wkpKS0KpVqxLtrVq1QlJSUil7EBERqQbzhXjUvgbDwcEBO3bsKNG+fft21K1bVw0VERGRppBIJOV+0eupfQZj9uzZ6N+/P44dOyZfg3HixAlERkaWGjyIiIhUhUFBPGoPGH379sWpU6ewdOlS7N69GwDg6OiI06dPo3HjxuotjoiIKjXmC/GoPWAAQNOmTfHTTz+puwwiIiJSkXciYBAREakDT5GIR20BQyqVvvEbK5FIUFDAR3QTEZE4mC/Eo7aAsWvXrldui4qKwooVK1BUVFSBFRERkabhDIZ41BYwevXqVaItNjYWU6dOxZ49ezBo0CAEBQWpoTIiItIUzBfiUft9MAAgMTERI0eOhIuLCwoKChATE4PQ0FDY2dmpuzQiIqrEeB8M8ag1YKSnpyMgIAAODg64cuUKIiMjsWfPHjg7O6uzLCIiInpLajtFsnDhQnz77bewtrbGzz//XOopEyIiIjFxIkI8agsYU6dOhZ6eHhwcHBAaGorQ0NBS+/3+++8VXBkREWkKnuoQj9oCxpAhQ/iNJSIiteI/Q+JRW8AICQlR16GJiIgAcAZDTLyTJxERaSzmC/G8E5epEhERUeXCGQwiItJYPEUiHgYMIiLSWMwX4mHAICIijcUZDPEwYBARkcZiwBAPAwYREWks5gvx8CoSIiIiUjnOYBARkcbiKRLxMGAQEZHGYr4QDwMGERFpLM5giIcBg4iINBbzhXgYMIiISGNJmTBEw6tIiIiISOU4g0FERBqLExji4QwGERFpLIlEUu5XWaxduxYNGzaEsbExjI2N4e7ujn379sm35+TkwM/PD+bm5jA0NETfvn3x4MEDhTESEhLQvXt36Ovrw9LSElOmTEFBQYFCnyNHjqBJkyaQyWRwcHBASEhIiVpWr14Ne3t76Orqws3NDadPn1bYrkwtylBqBuPixYtKD9iwYcMyF0FERKQO0gqawahevToWLFiAunXrQhAEhIaGolevXjh//jw+/PBDTJw4EeHh4di5cydMTEwwduxY9OnTBydOnAAAFBYWonv37rC2tsbJkyeRlJSEIUOGQFtbG/PnzwcAxMfHo3v37hg9ejS2bt2KyMhIjBgxAjY2NvDy8gIAbN++Hf7+/li3bh3c3NywbNkyeHl5ITY2FpaWlgDwxlqUJREEQXhTJ6lUColEgld1Ld4mkUhQWFhYpgLEoNd4rLpLIBLdkzOr1F0Ckeh0RT6R323d6Td3eoW9o1u81bHNzMywaNEi9OvXDxYWFti2bRv69esHALh+/TocHR0RFRWFli1bYt++fejRowcSExNhZWUFAFi3bh0CAgKQmpoKHR0dBAQEIDw8HJcvX5Yfw9vbG2lpadi/fz8AwM3NDc2bN8eqVc///1FUVIQaNWpg3LhxmDp1KtLT099Yi7KU+tbFx8crPSAREdH74m3WYOTm5iI3N1ehTSaTQSaTvXa/wsJC7Ny5E1lZWXB3d0d0dDTy8/Ph6ekp79OgQQPUrFlT/o96VFQUXFxc5OECALy8vDBmzBhcuXIFjRs3RlRUlMIYxX0mTJgAAMjLy0N0dDSmTZsm3y6VSuHp6YmoqCgAUKoWZSkVMOzs7JQekIiISBMEBwdj9uzZCm2zZs1CYGBgqf0vXboEd3d35OTkwNDQELt27YKTkxNiYmKgo6MDU1NThf5WVlZITk4GACQnJyuEi+Ltxdte1ycjIwPZ2dl48uQJCgsLS+1z/fp1+RhvqkVZ5VrkuWXLFnh4eMDW1hZ3794FACxbtgx//PFHeYYjIiJSC8lb/Ddt2jSkp6crvF6cHXhZ/fr1ERMTg1OnTmHMmDHw8fHB1atXK/DdVqwyB4y1a9fC398f3bp1Q1pamnzNhampKZYtW6bq+oiIiEQjlZT/JZPJ5FeFFL9ed3pER0cHDg4OaNq0KYKDg9GoUSMsX74c1tbWyMvLQ1pamkL/Bw8ewNraGgBgbW1d4kqO4q/f1MfY2Bh6enqoVq0atLS0Su3z4hhvqkVZZQ4YK1euxIYNG/DNN99AS0tL3t6sWTNcunSprMMRERGpTUVdplqaoqIi5ObmomnTptDW1kZkZKR8W2xsLBISEuDu7g4AcHd3x6VLl5CSkiLvExERAWNjYzg5Ocn7vDhGcZ/iMXR0dNC0aVOFPkVFRYiMjJT3UaYWZZV5fW58fDwaN25col0mkyErK6uswxEREalNRd1oa9q0aejatStq1qyJp0+fYtu2bThy5AgOHDgAExMTDB8+HP7+/jAzM4OxsTHGjRsHd3d3+aLKzp07w8nJCYMHD8bChQuRnJyM6dOnw8/PTz5rMnr0aKxatQpfffUVhg0bhkOHDmHHjh0IDw+X1+Hv7w8fHx80a9YMLVq0wLJly5CVlQVfX18AUKoWZZU5YNSqVQsxMTElFn7u378fjo6OZR2OiIhIbSrqWSQpKSkYMmQIkpKSYGJigoYNG+LAgQPo1KkTAGDp0qWQSqXo27cvcnNz4eXlhTVr1sj319LSQlhYGMaMGQN3d3cYGBjAx8cHQUFB8j61atVCeHg4Jk6ciOXLl6N69erYuHGj/B4YANC/f3+kpqZi5syZSE5OhqurK/bv36+w8PNNtShLqftgvGjjxo0IDAzE4sWLMXz4cGzcuBG3bt1CcHAwNm7cCG9v7zIXoWq8DwZpAt4HgzSB2PfB6PNDdLn3/X14UxVWUvmU+Vs3YsQI6OnpYfr06Xj27BkGDhwIW1tbLF++/J0IF0RERMris0jEU65sOGjQIAwaNAjPnj1DZmam/PaiRERE7xNVLNak0pV78iklJQWxsbEAnn+DLCwsVFYUERFRRWC+EE+ZL1N9+vQpBg8eDFtbW7Rr1w7t2rWDra0tPvvsM6Snp4tRIxERkSikEkm5X/R6ZQ4YI0aMwKlTpxAeHo60tDSkpaUhLCwMZ8+exeeffy5GjURERKKQvMWLXq/Mp0jCwsJw4MABtG7dWt7m5eWFDRs2oEuXLiotjoiIiN5PZQ4Y5ubmMDExKdFuYmKCqlWrqqQoIiKiisBFnuIp8ymS6dOnw9/fX+GpasnJyZgyZQpmzJih0uKIiIjE9DbPIqHXU2oGo3HjxgopLy4uDjVr1kTNmjUBAAkJCZDJZEhNTeU6DCIiem9wBkM8SgWM3r17i1wGERFRxWO+EI9SAWPWrFli10FERFThOIMhnjKvwSAiIiJ6kzJfRVJYWIilS5dix44dSEhIQF5ensL2x48fq6w4IiIiMXGxpnjKPIMxe/ZsLFmyBP3790d6ejr8/f3Rp08fSKVSBAYGilAiERGROCQSSblf9HplDhhbt27Fhg0bMGnSJFSpUgUDBgzAxo0bMXPmTPzzzz9i1EhERCQK3slTPGUOGMnJyXBxcQEAGBoayp8/0qNHD4SHh6u2OiIiIhHxWSTiKXPAqF69OpKSkgAAderUwV9//QUAOHPmDGQymWqrIyIiovdSmQPGxx9/jMjISADAuHHjMGPGDNStWxdDhgzBsGHDVF4gERGRWCSS8r/o9cp8FcmCBQvkf+7fvz/s7Oxw8uRJ1K1bFz179lRpcURERGLiYk3xvPV9MFq2bAl/f3+4ublh/vz5qqiJiIioQnAGQzwqu9FWUlISH3ZGRETvFS7yFE+ZT5EQERFVFswJ4uGtwomIiEjlOINBREQai4s8xaN0wPD393/t9tTU1LcuRlXijyxVdwlEorv3KFvdJRCJrq6VnqjjcxpfPEoHjPPnz7+xT9u2bd+qGCIioorEGQzxKB0wDh8+LGYdREREFY5PUxUP12AQEZHGYsAQD08/ERERkcpxBoOIiDQW12CIhwGDiIg0Fk+RiIcBg4iINBYnMMRTrjUYf//9Nz777DO4u7vj/v37AIAtW7bg+PHjKi2OiIhITHwWiXjKHDB+++03eHl5QU9PD+fPn0dubi4AID09nU9TJSKi94r0LV70emX+jObOnYt169Zhw4YN0NbWlrd7eHjg3LlzKi2OiIiI3k9lXoMRGxtb6h07TUxMkJaWpoqaiIiIKgTPdIinzDMY1tbWuHnzZon248ePo3bt2iopioiIqCJwDYZ4yhwwRo4cifHjx+PUqVOQSCRITEzE1q1bMXnyZIwZM0aMGomIiEQhkZT/Ra9X5lMkU6dORVFRETp27Ihnz56hbdu2kMlkmDx5MsaNGydGjURERKLgfTDEIxEEQSjPjnl5ebh58yYyMzPh5OQEQ0NDVddWbsnp+eougUh0T3MK1F0CkejEflx7UETJU/7KmtnJQYWVVD7lvtGWjo4OnJycVFkLERERVRJlDhgdOnR47b3bDx069FYFERERVRSupRBPmQOGq6urwtf5+fmIiYnB5cuX4ePjo6q6iIiIRMc1GOIpc8BYunRpqe2BgYHIzMx864KIiIgqigRMGGJR2d1OP/vsM2zatElVwxEREYlOKin/i15PZU9TjYqKgq6urqqGIyIiEh2DgnjKHDD69Omj8LUgCEhKSsLZs2cxY8YMlRVGRERE768yBwwTExOFr6VSKerXr4+goCB07txZZYURERGJ7XVXRdLbKVPAKCwshK+vL1xcXFC1alWxaiIiIqoQPEUinjIt8tTS0kLnzp351FQiIqoU+CwS8ZT5KhJnZ2fcvn1bjFqIiIgqFJ+mKp4yB4y5c+di8uTJCAsLQ1JSEjIyMhReRERE7wtepioepddgBAUFYdKkSejWrRsA4KOPPlJYHCMIAiQSCQoLC1VfJREREb1XlA4Ys2fPxujRo3H48GEx6yEiIqowPNMhHqUDRvFT3du1aydaMURERBVJyluFi6ZMazB4vTAREVUmFXUVSXBwMJo3bw4jIyNYWlqid+/eiI2NVeiTk5MDPz8/mJubw9DQEH379sWDBw8U+iQkJKB79+7Q19eHpaUlpkyZgoKCAoU+R44cQZMmTSCTyeDg4ICQkJAS9axevRr29vbQ1dWFm5sbTp8+XeZa3qRMAaNevXowMzN77YuIiOh9UVGLPI8ePQo/Pz/8888/iIiIQH5+Pjp37oysrCx5n4kTJ2LPnj3YuXMnjh49isTERIW7ZxcWFqJ79+7Iy8vDyZMnERoaipCQEMycOVPeJz4+Ht27d0eHDh0QExODCRMmYMSIEThw4IC8z/bt2+Hv749Zs2bh3LlzaNSoEby8vJCSkqJ0LcqQCMXnPt5AKpVi2bJlJe7k+bJ34ZHtyen56i6BSHRPcwre3InoPVfXSk/U8df/c7fc+45qaVfufVNTU2FpaYmjR4+ibdu2SE9Ph4WFBbZt24Z+/foBAK5fvw5HR0dERUWhZcuW2LdvH3r06IHExERYWVkBANatW4eAgACkpqZCR0cHAQEBCA8Px+XLl+XH8vb2RlpaGvbv3w8AcHNzQ/PmzbFq1SoAQFFREWrUqIFx48Zh6tSpStWijDLdydPb2xuWlpZl2YWIiKhSys3NRW5urkKbTCaDTCZ7477p6ekAIJ/5j46ORn5+Pjw9PeV9GjRogJo1a8r/UY+KioKLi4s8XACAl5cXxowZgytXrqBx48aIiopSGKO4z4QJEwAAeXl5iI6OxrRp0+TbpVIpPD09ERUVpXQtylD6FAnXXxARUWXzNmswgoODYWJiovAKDg5+4zGLioowYcIEeHh4wNnZGQCQnJwMHR0dmJqaKvS1srJCcnKyvM+L4aJ4e/G21/XJyMhAdnY2Hj58iMLCwlL7vDjGm2pRRpmvIiEiIqos3uaOnNOmTYO/v79CmzKzF35+frh8+TKOHz9e7mO/D5QOGEVFRWLWQUREVOHeZnJe2dMhLxo7dizCwsJw7NgxVK9eXd5ubW2NvLw8pKWlKcwcPHjwANbW1vI+L1/tUXxlx4t9Xr7a48GDBzA2Noaenh60tLSgpaVVap8Xx3hTLcoo863CiYiIKgvpW7zKQhAEjB07Frt27cKhQ4dQq1Ythe1NmzaFtrY2IiMj5W2xsbFISEiAu7s7AMDd3R2XLl1SuNojIiICxsbGcHJykvd5cYziPsVj6OjooGnTpgp9ioqKEBkZKe+jTC3KKNMiTyIiosqkotYX+vn5Ydu2bfjjjz9gZGQkX8tgYmICPT09mJiYYPjw4fD394eZmRmMjY0xbtw4uLu7yxdVdu7cGU5OThg8eDAWLlyI5ORkTJ8+HX5+fvKZlNGjR2PVqlX46quvMGzYMBw6dAg7duxAeHi4vBZ/f3/4+PigWbNmaNGiBZYtW4asrCz4+vrKa3pTLcpgwCAiIhLZ2rVrAQDt27dXaN+8eTOGDh0KAFi6dCmkUin69u2L3NxceHl5Yc2aNfK+WlpaCAsLw5gxY+Du7g4DAwP4+PggKChI3qdWrVoIDw/HxIkTsXz5clSvXh0bN26El5eXvE///v2RmpqKmTNnIjk5Ga6urti/f7/Cws831aIMpe+D8T7hfTBIE/A+GKQJxL4Pxo9n75V73yHNaqiwksqHMxhERKSx3uYqEno9BgwiItJYjBfiYcAgIiKNxQkM8TBgEBGRxuJdqsXD+2AQERGRynEGg4iINBZ/yxYPAwYREWksniIRDwMGERFpLMYL8TBgEBGRxuIMhngYMIiISGNxDYZ4+NkSERGRynEGg4iINBZPkYiHAYOIiDQW44V4GDCIiEhjcQJDPAwYRESksaScwxANAwYREWkszmCIh1eREBERkcpxBoOIiDSWhKdIRMOAQUREGounSMTDgEFERBqLizzFw4BBREQaizMY4mHAICIijcWAIR5eRUJEREQqxxkMIiLSWLyKRDwMGEREpLGkzBeieScCRlZWFhYsWIDIyEikpKSgqKhIYfvt27fVVBkREVVmnMEQzzsRMEaMGIGjR49i8ODBsLGx4eNziYioQvCfG/G8EwFj3759CA8Ph4eHh7pLISIiIhV4JwJG1apVYWZmpu4yiIhIw/AUiXjeiYAxZ84czJw5E6GhodDX11d3ORohNeUBvl+1BKdOHkdObg4+qF4TU2fMQQMnZwCAIAjYtH41wnb/iszMp3Bp2Bj+ATNQvaadfIyM9HQs/24+Th4/AqlEirYdPDFu0jSF7+HpqBPYvGE14m/fhI6ODI0aN8UX46fAxvYDAEDw7G+wP/yPEvXZ16qD0O0l24mUVVhYiG2b1+HIX+F48vgRzKpZoGPXj+A9ZKT8NGz2s2cI+X45/jl+GE/T02Fl8wF69huAbr0+kY8z9cvhuBwTrTB2l4/6Yezk6QCAjPQ0fDfna9y5FYeMjDSYmprBrXV7+IwaB30DQ/k+Yb//grDftyMlOREWVtb4dPAIdOzSswI+CXodLvIUj0QQBEHdRTRu3Bi3bt2CIAiwt7eHtra2wvZz586Vabzk9HxVllfpPM1Ix4jBn8C1aQv07tsfpqZV8e+9u7CtXgMfVK8JANgW+gO2hm7EtFnzYGP7AX74fhVu34xD6PY/IJPJAABTxo/G44epmDRtFgoKCrBgznQ0cHTGzLkLAQBJ9//FkP4f4ZOBQ9D9oz7IyszEqqUL8exZFjZu2QkAyMx8itycXHlthYUFGD6oL/p8OhC+o/wq+JN5vzzNKVB3Ce+0HVs2YveOnzDx6yDUtK+DuNirWB48C4NHjsVH/QYCAFYuCsLFc2cw7quZsLK2xfkzUVizNBjfzFkMt9btATwPGB/UsMNnw76Qjy3T1ZWHh8ynGTgWuR91G3wIE9OqSLx/D+uWBqNOvQaYMnMBAGDv7h3YvG45xk2ZiXqOHyL22mWsWhiEyTOD4ebRrmI/mPdMXSs9Ucf/+8aTcu/bpl5VFVZS+bwTMxi9e/dWdwkaZduPm2BhaY1pM+fK22w+qC7/syAI2PnLFgweNgqt2/0PAPB14Hx83KUdjh+NRMfO3XAn/hZORx3H9yG/yGc9xk/+GgETxuCL8ZNRzcISsdevorCwCCNGfwmp9Pk93fp/NhTfTB6HgoJ8VKmiDUNDIxgaGsmP/feRSDx9moGuPT+uiI+CKrFrly/AzaM9mru3BQBY2XyAYwf348a1ywp9/telJxo2bg7g+czEvj9/w41rl+UBAwBkMl1UNa9W6nEMjYzRrfen8q8trW3Rrfen+P3nUHnboQNh6PpRX7Tt6AUAsLatjrhrV/Dbts0MGGrGRZ7ieScCxqxZs9RdgkY58fdhtHDzwMyp/rhw/iyqWViidz9v9OzdDwCQlPgvHj96iKYt3OX7GBoawfHDhrhy6QI6du6GK5cuwNDIWB4uAKBp85aQSqW4evki2nbwRP0GTpBKJdi3Zxe69OiN7Oxn+GvvHjRt0RJVqmiXqAsAwv/8HU1btIS1ja24HwJVeo7OjbB/z2+4f+8uPqhhh9s3Y3H10nkM95uk0Of0iSPo1K0XzKtZ4tL5s0i8dxeNx05WGOtIxD4cidgLUzNztGjVDt4+I6GrW/pv1o8epuDksUg4uzaVt+Xn50NbR6bQTyaT4ca1y/KwTerBfCGedyJgUMVKuv8v/vh9Oz4ZOASf+Y7E9auXsWJxMLSraKNLj154/OghAMDMzFxhv6pm5vJtjx89RNWqigtzq1SpAiNjE3kfmw+q47uV6xH49SQsXhCEwsJCfOjSCN8uW1tqXQ9TU3A66jimB32r6rdMGqjfoGF4lpWF0Z/1hlSqhaKiQgweORYdOneX9xk9fipWLgrC0L5e0NKqAolUgnFTZiqEg/aeXWFhbQtzcwvE37qBkO+X437CHXwzb4nC8RbOnopTx48gNzcHLVq1w5df/feLU5MW7vgrbBfc23RAnXqOuBl7FQfCd6GgoAAZaWkwq2Yh/gdCVMHUFjDMzMxw48YNVKtWDVWrVn3tvS8eP378ym25ubnIzc19qU0qXydAJRUVFaG+44cY9cUEAEC9+o6IvxWHP37fgS49eqnsOI8ePsSieYHw6tYLHb26ITsrC5vWr8Ksqf5YvGpDie/5/vA/YGhohDbtO6qsBtJcfx/+C0ci9mLyzGDY2dfB7Zux2LByEczNny/2BIA9v/2M2KuXMCN4OSytbXA55hzWLQ2GeTULuDZrCeD5aZNi9nXqwszcAt9MHIWk+/dg80EN+baRYydjwNDPkXjvLkLXr8DG1d/hC/9vAADePqPw5PEjTBo9BAIEmFY1Q0evnvjt5xBIpHwklDpJeY5ENGoLGEuXLoWR0fNz78uWLSv3OMHBwZg9e7ZC26SA6Zg8bebblFepmVezgH2tOgptdva1cezwQQCA2f+fa378+BHMX/jN6snjR3CoV1/e58kTxeBXUFCApxnp8v13//ozDAwNMebL/6akv5m9AJ/09MTVyxfxoUsjebsgCNi7Zxc6d+1ZYpEvUXlsXrMU/Qb5ol3HLgCeh4OU5CTs3LoJHbt+hNzcHPy4YSW+mbdEvk6jVp16iL8Zi99/+VEeMF5W38kFAJD4UsCoal4NVc2roYZdLRgamyBgrC+8h4yCWTULyGS6mDB1NsZOno60x49R1bwaDuz5DXr6BjAx5UJBdWK8EI/aAoaPj0+pfy6radOmwd/fX6HtSQ5/I3gd54aNkXD3jkLbvwl3YWVtAwCwsa0OM/NqOHfmH9St1wAAkJWZiWtXLqJX3+eL2T50aYTMpxmIvXYF9R0/BACcP3sKRUVFcHJuCADIycmRL+4spqWlBQAQBMXbwcecO4P79xLQrVcf1b5Z0li5uSV//qRaUvmjCAoLClBQUACJ5KU+UimElx5X8KLbN68D+C+Il6Z4//z8PIX2KlW0Uc3SCgBwLPIAWrRqU6JGqmBMGKJ559Zg5OTkIC9P8S+lsbHxK/vLZLISp0OeCbxM9XU+GTgYfsMHY8vm9ejg2QXXrlzCnt2/YvLXz88ZSyQSfOI9GD9uWo/qNexgbfsBNq1bBfNqlmjd7vnpC/taddDCvTUWzQ/EpKkzUVCQj2WL5uN/nbqimoUlAMDdoy12/vwjQjauhWfnbnj2LAsb1iyHtY0t6tZzVKgp/M/f4eTcELXr1K3YD4MqrRat2mL7lo2wsLJGTfs6uBUXi93bf0Knbs9PA+obGMLZtSk2rV0KHZkMlla2uHzhLA4dCMOIsc9n3ZLu38ORg/vQvGVrGBmb4M6tOGxY9R2cGzVFrTr1AABnov5G2pNHqNvAGXp6eki4cwub1iyDk4srrGye3+/l/r27uHHtMuo5OiPzaQZ27/gJd+NvYuLXQer5cEiON9oSzztxH4ysrCwEBARgx44dePToUYnthYWFZRqP98F4s5N/H8H6Nctx/95dWNt+gE8H+sivIgFeuNHWrp3Pb7TVqAkmfjUdNezs5X0y0tOxbNG8/2609T9PfDnpa4UbbUX+tRc/b9mMfxPuQKarhw9dGuHzsRNhZ19b3icz8yn6dO2AcZOmKtRAr8f7YLzes2dZ+GnjakT9fRjpTx7DrJoF2nXsAu+hn8tPwz159BCh61fg3JkoZGZkwNLaBl49+6L3p59BIpEg9UEyFs/9BnfjbyInJxvVLKzg3vZ/8B4yUn4fjIvnzuDHDStx7+5t5Oflo5qlFVq17Yh+g3xhaPT8l6N7d25j0ZxpuJ9wF1pVqqBh42YYOnoCqte0V9fH894Q+z4Yp2+nl3vfFrVNVFhJ5fNOBAw/Pz8cPnwYc+bMweDBg7F69Wrcv38f33//PRYsWIBBgwaVaTwGDNIEDBikCRgw3l/vxCmSPXv24Mcff0T79u3h6+uLNm3awMHBAXZ2dti6dWuZAwYREZEyeIJEPO/E6qLHjx+jdu3nU+bGxsbyy1Jbt26NY8eOqbM0IiKqzCRv8aLXeicCRu3atREfHw8AaNCgAXbs2AHg+cyGqampGisjIqLKTPIW/9HrvRMBw9fXFxcuXAAATJ06FatXr4auri4mTpyIKVOmqLk6IiKqrCSS8r/o9dS6BqOoqAiLFi3Cn3/+iby8PCQmJmLWrFm4fv06oqOj4eDggIYNG6qzRCIiqsSYE8Sj1oAxb948BAYGwtPTE3p6eli+fDlSUlKwadMm2NnZqbM0IiIiegtqvUy1bt26mDx5Mj7//HMAwMGDB9G9e3dkZ2e/1d3teJkqaQJepkqaQOzLVM/dzSj3vk3sXn0TSFLzGoyEhAR069ZN/rWnpyckEgkSExPVWBUREWkKLvIUj1pPkRQUFEBXV1ehTVtbG/n5nIEgIiLxcbGmeNQaMARBwNChQxWeJZKTk4PRo0fDwMBA3vb777+rozwiIqrkmC/Eo9aAUdpTVD/77DM1VEJERBqJCUM0ag0YmzdvVufhiYiISCTvxLNIiIiI1IGLNcXDgEFERBqLizzFw4BBREQai/lCPAwYRESkuZgwRPNOPOyMiIhIHSrqRlvHjh1Dz549YWtrC4lEgt27dytsFwQBM2fOhI2NDfT09ODp6Ym4uDiFPo8fP8agQYNgbGwMU1NTDB8+HJmZmQp9Ll68iDZt2kBXVxc1atTAwoULS9Syc+dONGjQALq6unBxccHevXvLXIsyGDCIiIhElpWVhUaNGmH16tWlbl+4cCFWrFiBdevW4dSpUzAwMICXlxdycnLkfQYNGoQrV64gIiICYWFhOHbsGEaNGiXfnpGRgc6dO8POzg7R0dFYtGgRAgMDsX79enmfkydPYsCAARg+fDjOnz+P3r17o3fv3rh8+XKZalGGWp9FIhY+i4Q0AZ9FQppA7GeRXE3MKve+TrYGb+5UColEgl27dqF3794Ans8Y2NraYtKkSZg8eTIAID09HVZWVggJCYG3tzeuXbsGJycnnDlzBs2aNQMA7N+/H926dcO///4LW1tbrF27Ft988w2Sk5Oho6MDAJg6dSp2796N69evAwD69++PrKwshIWFyetp2bIlXF1dsW7dOqVqURZnMIiISGNJ3uKVm5uLjIwMhVdubm6Za4iPj0dycjI8PT3lbSYmJnBzc0NUVBQAICoqCqampvJwATx/fpdUKsWpU6fkfdq2bSsPFwDg5eWF2NhYPHnyRN7nxeMU9yk+jjK1KIsBg4iINNdbJIzg4GCYmJgovIKDg8tcQnJyMgDAyspKod3Kykq+LTk5GZaWlgrbq1SpAjMzM4U+pY3x4jFe1efF7W+qRVm8ioSIiDTW29xoa9q0afD391doe/HZWpqOMxhERKSxJJLyv2QyGYyNjRVe5QkY1tbWAIAHDx4otD948EC+zdraGikpKQrbCwoK8PjxY4U+pY3x4jFe1efF7W+qRVkMGERERGpUq1YtWFtbIzIyUt6WkZGBU6dOwd3dHQDg7u6OtLQ0REdHy/scOnQIRUVFcHNzk/c5duwY8vP/u9AhIiIC9evXR9WqVeV9XjxOcZ/i4yhTi7IYMIiISGO9zSLPssjMzERMTAxiYmIAPF9MGRMTg4SEBEgkEkyYMAFz587Fn3/+iUuXLmHIkCGwtbWVX2ni6OiILl26YOTIkTh9+jROnDiBsWPHwtvbG7a2tgCAgQMHQkdHB8OHD8eVK1ewfft2LF++XOE0zvjx47F//34sXrwY169fR2BgIM6ePYuxY8c+/zyUqEXpz5aXqRK9n3iZKmkCsS9TvfHgWbn3rWelr3TfI0eOoEOHDiXafXx8EBISAkEQMGvWLKxfvx5paWlo3bo11qxZg3r16sn7Pn78GGPHjsWePXsglUrRt29frFixAoaGhvI+Fy9ehJ+fH86cOYNq1aph3LhxCAgIUDjmzp07MX36dNy5cwd169bFwoUL0a1bN/l2ZWpRBgMG0XuKAYM0gdgBI+5Bdrn3Fbu29x2vIiEiIo3Fp6mKhwGDiIg0FvOFeLjIk4iIiFSOMxhERKS5OIUhGgYMIiLSWG9zJ096PQYMIiLSWFzkKR4GDCIi0ljMF+JhwCAiIs3FhCEaXkVCREREKscZDCIi0lhc5CkeBgwiItJYXOQpHgYMIiLSWMwX4mHAICIijcUZDPEwYBARkQZjwhALryIhIiIileMMBhERaSyeIhEPAwYREWks5gvxMGAQEZHG4gyGeBgwiIhIY/FGW+JhwCAiIs3FfCEaXkVCREREKscZDCIi0licwBAPAwYREWksLvIUDwMGERFpLC7yFA8DBhERaS7mC9EwYBARkcZivhAPryIhIiIileMMBhERaSwu8hQPAwYREWksLvIUDwMGERFpLM5giIdrMIiIiEjlOINBREQaizMY4uEMBhEREakcZzCIiEhjcZGneBgwiIhIY/EUiXgYMIiISGMxX4iHAYOIiDQXE4ZouMiTiIiIVI4zGEREpLG4yFM8DBhERKSxuMhTPAwYRESksZgvxMOAQUREmosJQzQMGEREpLG4BkM8vIqEiIiIVI4zGEREpLG4yFM8EkEQBHUXQe+33NxcBAcHY9q0aZDJZOouh0gU/DknKhsGDHprGRkZMDExQXp6OoyNjdVdDpEo+HNOVDZcg0FEREQqx4BBREREKseAQURERCrHgEFvTSaTYdasWVz4RpUaf86JyoaLPImIiEjlOINBREREKseAQURERCrHgEFEREQqx4BBanXnzh1IJBLExMSouxQipYWEhMDU1FTdZRC90xgwNMDQoUMhkUiwYMEChfbdu3dD8pY34g8JCYFEIoFEIoFUKkX16tXh6+uLlJQUpfavUaMGkpKS4Ozs/FZ1EJVV8d8LiUQCHR0dODg4ICgoCAUFBW/ct3///rhx40YFVEn0/mLA0BC6urr49ttv8eTJE5WPbWxsjKSkJPz777/YsGED9u3bh8GDByu1r5aWFqytrVGlCp+7RxWvS5cuSEpKQlxcHCZNmoTAwEAsWrTojfvp6enB0tKyAioken8xYGgIT09PWFtbIzg4+LX9fvvtN3z44YeQyWSwt7fH4sWL3zi2RCKBtbU1bG1t0bVrV3z55Zc4ePAgsrOzsX//frRu3RqmpqYwNzdHjx49cOvWLfm+L58iOXLkCCQSCSIjI9GsWTPo6+ujVatWiI2Nfav3T1QamUwGa2tr2NnZYcyYMfD09MSff/6JJUuWwMXFBQYGBqhRowa++OILZGZmyvd7+RRJYGAgXF1dsWXLFtjb28PExATe3t54+vSpGt4V0buBAUNDaGlpYf78+Vi5ciX+/fffUvtER0fj008/hbe3Ny5duoTAwEDMmDEDISEhZTqWnp4eioqKUFBQgKysLPj7++Ps2bOIjIyEVCrFxx9/jKKioteO8c0332Dx4sU4e/YsqlSpgmHDhpWpBqLy0NPTQ15eHqRSKVasWIErV64gNDQUhw4dwldfffXafW/duoXdu3cjLCwMYWFhOHr0aInTkkQaRaBKz8fHR+jVq5cgCILQsmVLYdiwYYIgCMKuXbuEF38EBg4cKHTq1Elh3ylTpghOTk6vHHvz5s2CiYmJ/OsbN24I9erVE5o1a1Zq/9TUVAGAcOnSJUEQBCE+Pl4AIJw/f14QBEE4fPiwAEA4ePCgfJ/w8HABgJCdna30eyZ6kxf/XhQVFQkRERGCTCYTJk+eXKLvzp07BXNzc/nXL//cz5o1S9DX1xcyMjLkbVOmTBHc3NxEq5/oXccZDA3z7bffIjQ0FNeuXSux7dq1a/Dw8FBo8/DwQFxcHAoLC185Znp6OgwNDaGvr4/69evDysoKW7duBQDExcVhwIABqF27NoyNjWFvbw8ASEhIeG2dDRs2lP/ZxsYGAJReOEqkrLCwMBgaGkJXVxddu3ZF//79ERgYiIMHD6Jjx4744IMPYGRkhMGDB+PRo0d49uzZK8eyt7eHkZGR/GsbGxv+zJJGY8DQMG3btoWXlxemTZumsjGNjIwQExODy5cvIysrC8eOHUO9evUAAD179sTjx4+xYcMGnDp1CqdOnQIA5OXlvXZMbW1t+Z+Lr3R502kVorLq0KEDYmJiEBcXh+zsbISGhiI1NRU9evRAw4YN8dtvvyE6OhqrV68G8Pqf2xd/ZoHnP7f8mSVNxqX7GmjBggVwdXVF/fr1FdodHR1x4sQJhbYTJ06gXr160NLSeuV4UqkUDg4OJdofPXqE2NhYbNiwAW3atAEAHD9+XAXvgEg1DAwMSvzsRkdHo6ioCIsXL4ZU+vx3sB07dqijPKL3GgOGBnJxccGgQYOwYsUKhfZJkyahefPmmDNnDvr374+oqCisWrUKa9asKddxqlatCnNzc6xfvx42NjZISEjA1KlTVfEWiETj4OCA/Px8rFy5Ej179sSJEyewbt06dZdF9N7hKRINFRQUVGL6tkmTJtixYwd++eUXODs7Y+bMmQgKCsLQoUPLdQypVIpffvkF0dHRcHZ2xsSJE5W6xwCROjVq1AhLlizBt99+C2dnZ2zduvWNl3cTUUl8XDsRERGpHGcwiIiISOUYMIiIiEjlGDCIiIhI5RgwiIiISOUYMIiIiEjlGDCIiIhI5RgwiIiISOUYMIiIiEjlGDCIRDB06FD07t1b/nX79u0xYcKECq/jyJEjkEgkSEtLE+0YL7/X8qiIOomoYjFgkMYYOnQoJBIJJBIJdHR04ODggKCgIBQUFIh+7N9//x1z5sxRqm9F/2Nrb2+PZcuWVcixiEhz8GFnpFG6dOmCzZs3Izc3F3v37oWfnx+0tbVLfXx9Xl4edHR0VHJcMzMzlYxDRPS+4AwGaRSZTAZra2vY2dlhzJgx8PT0xJ9//gngv6n+efPmwdbWVv44+3v37uHTTz+FqakpzMzM0KtXL9y5c0c+ZmFhIfz9/WFqagpzc3N89dVXePkRPy+fIsnNzUVAQABq1KgBmUwGBwcH/PDDD7hz5w46dOgA4PnTaCUSifxhc0VFRQgODkatWrWgp6eHRo0a4ddff1U4zt69e1GvXj3o6emhQ4cOCnWWR2FhIYYPHy4/Zv369bF8+fJS+86ePRsWFhYwNjbG6NGjkZeXJ9+mTO1EVLlwBoM0mp6eHh49eiT/OjIyEsbGxoiIiAAA5Ofnw8vLC+7u7vj7779RpUoVzJ07F126dMHFixeho6ODxYsXIyQkBJs2bYKjoyMWL16MXbt24X//+98rjztkyBBERUVhxYoVaNSoEeLj4/Hw4UPUqFEDv/32G/r27YvY2FgYGxtDT08PABAcHIyffvoJ69atQ926dXHs2DF89tlnsLCwQLt27XDv3j306dMHfn5+GDVqFM6ePYtJkya91edTVFSE6tWrY+fOnTA3N8fJkycxatQo2NjY4NNPP1X43HR1dXHkyBHcuXMHvr6+MDc3x7x585SqnYgqIYFIQ/j4+Ai9evUSBEEQioqKhIiICEEmkwmTJ0+Wb7eyshJyc3Pl+2zZskWoX7++UFRUJG/Lzc0V9PT0hAMHDgiCIAg2NjbCwoUL5dvz8/OF6tWry48lCILQrl07Yfz48YIgCEJsbKwAQIiIiCi1zsOHDwsAhCdPnsjbcnJyBH19feHkyZMKfYcPHy4MGDBAEARBmDZtmuDk5KSwPSAgoMRYL7OzsxOWLl36yu0v8/PzE/r27Sv/2sfHRzAzMxOysrLkbWvXrhUMDQ2FwsJCpWov7T0T0fuNMxikUcLCwmBoaIj8/HwUFRVh4MCBCAwMlG93cXFRWHdx4cIF3Lx5E0ZGRgrj5OTk4NatW0hPT0dSUhLc3Nzk26pUqYJmzZqVOE1SLCYmBlpaWmX6zf3mzZt49uwZOnXqpNCel5eHxo0bAwCuXbumUAcAuLu7K32MV1m9ejU2bdqEhIQEZGdnIy8vD66urgp9GjVqBH19fYXjZmZm4t69e8jMzHxj7URU+TBgkEbp0KED1q5dCx0dHdja2qJKFcW/AgYGBgpfZ2ZmomnTpti6dWuJsSwsLMpVQ/Epj7LIzMwEAISHh+ODDz5Q2CaTycpVhzJ++eUXTJ48GYsXL4a7uzuMjIywaNEinDp1Sukx1FU7EakXAwZpFAMDAzg4OCjdv0mTJti+fTssLS1hbGxcah8bGxucOnUKbdu2BQAUFBQgOjoaTZo0KbW/i4sLioqKcPToUXh6epbYXjyDUlhYKG9zcnKCTCZDQkLCK2c+HB0d5QtWi/3zzz9vfpOvceLECbRq1QpffPGFvO3WrVsl+l24cAHZ2dny8PTPP//A0NAQNWrUgJmZ2RtrJ6LKh1eREL3GoEGDUK1aNfTq1Qt///034uPjceTIEXz55Zf4999/AQDjx4/HggULsHv3bly/fh1ffPHFa+9hYW9vDx8fHwwbNgy7d++Wj7ljxw4AgJ2dHSQSCcLCwpCamorMzEwYGRlh8uTJmDhxIkJDQ3Hr1i2cO3cOK1euRGhoKABg9OjRiIuLw5QpUxAbG4tt27YhJCREqfd5//59xMTEKLyePHmCunXr4uzZszhw4ABu3LiBGTNm4MyZMyX2z8vLw/Dhw3H16lXs3bsXs2bNwtixYyGVSpWqnYgqIXUvAiGqKC8u8izL9qSkJGHIkCFCtWrVBJlMJtSuXVsYOXKkkJ6eLgjC80Wd48ePF4yNjQVTU1PB399fGDJkyCsXeQqCIGRnZwsTJ04UbGxsBB0dHcHBwUHYtGmTfHtQUJBgbW0tSCQSwcfHRxCE5wtTly1bJtSvX1/Q1tYWLCwsBC8vL+Ho0aPy/fbs2SM4ODgIMplMaNOmjbBp0yalFnkCKPHasmWLkJOTIwwdOlQwMTERTE1NhTFjxghTp04VGjVqVOJzmzlzpmBubi4YGhoKI0eOFHJycuR93lQ7F3kSVT4SQXjFSjQiIiKicuIpEiIiIlI5BgwiIiJSOQYMIiIiUjkGDCIiIlI5BgwiIiJSOQYMIiIiUjkGDCIiIlI5BgwiIiJSOQYMIiIiUjkGDCIiIlI5BgwiIiJSuf8Dm6KWRusY6+cAAAAASUVORK5CYII=",
>>>>>>> dd7a1ba2cabeb68475d45c5ee16045a2c3c4dd94
      "text/plain": [
       "<Figure size 600x400 with 2 Axes>"
      ]
     },
     "metadata": {},
     "output_type": "display_data"
    }
   ],
   "source": [
    "\n",
    "model.eval()\n",
    "with torch.no_grad():\n",
    "    test_outputs = model(test_data)\n",
    "    predicted = (test_outputs > 0.5).float()  # Threshold at 0.5 for binary classification\n",
    "    \n",
    "    # Calculate accuracy\n",
    "    accuracy = (predicted == test_labels).float().mean()\n",
    "    print(f'Accuracy: {accuracy.item() * 100:.2f}%')\n",
    "\n",
    "    # Flatten the predicted and test labels for confusion matrix calculation\n",
    "    predicted_flat = predicted.cpu().numpy().flatten()\n",
    "    test_labels_flat = test_labels.cpu().numpy().flatten()\n",
    "\n",
    "    # Generate the confusion matrix\n",
    "    cm = confusion_matrix(test_labels_flat, predicted_flat)\n",
    "    print(f'Confusion Matrix:\\n{cm}')\n",
    "\n",
    "    # Optional: plot the confusion matrix for visualization\n",
    "    plt.figure(figsize=(6,4))\n",
    "    sns.heatmap(cm, annot=True, fmt=\"d\", cmap=\"Blues\", xticklabels=['No Pain', 'Pain'], yticklabels=['No Pain', 'Pain'])\n",
    "    plt.ylabel('True Label')\n",
    "    plt.xlabel('Predicted Label')\n",
    "    plt.title('Confusion Matrix')\n",
    "    plt.show()\n"
   ]
  },
  {
   "cell_type": "code",
<<<<<<< HEAD
   "execution_count": 1281,
   "id": "20d78f2f",
=======
   "execution_count": 17,
   "id": "5586a2d3",
>>>>>>> dd7a1ba2cabeb68475d45c5ee16045a2c3c4dd94
   "metadata": {
    "execution": {
     "iopub.execute_input": "2024-10-09T18:31:07.495801Z",
     "iopub.status.busy": "2024-10-09T18:31:07.495483Z",
     "iopub.status.idle": "2024-10-09T18:31:07.503654Z",
     "shell.execute_reply": "2024-10-09T18:31:07.502725Z"
    },
    "papermill": {
     "duration": 0.027164,
     "end_time": "2024-10-09T18:31:07.505709",
     "exception": false,
     "start_time": "2024-10-09T18:31:07.478545",
     "status": "completed"
    },
    "tags": []
   },
   "outputs": [],
   "source": [
    "def plot_roc_auc(model, test_data, test_labels):\n",
    "    model.eval()\n",
    "    with torch.no_grad():\n",
    "        # Get the raw logits (before applying sigmoid)\n",
    "        test_outputs = model(test_data)\n",
    "        \n",
    "        # Convert test_labels and test_outputs to NumPy arrays for sklearn\n",
    "        test_labels_flat = test_labels.cpu().numpy().flatten()\n",
    "        test_outputs_flat = test_outputs.cpu().numpy().flatten()\n",
    "\n",
    "        # Calculate the false positive rate, true positive rate, and thresholds for the ROC curve\n",
    "        fpr, tpr, thresholds = roc_curve(test_labels_flat, test_outputs_flat)\n",
    "        \n",
    "        # Calculate the AUC score\n",
    "        roc_auc = auc(fpr, tpr)\n",
    "        \n",
    "        # Plot ROC curve\n",
    "        plt.figure(figsize=(8,6))\n",
    "        plt.plot(fpr, tpr, color='blue', label=f'ROC Curve (AUC = {roc_auc:.2f})')\n",
    "        plt.plot([0, 1], [0, 1], color='grey', linestyle='--')  # Random classifier line\n",
    "        plt.xlim([0.0, 1.0])\n",
    "        plt.ylim([0.0, 1.05])\n",
    "        plt.xlabel('False Positive Rate (FPR)')\n",
    "        plt.ylabel('True Positive Rate (TPR)')\n",
    "        plt.title('Receiver Operating Characteristic (ROC)')\n",
    "        plt.legend(loc='lower right')\n",
    "        plt.show()\n",
    "\n",
    "    return roc_auc"
   ]
  },
  {
   "cell_type": "code",
<<<<<<< HEAD
   "execution_count": 1282,
   "id": "64683f5c",
=======
   "execution_count": 18,
   "id": "8691fddb",
>>>>>>> dd7a1ba2cabeb68475d45c5ee16045a2c3c4dd94
   "metadata": {
    "execution": {
     "iopub.execute_input": "2024-10-09T18:31:07.539182Z",
     "iopub.status.busy": "2024-10-09T18:31:07.538905Z",
     "iopub.status.idle": "2024-10-09T18:31:07.967929Z",
     "shell.execute_reply": "2024-10-09T18:31:07.967038Z"
    },
    "papermill": {
     "duration": 0.448476,
     "end_time": "2024-10-09T18:31:07.970261",
     "exception": false,
     "start_time": "2024-10-09T18:31:07.521785",
     "status": "completed"
    },
    "tags": []
   },
   "outputs": [
    {
     "data": {
<<<<<<< HEAD
      "image/png": "iVBORw0KGgoAAAANSUhEUgAAAr4AAAIhCAYAAACot7njAAAAOXRFWHRTb2Z0d2FyZQBNYXRwbG90bGliIHZlcnNpb24zLjkuMiwgaHR0cHM6Ly9tYXRwbG90bGliLm9yZy8hTgPZAAAACXBIWXMAAA9hAAAPYQGoP6dpAACOjklEQVR4nOzdeVxU5f4H8M9swIgsIgiCgaComLu4QeSOoiFKlm2mtpjWrcyWm9XNrG7e23ZtUzPNrmVm6iCaomJRuC+4lPuuIJsgOwjMzPP7gx9zQQZkYODMMJ/368Wr5sw5Z74zA/jhmed8H5kQQoCIiIiIqIWTS10AEREREVFzYPAlIiIiIpvA4EtERERENoHBl4iIiIhsAoMvEREREdkEBl8iIiIisgkMvkRERERkExh8iYiIiMgmMPgSERERkU1g8CUywXfffQeZTGb4UiqVaN++PR566CGcP39e6vIAAB07dsT06dOlLqOGoqIi/Otf/0Lfvn3RunVrODo6ok+fPvjggw9QVFQkdXn19sEHH2Djxo01tv/++++QyWT4/fffm72mSpcuXcLf/vY3dOnSBWq1Gq1atcLdd9+Nt956C9evXzfsN2zYMPTo0UOyOhvjxx9/xKJFi5rs/A35+dm7dy/eeecd5Obm1rhv2LBhGDZsmFlqqzRy5EjMmjXLcLvye6/yS6FQwMPDA5GRkTh8+LDRcwgh8OOPP2LEiBFo06YN7O3tERAQgOeeew7Jycm1PvbmzZsRGRkJT09P2NnZwc3NDSNHjsTq1atRXl4OAMjJyYGrq6vRnxMiyQkiqreVK1cKAGLlypVi3759IiEhQbz//vtCrVaLdu3aiZs3b0pdojhy5Ii4cOGC1GVUk56eLnr06CHUarX4+9//Lnbs2CF27NghXn/9daFWq0WPHj1Eenq61GXWi6Ojo5g2bVqN7Xl5eWLfvn0iLy+v+YsSQmzevFk4OjoKPz8/8dFHH4mdO3eKX3/9VSxatEj06tVL9OnTx7Dv0KFDxd133y1JnY01fvx44efn12Tnb8jPz0cffSQAiMuXL9e47+TJk+LkyZNmqk6IjRs3Cnt7e5GSkmLYlpCQIACIDz74QOzbt08kJiaKzz77TLi5uYlWrVqJc+fOVTuHTqcTU6ZMEQDEww8/LDZu3CgSEhLEZ599Jjp06CBcXV3F7t27qx2j1+vF9OnTBQAxbtw48cMPP4g//vhDbNq0Sbz00kvC2dlZLFq0yLD/O++8Izp37ixKS0vN9tyJzIHBl8gElcH30KFD1bYvWLBAABDffvutRJVJS6vVilu3btV6f3h4uFAqlWLXrl017tu1a5dQKpVizJgxTVmiUXeq25jagq+ULl26JBwdHUXfvn1Fbm5ujfv1er3YsGGD4XZzBF+9Xi+Ki4vNft6mCr6NqbWu4GtuAwcOFA899FC1bZXBd926ddW2//e//xUAxNtvv11t+wcffCAAiH/96181zp+eni78/PyEp6enyMnJMWz/97//LQCIBQsWGK0rLS2t2s93enq6UCqVYvXq1aY+RaImxeBLZILagu+WLVsEALFw4cJq2w8dOiQiIyNFmzZthL29vejTp49Yu3ZtjfOmpKSIp59+WnTo0EGoVCrRvn17cf/991cbBc3LyxMvv/yy6Nixo1CpVMLb21u8+OKLorCwsNq5/Pz8DMEsMzNTqFQq8dZbb9V4zNOnTwsA4rPPPjNsS0tLEzNnzhQ+Pj5CpVKJjh07infeeUeUl5cb9rl8+bIAIP7973+L9957T3Ts2FEoFAoRFxdn9DU7dOiQACCeeeaZWl5VIWbOnCkAiMOHDxu2ARDPPfecWLp0qQgMDBR2dnYiKChIrFmzpsbxja27pKREzJ07V/Tu3Vs4OzuLNm3aiMGDB4uNGzdWexwANb6GDh0qhPhf+EhISDDsP23aNOHo6CjOnz8vIiIihKOjo+jQoYOYO3dujcCdnJws7r//ftG6dWvh4uIiHnnkEXHw4EHDJwx1+dvf/iYAiH379tW5X6XK4Hvw4EFxzz33CLVaLfz9/cXChQuFTqcz7Fff16XytXnuuefEkiVLRLdu3YRKpRJLliwRQlSM/g0cOFC0adNGODk5ib59+4rly5cLvV5f4zyrV68WgwcPFo6OjsLR0VH07t1bLF++3FC3sfegUmlpqXjvvfdE165dhZ2dnXB3dxfTp08XmZmZ1R7Dz89PjB8/XmzYsEH06dNH2Nvbi7///e+G+6r+YaPT6cR7770nunTpIhwcHISLi4vo2bOnYXRz/vz5Rmuq/D4YOnSo4Xuk0q1bt8SCBQtEt27dhL29vXBzcxPDhg0Te/bsqfN9O3LkiAAgtmzZUm17bcH35MmTNX72SktLRZs2bURQUJDR118IIX788UcBQHz88cdCCCHKysqEm5ub6NatW63HGBMRESHCwsLqvT9Rc1A20QwKIpty+fJlAECXLl0M2xISEjB27FgMGjQIS5cuhYuLC3766SdMmTIFxcXFhnmE169fx4ABA1BeXo433ngDvXr1QnZ2NrZv346cnBx4enqiuLgYQ4cORUpKimGfkydP4u2338Zff/2FnTt3QiaT1ajLw8MD9913H/773/9iwYIFkMv/N61/5cqVsLOzw6OPPgoASE9Px8CBAyGXy/H222+jU6dO2LdvH95//31cuXIFK1eurHbuzz//HF26dMHHH38MZ2dnBAYGGn1t4uPjAQATJ06s9fWbOHEili1bhvj4ePTv39+wfdOmTUhISMC7774LR0dHLF68GA8//DCUSiUmT55strpLS0tx8+ZNvPLKK/Dx8UFZWRl27tyJ6OhorFy5Eo8//jgAYN++fRgxYgSGDx+Of/zjHwAAZ2fnWp8XAJSXl2PChAl48skn8fLLLyMxMRHvvfceXFxc8PbbbwOomP88fPhw3Lx5E//+97/RuXNnbNu2DVOmTKnz3JV27NgBT09PDB48uF77V75ujz76KF5++WXMnz8fMTExmDdvHry9vQ3Pt76vS6WNGzdi165dePvtt+Hl5YV27doBAK5cuYJnnnkGvr6+AID9+/fj+eefx/Xr1w2vAQC8/fbbeO+99xAdHY2XX34ZLi4uOHHiBK5evQoAWLx4MWbOnImLFy8iJiam2mPr9XpERUVh165deO211xASEoKrV69i/vz5GDZsGA4fPgy1Wm3Y/8iRIzh9+jTeeust+Pv7w9HR0ejr9OGHH+Kdd97BW2+9hXvvvRfl5eU4c+aMYT7vU089hZs3b+KLL76ARqNB+/btAQDdu3c3ej6tVouIiAjs2rULc+bMwYgRI6DVarF//35cu3YNISEhtb5nv/zyCxQKBe69995a96nK2O+lpKQk5OTkYObMmUZ/ZwBAZGQk5HI54uPj8fLLL+Pw4cO4efMmnn766VqPMWbYsGGYN28ecnNz4erqWu/jiJqU1MmbyJpUjvju379flJeXi4KCArFt2zbh5eUl7r333mojjN26dRN9+/attk0IIe677z7Rvn17w8jaE088IVQqlTh16lStj7tw4UIhl8trjDSvX79eABBbt241bLt9xGrTpk0CgNixY4dhm1arFd7e3uL+++83bHvmmWdE69atxdWrV6s9xscffywAGOYpVo6cdurUSZSVld3pJROzZs0SAMSZM2dq3ady9Hn27NmGbQCEWq2uNuqt1WpFt27dROfOnZu0bq1WK8rLy8WTTz4p+vbtW+2+2qY61DbiC0D8/PPP1fYdN26c6Nq1q+H2V199JQDUGDV/5pln6jXi6+DgIAYPHlznPlVVjpweOHCg2vbu3bvXOeWkrtcFgHBxcbnjPHedTifKy8vFu+++K9q2bWsYQbx06ZJQKBTi0UcfrfP42qY6rFmzRgCoNqVDiP994rB48WLDNj8/P6FQKMTZs2drnOf2n5/77ruv2vxoY+qa6nD7iO+qVasEAPHNN9/UeU5jIiIiRLdu3Wpsr/zeW7t2rSgvLxfFxcViz549omvXrqJ79+7Vpiz89NNPAoBYunRpnY/l6ekpgoKCTDrmdvHx8Ua/r4mkxK4ORA0wePBgqFQqODk5YezYsWjTpg1iY2OhVFZ8iHLhwgWcOXPGMJqq1WoNX+PGjUNaWhrOnj0LAIiLi8Pw4cMRFBRU6+P98ssv6NGjB/r06VPtXGPGjLljJ4GIiAh4eXlVG/ncvn07UlNT8cQTT1R7jOHDh8Pb27vaY0RERAAA/vjjj2rnnTBhAlQqlWkvXC2EEABQYzRp5MiR8PT0NNxWKBSYMmUKLly4gJSUFLPWvW7dOoSGhqJ169ZQKpVQqVRYsWIFTp8+3ajnJpPJEBkZWW1br169DKOYlTVWfi9V9fDDDzfqsevi5eWFgQMH1lkXYNrrUtkh4Ha//fYbRo0aBRcXFygUCqhUKrz99tvIzs5GZmYmgIpPBnQ6HZ577rkGPZ9ffvkFrq6uiIyMrPZ90KdPH3h5edX4GenVq1e1kdDaDBw4EMePH8ezzz6L7du3Iz8/v0H1VYqLi4ODg0O1n736Sk1NNYyiGzNlyhSoVCq0atUKoaGhyM/Px5YtWxo02iqEMGl015jKWqt2FCGSGoMvUQOsWrUKhw4dwm+//YZnnnkGp0+frhZSMjIyAACvvPIKVCpVta9nn30WAJCVlQUAuHHjBjp06FDn42VkZODPP/+scS4nJycIIQznMkapVGLq1KmIiYkxfDz73XffoX379hgzZky1x9i8eXONx7j77rur1Vup8iPdO6n8eLvyY1djrly5AgC46667qm338vKqsW/ltuzsbLPVrdFo8OCDD8LHxwc//PAD9u3bh0OHDuGJJ57ArVu36vU8a9OqVSs4ODhU22Zvb1/tvNnZ2dUCfiVj24zx9fWt8/U1pm3btjW22dvbo6SkxHDb1NfF2Gt78OBBhIeHAwC++eYb7NmzB4cOHcKbb74JAIbHu3HjBgDc8WehNhkZGcjNzYWdnV2N74X09PQGf//OmzcPH3/8Mfbv34+IiAi0bdsWI0eOrLVN2J3cuHED3t7e1aYd1VdJSUmN76Wq/v3vf+PQoUP4448/8OabbyIjIwMTJ05EaWmpYZ/6/DwWFRUhKyvL8PNYn2OMqay16vcUkdQ4x5eoAYKCghAcHAwAGD58OHQ6HZYvX47169dj8uTJcHd3B1Dxj2Z0dLTRc3Tt2hVAxTzcytHL2ri7u0OtVuPbb7+t9f66zJgxAx999JFhjvGmTZswZ84cKBSKaufo1asX/vnPfxo9h7e3d7Xb9R0NGj16NN544w1s3Lixxohmpcp+n6NHj662PT09vca+ldsqg5s56v7hhx/g7++PtWvXVru/amBoSm3btsXBgwdrbDf2/I0ZM2YMvvjiC+zfv9+keb53YurrYuy1/emnn6BSqfDLL79UC22393j18PAAAKSkpNT4A6g+3N3d0bZtW2zbts3o/U5OTnes1RilUom5c+di7ty5yM3Nxc6dO/HGG29gzJgxSE5ORqtWrUyq08PDA7t374Zerzc5/Lq7u+PmzZu13h8QEGD4vXTvvfdCrVbjrbfewhdffIFXXnkFANC/f3+0adMGmzZtwsKFC42+Dps2bYJerzf8PAYHB8PNzQ2xsbG1HmNMZa13+v1E1Jw44ktkBh9++CHatGmDt99+G3q9Hl27dkVgYCCOHz+O4OBgo1+V/xBHREQgISHBMPXBmPvuuw8XL15E27ZtjZ6rY8eOddYXFBSEQYMGYeXKlfjxxx9RWlqKGTNm1HiMEydOoFOnTkYf4/YAWV/BwcEIDw/HihUrsGfPnhr37969G99++y3Gjh1b7cI2APj1118No+cAoNPpsHbtWnTq1MkwMmiOumUyGezs7Kr9g56eno7Y2Nga+94+KmoOQ4cORUFBAeLi4qpt/+mnn+p1/EsvvQRHR0c8++yzyMvLq3G/EKLGxWD1YcrrUtc5lEpltT+ySkpK8P3331fbLzw8HAqFAkuWLKnzfLW9/vfddx+ys7Oh0+mMfh9U/qHZGK6urpg8eTKee+453Lx50/BJhb29veF53UlERARu3bqF7777zuTH79atGy5dulTv/V977TV07twZ//rXv1BQUAAAsLOzw6uvvorTp0/jo48+qnFMZmYm5s2bB09PTzz11FMAAJVKhb///e84c+YM3nvvPaOPlZmZWePnu7LW2i70I5ICR3yJzKBNmzaYN28eXnvtNfz444947LHH8PXXXyMiIgJjxozB9OnT4ePjg5s3b+L06dM4cuQI1q1bBwB49913ERcXh3vvvRdvvPEGevbsidzcXGzbtg1z585Ft27dMGfOHGzYsAH33nsvXnrpJfTq1Qt6vR7Xrl3Djh078PLLL2PQoEF11vjEE0/gmWeeQWpqKkJCQmoEgXfffRfx8fEICQnBCy+8gK5du+LWrVu4cuUKtm7diqVLlzb4Y+hVq1Zh1KhRCA8PxwsvvICRI0cCqJj7+dlnn6Fbt25Gg4C7uztGjBiBf/zjH4auDmfOnKkWCM1R93333QeNRoNnn30WkydPRnJyMt577z20b9++xop8PXv2xO+//47Nmzejffv2cHJyanSomjZtGv7zn//gsccew/vvv4/OnTsjLi4O27dvB4A7jgz6+/sbRvP79OmDv/3tb+jbty8A4NSpU/j2228hhMCkSZNMqsuU16U248ePx6effopHHnkEM2fORHZ2Nj7++GNDWKzUsWNHvPHGG3jvvfdQUlKChx9+GC4uLjh16hSysrKwYMECABWvv0ajwZIlS9C/f3/I5XIEBwfjoYcewurVqzFu3Di8+OKLGDhwIFQqFVJSUpCQkICoqCiTnz9Q0eGgR48eCA4OhoeHB65evYpFixbBz8/P0MmkZ8+eAIDPPvsM06ZNg0qlQteuXWuMMgMV87ZXrlyJWbNm4ezZsxg+fDj0ej0OHDiAoKAgPPTQQ7XWMmzYMHz77bc4d+5cveYnq1QqfPDBB3jwwQfx2Wef4a233gIA/P3vf8fx48cN/50yZQpcXFzw559/4qOPPkJBQQF++eUXuLi4GM5VGZbnz5+PgwcP4pFHHsFdd92FvLw8JCYmYtmyZViwYAFCQ0MNx+zfvx9t27Y1vD5EFkHSS+uIrExtfXyFqOh56uvrKwIDA4VWqxVCCHH8+HHx4IMPinbt2gmVSiW8vLzEiBEjalwdnZycLJ544gnh5eVl6NH74IMPioyMDMM+hYWF4q233jL0KK3sJ/rSSy9V63xw+1XplfLy8oRara7zivIbN26IF154Qfj7+wuVSiXc3NxE//79xZtvvmnoF1zZHeGjjz4y6bUrLCwUH3zwgejTp49o1aqVaNWqlejVq5d4//33a/QiFuJ/fWEXL14sOnXqJFQqlejWrZvRhvjmqPtf//qX6Nixo7C3txdBQUHim2++MfRorerYsWMiNDRUtGrVqt59fG9n7LzXrl0T0dHRonXr1sLJyUncf//9YuvWrQKAiI2NrfO1rXTx4kXx7LPPis6dOwt7e3uhVqtF9+7dxdy5c6t1HKhtAYtp06bV6JhQ39el8v0y5ttvvxVdu3YV9vb2IiAgQCxcuFCsWLHCaCeEVatWiQEDBggHBwfRunVr0bdv32pdLW7evCkmT54sXF1dhUwmq1ZHeXm5+Pjjj0Xv3r0Nx3fr1k0888wz4vz584b9Kvv4GnP7z88nn3wiQkJChLu7u7CzsxO+vr7iySefFFeuXKl23Lx584S3t7eQy+V37ONbUlIi3n77bUN/6rZt24oRI0aIvXv3Gq2pUl5enmjdurX48MMPq22vrY9vpUGDBok2bdpUW9xEr9eL1atXi2HDhglXV1dhZ2cn/P39xezZs2t0SKkqNjZWjB8/Xnh4eAilUinatGkjhg8fLpYuXVptlTa9Xi/8/PzE888/X+dzImpuMiH+/3JqIiILIpPJ8Nxzz+HLL7+UuhTJfPDBB3jrrbdw7dq1Bo+2U8vy/PPP49dff8XJkycb3XWhKf36668IDw/HyZMn0a1bN6nLITLgVAciIgtQGfC7deuG8vJy/Pbbb/j888/x2GOPMfSSwVtvvYVVq1Zhw4YNhkVcLNH777+PJ554gqGXLA6DLxGRBWjVqhX+85//4MqVKygtLYWvry/+/ve/G+ZlEgEVLe5Wr16NnJwcqUupVU5ODoYOHWpo3UhkSTjVgYiIiIhsAtuZEREREZFNYPAlIiIiIpvA4EtERERENsHmLm7T6/VITU2Fk5OTRbeCISIiIrJVQggUFBTA29vb5OW962JzwTc1NbVB68ATERERUfNKTk42a0tHmwu+lUtIJicnw9nZWeJqiIiIiOh2+fn5uOuuu4wu/d0YNhd8K6c3ODs7M/gSERERWTBzT0vlxW1EREREZBMYfImIiIjIJjD4EhEREZFNYPAlIiIiIpvA4EtERERENoHBl4iIiIhsAoMvEREREdkEBl8iIiIisgkMvkRERERkExh8iYiIiMgmMPgSERERkU1g8CUiIiIim8DgS0REREQ2gcGXiIiIiGwCgy8RERER2QRJg29iYiIiIyPh7e0NmUyGjRs33vGYP/74A/3794eDgwMCAgKwdOnSpi+UiIiIiKyepMG3qKgIvXv3xpdfflmv/S9fvoxx48YhLCwMR48exRtvvIEXXngBGzZsaOJKiYiIiMjaKaV88IiICERERNR7/6VLl8LX1xeLFi0CAAQFBeHw4cP4+OOPcf/99zdRlURERNSSCQEUF0tdBVVVVNQ055U0+Jpq3759CA8Pr7ZtzJgxWLFiBcrLy6FSqWocU1paitLSUsPt/Pz8Jq+TiIiIrIMQwD33AHv3Sl0JVZLLddDrm+jcTXPappGeng5PT89q2zw9PaHVapGVlWX0mIULF8LFxcXwdddddzVHqURERCQxISpGDuv6unGDoddSyOV6DBv2O55+ejkUCm2TPIZVjfgCgEwmq3ZbCGF0e6V58+Zh7ty5htv5+fkMv0RERC1cQ0ZyMzIAR8emq4lql5ubgy1bNEhLSwEAxMefwYgR5n8cqwq+Xl5eSE9Pr7YtMzMTSqUSbdu2NXqMvb097O3tm6M8IiIiama1zc8tKjIt9IaGAh4eQC3jaNREhBD4888/sXXrVpSVlcHe3h7jx4+Hn59fkzyeVQXfIUOGYPPmzdW27dixA8HBwUbn9xIREVHLVd9R3fqM5LZqxdDb3EpKSrBlyxacPHkSAODr64tJkybB1dW1ya7JkjT4FhYW4sKFC4bbly9fxrFjx+Dm5gZfX1/MmzcP169fx6pVqwAAs2bNwpdffom5c+fi6aefxr59+7BixQqsWbNGqqdAREREzcDYyG59RnU5kmu5KkOvXC7HsGHDEBoaCrm8aS8/kzT4Hj58GMOHDzfcrpyLO23aNHz33XdIS0vDtWvXDPf7+/tj69ateOmll/DVV1/B29sbn3/+OVuZERERtWD1GdmtbVSXI7mWa9SoUcjJycG4cePg4+PTLI8pE5VXh9mI/Px8uLi4IC8vD87OzlKXQ0RERHdQVAS0bl37/aGhwK5dDLiWLisrCxcuXMDgwYMN24QQRhsUNFVes6o5vkRERGTbjI3sclTXsgkhkJSUhO3bt0Or1cLd3R2dO3cGUHtXrqbC4EtEREQWp+qc3qqreDk6suWYNSkqKsKmTZtw7tw5AEBAQECNNRmaE4MvERERWRSuptYyXLhwARs3bkRRUREUCgVGjhyJwYMHN/sob1UMvkRERGQRKkd5a+vWEBpaMa2BLN9vv/2GXbt2AQA8PDwQHR0NLy8viati8CUiIqJmVNuCE0IAYWHAsWPVt1ed08u5vNajXbt2AIABAwZg9OjRFrPeAoMvERERmZ2xgFtbuK0Ne/BaDyEEcnNz0aZNGwBAjx494O7ubhGjvFUx+BIREZFZNWaObp8+/2tNxhFe61BQUIDY2Fikp6dj9uzZcPz/IXpLC70Agy8RERHVU23TFG53pxXVqobb2zHsWpczZ85g06ZNKCkpgVKpRGpqKgIDA6Uuq1YMvkRERHRHDR3FZd/dlqmsrAzbt2/HkSNHAFSM7kZHR8PDw0PiyurG4EtERER3VFxseujlHN2WKTU1FRqNBtnZ2QCAkJAQDB8+HEql5cdKy6+QiIiImpWxKQ1VF5EwNoprDEd2W6ZDhw4hOzsbTk5OmDRpEvz9/aUuqd4YfImIiMigPlMauHqabRs7dixUKhWGDx8OtVotdTkmkUtdABEREVmOO01p4CIStufEiRPQaDQQQgAA7O3tMW7cOKsLvQBHfImIiKgWvDDNtpWWliIuLg7Hjx8HAAQGBqJnz54SV9U4DL5EREQ2oj7tyKrO5eWUBtuVnJwMjUaD3NxcyGQyhIWFoXv37lKX1WgMvkRERBaivn1yG3puU1ZNI9uk1+uRmJiIxMRECCHg6uqKSZMmwdfXV+rSzILBl4iISEKVYdfSginn8tqmjRs34q+//gIA9OrVCxEREXBwcJC4KvNh8CUiIpJIY5b2bai6Vk2rinN5bdPAgQNx4cIFREREWP18XmNkovISPRuRn58PFxcX5OXlwdnZWepyiIjIBtQ2haGoCPD0rL6tvsG0oRhoqaqSkhJcv34dnTt3NmwrKyuDnZ2dhFU1XV7jiC8REZGZVQ269Z3CUNlBgcGUmsuVK1cQExODoqIizJw5E+3atQMAyUNvU2LwJSIiMqOGTF/g0r7UnHQ6HRISErBnzx4AgJubG3Q6ncRVNQ8GXyIiIjOqbQGIuqYwcJSXmktWVhY0Gg3S0tIAAH379sXYsWNb9ChvVQy+REREt2lMW7GqfXCrLgDBcEtSO3LkCOLi4qDVaqFWqxEZGYmgoCCpy2pWDL5ERGTVzN371pxtxbgABFmSwsJCaLVaBAQEYOLEiXBycpK6pGbH4EtERFZLinZg9cU+uGQJysvLoVKpAAD33HMP2rRpgx49ekBmox8/MPgSEZHVqm0+rTk0tq0YpzaQlLRaLXbu3InLly/j6aefhlKphFwub5G9eU3B4EtERC1C1fm05sDgStYqIyMDGo0GmZmZAIBz586he/fuEldlGRh8iYioWZlzTm7VC8k4n5ZsnRACBw4cwM6dO6HT6eDo6IioqCgEBgZKXZrFYPAlIiKzqy3cmvPCMSL6n4KCAsTGxuLixYsAgMDAQERFRcGRfw1Ww+BLRERmJcUFZ7yQjGzd1q1bcfHiRSiVSoSHhyM4ONhmL2CrC4MvERGZVX0uOGvshWO343xcsnVjx47FrVu3MG7cOHh4eEhdjsVi8CUioiZT2wVnDKpEjZOamopLly7hnnvuAQC4uLhg2rRpEldl+Rh8iYjILCrn9fKCM6Kmo9frsXfvXiQkJECv18PLywudO3eWuiyrweBLRESNZskLSRC1FHl5eYiJicHVq1cBAEFBQfDx8ZG4KuvC4EtERA1WdZT39tDLC86IzOfEiRPYsmULbt26BZVKhYiICPTp04cXsJmIwZeIiOpkamuyynm9nMdLZB5xcXE4ePAgAMDHxwfR0dFwc3OTuCrrxOBLRGSj6rOQhKl9d0NDAQ8PBl4ic/L19cWhQ4cQFhaGe++9FwqFQuqSrBaDLxGRDTLnnNyqrck4ykvUeHq9Hjdv3oS7uzsA4O6774aXlxfatm0rcWXWj8GXiMiG1DUnty519d1l2CUyn5ycHGg0Gty8eROzZ89G69atAYCh10wYfImIbERto7y19dqtiuGWqGkJIXD8+HHExcWhrKwM9vb2uHHjhiH4knkw+BIR2QhjK6pxTi6R9EpKSrBlyxacPHkSQMWc3kmTJsHV1VXawlogBl8iIhvEzgtEluHKlSuIiYlBfn4+5HI5hg0bhtDQUMjlcqlLa5EYfImIWrCqnRu4ohqR5fnzzz+Rn58PNzc3REdHc0GKJsbgS0TUwlSGXVNbkRFR8xBCGBaeGDt2LBwdHREWFgY7OzuJK2v5OI5ORNSCVF7A1ro14ORkPPRyRTUiaQghcPjwYaxbtw5CCACAnZ0dRo4cydDbTDjiS0TUghi7gO32VmSc10vU/IqKirB582acPXsWAHDq1CncfffdEldlexh8iYhaKF7ARmQZLly4gNjYWBQWFkKhUGDkyJHo3r271GXZJAZfIqIWihewEUlLq9Vi586dOHDgAADAw8MD0dHR8PLykrgy28XgS0QksaqdFxqraucGIpKWRqPB6dOnAQADBgzA6NGjoVKpJK7KtjH4EhFJqLbV1IjI+oWGhiIlJQWRkZEIDAyUuhwCIBOVlxXaiPz8fLi4uCAvLw/Ozs5Sl0NENq6oqKIDg7mFhla/oI2Iml5BQQGuX7+Obt26GbZptVoolRxnNFVT5TW+E0REzay2RSUqL0YzB17QRtS8zpw5g82bN6O0tBRPP/00PD09AYCh18Lw3SAiagK1zduta1EJXoxGZH3KysqwY8cOJCUlAQC8vLygUCgkropqw+BLRGRmDZm3y0UliKxPamoqNBoNsrOzAQBDhgzBiBEjOMprwfjOEBGZmbFFJG7HRSWIrNvevXvx66+/Qq/Xw8nJCRMnTkRAQIDUZdEdMPgSEZlJ5fSG+szbZdAlsm56vR56vR5BQUGIjIyEWq2WuiSqBwZfIiIzqG16A+ftErUcpaWlsLe3BwCEhITAw8MDXbp0gYx/xVoNudQFEBG1BMamN3DeLlHLUFpaio0bN2LFihUoLy8HAMjlcnTt2pWh18pwxJeIyMwqpzdwOgOR9UtOToZGo0Fubi5kMhkuX76MLl26SF0WNRCDLxFRIxib18vpDUTWT6/XIzExEYmJiRBCwMXFBdHR0fD19ZW6NGoEBl8iogbicsNELVNOTg40Gg1SUlIAAD179sS4cePg4OAgcWXUWAy+REQNxHm9RC3T9u3bkZKSAnt7e4wfPx49e/aUuiQyEwZfIqI7qG0VNmNtyzivl8j6jRs3DgAwduxYuLq6SlsMmRWDLxERGrbEcFWc10tkva5cuYIrV65g2LBhAABnZ2c89NBD0hZFTYLBl4hsXmPn6nJ6A5F10ul0SEhIwJ49ewAAHTp0QOfOnSWuipoSgy8R2ayqHRlMXWK4Kk5vILI+WVlZ0Gg0SEtLAwD07duXHRtsAIMvEdmMqtMZapvCwCWGiVo2IQSSkpKwfft2aLVaqNVqREZGIigoSOrSqBkw+BJRi1YZduszVzc0FPDwYMAlask2bdqEY///iyAgIABRUVFwdnaWtihqNgy+RNRi1WfubtUpDBzVJWr5AgMD8ddff2HkyJEYPHgwlxy2MQy+RNRiGeuze/tcXYZdopZNq9UiKysLXl5eAIDu3bvDx8cHLi4uEldGUmDwJSKrxz67RGRMRkYGNBoNCgsLMXv2bLRu3RoAGHptGIMvEUmutuBa32PZZ5eIqhJC4MCBA9i5cyd0Oh0cHR2Rk5NjCL5kuxh8iUhSje2hWx/ss0tkOwoKChAbG4uLFy8CqJjTGxUVBUf+5Utg8CUiiRmbh9sQ7LNLRGfOnMHmzZtRXFwMpVKJ8PBwBAcH8wI2MmDwJaJmV3Vqg7F5uA3BcEtE58+fR3FxMby8vBAdHQ0PDw+pSyILw+BLRM2qrqkNnIdLRKYSQhhGdMeMGQNXV1cMGTIESiUjDtUkl7oAIrIttU1t4DxcIjKFXq/H7t27sWbNGgghAAB2dnYICwtj6KVaSR58Fy9eDH9/fzg4OKB///7YtWtXnfuvXr0avXv3RqtWrdC+fXvMmDED2dnZzVQtEZlTRgZQWFjxVdv8XCKi2+Xl5WHVqlX49ddfcf78eZw9e1bqkshKSBp8165dizlz5uDNN9/E0aNHERYWhoiICFy7ds3o/rt378bjjz+OJ598EidPnsS6detw6NAhPPXUU81cORGZQ+XUBkdHhl4iqp8TJ05g6dKluHr1KlQqFSZMmICuXbtKXRZZCZmo/HxAAoMGDUK/fv2wZMkSw7agoCBMnDgRCxcurLH/xx9/jCVLlhhalADAF198gQ8//BDJycn1esz8/Hy4uLggLy+Pa3MTNaPKC9qKigBPz4pthYWc00tE9VNaWoq4uDgcP34cAODj44Po6Gi4ublJXBk1habKa5KN+JaVlSEpKQnh4eHVtoeHh2NvLb2NQkJCkJKSgq1bt0IIgYyMDKxfvx7jx4+v9XFKS0uRn59f7YuImlflBW2tW/8v9BIRmWL9+vU4fvw4ZDIZ7r33XsyYMYOhl0wmWfDNysqCTqeD523/Cnp6eiI9Pd3oMSEhIVi9ejWmTJkCOzs7eHl5wdXVFV988UWtj7Nw4UK4uLgYvu666y6zPg8iMk6IitHdoiLgxo2aF7TxYjYiMsWIESPQtm1bTJ8+HcOHD4dCoZC6JLJCkl/cdntT6aptSW536tQpvPDCC3j77beRlJSEbdu24fLly5g1a1at5583bx7y8vIMX/WdEkFEDVd1hPf2Ud7KC9p4MRsR1SUnJwcnTpww3G7fvj2effZZ+Pr6SlgVWTvJ+n24u7tDoVDUGN3NzMysMQpcaeHChQgNDcWrr74KAOjVqxccHR0RFhaG999/H+3bt69xjL29Pezt7c3/BIioVnW1LPPwYOAlotoJIXD8+HHExcVBq9XC3d0dXl5eAAC5XPLxOrJykn0H2dnZoX///oiPj6+2PT4+HiEhIUaPKS4urvFNX/lRh4TX6BFRHdiyjIjqq6SkBOvXr0dsbCzKysrQoUMHODg4SF0WtSCSdnieO3cupk6diuDgYAwZMgTLli3DtWvXDFMX5s2bh+vXr2PVqlUAgMjISDz99NNYsmQJxowZg7S0NMyZMwcDBw6Et7e3lE+FiFC9c0MlrsZGRPVx5coVxMTEID8/H3K5HMOGDUNoaChHecmsJA2+U6ZMQXZ2Nt59912kpaWhR48e2Lp1K/z8/AAAaWlp1Xr6Tp8+HQUFBfjyyy/x8ssvw9XVFSNGjMC///1vqZ4Ckc2rDLtCAGFhwLFjUldERNYmISEBiYmJAAA3NzdER0fDx8dH4qqoJZK0j68U2MeXyHwqL2KrpQMhQkM5vYGI7mzPnj3YuXMn+vXrhzFjxsDOzk7qkkhiTZXXuJg1ETWYsYvY+vT5X9ht1Yqhl4hqEkKguLgYjv8/DyokJAQ+Pj7o2LGjtIVRi8fgS0QmqZzaAFSfy5uRUTGXl2GXiOpSVFSETZs2ITs7G8888wxUKhVkMhlDLzULBl8iqre6pjbwIjYiupMLFy4gNjYWhYWFUCgUSE5ORkBAgNRlkQ1h8CWiequrPy9XYSOi2mi1WsTHx+PgwYMAAA8PD0RHRxv68xI1FwZfImqQyqkNAKc3EFHtMjIyoNFokJmZCQAYMGAARo8eDZVKJXFlZIsYfInojtifl4ga6rfffkNmZiYcHR0RFRWFwMBAqUsiG8bgS0RGsT8vEZnD+PHjYW9vjzFjxhi6OBBJhcuhEFENlRextW4NODnVDL2c00tEtTlz5gx27txpuO3s7Izo6GiGXrIIHPElohrYn5eITFVWVobt27fjyJEjAAB/f3906tRJ4qqIqmPwJbIhVXvw1oX9eYnIFKmpqdBoNMjOzgZQsSCFn5+fxFUR1cTgS2Qj7rS8cG14ERsR1Uav12Pv3r1ISEiAXq+Hk5MTJk2aBH9/f6lLIzKKwZfIRtTWg7cunMtLRHVZv349Tp8+DQAICgpCZGQk1Gq1xFUR1Y7Bl8gGVe3BWxdObyCiuvTq1QsXL17E2LFj0adPH8j4C4MsnEwIIaQuojnl5+fDxcUFeXl5cHZ2lrocomZTVFTRpQEACgs5fYGITFdaWoqsrCz4+PgYthUVFbFjA5ldU+U1jvgStQD1uWit6gVrRESmSk5OhkajQWlpKWbPng0nJycAYOglq8LgS2TlGnrRGhFRfej1eiQmJiIxMRFCCLi6uqKwsNAQfImsCYMvkZUz9aI1XrBGRPWVk5MDjUaDlJQUABVzeiMiIuDg4CBxZUQNw+BL1ILU56I1XrBGRPVx7NgxxMXFoaysDPb29hg/fjx69uwpdVlEjcLgS2RFjM3lrTp3lz13ichcUlJSUFZWBl9fX0yaNAmurq5Sl0TUaAy+RBagPhenCQGEhQHHjjVLSURkg/R6PeRyOQBgzJgxaNeuHYKDgw3biKwdgy+RxMx1cRrn7hJRQ+l0OiQkJCAtLQ2PPfYYZDIZVCoVBg4cKHVpRGbF4EvUTGob1S0qMi309ukD7NpVc54u5+4SUUNkZWVBo9EgLS0NAHDx4kV07txZ4qqImgaDL1EzqO+oLi9OI6LmIoRAUlIStm/fDq1WC7VajcjISIZeatEYfInMqDGjuqGhgIcHQy0RNb2ioiJs2rQJ586dAwAEBARg4sSJ7M1LLR6DL5GZNHZUlyO5RNRcNmzYgMuXL0OhUGDkyJEYPHgwZPwFRDaAwZfIRBzVJSJrFx4ejtjYWERFRcHLy0vqcoiajUwIIaQuojnl5+fDxcUFeXl5cHZ2lrocshKVYbe+LcU4qktEliQjIwPp6eno3bu3YZsQgqO8ZLGaKq9xxJfoDkxtN8ZRXSKyFEIIHDhwADt37oQQAu3atUP79u0BgKGXbBKDL9EdFBfXDL21tRQDOKpLRJahoKAAsbGxuHjxIgAgMDCQn3SSzWPwJTJB5RQGhlsismRnzpzBpk2bUFJSAqVSifDwcAQHB3OUl2wegy+RCRwd79xnl4hISnFxcTh48CAAwMvLC9HR0fDw8JC4KiLLwOBLRETUgri6ugIAhgwZghEjRkCp5D/1RJUa/dNQWloKe3t7c9RCREREJtLr9SgsLDTM3x08eDB8fX3h4+MjcWVElkdu6gHbt2/H9OnT0alTJ6hUKrRq1QpOTk4YOnQo/vnPfyI1NbUp6iQiIqLb5OXlYdWqVVi1ahXKysoAVHRrYOglMq7ewXfjxo3o2rUrpk2bBrlcjldffRUajQbbt2/HihUrMHToUOzcuRMBAQGYNWsWbty40ZR1ExER2bQTJ05g6dKluHr1KvLz85Geni51SUQWr94LWAwcOBD/+Mc/MH78eMjltefl69ev47PPPoOnpydefvllsxVqLlzAgkxVVAS0bl3x/4WFvLiNiKRVWlqKuLg4HD9+HADg4+OD6OhouLm5SVwZkfk0VV7jym1Etahcra2oCPD0rNjG4EtEUkpOToZGo0Fubi5kMhnCwsJw7733QqFQSF0akVk1VV4zeY7vnRw6dMjcpyRqFkJUhNyiooqA269fxUhvZeglIpLarl27kJubC1dXV0yfPh3Dhw9n6CUyQYOCb2FhIUpKSqptO3bsGCIjIzF48GCzFEbUnCqXJW7duuLLyQk4dqz6PqGhFQtXEBFJJTIyEsHBwXjmmWfg6+srdTlEVsek4JuSkoLQ0FC4uLjAxcUFc+fORXFxMR5//HEMGDAA9vb22L17d1PVStRkjC1LDFQsTVxQUDECXNsSxURETUEIgePHj2Pbtm2GbU5OThg/fjwcHBwkrIzIepnUx/f1119HYWEhPvvsM2zYsAGfffYZ/vjjD/Tu3Rvnzp2Dv79/U9VJ1GwqlyUGuDQxEUmjpKQEW7ZswcmTJwEAXbp0QUBAgMRVEVk/k4JvQkICfv75Z4SGhmLy5Mnw9vbGAw88gNdff72p6iMyq8oL1m5XVPS//+eyxEQkpStXriAmJgb5+fmQy+UYNmwYOnbsKHVZRC2CScE3PT0dnTp1AlCx/rdarUZUVFSTFEZkbpXzeI1NaSAikppOp0NCQgL27NkDAHBzc0N0dDQXoyAyI5OXLK569ahcLuc8I7Iatc3jrYoXsBGRVH766SdcuHABANC3b1+MHTsWdnZ2EldF1LKYFHyFEBg5ciSUyorDSkpKEBkZWeMH88iRI+arkKgJVJ3HWxXn9BKRVIKDg3H9+nVERkYiKChI6nKIWiSTgu/8+fOr3eY0B7JWnMdLRFIrKipCVlYW/Pz8AABdu3bFiy++CHt7e4krI2q5GhV8iaxB1RXYiIgswYULFxAbGwutVovZs2cbVqZi6CVqWibP8T1w4AA2bdqE8vJyjBo1CuHh4U1RF5FZ8II2IrIkWq0WO3fuxIEDBwAAHh4eKC0tlbgqItthUvCNiYnBAw88AAcHByiVSnzyySf45JNPMGfOnCYqj6h+6mpTdnvo5QVsRCSFjIwMaDQaZGZmAgAGDBiA0aNHQ6VSSVwZke2QCSFEfXceMGAAevfujaVLl0KpVOL999/HokWLkJWV1ZQ1mlV+fj5cXFyQl5dn+GiJrFt9R3UrL2jjBWxE1Nz279+PnTt3QqfTwdHREVFRUQgMDJS6LCKL1VR5zaQli8+ePYvXXnvN0NXh1VdfRW5urlUFX2o5hKgY0b1xo35tyjw8KoIvQy8RNbfs7GzodDoEBgZi9uzZDL1EEjFpqkNhYSFcXV0Nt+3t7aFWq5Gfnw93d3dz10ZUq9pGedmmjIgshVarNQwUhYeHo0OHDujVqxdk/GVEJBmTL27bvn07XFxcDLf1ej1+/fVXnDhxwrBtwoQJ5qmOWpTa5uE2RG1zdz08GHCJSFplZWXYsWMHsrOzMXXqVMjlcqhUKvTu3Vvq0ohsnklzfOXyO8+MkMlk0Ol0jSqqKXGOb9OqLdwKAYSFAceOmf8xOXeXiCxFamoqNBoNsrOzAQCPP/44/P39Ja6KyPo0VV4zacRXr9eb7YGp5ZGidRhHeYnIEuj1euzduxcJCQnQ6/VwcnLCxIkTGXqJLIxJwfeJJ57AZ599Bicnp6aqh6xYcfGdQ2+fPsCuXeYLqhzlJSKp5eXlISYmBlevXgUABAUF4b777kMr9k0ksjgmTXVQKBRIS0tDu3btmrKmJsWpDk2nqAho3bri/3mRGRHZipUrV+LatWtQqVSIiIhAnz59eAEbUSNZxFQHEzIy2ThHR+PBl4iopYmIiEBcXByioqLg5uYmdTlEVAeT+vgC4F+xRERk05KTk5GUlGS47eXlhenTpzP0ElkBk9uZdenS5Y7h9+bNmw0uiIiIyBLp9XokJiYiMTERMpkM7du3h7e3NwAOChFZC5OD74IFC6r18SXbU1vLsqKi5q+FiKg55OTkQKPRICUlBQDQo0cPjvASWSGTg+9DDz1k1Re3UeNI0bKMiEgqQgj8+eef2Lp1K8rKymBvb4/x48ejZ8+eUpdGRA1gUvDlRzm2q3KU19iKabcLDa3o3kBEZO1iY2Nx/PhxAICvry8mTZoEV1dXaYsiogZjVwe6o9pGedmyjIhaOi8vL/z1118YNmwYQkND67WCKRFZLq7cRndkbGEKrphGRC2RTqdDQUGBYVR30KBB6NSpEzw8PKQtjIjMot5/us6aNQvJycn12nft2rVYvXp1g4siyyBExdSGqhetZWQAhYXmXX2NiMgSZGVlYcWKFfj+++9RVlYGoGKKH0MvUctR7xFfDw8P9OjRAyEhIZgwYQKCg4Ph7e0NBwcH5OTk4NSpU9i9ezd++ukn+Pj4YNmyZU1ZNzWx2qY3cGEKImpphBBISkrC9u3bodVqoVarcePGDfj4+EhdGhGZmUlLFmdmZmLFihX46aefcOLEiWr3OTk5YdSoUZg5cybCw8PNXqi5cMni+qm6/HCl0FCO9BJRy1JUVITNmzfj7NmzAICAgABERUXx3wciiTVVXjMp+FaVm5uLq1evoqSkBO7u7ujUqZNVdH1g8K2fqsG38iI2XrRGRC3JhQsXEBsbi8LCQigUCowcORKDBw+2in/LiFq6psprJvfxreTq6sqWLlaotsUnbld1Xi+nNxBRSyOEwMGDB1FYWAh3d3fcf//98PLykrosImpiDQ6+ZH24+AQRUQWZTIYJEyZg3759GDZsGFQqldQlEVEzYENCG2KsLdmdcDEKImoJhBDYv38/tmzZYtjWunVrjB49mqGXyIZwxNdG1bb4xO04r5eIrF1BQQFiY2Nx8eJFAMDdd9+Njh07SlsUEUmCwddGcd4uEdmCM2fOYPPmzSguLoZSqUR4eDj8/PykLouIJNLg4KvVavH777/j4sWLeOSRR+Dk5ITU1FQ4Ozuj9e19sIiIiJpRWVkZduzYgaSkJAAVSw9HR0dzMQoiG9eg4Hv16lWMHTsW165dQ2lpKUaPHg0nJyd8+OGHuHXrFpYuXWruOomIiOpFCIEff/wRV69eBQCEhIRg+PDhUCr5ISeRrWvQxW0vvvgigoODkZOTA7Vabdg+adIk/Prrr2YrjoiIyFQymQyhoaFwcnLC1KlTMXr0aIZeIgLQwOC7e/duvPXWW7Czs6u23c/PD9evXzfpXIsXL4a/vz8cHBzQv39/7Nq1q879S0tL8eabb8LPzw/29vbo1KkTvv32W5Ofgy0RoqIvb9XevERELUleXh4uXbpkuB0YGIjnn38eAQEBElZFRJamQX8C6/V66HS6GttTUlLg5ORU7/OsXbsWc+bMweLFixEaGoqvv/4aEREROHXqFHx9fY0e8+CDDyIjIwMrVqxA586dkZmZCa1W25CnYRPYu5eIWroTJ04Y2pTNmjULLi4uAMA2ZURUQ4OWLJ4yZQpcXFywbNkyODk54c8//4SHhweioqLg6+uLlStX1us8gwYNQr9+/bBkyRLDtqCgIEycOBELFy6ssf+2bdvw0EMP4dKlS3BzczO1bAC2t2Rx1aWHK4WGArt2sU0ZEVm30tJSxMXF4fjx4wAAHx8f3H///WjTpo3ElRFRY1nUksX/+c9/MHz4cHTv3h23bt3CI488gvPnz8Pd3R1r1qyp1znKysqQlJSE119/vdr28PBw7K1leHLTpk0IDg7Ghx9+iO+//x6Ojo6YMGEC3nvvvWpzjasqLS1FaWmp4XZ+fn49n2XLU9m7l715icjaJScnQ6PRIDc3FzKZDGFhYbj33nuhUCikLo2ILFiDgq+3tzeOHTuGn376CUlJSdDr9XjyySfx6KOP1hpAb5eVlQWdTgdPT89q2z09PZGenm70mEuXLmH37t1wcHBATEwMsrKy8Oyzz+LmzZu1zvNduHAhFixYYNoTbKHYu5eIrJ0QAomJifjjjz8ghICrqysmTZpU6/Q4IqKqGhR8ExMTERISghkzZmDGjBmG7VqtFomJibj33nvrfS7ZbUOPQoga2yrp9XrIZDKsXr3aMIfr008/xeTJk/HVV18ZDd3z5s3D3LlzDbfz8/Nx11131bs+IiKyHDKZDMXFxRBCoFevXoiIiICDg4PUZRGRlWhQ8B0+fDjS0tLQrl27atvz8vIwfPhwoxe+3c7d3R0KhaLG6G5mZmaNUeBK7du3h4+PjyH0AhVzgoUQSElJQWBgYI1j7O3tYW9vX5+nRUREFkgIgfLyckMnoVGjRsHf3x/dunWTuDIisjYNamdW26hsdnY2HOv5WbqdnR369++P+Pj4atvj4+MREhJi9JjQ0FCkpqaisLDQsO3cuXOQy+Xo0KGDCc+AiIisQUlJCdavX4/Vq1dDr9cDqOjWwNBLRA1h0ohvdHQ0gIqPmqZPn15tJFWn0+HPP/+sNbQaM3fuXEydOhXBwcEYMmQIli1bhmvXrmHWrFkAKqYpXL9+HatWrQIAPPLII3jvvfcwY8YMLFiwAFlZWXj11VfxxBNP1HtuMRERWYfLly9j48aNyM/Ph1wux/Xr1zlVjYgaxaTgWznFQAgBJyenamHTzs4OgwcPxtNPP13v802ZMgXZ2dl49913kZaWhh49emDr1q3w8/MDAKSlpeHatWuG/Vu3bo34+Hg8//zzCA4ORtu2bfHggw/i/fffN+VpEBGRBdPpdPjtt98MHX7c3NwQHR0NHx8fiSsjImvXoD6+CxYswCuvvFLvaQ2WxFb6+AoBFBdX9PGtnDJdWMiuDkRk2bKysqDRaJCWlgYA6NevH8aMGVNjpVAiatksqo/v/PnzzVYAmUdl0K38/7Aw4NgxSUsiIjKJEAIbN25EWloa1Go1IiMjERQUJHVZRNSCNCj4AsD69evx888/49q1aygrK6t235EjRxpdGN1ZZditT9ANDa1YuIKIyFLJZDJMmDABv/76K+677z44OTlJXRIRtTAN6urw+eefY8aMGWjXrh2OHj2KgQMHom3btrh06RIiIiLMXSMZIQRwzz0VyxE7ORkPvX36AAUFFVMcuEQxEVmiCxcu4MCBA4bb7dq1w8MPP8zQS0RNokEjvosXL8ayZcvw8MMP47///S9ee+01BAQE4O2338bNmzfNXSMZUVwM3L6yc58+1QMulyYmIkul1WoRHx+PgwcPQiaT4a677oK3t7fUZRFRC9eg4Hvt2jVD2zK1Wo2CggIAwNSpUzF48GB8+eWX5quQ7igjo+KiNQZdIrIGGRkZ0Gg0yMzMBAAEBwfDw8ND4qqIyBY0KPh6eXkhOzsbfn5+8PPzw/79+9G7d29cvnwZDWgSQY3k6MhuDURk+YQQOHDgAHbu3AmdTgdHR0dERUUZXXWTiKgpNCj4jhgxAps3b0a/fv3w5JNP4qWXXsL69etx+PBhwyIXRERElYQQWLt2Lc6ePQsA6NKlCyZMmGCVbTGJyHo1KPguW7bMsHTkrFmz4Obmht27dyMyMtKw6ho1jar9eYmIrIVMJkNAQAAuXryI8PBwBAcHQ8a5WUTUzBq0gEVdrl+/btGr61jbAhb16c/LhSmIyBKVlZWhoKAAbdu2BVAx6pubm4s2bdpIXBkRWbqmymsNamdmTHp6Op5//nl07tzZXKe0eVVbltXWtoz9eYnIEqWmpmLZsmVYvXo1SktLAVSM+jL0EpGUTAq+ubm5ePTRR+Hh4QFvb298/vnn0Ov1ePvttxEQEID9+/fj22+/bapabY6xlmUA+/MSkeXS6/XYvXs3VqxYgezsbGi1WuTm5kpdFhERABPn+L7xxhtITEzEtGnTsG3bNrz00kvYtm0bbt26hbi4OAwdOrSp6mzRqk5nqKrqPN7KlmUA25YRkWXKy8tDTEwMrl69CgAICgpCZGQk1Gq1xJUREVUwKfhu2bIFK1euxKhRo/Dss8+ic+fO6NKlCxYtWtRE5bV8ldMZjI3sVsWWZURkyU6cOIFffvkFpaWlUKlUiIiIQJ8+fXgBGxFZFJOCb2pqKrp37w4ACAgIgIODA5566qkmKcxW1DadoSrO4yUiSyaEwF9//YXS0lL4+PggOjoabm5uUpdFRFSDScFXr9dDpVIZbisUCvZgNKOq0xmq4tQGIrJEQgjIZDLIZDJMmDABR44cQUhICBQKhdSlEREZZVLwFUJg+vTpsLe3BwDcunULs2bNqhF+NRqN+SpsoYz14+V0BiKyBnq9HomJicjLy0NUVBQAwNHREWFhYRJXRkRUN5OC77Rp06rdfuyxx8xajK2o77xeIiJLk5OTA41Gg5SUFABAv379cNddd0lcFRFR/ZgUfFeuXNlUddgUY/N6OY+XiCyZEALHjx9HXFwcysrKYG9vj/HjxzP0EpFVadCSxWQ+lfN6OY+XiCxVSUkJfvnlF5w6dQoA4Ovri0mTJsHV1VXawoiITMTg24w4r5eIrI0QAj/88ANSU1Mhl8sxbNgwhIaGQi4328KfRETNhr+5mpAQFSG3qKhilbV+/SqWHvb0lLoyIqL6kclkGD58ONq2bYsnnngCYWFhDL1EZLU44mtmlaO6QgBhYcCxY7Xvy3m9RGSJsrKykJOTg8DAQABA586dMXv2bLYpIyKrx+BrRvXp1tCnD7BrV8V8Xs7rJSJLIoRAUlIStm/fDoVCgVmzZhnm8TL0ElFL0ODPq77//nuEhobC29vbsC77okWLEBsba7biLFXVKQxVv27cqBl6+/QBCgoqpjoUFgJHjlRMd3B0ZOglIstRVFSEtWvXYsuWLdBqtfDx8WHYJaIWp0HBd8mSJZg7dy7GjRuH3Nxc6HQ6AICrqysWLVpkzvosRmXYrTpX9/avqnN3MzJqBl2GXSKyRBcuXMDSpUtx9uxZKBQKhIeH47HHHoOTk5PUpRERmVWDgu8XX3yBb775Bm+++Wa1EYHg4GD89ddfZivOUlROYWjdGnByqnveLlAxd9fDg0GXiCybEALbtm3D6tWrUVhYCA8PDzz11FMYMmQIZPzlRUQtUIPm+F6+fBl9+/atsd3e3h5FVXt1tRDGFpyoOlf3dpy7S0TWoGq4HTBgAEaPHg2VSiVhRURETatBwdff3x/Hjh2Dn59fte1xcXHo3r27WQqzVFxwgoismRACpaWlcHBwAACMGjUKXbt2hb+/v8SVERE1vQYF31dffRXPPfccbt26BSEEDh48iDVr1mDhwoVYvny5uWu0KFxwgoisVUFBAWJjY1FWVobp06dDLpdDqVQy9BKRzWhQ8J0xYwa0Wi1ee+01FBcX45FHHoGPjw8+++wzPPTQQ+aukYiIGunMmTPYvHkziouLoVQqkZaWBh8fH6nLIiJqVjIhhGjMCbKysqDX69GuXTtz1dSk8vPz4eLigry8PDg7O9frmKKiigvbgIpODRzxJSJrUVZWhh07diApKQkA4OXlhejoaHh4eEhcGRFR7RqS1+qjQSO+CxYswGOPPYZOnTrB3d3dbMUQEZH5pKamQqPRIDs7GwAwZMgQjBgxAkol1y4iItvUoHZmGzZsQJcuXTB48GB8+eWXuHHjhrnrIiKiRhBCYMuWLcjOzoaTkxOmTp2K8PBwhl4ismkNCr5//vkn/vzzT4wYMQKffvopfHx8MG7cOPz4448oLi42d41ERGQimUyGiRMnomfPnpg9ezYCAgKkLomISHKNnuMLAHv27MGPP/6IdevW4datW8jPzzdHbU2Cc3yJqKU6ceIE8vPzERISInUpRESNYlFzfG/n6OgItVoNOzs7FBQUmOOURERUT6WlpYiLi8Px48chk8ng7++P9u3bS10WEZHFadBUB6Bi9bZ//vOf6N69O4KDg3HkyBG88847SE9PN2d9RERUh+TkZCxdutQQesPCwqymyw4RUXNr0IjvkCFDcPDgQfTs2RMzZsww9PElIqLmodfrkZiYiMTERAgh4OrqikmTJsHX11fq0oiILFaDgu/w4cOxfPly3H333eauh4iI7kAIgR9++AGXL18GAPTq1QsRERGGZYiJiMi4BgXfDz74wNx1EBFRPclkMgQFBSE1NRXjx49Hz549pS6JiMgq1Dv4zp07F++99x4cHR0xd+7cOvf99NNPG10YERH9T0lJCQoKCgzzd4ODgxEUFITWlS1niIjojuodfI8ePYry8nLD/xMRUfO4cuUKYmJiIJfLMWvWLNjb20MmkzH0EhGZqN7BNyEhwej/ExFR09DpdEhISMCePXsAAG5ubigoKIC9vb3ElRERWacGtTN74oknjPbrLSoqwhNPPNHoooiIbF1WVhZWrFhhCL19+/bFM888A3d3d4krIyKyXg1auU2hUCAtLa1Gr8isrCx4eXlBq9WarUBz48ptRGTJhBBISkrC9u3bodVqoVarERkZiaCgIKlLIyJqNhaxclt+fj6EEBBCoKCgoFrrHJ1Oh61bt7JxOhFRI124cAFarRYBAQGIiooy6y99IiJbZlLwdXV1hUwmg0wmQ5cuXWrcL5PJsGDBArMVR0RkK4QQht+vkZGRCAgIwIABAyCTyaQujYioxTAp+CYkJEAIgREjRmDDhg1wc3Mz3GdnZwc/Pz94e3ubvUgiopZKq9Vi586dKCkpwaRJkwAAjo6OGDhwoMSVERG1PCYF36FDhwIALl++DF9fX45EEBE1QkZGBjQaDTIzMwEAgwYN4uABEVETqnfw/fPPP9GjRw/I5XLk5eXhr7/+qnXfXr16maU4IqKWSAiBAwcOYOfOndDpdHB0dERUVBRDLxFRE6t38O3Tpw/S09PRrl079OnTBzKZDMYaQshkMuh0OrMWSUTUUhQUFCA2NhYXL14EAAQGBiIqKgqObBdDRNTk6h18L1++DA8PD8P/ExGRaYQQWL16NTIyMqBUKhEeHo7g4GBOGyMiaib1Dr5+fn5G/5+IiOpHJpNh9OjR2LlzJ6Kjow2DCURE1DwatHLbf//7X2zZssVw+7XXXoOrqytCQkJw9epVsxVHRGTtUlNTcebMGcPtTp06YebMmQy9REQSaFDw/eCDD6BWqwEA+/btw5dffokPP/wQ7u7ueOmll8xaIBGRNdLr9di9ezdWrFiBmJgY5OTkGO7j1AYiImmY1M6sUnJyMjp37gwA2LhxIyZPnoyZM2ciNDQUw4YNM2d9RERWJy8vDzExMYZPwDp16gR7e3uJqyIiogYF39atWyM7Oxu+vr7YsWOHYZTXwcEBJSUlZi2QiMianDhxAlu2bMGtW7egUqkQERFh6IRDRETSalDwHT16NJ566in07dsX586dw/jx4wEAJ0+eRMeOHc1ZHxGRVRBCYNOmTTh27BgAwMfHB9HR0dVWuCQiImk1aI7vV199hSFDhuDGjRvYsGED2rZtCwBISkrCww8/bNYCiYisgUwmg1qthkwmQ1hYGGbMmMHQS0RkYWTC2CoULVh+fj5cXFyQl5cHZ2fneh1TVAS0bl3x/4WFAPvMExFQcQFbSUmJYfEJrVaL9PR0dOjQQeLKiIisW0PyWn00aKoDAOTm5mLFihU4ffo0ZDIZgoKC8OSTT8LFxcVsxRERWaqcnBxoNBoAwIwZMyCXy6FUKhl6iYgsWIOmOhw+fBidOnXCf/7zH9y8eRNZWVn4z3/+g06dOuHIkSPmrpGIyGIIIXD8+HEsXboUKSkpuHHjBm7cuCF1WUREVA8NmuoQFhaGzp0745tvvoFSWTForNVq8dRTT+HSpUtITEw0e6HmwqkORNRQJSUl2LJlC06ePAkA8PX1xaRJk+Dq6iptYURELYxFTXU4fPhwtdALAEqlEq+99hqCg4PNVpzUhACKiyuCLxHZtitXriAmJgb5+fmQy+UYNmwYQkNDIZc36IMzIiKSQIN+Yzs7O+PatWs1ticnJ8PJyanRRVkCIYB77qkY6fX0lLoaIpKSEALx8fHIz8+Hm5sbnnjiCYSFhTH0EhFZmQaN+E6ZMgVPPvkkPv74Y4SEhEAmk2H37t149dVXW0w7s+JiYO/e6ttCQ4FWraSph4ikI5PJMHHiRBw8eBCjR4+GnZ2d1CUREVEDNCj4fvzxx5DJZHj88ceh1WoBACqVCrNnz8a//vUvsxZoCTIyKub1tmoFcPElopZPCIEjR46guLgYYWFhAAAPDw/DYj1ERGSdGtXHt7i4GBcvXoQQAp07d0YrKxgOre9kaV7QRmSbioqKsHnzZpw9exYymQwzZ86El5eX1GUREdmUprq4zaQJasXFxXjuuefg4+ODdu3a4amnnkL79u3Rq1cvqwi9RER1uXDhApYuXYqzZ89CoVBg9OjR8OQkfyKiFsOkqQ7z58/Hd999h0cffRQODg5Ys2YNZs+ejXXr1jVVfURETU6r1WLnzp04cOAAgIppDdHR0RzpJSJqYUwKvhqNBitWrMBDDz0EAHjssccQGhoKnU4HhULRJAUSETUlIQT++9//IiUlBQAwYMAAjB49GiqVSuLKiIjI3EwKvsnJyYYLPQBg4MCBUCqVSE1NxV133WX24ppbZd9egL17iWyFTCZD7969kZOTg6ioKAQGBkpdEhERNRGTgq9Op6vRxkepVBo6O1izyr69t7cwI6KWp6CgAIWFhWjfvj0AoH///rj77ruhVqslroyIiJqSScFXCIHp06fD3t7esO3WrVuYNWsWHKu0PdBoNOarsJkY69sLsHcvUUtz5swZbNq0CXZ2dpg1axYcHBwgk8kYeomIbIBJwXfatGk1tj322GNmK8ZSVPbtBdi7l6ilKCsrw44dO5CUlAQAcHFxwa1bt+Dg4CBxZURE1FxMCr4rV65sqjosiqMj+/YStSSpqanQaDTIzs4GAISEhGD48OFQKhu0hg8REVkp/tYnohZLCIE9e/YgISEBer0eTk5OmDRpEvz9/aUujYiIJGDSAhZNYfHixfD394eDgwP69++PXbt21eu4PXv2QKlUok+fPk1bIBFZtevXr0Ov1yMoKAizZ89m6CUismGSBt+1a9dizpw5ePPNN3H06FGEhYUhIiIC165dq/O4vLw8PP744xg5cmQzVUpE1kSn0wGoaFUWGRmJiRMn4oEHHuAFbERENk4mhBBSPfigQYPQr18/LFmyxLAtKCgIEydOxMKFC2s97qGHHkJgYCAUCgU2btyIY8eO1fsxa1v7uagIaN264v8LCznHl8galZaWIi4uDlqtFvfffz9kvDKViMgq1ZbXGkuyEd+ysjIkJSUhPDy82vbw8HDsraOZ7sqVK3Hx4kXMnz+/Xo9TWlqK/Pz8al9E1PIkJydj6dKlOH78OE6dOoWMjAypSyIiIgvT4OD7/fffIzQ0FN7e3rh69SoAYNGiRYiNja3X8VlZWdDpdPD09Ky23dPTE+np6UaPOX/+PF5//XWsXr263ldjL1y4EC4uLoavlrDCHBH9j16vx++//46VK1ciNzcXrq6umD59Ory8vKQujYiILEyDgu+SJUswd+5cjBs3Drm5uYb5dK6urli0aJFJ57r9o0ghhNGPJ3U6HR555BEsWLAAXbp0qff5582bh7y8PMNXcnKySfURkeW6efMmVq5ciT/++ANCCPTq1QvPPPMMfH19pS6NiIgsUIPamX3xxRf45ptvMHHiRPzrX/8ybA8ODsYrr7xSr3O4u7tDoVDUGN3NzMysMQoMVCwxevjwYRw9ehR/+9vfAFSM9AghoFQqsWPHDowYMaLGcfb29tVWmiOilkEIgTVr1iArKwv29vYYP348evbsKXVZRERkwRoUfC9fvoy+ffvW2G5vb4+ioqJ6ncPOzg79+/dHfHw8Jk2aZNgeHx+PqKioGvs7Ozvjr7/+qrZt8eLF+O2337B+/Xq2KCKyMTKZDOPGjcMff/yBiRMnwtXVVeqSiIjIwjUo+Pr7++PYsWPw8/Ortj0uLg7du3ev93nmzp2LqVOnIjg4GEOGDMGyZctw7do1zJo1C0DFNIXr169j1apVkMvl6NGjR7Xj27VrBwcHhxrbiahlunz5MoqLi3H33XcDqPhd1LFjR3ZvICKiemlQ8H311Vfx3HPP4datWxBC4ODBg1izZg0WLlyI5cuX1/s8U6ZMQXZ2Nt59912kpaWhR48e2Lp1qyFQp6Wl3bGnLxG1fDqdDgkJCdizZw/s7OzQvn17uLm5Aah5nQAREVFtGtzH95tvvsH7779vuFjMx8cH77zzDp588kmzFmhu7ONLZF2ysrKg0WiQlpYGAOjbty/Gjh0LOzs7iSsjIqKm0lR9fBu9gEVWVhb0ej3atWtnrpqa1O0vpBBAcXFF8K28po7Bl0h6QggkJSVh+/bt0Gq1UKvViIyMRFBQkNSlERFRE2uq4NugqQ5Vubu7m6MOSQgB3HMPUMd6GUQkASEEfv75Z5w5cwYAEBAQgIkTJ8LJyUniyoiIyJo1+OK2uubVXbp0qcEFNafi4pqhNzQUaNVKmnqIqIJMJkPbtm2hUCgwcuRIDB48mHN5iYio0RoUfOfMmVPtdnl5OY4ePYpt27bh1VdfNUddzS4jo2J6Q6tWAP99JWp+Wq0WJSUlhlHd4cOHo1evXlYzjYqIiCxfg4Lviy++aHT7V199hcOHDzeqIKk4OnJeL5FUMjIyoNFooFKpMGPGDCgUCigUCoZeIiIyqwYtWVybiIgIbNiwwZynJKIWTAiB/fv345tvvkFmZiZyc3Nx8+ZNqcsiIqIWqtEXt1W1fv16Q29NS1dUBCgUUldBZLsKCgoQGxuLixcvAgACAwMRFRUFR370QkRETaRBwbdv377VLjQRQiA9PR03btzA4sWLzVZcU/L2lroCItt15swZbNq0CSUlJVAqlQgPD0dwcDAvYCMioibVoOA7ceLEarflcjk8PDwwbNgwdOvWzRx1NSt2ciBqPnq9Hrt27UJJSQm8vLwQHR0NDw8PqcsiIiIbYHLw1Wq16NixI8aMGQMvL6+mqKlZXLgAVJbPTg5EzUculyM6OhpHjx7FsGHDoFSadcYVERFRrRq0clurVq1w+vRp+Pn5NUVNTapyJZDU1Dy0b2++lUCIyDi9Xo+9e/dCq9Vi2LBhUpdDRERWwKJWbhs0aBCOHj1qlcGXiJpPXl4eYmJicPXqVQBA9+7d2aKMiIgk06Dg++yzz+Lll19GSkoK+vfvX+Mq7F69epmlOCKyXidOnMCWLVtw69YtqFQqREREcC4vERFJyqSpDk888QQWLVoEV1fXmieSySCEgEwmg06nM2eNZsWpDkRNq7S0FHFxcTh+/DgAwMfHB9HR0VbT6pCIiKTXVFMdTAq+CoUCaWlpKCkpqXM/S54CweBL1HT0ej2+/vprZGZmQiaTISwsDPfeey8UbJpNREQmsIg5vpUZ2ZKDLRFJRy6XY9CgQdi1axcmTZoEX19fqUsiIiIyMHmOLxvME1FVOTk5KC4uho+PD4CKBW569OgBOzs7iSsjIiKqzuTg26VLlzuG35s3bza4ICKyDkII/Pnnn9i6dSscHBwwa9YsqNVqyGQyhl4iIrJIJgffBQsWwMXFpSlqISIrUVJSgi1btuDkyZMAAC8vL5SXl0OtVktcGRERUe1MDr4PPfQQ+3AS2bArV64gJiYG+fn5kMvlGDZsGEJDQyGXy6UujYiIqE4mBV/O7yWyXXq9Hr/99hv27NkDAHBzc0N0dLRhbi8REZGla1BXByKyPTKZDDk5OQAqLmAbO3Ys5/ISEZFVMSn46vX6pqqDiCyQEAJarRYqlQoymQz33XcfevXqha5du0pdGhERkckatGQxEbV8RUVF2Lx5MxQKBSZPngyZTAa1Ws3QS0REVovBl4hquHDhAmJjY1FYWAiFQoGsrCx4eHhIXRYREVGjMPgSkYFWq0V8fDwOHjwIAPDw8EB0dDRDLxERtQgMvkQEAMjIyIBGo0FmZiYAYMCAARg9ejRUKpXElREREZkHgy8RQa/X4+eff8bNmzfh6OiIqKgoBAYGSl0WERGRWTH4EhHkcjkiIyOxb98+TJgwAY6OjlKXREREZHYMvkQ26uzZsygrK0PPnj0BAB07dkTHjh2lLYqIiKgJMfgS2ZiysjLs2LEDSUlJUKlU8PHxgZubm9RlERERNTkGXyIbkpqaCo1Gg+zsbABAcHAwnJ2dJa6KiIioeTD4EtkAvV6PvXv3IiEhAXq9Hk5OTpg4cSICAgKkLo2IiKjZMPgStXB6vR4//PADLl++DAAICgpCZGQk1Gq1xJURERE1LwZfohZOLpfDx8cHKSkpiIiIQJ8+fSCTyaQui4iIqNkx+BK1QKWlpbh16xZcXFwAAMOGDUO/fv3Qpk0biSsjIiKSjlzqAojIvJKTk7F06VL8/PPP0Ol0AACFQsHQS0RENo8jvkQthF6vR2JiIhITEyGEgBACeXl5bFVGRET0/xh8iVqAnJwcaDQapKSkAAB69uyJcePGwcHBQeLKiIiILAeDL5EVE0Lg+PHjiIuLQ1lZGezt7TF+/HjDamxERET0Pwy+RFZMCIHDhw+jrKwMvr6+mDRpElxdXaUui4iIyCIx+BJZISEEZDIZ5HI5Jk2ahNOnTyMkJARyOa9XJSIiqg2DL5EV0el0SEhIgEwmw8iRIwEAbdu2xT333CNxZURERJaPwZfISmRlZUGj0SAtLQ0A0Lt3b7i7u0tcFRERkfVg8CWycEIIJCUlYfv27dBqtVCr1YiMjGToJSIiMhGDL5EFKyoqwubNm3H27FkAQEBAAKKiouDs7CxxZURERNaHwZfIQun1enz77be4efMmFAoFRo4cicGDB0Mmk0ldGhERkVVi8CWyUHK5HGFhYdizZw/uv/9+eHl5SV0SERGRVWPwJbIgGRkZKCsrw1133QWg4gK2Hj16QKnkjyoREVFj8V9TIgsghMCBAwewc+dOtGrVCrNnz4ZarYZMJmPoJSIiMhP+i0oksYKCAsTGxuLixYsAAC8vL+j1eomrIiIiankYfIkkdObMGWzevBnFxcVQKpUIDw9HcHAwL2AjIiJqAgy+RBLQ6/XYunUrkpKSAFSM8kZHR8PDw0PiyoiIiFouBl8iCchkMty6dQsAMGTIEIwYMYJzeYmIiJoY/6UlaiZ6vR5arRZ2dnaQyWQYP348+vfvD39/f6lLIyIisglyqQsgsgV5eXn4/vvvERMTAyEEAECtVjP0EhERNSOO+BI1sZMnT+KXX37BrVu3oFKpcPPmTbRt21bqsoiIiGwOgy9REyktLUVcXByOHz8OAPDx8cGkSZMYeomIiCTC4EvUBJKTk6HRaJCbmwuZTIZ77rkHQ4cOhUKhkLo0IiIim8XgS2Rmer0eMTExyM3NhYuLC6Kjo+Hr6yt1WURERDaPwZfIzORyOaKionDkyBFERETAwcFB6pKIiIgIDL5EjSaEwJ9//gkhBPr06QMA8PPzg5+fn7SFERERUTUMvkSNUFJSgi1btuDkyZNQqVTw8/NDmzZtpC6LiIiIjGDwJWqgK1euICYmBvn5+ZDL5QgLC4OLi4vUZREREVEtGHyJTKTT6ZCQkIA9e/YAANzc3BAdHQ0fHx+JKyMiIqK6MPgSmUCn0+Hbb79FamoqAKBv374YO3Ys7OzsJK6MiIiI7oTBl8gECoUCnTp1Qk5ODiIjIxEUFCR1SURERFRPDL5Ed1BUVISysjLDRWtDhw7FgAED4OTkJHFlREREZAq51AUQWbILFy5g6dKlWLduHXQ6HYCKUV+GXiIiIuvDEV8iI7RaLXbu3IkDBw4AANRqNQoLC9m1gYiIyIox+BLdJiMjAxqNBpmZmQCAgQMHYtSoUVCpVBJXRkRERI3B4Ev0/4QQOHDgAHbu3AmdTgdHR0dERUUhMDBQ6tKIiIjIDBh8if6fEAInT56ETqdDly5dMGHCBDg6OkpdFhEREZkJgy/ZPCEEZDIZ5HI5Jk2ahEuXLqF///6QyWRSl0ZERERmxOBLNqusrAzbt2+Hg4MDRo8eDaBiFTY3NzeJKyMiIqKmwOBLNik1NRUajQbZ2dmQyWTo378/Ay8REVELx+BLNkWv12Pv3r1ISEiAXq+Hk5MTJk2axNBLRERkAyRfwGLx4sXw9/eHg4MD+vfvj127dtW6r0ajwejRo+Hh4QFnZ2cMGTIE27dvb8ZqyZrl5eVh1apV+PXXX6HX6xEUFITZs2fD399f6tKIiIioGUgafNeuXYs5c+bgzTffxNGjRxEWFoaIiAhcu3bN6P6JiYkYPXo0tm7diqSkJAwfPhyRkZE4evRoM1dO1kan02HlypW4evUqVCoVJkyYgAceeABqtVrq0oiIiKiZyIQQQqoHHzRoEPr164clS5YYtgUFBWHixIlYuHBhvc5x9913Y8qUKXj77bfrtX9+fj5cXFyQmpqH9u2dG1Q3Wafjx4/j0KFDiI6O5tQGIiIiC1aZ1/Ly8uDsbL68Jtkc37KyMiQlJeH111+vtj08PBx79+6t1zn0ej0KCgrqDDGlpaUoLS013M7Pz29YwWR1kpOTodPp0LFjRwBAr1690LNnT8jlks/wISIiIglIlgCysrKg0+ng6elZbbunpyfS09PrdY5PPvkERUVFePDBB2vdZ+HChXBxcTF83XXXXY2qmyyfXq/H77//jpUrV2LDhg0oLi4GAEOvXiIiIrJNkqeA2xcJqFxM4E7WrFmDd955B2vXrkW7du1q3W/evHnIy8szfCUnJze6ZrJcOTk5WLlyJf744w8IIRAQEMCwS0RERAAknOrg7u4OhUJRY3Q3MzOzxijw7dauXYsnn3wS69atw6hRo+rc197eHvb29o2ulyybEALHjx9HXFwcysrKYG9vj/Hjx6Nnz55Sl0ZEREQWQrKhMDs7O/Tv3x/x8fHVtsfHxyMkJKTW49asWYPp06fjxx9/xPjx45u6TLICOp0OGzZsQGxsLMrKyuDr64tZs2Yx9BIREVE1ki5gMXfuXEydOhXBwcEYMmQIli1bhmvXrmHWrFkAKqYpXL9+HatWrQJQEXoff/xxfPbZZxg8eLBhtFitVsPFxUWy50HSUigUkMvlkMvlGDZsGEJDQzm9gYiIiGqQNPhOmTIF2dnZePfdd5GWloYePXpg69at8PPzAwCkpaVV6+n79ddfQ6vV4rnnnsNzzz1n2D5t2jR89913zV0+SUin06G8vBwODg4AgHHjxmHw4MHw9vaWuDIiIiKyVJL28ZUC+/hav6ysLGg0Gjg7O2PKlCn1uhiSiIiIrEeL6+NLZCohBJKSkrB9+3ZotVrk5uYiNzcXbdq0kbo0IiIisgIMvmQVioqKsHnzZpw9exYAEBAQgIkTJ8LJyUniyoiIiMhaMPiSxbtw4QJiY2NRWFgIhUKBkSNHYvDgwZziQERERCZh8CWLptPpsGXLFhQWFsLDwwPR0dHw8vKSuiwiIiKyQgy+ZNEUCgUmTZqEkydPYtSoUVCpVFKXRERERFaKwZcsihACBw4cgJ2dHfr16wcA8PX1ha+vr8SVERERkbVj8CWLUVBQgNjYWFy8eBFKpRIBAQFwdXWVuiwiIiJqIRh8ySKcOXMGmzZtQklJCZRKJcLDw7kaHxEREZkVgy9JqqysDDt27EBSUhIAwMvLC9HR0fDw8JC4MiIiImppGHxJMlqtFsuXL8eNGzcAACEhIRg+fDiUSn5bEhERkfkxYZBklEolunfvjiNHjmDixIkICAiQuiQiIiJqwRh8qVnl5eVBq9Wibdu2AIB7770XgwYNglqtlrgyIiIiaunkUhdAtuPEiRNYunQp1q1bB61WCwCQy+UMvURERNQsOOJLTa60tBRxcXE4fvw4AKBt27a4desWWrduLXFlREREZEsYfKlJJScnQ6PRIDc3FzKZDGFhYbj33nuhUCikLo2IiIhsDIMvNQm9Xo/ExEQkJiZCCAFXV1dMmjSJK7ARERGRZBh8qclcunQJQgj06tULERERcHBwkLokIiIismEMvmQ2QggIISCXyyGXyzFp0iSkpKSgZ8+eUpdGRERExOBL5lFSUoItW7bAyckJY8aMAQC0adMGbdq0kbgyIiIiogoMvtRoV65cQUxMDPLz8yGXyzF48GC4uLhIXRYRERFRNQy+1GA6nQ4JCQnYs2cPAMDNzQ3R0dEMvURERGSRGHypQbKysqDRaJCWlgYA6Nu3L8aOHQs7OzuJKyMiIiIyjsGXTKbVavHf//4XhYWFUKvViIyMRFBQkNRlEREREdWJwZdMplQqER4ejmPHjmHixIlwcnKSuiQiIiKiO2LwpXq5cOEC5HI5AgICAAA9e/ZEjx49IJPJJK6MiIiIqH4YfKlOWq0W8fHxOHjwIFq3bo1Zs2bB0dERABh6iYiIyKow+FKtMjIyoNFokJmZCQAICgrixWtERERktRh8qQYhBA4cOICdO3dCp9PB0dERUVFRCAwMlLo0IiIiogZj8KVqtFotfvrpJ1y8eBEAEBgYiKioKMP0BiIiIiJrxeBL1SiVSjg6Oho6NwQHB3MuLxEREbUIDL6EsrIy6HQ6qNVqAMC4ceNwzz33wMPDQ+LKiIiIiMxHLnUBJK3U1FQsW7YMGzduhBACAGBvb8/QS0RERC0OR3xtlF6vx969e5GQkAC9Xo+ysjIUFBTA2dlZ6tKIiIiImgSDrw3Ky8tDTEwMrl69CqCiTdl9992HVq1aSVwZERERUdNh8LUxJ06cwJYtW3Dr1i2oVCpERESgT58+vICNiIiIWjwGXxui1Wrx22+/4datW/Dx8UF0dDTc3NykLouIiIioWTD42hClUono6GicO3cOQ4cOhUKhkLokIiIiombD4NuC6fV6JCYmwtHREQMGDAAAdOjQAR06dJC4MiIiIqLmx+DbQuXk5ECj0SAlJQVKpRJdu3ZlxwYiIiKyaQy+LYwQAn/++Se2bt2KsrIy2NvbY/z48Qy9REREZPMYfFuQkpISbNmyBSdPngQA+Pr6YtKkSXB1dZW2MCIiIiILwODbQpSXl2PZsmXIzc2FXC7HsGHDEBoaCrmci/MRERERAQy+LYZKpUKfPn3w559/Ijo6Gj4+PlKXRERERGRRGHytWFZWFoQQ8PDwAACEhYVhyJAhsLOzk7gyIiIiIsvDz8GtkBAChw8fxtdff43169dDq9UCAORyOUMvERERUS044mtlioqKsHnzZpw9exYA4OjoiLKyMiiVfCuJiIiI6sK0ZEUuXLiA2NhYFBYWQqFQYOTIkRg8eDBkMpnUpRERERFZPAZfK6DT6RAfH48DBw4AADw8PBAdHQ0vLy+JKyMiIiKyHgy+VkAmkyEtLQ0AMGDAAIwePRoqlUriqoiIWh4hBLRaLXQ6ndSlELV4KpUKCoWiWR+TwddCCSGg1+uhUCggl8sxadIk3LhxA4GBgVKXRkTUIpWVlSEtLQ3FxcVSl0JkE2QyGTp06IDWrVs322My+FqggoICxMbGwt3dHWPHjgUAuLq6cgU2IqImotfrcfnyZSgUCnh7e8POzo7XTxA1ISEEbty4gZSUFAQGBjbbyC+Dr4U5c+YMNm/ejOLiYly7dg2hoaFwcnKSuiwiohatrKwMer0ed911F1q1aiV1OUQ2wcPDA1euXEF5eTmDr60pKyvDjh07kJSUBADw8vJCdHQ0Qy8RUTPiMu9EzUeKT1UYfC1AamoqNBoNsrOzAQBDhgzBiBEj2JuXiIiIyIyYrCRWXl6O1atXo7i4GE5OTpg4cSICAgKkLouIiIioxeFnOhJTqVSIiIhAUFAQZs2axdBLRETUzMrKytC5c2fs2bNH6lJajMzMTHh4eOD69etSl1INg68ETp48iQsXLhhu9+jRAw888AAvqCAiIpNNnz4dMpkMMpkMSqUSvr6+mD17NnJycmrsu3fvXowbNw5t2rSBg4MDevbsiU8++cRo3+KEhASMGzcObdu2RatWrdC9e3e8/PLLdwwyR48exQMPPABPT084ODigS5cuePrpp3Hu3DmzPWdzW7ZsGfz8/BAaGlrjvpkzZ0KhUOCnn36qcd/06dMxceLEGtuPHTsGmUyGK1euGLYJIbBs2TIMGjQIrVu3hqurK4KDg7Fo0aImbaGXk5ODqVOnwsXFBS4uLpg6dSpyc3PrPKawsBB/+9vf0KFDB6jVagQFBWHJkiXV9nnmmWfQqVMnqNVqeHh4ICoqCmfOnDHc365dO0ydOhXz589viqfVYAy+zai0tBQbN27E+vXrsXHjRhQVFRnuY9scIiJqqLFjxyItLQ1XrlzB8uXLsXnzZjz77LPV9omJicHQoUPRoUMHJCQk4MyZM3jxxRfxz3/+Ew899BCEEIZ9v/76a4waNQpeXl7YsGEDTp06haVLlyIvLw+ffPJJrXX88ssvGDx4MEpLS7F69WqcPn0a33//PVxcXPCPf/yjwc+vvLy8wcfWxxdffIGnnnqqxvbi4mKsXbsWr776KlasWNGox5g6dSrmzJmDqKgoJCQk4NixY/jHP/6B2NhY7Nixo1HnrssjjzyCY8eOYdu2bdi2bRuOHTuGqVOn1nnMSy+9hG3btuGHH37A6dOn8dJLL+H5559HbGysYZ/+/ftj5cqVOH36NLZv3w4hBMLDw6v9ETVjxgysXr3a6B9hkhE2Ji8vTwAQqal5zfq4165dE4sWLRLvvPOOWLBggfjtt9+EVqtt1hqIiMi4kpIScerUKVFSUmLYptcLUVgozZdeX//ap02bJqKioqptmzt3rnBzczPcLiwsFG3bthXR0dE1jt+0aZMAIH766SchhBDJycnCzs5OzJkzx+jj5eTkGN1eVFQk3N3dxcSJE+s8buXKlcLFxaXafTExMaJqJJk/f77o3bu3WLFihfD39xcymUwsXbpUeHt7C51OV+3YyMhI8fjjj1d7Pv369RP29vbC399fvPPOO6K8vNxoTUIIkZSUJORyucjLq5kLvvvuOzF48GCRm5sr1Gq1uHz5crX7jb32Qghx9OhRAcCw/9q1awUAsXHjxhr76vV6kZubW2t9jXHq1CkBQOzfv9+wbd++fQKAOHPmTK3H3X333eLdd9+ttq1fv37irbfeqvWY48ePCwDiwoUL1bZ37NhRrFixwugxxn7uKlXmNWPvS2NwxLeJ6fV6/P7771i5ciVyc3Ph4uKC6dOnY/jw4c2+TB8REdVfcTHQurU0X4355PvSpUvYtm1btaXtd+zYgezsbLzyyis19o+MjESXLl2wZs0aAMC6detQVlaG1157zej5a1tMafv27cjKyjL5uNpcuHABP//8MzZs2IBjx45h8uTJyMrKQkJCgmGfnJwcbN++HY8++qihhsceewwvvPACTp06ha+//hrfffcd/vnPf9b6OImJiejSpQucnZ1r3LdixQo89thjcHFxwbhx47By5UqTnkOl1atXo2vXroiKiqpxn0wmg4uLS63Htm7dus6viIiIWo/dt28fXFxcMGjQIMO2wYMHw8XFBXv37q31uHvuuQebNm3C9evXIYRAQkICzp07hzFjxhjdv6ioCCtXroS/vz/uuuuuavcNHDgQu3btqvWxmhu7OjSh8vJyrFq1CikpKQCAnj17Yty4cXBwcJC4MiIiakl++eUXtG7dGjqdDrdu3QIAfPrpp4b7K+fXBgUFGT2+W7duhn3Onz8PZ2dntG/f3qQazp8/bziXOZSVleH777+Hh4eHYdvYsWPx448/YuTIkQAqQrqbm5vh9j//+U+8/vrrmDZtGgAgICAA7733Hl577bVa55peuXIF3t7eRp/P/v37odFoAMAQqOfPn29yv+fz58+ja9euJh1T6dixY3Xer1ara70vPT0d7dq1q7G9Xbt2SE9Pr/W4zz//HE8//TQ6dOgApVIJuVyO5cuX45577qm23+LFi/Haa6+hqKgI3bp1Q3x8POzs7Krt4+Pjg6NHj9b5HJoTg28TUqlUaNu2LW7cuIHx48ejZ8+eUpdERET11KoVUFgo3WObYvjw4ViyZAmKi4uxfPlynDt3Ds8//3yN/USVeby3b6+81qTq/5uitnM3lJ+fX7XQCwCPPvooZs6cicWLF8Pe3h6rV6/GQw89ZPgENSkpCYcOHao2wlv5x0BxcbHRi8hLSkqMDkitWLECY8aMgbu7OwBg3LhxePLJJ7Fz506Eh4eb9Fwa+poCQOfOnRt0XCVjj3unej7//HPs378fmzZtgp+fHxITE/Hss8+iffv2GDVqlGG/Rx99FKNHj0ZaWho+/vhjPPjgg9izZ0+111OtVjfpxXumYvA1s5KSEuj1ejg6OgIAIiIiMGzYMJM/4iEiImnJZMD//yq3eI6OjoaA9Pnnn2P48OFYsGAB3nvvPQBAly5dAACnT59GSEhIjePPnDmD7t27G/bNy8tDWlqaSaO+lY9x5swZDBkypNb95HJ5jZBs7OI1RyMvfmRkJPR6PbZs2YIBAwZg165d1Ua29Xo9FixYgOjo6BrH1vZpq7u7O/76669q23Q6HVatWoX09PRqi0npdDqsWLHCEHydnZ1x9erVGues7JpQOYWhS5cuOH36tNHHv5PWrVvXeX9YWBji4uKM3ufl5YWMjIwa22/cuAFPT0+jx5SUlOCNN95ATEwMxo8fDwDo1asXjh07ho8//rha8K3sFBEYGIjBgwejTZs2iImJwcMPP2zY5+bNmzX+gJES5/ia0ZUrV7B06VLExsYafqjt7e0ZeomIqFnNnz8fH3/8MVJTUwEA4eHhcHNzM9qRYdOmTTh//rwhrEyePBl2dnb48MMPjZ67tlZY4eHhcHd3v+NxHh4eKCgoqNbZ6E4f51dSq9WIjo7G6tWrsWbNGnTp0gX9+/c33N+vXz+cPXsWnTt3rvFV2/SEvn374syZM9XC+NatW1FQUICjR4/i2LFjhq9169Zh48aNhpVWu3XrhhMnThiml1Q6dOgQPDw80KZNGwAVnRXOnTtXrStCJSEE8vLyan3OVR/f2Nfy5ctrPXbIkCHIy8vDwYMHDdsOHDiAvLw8o38AARV/hJSXl9d4vRQKBfR6fa2PVflcSktLq207ceIE+vbtW+dxzcqsl8pZgabo6qDVakV8fLx45513xDvvvCM+//xzUVBQYLbzExFR06rr6nJLV1tngf79+4vnnnvOcHvdunVCoVCIp59+Whw/flxcvnxZLF++XLRp00ZMnjxZ6Ku0kvjqq6+ETCYTTzzxhPj999/FlStXxO7du8XMmTPF3Llza61l48aNQqVSicjISBEfHy8uX74sDh06JF599VUxZcoUIYQQ2dnZwtHRUbzwwgvi/PnzYvXq1cLb29toVwdjduzYIezt7UXXrl3Fe++9V+2+bdu2CaVSKebPny9OnDghTp06JX766Sfx5ptv1lpzVlaWsLOzE3/99ZdhW1RUlKHeqvR6vfDx8RGLFi0SQgiRm5srvLy8xOTJk8WhQ4fEhQsXxPfffy/atGkjPvzww2rHTZkyRajVavHBBx+IQ4cOiStXrojNmzeLESNGiJiYmFrra6yxY8eKXr16iX379ol9+/aJnj17ivvuu6/aPl27dhUajcZwe+jQoeLuu+8WCQkJ4tKlS2LlypXCwcFBLF68WAghxMWLF8UHH3wgDh8+LK5evSr27t0roqKihJubm8jIyDCcp6ioSKjVapGYmGi0Nim6OjD4NtKNGzfE119/bQi9sbGxorS01CznJiKi5tESg+/q1auFnZ2duHbtmmFbYmKiGDt2rHBxcRF2dnaie/fu4uOPPzbaXjM+Pl6MGTNGtGnTRjg4OIhu3bqJV155RaSmptZZz6FDh0R0dLTw8PAQ9vb2onPnzmLmzJni/Pnzhn1iYmJE586dhYODg7jvvvvEsmXL6h18tVqtaN++vQAgLl68WOP+bdu2iZCQEKFWq4Wzs7MYOHCgWLZsWZ01P/TQQ+L1118XQgiRnp4ulEql+Pnnn43u+/zzz4uePXsabp8/f17cf//9wsfHRzg6OoqePXuKL7/8skbbNZ1OJ5YsWSIGDBggWrVqJZydnUX//v3FZ599JoqLi+usrzGys7PFo48+KpycnISTk5N49NFHa7SkAyBWrlxpuJ2WliamT58uvL29hYODg+jatav45JNPDH8cXb9+XURERIh27doJlUolOnToIB555JEaLdJ+/PFH0bVr11prkyL4yoQw82x0C5efnw8XFxekpuahffuarUvqSwiBpKQkbN++HVqtFmq1GpGRkbVeMUtERJbr1q1buHz5Mvz9/dl5xwb99ddfGDVqFC5cuAAnJyepy2kxBg4ciDlz5uCRRx4xen9dP3eVeS0vL89oq7mG4sVtDaTVarF3715otVoEBAQgKirKrG8MERERNY+ePXviww8/xJUrV9iByUwyMzMxefLkahe6WQIG3wZSqVSIjo7GtWvXMGTIEC45TEREZMUqe/+SebRr167WxUykxOBbT1qtFvHx8XBzczOsgNKhQwd06NBB4sqIiIiIqD4YfOshIyMDGo0GmZmZUCqVuPvuu+/YV4+IiIiILAuDbx2EEDhw4AB27twJnU4HR0dHREVFMfQSEbVQNna9N5GkpPh5Y/CtRUFBAWJjY3Hx4kUAFauuTJgwwehKMkREZN1UKhUAoLi4GGq1WuJqiGxDWVkZABiWnG4ODL5GlJWVYdmyZSgsLIRSqUR4eDiCg4N5ARsRUQulUCjg6uqKzMxMAECrVq34O5+oCen1ety4cQOtWrWqtix0U2PwNcLOzg4DBw7EqVOnEB0dbVFrTBMRUdPw8vICAEP4JaKmJZfL4evr26x/ZHIBi/+XmpoKpVKJdu3aAaj4S0Sv1zfrXyFERCQ9nU6H8vJyqcsgavHs7Owgl8uN3scFLJqIXq/H3r17kZCQgLZt2+Lpp5+GSqWCXC6v9c0gIqKWS6FQNOucQyJqPpInu8WLFxuWquvfvz927dpV5/5//PEH+vfvDwcHBwQEBGDp0qUNfuy8vDysWrUKv/76K/R6Pdzd3aHT6Rp8PiIiIiKyXJKO+K5duxZz5szB4sWLERoaiq+//hoRERE4deoUfH19a+x/+fJljBs3Dk8//TR++OEH7NmzB88++yw8PDxw//33m/TY586dwv79f+DWrVtQqVSIiIhAnz59eDEDERERUQsl6RzfQYMGoV+/fliyZIlhW1BQECZOnIiFCxfW2P/vf/87Nm3ahNOnTxu2zZo1C8ePH8e+ffvq9ZiVc0Zef/11ODg4wMfHB9HR0XBzc2v8EyIiIiKiRmtxc3zLysqQlJSE119/vdr28PBw7N271+gx+/btQ3h4eLVtY8aMwYoVK1BeXm7ow1hVaWkpSktLDbfz8vIMjx8aGorQ0FAoFArk5+c39ikRERERkRlU5jJzj89KFnyzsrKg0+ng6elZbbunpyfS09ONHpOenm50f61Wi6ysLLRv377GMQsXLsSCBQtqbP/000/x6aefNuIZEBEREVFTys7OhouLi9nOJ3lXh9vn1Aoh6pxna2x/Y9srzZs3D3PnzjXczs3NhZ+fH65du2bWF5IsU35+Pu666y4kJyeb9aMSskx8v20L32/bwvfbtuTl5cHX19fsU1ElC77u7u5QKBQ1RnczMzNrjOpW8vLyMrq/UqlE27ZtjR5jb28Pe3v7GttdXFz4g2NDnJ2d+X7bEL7ftoXvt23h+21bzN1aVrJ2ZnZ2dujfvz/i4+OrbY+Pj0dISIjRY4YMGVJj/x07diA4ONjo/F4iIiIiokqS9vGdO3culi9fjm+//RanT5/GSy+9hGvXrmHWrFkAKqYpPP7444b9Z82ahatXr2Lu3Lk4ffo0vv32W6xYsQKvvPKKVE+BiIiIiKyEpHN8p0yZguzsbLz77rtIS0tDjx49sHXrVvj5+QEA0tLScO3aNcP+/v7+2Lp1K1566SV89dVX8Pb2xueff25SD197e3vMnz/f6PQHann4ftsWvt+2he+3beH7bVua6v2WtI8vEREREVFzkXzJYiIiIiKi5sDgS0REREQ2gcGXiIiIiGwCgy8RERER2YQWGXwXL14Mf39/ODg4oH///ti1a1ed+//xxx/o378/HBwcEBAQgKVLlzZTpWQOprzfGo0Go0ePhoeHB5ydnTFkyBBs3769GaulxjL157vSnj17oFQq0adPn6YtkMzK1Pe7tLQUb775Jvz8/GBvb49OnTrh22+/baZqqbFMfb9Xr16N3r17o1WrVmjfvj1mzJiB7OzsZqqWGiMxMRGRkZHw9vaGTCbDxo0b73iMWfKaaGF++uknoVKpxDfffCNOnTolXnzxReHo6CiuXr1qdP9Lly6JVq1aiRdffFGcOnVKfPPNN0KlUon169c3c+XUEKa+3y+++KL497//LQ4ePCjOnTsn5s2bJ1QqlThy5EgzV04NYer7XSk3N1cEBASI8PBw0bt37+YplhqtIe/3hAkTxKBBg0R8fLy4fPmyOHDggNizZ08zVk0NZer7vWvXLiGXy8Vnn30mLl26JHbt2iXuvvtuMXHixGaunBpi69at4s033xQbNmwQAERMTEyd+5srr7W44Dtw4EAxa9asatu6desmXn/9daP7v/baa6Jbt27Vtj3zzDNi8ODBTVYjmY+p77cx3bt3FwsWLDB3adQEGvp+T5kyRbz11lti/vz5DL5WxNT3Oy4uTri4uIjs7OzmKI/MzNT3+6OPPhIBAQHVtn3++eeiQ4cOTVYjNY36BF9z5bUWNdWhrKwMSUlJCA8Pr7Y9PDwce/fuNXrMvn37auw/ZswYHD58GOXl5U1WKzVeQ97v2+n1ehQUFMDNza0pSiQzauj7vXLlSly8eBHz589v6hLJjBryfm/atAnBwcH48MMP4ePjgy5duuCVV15BSUlJc5RMjdCQ9zskJAQpKSnYunUrhBDIyMjA+vXrMX78+OYomZqZufKapCu3mVtWVhZ0Oh08PT2rbff09ER6errRY9LT043ur9VqkZWVhfbt2zdZvdQ4DXm/b/fJJ5+gqKgIDz74YFOUSGbUkPf7/PnzeP3117Fr1y4olS3q112L15D3+9KlS9i9ezccHBwQExODrKwsPPvss7h58ybn+Vq4hrzfISEhWL16NaZMmYJbt25Bq9ViwoQJ+OKLL5qjZGpm5sprLWrEt5JMJqt2WwhRY9ud9je2nSyTqe93pTVr1uCdd97B2rVr0a5du6Yqj8ysvu+3TqfDI488ggULFqBLly7NVR6ZmSk/33q9HjKZDKtXr8bAgQMxbtw4fPrpp/juu+846mslTHm/T506hRdeeAFvv/02kpKSsG3bNly+fBmzZs1qjlJJAubIay1qCMTd3R0KhaLGX4eZmZk1/kqo5OXlZXR/pVKJtm3bNlmt1HgNeb8rrV27Fk8++STWrVuHUaNGNWWZZCamvt8FBQU4fPgwjh49ir/97W8AKoKREAJKpRI7duzAiBEjmqV2Ml1Dfr7bt28PHx8fuLi4GLYFBQVBCIGUlBQEBgY2ac3UcA15vxcuXIjQ0FC8+uqrAIBevXrB0dERYWFheP/99/mJbQtjrrzWokZ87ezs0L9/f8THx1fbHh8fj5CQEKPHDBkypMb+O3bsQHBwMFQqVZPVSo3XkPcbqBjpnT59On788UfOBbMipr7fzs7O+Ouvv3Ds2DHD16xZs9C1a1ccO3YMgwYNaq7SqQEa8vMdGhqK1NRUFBYWGradO3cOcrkcHTp0aNJ6qXEa8n4XFxdDLq8eYxQKBYD/jQRSy2G2vGbSpXBWoLIdyooVK8SpU6fEnDlzhKOjo7hy5YoQQojXX39dTJ061bB/ZXuMl156SZw6dUqsWLGC7cysiKnv948//iiUSqX46quvRFpamuErNzdXqqdAJjD1/b4duzpYF1Pf74KCAtGhQwcxefJkcfLkSfHHH3+IwMBA8dRTT0n1FMgEpr7fK1euFEqlUixevFhcvHhR7N69WwQHB4uBAwdK9RTIBAUFBeLo0aPi6NGjAoD49NNPxdGjRw3t65oqr7W44CuEEF999ZXw8/MTdnZ2ol+/fuKPP/4w3Ddt2jQxdOjQavv//vvvom/fvsLOzk507NhRLFmypJkrpsYw5f0eOnSoAFDja9q0ac1fODWIqT/fVTH4Wh9T3+/Tp0+LUaNGCbVaLTp06CDmzp0riouLm7lqaihT3+/PP/9cdO/eXajVatG+fXvx6KOPipSUlGaumhoiISGhzn+PmyqvyYTg5wFERERE1PK1qDm+RERERES1YfAlIiIiIpvA4EtERERENoHBl4iIiIhsAoMvEREREdkEBl8iIiIisgkMvkRERERkExh8iYiIiMgmMPgSkdX57rvv4OrqKnUZDdaxY0csWrSozn3eeecd9OnTp1nqsTS//fYbunXrBr1e36yP+9dff6FDhw4oKipq1scloubD4EtEkpg+fTpkMlmNrwsXLkhdGr777rtqNbVv3x4PPvggLl++bJbzHzp0CDNnzjTclslk2LhxY7V9XnnlFfz6669mebza3P48PT09ERkZiZMnT5p8HnP+IfLaa6/hzTffhFwuN1pn5dfy5cuN3m/s/erYsaPhfrVajW7duuGjjz5C1cVLe/bsiYEDB+I///mP2Z4LEVkWBl8ikszYsWORlpZW7cvf31/qsgAAzs7OSEtLQ2pqKn788UccO3YMEyZMgE6na/S5PTw80KpVqzr3ad26Ndq2bdvox7qTqs9zy5YtKCoqwvjx41FWVtbkj23M3r17cf78eTzwwANG66z69eijj9a4v673691330VaWhpOnz6NV155Bf/X3p2GRNWFcQD/z+hMTldtMdBMc9BpSqIk28yosOydMDImlBYpk2xTM2yxRWiCKIjINsgKQkssk3IiqGh3DzKtbLJEyYZoocUlStO05/0Qc/HqjNpCWT4/mA/3nnPPec4ckGfOnONs3boVx44dk/QTFRWFlJSUXzLPjLGehxNfxtgf06dPH7i5uUlednZ2SE5OxqhRoyAIAjw9PRETE4OPHz/abOfBgwcICgqCk5MTnJ2dMXbsWNy9e1csLyoqwtSpU6FSqeDp6Yn4+Pguv86WyWRwc3PD4MGDERQUBIPBAJPJJK5Ip6SkwMfHB0qlEsOHD0d6errk+e3bt2Po0KHo06cP3N3dER8fL5a13eqgVqsBAHq9HjKZTLxuu9XhypUrcHBwQF1dnaSP+Ph4TJs27ZeNc9y4cUhISIDZbEZFRYVYp7P5yMnJQVRUFOrr68UV1e3btwMAmpubkZiYiCFDhkAQBEycOBE5OTmdxpOZmYn//vsPDg4OVuNs+1KpVFbHYW2+AMDJyQlubm5Qq9WIjo7G6NGjcfXqVUk/Op0O79+/R25ubqdxMsb+Tpz4MsZ6HLlcjoMHD8JkMuHEiRO4efMmEhMTbdaPiIiAh4cHiouLUVJSgs2bN0OhUAD4tm9Tp9Nh3rx5KCsrw5kzZ1BQUIC4uLjvismSZH358gVGoxFr167F+vXrYTKZsHLlSkRFReHWrVsAgLNnz2Lfvn04evQoKisrcf78eYwaNcpqu8XFxQCA1NRUvHr1SrxuKzg4GP3798e5c+fEe62trcjKyhJXPX/FOOvq6nDq1CkAEN8/oPP5CAwMxP79+yUrshs2bADwbfW0sLAQmZmZKCsrQ3h4OGbNmoXKykqbMeTl5WHcuHHdjtmWtvPVHhEhJycHjx8/lowTAJRKJfz8/JCfn//TMTDGeiBijLE/IDIykuzs7EgQBPEVFhZmtW5WVha5uLiI16mpqdSvXz/x2snJidLS0qw+u3jxYlqxYoXkXn5+PsnlcmpsbLT6TPv2nz9/TgEBAeTh4UFNTU0UGBhIy5cvlzwTHh5OISEhRES0d+9e0mq11NzcbLV9Ly8v2rdvn3gNgIxGo6SOwWAgPz8/8To+Pp6mT58uXl+5coWUSiXV1NT81DgBkCAI1LdvXwJAACg0NNRqfYuu5oOIqKqqimQyGb148UJyf8aMGbRlyxabbffr149OnjxpM07Ly9XV1Wb/7eeL6Nt7rlQqSRAEUigUBIAcHByosLCwQwx6vZ6WLl3a6XvAGPs72f/JpJsx1rsFBQUhJSVFvBYEAQBw69Yt7Nq1C+Xl5fjw4QNaWlrw+fNnfPr0SazT1rp16xAdHY309HQEBwcjPDwcPj4+AICSkhJUVVUhIyNDrE9E+Pr1K6qrq+Hr62s1tvr6ejg6OoKI0NDQAH9/f2RnZ0OpVOLx48eSw2kAMHnyZBw4cAAAEB4ejv3798Pb2xuzZs1CSEgI5syZA3v7H/+TGxERgUmTJuHly5dwd3dHRkYGQkJCMGDAgJ8ap5OTE0pLS9HS0oLc3Fzs2bMHR44ckdT53vkAgNLSUhARtFqt5H5TU1One5cbGxs7bHNoG6eF5eCbRWfzZbFx40YsXboUb9++RVJSEqZPn47AwMAOfalUKjQ0NNiMkTH29+LElzH2xwiCAI1GI7lnNpsREhKCVatWYceOHRg4cCAKCgqwbNkyq19bA9/2wy5atAgXL17E5cuXYTAYkJmZCb1ej69fv2LlypWSPbYWQ4cOtRmbJdGSy+VwdXXtkODJZDLJNRGJ9zw9PVFRUYFr167h+vXriImJwZ49e5Cbm9vhq/XumjBhAnx8fJCZmYnVq1fDaDQiNTVVLP/RccrlcnEORowYgdevX2P+/PnIy8sD8GPzYYnHzs4OJSUlsLOzk5Q5OjrafG7QoEGora3tNE5rupovS9sajQYajQbnzp2DRqNBQEAAgoODJfVqamrED06MsX8LJ76MsR7l7t27aGlpwd69e8VVvaysrC6f02q10Gq1SEhIwMKFC5Gamgq9Xg9/f388evSo06TJms4SLV9fXxQUFGDJkiXivaKiIsmqqkqlQmhoKEJDQxEbG4sRI0bg4cOH8Pf379CeQqHo1n8RWLRoETIyMuDh4QG5XI7Zs2eLZT86zvYSEhKQnJwMo9EIvV7frflQKpUd4h8zZgxaW1vx5s0bTJkypdv9jxkzBuXl5d8dd1eJcXsDBgzAmjVrsGHDBty7d0/yQcZkMiEsLOy7Y2CM9Xx8uI0x1qP4+PigpaUFhw4dwtOnT5Gent7hq/e2GhsbERcXh5ycHJjNZhQWFqK4uFhMQjdt2oTbt28jNjYW9+/fR2VlJS5cuIA1a9b8cIwbN25EWloajhw5gsrKSiQnJyM7O1s81JWWlobjx4/DZDKJY1CpVPDy8rLanlqtxo0bN/D69Wurq50WERERKC0txc6dOxEWFibZEvCrxuns7Izo6GgYDAYQUbfmQ61W4+PHj7hx4wbevXuHhoYGaLVaREREYMmSJcjOzkZ1dTWKi4uxe/duXLp0yWb/Op0OBQUF3xXzj4qNjUVFRYXk0OCzZ8/w4sWLDqvAjLF/xB/cX8wY68UiIyNp7ty5VsuSk5Np8ODBpFKpSKfT0cmTJwkA1dbWEpH0MFNTUxMtWLCAPD09SalUkru7O8XFxUkOdN25c4dmzpxJjo6OJAgCjR49mnbu3GkzNmuHtdo7fPgweXt7k0KhIK1WKzmQZTQaaeLEieTs7EyCIFBAQABdv35dLG9/uO3ChQuk0WjI3t6evLy8iKjj4TaL8ePHEwC6efNmh7JfNU6z2Uz29vZ05swZIup6PoiIVq1aRS4uLgSADAYDERE1NzfTtm3bSK1Wk0KhIDc3N9Lr9VRWVmYzppqaGlKpVPTkyZMu4+xuOVHH99xi+fLlNHLkSGptbSUiol27dpFOp+u0LcbY30tG1OZnaxhjjLE/LDExEfX19Th69Ohv7bepqQnDhg3D6dOnMXny5N/aN2Ps9+CtDowxxnqUpKQkeHl5/fZfTzObzUhKSuKkl7F/GK/4MsYYY4yxXoFXfBljjDHGWK/AiS9jjDHGGOsVOPFljDHGGGO9Aie+jDHGGGOsV+DElzHGGGOM9Qqc+DLGGGOMsV6BE1/GGGOMMdYrcOLLGGOMMcZ6BU58GWOMMcZYr/A/Bs2Zd9/uEfYAAAAASUVORK5CYII=",
=======
      "image/png": "iVBORw0KGgoAAAANSUhEUgAAAr4AAAIjCAYAAADlfxjoAAAAOXRFWHRTb2Z0d2FyZQBNYXRwbG90bGliIHZlcnNpb24zLjcuNSwgaHR0cHM6Ly9tYXRwbG90bGliLm9yZy/xnp5ZAAAACXBIWXMAAA9hAAAPYQGoP6dpAACgSElEQVR4nOzdeViU5f7H8fcMDJsgoogrKWqm5ppbmrumphGIlWWl2eLJsnOq017acipbTss5vzpplpqtVuJe7mmapiZpLqmJu+KCIojsM/fvj4lRBBQQGJbP67q4YO7nmWe+M4J8uOdeLMYYg4iIiIhIBWd1dwEiIiIiIqVBwVdEREREKgUFXxERERGpFBR8RURERKRSUPAVERERkUpBwVdEREREKgUFXxERERGpFBR8RURERKRSUPAVERERkUpBwVekAmrYsCF33323u8uodHr16kWvXr3cXcYlvfjii1gsFuLj491dSpljsVh48cUXi+Va+/btw2KxMG3atGK5HsD69evx8vJi//79xXbN4nbbbbdx6623ursMkTwp+IoU0rRp07BYLK4PT09P6tWrx913383hw4fdXV6ZdvbsWf71r3/RunVr/Pz8CAwMpHv37kyfPp3ysnv69u3befHFF9m3b5+7S8nFbrczdepUevXqRfXq1fH29qZhw4aMGjWKX3/91d3lFYsvv/yS9957z91l5FCaNT333HPcfvvtNGjQwNXWq1evHP8n+fr60rp1a9577z0cDkee1zl58iRPPPEEV111FT4+PlSvXp0BAwYwf/78fB87KSmJl156iTZt2uDv74+vry8tW7bkqaee4siRI67znnrqKWbOnMnmzZuL74mLFBOLKS+/bUTKiGnTpjFq1ChefvllwsLCSEtL45dffmHatGk0bNiQrVu34uPj49Ya09PTsVqt2Gw2t9ZxvmPHjtG3b1/++OMPbrvtNnr27ElaWhozZ87kp59+YtiwYXzxxRd4eHi4u9SL+u6777jlllv48ccfc/XuZmRkAODl5VXqdaWmphIVFcXChQvp0aMH4eHhVK9enX379vHNN9+wa9cuDhw4QP369XnxxRd56aWXOHHiBMHBwaVe6+W48cYb2bp1a4n94ZGWloanpyeenp6XXZMxhvT0dGw2W7F8X2/atIl27dqxZs0aunTp4mrv1asXsbGxTJgwAYD4+Hi+/PJLNmzYwLPPPsurr76a4zo7d+6kb9++nDhxglGjRtGhQwdOnz7NF198waZNm3j88cd56623ctxnz5499OvXjwMHDnDLLbfQrVs3vLy8+P333/nqq6+oXr06u3btcp3fuXNnrrrqKqZPn37Zz1ukWBkRKZSpU6cawGzYsCFH+1NPPWUAM2PGDDdV5l6pqanGbrfne3zAgAHGarWaOXPm5Dr2+OOPG8C8/vrrJVlinpKTkwt1/rfffmsA8+OPP5ZMQUX00EMPGcC8++67uY5lZWWZt956yxw8eNAYY8wLL7xgAHPixIkSq8fhcJiUlJRiv+7gwYNNgwYNivWadrvdpKamFvn+JVFTXv7+97+bK664wjgcjhztPXv2NFdffXWOttTUVNOgQQMTEBBgsrKyXO0ZGRmmZcuWxs/Pz/zyyy857pOVlWWGDRtmAPP111+72jMzM02bNm2Mn5+fWbVqVa66EhMTzbPPPpuj7d///repUqWKOXPmTJGfr0hJUPAVKaT8gu/8+fMNYF577bUc7X/88YcZOnSoCQoKMt7e3qZ9+/Z5hr+EhATzyCOPmAYNGhgvLy9Tr149c9ddd+UIJ2lpaWb8+PGmcePGxsvLy9SvX9888cQTJi0tLce1GjRoYEaOHGmMMWbDhg0GMNOmTcv1mAsXLjSAmTdvnqvt0KFDZtSoUSYkJMR4eXmZFi1amE8++STH/X788UcDmK+++so899xzpm7dusZisZiEhIQ8X7O1a9cawNxzzz15Hs/MzDRXXnmlCQoKcoWlvXv3GsC89dZb5p133jFXXHGF8fHxMT169DBbtmzJdY2CvM7Z/3YrVqwwY8aMMTVr1jTVqlUzxhizb98+M2bMGNO0aVPj4+Njqlevbm6++Wazd+/eXPe/8CM7BPfs2dP07Nkz1+s0Y8YM88orr5h69eoZb29v06dPH/Pnn3/meg7vv/++CQsLMz4+PqZjx47mp59+ynXNvBw8eNB4enqa66+//qLnZcsOvn/++acZOXKkCQwMNFWrVjV33323OXv2bI5zp0yZYnr37m1q1qxpvLy8TPPmzc3//ve/XNds0KCBGTx4sFm4cKFp37698fb2doXwgl7DGGO+//5706NHD+Pv728CAgJMhw4dzBdffGGMcb6+F7725wfOgv58AOahhx4yn3/+uWnRooXx9PQ0s2bNch174YUXXOcmJSWZf/zjH66fy5o1a5p+/fqZjRs3XrKm7O/hqVOn5nj8P/74w9xyyy0mODjY+Pj4mKZNm+YKjnm54oorzN13352rPa/ga4wxN998swHMkSNHXG1fffWVAczLL7+c52OcPn3aVKtWzTRr1szV9vXXXxvAvPrqq5esMdvmzZsNYKKjowt8H5HSUPD3ckTkorLf5gwKCnK1bdu2jeuuu4569erx9NNPU6VKFb755hsiIyOZOXMmQ4YMASA5OZnu3bvzxx9/cM8993DNNdcQHx/P3LlzOXToEMHBwTgcDm666SZWr17N6NGjad68OVu2bOHdd99l165dzJ49O8+6OnToQKNGjfjmm28YOXJkjmMzZswgKCiIAQMGAM7hCNdeey0Wi4WxY8dSs2ZNfvjhB+69916SkpJ45JFHctz/X//6F15eXjz++OOkp6fn+xb/vHnzABgxYkSexz09PRk+fDgvvfQSP//8M/369XMdmz59OmfOnOGhhx4iLS2N//znP/Tp04ctW7ZQq1atQr3O2R588EFq1qzJ+PHjOXv2LAAbNmxgzZo13HbbbdSvX599+/bx4Ycf0qtXL7Zv346fnx89evTg73//O//973959tlnad68OYDrc35ef/11rFYrjz/+OImJibz55pvccccdrFu3znXOhx9+yNixY+nevTuPPvoo+/btIzIykqCgIOrXr3/R6//www9kZWVx1113XfS8C916662EhYUxYcIEYmJi+PjjjwkJCeGNN97IUdfVV1/NTTfdhKenJ/PmzePBBx/E4XDw0EMP5bjezp07uf322/nb3/7G/fffz1VXXVWoa0ybNo177rmHq6++mmeeeYZq1arx22+/sXDhQoYPH85zzz1HYmIihw4d4t133wXA398foNA/H8uXL+ebb75h7NixBAcH07BhwzxfowceeIDvvvuOsWPH0qJFC06ePMnq1av5448/uOaaay5aU15+//13unfvjs1mY/To0TRs2JDY2FjmzZuXa0jC+Q4fPsyBAwe45ppr8j3nQtmT66pVq+Zqu9TPYmBgIBEREXz66afs3r2bJk2aMHfuXIBCfX+1aNECX19ffv7551w/fyJu5e7kLVLeZPf6LV261Jw4ccIcPHjQfPfdd6ZmzZrG29vb9XayMcb07dvXtGrVKkePk8PhMF27djVXXnmlq238+PH59o5kv6352WefGavVmuutxokTJxrA/Pzzz66283t8jTHmmWeeMTabzZw6dcrVlp6ebqpVq5ajF/bee+81derUMfHx8Tke47bbbjOBgYGu3tjsnsxGjRoV6O3syMhIA+TbI2yMMdHR0QYw//3vf40x53rLfH19zaFDh1znrVu3zgDm0UcfdbUV9HXO/rfr1q1bjrd/jTF5Po/snurp06e72i421CG/Ht/mzZub9PR0V/t//vMfA7h6rtPT002NGjVMx44dTWZmpuu8adOmGeCSPb6PPvqoAcxvv/120fOyZff4XtgDP2TIEFOjRo0cbXm9LgMGDDCNGjXK0dagQQMDmIULF+Y6vyDXOH36tAkICDCdO3fONezg/Lf28xtWUJifD8BYrVazbdu2XNfhgh7fwMBA89BDD+U673z51ZRXj2+PHj1MQECA2b9/f77PMS9Lly7N9e5Mtp49e5pmzZqZEydOmBMnTpgdO3aYJ554wgBm8ODBOc5t27atCQwMvOhjvfPOOwYwc+fONcYY065du0veJy9NmzY1N9xwQ6HvJ1KStKqDSBH169ePmjVrEhoays0330yVKlWYO3euq3fu1KlTLF++nFtvvZUzZ84QHx9PfHw8J0+eZMCAAfz555+uVSBmzpxJmzZt8uwZsVgsAHz77bc0b96cZs2aua4VHx9Pnz59APjxxx/zrXXYsGFkZmYSHR3talu8eDGnT59m2LBhgHMizsyZMwkPD8cYk+MxBgwYQGJiIjExMTmuO3LkSHx9fS/5Wp05cwaAgICAfM/JPpaUlJSjPTIyknr16rlud+rUic6dO/P9998DhXuds91///25Jhud/zwyMzM5efIkTZo0oVq1armed2GNGjUqR2949+7dAeeEIYBff/2VkydPcv/99+eYVHXHHXfkeAchP9mv2cVe37w88MADOW53796dkydP5vg3OP91SUxMJD4+np49e7Jnzx4SExNz3D8sLMz17sH5CnKNJUuWcObMGZ5++ulck0OzfwYuprA/Hz179qRFixaXvG61atVYt25djlULiurEiRP89NNP3HPPPVxxxRU5jl3qOZ48eRIg3++HHTt2ULNmTWrWrEmzZs146623uOmmm3ItpXbmzJlLfp9c+LOYlJRU6O+t7Fq1ZJ6UNRrqIFJEH3zwAU2bNiUxMZEpU6bw008/4e3t7Tq+e/dujDGMGzeOcePG5XmN48ePU69ePWJjYxk6dOhFH+/PP//kjz/+oGbNmvleKz9t2rShWbNmzJgxg3vvvRdwDnMIDg52BYMTJ05w+vRpPvroIz766KMCPUZYWNhFa86W/UvzzJkzOd52PV9+4fjKK6/MdW7Tpk355ptvgMK9zherOzU1lQkTJjB16lQOHz6cY3m1CwNeYV0YcrLDS0JCAoBrTdYmTZrkOM/T0zPft+DPV7VqVeDca1gcdWVf8+eff+aFF15g7dq1pKSk5Dg/MTGRwMBA1+38vh8Kco3Y2FgAWrZsWajnkK2wPx8F/d598803GTlyJKGhobRv355BgwYxYsQIGjVqVOgas//QKepzBPJd9q9hw4ZMnjwZh8NBbGwsr776KidOnMj1R0RAQMAlw+iFP4tVq1Z11V7YWgvyR4tIaVLwFSmiTp060aFDB8DZK9mtWzeGDx/Ozp078ff3d62f+fjjj+fZCwa5g87FOBwOWrVqxTvvvJPn8dDQ0Ivef9iwYbz66qvEx8cTEBDA3Llzuf322109jNn13nnnnbnGAmdr3bp1jtsF6e0F5xjY2bNn8/vvv9OjR488z/n9998BCtQLd76ivM551f3www8zdepUHnnkEbp06UJgYCAWi4Xbbrst37VQCyq/pazyCzGF1axZMwC2bNlC27ZtC3y/S9UVGxtL3759adasGe+88w6hoaF4eXnx/fff8+677+Z6XfJ6XQt7jaIq7M9HQb93b731Vrp3786sWbNYvHgxb731Fm+88QbR0dHccMMNl113QdWoUQM498fShapUqZJjbPx1113HNddcw7PPPst///tfV3vz5s3ZtGkTBw4cyPWHT7YLfxabNWvGb7/9xsGDBy/5/8z5EhIS8vzDVcSdFHxFioGHhwcTJkygd+/evP/++zz99NOuHiGbzZbjF1JeGjduzNatWy95zubNm+nbt2+RelGGDRvGSy+9xMyZM6lVqxZJSUncdtttruM1a9YkICAAu91+yXoL68Ybb2TChAlMnz49z+Brt9v58ssvCQoK4rrrrstx7M8//8x1/q5du1w9oYV5nS/mu+++Y+TIkbz99tuutrS0NE6fPp3jvJLowcrejGD37t307t3b1Z6VlcW+ffty/cFxoRtuuAEPDw8+//zzQk9wu5h58+aRnp7O3Llzc4Skiw2rKeo1GjduDMDWrVsv+gdhfq//5f58XEydOnV48MEHefDBBzl+/DjXXHMNr776qiv4FvTxsr9XL/WznpfsP2727t1boPNbt27NnXfeyaRJk3j88cddr/2NN97IV199xfTp03n++edz3S8pKYk5c+bQrFkz179DeHg4X331FZ9//jnPPPNMgR4/KyuLgwcPctNNNxXofJHSojG+IsWkV69edOrUiffee4+0tDRCQkLo1asXkyZNIi4uLtf5J06ccH09dOhQNm/ezKxZs3Kdl937duutt3L48GEmT56c65zU1FTX6gT5ad68Oa1atWLGjBnMmDGDOnXq5AihHh4eDB06lJkzZ+b5i/n8egura9eu9OvXj6lTp+a5M9Rzzz3Hrl27ePLJJ3P1xM2ePTvHGN3169ezbt06V+gozOt8MR4eHrl6YP/v//4Pu92eo61KlSoAuQLx5ejQoQM1atRg8uTJZGVludq/+OKLfHv4zhcaGsr999/P4sWL+b//+79cxx0OB2+//TaHDh0qVF3ZPcIXDvuYOnVqsV+jf//+BAQEMGHCBNLS0nIcO/++VapUyXPoyeX+fOTFbrfneqyQkBDq1q1Lenr6JWu6UM2aNenRowdTpkzhwIEDOY5dqve/Xr16hIaGFmoHvieffJLMzMwcveA333wzLVq04PXXX891LYfDwZgxY0hISOCFF17IcZ9WrVrx6quvsnbt2lyPc+bMGZ577rkcbdu3byctLY2uXbsWuF6R0qAeX5Fi9MQTT3DLLbcwbdo0HnjgAT744AO6detGq1atuP/++2nUqBHHjh1j7dq1HDp0yLWl5xNPPOHaEeyee+6hffv2nDp1irlz5zJx4kTatGnDXXfdxTfffMMDDzzAjz/+yHXXXYfdbmfHjh188803LFq0yDX0Ij/Dhg1j/Pjx+Pj4cO+992K15vzb9/XXX+fHH3+kc+fO3H///bRo0YJTp04RExPD0qVLOXXqVJFfm+nTp9O3b18iIiIYPnw43bt3Jz09nejoaFasWMGwYcN44oknct2vSZMmdOvWjTFjxpCens57771HjRo1ePLJJ13nFPR1vpgbb7yRzz77jMDAQFq0aMHatWtZunSp6y3mbG3btsXDw4M33niDxMREvL296dOnDyEhIUV+bby8vHjxxRd5+OGH6dOnD7feeiv79u1j2rRpNG7cuEA9im+//TaxsbH8/e9/Jzo6mhtvvJGgoCAOHDjAt99+y44dO3L08BdE//798fLyIjw8nL/97W8kJyczefJkQkJC8vwj43KuUbVqVd59913uu+8+OnbsyPDhwwkKCmLz5s2kpKTw6aefAtC+fXtmzJjBY489RseOHfH39yc8PLxYfj4udObMGerXr8/NN9/s2qZ36dKlbNiwIcc7A/nVlJf//ve/dOvWjWuuuYbRo0cTFhbGvn37WLBgAZs2bbpoPREREcyaNavAY2dbtGjBoEGD+Pjjjxk3bhw1atTAy8uL7777jr59+9KtW7ccO7d9+eWXxMTE8M9//jPH94rNZiM6Opp+/frRo0cPbr31Vq677jpsNhvbtm1zvVtz/nJsS5Yswc/Pj+uvv/6SdYqUqtJfSEKkfMtvAwtjnDtANW7c2DRu3Ni1XFZsbKwZMWKEqV27trHZbKZevXrmxhtvNN99912O+548edKMHTvW1KtXz7X4/siRI3MsLZaRkWHeeOMNc/XVVxtvb28TFBRk2rdvb1566SWTmJjoOu/C5cyy/fnnn65F9levXp3n8zt27Jh56KGHTGhoqLHZbKZ27dqmb9++5qOPPnKdk71M17fffluo1+7MmTPmxRdfNFdffbXx9fU1AQEB5rrrrjPTpk3LtZzT+RtYvP322yY0NNR4e3ub7t27m82bN+e6dkFe54v92yUkJJhRo0aZ4OBg4+/vbwYMGGB27NiR52s5efJk06hRI+Ph4VGgDSwufJ3y29jgv//9r2nQoIHx9vY2nTp1Mj///LNp3769GThwYAFeXefOWx9//LHp3r27CQwMNDabzTRo0MCMGjUqx1Jn+e3clv36nL9px9y5c03r1q2Nj4+PadiwoXnjjTfMlClTcp2XvYFFXgp6jexzu3btanx9fU3VqlVNp06dzFdffeU6npycbIYPH26qVauWawOLgv588NcGFnnhvOXM0tPTzRNPPGHatGljAgICTJUqVUybNm1ybb6RX035/Ttv3brVDBkyxFSrVs34+PiYq666yowbNy7Pes4XExNjgFxLtuW3gYUxxqxYsSLXEm3GGHP8+HHz2GOPmSZNmhhvb29TrVo1069fP9cSZnlJSEgw48ePN61atTJ+fn7Gx8fHtGzZ0jzzzDMmLi4ux7mdO3c2d9555yWfk0hpsxhTTLMrRESK0b59+wgLC+Ott97i8ccfd3c5buFwOKhZsyZRUVF5voUvlU/fvn2pW7cun332mbtLydemTZu45ppriImJKdRkS5HSoDG+IiJlQFpaWq5xntOnT+fUqVP06tXLPUVJmfPaa68xY8YM1xJ4ZdHrr7/OzTffrNArZZLG+IqIlAG//PILjz76KLfccgs1atQgJiaGTz75hJYtW3LLLbe4uzwpIzp37kxGRoa7y7ior7/+2t0liORLwVdEpAxo2LAhoaGh/Pe//+XUqVNUr16dESNG8Prrr+fY9U1ERIpOY3xFREREpFLQGF8RERERqRQUfEVERESkUqh0Y3wdDgdHjhwhICCgRLYeFREREZHLY4zhzJkz1K1bN9dmS5ej0gXfI0eOEBoa6u4yREREROQSDh48SP369YvtepUu+AYEBADOF7Jq1apurkZERERELpSUlERoaKgrtxWXShd8s4c3VK1aVcFXREREpAwr7mGpmtwmIiIiIpWCgq+IiIiIVAoKviIiIiJSKSj4ioiIiEiloOArIiIiIpWCgq+IiIiIVAoKviIiIiJSKSj4ioiIiEiloOArIiIiIpWCgq+IiIiIVAoKviIiIiJSKSj4ioiIiEiloOArIiIiIpWCgq+IiIiIVAoKviIiIiJSKbg1+P7000+Eh4dTt25dLBYLs2fPvuR9VqxYwTXXXIO3tzdNmjRh2rRpJV6niIiIiJR/bg2+Z8+epU2bNnzwwQcFOn/v3r0MHjyY3r17s2nTJh555BHuu+8+Fi1aVMKVioiIiEh55+nOB7/hhhu44YYbCnz+xIkTCQsL4+233wagefPmrF69mnfffZcBAwaUVJkiIiIichkcDkhLg/R050dqKmRkQFYWZGae+0hMBE9POHWqZOpwa/AtrLVr19KvX78cbQMGDOCRRx7J9z7p6emkp6e7biclJZVUeSIiIiIVnjEQHw+HDsHRo3DwIBw5AgcOwPHjsHo1NGoEycnOIHvmjDPoFpTVasfhKJnay1XwPXr0KLVq1crRVqtWLZKSkkhNTcXX1zfXfSZMmMBLL71UWiWKiIiIlEtZWXDsmDPQJiQ4Q+vJk86Qe+AAxMXB4cOwdy9cqh/xt9/yP2axgLe3swfY39/5YbOBj08mHTsuwmJJ5I8/biQmpnifH5Sz4FsUzzzzDI899pjrdlJSEqGhoW6sSERERKTkGePsdT11yhlkjxyBlBRngD140Nl+4gTExDjDbmFYLFCjBtSpA6Ghzo969aBuXaha1TmMoUED59dVq4KfH/j4gK+vcyiDxZLzenFxccycOZOTJ08C8PTTB2nVqpheiPOUq+Bbu3Ztjh07lqPt2LFjVK1aNc/eXgBvb2+8vb1LozwRERGRy2KMsyc0NdUZUs+edYbItLRz7ampzsCaPdTg+HHneWvXnhticPq088NuL3wNtWo5g3KTJtC0KdSsCfXrO0Nt3brOQNu4sTPIXv7zNaxZs4bly5fjcDgICAggMjKS4ODgy794HspV8O3SpQvff/99jrYlS5bQpUsXN1UkIiIilVlWlrMH9cQJZyDdsOHcRK7skJo9qWvjRmeYzMhw3s7IcH6kpjpvp6U5hxWcPl30ejZvzt3m7Q1BQeDl5ezl7d8frrjC2WNbs+a5j0aNnD241lJa8yspKYnZs2ezd+9eAJo1a0Z4eDh+fn4lNifLrcE3OTmZ3bt3u27v3buXTZs2Ub16da644gqeeeYZDh8+zPTp0wF44IEHeP/993nyySe55557WL58Od988w0LFixw11MQERGRcio7oCYnwx9/OEPhmTPOj5QUZyA9c8YZRBMTnb2q2R/p6bB//6XHul7oYmNfL+Th4eyxDQqCgIBzQwV8fZ1DB664wjnEoHZt53E/v3NDDAIDnfcLDIQqVQpXY2kwxvDNN99w+PBhbDYbAwcOpF27dlguHANRzNwafH/99Vd69+7tup09FnfkyJFMmzaNuLg4Dhw44DoeFhbGggULePTRR/nPf/5D/fr1+fjjj7WUmYiISCWTng4//nhueazsXtTsUJrdm7pypTM8njp1rgc2+yMjo/jqsVohLMzZu3roENxyizOgens7P/v4OD/i4pzDB7y8nMe8vM6d5+PjDLANGjhDrM1WfPWVNRaLhRtuuIFFixYRERFBjRo1SudxjTGmVB6pjEhKSiIwMJDExESqVq3q7nJERETkPCkpsHs3rFvnDKaLFzsDYPbQgWPHnOGxuNd59fWFkBBo1sz5dfaErCpVnD2nVas6v87+8PFxhlVvb2jTxvlZLu7QoUOcPHmSNm3auNqMMXn28pZUXitXY3xFRESk/HA44OefYc8eZ1D19HSG1z/+cE6gyt60IHsTg08/dX4ujDZtoFq1cz2o2asHeHk5P2w2Z1Dt08f5Obv39fxVBnx9ncMKpGQ4HA5WrVrFypUrsVqt1K5d27U8bUkPbbiQgq+IiIgUSWamc1msXbvgyy+dvaKZmc6Qu2MHbN1a9GuHhUGrVs63/hMSYOjQc6G1Th2oXt15TkUeDlARJCQkMGvWLA4ePAhAixYtCAwMdFs9Cr4iIiLikpnpXH3g1CnnWNkNG5y3Q0LOjadNT4ctW5zrwhaEr6+zZ9YYuOoqZ3g9cABat3YGV09P52ebDVq0gMGDc6/zKuWLMYbff/+d77//noyMDLy9vRk0aBCtW7d2a10KviIiIpWIw+Fc+zUtzfk5e3hBQgKsWuXcqauwatQ4N0b2ppucwbZaNedar127OocVSOVhjGHOnDls/mtttdDQUKKioqhWrZp7C0PBV0REpMIzBmJj4fnnYcaMgt+va1fnONk//4SRI53LZmVP6KpSxblTV8eOzh5bkWwWi4Xg4GAsFgu9evWiW7duWEtrceBL0LeqiIhIBeJwwJw5zt7cdetg3z7nkl4Xyp7UZQx07w69e0NwMLRs6Rxu4OVV6qVLOWa320lOTnaN3+3atStXXnmlaxJbWaHgKyIiUo6cPu3cJez33509sVu2ODdFyMpybsQQF3fx+7dr5+z1vfLKUilXKoH4+Hiio6PJysri/vvvx2azYbVay1zoBQVfERGRMumPP2DmTOeEr82b4ddfnZszFHRCGTi3ps3KgoED4eabnasgiBQXYwwxMTEsWrSIzMxMfHx8OHHiBHXr1nV3aflS8BURESkD4uLgs8+cE8zmz7/4udkbKNSuDcOHQ5Mmzq1pq1d3jr9t1Aj8/UunbqmcUlJSmDdvHjt27ACcu+tGRkaW+c3BFHxFRETcJDPT2ZPbt69zY4cLWSzOyWPt2jnH3Hbv7tyIoZR2dxXJU2xsLLNnzyY5ORmr1Urfvn3p0qVLqW9GURQKviIiIqVsxw7o2ROOH899rH59uOceiIhwBt5ykCWkEjHG8PPPP5OcnExwcDBDhw6ldu3a7i6rwBR8RURESpjd7lwn9/XX4ccfISYm5/H69aFbN5g2zTlUQaSsslgsREREsG7dOnr37o2tnG2dp+ArIiJSAoyBr7+GN9+ETZtyH7danb2+336roQtSdhljWL9+PadPn2bAgAEABAYG0r9/fzdXVjQKviIiIsXI4XD23q5dm/fxevWck9fatNEwBinbkpOTmTNnDrt37wagRYsWhIaGurmqy6PgKyIiUgwOH4YlS+C++5xDG873z3/Cq69qGIOUHzt37mTu3LmkpKTg6enJ9ddfT/369d1d1mVT8BURESmigwchOtq5IcSFPbxVq8KePRrGIOVLZmYmixcv5tdffwWgVq1aREVFERIS4ubKioeCr4iISBFs3AgdOuRu79fPue3vW2+Bp37LSjlijOGzzz7j4MGDAHTp0oU+ffrgWYG+kSvOMxERESlBWVnOHdSWLYMXXoC0tHPHRo50huD779dwBim/LBYL1157LadPnyYyMpJGjRq5u6Rip+ArIiJyAYfDuezY7NmwcyesWOHcbCIvv/wCnTuXZnUixScpKYmEhAQaNGgAOCewNWnSBC8vLzdXVjIUfEVEpNLKyHD24i5dCvv3Q3IynD4NCxbkf5+uXZ07qNWs6ezhLeM7tIrka9u2bcyfPx+r1cqYMWPw/2uf64oaekHBV0REKpm0NOeOaf/3f/Dvf1/83C5d4MYbnTuo1asHzZtDOVuvXySX9PR0Fi5cyKa/FpiuW7cumfm9pVHBKPiKiEiFlJYGGzbAtm2wa5dz6MKmTc6NIxyO3OcPHgx9+kCVKs6VGLp1g3K0E6tIgRw6dIjo6GgSEhIA6N69Oz179sTDw8PNlZUOBV8RESmXkpJg1SqYMsW5rFhmpnNb4ORk50d6et73czic4bd2bWjaFObNg7/e4RWpsIwx/PTTT6xcuRJjDIGBgQwZMsQ1treyUPAVEZEy6+BB5y5nBw/Cjh3w++9w4gSkpDhXWbgUf39o3965S1pICFx5JXTqBA0aaNc0qVwsFguJiYkYY2jVqhWDBg3Cx8fH3WWVOgVfEREpU06fdg5JeOUV59Jhl9K1K3Ts6FxZoVEjCAhwDlcICICgIAVcqbyMMWRlZWH7a2D6wIEDadKkCS1atHBzZe6j4CsiIqXu5EnnuNudO53jcLdudU4427s37yEKN98MYWHOlRSaNnWumevrC9WqOYctiEhOaWlpLFiwgJSUFO68804sFgteXl6VOvSCgq+IiJQQux1iY53DFGJjYfly54SzOXMufV9vb6hTx7mKwn//C02alHy9IhXF/v37mTVrFomJiVgsFg4fPkz9+vXdXVaZoOArIiLF4o8/YNEiOHMGxo8HDw9n+L2Yjh2dY3CbNXOOv61Tx7miwhVXlE7NIhWJ3W5nxYoVrF69GoCgoCCioqIUes+j4CsiIpdl2jT44AP49dec7dmht2lTqFXLGWYtFudY3PbtnWvkikjxiI+PJzo6mri4OADatm3LwIED8dYe2jko+IqISKHFxzs3f3jjjdzHRo2C4GBnL+6IEeCp3zQiJcoY4wq9Pj4+hIeHV/qxvPnRf0ciInJJp0/Dzz/Dnj3w+OPOrX7P5+cHs2ZBr15QgXc7FSmTLBYLN954Iz/++CPh4eFU1T7a+VLwFRERl+yJaAkJzlUWlixxbvBwYdDN1qGDc9mxAQNKt06Ryi42NpbTp0/Tvn17wLnt8B133OHmqso+BV8RkUrEbndOQtu+3bkhxPHjsHmzc7WFvXudy4xdTO/e0KKFM+gOHqylxERKW1ZWFkuXLmXdunV4eHhQv359atWq5e6yyg0FXxGRCi41FebOhc8/d+6Cdil16jh3NgsOdi4j1rw59O0LjRuXfK0ikr/jx48zc+ZMjh8/DkC7du2oXr26m6sqXxR8RUQqqFOn4OuvnWNyU1NzHvP3d/beXnGFM+Da7c4d0K65xrkCg4iUHcYY1q9fz5IlS7Db7fj5+REREUHTpk3dXVq5o+ArIlKBbNoEixfDpEnOiWjn69nTGWyffdYZdkWk7DPGMGPGDHbu3AlAkyZNiIiIwN/f382VlU8KviIi5diff0J0NHz3nfPrxMTc53TqBNOnw1VXlX59InJ5LBYLoaGhxMbGcv3119OxY0csFou7yyq3FHxFRMoZY2DLFmjTJu/jLVrAbbc5x+necYdzBzURKT8yMzNJTk4mKCgIgK5du9K8eXON5y0GCr4iIuXAsWOwYoUz0OblySchMtK5acRfvytFpByKi4sjOjoagNGjR2Oz2bBYLAq9xUTBV0SkDDtyBEJDweHIfax+fRg7Fp56qvTrEpHiZYxhzZo1LF++HIfDgb+/PwkJCYSEhLi7tApFwVdEpAxxOJzjdE+dgrffhg8/PHfMYnH25r7xBtx1F3h7u69OESk+SUlJzJo1i3379gHQrFkzwsPD8fPzc29hFZCCr4iIGxkDZ8/C5Mnw2GPO8bh2e+7zpk2DkSNLvTwRKWHbtm1j/vz5pKWlYbPZGDhwIO3atdMEthKi4CsiUoocDvjxR/jtN/j2W1i/Pufx7NDr5+dcT7dLF2fotdlKvVQRKWHGGGJiYkhLS6Nu3bpERUVRo0YNd5dVoSn4ioiUEIcD3nvPudyYlxccOuRcciwvVavCtdfCgw/CwIEaxiBSkRljsFgsWCwWIiIi+O233+jWrRseWoKlxCn4iogUE2Ocm0b88AN89RWsXetsy0v9+jBoEFSrBmPGOJce0zubIhWbw+Fg1apVnD17lkGDBgFQtWpVevbs6ebKKg8FXxGRIjpyxNmLu20b7N8PL72U93nt2jnX0736amfgvfJK9eiKVDYJCQnMmjWLgwcPAtCmTRvq1avn5qoqHwVfEZECSk+HGTNgyRL4/POLnzt6NHTsCLffDlWqlE59IlL2GGPYsmULCxYsICMjA29vbwYNGqTQ6yYKviIil7B5s3Oc7jvvQHJyzmO1a0NwMNSrB82bQ69ecNNNGrYgIpCWlsaCBQvYunUrAKGhoURFRVGtWjX3FlaJKfiKiOTh4EHnEmP/+lfuY7Vrw0MPOXdKa9my1EsTkXLAGMP06dOJi4vDYrHQq1cvunXrhtVqdXdplZqCr4jIX7ZuhbfegunTcx+rVcsZdp94Anx8Sr82ESlfLBYLPXr0YMmSJQwZMoT69eu7uyRBwVdEKrmdO6FnTzhzBlJSch8fNMi5xNjgwaVfm4iULydPniQxMZFGjRoBzh3YmjRpgqen4lZZoX8JEam03nwTnnoqZ5u/P0REwPDhcMMNGqsrIpeWvRHFokWL8PT0ZMyYMQQEBAAo9JYx+tcQkUrFbodly2DAgJztkZHwn//AFVe4pSwRKadSUlKYN28eO3bsANCQhjJOwVdEKrSkJFixAl55Bfbtg1Onzm0LnG3tWueuaSIihREbG8vs2bNJTk7GarXSt29funTpgkVvFZVZCr4iUuHY7fDLL9CtW/7n1KgBH3wAw4aVXl0iUjEYY1i8eDG//PILAMHBwURFRVGnTh03VyaXouArIhVGSgq8/jp8/DHExeU81rIldO0KTz7p3B5Yw+5EpKgsFguZmZkAdOjQgf79+2Oz2dxclRSE/usXkXLr2DFnwP3mG1i4EH77Lefx1q3hb39zrsogInI5jDGundcA+vfvT/PmzWncuLGbK5PCUPAVkXJl4UL46SeYMCHv41arc6LaF19ovV0RKR7JycnMmTMHu93OXXfdhcViwcvLS6G3HFLwFZEy78wZ+OgjGDcOUlNzHgsIcK7EcPvt0K8fdOqkJchEpPjs2rWLOXPmkJKSgqenJ0ePHtVY3nJMwVdEyqT0dOd6ukuX5l6FAeDZZ52bS1x3XenXJiIVX2ZmJosXL+bXX38FoFatWkRFRRESEuLmyuRyKPiKSJmTmgp+fjnbvL2d43Vvugn69FGvroiUnLi4OKKjo4mPjwfg2muvpW/fvtqMogLQv6CIuF1WlnMow7RpsGFDzmN9+8LXX0P16s7xuyIiJckYw5w5c4iPj8ff35/IyEiN5a1AFHxFpFTt3w+DBzt7dbM/Tp/O+9y//Q0mTizV8kSkkrNYLERERPDzzz8zaNAg/C58+0nKNQVfESlxcXHO9XUXLIDY2PzPu+oq5zCGu+92LkWmVRlEpDRs376d5ORkOnXqBECdOnW4+eab3VyVlAQFXxEpdjt2wPr1zq2ClyyBQ4dyHq9bF268EcaMAV9f53jekBDnOF4RkdKSnp7OwoUL2bRpE1arlQYNGlCrVi13lyUlSMFXRIrF+vUwbx688krex3194eqrnWN527Ur3dpERC506NAhoqOjSUhIAKBr164EBwe7uSopaQq+InJZFi6EG27I+9gdd0CHDjBgADRrppUYRMT9HA4Hq1atYuXKlRhjCAwMZMiQITRo0MDdpUkpUPAVkUL56Sd45x2YM8c5Bjct7dyxKlXgoYeca+sOGgRa+UdEyhJjDJ999hn79u0DoGXLlgwePBgfTSioNPRrSUQuKSsL/v53+PZb+GtZSyBn6P3yS+fuaSIiZZXFYqFp06bExcUxaNAgWrdu7e6SpJQp+IpIvlJSnD2406blPjZ5snN74LAw8PfXMAYRKZvS0tJITk52jd+99tprufrqq6lataqbKxN3UPAVkRxSU2HvXueyYzfdlPNY8+bwf//nHMqgdwZFpKzbv38/s2bNwtPTk9GjR+Pl5YXFYlHorcQUfEUEgHXr4Npr8z7WqRPMmuVchkxEpKyz2+2sWLGC1atXAxAUFMSZM2eoUaOGmysTd1PwFank0tKc43cnT87Z3q4dNGoEXbvCY4+5pzYRkcI6efIk0dHRHDlyBIC2bdsycOBAvLVQuKDgK1Kp/PknfPEFnDzp3Fji+HH4awlLlyeegDfe0JhdESlfjDHExMSwaNEiMjMz8fHxITw8nBYtWri7NClDFHxFKriUFNi0CZ5/Hn78Me9zAgJg+HAYNw7q1SvV8kREis0ff/xBZmYmYWFhREZGaiyv5KLgK1JBnTjhHK5w+HDuYzff7JygVr2683NYGFitpV+jiMjlMsZgsViwWCxERESwbds2OnfujEVvW0keFHxFKhhj4NZb4bvvcrbXrAlDhjhXZfDyck9tIiLFJSsri6VLl5KZmUl4eDgAAQEBXJvfLF0RwO19PB988AENGzbEx8eHzp07s379+oue/95773HVVVfh6+tLaGgojz76KGnnr6IvUkkdOwYTJjh7bs8PvX//u3MDiuPHYdIkhV4RKf+OHz/O5MmTWbduHTExMRw9etTdJUk54dYe3xkzZvDYY48xceJEOnfuzHvvvceAAQPYuXMnISEhuc7/8ssvefrpp5kyZQpdu3Zl165d3H333VgsFt555x03PAORsuGTT+DZZ53hNtvVVzvH9mrbYBGpKIwxrF+/niVLlmC32/Hz8yMiIoLatWu7uzQpJyzGGOOuB+/cuTMdO3bk/fffB8DhcBAaGsrDDz/M008/nev8sWPH8scff7Bs2TJX2z//+U/WrVvnWqvvUpKSkggMDCQxMVGD3qVcczhg9WoYNQr27DnXPnq0cwzv9de7rzYRkeKWnJzMnDlz2L17NwBNmjQhIiICf39/N1cmJaGk8prbhjpkZGSwceNG+vXrd64Yq5V+/fqxdu3aPO/TtWtXNm7c6BoOsWfPHr7//nsGDRqU7+Okp6eTlJSU40OkPDt4EB58EDw8oGfPc6G3VStnD++kSQq9IlKxGGOYPn06u3fvxtPTkxtuuIHhw4cr9Eqhue1N0Pj4eOx2O7Vq1crRXqtWLXbs2JHnfYYPH058fDzdunXDGENWVhYPPPAAzz77bL6PM2HCBF566aVirV3EXe6/Hz7+OGdbSAjcfTe8/rrW3hWRislisdC3b19+/PFHoqKi8hwOKVIQbp/cVhgrVqzgtdde43//+x8xMTFER0ezYMEC/vWvf+V7n2eeeYbExETXx8GDB0uxYpHLl5rq3C64Y8dzoddmg3/8w9n7e+yYNpwQkYonLi7ONawB4KqrrmL06NEKvXJZ3NbjGxwcjIeHB8eOHcvRfuzYsXwHqY8bN4677rqL++67D4BWrVpx9uxZRo8ezXPPPYc1j4VIvb29tU2hlEtbtzrH6/72m3Nb4Wy33QZffqmgKyIVkzGGNWvWsHz5cry8vBgzZoxrjGdev+dFCsNt30FeXl60b98+x0Q1h8PBsmXL6NKlS573SUlJyfVN7+HhATh/UEQqiuho55jdtWudoTcoCIYOdYbhr75S6BWRiikxMZHp06ezdOlSHA4HDRs2xFNL00gxcut302OPPcbIkSPp0KEDnTp14r333uPs2bOMGjUKgBEjRlCvXj0mTJgAQHh4OO+88w7t2rWjc+fO7N69m3HjxhEeHu4KwCLl2ZkzMGYMfPGF87bVCj/84JysprArIhXZtm3bmD9/PmlpadhsNgYOHEi7du20A5sUK7cG32HDhnHixAnGjx/P0aNHadu2LQsXLnRNeDtw4ECOHt7nn38ei8XC888/z+HDh6lZsybh4eG8+uqr7noKIsVi/354+GGYN+9cW9OmsH49BAa6ry4RkZJmjGHu3Lls2rQJgLp16xIVFUWNGjXcW5hUSG5dx9cdtI6vlDWrV0P37udu16kDTz4JY8dq8wkRqRwWLFjAxo0b6datGz179tS7uFJieU2/VkXcJC7OuUrD+YuSrFzpDMF6Z09EKjKHw0F6ejq+vr4A9O/fn9atWxMaGurmyqSiU/AVcYMnn4S33jp3u3Nn56S1sDD31SQiUhoSEhKYNWsWVquVESNGYLVasdlsCr1SKhR8RUqJwwHTpjmXIstezKRePecavMOHq5dXRCo2Ywy///4733//PRkZGXh7exMfH691eaVUKfiKlIING+CRR2DNmnNtzZpBTAz89U6fiEiFlZaWxoIFC9i6dSsAoaGhREVFUa1aNfcWJpWOgq9ICXvtNXjuuXO3H3sMRo6E1q3dV5OISGnZt28fs2bNIikpCYvFQq9evejWrZs2oxC3UPAVKUGLFuUMvb/9Bm3buq0cEZFSZYxh4cKFJCUlERQURFRUFPXr13d3WVKJKfiKlJBjx2DgQOfXTZrAr79qTV4RqVwsFguRkZFs2LCBAQMG4OXl5e6SpJLT+wwiJeD//g9q1z53+6efFHpFpOIzxrBx40bWrl3raqtduzbh4eEKvVImqMdXpBjt2AHjx8O33zpvV6sG//ufc1MKEZGKLCUlhXnz5rFjxw6sViuNGzfWig1S5ij4ihSTjz+G++8/d/vqq+HHH6FmTffVJCJSGmJjY5k9ezbJyclYrVb69u1LTf3nJ2WQgq/IZdqxA1q2BLv9XNuUKTBiBGjXTRGpyLKysli6dCnr1q0DIDg4mKFDh1L7/LFeImWIgq9IEdnt8NlnMGrUubZWrWDFCqhe3W1liYiUCofDwdSpUzly5AgAHTt25Prrr8dms7m5MpH8KfiKFEFmJvTpA6tXn2v76KOcQx1ERCoyq9VKq1atOH36NBERETRt2tTdJYlckoKvSCEdPw61ajm/tligf38YNw6uu869dYmIlLTk5GRSUlJck9Y6d+5M69at8fPzc3NlIgWj5cxECshuhwcegLp1z7W98w4sXKjQKyIV386dO/nwww+ZMWMGGRkZgHOdXoVeKU/U4ytSQDfdBN9/7/y6dm1nCH7kEbeWJCJS4jIzM1m8eDG//vorAAEBAaSkpGhdXimXFHxFLsEYZ8jNDr39+jm3ItY28yJS0cXFxREdHU18fDwAXbp0oU+fPnh6Kj5I+aTvXJGLOHMGHn0UPvnEeXvkSJg61Tm2V0SkojLGsGbNGpYvX47D4cDf358hQ4bQqFEjd5cmclkUfEXykJUF774LTz55ru2mm2DaNLeVJCJSqvbt24fD4aBZs2aEh4drLK9UCAq+IufJyoLHH4fPP4eTJ8+1P/88PPec++oSESkNDocDq9WKxWIhIiKC3bt306ZNGyx6m0sqCAVfEcDhgIcegokTz7X5+DjH9r78MgQEuK82EZGSlp6ezsKFCwGIiIgAwN/fn7Zt27qxKpHip+Arld6ff8KF6643awY//QTaal5EKrpDhw4RHR1NQkICFouFLl26uNbpFaloFHylUjHGGXT37oUlS2Ddupy7rwEcOwb6P19EKjqHw8GqVatYuXIlxhgCAwMZMmSIQq9UaAq+UmkcOeLsyT1zJu/jb73lHN8rIlLRJSQkMGvWLA4ePAhAy5YtGTx4MD4+Pm6uTKRkKfhKhRcb69xWeM+ec21XXAHNmzvbmzaFgQNBy1KKSGXgcDj4/PPPOXXqFN7e3gwaNIjWrVu7uyyRUqFf9VJhJSQ4V2P43/+ct61W8PKCf//bOZFNRKQyslqtDBw4kNWrVzNkyBCqVavm7pJESo2Cr1RI773n3HjifA88AK+8AkFBbilJRMRt9u/fT1paGldddRUAV155JU2aNNEyZVLpKPhKhbJ2Ldx2Gxw4cK7tmWecH1qSTEQqG7vdzooVK1i9ejU+Pj488MADBAYGAij0SqWk4CsVxqJFzrG62YKDYetWqFXLfTWJiLhLfHw80dHRxMXFAdCsWTNNXpNKT8FXyr3Tp6FNm5y9vL/8Ap07u60kERG3McYQExPDokWLyMzMxMfHh/DwcFq0aOHu0kTcTsFXyq0jR+CTT2D8+HNt/v6wYYNz2TIRkcrG4XDw7bffsmPHDgDCwsKIjIykatWqbq5MpGxQ8JVy5ehRmDED9u1zTmA7X69esHAheHu7oTARkTLAarVStWpVrFYrffv2pUuXLhrLK3IeBV8p84xxLkn22mvOXt4L/fOfzslrNWqUfm0iIu6WlZVFeno6VapUAaBfv35cc8011NIEB5Fcihx8Dxw4wP79+0lJSaFmzZpcffXVeKurTYrZ4cMwYABs23auzcsLWrWCyEi4916oU8dt5YmIuNXx48eJjo7Gx8eHESNGYLVasdlsCr0i+ShU8N23bx8ffvghX3/9NYcOHcIY4zrm5eVF9+7dGT16NEOHDsVqtRZ7sVL53HrrudB7553wj39A+/agd+5EpDIzxrB+/XqWLFmC3W7Hz8+PhIQEauitL5GLKnA6/fvf/06bNm3Yu3cvr7zyCtu3bycxMZGMjAyOHj3K999/T7du3Rg/fjytW7dmw4YNJVm3VHB79kBUFKxZ47z9+efw2WfQoYNCr4hUbsnJyXz55ZcsXLgQu91OkyZNGDNmjEKvSAEUuMe3SpUq7NmzJ88frJCQEPr06UOfPn144YUXWLhwIQcPHqRjx47FWqxUfBkZ8PHH8NRTkJzsbBs7Fu64w711iYiUBTt37mTu3LmkpKTg6enJ9ddfT8eOHTWBTaSALOb88QqVQFJSEoGBgSQmJmp5lzLEGJg71zluN5vFAh995BzHq//TRaSyczgcTJo0iePHj1OrVi2ioqIICQlxd1kiJaKk8lqxDsRNS0vj3//+d3FeUiqJXr1yht42bSAuDu67T6FXRAScS5VFRUXRtWtX7rvvPoVekSIodPA9ceIE8+fPZ/HixdjtdgAyMzP5z3/+Q8OGDXn99deLvUipmIyBmBhnsP3pJ2dbmzbw44+waZO2GhaRys0Yw88//8zq1atdbbVq1eL666/H01OrkYoURaF+clavXs2NN95IUlISFouFDh06MHXqVCIjI/H09OTFF19k5MiRJVWrVCA//ghDhkBi4rm2q692Bl4RkcouKSmJ2bNns3fvXiwWC82aNSM4ONjdZYmUe4Ua49urVy/q1q3Ls88+y6effsrbb7/NlVdeyauvvsrNN99cknUWG43xdS9jnL27vXqda2vSBDp3dq7aoGENIlLZbdu2jfnz55OWlobNZmPgwIG0a9dOE9ikUimpvFao4FujRg1WrVpFixYtSE1Nxd/fn+joaCIiIoqtoJKm4Os+KSnw18ZCLl98AcOHu6ceEZGyJD09nYULF7Lpr7e+6tatS1RUlJYpk0qppPJaoYY6JCQkuN5q8fX1xc/Pj5YtWxZbMVIxpafDLbfAvHnn2urWhYkTITzcfXWJiJQVDoeDKVOmcPz4cQC6d+9Oz5498fDwcHNlIhVLoUfHb9++naNHjwLOgfc7d+7k7NmzOc5p3bp18VQn5ZrdDhs3OocxnO+mm2DOHPfUJCJSFlmtVq655hrWrl3LkCFDaNCggbtLEqmQCjXUwWq1YrFYyOsu2e0Wi8W12kNZpKEOpeOVV2DcuJxtTZrA5s3g5+eemkREypKEhATS09OpXbs24OxMysjIwNvb282VibhfmRjqsHfv3mJ7YKm4VqyA8ePP3fbwgO++y7lOr4hIZWWMYcuWLSxYsIAqVarwt7/9DW9vbywWi0KvSAkrVPDVWy9yMQkJzg0noqPPtaWmgo+P+2oSESlL0tLSWLBgAVu3bgWc6/Kql1ek9BRqA4uzZ88yZswY6tWrR82aNbnttts4ceJESdUm5cS4cdC1K1SvnjP0btig0Csikm3//v1MnDiRrVu3YrFY6N27N3fffTcBAQHuLk2k0ihUj++4ceP47LPPuOOOO/Dx8eGrr75i9OjRzJo1q6TqkzIsPR3GjoWPP87Zfuut8PnnYLO5py4RkbLE4XDw448/unZgCwoKIioqivr167u5MpHKp1DBd9asWUydOpVbbrkFgBEjRnDttdeSlZWl7RMrmVGjYNq0nG0bN0K7dtqEQkTkfBaLhWPHjgHQtm1bBg4cqKENIm5SqFUdbDYb+/fvp27duq42Pz8/duzYwRVXXFEiBRY3repQdMbA4sUwdSrMmHGuPTwcvvoq9+YUIiKVlTEGu93u6hQ6e/YsBw4coHnz5m6uTKR8KBOrOjgcDmwXvH/t6elZppcvk6IzBs6ehe3b4bXXcq+9e911sGwZqONCROSclJQU5s2bh7e3N5F/LWdTpUoVhV6RMqBQwdcYQ9++fXMMa0hJSSE8PBwvLy9XW0xMTPFVKKVu3jx47DE4edK5UsOFvLzg3Xdh9GjQCBcRkXNiY2OZPXs2ycnJWK1Wunfvri2HRcqQQsWWF154IVdbREREsRUj7hUfD61bQ1xcznabDQICnEMaJkyAOnXcU5+ISFmVlZXFsmXL+OWXXwAIDg4mKipKoVekjClU8B01ahT169fHai3UKmhSRsXHQ2ws7N4N778Pf/1/7fL11zB4sHPsriasiYjk7fjx40RHR7smsHXo0IH+/fvnGhooIu5XqOAbFhZGXFwcISEhJVWPlLCzZ50T0e6/P/9z7rvPGYQ1dldE5OIcDgdfffUVp0+fxs/Pj4iICJo2beruskQkH4Ue4yvljzGwciX07p37mKcntGrlHOJQowa8/LJWZxARKSir1crgwYNZv349N910E/7+/u4uSUQuotBTkyx6z7vcMAZefNEZZs/n7Q09e8K99zo3mxARkYLbtWsXdrvdtUpDkyZNaNy4sX4/ipQDhQ6+48aNw8/P76LnvPPOO0UuSIrHL7/AXXc5x++e79NPne36/1lEpHAyMzNZvHgxv/76K97e3tStW5fAwEBAnUIi5UWhg++WLVtyLF12If3wu4cxsHkzvPeecwe1rVvPHevcGb7/HqpXd1t5IiLlWlxcHNHR0cTHxwPQrl07qmhcmEi5U+jgO2vWLE1uK2P+9z946KG8j736Kjz9NGghDhGRwjPGsGbNGpYvX47D4cDf35/IyEgaN27s7tJEpAgKFXzVm1u2JCRASAhkZZ1rCwyE55+Hrl3h2msVeEVEisput/PFF1+wd+9eAJo1a0Z4ePglh/uJSNmlVR3KqcTEnEMXvLyc2wd36+a+mkREKhIPDw9CQkI4dOgQAwcOpF27duoAEinnChV8p06d6hrIL+7VuvW5r597Dl55xX21iIhUFOnp6WRkZBAQEABAv3796NSpE9U1SUKkQijwG+G//PILI0eOxLsAuxqkpKSwbdu2yypM8tezJxw44Pz6zTcVekVEisOhQ4eYNGkS3377LQ6HAwBPT0+FXpEKpMDB96677mLAgAF8++23nD17Ns9ztm/fzrPPPkvjxo3ZuHFjsRUp54wYAT/95Py6Th144gn31iMiUt45HA5WrlzJlClTSEhIICkpicTERHeXJSIloMBDHbZv386HH37I888/z/Dhw2natCl169bFx8eHhIQEduzYQXJyMkOGDGHx4sW0atWqJOuulP79b/jsM+fXHTrA+vXurUdEpLxLSEhg1qxZHDx4EICWLVsyePBgfHx83FyZiJQEiynCjLVff/2V1atXs3//flJTUwkODqZdu3b07t27zL8llJSURGBgIImJiVStWtXd5RTY4cNQv77z68aNc29MISIiBWeMYcuWLSxYsICMjAy8vLwYPHgwrc+fQCEiblNSea3Q6/gCdOjQgQ4dOhRbEZK/jAyYMyfn1sLq6RURuTwOh4M1a9aQkZFBaGgoQ4YMISgoyN1liUgJK1LwldKRmAitWsFf78AB8MEH2oFNRORyeXh4MHToUP744w+6deuGVYuei1QK+kkvgzIz4R//gGrVzoXe5s3ho4/gwQfdWpqISLlkt9tZtmwZP2XPDgZq1qxJjx49FHpFKhH1+JYxn33mXLnhfF99Bbfd5p56RETKu5MnTxIdHc2RI0ewWCy0bNmyzM9HEZGSoeBbhrzzDvzzn+du9+wJc+dCOZqDJyJSZhhjiImJYdGiRWRmZuLj40N4eLhCr0gldtnBNy0tTcu+FIMdO5w7sAH4+8OGDdCsmXtrEhEpr1JSUpg3bx47duwAICwsjMjIyHK1mo+IFL8iDWxyOBz861//ol69evj7+7Nnzx4Axo0bxyeffFKsBVYGn3/uHMOblua8vWuXQq+ISFHZ7XY+/vhjduzYgdVq5frrr+euu+5S6BWRogXfV155hWnTpvHmm2/i5eXlam/ZsiUff/xxsRVXUTkc8Ouv8K9/QY8ecNddzvaGDWHtWueObCIiUjQeHh506dKF4OBg7rvvPrp27YrFYnF3WSJSBhQp+E6fPp2PPvqIO+64Aw8PD1d7mzZtXG8rFdQHH3xAw4YN8fHxoXPnzqy/xCK1p0+f5qGHHqJOnTp4e3vTtGlTvv/++6I8jVJlt8Pq1fDII+DhAR07wvjxsGoVWK1w++2wfTtce627KxURKX+OHz/O4cOHXbc7dOjA6NGjqaOeBBE5T5HG+B4+fJgmTZrkanc4HGRmZhb4OjNmzOCxxx5j4sSJdO7cmffee48BAwawc+dOQkJCcp2fkZHB9ddfT0hICN999x316tVj//79VKtWrShPo1QkJjqXIJsxwxl+z9e0KQwf7gy9TZu6pz4RkfLMGMP69etZsmQJAQEBPPDAA3h7e2OxWLDZbO4uT0TKmCIF3xYtWrBq1SoaNGiQo/27776jXbt2Bb7OO++8w/3338+oUaMAmDhxIgsWLGDKlCk8/fTTuc6fMmUKp06dYs2aNa7/0Bo2bFiUp1DijIHBg+GHH3K29+rlDLp9+zq3HhYRkaJJTk5mzpw57P5rD/fg4GDsF/YwiIicp0jBd/z48YwcOZLDhw/jcDiIjo5m586dTJ8+nfnz5xfoGhkZGWzcuJFnnnnG1Wa1WunXrx9r167N8z5z586lS5cuPPTQQ8yZM4eaNWsyfPhwnnrqqRxDLs6Xnp5Oenq663ZSUlIhnmnRLV16LvT6+TlD8Mcfa2kyEZHisGvXLubMmUNKSgqenp5cf/31dOzYUWN5ReSiihR8IyIimDdvHi+//DJVqlRh/PjxXHPNNcybN4/rr7++QNeIj4/HbrdTq1atHO21atXKd5zwnj17WL58OXfccQfff/89u3fv5sEHHyQzM5MXXnghz/tMmDCBl156qXBPsBhs2uT8HBICx46V+sOLiFRIdrudhQsX8uuvvwLO3xlRUVF5Do8TEblQkdfx7d69O0uWLCnOWi7J4XAQEhLCRx99hIeHB+3bt+fw4cO89dZb+QbfZ555hscee8x1OykpidDQ0BKvNSvL+Tk8vMQfSkSk0rBarZw5cwaALl260KdPHzw9tReTiBRMkf63aNSoERs2bKBGjRo52k+fPs0111zjWtf3YoKDg/Hw8ODYBd2hx44do3bt2nnep06dOthsthzDGpo3b87Ro0fJyMjIsbRaNm9vb7y9vQvytIpV9jAzbQEvInJ5jDFkZWVhs9mwWCyEh4fTqVMnGjVq5O7SRKScKVIs27dvX54TCNLT03MsJ3MxXl5etG/fnmXLlrnaHA4Hy5Yto0uXLnne57rrrmP37t04HA5X265du6hTp06eodedsktU8BURKbrExESmT5/OvHnzXG1VqlRR6BWRIilUj+/cuXNdXy9atIjAwEDXbbvdzrJlywq1ysJjjz3GyJEj6dChA506deK9997j7NmzrlUeRowYQb169ZgwYQIAY8aM4f333+cf//gHDz/8MH/++SevvfYaf//73wvzNEpF9t8F+cy5ExGRS9i2bRvz588nLS0Nm81GQkICQUFB7i5LRMqxQgXfyMhIACwWCyNHjsxxzGaz0bBhQ95+++0CX2/YsGGcOHGC8ePHc/ToUdq2bcvChQtdE94OHDiA9bwu09DQUBYtWsSjjz5K69atqVevHv/4xz946qmnCvM0SoV6fEVEiiY9PZ0ffviBzZs3A1C3bl2ioqIUekXkshUq+GYPMQgLC2PDhg0EBwdfdgFjx45l7NixeR5bsWJFrrYuXbrwyy+/XPbjlrTs4KseXxGRgjt06BDR0dEkJCRgsVjo1q0bPXv2zHfJShGRwijS5La9e/cWdx0Vjia3iYgUjt1u59tvvyUpKYnAwECGDBmSa6MkEZHLUeQ1YM6ePcvKlSs5cOAAGRkZOY6VxTG3pU1DHURECsfDw4ObbrqJzZs3M2jQIHx8fNxdkohUMEUKvr/99huDBg0iJSWFs2fPUr16deLj4/Hz8yMkJETBFw11EBG5FGMMv//+Ox4eHrRs2RKAxo0b01j7uYtICSlSf+Sjjz5KeHg4CQkJ+Pr68ssvv7B//37at2/Pv//97+KusVzSUAcRkfylpaURHR3N7NmzmTdvHomJie4uSUQqgSL1+G7atIlJkyZhtVrx8PAgPT2dRo0a8eabbzJy5EiioqKKu85yRz2+IiJ527dvH7NmzSIpKQmLxcJ1111HQECAu8sSkUqgSMHXZrO5lhkLCQnhwIEDNG/enMDAQA4ePFisBZZX6vEVEcnJbrezYsUKVq9eDUBQUBBRUVHUr1/fzZWJSGVRpODbrl07NmzYwJVXXknPnj0ZP3488fHxfPbZZ65xWpWdJreJiJyTlZXF1KlTOXLkCABt27blhhtuKHO7bopIxVakWPbaa69Rp04dAF599VWCgoIYM2YMJ06cYNKkScVaYHmloQ4iIud4enrSoEEDfHx8uOWWW4iIiFDoFZFSV6Qe3w4dOri+DgkJYeHChcVWUEWhoQ4iUtmlpKSQmZnp2t6+T58+XHvttVStWtXNlYlIZVWssSwmJoYbb7yxOC9Zbmmog4hUZrGxsXz44Yd89913rl0/PT09FXpFxK0KHcsWLVrE448/zrPPPsuePXsA2LFjB5GRkXTs2NH1H1xll93jq6EOIlKZZGVlsXDhQj7//HOSk5NJS0sjOTnZ3WWJiACFHOrwySefcP/991O9enUSEhL4+OOPeeedd3j44YcZNmwYW7dupXnz5iVVa7miHl8RqWyOHz/OzJkzOX78OOAcFte/f39sNpubKxMRcSpU8P3Pf/7DG2+8wRNPPMHMmTO55ZZb+N///seWLVu0HM0FNLlNRCoLYwzr169nyZIl2O12/Pz8iIiIoGnTpu4uTUQkh0IF39jYWG655RYAoqKi8PT05K233lLozYMmt4lIZeFwONi0aRN2u50mTZoQERGBv7+/u8sSEcmlUME3NTUVPz8/ACwWC97e3q5lzSQnDXUQkYrOGIPFYsHDw4OhQ4eyZ88eOnbsiMVicXdpIiJ5KvRyZh9//LHrL/msrCymTZtGcHBwjnP+/ve/F0915ZiGOohIRZWZmcmiRYuoUqUKvXv3BiA4ODjX7wIRkbKmUMH3iiuuYPLkya7btWvX5rPPPstxjsViUfBFQx1EpGKKi4sjOjqa+Ph4rFYr7dq1o1q1au4uS0SkQAoVfPft21dCZVQ86vEVkYrEGMOaNWtYvnw5DocDf39/IiMjFXpFpFwp0s5tcmnq8RWRiiIxMZHZs2e7Oj+aNWtGeHi4a86HiEh5oeBbQjS5TUQqgqysLKZMmUJSUhI2m42BAwfSrl07TWATkXJJwbeEaKiDiFQEnp6e9OjRg5iYGKKioqhRo4a7SxIRKTIF3xKioQ4iUl4dOnQIYwyhoaEAXHPNNbRt2xYP/SUvIuWcgm8JUY+viJQ3DoeDVatWsXLlSqpWrcoDDzyAj4+Pa61eEZHyrsj9kbGxsTz//PPcfvvtrn3Zf/jhB7Zt21ZsxZVn6vEVkfIkISGBadOmsWLFihy9vSIiFUmRYtnKlStp1aoV69atIzo6muTkZAA2b97MCy+8UKwFllea3CYi5YExhs2bNzNx4kQOHjyIt7c3Q4YMYejQofj4+Li7PBGRYlWkWPb000/zyiuvsGTJEry8vFztffr04Zdffim24sozDXUQkbIuKyuL6OhoZs+eTUZGBqGhoTzwwAO0bt3a3aWJiJSIIo3x3bJlC19++WWu9pCQEOLj4y+7qIpAQx1EpKzz8PAgKysLi8VCr1696NatG1b9pyUiFViRgm+1atWIi4sjLCwsR/tvv/1GvXr1iqWw8k5DHUSkLLLb7WRlZeHt7Y3FYiE8PJxu3brp/24RqRSKFMtuu+02nnrqKY4ePYrFYsHhcPDzzz/z+OOPM2LEiOKusVzSUAcRKWtOnjzJlClTmDdvHsYYAPz8/BR6RaTSKFKP72uvvcZDDz1EaGgodrudFi1aYLfbGT58OM8//3xx11guaaiDiJQVxhhiYmJYtGgRmZmZnDp1iqSkJAIDA91dmohIqSpS8PXy8mLy5MmMGzeOrVu3kpycTLt27bjyyiuLu75ySz2+IlIWpKSkMG/ePHbs2AFAWFgYkZGRVK1a1c2ViYiUviIF39WrV9OtWzeuuOIKrrjiiuKuqUJQj6+IuFtsbCyzZ88mOTkZq9VK37596dKlCxaLxd2liYi4RZFiWZ8+fQgLC+PZZ59l+/btxV1ThaDJbSLiTllZWcydO5fk5GSCg4O577776Nq1q0KviFRqRYplR44c4Z///CcrV66kZcuWtG3blrfeeotDhw4Vd33lloY6iIg7eXp6EhkZSYcOHRg9ejR16tRxd0kiIm5XpOAbHBzM2LFj+fnnn4mNjeWWW27h008/pWHDhvTp06e4ayyXNNRBREqTMYZ169bx+++/u9rCwsIYPHgwNpvNjZWJiJQdRRrje76wsDCefvpp2rRpw7hx41i5cmVx1FXuqcdXREpLcnIyc+bMYffu3Xh5edGwYUNNXhMRycNlBd+ff/6ZL774gu+++460tDQiIiKYMGFCcdVWrqnHV0RKw86dO5k7dy4pKSl4enrSt29fAgIC3F2WiEiZVKTg+8wzz/D1119z5MgRrr/+ev7zn/8QERGBn59fcddXbmlym4iUpMzMTBYvXsyvv/4KQK1atYiKiiIkJMTNlYmIlF1FCr4//fQTTzzxBLfeeivBwcHFXVOFoKEOIlJSMjMzmTx5MidOnACgS5cu9OnTB0/Pyx69JiJSoRXpf8mff/65uOuocDTUQURKis1m48orryQ1NZXIyEgaN27s7pJERMqFAgffuXPncsMNN2Cz2Zg7d+5Fz73pppsuu7DyTkMdRKQ4JSUlYbfbCQoKApzrqV933XUaYiYiUggFDr6RkZEcPXqUkJAQIiMj8z3PYrFgz+7urMQ01EFEisu2bduYP38+NWrUYNSoUXh4eODh4aHQKyJSSAUOvo7sJHfB15I3DXUQkcuVnp7OwoUL2bRpE+Bcqzc1NRV/f3/3FiYiUk4VKZZNnz6d9PT0XO0ZGRlMnz79souqCNTjKyKX49ChQ0yaNMkVert3784999yj0CsichksxhhT2Dt5eHgQFxeXa9mckydPEhISUqaHOiQlJREYGEhiYmKJLvAeGAhJSbBrF1x5ZYk9jIhUMA6Hg1WrVrFy5UqMMQQGBjJkyBAaNGjg7tJEREpNSeW1Iq3qYIzBYrHkaj906BCBgYGXXVRFoMltIlIUxhh27tyJMYaWLVsyePBgfHx83F2WiEiFUKjg265dOywWCxaLhb59++ZYM9Jut7N3714GDhxY7EWWRxrqICIFlf3Gm8ViwcPDg6ioKI4cOULr1q3dXJmISMVSqOCbvZrDpk2bGDBgQI6xZtn7ww8dOrRYCyyvNLlNRAoiLS2NBQsWEBQURJ8+fQAIDg7W5kAiIiWgUMH3hRdeAKBhw4YMGzZMb79dhHp8ReRS9u/fz6xZs0hMTMTDw4MOHTqU6NwDEZHKrkhjfEeOHFncdVQ46vEVkfzY7XZWrFjB6tWrAQgKCiIqKkqhV0SkhBU4+FavXp1du3YRHBxMUFBQnpPbsp06dapYiiuvEhPP9fgGBLi3FhEpW06ePEl0dDRHjhwBoG3btgwcOBBvb283VyYiUvEVOPi+++67BPyV4t59992LBt/Kbv9+5+fgYNCSmyKSLTMzk6lTp3L27Fl8fHwIDw+nRYsW7i5LRKTSKHDwPX94w913310StVQY+/Y5Pzds6M4qRKSssdls9OnTh61btxIZGamhDSIipaxII1BjYmLYsmWL6/acOXOIjIzk2WefJSMjo9iKK68UfEUkW2xsLAcOHHDdbteuHXfddZdCr4iIGxQp+P7tb39j165dAOzZs4dhw4bh5+fHt99+y5NPPlmsBZZHCr4ikpWVxaJFi/j888+ZOXMmqampAK610EVEpPQVKfju2rWLtm3bAvDtt9/Ss2dPvvzyS6ZNm8bMmTOLs75yKTv4aodRkcrp+PHjfPzxx/zyyy8ANG3aNMeGPyIi4h5F3rLY8deyBUuXLuXGG28EIDQ0lPj4+OKrrpxSj69I5WSMYf369SxZsgS73Y6fnx8RERE0bdrU3aWJiAhFDL4dOnTglVdeoV+/fqxcuZIPP/wQgL1791KrVq1iLbA8UvAVqXwyMzP55ptv2L17NwBNmjQhIiIixw6XIiLiXkUKvu+99x533HEHs2fP5rnnnqNJkyYAfPfdd3Tt2rVYCyxvEhMhIcH5tYY6iFQenp6eeHl54eHhQf/+/enYsaPG8oqIlDEWY4wproulpaXh4eGBzWYrrksWu6SkJAIDA0lMTCyRWdW//w5t2kCNGqBRHyIVW2ZmJna73bV9e2pqKmfOnCEkJMTNlYmIlG8lldcua7bFxo0b+eOPPwBo0aIF11xzTbEUVZ5pmINI5RAXF0d0dDQhISHcfPPNWCwWfH198fX1dXdpIiKSjyIF3+PHjzNs2DBWrlxJtWrVADh9+jS9e/fm66+/pmbNmsVZY7mSvWubgq9IxWSMYc2aNSxfvhyHw0FaWhrJycmunS1FRKTsKtJyZg8//DDJycls27aNU6dOcerUKbZu3UpSUhJ///vfi7vGckU9viIVV1JSEp999hlLly7F4XDQrFkzxowZo9ArIlJOFKnHd+HChSxdupTmzZu72lq0aMEHH3xA//79i6248kjBV6Ri2r59O/PmzSMtLQ2bzcbAgQNp166dJrCJiJQjRQq+DocjzwlsNpvNtb5vZaXgK1LxZGZmsmjRItLS0qhbty5RUVHUqFHD3WWJiEghFWmoQ58+ffjHP/7BkSNHXG2HDx/m0UcfpW/fvsVWXHmk4CtS8dhsNiIjI+nWrRv33HOPQq+ISDlVpOD7/vvvk5SURMOGDWncuDGNGzcmLCyMpKQk/u///q+4ayw3kpLg1Cnn11rDV6T8cjgcrFy5kk2bNrnawsLC6Nu3Lx4eHu4rTERELkuRhjqEhoYSExPDsmXLXMuZNW/enH79+hVrceVN9ooONWqA5rqIlE8JCQnMmjWLgwcPYrPZaNy4sSaviYhUEIUOvjNmzGDu3LlkZGTQt29fHn744ZKoq1zKHuag3l6R8scYw5YtW1iwYAEZGRl4e3szaNAghV4RkQqkUMH3ww8/5KGHHuLKK6/E19eX6OhoYmNjeeutt0qqvnJF43tFyqe0tDQWLFjA1q1bAee7WlFRUa51ykVEpGIo1Bjf999/nxdeeIGdO3eyadMmPv30U/73v/+VVG3ljoKvSPmTmZnJpEmT2Lp1KxaLhd69e3P33Xcr9IqIVECFCr579uxh5MiRrtvDhw8nKyuLuLi4Yi+sPFLwFSl/bDYbV199NUFBQdxzzz306NEDq7VI835FRKSMK9RQh/T0dKpUqeK6bbVa8fLyIjU1tdgLK48UfEXKh5MnT2KxWKhevToAvXv3pnv37nh7e7u5MhERKUmFntw2btw4/Pz8XLczMjJ49dVXCQwMdLW98847xVNdOaPgK1K2GWOIiYlh0aJF1KxZk3vuuQcPDw/Xh4iIVGyFCr49evRg586dOdq6du3Knj17XLcr6/adZ85oDV+RsiwlJYV58+axY8cOALy9vUlPT8/xh7yIiFRshQq+K1asKKEyyr/sNXyrV4eqVd1bi4jkFBsby+zZs0lOTsZqtdK3b1+6dOlSaf9QFxGprIq0gYXkpmEOImVPVlYWy5Yt45dffgEgODiYoUOHUrt2bTdXJiIi7lAmpi5/8MEHNGzYEB8fHzp37sz69esLdL+vv/4ai8VCZGRkyRZYAAq+ImWPxWLhwIEDAHTs2JHRo0cr9IqIVGJu7/GdMWMGjz32GBMnTqRz58689957DBgwgJ07dxISEpLv/fbt28fjjz9O9+7dS7Ha/Cn4ipQNxhiMMVitVjw8PIiKiuLkyZM0bdrU3aWJiIibub3H95133uH+++9n1KhRtGjRgokTJ+Ln58eUKVPyvY/dbueOO+7gpZdeolGjRqVYbf4UfEXcLzk5mS+//JLly5e72mrUqKHQKyIigJuDb0ZGBhs3bqRfv36uNqvVSr9+/Vi7dm2+93v55ZcJCQnh3nvvveRjpKenk5SUlOOjJCj4irjXzp07+fDDD9m9ezfr168nOTnZ3SWJiEgZU+Tgu2rVKu688066dOnC4cOHAfjss89YvXp1ga8RHx+P3W6nVq1aOdpr1arF0aNH87zP6tWr+eSTT5g8eXKBHmPChAkEBga6PkJDQwtcX2Eo+Iq4R2ZmJvPnz+frr78mJSWFWrVqcd999+Hv7+/u0kREpIwpUvCdOXMmAwYMwNfXl99++4309HQAEhMTee2114q1wPOdOXOGu+66i8mTJxMcHFyg+zzzzDMkJia6Pg4ePFgCdcHJk86vtYavSOmJi4tj0qRJbNy4EYAuXbpw3333XXR+gIiIVF5Fmtz2yiuvMHHiREaMGMHXX3/tar/uuut45ZVXCnyd4OBgPDw8OHbsWI72Y8eO5TnzOjY2ln379hEeHu5qczgcAHh6erJz504aN26c4z7e3t4lvg1p9hq+QUFaw1ektGRkZPDZZ5+RmppKQEAAkZGRZWbMv4iIlE1FCr47d+6kR48eudoDAwM5ffp0ga/j5eVF+/btWbZsmWtJMofDwbJlyxg7dmyu85s1a8aWLVtytD3//POcOXOG//znPyU2jOFSNMxBpPR5eXnRv39/du7cSXh4uHZgExGRSypS8K1duza7d++m4QVJb/Xq1YXucXnssccYOXIkHTp0oFOnTrz33nucPXuWUaNGATBixAjq1avHhAkT8PHxoWXLljnuX61aNYBc7aVJwVekdGzbto0qVaq4/u9p06YNbdq00Q5sIiJSIEUKvvfffz//+Mc/mDJlChaLhSNHjrB27Voef/xxxo0bV6hrDRs2jBMnTjB+/HiOHj1K27ZtWbhwoWvC24EDB7Ba3b7q2kUp+IqUrPT0dBYuXMimTZsICAhgzJgx+Pr6KvCKiEihFCn4Pv300zgcDvr27UtKSgo9evTA29ubxx9/nIcffrjQ1xs7dmyeQxsAVqxYcdH7Tps2rdCPV9wUfEVKzqFDh4iOjiYhIQGAtm3b4uXl5eaqRESkPCpS8LVYLDz33HM88cQT7N69m+TkZFq0aFFplw/Kntym4CtSfBwOB6tWrWLlypUYYwgMDGTIkCE00NIpIiJSRJe1ZbGXlxctWrQorlrKLfX4ihSvjIwMPv/8c9fyg61atWLQoEH4+Pi4uTIRESnPihR8e/fufdGxdedvF1rRJSdDfLzza3VEiRQPm81G1apV8fb2ZtCgQbRu3drdJYmISAVQpODbtm3bHLczMzPZtGkTW7duZeTIkcVRV7lx/hq+gYHurUWkPEtLS8MY45q0NnjwYNLS0ggKCnJ3aSIiUkEUKfi+++67eba/+OKLJCcnX1ZB5Y2GOYhcvn379jFr1izq1q3LrbfeisViwdfXF19fX3eXJiIiFUixrhN25513MmXKlOK8ZJmn4CtSdHa7nWXLlvHpp5+SlJTEsWPHSElJcXdZIiJSQV3W5LYLrV27ttJNPlHwFSma+Ph4oqOjiYuLA5xDqAYOHFjiW4yLiEjlVaTgGxUVleO2MYa4uDh+/fXXQm9gUd5lB19NbBMpGGMMMTExLFq0iMzMTHx8fAgPD9cKMSIiUuKKFHwDL5jFZbVaueqqq3j55Zfp379/sRRWXqjHV6RwMjMzWbVqFZmZmYSFhREZGUnVqlXdXZaIiFQChQ6+drudUaNG0apVK822RsFXpLC8vLwYMmQIhw8fpkuXLtp2WERESk2hJ7d5eHjQv39/Tp8+XQLllC9aw1fk0rKysli0aBEbN250tTVo0ICuXbsq9IqISKkq0lCHli1bsmfPHsLCwoq7nnIlew3fatWcHyKS0/Hjx5k5cybHjx/HZrPRrFkzqlSp4u6yRESkkipS8H3llVd4/PHH+de//kX79u1z/SKrLOP1NMxBJG/GGNavX8+SJUuw2+34+fkRERGh0CsiIm5VqOD78ssv889//pNBgwYBcNNNN+V4q9IYg8ViwW63F2+VZVR2j6+Cr8g5ycnJzJkzh927dwPQpEkTIiIi8Pf3d3NlIiJS2RUq+L700ks88MAD/PjjjyVVT7miHl+RnNLT05k0aRLJycl4enpy/fXX07FjR43lFRGRMqFQwdcYA0DPnj1LpJjyRsFXJCdvb2/atWvHrl27iIqKIiQkxN0liYiIuBR6jK96bs5R8BWBuLg4bDYbwcHBgPMP4x49euDpWawbQ4qIiFy2Qv9matq06SXD76lTp4pcUHmi4CuVmTGGNWvWsHz5cmrVqsW9996Lh4cHHh4e7i5NREQkT4UOvi+99FKundsqo7Nn4cQJ59daw1cqm6SkJGbPns3evXsB526OmZmZCr0iIlKmFTr43nbbbRq3h9bwlcpr27ZtzJ8/n7S0NGw2GwMHDqRdu3YaBiUiImVeoYKvfrGdo2EOUtlkZmby/fffs2nTJgDq1q1LVFQUNWrUcG9hIiIiBVSkVR3kXPDVMAepLDw8PIj/a4/u7t2707NnTw1tEBGRcqVQwdfhcJRUHeWOenylMnA4HBhj8PDwwGq1MmTIEM6cOUMD/cUnIiLlkNXdBZRXCr5S0SUkJDBt2jSWL1/uaqtevbpCr4iIlFtaaLOIFHylojLG8Pvvv/P999+TkZHBiRMnuO666/Dz83N3aSIiIpdFwbeIFHylIkpLS2PBggVs3boVgNDQUKKiohR6RUSkQlDwLYLz1/BV8JWKYt++fcyaNYukpCQsFgu9evWiW7duWK0aESUiIhWDgm8RHDjg/BwYqDV8pWJIS0vj66+/Jj09naCgIKKioqhfv767yxIRESlWCr5FoGEOUtH4+Phwww03sG/fPgYOHIi3t7e7SxIRESl2Cr5FoOAr5Z0xhpiYGIKCgmjUqBEAbdq0oU2bNm6uTEREpOQo+BaBgq+UZykpKcybN48dO3bg7+/Pgw8+iK+vr7vLEhERKXEKvkWg4CvlVWxsLLNnzyY5ORmr1UqXLl3w8fFxd1kiIiKlQsG3CBR8pbzJyspi6dKlrFu3DoDg4GCioqKoU6eOmysTEREpPQq+RaDgK+VJWloaU6dO5fjx4wB06NCB/v37Y7PZ3FyZiIhI6VLwLaSUFPgrP6CdW6U88Pb2JiQkhOTkZCIiImjatKm7SxIREXELBd9C2r/f+blqVa3hK2VX9hhePz8/LBYLgwcPJisrC39/f3eXJiIi4jYKvoV0/jAHi8WdlYjkbefOncydO5fQ0FCGDRuGxWLRBDYREREUfAtN43ulrMrMzGTx4sX8+uuvAJw+fZq0tDQtVSYiIvIXBd9CUvCVsiguLo7o6Gji4+MBuPbaa+nbty+envoRFxERyabfioWk4CtliTGGNWvWsHz5chwOB/7+/kRGRtK4cWN3lyYiIlLmKPgWkoKvlCUZGRls2LABh8NBs2bNCA8Px8/Pz91liYiIlEkKvoWUvaqDgq+4kzEGi8WCt7c3UVFRxMfH065dOyyacSkiIpIvq7sLKE9SU+HYMefXCr7iDunp6cyZM4eNGze62q644gquueYahV4REZFLUI9vIWgNX3GnQ4cOER0dTUJCAtu3b+fqq6/Wig0iIiKFoOBbCFrDV9zB4XCwatUqVq5ciTGGwMBAhgwZotArIiJSSAq+haCJbVLaEhISmDVrFgcPHgSgZcuWDB48WBtSiIiIFIGCbyEo+EppSktL46OPPiItLQ0vLy8GDx5M69at3V2WiIhIuaXgWwjZwbdBA7eWIZWEj48PnTt3Zs+ePQwZMoSgoCB3lyQiIlKuKfgWgnp8paTt378fPz8/atasCUCPHj3o0aMHVqsWYBEREblc+m1aCAq+UlLsdjvLli1j2rRpREdHk5WVBYDValXoFRERKSbq8S0greErJeXkyZNER0dz5MgRAGrXro3D4XBzVSIiIhWPgm8BZa/hGxAAGmopxcEYQ0xMDIsWLSIzMxMfHx/Cw8Np0aKFu0sTERGpkBR8C0hr+EpxSk9PZ/bs2ezYsQOAsLAwIiMjqVq1qpsrExERqbgUfAtI43ulONlsNs6ePYvVaqVv37506dJFWw6LiIiUMAXfAsoe6qDgK0WVPWHN09MTq9XKkCFDSEtLo06dOm6uTEREpHJQ8C0g9fjK5Th+/DjR0dGEhYUxYMAAAK3LKyIiUsoUfAtIwVeKwhjD+vXrWbp0KVlZWSQnJ9OjRw98fX3dXZqIiEilo+BbQAq+UljJycnMmTOH3bt3A9CkSRMiIiIUekVERNxEwbcAUlPh6FHn1wq+UhC7du1izpw5pKSk4OHhQf/+/enYsaMmsImIiLiRgm8BHDjg/Kw1fKUgUlNTiY6OJj09nVq1ahEVFUVISIi7yxIREan0FHwLQGv4SmH4+voyePBgjhw5Qt++ffH01I+ZiIhIWaDfyAWQHXwbNHBrGVJGGWNYs2YNtWrVokmTJgC0atWKVq1aubkyEREROZ+CbwFoYpvkJykpidmzZ7N37178/f156KGH8PHxcXdZIiIikgcF3wJQ8JW8bNu2jfnz55OWlobNZqNPnz54e3u7uywRERHJh4JvASj4yvnS09NZuHAhmzZtAqBu3bpERUVRo0YN9xYmIiIiF6XgWwAKvpItNTWVyZMnk5CQAED37t3p2bMnHh4ebq5MRERELkXB9xK0hq+cz9fXl9DQUBwOB0OGDKGBZjyKiIiUGwq+l5C9hq+/P1Sv7t5axD0SEhLw8vKiSpUqAAwaNAhjjCaxiYiIlDNWdxdQ1u3f7/ysNXwrH2MMmzdvZuLEicydOxdjDADe3t4KvSIiIuWQenwvQeN7K6e0tDQWLFjA1q1bXbfT09MVeEVERMoxBd9LUPCtfPbv38+sWbNITEzEYrHQq1cvunXrhtWqN0hERETKMwXfS1DwrTzsdjsrVqxg9erVAAQFBREVFUX9+vXdXJmIiIgUBwXfS1DwrTyysrJcQxvatWvHwIED8fLycnNVIiIiUlwUfC9Bwbdiy56wZrFY8Pb2ZujQoSQlJdGiRQs3VyYiIiLFTcH3ItLSIC7O+bWWa614UlJSmDt3Lo0bN6Zjx44AGtYgIiJSgSn4XkT2Gr5VqoB2o61YYmNjmT17NsnJyezbt49WrVppxQYREZEKTsH3Is4f5qA1fCuGrKwsli5dyrp16wAIDg5m6NChCr0iIiKVQJlYn+mDDz6gYcOG+Pj40LlzZ9avX5/vuZMnT6Z79+4EBQURFBREv379Lnr+5dD43orl+PHjTJ482RV6O3TowOjRo6ldu7abKxMREZHS4PbgO2PGDB577DFeeOEFYmJiaNOmDQMGDOD48eN5nr9ixQpuv/12fvzxR9auXUtoaCj9+/fn8OHDxV6bgm/FkZKSwieffMLx48fx8/Pj9ttvZ/DgwdhsNneXJiIiIqXEYrKntbtJ586d6dixI++//z4ADoeD0NBQHn74YZ5++ulL3t9utxMUFMT777/PiBEjLnl+UlISgYGBJCYmUrVq1YueO3w4fPUVvPUWPP54wZ6PlF0rV67k0KFDRERE4O/v7+5yREREJB+FyWuF4dYxvhkZGWzcuJFnnnnG1Wa1WunXrx9r164t0DVSUlLIzMykevXqeR5PT08nPT3ddTspKanA9anHt3zbuXMnQUFBhISEANC9e3csFgsWDdgWERGplNw61CE+Ph673U6tWrVytNeqVYujR48W6BpPPfUUdevWpV+/fnkenzBhAoGBga6P0NDQAte3f7/zs4Jv+ZKZmcn8+fP5+uuviY6OJisrC3D+UaXQKyIiUnm5fYzv5Xj99df5+uuvmTVrVr6z8p955hkSExNdHwcPHizQtdPT4cgR59cKvuVHXFwckyZNYuPGjQCEhYW5uSIREREpK9w61CE4OBgPDw+OHTuWo/3YsWOXnGn/73//m9dff52lS5fSunXrfM/z9vbG29u70LVpDd/yxRjDmjVrWL58OQ6HA39/f4YMGUKjRo3cXZqIiIiUEW7t8fXy8qJ9+/YsW7bM1eZwOFi2bBldunTJ935vvvkm//rXv1i4cCEdOnQokdq0hm/5kZqayvTp01m6dCkOh4NmzZoxZswYhV4RERHJwe0bWDz22GOMHDmSDh060KlTJ9577z3Onj3LqFGjABgxYgT16tVjwoQJALzxxhuMHz+eL7/8koYNG7rGAvv7+xfrTH1NbCs/vL29cTgc2Gw2Bg4cSLt27TSWV0RERHJxe/AdNmwYJ06cYPz48Rw9epS2bduycOFC14S3AwcOYLWe65j+8MMPycjI4Oabb85xnRdeeIEXX3yx2OpS8C3b0tPT8fDwwNPTE6vVSlRUFFlZWdTQuBQRERHJh9uDL8DYsWMZO3ZsnsdWrFiR4/a+7ERawhR8y65Dhw4RHR1N06ZNGThwIACBgYFurkpERETKunK9qkNJyg6+DRq4tQw5j8PhYOXKlUyZMoWEhAR27NiRY41mERERkYspEz2+ZZF6fMuWhIQEZs2a5VqOrlWrVgwaNKhIK3aIiIhI5aTgmwet4Vt2GGP4/fff+f7778nIyMDb25tBgwZddAk7ERERkbwo+OYhew1fPz8IDnZvLZVdamoqP/zwAxkZGYSGhhIVFUW1atXcXZaIiIiUQwq+edAavmWHn58fN954I6dOnaJbt245VvgQERERKQwF3zxofK/72O12VqxYwRVXXMGVV14JQMuWLd1clYiIiFQECr55UPB1j/j4eKKjo4mLi6NKlSo8/PDDmrwmIiIixUbBNw/79zs/K/iWDmMMMTExLFq0iMzMTHx8fLRig4iIiBQ7Bd88qMe39KSkpDBv3jx27NgBQFhYGJGRkVStWtXNlYmIiEhFo+CbBwXf0nH27FkmTpxIcnIyVquVvn370qVLFyyaUSgiIiIlQMH3AlrDt/RUqVKFxo0bc/jwYaKioqhTp467SxIREZEKTMH3AgcPgjFaw7ekHD9+HD8/P/z9/QEYNGgQFosFm83m5spERESkotOiqBfQGr4lwxjDunXr+Oijj5g7dy7GGAC8vLwUekVERKRUqMf3AtnBt0EDt5ZRoSQnJzNnzhx2797tasvMzMTLy8uNVYmIiEhlo+B7AU1sK147d+5k7ty5pKSk4OnpyfXXX0/Hjh01gU1ERERKnYLvBRR8i0dmZiaLFi1i48aNANSqVYuoqChCQkLcXJmIiIhUVgq+F1DwLR4Oh4M9e/YA0KVLF/r06YOnp77dRERExH2URC6g4Ft02RPWLBYL3t7eDB06lPT0dBo1auTmykREREQUfHPQGr5Fl5SUxOzZs7nqqqvo3LkzAPXq1XNzVSIiIiLnKPieJ3sNX19fqFnT3dWUH9u2bWP+/PmkpaVx9OhR2rVrpxUbREREpMxR8D2P1vAtnPT0dBYuXMimTZsAqFu3LlFRUQq9IiIiUiYp+J5n/37nZw1zuLRDhw4RHR1NQkICAN27d6dnz554eHi4uTIRERGRvCn4nkcT2womOTmZTz/9lKysLAIDAxkyZAgNtOOHiIiIlHEKvudR8C0Yf39/evTowfHjxxk8eDA+Pj7uLklERETkkhR8z6PgmzdjDL///ju1a9emVq1aAHTr1k27r4mIiEi5ouB7HgXf3NLS0liwYAFbt26lZs2a3H///dhsNoVeERERKXcUfP+SkQGHDzu/VvB12rdvH7NmzSIpKQmLxULLli01eU1ERETKLQXfv2gN33PsdjsrVqxg9erVAAQFBREVFUX9+vXdXJmIiIhI0Sn4/iV7mEODBpV7Dd+zZ8/y5ZdfcuSvLezatm3LwIED8fb2dnNlIiIiIpdHwfcvGt/r5Ovri81mw8fHh/DwcFq0aOHukkRERESKhYLvXypz8E1JScFms2Gz2bBarURFRQFQtWpVN1cmIiIiUnys7i6grKiswTc2NpYPP/yQJUuWuNqqVq2q0CsiIiIVjnp8/1LZgm9WVhbLli3jl19+AWDv3r1kZGTg5eXl5spERERESoaC718qU/A9fvw40dHRHDt2DIAOHTrQv39/bDabmysTERERKTkKvjjX8P1rEYMKHXyNMaxfv54lS5Zgt9vx8/MjIiKCpk2burs0ERERkRKn4AscOgQOB/j4QEiIu6spOWfPnmXFihXY7XaaNGlCREQE/v7+7i5LREREpFQo+JJzmENFXsPX39+f8PBwkpOT6dixo7YdFhERkUpFwZeKO743MzOTxYsXc+WVV7qGM2hdXhEREamstJwZFTP4xsXF8dFHH/Hrr78yd+5cMjIy3F2SiIiIiFupx5eKFXyNMaxZs4bly5fjcDjw9/cnMjJSy5SJiIhIpafgy7ng26CBW8u4bElJScyePZu9e/cC0KxZM8LDw/Hz83NzZSIiIiLup+BLxejxPXPmDB9++CFpaWnYbDYGDhxIu3btNIFNRERE5C+VPvhmZMDhw86vy3PwDQgIoFmzZhw/fpyoqChq1Kjh7pJEREREypRKH3zPX8O3Vi13V1M4hw4dIjAwkICAAAAGDRqE1WrFw8PDzZWJiIiIlD2VflWH88f3lpdRAQ6Hg5UrVzJlyhTmzJmDMQYAm82m0CsiIiKSj0rf41vexvcmJCQwa9YsDh48CICvry9ZWVnYbDY3VyYiIiJStin47nN+LuvB1xjDli1bWLBgARkZGXh7ezNo0CBat27t7tJEREREygUF333Oz2U5+KanpzN//ny2bt0KQGhoKEOGDCEoKMjNlYmIiIiUH5U++O7f7/xcloOvxWLhyJEjWCwWevbsSffu3bFaK/3wbBGREmGMISsrC7vd7u5SRCo0d8xNqvTBt6z2+NrtdqxWKxaLBS8vL26++Wbsdjv169d3d2kiIhVWRkYGcXFxpKSkuLsUkQrPYrFQv359/P39S+0xK3Xwzcx0LmcGZSv4njx5kujoaFq1asW1114LQJ06ddxclYhIxeZwONi7dy8eHh7UrVsXLy8vbQIkUkKMMZw4cYJDhw5x5ZVXllrPb6UOvmVtDV9jDDExMSxatIjMzEySkpJo3769VmwQESkFGRkZOBwOQkNDtdW7SCmoWbMm+/btIzMzU8G3NJSlNXxTUlKYN28eO3bsACAsLIzIyEiFXhGRUqY5FCKlwx3vqCj44v5hDrGxscyePZvk5GSsVit9+/alS5cueotNREREpBgp+OLs8XWXM2fO8NVXX2G32wkODiYqKkrjeUVERERKQKV+P6cs9PgGBATQq1cvOnTowOjRoxV6RUREStnJkycJCQlhX3YwkMt222238fbbb7u7jFwUfCnd4GuMYf369Rw9etTVdt111zF48GCN5xURkUK7++67sVgsWCwWbDYbYWFhPPnkk6SlpeU6d/78+fTs2ZOAgAD8/Pzo2LEj06ZNy/O6M2fOpFevXgQGBuLv70/r1q15+eWXOXXq1EXr+fHHHxk0aBA1atTAz8+PFi1a8M9//pPDhw8Xx9MtEa+++ioRERE0zCMQDBgwAA8PDzZs2JDrWK9evXjkkUdytU+bNo1q1arlaEtKSuK5556jWbNm+Pj4ULt2bfr160d0dDTGmGJ6JrmtWLGCa665Bm9vb5o0aZLvv/f5Fi1axLXXXktAQAA1a9Zk6NCh+f5R8PPPP+Pp6Unbtm1ztD///PO8+uqrJCYmXv6TKEYKvpRe8E1OTubLL7/khx9+YObMmWRlZQHuGdwtIiIVx8CBA4mLi2PPnj28++67TJo0iRdeeCHHOf/3f/9HREQE1113HevWreP333/ntttu44EHHuDxxx/Pce5zzz3HsGHD6NixIz/88ANbt27l7bffZvPmzXz22Wf51jFp0iT69etH7dq1mTlzJtu3b2fixIkkJiZeVu9fRkZGke97KSkpKXzyySfce++9uY4dOHCANWvWMHbsWKZMmVLkxzh9+jRdu3Zl+vTpPPPMM8TExPDTTz8xbNgwnnzyyRILh3v37mXw4MH07t2bTZs28cgjj3DfffexaNGii94nIiKCPn36sGnTJhYtWkR8fDxRUVF5Pq8RI0bQt2/fXMdatmxJ48aN+fzzz4v1OV02U8kkJiYawMTHJxqr1Rgw5siRkn/cnTt3mjfffNO8+OKL5l//+pdZt26dcTgcJf/AIiJSIKmpqWb79u0mNTXV1eZwGJOcXPofhfn1MHLkSBMREZGjLSoqyrRr1851+8CBA8Zms5nHHnss1/3/+9//GsD88ssvxhhj1q1bZwDz3nvv5fl4CQkJebYfPHjQeHl5mUceeeSi93vhhRdMmzZtchx79913TYMGDXI9p1deecXUqVPHNGzY0DzzzDOmU6dOua7bunVr89JLL7luT5482TRr1sx4e3ubq666ynzwwQd51pPt22+/NTVr1szz2Isvvmhuu+0288cff5jAwECTkpKS43jPnj3NP/7xj1z3mzp1qgkMDHTdHjNmjKlSpYo5fPhwrnPPnDljMjMzL1pjUT355JPm6quvztE2bNgwM2DAgHzv8+233xpPT09jt9tdbXPnzjUWi8VkZGTkutbzzz+f57+pMca89NJLplu3bvk+Vl4/c9my81piYmK+9y+KStvje/iwcw1fb++SXcM3MzOTBQsW8NVXX5GSkkKtWrUYPXo0nTp1Uk+viEgZl5IC/v6l/3E5G8dt3bqVNWvW4OXl5Wr77rvvyMzMzNWzC/C3v/0Nf39/vvrqKwC++OIL/P39efDBB/O8/oVv4Wf79ttvycjI4MknnyzU/fKzbNkydu7cyZIlS5g/fz533HEH69evJzY21nXOtm3b+P333xk+fLir9vHjx/Pqq6/yxx9/8NprrzFu3Dg+/fTTfB9n1apVtG/fPle7MYapU6dy55130qxZM5o0acJ3331XqOcAzo1Rvv76a+644w7q1q2b67i/vz+ennmvNbBq1Sr8/f0v+vHFF1/k+9hr166lX79+OdoGDBjA2rVr871P+/btsVqtTJ06FbvdTmJiIp999hn9+vXLMSRz6tSp7NmzJ9c7C+fr1KkT69evJz09Pd9zSlulXdXhwAHn5wYNoKSWbDxz5gzTp08nPj4egGuvvZa+ffvm+w0uIiJSFPPnz8ff35+srCzS09OxWq28//77ruO7du0iMDAwzwnUXl5eNGrUiF27dgHw559/0qhRo0LPO/nzzz+pWrVqsU3SrlKlCh9//HGOAN+mTRu+/PJLxo0bBziDbufOnWnSpAkAL7zwAm+//bbrbfmwsDC2b9/OpEmTGDlyZJ6Ps3///jwD6dKlS0lJSWHAgAEA3HnnnXzyySfcddddhXoe8fHxJCQk0KxZs0LdD6BDhw5s2rTpoufUukjv3dGjR3Mdr1WrFklJSaSmpuLr65vrPmFhYSxevJhbb72Vv/3tb9jtdrp06cL333/vOufPP//k6aefZtWqVRfNNHXr1iUjI4OjR4/SwJ1LaJ2n0iawgwedn0tyfG/2X2NpaWlERkbSuHHjknswEREpdn5+kJzsnsctjN69e/Phhx9y9uxZ3n33XTw9PRk6dGiRHtsUcaKVMaZY38ls1apVjtALcMcddzBlyhTGjRuHMYavvvqKxx57DICzZ88SGxvLvffey/333++6T1ZWFoGBgfk+TmpqKj4+Prnap0yZwrBhw1zB7vbbb+eJJ54gNja2UL/Pi/p6Avj6+rpCfWk5evQo999/PyNHjuT222/nzJkzjB8/nptvvpklS5bgcDgYPnw4L730Ek2bNr3otbKDdcrlvIVRzCpt8M3u8S3u4JuUlISvry82mw2LxUJUVBQeHh7a/lJEpByyWKBKFXdXcWlVqlRxBaQpU6bQpk2bHBO2mjZtSmJiIkeOHMnVu5mRkUFsbCy9e/d2nbt69WoyMzML1eub/RhxcXEX7fW1Wq25wmBmZmaez+lCt99+O0899RQxMTGkpqZy8OBBhg0bBjgnkANMnjyZzp0757jfxbbDDQ4OJiEhIUfbqVOnmDVrFpmZmXz44YeudrvdzpQpU3j11VcBqFq1ap4T006fPu0K2zVr1qRatWqunVkLY9WqVdxwww0XPWfSpEnccccdeR6rXbs2x44dy9F27NgxqlatmmdvL8AHH3xAYGAgb775pqvt888/JzQ0lHXr1tGsWTN+/fVXfvvtN8aOHQs4h3MYY/D09GTx4sX06dMHwLUCSM2aNQv2hEtBpR3ju3+/83NxBt9t27bx4YcfsnjxYldb9pIxIiIipcFqtfLss8/y/PPPk5qaCsDQoUOx2Wx5rqwwceJEzp49y+233w7A8OHDSU5O5n//+1+e1z99+nSe7TfffDNeXl45AlNe96tZsyZHjx7NEX4v9XZ+tvr169OzZ0+++OILvvjiC66//npCQkIA51v4devWZc+ePTRp0iTHR1hYWL7XbNeuHdu3b8/R9sUXX1C/fn02b97Mpk2bXB9vv/0206ZNw263A3DVVVcRExOT65oxMTGu3lCr1cptt93GF198wZEjR3Kdm5yc7Frl6ULZQx0u9nHTTTfl+9y6dOnCsmXLcrQtWbKELl265HuflJSUXNt2Z//h4HA4qFq1Klu2bMlRwwMPPMBVV13Fpk2bcvzRsXXrVurXr09wcHC+j1fqinWqXDmQPUvwuusSDRjz5ZeXf820tDQze/Zs8+KLL5oXX3zRTJ48OdfMRxERKdsuNsO8LMtrVYfMzExTr14989Zbb7na3n33XWO1Ws2zzz5r/vjjD7N7927z9ttvG29vb/PPf/4zx/2ffPJJ4+HhYZ544gmzZs0as2/fPrN06VJz880357vagzHGfPDBB8ZisZh77rnHrFixwuzbt8+sXr3ajB492rWixPbt243FYjGvv/662b17t3n//fdNUFBQnqs65GXy5Mmmbt26/9/enYc1deX/A3+TYBJAFhlAQBAFBB1FEVCK1jo6dFAporaFKqNYcRn3SrVSN0BHsVZo1aGuVRzLiNJH1EcQFyoV0YoLiAqCClT9FrBu4AKy5PP7wx95jAQ0CAmSz+t58kfOPeeez81J4JOTe88lExMT2rVrV71tOjo6tG7dOsrLy6Ps7Gzavn07RUZGNhhzdnY2aWtr04MHD2Rlffr0oYULF9ar++jRIxKJRHTo0CEiIrp58yZJJBKaPXs2Xbp0ia5du0aRkZGkra1Nhw8flrW7f/8+de/enaysrGjnzp109epVys/Ppx9//JHs7e0bXCnjbRUUFJCuri4tWLCAcnNzKTo6moRCISUnJ8vqbNiwgYYOHSp7npKSQlpaWhQeHk75+fl04cIF8vLyIhsbm3qrWtRpaFWHwMBAmjRpUoPxqWNVB41NfK2tXyS+p0+/3f5u375N69atkyW9KSkpVFNT0zzBMsYYU5m2lPgSEUVERJCpqSk9efJEVnbgwAEaNGgQ6enpkUQiIVdXV9q+fbvC/e7Zs4c++OAD0tfXJz09PerduzctX778tUnasWPHyMvLizp06EASiYS6d+9O8+fPpz9eWjt048aNZG1tTXp6ejRhwgRauXLlGye+Dx8+JLFYTLq6uvT48eN622NjY8nZ2ZlEIhF16NCBPvjgA9q3b1+jMffv3582bdpERETnz58nAJSRkaGw7vDhw2n06NGy5xkZGfThhx+SqakpGRoakru7OyUkJNRr9+jRIwoJCaFu3bqRSCSijh07kqenJyUkJLTo8qYnTpyQvR62tra0Y8cOue2hoaFyrz0R0e7du6lv376kp6dHpqamNHLkSMrNzW2wD0WJb0VFBRkaGtKZM2cabKeOxFeLqAVvF9IKlZeXw9DQEAJBGaRSA/zxB9CUC1ClUinS0tLw66+/gohgaGiI0aNHt5qrFhljjCmnsrIShYWF6Nq1q8KLnVjblZiYiAULFuDKlSv1fuZnTbNx40YkJCTInf75qsY+c3X5WllZGQwMDJotLo29uE0qBUSipq/h+/TpU5w9exZEhF69esHb25v/UDLGGGPvIG9vb1y/fh3/93//B2tra3WH0ya0a9cOGzZsUHcY9Whs4gu83Rq++vr6GDlyJKqqqtC7d+/mDYwxxhhjKvXFF1+oO4Q2ZfLkyeoOQSGNTnyVWdGhsrISiYmJ6Nmzp2wR6qYsRs0YY4wxxtSDE983UFRUhISEBJSXl6OoqAj29vZ89zXGGGOMsXeMRmdvr0t8a2trceLECaSnpwMAOnTogDFjxnDSyxhjbZiGXfPNmNqo47Om0RlcY4nvvXv3sG/fPhQXFwMAnJ2dMXz48Hq3T2SMMdY21N2l7NmzZw3e1Yox1nyqqqoANH5nvebGia8CZWVl2LJlC6qrqyGRSODj44O//vWvKo2NMcaYagmFQhgZGeHu3bsAAF1dXWhpaak5KsbaJqlUij///BO6uroq/SWdE18FDA0N4eTkhIcPH2LUqFHNun4cY4yx1svc3BwAZMkvY6zlCAQCdO7cWaVfMDX2Bhbt2pWhstJAtpzZzZs3YWZmBn19fQBATU0NhEIhf9tnjDENVFtbi+rqanWHwVibJhKJGrxhCN/AoplZW79Yw7empgbHjx/H2bNnYWtri3/+85/Q0tLiC9gYY0yDCYVClZ53yBhTjVZxX77o6Gh06dIFEokE7u7uyMjIaLR+fHw8unfvDolEAicnJyQlJSndp43Ni5+ytm7dirNnzwIAjI2NUVtb26RjYIwxxhhjrZvaE989e/YgODgYoaGhuHjxIvr06QMvL68Gz686ffo0xo4di6CgIGRmZmLUqFEYNWoUrly5olS/3bufx5YtW3D37l3o6upi7Nix8Pb25plexhhjjLE2Su3n+Lq7u6Nfv374z3/+A+DFVX7W1taYPXs2QkJC6tX39/fH06dPcejQIVnZe++9B2dnZ2zatOm1/dWdMxISEgKJRAJ7e3v4+vqiffv2zXdQjDHGGGOsydrkOb5VVVW4cOECvv76a1mZQCCAp6cnzpw5o7DNmTNnEBwcLFfm5eWF/fv3K6z//PlzPH/+XPa8rKzs//ddgw8/HARXV1dIpVKUl5e/5dEwxhhjjLHmUJeXNff8rFoT33v37qG2thYdO3aUK+/YsSOuXbumsE1JSYnC+iUlJQrrR0REIDw8vF55VNRaREWtbWLkjDHGGGOspd2/fx+GhobNtr82f0Lr119/LTdD/OjRI9jY2ODWrVvN+kKy1qm8vBzW1ta4ffs2r8esAXi8NQuPt2bh8dYsZWVl6Ny5M4yNjZt1v2pNfE1MTCAUClFaWipXXlpaKltE/FXm5uZK1ReLxRCLxfXKDQ0N+YOjQQwMDHi8NQiPt2bh8dYsPN6apaF1fpu8v2bdm5JEIhFcXV2RkpIiK5NKpUhJSYGHh4fCNh4eHnL1AeDYsWMN1meMMcYYYwxoBac6BAcHIzAwEG5ubujfvz++//57PH36FJ9//jkAYMKECejUqRMiIiIAAHPnzsXgwYMRGRkJb29vxMXF4fz5F0uTMcYYY4wx1hC1J77+/v74888/sWzZMpSUlMDZ2RnJycmyC9hu3bolN809YMAA/O9//8OSJUuwaNEidOvWDfv370evXr3eqD+xWIzQ0FCFpz+wtofHW7PweGsWHm/NwuOtWVpqvNW+ji9jjDHGGGOqoPY7tzHGGGOMMaYKnPgyxhhjjDGNwIkvY4wxxhjTCJz4MsYYY4wxjdAmE9/o6Gh06dIFEokE7u7uyMjIaLR+fHw8unfvDolEAicnJyQlJakoUtYclBnvrVu3YtCgQejQoQM6dOgAT0/P174/WOui7Oe7TlxcHLS0tDBq1KiWDZA1K2XH+9GjR5g5cyYsLCwgFovh4ODAf9PfIcqO9/fffw9HR0fo6OjA2toa8+bNQ2VlpYqiZW/j5MmT8PHxgaWlJbS0tLB///7XtklNTYWLiwvEYjHs7e0RExOjfMfUxsTFxZFIJKLt27fT1atXacqUKWRkZESlpaUK66enp5NQKKQ1a9ZQTk4OLVmyhNq1a0eXL19WceSsKZQd73HjxlF0dDRlZmZSbm4uTZw4kQwNDenOnTsqjpw1hbLjXaewsJA6depEgwYNIl9fX9UEy96asuP9/PlzcnNzoxEjRtCpU6eosLCQUlNTKSsrS8WRs6ZQdrxjY2NJLBZTbGwsFRYW0pEjR8jCwoLmzZun4shZUyQlJdHixYtp3759BIASEhIarV9QUEC6uroUHBxMOTk5tGHDBhIKhZScnKxUv20u8e3fvz/NnDlT9ry2tpYsLS0pIiJCYX0/Pz/y9vaWK3N3d6dp06a1aJyseSg73q+qqakhfX192rlzZ0uFyJpRU8a7pqaGBgwYQNu2baPAwEBOfN8hyo73xo0bydbWlqqqqlQVImtGyo73zJkzaejQoXJlwcHBNHDgwBaNkzW/N0l8v/rqK+rZs6dcmb+/P3l5eSnVV5s61aGqqgoXLlyAp6enrEwgEMDT0xNnzpxR2ObMmTNy9QHAy8urwfqs9WjKeL/q2bNnqK6uhrGxcUuFyZpJU8d7+fLlMDMzQ1BQkCrCZM2kKeN98OBBeHh4YObMmejYsSN69eqFVatWoba2VlVhsyZqyngPGDAAFy5ckJ0OUVBQgKSkJIwYMUIlMTPVaq58Te13bmtO9+7dQ21treyub3U6duyIa9euKWxTUlKisH5JSUmLxcmaR1PG+1ULFy6EpaVlvQ8Ta32aMt6nTp3Cjz/+iKysLBVEyJpTU8a7oKAAv/zyCwICApCUlIQbN25gxowZqK6uRmhoqCrCZk3UlPEeN24c7t27h/fffx9EhJqaGvzrX//CokWLVBEyU7GG8rXy8nJUVFRAR0fnjfbTpmZ8GVPG6tWrERcXh4SEBEgkEnWHw5rZ48ePMX78eGzduhUmJibqDoepgFQqhZmZGbZs2QJXV1f4+/tj8eLF2LRpk7pDYy0gNTUVq1atwg8//ICLFy9i3759SExMxIoVK9QdGmvF2tSMr4mJCYRCIUpLS+XKS0tLYW5urrCNubm5UvVZ69GU8a6zdu1arF69GsePH0fv3r1bMkzWTJQd75s3b6KoqAg+Pj6yMqlUCgDQ1tZGXl4e7OzsWjZo1mRN+XxbWFigXbt2EAqFsrIePXqgpKQEVVVVEIlELRoza7qmjPfSpUsxfvx4TJ48GQDg5OSEp0+fYurUqVi8eDEEAp7ba0saytcMDAzeeLYXaGMzviKRCK6urkhJSZGVSaVSpKSkwMPDQ2EbDw8PufoAcOzYsQbrs9ajKeMNAGvWrMGKFSuQnJwMNzc3VYTKmoGy4929e3dcvnwZWVlZssfIkSMxZMgQZGVlwdraWpXhMyU15fM9cOBA3LhxQ/YFBwDy8/NhYWHBSW8r15TxfvbsWb3ktu5Lz4vrpVhb0mz5mnLX3bV+cXFxJBaLKSYmhnJycmjq1KlkZGREJSUlREQ0fvx4CgkJkdVPT08nbW1tWrt2LeXm5lJoaCgvZ/YOUXa8V69eTSKRiH7++WcqLi6WPR4/fqyuQ2BKUHa8X8WrOrxblB3vW7dukb6+Ps2aNYvy8vLo0KFDZGZmRv/+97/VdQhMCcqOd2hoKOnr69Pu3bupoKCAjh49SnZ2duTn56euQ2BKePz4MWVmZlJmZiYBoKioKMrMzKTff/+diIhCQkJo/Pjxsvp1y5ktWLCAcnNzKTo6mpczq7Nhwwbq3LkziUQi6t+/P/3222+ybYMHD6bAwEC5+nv37iUHBwcSiUTUs2dPSkxMVHHE7G0oM942NjYEoN4jNDRU9YGzJlH28/0yTnzfPcqO9+nTp8nd3Z3EYjHZ2trSypUrqaamRsVRs6ZSZryrq6spLCyM7OzsSCKRkLW1Nc2YMYMePnyo+sCZ0k6cOKHw/3HdGAcGBtLgwYPrtXF2diaRSES2tra0Y8cOpfvVIuLfAxhjjDHGWNvXps7xZYwxxhhjrCGc+DLGGGOMMY3AiS9jjDHGGNMInPgyxhhjjDGNwIkvY4wxxhjTCJz4MsYYY4wxjcCJL2OMMcYY0wic+DLGGGOMMY3AiS9j7J0TExMDIyMjdYfRZFpaWti/f3+jdSZOnIhRo0apJJ7WZunSpZg6darK+/3ss88QGRmp8n4ZY6rDiS9jTC0mTpwILS2teo8bN26oOzTExMTI4hEIBLCyssLnn3+Ou3fvNsv+i4uLMXz4cABAUVERtLS0kJWVJVdn3bp1iImJaZb+GhIWFiY7TqFQCGtra0ydOhUPHjxQaj/NmaSXlJRg3bp1WLx4sdz+G3uvvLxdJBLB3t4ey5cvR01NDQAgNTVVrp2pqSlGjBiBy5cvy/W9ZMkSrFy5EmVlZc1yLIyx1ocTX8aY2gwbNgzFxcVyj65du6o7LACAgYEBiouLcefOHWzduhWHDx/G+PHjm2Xf5ubmEIvFjdYxNDRUyax2z549UVxcjFu3bmHHjh1ITk7G9OnTW7zfhmzbtg0DBgyAjY2NXPnr3it1269fv44vv/wSYWFh+Pbbb+X2kZeXh+LiYhw5cgTPnz+Ht7c3qqqqZNt79eoFOzs7/PTTTy17kIwxteHElzGmNmKxGObm5nIPoVCIqKgoODk5QU9PD9bW1pgxYwaePHnS4H4uXbqEIUOGQF9fHwYGBnB1dcX58+dl20+dOoVBgwZBR0cH1tbWmDNnDp4+fdpobFpaWjA3N4elpSWGDx+OOXPm4Pjx46ioqIBUKsXy5cthZWUFsVgMZ2dnJCcny9pWVVVh1qxZsLCwgEQigY2NDSIiIuT2XXeqQ13y1rdvX2hpaeFvf/sbAPlZ1C1btsDS0hJSqVQuRl9fX0yaNEn2/MCBA3BxcYFEIoGtrS3Cw8Nls54N0dbWhrm5OTp16gRPT098+umnOHbsmGx7bW0tgoKC0LVrV+jo6MDR0RHr1q2TbQ8LC8POnTtx4MAB2YxqamoqAOD27dvw8/ODkZERjI2N4evri6KiokbjiYuLg4+PT73yht4rr263sbHB9OnT4enpiYMHD8rtw8zMDObm5nBxccEXX3yB27dv49q1a3J1fHx8EBcX12iMjLF3Fye+jLFWRyAQYP369bh69Sp27tyJX375BV999VWD9QMCAmBlZYVz587hwoULCAkJQbt27QAAN2/exLBhw/Dxxx8jOzsbe/bswalTpzBr1iylYtLR0YFUKkVNTQ3WrVuHyMhIrF27FtnZ2fDy8sLIkSNx/fp1AMD69etx8OBB7N27F3l5eYiNjUWXLl0U7jcjIwMAcPz4cRQXF2Pfvn316nz66ae4f/8+Tpw4ISt78OABkpOTERAQAABIS0vDhAkTMHfuXOTk5GDz5s2IiYnBypUr3/gYi4qKcOTIEYhEIlmZVCqFlZUV4uPjkZOTg2XLlmHRokXYu3cvAGD+/Pnw8/OTm5EdMGAAqqur4eXlBX19faSlpSE9PR3t27fHsGHD5GZZX/bgwQPk5OTAzc3tjWNuiI6OToP9lJWVyZLbl48VAPr374+MjAw8f/78rWNgjLVCxBhjahAYGEhCoZD09PRkj08++URh3fj4ePrLX/4ie75jxw4yNDSUPdfX16eYmBiFbYOCgmjq1KlyZWlpaSQQCKiiokJhm1f3n5+fTw4ODuTm5kZERJaWlrRy5Uq5Nv369aMZM2YQEdHs2bNp6NChJJVKFe4fACUkJBARUWFhIQGgzMxMuTqBgYHk6+sre+7r60uTJk2SPd+8eTNZWlpSbW0tERH9/e9/p1WrVsntY9euXWRhYaEwBiKi0NBQEggEpKenRxKJhAAQAIqKimqwDRHRzJkz6eOPP24w1rq+HR0d5V6D58+fk46ODh05ckThfjMzMwkA3bp1S678de+Vl/uXSqV07NgxEovFNH/+fCIiOnHiBAGQta07zpEjR9aL4dKlSwSAioqKGn0NGGPvJm21ZdyMMY03ZMgQbNy4UfZcT08PwIvZz4iICFy7dg3l5eWoqalBZWUlnj17Bl1d3Xr7CQ4OxuTJk7Fr1y7Zz/V2dnYAXpwGkZ2djdjYWFl9IoJUKkVhYSF69OihMLaysjK0b98eUqkUlZWVeP/997Ft2zaUl5fjjz/+wMCBA+XqDxw4EJcuXQLw4jSFDz/8EI6Ojhg2bBg++ugj/OMf/3ir1yogIABTpkzBDz/8ALFYjNjYWHz22WcQCASy40xPT5eb4a2trW30dQMAR0dHHDx4EJWVlfjpp5+QlZWF2bNny9WJjo7G9u3bcevWLVRUVKCqqgrOzs6Nxnvp0iXcuHED+vr6cuWVlZW4efOmwjYVFRUAAIlEUm9bQ++VOocOHUL79u1RXV0NqVSKcePGISwsTK5OWloadHV18dtvv2HVqlXYtGlTvX50dHQAAM+ePWv0+Bhj7yZOfBljaqOnpwd7e3u5sqKiInz00UeYPn06Vq5cCWNjY5w6dQpBQUGoqqpSmMCFhYVh3LhxSExMxOHDhxEaGoq4uDiMHj0aT548wbRp0zBnzpx67Tp37txgbPr6+rh48SIEAgEsLCxkCVF5eflrj8vFxQWFhYU4fPgwjh8/Dj8/P3h6euLnn39+bduG+Pj4gIiQmJiIfv36IS0tDd99951s+5MnTxAeHo4xY8bUa6sokaxTtwoCAKxevRre3t4IDw/HihUrALw453b+/PmIjIyEh4cH9PX18e233+Ls2bONxvvkyRO4urrKfeGoY2pqqrCNiYkJAODhw4f16ih6r7ysLjEWiUSwtLSEtnb9f29du3aFkZERHB0dcffuXfj7++PkyZNydepWtGgoRsbYu40TX8ZYq3LhwgVIpVJERkbKZjPrzidtjIODAxwcHDBv3jyMHTsWO3bswOjRo+Hi4oKcnJxGkyZFBAKBwjYGBgawtLREeno6Bg8eLCtPT09H//795er5+/vD398fn3zyCYYNG4YHDx7A2NhYbn9155jW1tY2Go9EIsGYMWMQGxuLGzduwNHRES4uLrLtLi4uyMvLU/o4X7VkyRIMHToU06dPlx3ngAEDMGPGDFmdV2dsRSJRvfhdXFywZ88emJmZwcDA4I36trOzg4GBAXJycuDg4KBU3K9LjF81c+ZMREREICEhAaNHj5aVX7lyBVZWVrIknDHWtvDFbYyxVsXe3h7V1dXYsGEDCgoKsGvXLoU/SdepqKjArFmzkJqait9//x3p6ek4d+6c7BSGhQsX4vTp05g1axaysrJw/fp1HDhwQOmL2162YMECfPPNN9izZw/y8vIQEhKCrKwszJ07FwAQFRWF3bt349q1a8jPz0d8fDzMzc0VLk9mZmYGHR0dJCcno7S0tNE1ZAMCApCYmIjt27fLLmqrs2zZMvz3v/9FeHg4rl69itzcXMTFxWHJkiVKHZuHhwd69+6NVatWAQC6deuG8+fP48iRI8jPz8fSpUtx7tw5uTZdunRBdnY28vLycO/ePVRXVyMgIAAmJibw9fVFWloaCgsLkZqaijlz5uDOnTsK+xYIBPD09MSpU6eUirkpdHV1MWXKFISGhoKIZOVpaWlvfVoKY6z14sSXMdaq9OnTB1FRUfjmm2/Qq1cvxMbGyi0F9iqhUIj79+9jwoQJcHBwgJ+fH4YPH47w8HAAQO/evfHrr78iPz8fgwYNQt++fbFs2TJYWlo2OcY5c+YgODgYX375JZycnJCcnIyDBw+iW7duAF6cJrFmzRq4ubmhX79+KCoqQlJSkmwG+2Xa2tpYv349Nm/eDEtLS/j6+jbY79ChQ2FsbIy8vDyMGzdObpuXlxcOHTqEo0ePol+/fnjvvffw3Xff1VsP903MmzcP27Ztw+3btzFt2jSMGTMG/v7+cHd3x/379+VmfwFgypQpcHR0hJubG0xNTZGeng5dXV2cPHkSnTt3xpgxY9CjRw8EBQWhsrKy0RngyZMnIy4urt7SbS1h1qxZyM3NRXx8PIAX5x/v378fU6ZMafG+GWPqoUUvf9VljDHG1IiI4O7uLjtlRZU2btyIhIQEHD16VKX9MsZUh2d8GWOMtRpaWlrYsmXLa2+80RLatWuHDRs2qLxfxpjq8IwvY4wxxhjTCDzjyxhjjDHGNAInvowxxhhjTCNw4ssYY4wxxjQCJ76MMcYYY0wjcOLLGGOMMcY0Aie+jDHGGGNMI3DiyxhjjDHGNAInvowxxhhjTCNw4ssYY4wxxjTC/wPdNGL4BAzg6AAAAABJRU5ErkJggg==",
>>>>>>> dd7a1ba2cabeb68475d45c5ee16045a2c3c4dd94
      "text/plain": [
       "<Figure size 800x600 with 1 Axes>"
      ]
     },
     "metadata": {},
     "output_type": "display_data"
    },
    {
     "data": {
      "text/plain": [
<<<<<<< HEAD
       "0.8312234888653234"
=======
       "0.8437896158272971"
>>>>>>> dd7a1ba2cabeb68475d45c5ee16045a2c3c4dd94
      ]
     },
     "execution_count": 1282,
     "metadata": {},
     "output_type": "execute_result"
    }
   ],
   "source": [
    "plot_roc_auc(model, test_data, test_labels)"
   ]
  },
  {
   "cell_type": "code",
<<<<<<< HEAD
   "execution_count": 1283,
   "id": "a16b06e8",
=======
   "execution_count": 19,
   "id": "309e15cf",
>>>>>>> dd7a1ba2cabeb68475d45c5ee16045a2c3c4dd94
   "metadata": {
    "execution": {
     "iopub.execute_input": "2024-10-09T18:31:08.005936Z",
     "iopub.status.busy": "2024-10-09T18:31:08.005627Z",
     "iopub.status.idle": "2024-10-09T18:31:08.042107Z",
     "shell.execute_reply": "2024-10-09T18:31:08.041228Z"
    },
    "papermill": {
     "duration": 0.056216,
     "end_time": "2024-10-09T18:31:08.044018",
     "exception": false,
     "start_time": "2024-10-09T18:31:07.987802",
     "status": "completed"
    },
    "tags": []
   },
   "outputs": [],
   "source": [
    "# Test data evaluation\n",
    "\n",
    "data_test = pd.read_csv('D:\\PythonProjs\\CLARAi\\Data_test_temp\\data17.csv')\n",
    "label_test = pd.read_csv('D:\\PythonProjs\\CLARAi\\Label_test_temp\\label17.csv')\n",
    "\n",
    "# data_test = pd.read_csv('/kaggle/input/CLARAi/Data_test/data18.csv')\n",
    "# label_test = pd.read_csv('/kaggle/input/CLARAi/Label_test/label18.csv')\n",
    "\n",
    "data_test= data_test.to_numpy()\n",
    "label_test = label_test.to_numpy()\n",
    "\n",
    "sequence_length = CONFIG.seq_len\n",
    "input_size = CONFIG.data_ch\n",
    "\n",
    "\n",
    "# Calculate the number of complete sequences\n",
    "num_sequences = data_test.shape[0] // sequence_length  # 5 sequences\n",
    "\n",
    "# Truncate the data to have only complete sequences\n",
    "truncated_data = data_test[:num_sequences * sequence_length]  # Shape: (1280, 36)\n",
    "\n",
    "# Reshape to (num_sequences, sequence_length, input_size)\n",
    "test_sequences = truncated_data.reshape(num_sequences, sequence_length, input_size)  # Shape: (5, 256, 36)\n",
    "\n",
    "# Convert to PyTorch tensor\n",
    "test_sequences = torch.tensor(test_sequences, dtype=torch.float32)\n"
   ]
  },
  {
   "cell_type": "code",
<<<<<<< HEAD
   "execution_count": 1284,
   "id": "72c37da8",
=======
   "execution_count": 20,
   "id": "ec227e1d",
>>>>>>> dd7a1ba2cabeb68475d45c5ee16045a2c3c4dd94
   "metadata": {
    "execution": {
     "iopub.execute_input": "2024-10-09T18:31:08.080010Z",
     "iopub.status.busy": "2024-10-09T18:31:08.079709Z",
     "iopub.status.idle": "2024-10-09T18:31:08.103866Z",
     "shell.execute_reply": "2024-10-09T18:31:08.102866Z"
    },
    "papermill": {
     "duration": 0.04485,
     "end_time": "2024-10-09T18:31:08.106598",
     "exception": false,
     "start_time": "2024-10-09T18:31:08.061748",
     "status": "completed"
    },
    "tags": []
   },
   "outputs": [],
   "source": [
    "\n",
    "# Create DataLoader\n",
    "test_dataset = TensorDataset(test_sequences)\n",
    "test_loader = DataLoader(test_dataset, batch_size=2, shuffle=False)  # Adjust batch_size as needed\n",
    "\n",
    "# Perform inference\n",
    "all_outputs = []\n",
    "with torch.no_grad():\n",
    "    for batch in test_loader:\n",
    "        inputs = batch[0].to(device)  # (batch_size, 256, 36)\n",
    "        outputs = model(inputs)       # (batch_size, 256, 1)\n",
    "        all_outputs.append(outputs.cpu().numpy())\n",
    "\n",
    "# Concatenate all outputs\n",
    "all_outputs = np.concatenate(all_outputs, axis=0)  # Shape: (6, 256, 1)\n",
    "\n",
    "# Apply threshold to get binary predictions\n",
    "predictions = (all_outputs >= 0.5).astype(int)  # Shape: (6, 256, 1)\n",
    "predictions = predictions.squeeze(-1)           # Shape: (6, 256)\n",
    "# Flatten the predictions\n",
    "flattened_predictions = predictions.flatten()  # Shape: (1536,)\n",
    "\n",
    "true_label = label_test[:num_sequences * sequence_length].squeeze(-1)"
   ]
  },
  {
   "cell_type": "code",
<<<<<<< HEAD
   "execution_count": 1285,
   "id": "8184d224",
=======
   "execution_count": 21,
   "id": "05afcc52",
>>>>>>> dd7a1ba2cabeb68475d45c5ee16045a2c3c4dd94
   "metadata": {
    "execution": {
     "iopub.execute_input": "2024-10-09T18:31:08.143078Z",
     "iopub.status.busy": "2024-10-09T18:31:08.142773Z",
     "iopub.status.idle": "2024-10-09T18:31:08.392417Z",
     "shell.execute_reply": "2024-10-09T18:31:08.391530Z"
    },
    "papermill": {
     "duration": 0.269808,
     "end_time": "2024-10-09T18:31:08.394328",
     "exception": false,
     "start_time": "2024-10-09T18:31:08.124520",
     "status": "completed"
    },
    "tags": []
   },
   "outputs": [
    {
     "name": "stdout",
     "output_type": "stream",
     "text": [
      "Confusion Matrix:\n",
<<<<<<< HEAD
      "[[133 108]\n",
      " [132 267]]\n",
=======
      "[[744  69]\n",
      " [198  13]]\n",
>>>>>>> dd7a1ba2cabeb68475d45c5ee16045a2c3c4dd94
      "\n",
      "Classification Report:\n",
      "              precision    recall  f1-score   support\n",
      "\n",
<<<<<<< HEAD
      "           0       0.50      0.55      0.53       241\n",
      "           1       0.71      0.67      0.69       399\n",
      "\n",
      "    accuracy                           0.62       640\n",
      "   macro avg       0.61      0.61      0.61       640\n",
      "weighted avg       0.63      0.62      0.63       640\n",
=======
      "           0       0.79      0.92      0.85       813\n",
      "           1       0.16      0.06      0.09       211\n",
      "\n",
      "    accuracy                           0.74      1024\n",
      "   macro avg       0.47      0.49      0.47      1024\n",
      "weighted avg       0.66      0.74      0.69      1024\n",
>>>>>>> dd7a1ba2cabeb68475d45c5ee16045a2c3c4dd94
      "\n"
     ]
    },
    {
     "data": {
<<<<<<< HEAD
      "image/png": "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",
=======
      "image/png": "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",
>>>>>>> dd7a1ba2cabeb68475d45c5ee16045a2c3c4dd94
      "text/plain": [
       "<Figure size 600x500 with 2 Axes>"
      ]
     },
     "metadata": {},
     "output_type": "display_data"
    }
   ],
   "source": [
    "cm = confusion_matrix(true_label, flattened_predictions)\n",
    "print(\"Confusion Matrix:\")\n",
    "print(cm)\n",
    "\n",
    "# Optional: Detailed classification report\n",
    "print(\"\\nClassification Report:\")\n",
    "print(classification_report(true_label, flattened_predictions))\n",
    "\n",
    "# Optional: Visualize the confusion matrix\n",
    "labels = ['Negative', 'Positive']\n",
    "cm_df = pd.DataFrame(cm, index=labels, columns=labels)\n",
    "\n",
    "plt.figure(figsize=(6,5))\n",
    "sns.heatmap(cm_df, annot=True, fmt='d', cmap='Blues')\n",
    "plt.ylabel('Actual')\n",
    "plt.xlabel('Predicted')\n",
    "plt.title('Confusion Matrix')\n",
    "plt.show()"
   ]
  }
 ],
 "metadata": {
  "kaggle": {
   "accelerator": "nvidiaTeslaT4",
   "dataSources": [
    {
     "datasetId": 5754676,
     "sourceId": 9588403,
     "sourceType": "datasetVersion"
    }
   ],
   "dockerImageVersionId": 30776,
   "isGpuEnabled": true,
   "isInternetEnabled": true,
   "language": "python",
   "sourceType": "notebook"
  },
  "kernelspec": {
   "display_name": "torchwin",
   "language": "python",
   "name": "python3"
  },
  "language_info": {
   "codemirror_mode": {
    "name": "ipython",
    "version": 3
   },
   "file_extension": ".py",
   "mimetype": "text/x-python",
   "name": "python",
   "nbconvert_exporter": "python",
   "pygments_lexer": "ipython3",
   "version": "3.10.14"
  },
  "papermill": {
   "default_parameters": {},
   "duration": 250.966724,
   "end_time": "2024-10-09T18:31:10.989083",
   "environment_variables": {},
   "exception": null,
   "input_path": "__notebook__.ipynb",
   "output_path": "__notebook__.ipynb",
   "parameters": {},
   "start_time": "2024-10-09T18:27:00.022359",
   "version": "2.6.0"
  }
 },
 "nbformat": 4,
 "nbformat_minor": 5
}
